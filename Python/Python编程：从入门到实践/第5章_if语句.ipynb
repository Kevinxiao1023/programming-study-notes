{
 "cells": [
  {
   "cell_type": "markdown",
   "id": "ab1b119b",
   "metadata": {},
   "source": [
    "# 第5章 if语句"
   ]
  },
  {
   "cell_type": "markdown",
   "id": "d52faad3",
   "metadata": {},
   "source": [
    "Python中，if语句让你能够检查程序的当前状态，并据此采取相应的措施。"
   ]
  },
  {
   "cell_type": "markdown",
   "id": "4e8ceaab",
   "metadata": {},
   "source": [
    "* 本章将学习条件测试，以检查感兴趣的任何条件。   \n",
    "* 学习简单的if语句，以及创建一系列复杂的if语句来确定当前到底处于什么情形。   \n",
    "* 把学到的知识应用于列表，以编写for循环，**以一种方式处理列表中的大多数元素，并以另一种不同的方式处理包含特定值的元素**。"
   ]
  },
  {
   "cell_type": "markdown",
   "id": "e4f583f2",
   "metadata": {},
   "source": [
    "## 5.1 一个简单示例"
   ]
  },
  {
   "cell_type": "code",
   "execution_count": 1,
   "id": "ec07be80",
   "metadata": {},
   "outputs": [
    {
     "name": "stdout",
     "output_type": "stream",
     "text": [
      "Audi\n",
      "BMW\n",
      "Subaru\n",
      "Toyota\n"
     ]
    }
   ],
   "source": [
    "cars = ['audi', 'bmw', 'subaru', 'toyota']\n",
    "for car in cars:\n",
    "    if car == 'bmw':\n",
    "        print(car.upper())\n",
    "    else:\n",
    "        print(car.title())"
   ]
  },
  {
   "cell_type": "markdown",
   "id": "d344b6c0",
   "metadata": {},
   "source": [
    "这个示例中的循环首先检查当前的汽车名是否是'bmw'。如果是，就以全大写的方式打印它；否则就以首字母大写的方式打印"
   ]
  },
  {
   "cell_type": "markdown",
   "id": "725495c3",
   "metadata": {},
   "source": [
    "## 5.2 条件测试"
   ]
  },
  {
   "cell_type": "markdown",
   "id": "f362f60d",
   "metadata": {},
   "source": [
    "* 每条if语句的*核心*都是一个**值为True或False的表达式**，这种表达式被称为<u>条件测试</u>。   \n",
    "* Python根据条件测试的值为True还是False来决定是否执行if语句中的代码。   \n",
    "* 如果条件测试的值为True，Python就执行紧跟在if语句后面的代码；如果为False，Python就忽略这些代码。"
   ]
  },
  {
   "cell_type": "markdown",
   "id": "492f5836",
   "metadata": {},
   "source": [
    "### 5.2.1 检查是否相等"
   ]
  },
  {
   "cell_type": "markdown",
   "id": "b8235749",
   "metadata": {},
   "source": [
    "大多数条件测试都将一个变量的当前值同特定值进行比较。最简单的条件测试检查变量的值是否与特定值相等："
   ]
  },
  {
   "cell_type": "code",
   "execution_count": 2,
   "id": "4ac56c3c",
   "metadata": {},
   "outputs": [
    {
     "data": {
      "text/plain": [
       "True"
      ]
     },
     "execution_count": 2,
     "metadata": {},
     "output_type": "execute_result"
    }
   ],
   "source": [
    "car = 'bmw'\n",
    "car == 'bmw'"
   ]
  },
  {
   "cell_type": "markdown",
   "id": "3d779034",
   "metadata": {},
   "source": [
    "使用两个等号（==）检查car的值是否为'bmw'。这个**相等运算符**在它两边的值相等时返回True，否则返回False。在这个示例中，两边的值相等，因此Python返回True。"
   ]
  },
  {
   "cell_type": "code",
   "execution_count": 3,
   "id": "5dd39445",
   "metadata": {},
   "outputs": [
    {
     "data": {
      "text/plain": [
       "False"
      ]
     },
     "execution_count": 3,
     "metadata": {},
     "output_type": "execute_result"
    }
   ],
   "source": [
    "car = 'audi'\n",
    "car == 'bmw'"
   ]
  },
  {
   "cell_type": "markdown",
   "id": "96f7cec8",
   "metadata": {},
   "source": [
    "1. 一个等号是陈述；可解读为“将变量car的值设置为'audi'”。   \n",
    "2. 两个等号是发问；可解读为“变量car的值是'bmw'吗？”。   \n",
    "大多数编程语言使用等号的方式都与这里演示的相同。"
   ]
  },
  {
   "cell_type": "markdown",
   "id": "cf39fda8",
   "metadata": {},
   "source": [
    "### 5.2.2 检查是否相等时不考虑大小写"
   ]
  },
  {
   "cell_type": "code",
   "execution_count": 4,
   "id": "3bbd9152",
   "metadata": {},
   "outputs": [
    {
     "data": {
      "text/plain": [
       "False"
      ]
     },
     "execution_count": 4,
     "metadata": {},
     "output_type": "execute_result"
    }
   ],
   "source": [
    "car = 'Audi'\n",
    "car == 'audi'"
   ]
  },
  {
   "cell_type": "markdown",
   "id": "d61fdbfb",
   "metadata": {},
   "source": [
    "如果大小写很重要，检查大小写的行为有其优点。但如果大小写无关紧要，而只想检查变量的值，可**将变量的值转换为小写**，再进行比较："
   ]
  },
  {
   "cell_type": "code",
   "execution_count": 5,
   "id": "2c82c4ab",
   "metadata": {},
   "outputs": [
    {
     "data": {
      "text/plain": [
       "True"
      ]
     },
     "execution_count": 5,
     "metadata": {},
     "output_type": "execute_result"
    }
   ],
   "source": [
    "car = 'Audi'\n",
    "car.lower() == 'audi'"
   ]
  },
  {
   "cell_type": "markdown",
   "id": "db9c9802",
   "metadata": {},
   "source": [
    "无论值'Audi'的大小写如何，上述测试都将返回True，因为该测试不区分大小写。**函数lower( )**不会修改存储在变量car中的值，因此进行这样的比较时不会影响原来的变量："
   ]
  },
  {
   "cell_type": "code",
   "execution_count": 8,
   "id": "a1f680ca",
   "metadata": {},
   "outputs": [
    {
     "data": {
      "text/plain": [
       "True"
      ]
     },
     "execution_count": 8,
     "metadata": {},
     "output_type": "execute_result"
    }
   ],
   "source": [
    "car = 'Audi'\n",
    "car.lower() == 'audi'"
   ]
  },
  {
   "cell_type": "code",
   "execution_count": 9,
   "id": "7402bb56",
   "metadata": {},
   "outputs": [
    {
     "data": {
      "text/plain": [
       "'Audi'"
      ]
     },
     "execution_count": 9,
     "metadata": {},
     "output_type": "execute_result"
    }
   ],
   "source": [
    "car = 'Audi'\n",
    "car.lower() == 'audi'\n",
    "car"
   ]
  },
  {
   "cell_type": "markdown",
   "id": "65380ce7",
   "metadata": {},
   "source": [
    "1. 首字母大写的字符串'Audi'存储在变量car中；   \n",
    "2. 我们获取变量car的值并将其转换为小写，再将结果与字符串'audi'进行比较。这两个字符串相同，因此Python返回True。   \n",
    "3. 根据最后的输出可知，这个**条件测试**并没有影响存储在变量car中的值。"
   ]
  },
  {
   "cell_type": "markdown",
   "id": "82767c63",
   "metadata": {},
   "source": [
    "网站采用类似的方式让用户输入的数据符合特定的格式。例如，网站可能使用类似的测试来**确保用户名是独一无二的**，而并非只是与另一个用户名的大小写不同。用户提交新的用户名时，将把它转换为小写，并与所有既有用户名的小写版本进行比较。执行这种检查时，如果已经有用户名'john'（不管大小写如何），则用户提交用户名'John'时将遭到拒绝。"
   ]
  },
  {
   "cell_type": "markdown",
   "id": "9ea03080",
   "metadata": {},
   "source": [
    "### 5.2.3 检查是否不相等"
   ]
  },
  {
   "cell_type": "markdown",
   "id": "6e82e2a3",
   "metadata": {},
   "source": [
    "要判断两个值是否不等，可结合使用惊叹号和等号（!=），其中的惊叹号表示不，在很多编程语言中都如此。"
   ]
  },
  {
   "cell_type": "code",
   "execution_count": 10,
   "id": "2e74b527",
   "metadata": {},
   "outputs": [
    {
     "name": "stdout",
     "output_type": "stream",
     "text": [
      "Hold the anchovies!\n"
     ]
    }
   ],
   "source": [
    "requested_topping = 'mushrooms'\n",
    "if requested_topping != 'anchovies':\n",
    "    print(\"Hold the anchovies!\")"
   ]
  },
  {
   "cell_type": "markdown",
   "id": "0f1b5397",
   "metadata": {},
   "source": [
    "第一行的代码行将requested_topping的值与'anchovies'进行比较，   \n",
    "1. 如果它们不相等，Python将返回True，进而执行紧跟在if语句后面的代码；   \n",
    "2. 如果这两个值相等，Python将返回False，因此不执行紧跟在if语句后面的代码。"
   ]
  },
  {
   "cell_type": "markdown",
   "id": "0ad378f3",
   "metadata": {},
   "source": [
    "你编写的大多数条件表达式都检查两个值是否相等，但**有时候检查两个值是否不等的效率更高**。"
   ]
  },
  {
   "cell_type": "markdown",
   "id": "7b84413d",
   "metadata": {},
   "source": [
    "### 5.2.4 比较数字"
   ]
  },
  {
   "cell_type": "code",
   "execution_count": 11,
   "id": "9b3adf6b",
   "metadata": {},
   "outputs": [
    {
     "data": {
      "text/plain": [
       "True"
      ]
     },
     "execution_count": 11,
     "metadata": {},
     "output_type": "execute_result"
    }
   ],
   "source": [
    "age = 18\n",
    "age == 18"
   ]
  },
  {
   "cell_type": "code",
   "execution_count": 12,
   "id": "1276abec",
   "metadata": {},
   "outputs": [
    {
     "name": "stdout",
     "output_type": "stream",
     "text": [
      "That is not the correct answer. Please try again!\n"
     ]
    }
   ],
   "source": [
    "answer = 17\n",
    "if answer != 42:\n",
    "    print(\"That is not the correct answer. Please try again!\")"
   ]
  },
  {
   "cell_type": "markdown",
   "id": "534fe8f3",
   "metadata": {},
   "source": [
    "answer（17）不是42，if语句处的条件得到满足，因此缩进的代码块得以执行。"
   ]
  },
  {
   "cell_type": "markdown",
   "id": "d87aafcd",
   "metadata": {},
   "source": [
    "条件语句中可包含各种数学比较，如小于、小于等于、大于、大于等于："
   ]
  },
  {
   "cell_type": "code",
   "execution_count": 14,
   "id": "3557e89c",
   "metadata": {},
   "outputs": [
    {
     "data": {
      "text/plain": [
       "True"
      ]
     },
     "execution_count": 14,
     "metadata": {},
     "output_type": "execute_result"
    }
   ],
   "source": [
    "age = 19\n",
    "age < 21\n",
    "# <=\n",
    "# >\n",
    "# >="
   ]
  },
  {
   "cell_type": "markdown",
   "id": "5ee6a2a6",
   "metadata": {},
   "source": [
    "### 5.2.5 检查多个条件"
   ]
  },
  {
   "cell_type": "markdown",
   "id": "d56f2620",
   "metadata": {},
   "source": [
    "你可能想同时检查多个条件，例如，有时候你需要在两个条件都为True时才执行相应的操作，而有时候你只要求一个条件为True时就执行相应的操作。在这些情况下，**关键字and和or**可助你一臂之力。"
   ]
  },
  {
   "cell_type": "markdown",
   "id": "9514474c",
   "metadata": {},
   "source": [
    "### 1．使用and检查多个条件"
   ]
  },
  {
   "cell_type": "markdown",
   "id": "355f4513",
   "metadata": {},
   "source": [
    "要检查是否两个条件都为True，可使用关键字and将两个条件测试合而为一；   \n",
    "- 如果每个测试都通过了，整个表达式就为True；   \n",
    "- 如果至少有一个测试没有通过，整个表达式就为False。"
   ]
  },
  {
   "cell_type": "code",
   "execution_count": 19,
   "id": "6fa6a6b9",
   "metadata": {},
   "outputs": [
    {
     "data": {
      "text/plain": [
       "False"
      ]
     },
     "execution_count": 19,
     "metadata": {},
     "output_type": "execute_result"
    }
   ],
   "source": [
    "age_0 = 22\n",
    "age_1 = 18\n",
    "age_0 >= 21 and age_1 >= 21"
   ]
  },
  {
   "cell_type": "code",
   "execution_count": 18,
   "id": "f8b8d455",
   "metadata": {},
   "outputs": [
    {
     "data": {
      "text/plain": [
       "True"
      ]
     },
     "execution_count": 18,
     "metadata": {},
     "output_type": "execute_result"
    }
   ],
   "source": [
    "age_0 = 22\n",
    "age_1 = 22\n",
    "age_0 >= 21 and age_1 >= 21"
   ]
  },
  {
   "cell_type": "markdown",
   "id": "4f4e0be7",
   "metadata": {},
   "source": [
    "为改善可读性，可**将每个测试都分别放在一对括号内**，但并非必须这样做。如果你使用括号，测试将类似于下面这样："
   ]
  },
  {
   "cell_type": "code",
   "execution_count": 17,
   "id": "74165985",
   "metadata": {},
   "outputs": [
    {
     "data": {
      "text/plain": [
       "True"
      ]
     },
     "execution_count": 17,
     "metadata": {},
     "output_type": "execute_result"
    }
   ],
   "source": [
    "age_0 = 22\n",
    "age_1 = 22\n",
    "(age_0 >= 21) and (age_1 >= 21)"
   ]
  },
  {
   "cell_type": "markdown",
   "id": "a3ebce64",
   "metadata": {},
   "source": [
    "### 2．使用or检查多个条件"
   ]
  },
  {
   "cell_type": "markdown",
   "id": "29f68688",
   "metadata": {},
   "source": [
    "关键字or也能够让你检查多个条件，但只要至少有一个条件满足，就能通过整个测试。仅当两个测试都没有通过时，使用or的表达式才为False。"
   ]
  },
  {
   "cell_type": "code",
   "execution_count": 20,
   "id": "773c9958",
   "metadata": {},
   "outputs": [
    {
     "data": {
      "text/plain": [
       "True"
      ]
     },
     "execution_count": 20,
     "metadata": {},
     "output_type": "execute_result"
    }
   ],
   "source": [
    "age_0 = 22\n",
    "age_1 = 18\n",
    "age_0 >= 21 or age_1 >= 21"
   ]
  },
  {
   "cell_type": "code",
   "execution_count": 21,
   "id": "fcac2d2b",
   "metadata": {},
   "outputs": [
    {
     "data": {
      "text/plain": [
       "False"
      ]
     },
     "execution_count": 21,
     "metadata": {},
     "output_type": "execute_result"
    }
   ],
   "source": [
    "age_0 = 18\n",
    "age_1 = 18\n",
    "age_0 >= 21 or age_1 >= 21"
   ]
  },
  {
   "cell_type": "markdown",
   "id": "f787e076",
   "metadata": {},
   "source": [
    "### 5.2.6 检查特定值是否包含在列表中"
   ]
  },
  {
   "cell_type": "markdown",
   "id": "fa358b77",
   "metadata": {},
   "source": [
    "有时候，执行操作前必须检查列表是否包含特定的值。例如，   \n",
    "1. 结束用户的注册过程前，可能需要检查他提供的用户名是否已包含在用户名列表中。   \n",
    "2. 在地图程序中，可能需要检查用户提交的位置是否包含在已知位置列表中。   \n",
    "\n",
    "要判断特定的值是否已包含在列表中，可使用**关键字in**。"
   ]
  },
  {
   "cell_type": "code",
   "execution_count": 22,
   "id": "e2564cc3",
   "metadata": {},
   "outputs": [
    {
     "data": {
      "text/plain": [
       "True"
      ]
     },
     "execution_count": 22,
     "metadata": {},
     "output_type": "execute_result"
    }
   ],
   "source": [
    "requested_toppings = ['mushrooms', 'onions', 'pineapple']\n",
    "'mushrooms' in requested_toppings"
   ]
  },
  {
   "cell_type": "code",
   "execution_count": 24,
   "id": "47887f35",
   "metadata": {},
   "outputs": [
    {
     "data": {
      "text/plain": [
       "False"
      ]
     },
     "execution_count": 24,
     "metadata": {},
     "output_type": "execute_result"
    }
   ],
   "source": [
    "requested_toppings = ['mushrooms', 'onions', 'pineapple']\n",
    "'pepperoni' in requested_toppings"
   ]
  },
  {
   "cell_type": "markdown",
   "id": "47bd873c",
   "metadata": {},
   "source": [
    "### 5.2.7 检查特定值是否不包含在列表中"
   ]
  },
  {
   "cell_type": "markdown",
   "id": "201ab7b1",
   "metadata": {},
   "source": [
    "确定特定的值未包含在列表中很重要；在这种情况下，可使用**关键字not in**。"
   ]
  },
  {
   "cell_type": "code",
   "execution_count": 25,
   "id": "90df004c",
   "metadata": {},
   "outputs": [
    {
     "name": "stdout",
     "output_type": "stream",
     "text": [
      "Marie, you can post a response if you wish.\n"
     ]
    }
   ],
   "source": [
    "banned_users = ['andrews', 'carolina', 'david']\n",
    "user = 'marie'\n",
    "if user not in banned_users:\n",
    "    print(user.title()+\", you can post a response if you wish.\")"
   ]
  },
  {
   "cell_type": "markdown",
   "id": "e4794362",
   "metadata": {},
   "source": [
    "### 5.2.8 布尔表达式"
   ]
  },
  {
   "cell_type": "markdown",
   "id": "63cc9725",
   "metadata": {},
   "source": [
    "布尔表达式，它不过是条件测试的别名。与条件表达式一样，布尔表达式的结果要么为True，要么为False。"
   ]
  },
  {
   "cell_type": "markdown",
   "id": "d864cade",
   "metadata": {},
   "source": [
    "布尔值通常用于记录条件，如游戏是否正在运行，或用户是否可以编辑网站的特定内容:   \n",
    "game_active = True   \n",
    "can_edit = False"
   ]
  },
  {
   "cell_type": "markdown",
   "id": "9f7b4cdd",
   "metadata": {},
   "source": [
    "### 动手试一试"
   ]
  },
  {
   "cell_type": "markdown",
   "id": "6f67c806",
   "metadata": {},
   "source": [
    "#### 5-1 条件测试：编写一系列条件测试；将每个测试以及你对其结果的预测和实际结果都打印出来。   \n",
    "* 详细研究实际结果，直到你明白了它为何为True或False。   \n",
    "* 创建至少10个测试，且其中结果分别为True和False的测试都至少有5个。"
   ]
  },
  {
   "cell_type": "code",
   "execution_count": 30,
   "id": "ff9a806e",
   "metadata": {},
   "outputs": [
    {
     "name": "stdout",
     "output_type": "stream",
     "text": [
      "\n",
      "Is car == 'audi'? I predict False.\n",
      "False\n"
     ]
    }
   ],
   "source": [
    "car = 'audi'\n",
    "if car == 'subaru':\n",
    "    print(\"Is car == 'subaru'? I predict True.\")\n",
    "    print(car == 'subaru')\n",
    "if car == 'audi':\n",
    "    print(\"\\nIs car == 'audi'? I predict False.\")\n",
    "    print(car == 'subaru')"
   ]
  },
  {
   "cell_type": "markdown",
   "id": "f11c647b",
   "metadata": {},
   "source": [
    "#### 5-2 更多的条件测试：你并非只能创建10个测试。如果你想尝试做更多的比较，可再编写一些测试，并将它们加入到conditional_tests.py中。对于下面列出的各种测试，至少编写一个结果为True和False的测试。   \n",
    "* 检查两个字符串相等和不等。   \n",
    "* 使用函数lower()的测试。   \n",
    "* 检查两个数字相等、不等、大于、小于、大于等于和小于等于。   \n",
    "* 使用关键字and和or的测试。   \n",
    "* 测试特定的值是否包含在列表中。   \n",
    "* 测试特定的值是否未包含在列表中。"
   ]
  },
  {
   "cell_type": "code",
   "execution_count": 34,
   "id": "c26e2d4c",
   "metadata": {},
   "outputs": [
    {
     "name": "stdout",
     "output_type": "stream",
     "text": [
      "False\n"
     ]
    }
   ],
   "source": [
    "str1 = 'gavin'\n",
    "str2 = 'Gavin'\n",
    "# 区分大小写，所以str1与str2不相等\n",
    "if str2.lower() == 'gavin':\n",
    "    print(str1 == str2)"
   ]
  },
  {
   "cell_type": "markdown",
   "id": "116c6253",
   "metadata": {},
   "source": [
    "## 5.3 if语句"
   ]
  },
  {
   "cell_type": "markdown",
   "id": "56ff072e",
   "metadata": {},
   "source": [
    "### 5.3.1 简单的if语句"
   ]
  },
  {
   "cell_type": "markdown",
   "id": "334b0b78",
   "metadata": {},
   "source": [
    "最简单的if语句只有一个测试和一个操作：   \n",
    "if conditional_test:   \n",
    "    do something   "
   ]
  },
  {
   "cell_type": "markdown",
   "id": "14c7b7cf",
   "metadata": {},
   "source": [
    "在第1行中，可包含任何条件测试，而在紧跟在测试后面的缩进代码块中，可执行任何操作。如果条件测试的结果为True，Python就会执行紧跟在if语句后面的代码；否则Python将忽略这些代码。"
   ]
  },
  {
   "cell_type": "code",
   "execution_count": 36,
   "id": "a3161b63",
   "metadata": {},
   "outputs": [
    {
     "name": "stdout",
     "output_type": "stream",
     "text": [
      "You are old enough to vote!\n"
     ]
    }
   ],
   "source": [
    "age = 19\n",
    "if age >= 18:\n",
    "    print(\"You are old enough to vote!\")"
   ]
  },
  {
   "cell_type": "markdown",
   "id": "af6e48e0",
   "metadata": {},
   "source": [
    "Python检查变量age的值是否大于或等于18；答案是肯定的，因此Python执行缩进的print语句。"
   ]
  },
  {
   "cell_type": "markdown",
   "id": "13a2dd4c",
   "metadata": {},
   "source": [
    "在if语句中，**缩进的作用与for循环中相同**。如果测试通过了，将执行if语句后面所有缩进的代码行，否则将忽略它们。"
   ]
  },
  {
   "cell_type": "code",
   "execution_count": 37,
   "id": "8792be4d",
   "metadata": {},
   "outputs": [
    {
     "name": "stdout",
     "output_type": "stream",
     "text": [
      "You are old enough to vote!\n",
      "Have you registered to vote yet?\n"
     ]
    }
   ],
   "source": [
    "age = 19\n",
    "if age >= 18:\n",
    "    print(\"You are old enough to vote!\")\n",
    "    print(\"Have you registered to vote yet?\")"
   ]
  },
  {
   "cell_type": "markdown",
   "id": "ff5d6860",
   "metadata": {},
   "source": [
    "### 5.3.2 if-else语句"
   ]
  },
  {
   "cell_type": "markdown",
   "id": "5fd400b1",
   "metadata": {},
   "source": [
    "经常需要在条件测试通过了时执行一个操作，并在没有通过时执行另一个操作；在这种情况下，可使用Python提供的if-else语句。if-else语句块类似于简单的if语句，但其中的else语句让你能够指定条件测试未通过时要执行的操作。"
   ]
  },
  {
   "cell_type": "code",
   "execution_count": 1,
   "id": "54160e33",
   "metadata": {},
   "outputs": [
    {
     "name": "stdout",
     "output_type": "stream",
     "text": [
      "Sorry, you are too young to vote.\n",
      "Please register to vote as soon as you turn 18!\n"
     ]
    }
   ],
   "source": [
    "age = 17\n",
    "if age >= 18:\n",
    "    print(\"You are old enough to vote!\")\n",
    "    print(\"Have you registered to vote yet?\")\n",
    "else:\n",
    "    print(\"Sorry, you are too young to vote.\")\n",
    "    print(\"Please register to vote as soon as you turn 18!\")"
   ]
  },
  {
   "cell_type": "markdown",
   "id": "fd53bddd",
   "metadata": {},
   "source": [
    "if-else结构非常适合用于要让Python执行两种操作之一的情形。在这种简单的if-else结构中，总是会执行两个操作中的一个。"
   ]
  },
  {
   "cell_type": "markdown",
   "id": "f3d88e57",
   "metadata": {},
   "source": [
    "### 5.3.3 if-elif-else结构"
   ]
  },
  {
   "cell_type": "markdown",
   "id": "89e5d13d",
   "metadata": {},
   "source": [
    "经常**需要检查超过两个的情形**，为此可使用Python提供的if-elif-else结构。Python只执行if-elif-else结构中的一个代码块，它依次检查每个条件测试，直到遇到通过了的条件测试。测试通过后，Python将执行紧跟在它后面的代码，并跳过余下的测试。"
   ]
  },
  {
   "cell_type": "code",
   "execution_count": 2,
   "id": "248f6de3",
   "metadata": {},
   "outputs": [
    {
     "name": "stdout",
     "output_type": "stream",
     "text": [
      "Your admission cost is $5.\n"
     ]
    }
   ],
   "source": [
    "age = 12\n",
    "if age < 4:\n",
    "    print(\"Your admission cost is $0.\")\n",
    "elif age < 18:\n",
    "    print(\"Your admission cost is $5.\")\n",
    "else:\n",
    "    print(\"Your admission cost is $10.\")"
   ]
  },
  {
   "cell_type": "markdown",
   "id": "8afabf36",
   "metadata": {},
   "source": [
    "为让代码更简洁，可不在if-elif-else代码块中打印门票价格，而只在其中设置门票价格，并在它后面添加一条简单的print语句："
   ]
  },
  {
   "cell_type": "code",
   "execution_count": 4,
   "id": "0dd38d17",
   "metadata": {},
   "outputs": [
    {
     "name": "stdout",
     "output_type": "stream",
     "text": [
      "Your admission cost is $5.\n"
     ]
    }
   ],
   "source": [
    "age = 12\n",
    "if age < 4:\n",
    "    price = 0\n",
    "elif age < 18:\n",
    "    price = 5\n",
    "else:\n",
    "    price = 10\n",
    "print(\"Your admission cost is $\"+str(price)+\".\")"
   ]
  },
  {
   "cell_type": "markdown",
   "id": "b03b6c82",
   "metadata": {},
   "source": [
    "除效率更高外，这些修订后的代码还更容易修改：要调整输出消息的内容，只需修改一条而不是三条print语句。"
   ]
  },
  {
   "cell_type": "markdown",
   "id": "3c7849a9",
   "metadata": {},
   "source": [
    "### 5.3.4 使用多个elif代码块"
   ]
  },
  {
   "cell_type": "code",
   "execution_count": 5,
   "id": "fe9ffce0",
   "metadata": {},
   "outputs": [
    {
     "name": "stdout",
     "output_type": "stream",
     "text": [
      "Your admission cost is $5.\n"
     ]
    }
   ],
   "source": [
    "age = 12\n",
    "if age < 4:\n",
    "    price = 0\n",
    "elif age < 18:\n",
    "    price = 5\n",
    "elif age < 65:\n",
    "    price = 10\n",
    "else:\n",
    "    price = 5\n",
    "print(\"Your admission cost is $\"+str(price)+\".\")"
   ]
  },
  {
   "cell_type": "markdown",
   "id": "bc760f66",
   "metadata": {},
   "source": [
    "### 5.3.5 省略else代码块"
   ]
  },
  {
   "cell_type": "markdown",
   "id": "d784f584",
   "metadata": {},
   "source": [
    "Python并不要求if-elif结构后面必须有else代码块。在有些情况下，else代码块很有用；而在其他一些情况下，使用一条elif语句来处理特定的情形更清晰："
   ]
  },
  {
   "cell_type": "code",
   "execution_count": 6,
   "id": "c7a6b0c0",
   "metadata": {},
   "outputs": [
    {
     "name": "stdout",
     "output_type": "stream",
     "text": [
      "Your admission cost is $5.\n"
     ]
    }
   ],
   "source": [
    "age = 12\n",
    "if age < 4:\n",
    "    price = 0\n",
    "elif age < 18:\n",
    "    price = 5\n",
    "elif age < 65:\n",
    "    price = 10\n",
    "elif age >= 65:\n",
    "    price = 5\n",
    "print(\"Your admission cost is $\"+str(price)+\".\")"
   ]
  },
  {
   "cell_type": "markdown",
   "id": "e92e0167",
   "metadata": {},
   "source": [
    "elif代码块在顾客的年龄超过65（含）时，将价格设置为5美元，这比使用else代码块更清晰些。经过这样的修改后，每个代码块都仅在通过了相应的测试时才会执行。"
   ]
  },
  {
   "cell_type": "markdown",
   "id": "76f5ea93",
   "metadata": {},
   "source": [
    "else是一条包罗万象的语句，只要不满足任何if或elif中的条件测试，其中的代码就会执行，这可能会引入无效甚至恶意的数据。如果知道最终要测试的条件，应考虑使用一个elif代码块来代替else代码块。这样，你就可以肯定，仅当满足相应的条件时，你的代码才会执行。"
   ]
  },
  {
   "cell_type": "markdown",
   "id": "f904a32d",
   "metadata": {},
   "source": [
    "### 5.3.6 测试多个条件"
   ]
  },
  {
   "cell_type": "markdown",
   "id": "e495ee0b",
   "metadata": {},
   "source": [
    "* if-elif-else结构功能强大，但仅适合用于只有一个条件满足的情况。   \n",
    "* 有时候必须检查你关心的所有条件。在这种情况下，应使用一系列不包含elif和else代码块的简单if语句。在可能有多个条件为True，且你需要在每个条件为True时都采取相应措施时，适合使用这种方法。"
   ]
  },
  {
   "cell_type": "code",
   "execution_count": 7,
   "id": "a3ce2bd4",
   "metadata": {},
   "outputs": [
    {
     "name": "stdout",
     "output_type": "stream",
     "text": [
      "Adding mushrooms.\n",
      "Adding extra cheese.\n",
      "\n",
      "Finished making your pizza!\n"
     ]
    }
   ],
   "source": [
    "requested_toppings = ['mushrooms', 'extra cheese']\n",
    "if 'mushrooms' in requested_toppings:\n",
    "    print(\"Adding mushrooms.\")\n",
    "if 'pepperoni' in requested_toppings:\n",
    "    print(\"Adding pepperoni.\")\n",
    "if 'extra cheese' in requested_toppings:\n",
    "    print(\"Adding extra cheese.\")\n",
    "print(\"\\nFinished making your pizza!\")"
   ]
  },
  {
   "cell_type": "markdown",
   "id": "d2eefacb",
   "metadata": {},
   "source": [
    "每当这个程序运行时，都会进行这三个独立的测试。"
   ]
  },
  {
   "cell_type": "code",
   "execution_count": 8,
   "id": "dfaf391e",
   "metadata": {},
   "outputs": [
    {
     "name": "stdout",
     "output_type": "stream",
     "text": [
      "Adding mushrooms.\n",
      "\n",
      "Finished making your pizza!\n"
     ]
    }
   ],
   "source": [
    "requested_toppings = ['mushrooms', 'extra cheese']\n",
    "if 'mushrooms' in requested_toppings:\n",
    "    print(\"Adding mushrooms.\")\n",
    "elif 'pepperoni' in requested_toppings:\n",
    "    print(\"Adding pepperoni.\")\n",
    "elif 'extra cheese' in requested_toppings:\n",
    "    print(\"Adding extra cheese.\")\n",
    "print(\"\\nFinished making your pizza!\")"
   ]
  },
  {
   "cell_type": "markdown",
   "id": "01bc466f",
   "metadata": {},
   "source": [
    "第一个测试检查列表中是否包含'mushrooms'，它通过了，因此将在比萨中添加蘑菇。然而，Python将跳过if-elif-else结构中余下的测试，不再检查列表中是否包含'extra cheese'和'pepperoni'。其结果是，将添加顾客点的第一种配料，但不会添加其他的配料。"
   ]
  },
  {
   "cell_type": "markdown",
   "id": "3e2d7b3b",
   "metadata": {},
   "source": [
    "总之，如果你只想执行一个代码块，就使用if-elif-else结构；如果要运行多个代码块，就使用一系列独立的if语句。"
   ]
  },
  {
   "cell_type": "markdown",
   "id": "45ce00af",
   "metadata": {},
   "source": [
    "### 动手试一试"
   ]
  },
  {
   "cell_type": "markdown",
   "id": "d3a7bcfb",
   "metadata": {},
   "source": [
    "### 5-3 外星人颜色#1：假设在游戏中刚射杀了一个外星人，请创建一个名为alien_color的变量，并将其设置为'green'、'yellow'或'red'。   \n",
    "* 编写一条if语句，检查外星人是否是绿色的；如果是，就打印一条消息，指出玩家获得了5个点。   \n",
    "* 编写这个程序的两个版本，在一个版本中上述测试通过了，而在另一个版本中未通过（未通过测试时没有输出）。"
   ]
  },
  {
   "cell_type": "code",
   "execution_count": 9,
   "id": "3fd83970",
   "metadata": {},
   "outputs": [
    {
     "name": "stdout",
     "output_type": "stream",
     "text": [
      "You get five points!\n"
     ]
    }
   ],
   "source": [
    "alien_color = 'green'\n",
    "if alien_color == 'green':\n",
    "    print(\"You get five points!\")"
   ]
  },
  {
   "cell_type": "code",
   "execution_count": 11,
   "id": "9876256c",
   "metadata": {},
   "outputs": [
    {
     "name": "stdout",
     "output_type": "stream",
     "text": [
      "You get ten points!\n"
     ]
    }
   ],
   "source": [
    "alien_color = 'red'\n",
    "if alien_color != 'green':\n",
    "    print(\"You get ten points!\")"
   ]
  },
  {
   "cell_type": "markdown",
   "id": "7f1faaa9",
   "metadata": {},
   "source": [
    "### 5-4 外星人颜色#2：像练习5-3那样设置外星人的颜色，并编写一个if-else结构。   \n",
    "* 如果外星人是绿色的，就打印一条消息，指出玩家因射杀该外星人获得了5个点。   \n",
    "* 如果外星人不是绿色的，就打印一条消息，指出玩家获得了10个点。    \n",
    "* 编写这个程序的两个版本，在一个版本中执行if代码块，而在另一个版本中执行else代码块。"
   ]
  },
  {
   "cell_type": "code",
   "execution_count": 13,
   "id": "7151934f",
   "metadata": {},
   "outputs": [
    {
     "name": "stdout",
     "output_type": "stream",
     "text": [
      "You get five points!\n"
     ]
    }
   ],
   "source": [
    "alien_color = 'green'\n",
    "if alien_color == 'green':\n",
    "    print(\"You get five points!\")\n",
    "if alien_color != 'green':\n",
    "    print(\"You get ten points!\")"
   ]
  },
  {
   "cell_type": "code",
   "execution_count": 14,
   "id": "8f3b5f03",
   "metadata": {},
   "outputs": [
    {
     "name": "stdout",
     "output_type": "stream",
     "text": [
      "You get ten points!\n"
     ]
    }
   ],
   "source": [
    "alien_color = 'red'\n",
    "if alien_color == 'green':\n",
    "    print(\"You get five points!\")\n",
    "else:\n",
    "    print(\"You get ten points!\")"
   ]
  },
  {
   "cell_type": "markdown",
   "id": "fc74bc5c",
   "metadata": {},
   "source": [
    "### 5-5 外星人颜色#3：将练习5-4中的if-else结构改为if-elif-else结构。   \n",
    "* 如果外星人是绿色的，就打印一条消息，指出玩家获得了5个点。   \n",
    "* 如果外星人是黄色的，就打印一条消息，指出玩家获得了10个点。   \n",
    "* 如果外星人是红色的，就打印一条消息，指出玩家获得了15个点。   \n",
    "* 编写这个程序的三个版本，它们分别在外星人为绿色、黄色和红色时打印一条消息。"
   ]
  },
  {
   "cell_type": "code",
   "execution_count": 19,
   "id": "48a96055",
   "metadata": {},
   "outputs": [
    {
     "name": "stdout",
     "output_type": "stream",
     "text": [
      "You get 5 points!\n"
     ]
    }
   ],
   "source": [
    "alien_color = 'green'\n",
    "if alien_color == 'green':\n",
    "    score = 5\n",
    "elif alien_color == 'red':\n",
    "    score = 15\n",
    "elif alien_cokor == 'yellow':\n",
    "    score = 10\n",
    "print(\"You get \"+str(score)+\" points!\")"
   ]
  },
  {
   "cell_type": "code",
   "execution_count": 20,
   "id": "fec51bbc",
   "metadata": {},
   "outputs": [
    {
     "name": "stdout",
     "output_type": "stream",
     "text": [
      "You get 15 points!\n"
     ]
    }
   ],
   "source": [
    "alien_color = 'red'\n",
    "if alien_color == 'green':\n",
    "    score = 5\n",
    "elif alien_color == 'red':\n",
    "    score = 15\n",
    "else:\n",
    "    score = 10\n",
    "print(\"You get \"+str(score)+\" points!\")"
   ]
  },
  {
   "cell_type": "code",
   "execution_count": 21,
   "id": "176a6cf2",
   "metadata": {},
   "outputs": [
    {
     "name": "stdout",
     "output_type": "stream",
     "text": [
      "You get 10 points!\n"
     ]
    }
   ],
   "source": [
    "alien_color = 'yellow'\n",
    "if alien_color == 'green':\n",
    "    score = 5\n",
    "if alien_color == 'red':\n",
    "    score = 15\n",
    "if alien_color == 'yellow':\n",
    "    score = 10\n",
    "print(\"You get \"+str(score)+\" points!\")"
   ]
  },
  {
   "cell_type": "markdown",
   "id": "e871865a",
   "metadata": {},
   "source": [
    "### 5-6 人生的不同阶段：设置变量age的值，再编写一个if-elif-else结构，根据age的值判断处于人生的哪个阶段。   \n",
    "* 如果一个人的年龄小于2岁，就打印一条消息，指出他是婴儿。   \n",
    "* 如果一个人的年龄为2（含）～4岁，就打印一条消息，指出他正蹒跚学步。   \n",
    "* 如果一个人的年龄为4（含）～13岁，就打印一条消息，指出他是儿童。   \n",
    "* 如果一个人的年龄为13（含）～20岁，就打印一条消息，指出他是青少年。   \n",
    "* 如果一个人的年龄为20（含）～65岁，就打印一条消息，指出他是成年人。   \n",
    "* 如果一个人的年龄超过65（含）岁，就打印一条消息，指出他是老年人。"
   ]
  },
  {
   "cell_type": "code",
   "execution_count": 22,
   "id": "0de29d95",
   "metadata": {},
   "outputs": [
    {
     "name": "stdout",
     "output_type": "stream",
     "text": [
      "He is an adult.\n"
     ]
    }
   ],
   "source": [
    "age = 21\n",
    "if age < 2:\n",
    "    id = 'a baby'\n",
    "elif age < 4:\n",
    "    id = 'a toddler'\n",
    "elif age < 13:\n",
    "    id = 'a child'\n",
    "elif age < 20:\n",
    "    id = 'a teenager'\n",
    "elif age < 65:\n",
    "    id = 'an adult'\n",
    "else:\n",
    "    id = 'the elderly'\n",
    "print(\"He is \"+id+\".\")"
   ]
  },
  {
   "cell_type": "markdown",
   "id": "0154b626",
   "metadata": {},
   "source": [
    "### 5-7 喜欢的水果：创建一个列表，其中包含你喜欢的水果，再编写一系列独立的if语句，检查列表中是否包含特定的水果。   \n",
    "* 将该列表命名为favorite_fruits，并在其中包含三种水果。   \n",
    "* 编写5条if语句，每条都检查某种水果是否包含在列表中，如果包含在列表中，就打印一条消息，如“You really like bananas!”。"
   ]
  },
  {
   "cell_type": "code",
   "execution_count": 23,
   "id": "eeee5abe",
   "metadata": {},
   "outputs": [
    {
     "name": "stdout",
     "output_type": "stream",
     "text": [
      "You really like bananas!\n",
      "You really like apples!\n",
      "You really like grapes!\n"
     ]
    }
   ],
   "source": [
    "favorite_fruits = ['bananas', 'apples', 'grapes']\n",
    "if 'bananas' in favorite_fruits:\n",
    "    print(\"You really like bananas!\")\n",
    "if 'apples' in favorite_fruits:\n",
    "    print(\"You really like apples!\")\n",
    "if 'grapes' in favorite_fruits:\n",
    "    print(\"You really like grapes!\")\n",
    "if 'kiwi fruits' in favorite_fruits:\n",
    "    print(\"You really like kiwi fruits!\")\n",
    "if 'pineapples' in favorite_fruits:\n",
    "    print(\"You really like pineapples!\")"
   ]
  },
  {
   "cell_type": "markdown",
   "id": "010f9a3a",
   "metadata": {},
   "source": [
    "## 5.4 使用if语句处理列表"
   ]
  },
  {
   "cell_type": "markdown",
   "id": "6df3023d",
   "metadata": {},
   "source": [
    "通过结合使用if语句和列表，可完成一些有趣的任务：对列表中特定的值做特殊处理；高效地管理不断变化的情形，如餐馆是否还有特定的食材；证明代码在各种情形下都将按预期那样运行。"
   ]
  },
  {
   "cell_type": "markdown",
   "id": "395232c7",
   "metadata": {},
   "source": [
    "### 5.4.1 检查特殊元素"
   ]
  },
  {
   "cell_type": "code",
   "execution_count": 25,
   "id": "50f96ddd",
   "metadata": {},
   "outputs": [
    {
     "name": "stdout",
     "output_type": "stream",
     "text": [
      "Adding mushrooms.\n",
      "Adding green peppers.\n",
      "Adding extra cheese.\n",
      "\n",
      "Finished making your pizza!\n"
     ]
    }
   ],
   "source": [
    "requested_toppings = ['mushrooms', 'green peppers', 'extra cheese']\n",
    "for requested_topping in requested_toppings:\n",
    "    print(\"Adding \"+requested_topping+\".\")\n",
    "print(\"\\nFinished making your pizza!\")"
   ]
  },
  {
   "cell_type": "markdown",
   "id": "686da590",
   "metadata": {},
   "source": [
    "如果比萨店的青椒用完了，该如何处理呢？为妥善地处理这种情况，可在for循环中包含一条if语句:"
   ]
  },
  {
   "cell_type": "code",
   "execution_count": 26,
   "id": "95a50f01",
   "metadata": {},
   "outputs": [
    {
     "name": "stdout",
     "output_type": "stream",
     "text": [
      "Adding mushrooms.\n",
      "Sorry, we are out of green peppers right now.\n",
      "Adding extra cheese.\n",
      "\n",
      "Finished making your pizza!\n"
     ]
    }
   ],
   "source": [
    "requested_toppings = ['mushrooms', 'green peppers', 'extra cheese']\n",
    "for requested_topping in requested_toppings:\n",
    "    if requested_topping == 'green peppers':\n",
    "        print(\"Sorry, we are out of green peppers right now.\")\n",
    "    else:\n",
    "        print(\"Adding \"+requested_topping+\".\")\n",
    "print(\"\\nFinished making your pizza!\")"
   ]
  },
  {
   "cell_type": "markdown",
   "id": "7500544f",
   "metadata": {},
   "source": [
    "### 5.4.2 确定列表不是空的"
   ]
  },
  {
   "cell_type": "markdown",
   "id": "93a79ab9",
   "metadata": {},
   "source": [
    "我们马上就要让用户来提供存储在列表中的信息，因此不能再假设循环运行时列表不是空的。有鉴于此，在运行for循环前确定列表是否为空很重要。"
   ]
  },
  {
   "cell_type": "code",
   "execution_count": 28,
   "id": "5e6b7e88",
   "metadata": {},
   "outputs": [
    {
     "name": "stdout",
     "output_type": "stream",
     "text": [
      "Are you sure you want a plain pizza?\n"
     ]
    }
   ],
   "source": [
    "requested_toppings = []\n",
    "if requested_toppings:  ##重点\n",
    "    for requested_topping in requested_toppings:\n",
    "        print(\"Adding \"+requested_topping+\".\")\n",
    "    print(\"\\nFinished making your pizza!\")\n",
    "else:\n",
    "    print(\"Are you sure you want a plain pizza?\")"
   ]
  },
  {
   "cell_type": "markdown",
   "id": "e8059b06",
   "metadata": {},
   "source": [
    "首先创建了一个空列表，其中不包含任何配料。我们进行了简单检查，而不是直接执行for循环。   \n",
    "**在if语句中将列表名用在条件表达式中时，Python将在列表至少包含一个元素时返回True，并在列表为空时返回False。**   \n",
    "如果requested_toppings不为空，就运行与前一个示例相同的for循环；否则，就打印一条消息，询问顾客是否确实要点不加任何配料的普通比萨"
   ]
  },
  {
   "cell_type": "markdown",
   "id": "b4e8cc04",
   "metadata": {},
   "source": [
    "### 5.4.3 使用多个列表"
   ]
  },
  {
   "cell_type": "code",
   "execution_count": 30,
   "id": "18812c01",
   "metadata": {},
   "outputs": [
    {
     "name": "stdout",
     "output_type": "stream",
     "text": [
      "Adding mushrooms.\n",
      "Sorry, we don't have french fries.\n",
      "Adding extra cheese.\n",
      "\n",
      "Finished making your pizza!\n"
     ]
    }
   ],
   "source": [
    "available_toppings = ['mushrooms', 'olives', 'green peppers', 'pepperoni', 'pineapple', 'extra cheese']\n",
    "requested_toppings = ['mushrooms', 'french fries', 'extra cheese']\n",
    "for requested_topping in requested_toppings:\n",
    "    if requested_topping in available_toppings:\n",
    "        print(\"Adding \"+requested_topping+\".\")\n",
    "    else:\n",
    "        print(\"Sorry, we don't have \"+requested_topping+\".\")\n",
    "print(\"\\nFinished making your pizza!\")"
   ]
  },
  {
   "cell_type": "markdown",
   "id": "d2e74d19",
   "metadata": {},
   "source": [
    "定义了一个列表，其中包含比萨店供应的配料。请注意，如果比萨店供应的配料是固定的，也可使用一个元组来存储它们。我们又创建了一个列表，其中包含顾客点的配料，请注意那个不同寻常的配料——'french fries'。我们遍历顾客点的配料列表。在这个循环中，对于顾客点的每种配料，我们都检查它是否包含在供应的配料列表中；如果答案是肯定的，就将其加入到比萨中，否则将运行else代码块：打印一条消息，告诉顾客不供应这种配料。"
   ]
  },
  {
   "cell_type": "markdown",
   "id": "cd625bdf",
   "metadata": {},
   "source": [
    "### 动手试一试"
   ]
  },
  {
   "cell_type": "markdown",
   "id": "23fffb77",
   "metadata": {},
   "source": [
    "### 5-8 以特殊方式跟管理员打招呼：创建一个至少包含5个用户名的列表，且其中一个用户名为'admin'。想象你要编写代码，在每位用户登录网站后都打印一条问候消息。遍历用户名列表，并向每位用户打印一条问候消息。   \n",
    "* 如果用户名为'admin'，就打印一条特殊的问候消息，如“Hello admin, would you like to see a status report?”。   \n",
    "* 否则，打印一条普通的问候消息，如“Hello Eric, thank you for logging in again”。"
   ]
  },
  {
   "cell_type": "code",
   "execution_count": 31,
   "id": "ee75036b",
   "metadata": {},
   "outputs": [
    {
     "name": "stdout",
     "output_type": "stream",
     "text": [
      "Hello admin, would you like to see a status report?\n",
      "Hello Johnson, thank you for logging in again!\n",
      "Hello Kevin, thank you for logging in again!\n",
      "Hello Liliana, thank you for logging in again!\n",
      "Hello Helen, thank you for logging in again!\n"
     ]
    }
   ],
   "source": [
    "names = ['admin', 'Johnson', 'Kevin', 'Liliana', 'Helen']\n",
    "for name in names:\n",
    "    if name == 'admin':\n",
    "        print(\"Hello admin, would you like to see a status report?\")\n",
    "    else:\n",
    "        print(\"Hello \"+name+\", thank you for logging in again!\")"
   ]
  },
  {
   "cell_type": "markdown",
   "id": "dd53f3ae",
   "metadata": {},
   "source": [
    "### 5-9 处理没有用户的情形：在为完成练习5-8编写的程序中，添加一条if语句，检查用户名列表是否为空。   \n",
    "* 如果为空，就打印消息“We need to find some users!”。   \n",
    "* 删除列表中的所有用户名，确定将打印正确的消息。"
   ]
  },
  {
   "cell_type": "code",
   "execution_count": 32,
   "id": "4a516ab3",
   "metadata": {},
   "outputs": [
    {
     "name": "stdout",
     "output_type": "stream",
     "text": [
      "We need to find some users!\n"
     ]
    }
   ],
   "source": [
    "names = []\n",
    "if names:\n",
    "    for name in names:\n",
    "        if name == 'admin':\n",
    "            print(\"Hello admin, would you like to see a status report?\")\n",
    "        else:\n",
    "            print(\"Hello \"+name+\", thank you for logging in again!\")\n",
    "else:\n",
    "    print(\"We need to find some users!\")"
   ]
  },
  {
   "cell_type": "markdown",
   "id": "36441a0d",
   "metadata": {},
   "source": [
    "### 5-10 检查用户名：按下面的说明编写一个程序，模拟网站确保每位用户的用户名都独一无二的方式。   \n",
    "* 创建一个至少包含5个用户名的列表，并将其命名为current_users。   \n",
    "* 再创建一个包含5个用户名的列表，将其命名为new_users，并确保其中有一两个用户名也包含在列表current_users中。   \n",
    "* 遍历列表new_users，对于其中的每个用户名，都检查它是否已被使用。如果是这样，就打印一条消息，指出需要输入别的用户名；否则，打印一条消息，指出这个用户名未被使用。   \n",
    "* 确保比较时不区分大小写；换句话说，如果用户名'John'已被使用，应拒绝用户名'JOHN'。"
   ]
  },
  {
   "cell_type": "code",
   "execution_count": 35,
   "id": "f0a23839",
   "metadata": {},
   "outputs": [
    {
     "name": "stdout",
     "output_type": "stream",
     "text": [
      "Need to enter other names.\n",
      "Need to enter other names.\n",
      "This user name is available!\n",
      "This user name is available!\n",
      "This user name is available!\n"
     ]
    }
   ],
   "source": [
    "current_users = ['Eric', 'Johnson', 'Kevin', 'Liliana', 'Helen']\n",
    "new_users = ['KEVIN', 'Liliana', 'Rick', 'May', 'Leo']\n",
    "for user in new_users:\n",
    "    if user.lower() in [current_user.lower() for current_user in current_users]:\n",
    "        print(\"Need to enter other names.\")\n",
    "    else:\n",
    "        print(\"This user name is available!\")"
   ]
  },
  {
   "cell_type": "markdown",
   "id": "07366c12",
   "metadata": {},
   "source": [
    "### 5-11 序数：序数表示位置，如1st和2nd。大多数序数都以th结尾，只有1、2和3例外。   \n",
    "* 在一个列表中存储数字1～9。   \n",
    "* 遍历这个列表。   \n",
    "* 在循环中使用一个if-elif-else结构，以打印每个数字对应的序数。输出内容应为1st、2nd、3rd、4th、5th、6th、7th、8th和9th，但每个序数都独占一行。"
   ]
  },
  {
   "cell_type": "code",
   "execution_count": 36,
   "id": "84e96fd1",
   "metadata": {},
   "outputs": [
    {
     "name": "stdout",
     "output_type": "stream",
     "text": [
      "1st\n",
      "2nd\n",
      "3rd\n",
      "4th\n",
      "5th\n",
      "6th\n",
      "7th\n",
      "8th\n",
      "9th\n"
     ]
    }
   ],
   "source": [
    "numbers = list(range(1,10))\n",
    "for number in numbers:\n",
    "    if number == 1:\n",
    "        print(str(number)+\"st\")\n",
    "    elif number == 2:\n",
    "        print(str(number)+\"nd\")\n",
    "    elif number == 3:\n",
    "        print(str(number)+\"rd\")\n",
    "    else:\n",
    "        print(str(number)+\"th\")"
   ]
  },
  {
   "cell_type": "markdown",
   "id": "2afe3ba7",
   "metadata": {},
   "source": [
    "## 5.5 设置if语句的格式"
   ]
  },
  {
   "cell_type": "markdown",
   "id": "90213340",
   "metadata": {},
   "source": [
    "在条件测试的格式设置方面，PEP 8提供的唯一建议是，在诸如==、>=和<=等比较运算符**两边各添加一个空格**，例如，if age < 4:要比if age<4:好。"
   ]
  },
  {
   "cell_type": "markdown",
   "id": "3163a2da",
   "metadata": {},
   "source": [
    "## 5.6 小结"
   ]
  },
  {
   "cell_type": "markdown",
   "id": "408f515e",
   "metadata": {},
   "source": [
    "1. 学习了如何编写结果要么为True要么为False的条件测试。   \n",
    "2. 学习了如何编写简单的if语句、if-else语句和if-elif-else结构。在程序中，你使用了这些结构来测试特定的条件，以确定这些条件是否满足。   \n",
    "3. 学习了如何在利用高效的for循环的同时，以不同于其他元素的方式对特定的列表元素进行处理。   \n",
    "4. 再次学习了Python就代码格式方面提出的建议，这可确保即便你编写的程序越来越复杂，其代码依然易于阅读和理解。"
   ]
  }
 ],
 "metadata": {
  "kernelspec": {
   "display_name": "Python 3",
   "language": "python",
   "name": "python3"
  },
  "language_info": {
   "codemirror_mode": {
    "name": "ipython",
    "version": 3
   },
   "file_extension": ".py",
   "mimetype": "text/x-python",
   "name": "python",
   "nbconvert_exporter": "python",
   "pygments_lexer": "ipython3",
   "version": "3.8.8"
  }
 },
 "nbformat": 4,
 "nbformat_minor": 5
}

{
 "cells": [
  {
   "cell_type": "markdown",
   "id": "f89a92ce",
   "metadata": {},
   "source": [
    "# 6.1 一个简单的字典"
   ]
  },
  {
   "cell_type": "code",
   "execution_count": 1,
   "id": "02b15397",
   "metadata": {},
   "outputs": [
    {
     "name": "stdout",
     "output_type": "stream",
     "text": [
      "green\n",
      "5\n"
     ]
    }
   ],
   "source": [
    "alien_0 = {'color': 'green', 'points': 5}\n",
    "print(alien_0['color'])\n",
    "print(alien_0['points'])"
   ]
  },
  {
   "cell_type": "markdown",
   "id": "2f7e2afd",
   "metadata": {},
   "source": [
    "字典alien_0存储了外星人的颜色和点数。与大多数编程概念一样，要熟练使用字典，也需要一段时间的练习。"
   ]
  },
  {
   "cell_type": "markdown",
   "id": "93ddbec0",
   "metadata": {},
   "source": [
    "# 6.2 使用字典"
   ]
  },
  {
   "cell_type": "markdown",
   "id": "b99e7912",
   "metadata": {},
   "source": [
    "在Python中，**字典**是一系列**键—值对**。**每个键都与一个值相关联**，你可以使用键来访问与之相关联的值。与键相关联的值可以是数字、字符串、列表乃至字典。事实上，可将任何Python对象用作字典中的值。"
   ]
  },
  {
   "cell_type": "markdown",
   "id": "edb7fd4b",
   "metadata": {},
   "source": [
    "字典用放在**花括号{ }**中的一系列**键—值对**表示"
   ]
  },
  {
   "cell_type": "markdown",
   "id": "7c0a01bd",
   "metadata": {},
   "source": [
    "键—值对是两个相关联的值。指定键时，Python将返回与之相关联的值。**键和值之间用冒号分隔，而键—值对之间用逗号分隔**。"
   ]
  },
  {
   "cell_type": "markdown",
   "id": "dc5b276a",
   "metadata": {},
   "source": [
    "`alien_0 = {'color': 'green'}`"
   ]
  },
  {
   "cell_type": "markdown",
   "id": "4b4a0df2",
   "metadata": {},
   "source": [
    "最简单的字典只有一个键—值对，在这个字典中，字符串'color'是一个键，与之相关联的值为'green'。"
   ]
  },
  {
   "cell_type": "markdown",
   "id": "4b8b10b8",
   "metadata": {},
   "source": [
    "## 6.2.1 访问字典中的值"
   ]
  },
  {
   "cell_type": "markdown",
   "id": "af570b1a",
   "metadata": {},
   "source": [
    "要获取与键相关联的值，可依次指定**字典名**和**放在方括号内的键**："
   ]
  },
  {
   "cell_type": "markdown",
   "id": "b2e27835",
   "metadata": {},
   "source": [
    "`alien_0 = {'color': 'green'}\n",
    " print(alien_0['color'])`"
   ]
  },
  {
   "cell_type": "markdown",
   "id": "2fbfbf32",
   "metadata": {},
   "source": [
    "将返回字典alien_0中与键'color'相关联的值: 'green'。"
   ]
  },
  {
   "cell_type": "markdown",
   "id": "895f2cc9",
   "metadata": {},
   "source": [
    "字典中可包含**任意数量**的键—值对。"
   ]
  },
  {
   "cell_type": "code",
   "execution_count": 2,
   "id": "b223a151",
   "metadata": {},
   "outputs": [
    {
     "name": "stdout",
     "output_type": "stream",
     "text": [
      "You just earned 5 points!\n"
     ]
    }
   ],
   "source": [
    "alien_0 = {'color': 'green', 'points': 5}\n",
    "new_points = alien_0['points']\n",
    "print(\"You just earned \"+str(new_points)+\" points!\")"
   ]
  },
  {
   "cell_type": "markdown",
   "id": "a9bf71cf",
   "metadata": {},
   "source": [
    "## 6.2.2 添加键—值对"
   ]
  },
  {
   "cell_type": "markdown",
   "id": "2fd0feed",
   "metadata": {},
   "source": [
    "字典是一种动态结构，可随时在其中添加键—值对。要添加键—值对，可依次指定字典名、用方括号括起的键和相关联的值。"
   ]
  },
  {
   "cell_type": "markdown",
   "id": "22f06068",
   "metadata": {},
   "source": [
    "屏幕坐标系的原点通常为左上角，因此要将该外星人放在屏幕左边缘，可将x坐标设置为0；要将该外星人放在离屏幕顶部25像素的地方，可将y坐标设置为25:"
   ]
  },
  {
   "cell_type": "code",
   "execution_count": 3,
   "id": "1f997e71",
   "metadata": {},
   "outputs": [
    {
     "name": "stdout",
     "output_type": "stream",
     "text": [
      "{'color': 'green', 'points': 5}\n",
      "{'color': 'green', 'points': 5, 'x_position': 0, 'y_position': 25}\n"
     ]
    }
   ],
   "source": [
    "alien_0 = {'color': 'green', 'points': 5}\n",
    "print(alien_0)\n",
    "alien_0['x_position'] = 0\n",
    "alien_0['y_position'] = 25\n",
    "print(alien_0)"
   ]
  },
  {
   "cell_type": "markdown",
   "id": "36c68edb",
   "metadata": {},
   "source": [
    "这个字典的最终版本包含四个键—值对，其中原来的两个指定外星人的颜色和点数，而新增的两个指定位置。注意，键—值对的排列顺序与添加顺序不同。Python不关心键—值对的添加顺序，而只关心键和值之间的关联关系。"
   ]
  },
  {
   "cell_type": "markdown",
   "id": "8f40b369",
   "metadata": {},
   "source": [
    "## 6.2.3 先创建一个空字典"
   ]
  },
  {
   "cell_type": "code",
   "execution_count": 4,
   "id": "098da7c4",
   "metadata": {},
   "outputs": [
    {
     "name": "stdout",
     "output_type": "stream",
     "text": [
      "{'color': 'green', 'points': 5}\n"
     ]
    }
   ],
   "source": [
    "alien_0 = {}\n",
    "alien_0['color'] = 'green'\n",
    "alien_0['points'] = 5\n",
    "print(alien_0)"
   ]
  },
  {
   "cell_type": "markdown",
   "id": "3269fc08",
   "metadata": {},
   "source": [
    "有时候，在空字典中添加键—值对是为了方便，而有时候必须这样做。为此，可先使用一对空的花括号定义一个字典，再分行添加各个键—值对。"
   ]
  },
  {
   "cell_type": "markdown",
   "id": "f8f04c7e",
   "metadata": {},
   "source": [
    "使用字典来存储用户提供的数据或在编写能自动生成大量键—值对的代码时，通常都需要先定义一个空字典。"
   ]
  },
  {
   "cell_type": "markdown",
   "id": "9fa7a563",
   "metadata": {},
   "source": [
    "## 6.2.4 修改字典中的值"
   ]
  },
  {
   "cell_type": "markdown",
   "id": "c1439b5b",
   "metadata": {},
   "source": [
    "要修改字典中的值，可依次指定字典名、用方括号括起的键以及与该键相关联的新值。"
   ]
  },
  {
   "cell_type": "code",
   "execution_count": 5,
   "id": "5c238309",
   "metadata": {},
   "outputs": [
    {
     "name": "stdout",
     "output_type": "stream",
     "text": [
      "The alien is green.\n",
      "The alien is now yellow.\n"
     ]
    }
   ],
   "source": [
    "alien_0 = {'color': 'green'}\n",
    "print(\"The alien is \"+alien_0['color']+\".\")\n",
    "alien_0 = {'color': 'yellow'}\n",
    "print(\"The alien is now \"+alien_0['color']+\".\")"
   ]
  },
  {
   "cell_type": "markdown",
   "id": "0477d3c9",
   "metadata": {},
   "source": [
    "来看一个更有趣的例子：对一个能够以不同速度移动的外星人的位置进行跟踪。为此，我们将存储该外星人的当前速度，并据此确定该外星人将向右移动多远："
   ]
  },
  {
   "cell_type": "code",
   "execution_count": 8,
   "id": "3d84eeff",
   "metadata": {},
   "outputs": [
    {
     "name": "stdout",
     "output_type": "stream",
     "text": [
      "Original x-position: 0\n",
      "New x-position: 2\n"
     ]
    }
   ],
   "source": [
    "alien_0 = {'x_position': 0, 'y_position': 25, 'speed': 'medium'}\n",
    "print(\"Original x-position: \"+str(alien_0['x_position']))\n",
    "# 向右移动外星人\n",
    "# 据外星人当前的速度决定将其移动多远\n",
    "if alien_0['speed'] == 'slow':\n",
    "    x_increment = 1\n",
    "elif alien_0['speed'] == 'medium':\n",
    "    x_increment = 2\n",
    "else:\n",
    "    # 这个外星人的速度一定很快\n",
    "    x_increment = 3\n",
    "#新位置等于老位置加上增量\n",
    "alien_0['x_position'] = alien_0['x_position'] + x_increment\n",
    "print(\"New x-position: \"+str(alien_0['x_position']))"
   ]
  },
  {
   "cell_type": "markdown",
   "id": "852a1abf",
   "metadata": {},
   "source": [
    "确定移动量后，将其与x_position的当前值相加，再将结果关联到字典中的键x_position。这种技术很棒：通过修改外星人字典中的值，可改变外星人的行为。"
   ]
  },
  {
   "cell_type": "markdown",
   "id": "5ac51b4b",
   "metadata": {},
   "source": [
    "## 6.2.5 删除键—值对"
   ]
  },
  {
   "cell_type": "markdown",
   "id": "68c6e8f2",
   "metadata": {},
   "source": [
    "对于字典中不再需要的信息，可使用**del语句**将相应的键—值对彻底删除。使用del语句时，必须指定字典名和要删除的键。"
   ]
  },
  {
   "cell_type": "code",
   "execution_count": 9,
   "id": "303f2498",
   "metadata": {},
   "outputs": [
    {
     "name": "stdout",
     "output_type": "stream",
     "text": [
      "{'color': 'green', 'points': 5}\n",
      "{'color': 'green'}\n"
     ]
    }
   ],
   "source": [
    "alien_0 = {'color': 'green', 'points': 5}\n",
    "print(alien_0)\n",
    "del alien_0['points']\n",
    "print(alien_0)"
   ]
  },
  {
   "cell_type": "markdown",
   "id": "d105f43d",
   "metadata": {},
   "source": [
    "删除的键—值对永远消失了。"
   ]
  },
  {
   "cell_type": "markdown",
   "id": "d89322bd",
   "metadata": {},
   "source": [
    "## 6.2.6 由类似对象组成的字典"
   ]
  },
  {
   "cell_type": "markdown",
   "id": "c11e1f94",
   "metadata": {},
   "source": [
    "在前面的示例中，字典存储的是一个对象（游戏中的一个外星人）的多种信息，但你也可以使用字典来存储众多对象的同一种信息。"
   ]
  },
  {
   "cell_type": "code",
   "execution_count": 11,
   "id": "3e4af5bd",
   "metadata": {},
   "outputs": [],
   "source": [
    "favorite_languages = {\n",
    "    'jen': 'python',\n",
    "    'sarah': 'c',\n",
    "    'edward': 'ruby',\n",
    "    'phil': 'python',\n",
    "    }"
   ]
  },
  {
   "cell_type": "markdown",
   "id": "9b2bf57b",
   "metadata": {},
   "source": [
    "我们将一个较大的字典放在了多行中。其中每个键都是一个被调查者的名字，而每个值都是被调查者喜欢的语言。确定需要使用多行来定义字典时，在输入左花括号后按回车键，再在下一行缩进四个空格，指定第一个键—值对，并在它后面加上一个逗号。此后你再次按回车键时，文本编辑器将自动缩进后续键—值对，且缩进量与第一个键—值对相同。"
   ]
  },
  {
   "cell_type": "markdown",
   "id": "350ee550",
   "metadata": {},
   "source": [
    "定义好字典后，在最后一个键—值对的下一行添加一个右花括号，并缩进四个空格，使其与字典中的键对齐。另外一种不错的做法是在最后一个键—值对后面也加上逗号，为以后在下一行添加键—值对做好准备。"
   ]
  },
  {
   "cell_type": "code",
   "execution_count": 14,
   "id": "6ef20592",
   "metadata": {},
   "outputs": [
    {
     "name": "stdout",
     "output_type": "stream",
     "text": [
      "Sarah's favorite language is C.\n"
     ]
    }
   ],
   "source": [
    "print(\"Sarah's favorite language is \"+\n",
    "     favorite_languages['sarah'].title()+\n",
    "     \".\")"
   ]
  },
  {
   "cell_type": "markdown",
   "id": "5abba356",
   "metadata": {},
   "source": [
    "* get( )方法：   \n",
    "格式：dict.get(key, default)   \n",
    "其中，key - 字典中要查找的键   \n",
    "     default - 如果指定键的值不存在时，返回default的值。"
   ]
  },
  {
   "cell_type": "markdown",
   "id": "ed48c79e",
   "metadata": {},
   "source": [
    "## 动手试一试"
   ]
  },
  {
   "cell_type": "markdown",
   "id": "f5fffa4a",
   "metadata": {},
   "source": [
    "### 6-1 人：   \n",
    "使用一个字典来存储一个熟人的信息，包括名、姓、年龄和居住的城市。该字典应包含键first_name、last_name、age和city。将存储在该字典中的每项信息都打印出来。"
   ]
  },
  {
   "cell_type": "code",
   "execution_count": 13,
   "id": "44535867",
   "metadata": {},
   "outputs": [
    {
     "name": "stdout",
     "output_type": "stream",
     "text": [
      "JiangY\n",
      "Xiao\n",
      "21\n",
      "GZ\n"
     ]
    }
   ],
   "source": [
    "info = {'first_name': 'JiangY', 'last_name': 'Xiao', 'age': 21, 'city': 'GZ'}\n",
    "print(info['first_name'])\n",
    "print(info['last_name'])\n",
    "print(info['age'])\n",
    "print(info['city'])"
   ]
  },
  {
   "cell_type": "markdown",
   "id": "eb38b21c",
   "metadata": {},
   "source": [
    "### 6-2 喜欢的数字：   \n",
    "使用一个字典来存储一些人喜欢的数字。请想出5个人的名字，并将这些名字用作字典中的键；想出每个人喜欢的一个数字，并将这些数字作为值存储在字典中。打印每个人的名字和喜欢的数字。为让这个程序更有趣，通过询问朋友确保数据是真实的。"
   ]
  },
  {
   "cell_type": "code",
   "execution_count": 20,
   "id": "aadb3a68",
   "metadata": {},
   "outputs": [
    {
     "name": "stdout",
     "output_type": "stream",
     "text": [
      "LJY's favorite number is 11.\n",
      "XJY's favorite number is 23.\n",
      "XFW's favorite number is 16.\n",
      "DQH's favorite number is 72.\n",
      "GYZ's favorite number is 6.\n"
     ]
    }
   ],
   "source": [
    "lucky_number = {'LJY': 11, 'XJY': 23, 'XFW': 16, 'DQH': 72, 'GYZ': 6}\n",
    "for key in lucky_number.keys():\n",
    "    print(key+\"'s favorite number is \"+str(lucky_number[key])+\".\")"
   ]
  },
  {
   "cell_type": "markdown",
   "id": "c6f4e906",
   "metadata": {},
   "source": [
    "### 6-3 词汇表：   \n",
    "Python字典可用于模拟现实生活中的字典，但为避免混淆，我们将后者称为词汇表。   \n",
    "* 想出你在前面学过的5个编程词汇，将它们用作词汇表中的键，并将它们的含义作为值存储在词汇表中。   \n",
    "* 以整洁的方式打印每个词汇及其含义。为此，你可以先打印词汇，在它后面加上一个冒号，再打印词汇的含义；也可在一行打印词汇，再使用换行符（\\n）插入一个空行，然后在下一行以缩进的方式打印词汇的含义。"
   ]
  },
  {
   "cell_type": "code",
   "execution_count": 23,
   "id": "c70b1d28",
   "metadata": {},
   "outputs": [
    {
     "name": "stdout",
     "output_type": "stream",
     "text": [
      "The meaning of syntax is 语法.\n",
      "The meaning of parsing is 句法分析.\n",
      "The meaning of identifier is 标识符.\n",
      "The meaning of indentation is 行首缩进.\n",
      "The meaning of attribute is 属性.\n"
     ]
    }
   ],
   "source": [
    "vocab = {\n",
    "    'syntax': \"语法\",\n",
    "    'parsing': \"句法分析\", \n",
    "    'identifier': \"标识符\",\n",
    "    'indentation': \"行首缩进\",\n",
    "    'attribute': \"属性\"\n",
    "    }\n",
    "for key in vocab.keys():\n",
    "    print(\"The meaning of \"+key+\" is \"+vocab[key]+\".\")"
   ]
  },
  {
   "cell_type": "markdown",
   "id": "4e19ff2a",
   "metadata": {},
   "source": [
    "# 6.3 遍历字典"
   ]
  },
  {
   "cell_type": "markdown",
   "id": "e2fcfae7",
   "metadata": {},
   "source": [
    "一个Python字典可能包含数百万个键—值对。鉴于字典可能包含大量的数据，Python支持**对字典遍历**。字典可用于以各种方式存储信息，因此有多种遍历字典的方式：**可遍历字典的所有键—值对、键或值**。"
   ]
  },
  {
   "cell_type": "markdown",
   "id": "f32ec4d2",
   "metadata": {},
   "source": [
    "## 6.3.1 遍历所有的键—值对"
   ]
  },
  {
   "cell_type": "code",
   "execution_count": 24,
   "id": "81a37094",
   "metadata": {},
   "outputs": [
    {
     "name": "stdout",
     "output_type": "stream",
     "text": [
      "\n",
      "Key: username\n",
      "Value: efermi\n",
      "\n",
      "Key: first\n",
      "Value: enrico\n",
      "\n",
      "Key: last\n",
      "Value: fermi\n"
     ]
    }
   ],
   "source": [
    "user_0 = {\n",
    "    'username': 'efermi',\n",
    "    'first': 'enrico',\n",
    "    'last': 'fermi',\n",
    "    }\n",
    "for key, value in user_0.items():\n",
    "    print(\"\\nKey: \"+key)\n",
    "    print(\"Value: \"+value)"
   ]
  },
  {
   "cell_type": "markdown",
   "id": "d3ed6bc5",
   "metadata": {},
   "source": [
    "要编写用于遍历字典的for循环，可**声明两个变量，用于存储键—值对中的键和值**。对于这两个变量，可使用任何名称。下面的代码使用了简单的变量名，这完全可行：`for k, v in user_0.items()`"
   ]
  },
  {
   "cell_type": "markdown",
   "id": "64dbd676",
   "metadata": {},
   "source": [
    "即便遍历字典时，键—值对的返回顺序也与存储顺序不同。Python不关心键—值对的存储顺序，而只跟踪键和值之间的关联关系。"
   ]
  },
  {
   "cell_type": "code",
   "execution_count": 25,
   "id": "364397cc",
   "metadata": {},
   "outputs": [
    {
     "name": "stdout",
     "output_type": "stream",
     "text": [
      "Jen's favorite language is Python.\n",
      "Sarah's favorite language is C.\n",
      "Edward's favorite language is Ruby.\n",
      "Phil's favorite language is Python.\n"
     ]
    }
   ],
   "source": [
    "favorite_languages = {\n",
    "    'jen': 'python',\n",
    "    'sarah': 'c',\n",
    "    'edward': 'ruby',\n",
    "    'phil': 'python',\n",
    "    }\n",
    "for name, language in favorite_languages.items():\n",
    "    print(name.title()+\"'s favorite language is \"+\n",
    "         language.title()+\".\")"
   ]
  },
  {
   "cell_type": "markdown",
   "id": "1f005460",
   "metadata": {},
   "source": [
    "## 6.3.2 遍历字典中的所有键"
   ]
  },
  {
   "cell_type": "markdown",
   "id": "cad8197e",
   "metadata": {},
   "source": [
    "在不需要使用字典中的值时，方法keys( )很有用。"
   ]
  },
  {
   "cell_type": "code",
   "execution_count": 26,
   "id": "81527ce4",
   "metadata": {},
   "outputs": [
    {
     "name": "stdout",
     "output_type": "stream",
     "text": [
      "Jen\n",
      "Sarah\n",
      "Edward\n",
      "Phil\n"
     ]
    }
   ],
   "source": [
    "favorite_languages = {\n",
    "    'jen': 'python',\n",
    "    'sarah': 'c',\n",
    "    'edward': 'ruby',\n",
    "    'phil': 'python',\n",
    "    }\n",
    "for name in favorite_languages.keys():\n",
    "    print(name.title())"
   ]
  },
  {
   "cell_type": "markdown",
   "id": "7eed8cf3",
   "metadata": {},
   "source": [
    "遍历字典时，会**默认遍历所有的键**，因此，如果将上述代码中的`for name in favorite_languages.keys():`替换为`for name in favorite_languages:`，输出将不变。   \n",
    "如果显式地使用方法keys( )可让代码更容易理解，你可以选择这样做，但如果你愿意，也可省略它。"
   ]
  },
  {
   "cell_type": "markdown",
   "id": "5fef38f7",
   "metadata": {},
   "source": [
    "在这种循环中，可**使用当前键来访问与之相关联的值**:"
   ]
  },
  {
   "cell_type": "code",
   "execution_count": 28,
   "id": "78d7717f",
   "metadata": {},
   "outputs": [
    {
     "name": "stdout",
     "output_type": "stream",
     "text": [
      "Jen\n",
      "Sarah\n",
      "  Hi Sarah, I see your favorite language is C!\n",
      "Edward\n",
      "Phil\n",
      "  Hi Phil, I see your favorite language is Python!\n"
     ]
    }
   ],
   "source": [
    "favorite_languages = {\n",
    "    'jen': 'python',\n",
    "    'sarah': 'c',\n",
    "    'edward': 'ruby',\n",
    "    'phil': 'python',\n",
    "    }\n",
    "friends = ['phil', 'sarah']\n",
    "for name in favorite_languages.keys():\n",
    "    print(name.title())\n",
    "    if name in friends:\n",
    "        print(\"  Hi \"+name.title()+\n",
    "             \", I see your favorite language is \"+\n",
    "             favorite_languages[name].title()+\"!\")"
   ]
  },
  {
   "cell_type": "markdown",
   "id": "4b21b304",
   "metadata": {},
   "source": [
    "为访问喜欢的语言，我们使用了字典名，并将变量name的当前值作为键`favorite_languages[name]`"
   ]
  },
  {
   "cell_type": "markdown",
   "id": "08801d42",
   "metadata": {},
   "source": [
    "还可以使用keys( )确定某个人是否接受了调查。下面的代码确定Erin是否接受了调查："
   ]
  },
  {
   "cell_type": "code",
   "execution_count": 29,
   "id": "cd0e75de",
   "metadata": {},
   "outputs": [
    {
     "name": "stdout",
     "output_type": "stream",
     "text": [
      "Erin, please take our poll!\n"
     ]
    }
   ],
   "source": [
    "favorite_languages = {\n",
    "    'jen': 'python',\n",
    "    'sarah': 'c',\n",
    "    'edward': 'ruby',\n",
    "    'phil': 'python',\n",
    "    }\n",
    "if 'erin' not in favorite_languages.keys():\n",
    "    print(\"Erin, please take our poll!\")"
   ]
  },
  {
   "cell_type": "markdown",
   "id": "8944882c",
   "metadata": {},
   "source": [
    "方法keys( )并非只能用于遍历；实际上，**它返回一个列表**，其中包含字典中的所有键。 "
   ]
  },
  {
   "cell_type": "markdown",
   "id": "b76a5cf2",
   "metadata": {},
   "source": [
    "***注意***   \n",
    "* keys( )返回的列表不是一般列表，不能直接用列表方法，如切片等。但可以转换成一般列表后用，例如list(mydict.keys( ))[-1]"
   ]
  },
  {
   "cell_type": "markdown",
   "id": "110b0134",
   "metadata": {},
   "source": [
    "## 6.3.3 按顺序遍历字典中的所有键"
   ]
  },
  {
   "cell_type": "markdown",
   "id": "f2fe0ee2",
   "metadata": {},
   "source": [
    "要以特定的顺序返回元素，一种办法是**在for循环中对返回的键进行排序**。 为此，可使用**函数sorted( )**来获得按特定顺序排列的键列表的副本："
   ]
  },
  {
   "cell_type": "code",
   "execution_count": 30,
   "id": "27669e33",
   "metadata": {},
   "outputs": [
    {
     "name": "stdout",
     "output_type": "stream",
     "text": [
      "Edward, thank you for taking the poll.\n",
      "Jen, thank you for taking the poll.\n",
      "Phil, thank you for taking the poll.\n",
      "Sarah, thank you for taking the poll.\n"
     ]
    }
   ],
   "source": [
    "favorite_languages = {\n",
    "    'jen': 'python',\n",
    "    'sarah': 'c',\n",
    "    'edward': 'ruby',\n",
    "    'phil': 'python',\n",
    "    }\n",
    "for name in sorted(favorite_languages.keys()):\n",
    "    print(name.title()+\", thank you for taking the poll.\")"
   ]
  },
  {
   "cell_type": "markdown",
   "id": "da6f741c",
   "metadata": {},
   "source": [
    "对方法dictionary.keys( )的结果调用了函数sorted( )。这让Python列出字典中的所有键，并**在遍历前对这个列表进行排序**。"
   ]
  },
  {
   "cell_type": "markdown",
   "id": "d6ce2a97",
   "metadata": {},
   "source": [
    "## 6.3.4 遍历字典中的所有值"
   ]
  },
  {
   "cell_type": "markdown",
   "id": "b836ecb7",
   "metadata": {},
   "source": [
    "如果你感兴趣的主要是字典包含的值，可使用方法values( )，它返回一个值列表，而不包含任何键。"
   ]
  },
  {
   "cell_type": "code",
   "execution_count": 31,
   "id": "5772e01f",
   "metadata": {},
   "outputs": [
    {
     "name": "stdout",
     "output_type": "stream",
     "text": [
      "The following languages have been mentioned:\n",
      "Python\n",
      "C\n",
      "Ruby\n",
      "Python\n"
     ]
    }
   ],
   "source": [
    "favorite_languages = {\n",
    "    'jen': 'python',\n",
    "    'sarah': 'c',\n",
    "    'edward': 'ruby',\n",
    "    'phil': 'python',\n",
    "    }\n",
    "print(\"The following languages have been mentioned:\")\n",
    "for language in favorite_languages.values():\n",
    "    print(language.title())"
   ]
  },
  {
   "cell_type": "markdown",
   "id": "7d52ee8f",
   "metadata": {},
   "source": [
    "这种做法提取字典中所有的值，而没有考虑**是否重复**。   \n",
    "如果被调查者很多，最终的列表可能包含大量的重复项。为剔除重复项，可使用**集合（set）**。**集合**类似于列表，但每个元素都必须是独一无二的："
   ]
  },
  {
   "cell_type": "code",
   "execution_count": 32,
   "id": "fce1ffd4",
   "metadata": {},
   "outputs": [
    {
     "name": "stdout",
     "output_type": "stream",
     "text": [
      "The following languages have been mentioned:\n",
      "Python\n",
      "Ruby\n",
      "C\n"
     ]
    }
   ],
   "source": [
    "favorite_languages = {\n",
    "    'jen': 'python',\n",
    "    'sarah': 'c',\n",
    "    'edward': 'ruby',\n",
    "    'phil': 'python',\n",
    "    }\n",
    "print(\"The following languages have been mentioned:\")\n",
    "for language in set(favorite_languages.values()):\n",
    "    print(language.title())"
   ]
  },
  {
   "cell_type": "markdown",
   "id": "e82b8ef0",
   "metadata": {},
   "source": [
    "通过对包含重复元素的列表调用set( )，可让Python找出列表中独一无二的元素，并使用这些元素来创建一个集合。我们使用了set( )来提取favorite_languages.values( )中不同的语言。"
   ]
  },
  {
   "cell_type": "markdown",
   "id": "ea4a29d4",
   "metadata": {},
   "source": [
    "## 动手试一试"
   ]
  },
  {
   "cell_type": "markdown",
   "id": "cc0372a6",
   "metadata": {},
   "source": [
    "### 6-4 词汇表2：   \n",
    "既然你知道了如何遍历字典，现在请整理你为完成练习6-3而编写的代码，将其中的一系列print语句替换为一个遍历字典中的键和值的循环。确定该循环正确无误后，再在词汇表中添加5个Python术语。当你再次运行这个程序时，这些新术语及其含义将自动包含在输出中。"
   ]
  },
  {
   "cell_type": "code",
   "execution_count": 33,
   "id": "e7942715",
   "metadata": {},
   "outputs": [
    {
     "name": "stdout",
     "output_type": "stream",
     "text": [
      "The meaning of syntax is 语法.\n",
      "The meaning of parsing is 句法分析.\n",
      "The meaning of identifier is 标识符.\n",
      "The meaning of indentation is 行首缩进.\n",
      "The meaning of attribute is 属性.\n"
     ]
    }
   ],
   "source": [
    "vocab = {\n",
    "    'syntax': \"语法\",\n",
    "    'parsing': \"句法分析\", \n",
    "    'identifier': \"标识符\",\n",
    "    'indentation': \"行首缩进\",\n",
    "    'attribute': \"属性\"\n",
    "    }\n",
    "for key in vocab.keys():\n",
    "    print(\"The meaning of \"+key+\" is \"+vocab[key]+\".\")"
   ]
  },
  {
   "cell_type": "markdown",
   "id": "016df21c",
   "metadata": {},
   "source": [
    "### 6-5 河流：   \n",
    "创建一个字典，在其中存储三条大河流及其流经的国家。其中一个键—值对可能是'nile': 'egypt'。   \n",
    "* 使用循环为每条河流打印一条消息，如“The Nile runs through Egypt.”。   \n",
    "* 使用循环将该字典中每条河流的名字都打印出来。   \n",
    "* 使用循环将该字典包含的每个国家的名字都打印出来。"
   ]
  },
  {
   "cell_type": "code",
   "execution_count": 36,
   "id": "e8316ed8",
   "metadata": {},
   "outputs": [
    {
     "name": "stdout",
     "output_type": "stream",
     "text": [
      "The Nile runs through Egypt.\n",
      "The Amazon runs through Brazil.\n",
      "The Yangtze runs through China.\n",
      "\n",
      "\n",
      "Nile\n",
      "Amazon\n",
      "Yangtze\n",
      "\n",
      "\n",
      "Egypt\n",
      "Brazil\n",
      "China\n"
     ]
    }
   ],
   "source": [
    "rivers = {'nile': 'egypt', 'amazon': 'brazil', 'yangtze': 'china'}\n",
    "for river, country in rivers.items():\n",
    "    print(\"The \"+river.title()+\" runs through \"+country.title()+\".\")\n",
    "print(\"\\n\")\n",
    "for river in rivers.keys():\n",
    "    print(river.title())\n",
    "print(\"\\n\")\n",
    "for country in rivers.values():\n",
    "    print(country.title())"
   ]
  },
  {
   "cell_type": "markdown",
   "id": "970b5904",
   "metadata": {},
   "source": [
    "### 6-6 调查：   \n",
    "在6.3.1节编写的程序favorite_languages.py中执行以下操作。   \n",
    "* 创建一个应该会接受调查的人员名单，其中有些人已包含在字典中，而其他人未包含在字典中。   \n",
    "* 遍历这个人员名单，对于已参与调查的人，打印一条消息表示感谢。对于还未参与调查的人，打印一条消息邀请他参与调查。"
   ]
  },
  {
   "cell_type": "code",
   "execution_count": 44,
   "id": "fb672e77",
   "metadata": {},
   "outputs": [
    {
     "name": "stdout",
     "output_type": "stream",
     "text": [
      "Edward, thank you for taking the poll.\n",
      "Jen, thank you for taking the poll.\n",
      "Justin, we wish you can take the toll!\n",
      "Sam, we wish you can take the toll!\n",
      "Smith, we wish you can take the toll!\n"
     ]
    }
   ],
   "source": [
    "favorite_languages = {\n",
    "    'jen': 'python',\n",
    "    'sarah': 'c',\n",
    "    'edward': 'ruby',\n",
    "    'phil': 'python',\n",
    "    }\n",
    "ppl = ['jen', 'edward', 'smith', 'sam', 'justin']\n",
    "for name in sorted(ppl):\n",
    "    if name not in favorite_languages.keys():\n",
    "        print(name.title()+\", we wish you can take the toll!\")\n",
    "    else:\n",
    "        print(name.title()+\", thank you for taking the poll.\")"
   ]
  },
  {
   "cell_type": "markdown",
   "id": "d8812d8d",
   "metadata": {},
   "source": [
    "# 6.4 嵌套"
   ]
  },
  {
   "cell_type": "markdown",
   "id": "9464c0fd",
   "metadata": {},
   "source": [
    "有时候，需要**将一系列字典存储在列表中，或将列表作为值存储在字典中**，这称为*嵌套*。你可以**在列表中嵌套字典**、**在字典中嵌套列表**甚至**在字典中嵌套字典**。正如下面的示例将演示的，嵌套是一项强大的功能。"
   ]
  },
  {
   "cell_type": "markdown",
   "id": "cf28e191",
   "metadata": {},
   "source": [
    "## 6.4.1 字典列表：在列表中嵌套字典"
   ]
  },
  {
   "cell_type": "markdown",
   "id": "c56bf88d",
   "metadata": {},
   "source": [
    "字典alien_0包含一个外星人的各种信息，但无法存储第二个外星人的信息，更别说屏幕上全部外星人的信息了。如何管理成群结队的外星人呢？一种办法是创建一个外星人列表，其中每个外星人都是一个字典，包含有关该外星人的各种信息。例如，下面的代码创建一个包含三个外星人的*列表*："
   ]
  },
  {
   "cell_type": "code",
   "execution_count": 46,
   "id": "069c5076",
   "metadata": {},
   "outputs": [
    {
     "name": "stdout",
     "output_type": "stream",
     "text": [
      "{'color': 'green', 'points': 5}\n",
      "{'color': 'yellow', 'points': 10}\n",
      "{'color': 'red', 'points': 15}\n"
     ]
    }
   ],
   "source": [
    "alien_0 = {'color': 'green', 'points': 5}\n",
    "alien_1 = {'color': 'yellow', 'points': 10}\n",
    "alien_2 = {'color': 'red', 'points': 15}\n",
    "aliens = [alien_0, alien_1, alien_2]\n",
    "for alien in aliens:\n",
    "    print(alien)"
   ]
  },
  {
   "cell_type": "markdown",
   "id": "d0ee810d",
   "metadata": {},
   "source": [
    "更符合现实的情形是，外星人不止三个，且每个外星人都是使用代码自动生成的。在下面的示例中，我们使用**range( )**生成了30个外星人："
   ]
  },
  {
   "cell_type": "code",
   "execution_count": 47,
   "id": "aab3583f",
   "metadata": {},
   "outputs": [
    {
     "name": "stdout",
     "output_type": "stream",
     "text": [
      "{'color': 'green', 'points': 5, 'speed': 'slow'}\n",
      "{'color': 'green', 'points': 5, 'speed': 'slow'}\n",
      "{'color': 'green', 'points': 5, 'speed': 'slow'}\n",
      "{'color': 'green', 'points': 5, 'speed': 'slow'}\n",
      "{'color': 'green', 'points': 5, 'speed': 'slow'}\n",
      "...\n",
      "Total number of aliens: 30\n"
     ]
    }
   ],
   "source": [
    "# 创建一个用于存储外星人的空列表\n",
    "aliens = []\n",
    "# 创建30个绿色的外星人\n",
    "for alien_number in range(30): \n",
    "    new_alien = {'color': 'green', 'points': 5, 'speed': 'slow'} \n",
    "    aliens.append(new_alien) \n",
    "# 显示前五个外星人\n",
    "for alien in aliens[:5]: \n",
    "    print(alien)\n",
    "print(\"...\")\n",
    "# 显示创建了多少个外星人\n",
    "print(\"Total number of aliens: \"+str(len(aliens)))"
   ]
  },
  {
   "cell_type": "markdown",
   "id": "89febb09",
   "metadata": {},
   "source": [
    "首先创建了一个空列表，用于存储接下来将创建的所有外星人。   \n",
    "1. range( )返回一系列数字，其唯一的用途是告诉Python我们要重复这个循环多少次。   \n",
    "2. 每次执行这个循环时，都创建一个外星人，并将其附加到列表aliens末尾 (append( ))。\n",
    "3. 使用一个切片来打印前五个外星人;   \n",
    "4. 最后打印列表的长度，以证明确实创建了30个外星人。"
   ]
  },
  {
   "cell_type": "markdown",
   "id": "b23b3bf0",
   "metadata": {},
   "source": [
    "这些外星人都具有相同的特征，但在Python看来，**每个外星人都是独立的**，这让我们能够独立地修改每个外星人。"
   ]
  },
  {
   "cell_type": "markdown",
   "id": "503c29a7",
   "metadata": {},
   "source": [
    "我们可以使用**for循环和if语句**来*修改某些外星人的颜色*。例如，要将前三个外星人修改为黄色的、速度为中等且值10个点："
   ]
  },
  {
   "cell_type": "code",
   "execution_count": 49,
   "id": "8c06a9da",
   "metadata": {},
   "outputs": [
    {
     "name": "stdout",
     "output_type": "stream",
     "text": [
      "{'color': 'yellow', 'points': 10, 'speed': 'medium'}\n",
      "{'color': 'yellow', 'points': 10, 'speed': 'medium'}\n",
      "{'color': 'yellow', 'points': 10, 'speed': 'medium'}\n",
      "{'color': 'green', 'points': 5, 'speed': 'slow'}\n",
      "{'color': 'green', 'points': 5, 'speed': 'slow'}\n",
      "...\n"
     ]
    }
   ],
   "source": [
    "# 创建一个用于存储外星人的空列表\n",
    "aliens = []\n",
    "# 创建30个绿色的外星人\n",
    "for alien_number in range (0,30):\n",
    "    new_alien = {'color': 'green', 'points': 5, 'speed': 'slow'}\n",
    "    aliens.append(new_alien)\n",
    "for alien in aliens[0:3]:\n",
    "    if alien['color'] == 'green':\n",
    "        alien['color'] = 'yellow'\n",
    "        alien['speed'] = 'medium'\n",
    "        alien['points'] = 10\n",
    "# 显示前五个外星人\n",
    "for alien in aliens[0:5]:\n",
    "    print(alien)\n",
    "print(\"...\")"
   ]
  },
  {
   "cell_type": "markdown",
   "id": "825cf63a",
   "metadata": {},
   "source": [
    "你可以进一步扩展这个循环，在其中添加一个**elif代码块**，将黄色外星人改为移动速度快且值15个点的红色外星人，如下所示（这里只列出了循环，而没有列出整个程序）："
   ]
  },
  {
   "cell_type": "code",
   "execution_count": 50,
   "id": "c35ae515",
   "metadata": {},
   "outputs": [],
   "source": [
    "for alien in aliens[0:3]:\n",
    "    if alien['color'] == 'green':\n",
    "        alien['color'] = 'yellow'\n",
    "        alien['speed'] = 'medium'\n",
    "        alien['points'] = 10\n",
    "    elif alien['color'] == 'yellow':\n",
    "        alien['color'] = 'red'\n",
    "        alien['speed'] = 'fast'\n",
    "        alien['points'] = 15"
   ]
  },
  {
   "cell_type": "markdown",
   "id": "948a9526",
   "metadata": {},
   "source": [
    "在这个列表中，所有字典的结构都相同，因此你可以遍历这个列表，并以相同的方式处理其中的每个字典：  \n",
    "list.append (dict), 通过for循环向空列表中插入多个结构相同的字典，然后通过for循环解析列表，使用字典。"
   ]
  },
  {
   "cell_type": "markdown",
   "id": "3c19fb3c",
   "metadata": {},
   "source": [
    "## 6.4.2 在字典中存储/嵌套列表"
   ]
  },
  {
   "cell_type": "markdown",
   "id": "dcb3eabd",
   "metadata": {},
   "source": [
    "有时候，需要将列表存储在字典中，而不是将字典存储在列表中。例如，你如何描述顾客点的比萨呢？如果使用列表，只能存储要添加的比萨配料；但如果使用字典，就不仅可在其中包含配料列表，还可包含其他有关比萨的描述。"
   ]
  },
  {
   "cell_type": "markdown",
   "id": "dadfd65e",
   "metadata": {},
   "source": [
    "下面的示例中，存储了比萨的两方面信息：外皮类型和配料列表。其中的配料列表是一个与键'toppings'相关联的值。要访问该列表，我们使用字典名和键'toppings'，就像访问字典中的其他值一样。这将返回一个配料列表，而不是单个值："
   ]
  },
  {
   "cell_type": "code",
   "execution_count": 51,
   "id": "b68755ed",
   "metadata": {},
   "outputs": [
    {
     "name": "stdout",
     "output_type": "stream",
     "text": [
      "You ordered a thick-crust pizza with the following toppings:\n",
      "\tmushrooms\n",
      "\textra cheese\n"
     ]
    }
   ],
   "source": [
    "# 存储所点比萨的信息\n",
    "pizza = {\n",
    "    'crust': 'thick',\n",
    "    'toppings': ['mushrooms', 'extra cheese'],\n",
    "    }\n",
    "# 概述所点的比萨\n",
    "print(\"You ordered a \"+pizza['crust']+\"-crust pizza \"+\n",
    "      \"with the following toppings:\")\n",
    "for topping in pizza['toppings']: \n",
    "    print(\"\\t\"+topping)"
   ]
  },
  {
   "cell_type": "markdown",
   "id": "0714d59f",
   "metadata": {},
   "source": [
    "每当需要**在字典中将一个键关联到多个值**时，都可以**在字典中嵌套一个列表**。"
   ]
  },
  {
   "cell_type": "markdown",
   "id": "510a9340",
   "metadata": {},
   "source": [
    "关喜欢的编程语言的示例中，如果将每个人的回答都存储在一个列表中，**被调查者就可选择多种喜欢的语言**。在这种情况下，当我们遍历字典时，与每个被调查者相关联的都是一个语言列表，而不是一种语言；因此，在遍历该字典的for循环中，我们需要**再使用一个for循环来遍历与被调查者相关联的语言列表**："
   ]
  },
  {
   "cell_type": "code",
   "execution_count": 53,
   "id": "1d34e7f5",
   "metadata": {},
   "outputs": [
    {
     "name": "stdout",
     "output_type": "stream",
     "text": [
      "\n",
      "Jen's favorite languages are:\n",
      "\tPython\n",
      "\tRuby\n",
      "\n",
      "Sarah's favorite language is:\n",
      "\tC\n",
      "\n",
      "Edward's favorite languages are:\n",
      "\tRuby\n",
      "\tGo\n",
      "\n",
      "Phil's favorite languages are:\n",
      "\tPython\n",
      "\tHaskell\n"
     ]
    }
   ],
   "source": [
    "favorite_languages = { \n",
    "    'jen': ['python', 'ruby'],\n",
    "    'sarah': ['c'],\n",
    "    'edward': ['ruby', 'go'],\n",
    "    'phil': ['python', 'haskell'],\n",
    "    }\n",
    "for name, languages in favorite_languages.items():\n",
    "    if len(languages) == 1:\n",
    "        print(\"\\n\"+name.title()+\"'s favorite language is:\")\n",
    "    else:\n",
    "        print(\"\\n\"+name.title()+\"'s favorite languages are:\")\n",
    "    for language in languages: \n",
    "        print(\"\\t\"+language.title())"
   ]
  },
  {
   "cell_type": "markdown",
   "id": "dffbe05e",
   "metadata": {},
   "source": [
    "为进一步改进这个程序，可**在遍历字典的for循环开头添加一条if语句**，通过**查看len(languages)的值**来确定当前的被调查者喜欢的语言是否有多种。如果他喜欢的语言有多种，就像以前一样显示输出；如果只有一种，就相应修改输出的措辞，如显示Sarah's favorite language is C。"
   ]
  },
  {
   "cell_type": "markdown",
   "id": "abb55997",
   "metadata": {},
   "source": [
    "***注意***   \n",
    "列表和字典的嵌套层级不应太多。如果嵌套层级比前面的示例多得多，很可能有更简单的解决问题的方案。"
   ]
  },
  {
   "cell_type": "markdown",
   "id": "a8734193",
   "metadata": {},
   "source": [
    "## 6.4.3 在字典中存储字典"
   ]
  },
  {
   "cell_type": "markdown",
   "id": "e59de4f6",
   "metadata": {},
   "source": [
    "可在字典中嵌套字典，但这样做时，代码可能很快复杂起来。   \n",
    "例如，如果有多个网站用户，每个都有独特的用户名，可**在字典中将用户名作为键，然后将每位用户的信息存储在一个字典中，并将该字典作为与用户名相关联的值**。在下面的程序中，对于每位用户，我们都存储了其三项信息：名、姓和居住地；为访问这些信息，我们遍历所有的用户名，并访问与每个用户名相关联的信息字典："
   ]
  },
  {
   "cell_type": "code",
   "execution_count": 54,
   "id": "9b6a3d57",
   "metadata": {},
   "outputs": [
    {
     "name": "stdout",
     "output_type": "stream",
     "text": [
      "\n",
      "Username: aeinstein\n",
      "\tFull name: Albert Einstein\n",
      "\tLocation: Princeton\n",
      "\n",
      "Username: mcurie\n",
      "\tFull name: Marie Curie\n",
      "\tLocation: Paris\n"
     ]
    }
   ],
   "source": [
    "users = {\n",
    "    'aeinstein': {\n",
    "        'first': 'albert',\n",
    "        'last': 'einstein',\n",
    "        'location': 'princeton',\n",
    "        },\n",
    "    'mcurie': {\n",
    "        'first': 'marie',\n",
    "        'last': 'curie',\n",
    "        'location': 'paris',\n",
    "        },\n",
    "    }\n",
    "for username, user_info in users.items():\n",
    "    print(\"\\nUsername: \"+username) \n",
    "    full_name = user_info['first']+\" \"+user_info['last'] \n",
    "    location = user_info['location']\n",
    "    print(\"\\tFull name: \"+full_name.title()) \n",
    "    print(\"\\tLocation: \"+location.title())"
   ]
  },
  {
   "cell_type": "markdown",
   "id": "09471827",
   "metadata": {},
   "source": [
    "请注意，表示每位用户的字典的结构都相同，虽然Python并没有这样的要求，但这使得嵌套的字典处理起来更容易。倘若表示每位用户的字典都包含不同的键，for循环内部的代码将更复杂。"
   ]
  },
  {
   "cell_type": "markdown",
   "id": "24185027",
   "metadata": {},
   "source": [
    "## 动手试一试"
   ]
  },
  {
   "cell_type": "markdown",
   "id": "6c55627c",
   "metadata": {},
   "source": [
    "### 6-7 人：   \n",
    "在为完成练习6-1而编写的程序中，再创建两个表示人的字典，然后将这三个字典都存储在一个名为people的列表中。遍历这个列表，将其中每个人的所有信息都打印出来。"
   ]
  },
  {
   "cell_type": "code",
   "execution_count": 56,
   "id": "5cb6d2f8",
   "metadata": {},
   "outputs": [
    {
     "name": "stdout",
     "output_type": "stream",
     "text": [
      "{'first_name': 'JiangY', 'last_name': 'Xiao', 'age': 21, 'city': 'GZ'}\n",
      "{'first_name': 'JieY', 'last_name': 'Li', 'age': 22, 'city': 'GZ'}\n",
      "{'first_name': 'ZhanF', 'last_name': 'Tu', 'age': 20, 'city': 'SZ'}\n"
     ]
    }
   ],
   "source": [
    "p1 = {'first_name': 'JiangY', 'last_name': 'Xiao', 'age': 21, 'city': 'GZ'}\n",
    "p2 = {'first_name': 'JieY', 'last_name': 'Li', 'age': 22, 'city': 'GZ'}\n",
    "p3 = {'first_name': 'ZhanF', 'last_name': 'Tu', 'age': 20, 'city': 'SZ'}\n",
    "people = [p1, p2, p3]\n",
    "for person in people:\n",
    "    print(person)"
   ]
  },
  {
   "cell_type": "markdown",
   "id": "d8b991df",
   "metadata": {},
   "source": [
    "### 6-8 宠物：   \n",
    "创建多个字典，对于每个字典，都使用一个宠物的名称来给它命名；在每个字典中，包含宠物的类型及其主人的名字。将这些字典存储在一个名为pets的列表中，再遍历该列表，并将宠物的所有信息都打印出来。"
   ]
  },
  {
   "cell_type": "code",
   "execution_count": 57,
   "id": "bc8b520c",
   "metadata": {},
   "outputs": [
    {
     "name": "stdout",
     "output_type": "stream",
     "text": [
      "{'breed': 'puma', 'master': 'kevin'}\n",
      "{'breed': 'python', 'master': 'bugger'}\n",
      "{'breed': 'goat', 'master': 'jordan'}\n"
     ]
    }
   ],
   "source": [
    "messi = {'breed': 'puma', 'master': 'kevin'}\n",
    "ronaldo = {'breed': 'python', 'master': 'bugger'}\n",
    "james = {'breed': 'goat', 'master': 'jordan'}\n",
    "pets = [messi, ronaldo, james]\n",
    "for pet in pets:\n",
    "    print(pet)"
   ]
  },
  {
   "cell_type": "markdown",
   "id": "f97d3c25",
   "metadata": {},
   "source": [
    "### 6-9 喜欢的地方：   \n",
    "创建一个名为favorite_places的字典。在这个字典中，将三个人的名字用作键；对于其中的每个人，都存储他喜欢的1～3个地方。为让这个练习更有趣些，可让一些朋友指出他们喜欢的几个地方。遍历这个字典，并将其中每个人的名字及其喜欢的地方打印出来。"
   ]
  },
  {
   "cell_type": "code",
   "execution_count": 61,
   "id": "409a4dcc",
   "metadata": {},
   "outputs": [
    {
     "name": "stdout",
     "output_type": "stream",
     "text": [
      "\n",
      "Kevin's favorite places are:\n",
      "\tJapen\n",
      "\tNew Zealand\n",
      "\tAustralia\n",
      "\n",
      "Liliana's favorite place is:\n",
      "\tBritain\n",
      "\n",
      "Johnson's favorite places are:\n",
      "\tEurope\n",
      "\tChina\n",
      "\n",
      "Helen's favorite places are:\n",
      "\tMalaysia\n",
      "\tChina\n"
     ]
    }
   ],
   "source": [
    "favorite_places = {\n",
    "    'kevin': ['japen', 'new zealand', 'australia'],\n",
    "    'liliana': ['britain'], \n",
    "    'johnson': ['europe', 'china'], \n",
    "    'helen': ['malaysia', 'china'],\n",
    "    }\n",
    "for name, places in favorite_places.items():\n",
    "    if len(places) == 1:\n",
    "        print(\"\\n\"+name.title()+\"'s favorite place is:\")\n",
    "    else:\n",
    "        print(\"\\n\"+name.title()+\"'s favorite places are:\")\n",
    "    for place in places:\n",
    "        print(\"\\t\"+place.title())"
   ]
  },
  {
   "cell_type": "markdown",
   "id": "61d7df0a",
   "metadata": {},
   "source": [
    "### 6-10 喜欢的数字：    \n",
    "修改为完成练习6-2而编写的程序，让每个人都可以有多个喜欢的数字，然后将每个人的名字及其喜欢的数字打印出来。"
   ]
  },
  {
   "cell_type": "code",
   "execution_count": 63,
   "id": "5ceaf8d3",
   "metadata": {},
   "outputs": [
    {
     "name": "stdout",
     "output_type": "stream",
     "text": [
      "\n",
      "LJY's favorite numbers are:\n",
      "\t11\n",
      "\t10\n",
      "\t99\n",
      "\n",
      "XJY's favorite numbers are:\n",
      "\t23\n",
      "\t6\n",
      "\t10\n",
      "\n",
      "XFW's favorite numbers are:\n",
      "\t16\n",
      "\t365\n",
      "\n",
      "DQH's favorite numbers are:\n",
      "\t72\n",
      "\t52\n",
      "\t365\n",
      "GYZ's favorite number is:\n",
      "\t6\n"
     ]
    }
   ],
   "source": [
    "lucky_number = {\n",
    "    'LJY': [11, 10, 99],\n",
    "    'XJY': [23, 6, 10], \n",
    "    'XFW': [16,365], \n",
    "    'DQH': [72, 52, 365], \n",
    "    'GYZ': [6],\n",
    "    }\n",
    "for name, numbers in lucky_number.items():\n",
    "    if len(numbers) == 1:\n",
    "        print(name+\"'s favorite number is:\")\n",
    "    else:\n",
    "        print(\"\\n\"+name+\"'s favorite numbers are:\")\n",
    "    for number in numbers:\n",
    "        print(\"\\t\"+str(number))"
   ]
  },
  {
   "cell_type": "markdown",
   "id": "6edb7f80",
   "metadata": {},
   "source": [
    "### 6-11 城市：   \n",
    "创建一个名为cities的字典，其中将三个城市名用作键；对于每座城市，都创建一个字典，并在其中包含该城市所属的国家、人口约数以及一个有关该城市的事实。在表示每座城市的字典中，应包含country、population和fact等键。将每座城市的名字以及有关它们的信息都打印出来。"
   ]
  },
  {
   "cell_type": "code",
   "execution_count": 67,
   "id": "972080f1",
   "metadata": {},
   "outputs": [
    {
     "name": "stdout",
     "output_type": "stream",
     "text": [
      "\n",
      "City name: Guangzhou\n",
      "\tCountry: China\n",
      "\tPopulation: 15 Million\n",
      "\tFact: Canton Tower\n",
      "\n",
      "City name: Boston\n",
      "\tCountry: United States\n",
      "\tPopulation: 0.7 Million\n",
      "\tFact: Boston University\n",
      "\n",
      "City name: Tokyo\n",
      "\tCountry: Japen\n",
      "\tPopulation: 14 Million\n",
      "\tFact: Akihabara\n"
     ]
    }
   ],
   "source": [
    "cities = {\n",
    "    'guangzhou': {\n",
    "        'country': 'china',\n",
    "        'population': '15 million',\n",
    "        'fact': 'canton tower'\n",
    "        },\n",
    "    'boston': {\n",
    "        'country': 'united states',\n",
    "        'population': '0.7 million', \n",
    "        'fact': 'boston university'\n",
    "        },\n",
    "    'tokyo': {\n",
    "        'country': 'japen',\n",
    "        'population': '14 million',\n",
    "        'fact': 'akihabara'\n",
    "        },\n",
    "    }\n",
    "for city_name, city_info in cities.items():\n",
    "    print(\"\\nCity name: \"+city_name.title())\n",
    "    print(\"\\tCountry: \"+city_info['country'].title())\n",
    "    print(\"\\tPopulation: \"+city_info['population'].title())\n",
    "    print(\"\\tFact: \"+city_info['fact'].title())"
   ]
  },
  {
   "cell_type": "markdown",
   "id": "f5aa5c0f",
   "metadata": {},
   "source": [
    "# 6.5 小结"
   ]
  },
  {
   "cell_type": "markdown",
   "id": "ebee4186",
   "metadata": {},
   "source": [
    "在本章中，学习了：   \n",
    "1. 如何定义字典，以及如何使用存储在字典中的信息；   \n",
    "2. 如何访问和修改字典中的元素，以及如何遍历字典中的所有信息；   \n",
    "3. 如何遍历字典中所有的键-值对、所有的键和所有的值；   \n",
    "4. 如何在列表中嵌套字典、在字典中嵌套列表以及在字典中嵌套字典。"
   ]
  }
 ],
 "metadata": {
  "kernelspec": {
   "display_name": "Python 3",
   "language": "python",
   "name": "python3"
  },
  "language_info": {
   "codemirror_mode": {
    "name": "ipython",
    "version": 3
   },
   "file_extension": ".py",
   "mimetype": "text/x-python",
   "name": "python",
   "nbconvert_exporter": "python",
   "pygments_lexer": "ipython3",
   "version": "3.8.8"
  }
 },
 "nbformat": 4,
 "nbformat_minor": 5
}

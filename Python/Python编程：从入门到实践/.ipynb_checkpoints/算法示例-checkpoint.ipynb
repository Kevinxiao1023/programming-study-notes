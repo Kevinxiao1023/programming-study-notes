{
 "cells": [
  {
   "cell_type": "markdown",
   "id": "b41a1785",
   "metadata": {},
   "source": [
    "# 1.2 二分查找 Binary Search"
   ]
  },
  {
   "cell_type": "code",
   "execution_count": 6,
   "id": "1a0685d0",
   "metadata": {},
   "outputs": [
    {
     "name": "stdout",
     "output_type": "stream",
     "text": [
      "1\n",
      "None\n"
     ]
    }
   ],
   "source": [
    "def binary_search(list, item):\n",
    "    low = 0\n",
    "    high = len(list)-1\n",
    "    \n",
    "    while low <= high:\n",
    "        mid = (low + high)//2\n",
    "        guess = list[mid]\n",
    "        if guess == item:\n",
    "            return mid\n",
    "        if guess > item:\n",
    "            high = mid - 1\n",
    "        else:\n",
    "            low = mid + 1\n",
    "    return None\n",
    "\n",
    "\n",
    "my_list = [1, 3, 5, 7, 9]\n",
    "print(binary_search(my_list, 3))\n",
    "print(binary_search(my_list, -1))"
   ]
  },
  {
   "cell_type": "markdown",
   "id": "e1858364",
   "metadata": {},
   "source": [
    "“ / ” 为浮点数除法，返回浮点结果    \n",
    "“ // ” 表示整数除法，返回不大于结果的一个最大整数"
   ]
  },
  {
   "cell_type": "code",
   "execution_count": 7,
   "id": "08540253",
   "metadata": {},
   "outputs": [
    {
     "name": "stdout",
     "output_type": "stream",
     "text": [
      "6 / 4 =1.5\n",
      "6 // 4 =1\n"
     ]
    }
   ],
   "source": [
    "print(\"6 / 4 =\" + str(6 / 4))\n",
    "print(\"6 // 4 =\" + str(6 // 4))"
   ]
  },
  {
   "cell_type": "markdown",
   "id": "c2a2d0f0",
   "metadata": {},
   "source": [
    "# 2.3 选择排序 Selection Sort"
   ]
  },
  {
   "cell_type": "code",
   "execution_count": 8,
   "id": "89ad0f02",
   "metadata": {},
   "outputs": [
    {
     "name": "stdout",
     "output_type": "stream",
     "text": [
      "[2, 3, 5, 6, 10]\n"
     ]
    }
   ],
   "source": [
    "# Finds the smallest value in an array\n",
    "def findSmallest(arr):\n",
    "  # Stores the smallest value\n",
    "  smallest = arr[0]\n",
    "  # Stores the index of the smallest value\n",
    "  smallest_index = 0\n",
    "  for i in range(1, len(arr)):\n",
    "    if arr[i] < smallest:\n",
    "      smallest_index = i\n",
    "      smallest = arr[i]      \n",
    "  return smallest_index\n",
    "\n",
    "# Sort array\n",
    "def selectionSort(arr):\n",
    "  newArr = []\n",
    "  for i in range(len(arr)):\n",
    "      # Finds the smallest element in the array and adds it to the new array\n",
    "      smallest = findSmallest(arr)\n",
    "      newArr.append(arr.pop(smallest))\n",
    "  return newArr\n",
    "\n",
    "print(selectionSort([5, 3, 6, 2, 10]))"
   ]
  },
  {
   "cell_type": "markdown",
   "id": "7548b90e",
   "metadata": {},
   "source": [
    "pop() 函数用于移除列表中的一个元素（默认最后一个元素），并且返回该元素的值。    \n",
    "\n",
    "参数：obj -- 可选参数，要移除列表元素的**索引值**，不能超过列表总长度，默认为 index=-1，删除最后一个列表值。"
   ]
  },
  {
   "cell_type": "markdown",
   "id": "95c13e60",
   "metadata": {},
   "source": [
    "# 3.3  递归"
   ]
  },
  {
   "cell_type": "code",
   "execution_count": 9,
   "id": "a118e907",
   "metadata": {},
   "outputs": [
    {
     "name": "stdout",
     "output_type": "stream",
     "text": [
      "120\n"
     ]
    }
   ],
   "source": [
    "def fact(x):\n",
    "  if x == 1:\n",
    "    return 1\n",
    "  else:\n",
    "    return x * fact(x-1)\n",
    "\n",
    "print(fact(5))"
   ]
  },
  {
   "cell_type": "markdown",
   "id": "eb69c642",
   "metadata": {},
   "source": [
    "# 练习4"
   ]
  },
  {
   "cell_type": "markdown",
   "id": "e60f97f3",
   "metadata": {},
   "source": [
    "4.1 请编写递归sum函数的代码。"
   ]
  },
  {
   "cell_type": "code",
   "execution_count": 10,
   "id": "c3cfecee",
   "metadata": {},
   "outputs": [
    {
     "name": "stdout",
     "output_type": "stream",
     "text": [
      "15\n"
     ]
    }
   ],
   "source": [
    "def sum(list):\n",
    "    if list == []:\n",
    "        return 0\n",
    "    else:\n",
    "        return list[0] + sum(list[1:])\n",
    "\n",
    "list = [1,2,3,4,5]\n",
    "print(sum(list))"
   ]
  },
  {
   "cell_type": "markdown",
   "id": "889742a9",
   "metadata": {},
   "source": [
    "4.2 编写一个递归函数来计算列表包含的元素数。"
   ]
  },
  {
   "cell_type": "code",
   "execution_count": 11,
   "id": "52541d69",
   "metadata": {},
   "outputs": [
    {
     "name": "stdout",
     "output_type": "stream",
     "text": [
      "5\n"
     ]
    }
   ],
   "source": [
    "def count(list):\n",
    "    if list == []:\n",
    "        return 0\n",
    "    else:\n",
    "        return 1 + count(list[1:])\n",
    "    \n",
    "list = [1,2,3,4,5]\n",
    "print(count(list))"
   ]
  },
  {
   "cell_type": "markdown",
   "id": "f52ab008",
   "metadata": {},
   "source": [
    "4.3 找出列表中最大的数字。"
   ]
  },
  {
   "cell_type": "code",
   "execution_count": 14,
   "id": "7112fcf4",
   "metadata": {},
   "outputs": [
    {
     "name": "stdout",
     "output_type": "stream",
     "text": [
      "5\n"
     ]
    }
   ],
   "source": [
    "def max(list):\n",
    "    if len(list) == 2:\n",
    "        return list[0] if list[0] > list[1] else list[1]\n",
    "    sub_max = max(list[1:])\n",
    "    return list[0] if list[0] > sub_max else sub_max\n",
    "\n",
    "list = [1,2,3,4,5]\n",
    "print(max(list))"
   ]
  },
  {
   "cell_type": "markdown",
   "id": "40c7bfee",
   "metadata": {},
   "source": [
    "# 4.2 快速排序 Quick Sort"
   ]
  },
  {
   "cell_type": "code",
   "execution_count": 15,
   "id": "932d1ab4",
   "metadata": {},
   "outputs": [
    {
     "name": "stdout",
     "output_type": "stream",
     "text": [
      "[2, 3, 5, 10]\n"
     ]
    }
   ],
   "source": [
    "def quicksort(array):\n",
    "  if len(array) < 2:\n",
    "    # base case, arrays with 0 or 1 element are already \"sorted\"\n",
    "    return array\n",
    "  else:\n",
    "    # recursive case\n",
    "    pivot = array[0]\n",
    "    # sub-array of all the elements less than the pivot\n",
    "    less = [i for i in array[1:] if i <= pivot]\n",
    "    # sub-array of all the elements greater than the pivot\n",
    "    greater = [i for i in array[1:] if i > pivot]\n",
    "    return quicksort(less) + [pivot] + quicksort(greater)\n",
    "\n",
    "print(quicksort([10, 5, 2, 3]))"
   ]
  },
  {
   "cell_type": "code",
   "execution_count": null,
   "id": "77de917e",
   "metadata": {},
   "outputs": [],
   "source": []
  }
 ],
 "metadata": {
  "kernelspec": {
   "display_name": "Python 3",
   "language": "python",
   "name": "python3"
  },
  "language_info": {
   "codemirror_mode": {
    "name": "ipython",
    "version": 3
   },
   "file_extension": ".py",
   "mimetype": "text/x-python",
   "name": "python",
   "nbconvert_exporter": "python",
   "pygments_lexer": "ipython3",
   "version": "3.8.8"
  }
 },
 "nbformat": 4,
 "nbformat_minor": 5
}

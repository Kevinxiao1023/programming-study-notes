{
 "cells": [
  {
   "cell_type": "markdown",
   "id": "d7387d47",
   "metadata": {},
   "source": [
    "# 4.1 NumPy的ndarray:一种多维数组对象"
   ]
  },
  {
   "cell_type": "markdown",
   "id": "adf3281b",
   "metadata": {},
   "source": [
    "NumPy最重要的一个特点就是其N维数组对象(即ndarray)，该对象是一个快速而灵活的大数据集容器。你可以利用这种数组对整块数据执行一些数学运算，其语法跟标量元素之间的运算一样。      \n",
    "\n",
    "要明白Python是如何利用与标量值类似的语法进行批次计算，我先引入 NumPy，然后生成一个包含随机数据的小数组:"
   ]
  },
  {
   "cell_type": "code",
   "execution_count": 1,
   "id": "640abf82",
   "metadata": {},
   "outputs": [],
   "source": [
    "import numpy as np"
   ]
  },
  {
   "cell_type": "code",
   "execution_count": 2,
   "id": "102dbe2c",
   "metadata": {},
   "outputs": [],
   "source": [
    "# Generate some random data\n",
    "data = np.random.randn(2, 3)"
   ]
  },
  {
   "cell_type": "code",
   "execution_count": 3,
   "id": "56445991",
   "metadata": {},
   "outputs": [
    {
     "data": {
      "text/plain": [
       "array([[-0.22999142,  1.31894699, -0.35048171],\n",
       "       [ 1.46056165,  0.6658359 ,  1.13728895]])"
      ]
     },
     "execution_count": 3,
     "metadata": {},
     "output_type": "execute_result"
    }
   ],
   "source": [
    "data"
   ]
  },
  {
   "cell_type": "markdown",
   "id": "22655c87",
   "metadata": {},
   "source": [
    "然后进行数学运算:"
   ]
  },
  {
   "cell_type": "code",
   "execution_count": 4,
   "id": "06f06387",
   "metadata": {},
   "outputs": [
    {
     "data": {
      "text/plain": [
       "array([[-2.29991425, 13.18946985, -3.50481712],\n",
       "       [14.60561648,  6.65835897, 11.37288951]])"
      ]
     },
     "execution_count": 4,
     "metadata": {},
     "output_type": "execute_result"
    }
   ],
   "source": [
    "data * 10"
   ]
  },
  {
   "cell_type": "code",
   "execution_count": 5,
   "id": "02f92a90",
   "metadata": {},
   "outputs": [
    {
     "data": {
      "text/plain": [
       "array([[-0.45998285,  2.63789397, -0.70096342],\n",
       "       [ 2.9211233 ,  1.33167179,  2.2745779 ]])"
      ]
     },
     "execution_count": 5,
     "metadata": {},
     "output_type": "execute_result"
    }
   ],
   "source": [
    "data + data"
   ]
  },
  {
   "cell_type": "markdown",
   "id": "93a11f90",
   "metadata": {},
   "source": [
    "第一个例子中，所有的元素都乘以10。第二个例子中，每个元素都与自身相加。"
   ]
  },
  {
   "cell_type": "markdown",
   "id": "bbfcf882",
   "metadata": {},
   "source": [
    "笔记:在本章及全书中，我会使用标准的NumPy惯用法 `import numpy as np `。你当然也可以在代码中使用 `from numpy import *` ，但不建议 这么做。 numpy 的命名空间很大，包含许多函数，其中一些的名字与 Python的内置函数重名(比如min和max)。"
   ]
  },
  {
   "cell_type": "markdown",
   "id": "289f8a50",
   "metadata": {},
   "source": [
    "ndarray是一个通用的同构数据多维容器，也就是说，其中的所有元素必须是相同类型的。每个数组都有一个shape(一个表示各维度大小的元组)和一个dtype(一个用于说明数组数据类型的对象):"
   ]
  },
  {
   "cell_type": "code",
   "execution_count": 6,
   "id": "a8a67937",
   "metadata": {},
   "outputs": [
    {
     "data": {
      "text/plain": [
       "(2, 3)"
      ]
     },
     "execution_count": 6,
     "metadata": {},
     "output_type": "execute_result"
    }
   ],
   "source": [
    "data.shape"
   ]
  },
  {
   "cell_type": "code",
   "execution_count": 7,
   "id": "b914a58c",
   "metadata": {},
   "outputs": [
    {
     "data": {
      "text/plain": [
       "dtype('float64')"
      ]
     },
     "execution_count": 7,
     "metadata": {},
     "output_type": "execute_result"
    }
   ],
   "source": [
    "data.dtype"
   ]
  },
  {
   "cell_type": "markdown",
   "id": "114e2bef",
   "metadata": {},
   "source": [
    "本章将会介绍NumPy数组的基本用法，这对于本书后面各章的理解基本够用。虽然大多数数据分析工作不需要深入理解NumPy，但是精通面向数组的编程和思维方式是成为Python科学计算牛人的一大关键步骤。      \n",
    "\n",
    " **笔记:当你在本书中看到“数组”、“NumPy数组”、\"ndarray\"时，基本上 都指的是同一样东西，即ndarray对象**。"
   ]
  },
  {
   "cell_type": "markdown",
   "id": "88d6cb77",
   "metadata": {},
   "source": [
    "## 4.1.1 创建ndarray"
   ]
  },
  {
   "cell_type": "markdown",
   "id": "75210589",
   "metadata": {},
   "source": [
    "创建数组最简单的办法就是使用array函数。它接受一切序列型的对象(包括 其他数组)，然后产生一个新的含有传入数据的NumPy数组。以一个列表的转换为例:"
   ]
  },
  {
   "cell_type": "code",
   "execution_count": 8,
   "id": "bb20131c",
   "metadata": {},
   "outputs": [],
   "source": [
    "data1 = [6, 7.5, 8, 0, 1]"
   ]
  },
  {
   "cell_type": "code",
   "execution_count": 9,
   "id": "2c31f8d3",
   "metadata": {},
   "outputs": [],
   "source": [
    "arr1 = np.array(data1)"
   ]
  },
  {
   "cell_type": "code",
   "execution_count": 10,
   "id": "564efd6f",
   "metadata": {},
   "outputs": [
    {
     "data": {
      "text/plain": [
       "array([6. , 7.5, 8. , 0. , 1. ])"
      ]
     },
     "execution_count": 10,
     "metadata": {},
     "output_type": "execute_result"
    }
   ],
   "source": [
    "arr1"
   ]
  },
  {
   "cell_type": "markdown",
   "id": "6b2cc2b2",
   "metadata": {},
   "source": [
    "序列(比如由一组等长列表组成的列表)将会被转换为一个多维数组:"
   ]
  },
  {
   "cell_type": "code",
   "execution_count": 11,
   "id": "c0a6fd45",
   "metadata": {},
   "outputs": [],
   "source": [
    "data2 = [[1, 2, 3, 4], [5, 6, 7, 8]]"
   ]
  },
  {
   "cell_type": "code",
   "execution_count": 12,
   "id": "8056c115",
   "metadata": {},
   "outputs": [],
   "source": [
    "arr2 = np.array(data2)"
   ]
  },
  {
   "cell_type": "code",
   "execution_count": 13,
   "id": "c86fb593",
   "metadata": {},
   "outputs": [
    {
     "data": {
      "text/plain": [
       "array([[1, 2, 3, 4],\n",
       "       [5, 6, 7, 8]])"
      ]
     },
     "execution_count": 13,
     "metadata": {},
     "output_type": "execute_result"
    }
   ],
   "source": [
    "arr2"
   ]
  },
  {
   "cell_type": "markdown",
   "id": "cdd580ae",
   "metadata": {},
   "source": [
    "因为data2是列表的列表，NumPy数组arr2的两个维度的shape是从data2引入的。可以用属性ndim和shape验证:"
   ]
  },
  {
   "cell_type": "code",
   "execution_count": 14,
   "id": "04aa790f",
   "metadata": {},
   "outputs": [
    {
     "data": {
      "text/plain": [
       "2"
      ]
     },
     "execution_count": 14,
     "metadata": {},
     "output_type": "execute_result"
    }
   ],
   "source": [
    "arr2.ndim"
   ]
  },
  {
   "cell_type": "code",
   "execution_count": 15,
   "id": "7d39361a",
   "metadata": {},
   "outputs": [
    {
     "data": {
      "text/plain": [
       "(2, 4)"
      ]
     },
     "execution_count": 15,
     "metadata": {},
     "output_type": "execute_result"
    }
   ],
   "source": [
    "arr2.shape"
   ]
  },
  {
   "cell_type": "markdown",
   "id": "d98143ec",
   "metadata": {},
   "source": [
    "除非特别说明(稍后将会详细介绍)，np.array会尝试为新建的这个数组推断出一个较为合适的数据类型。数据类型保存在一个特殊的dtype对象中。比如说，在上面的两个例子中，我们有:"
   ]
  },
  {
   "cell_type": "code",
   "execution_count": 16,
   "id": "66b09ab0",
   "metadata": {},
   "outputs": [
    {
     "data": {
      "text/plain": [
       "dtype('float64')"
      ]
     },
     "execution_count": 16,
     "metadata": {},
     "output_type": "execute_result"
    }
   ],
   "source": [
    "arr1.dtype"
   ]
  },
  {
   "cell_type": "code",
   "execution_count": 17,
   "id": "b1b9f8bd",
   "metadata": {},
   "outputs": [
    {
     "data": {
      "text/plain": [
       "dtype('int64')"
      ]
     },
     "execution_count": 17,
     "metadata": {},
     "output_type": "execute_result"
    }
   ],
   "source": [
    "arr2.dtype"
   ]
  },
  {
   "cell_type": "markdown",
   "id": "a0d33fe7",
   "metadata": {},
   "source": [
    "除np.array之外，还有一些函数也可以新建数组。比如，zeros和ones分别可以创建指定长度或形状的全0或全1数组。empty可以创建一个没有任何具体值的数组。要用这些方法创建多维数组，只需传入一个表示形状的元组即可:"
   ]
  },
  {
   "cell_type": "code",
   "execution_count": 18,
   "id": "cd082454",
   "metadata": {},
   "outputs": [
    {
     "data": {
      "text/plain": [
       "array([0., 0., 0., 0., 0., 0., 0., 0., 0., 0.])"
      ]
     },
     "execution_count": 18,
     "metadata": {},
     "output_type": "execute_result"
    }
   ],
   "source": [
    "np.zeros(10)"
   ]
  },
  {
   "cell_type": "code",
   "execution_count": 19,
   "id": "a5fcd07c",
   "metadata": {},
   "outputs": [
    {
     "data": {
      "text/plain": [
       "array([[0., 0., 0., 0., 0., 0.],\n",
       "       [0., 0., 0., 0., 0., 0.],\n",
       "       [0., 0., 0., 0., 0., 0.]])"
      ]
     },
     "execution_count": 19,
     "metadata": {},
     "output_type": "execute_result"
    }
   ],
   "source": [
    "np.zeros((3, 6))"
   ]
  },
  {
   "cell_type": "code",
   "execution_count": 21,
   "id": "034746a9",
   "metadata": {},
   "outputs": [
    {
     "data": {
      "text/plain": [
       "array([[[2.00000000e+000, 2.68679474e+154],\n",
       "        [3.95252517e-323, 0.00000000e+000],\n",
       "        [0.00000000e+000, 0.00000000e+000]],\n",
       "\n",
       "       [[0.00000000e+000, 0.00000000e+000],\n",
       "        [0.00000000e+000, 0.00000000e+000],\n",
       "        [0.00000000e+000, 0.00000000e+000]]])"
      ]
     },
     "execution_count": 21,
     "metadata": {},
     "output_type": "execute_result"
    }
   ],
   "source": [
    "np.empty((2, 3, 2))"
   ]
  },
  {
   "cell_type": "markdown",
   "id": "d9f23ecf",
   "metadata": {},
   "source": [
    " 注意:认为np.empty会返回全0数组的想法是不安全的。很多情况下 (如前所示)，它返回的都是一些未初始化的垃圾值。"
   ]
  },
  {
   "cell_type": "markdown",
   "id": "0fbe0ec9",
   "metadata": {},
   "source": [
    "arange是Python内置函数range的数组版:"
   ]
  },
  {
   "cell_type": "code",
   "execution_count": 23,
   "id": "aec745a3",
   "metadata": {},
   "outputs": [
    {
     "data": {
      "text/plain": [
       "array([ 0,  1,  2,  3,  4,  5,  6,  7,  8,  9, 10, 11, 12, 13, 14])"
      ]
     },
     "execution_count": 23,
     "metadata": {},
     "output_type": "execute_result"
    }
   ],
   "source": [
    "np.arange(15)"
   ]
  },
  {
   "cell_type": "markdown",
   "id": "57e0adbf",
   "metadata": {},
   "source": [
    "由于NumPy关注的是数值计算，因此，如 果没有特别指定，数据类型基本都是float64(浮点数)。"
   ]
  },
  {
   "cell_type": "markdown",
   "id": "c0a15594",
   "metadata": {},
   "source": [
    "## 4.1.2 ndarray的数据类型"
   ]
  },
  {
   "cell_type": "markdown",
   "id": "ff9604b5",
   "metadata": {},
   "source": [
    "dtype(数据类型)是一个特殊的对象，它含有ndarray将一块内存解释为特定数据类型所需的信息:"
   ]
  },
  {
   "cell_type": "code",
   "execution_count": 24,
   "id": "d3094320",
   "metadata": {},
   "outputs": [],
   "source": [
    "arr1 = np.array([1, 2, 3], dtype=np.float64)"
   ]
  },
  {
   "cell_type": "code",
   "execution_count": 25,
   "id": "742ac3e0",
   "metadata": {},
   "outputs": [],
   "source": [
    "arr2 = np.array([1, 2, 3], dtype=np.int32)"
   ]
  },
  {
   "cell_type": "code",
   "execution_count": 26,
   "id": "35f0695f",
   "metadata": {},
   "outputs": [
    {
     "data": {
      "text/plain": [
       "dtype('float64')"
      ]
     },
     "execution_count": 26,
     "metadata": {},
     "output_type": "execute_result"
    }
   ],
   "source": [
    "arr1.dtype"
   ]
  },
  {
   "cell_type": "code",
   "execution_count": 27,
   "id": "942a0a51",
   "metadata": {},
   "outputs": [
    {
     "data": {
      "text/plain": [
       "dtype('int32')"
      ]
     },
     "execution_count": 27,
     "metadata": {},
     "output_type": "execute_result"
    }
   ],
   "source": [
    "arr2.dtype"
   ]
  },
  {
   "cell_type": "markdown",
   "id": "2a8ffc84",
   "metadata": {},
   "source": [
    "dtype是NumPy灵活交互其它系统的源泉之一。多数情况下，它们直接映射到相应的机器表示，这使得“读写磁盘上的二进制数据流”以及“集成低级语言代码(如C、Fortran)”等工作变得更加简单。数值型dtype的命名方式相同:一个类型名(如float或int)，后面跟一个用于表示各元素位长的数字。 标准的双精度浮点值(即Python中的float对象)需要占用8字节(即64 位)。因此，该类型在NumPy中就记作float64。"
   ]
  },
  {
   "cell_type": "markdown",
   "id": "7eba3cf1",
   "metadata": {},
   "source": [
    "笔记:记不住这些NumPy的dtype也没关系，新手更是如此。通常只需要知道你所处理的数据的大致类型是浮点数、复数、整数、布尔值、字符串，还是普通的Python对象即可。当你需要控制数据在内存和磁盘中的存储方式时(尤其是对大数据集)，那就得了解如何控制存储类型。"
   ]
  },
  {
   "cell_type": "markdown",
   "id": "df13d11e",
   "metadata": {},
   "source": [
    "你可以通过ndarray的astype方法明确地将一个数组从一个dtype转换成另一 个dtype:"
   ]
  },
  {
   "cell_type": "code",
   "execution_count": 28,
   "id": "749e608c",
   "metadata": {},
   "outputs": [],
   "source": [
    "arr = np.array([1, 2, 3, 4, 5])"
   ]
  },
  {
   "cell_type": "code",
   "execution_count": 29,
   "id": "5d791ca3",
   "metadata": {},
   "outputs": [
    {
     "data": {
      "text/plain": [
       "dtype('int64')"
      ]
     },
     "execution_count": 29,
     "metadata": {},
     "output_type": "execute_result"
    }
   ],
   "source": [
    "arr.dtype"
   ]
  },
  {
   "cell_type": "code",
   "execution_count": 30,
   "id": "c7715d1d",
   "metadata": {},
   "outputs": [],
   "source": [
    "float_arr = arr.astype(np.float64)"
   ]
  },
  {
   "cell_type": "code",
   "execution_count": 31,
   "id": "83fefe10",
   "metadata": {},
   "outputs": [
    {
     "data": {
      "text/plain": [
       "dtype('float64')"
      ]
     },
     "execution_count": 31,
     "metadata": {},
     "output_type": "execute_result"
    }
   ],
   "source": [
    "float_arr.dtype"
   ]
  },
  {
   "cell_type": "markdown",
   "id": "35a23932",
   "metadata": {},
   "source": [
    "在本例中，整数被转换成了浮点数。如果将浮点数转换成整数，则小数部分将会被截取删除:"
   ]
  },
  {
   "cell_type": "code",
   "execution_count": 32,
   "id": "8cc704bf",
   "metadata": {},
   "outputs": [],
   "source": [
    "arr = np.array([3.7, -1.2, -2.6, 0.5, 12.9, 10.1])"
   ]
  },
  {
   "cell_type": "code",
   "execution_count": 33,
   "id": "41ea15a3",
   "metadata": {},
   "outputs": [
    {
     "data": {
      "text/plain": [
       "array([ 3.7, -1.2, -2.6,  0.5, 12.9, 10.1])"
      ]
     },
     "execution_count": 33,
     "metadata": {},
     "output_type": "execute_result"
    }
   ],
   "source": [
    "arr"
   ]
  },
  {
   "cell_type": "code",
   "execution_count": 34,
   "id": "54183cef",
   "metadata": {},
   "outputs": [
    {
     "data": {
      "text/plain": [
       "array([ 3, -1, -2,  0, 12, 10], dtype=int32)"
      ]
     },
     "execution_count": 34,
     "metadata": {},
     "output_type": "execute_result"
    }
   ],
   "source": [
    "arr.astype(np.int32)"
   ]
  },
  {
   "cell_type": "markdown",
   "id": "ed8e93a3",
   "metadata": {},
   "source": [
    "如果某字符串数组表示的全是数字，也可以用astype将其转换为数值形式:"
   ]
  },
  {
   "cell_type": "code",
   "execution_count": 35,
   "id": "cf6e6f77",
   "metadata": {},
   "outputs": [],
   "source": [
    "numeric_strings = np.array(['1.25', '-9.6', '42'], dtype=np.string_)"
   ]
  },
  {
   "cell_type": "code",
   "execution_count": 36,
   "id": "f6ab0d8c",
   "metadata": {},
   "outputs": [
    {
     "data": {
      "text/plain": [
       "array([ 1.25, -9.6 , 42.  ])"
      ]
     },
     "execution_count": 36,
     "metadata": {},
     "output_type": "execute_result"
    }
   ],
   "source": [
    "numeric_strings.astype(float)"
   ]
  },
  {
   "cell_type": "markdown",
   "id": "4d38f29c",
   "metadata": {},
   "source": [
    "注意:使用numpy.string_类型时，一定要小心，因为NumPy的字符串数据是大小固定的，发生截取时，不会发出警告。pandas提供了更多非数值数据的便利的处理方法。"
   ]
  },
  {
   "cell_type": "markdown",
   "id": "28ba17c8",
   "metadata": {},
   "source": [
    "如果转换过程因为某种原因而失败了(比如某个不能被转换为float64的字符串)，就会引发一个ValueError。这里，我比较懒，写的是float而不是np.float64;NumPy很聪明，它会将Python类型映射到等价的dtype上。"
   ]
  },
  {
   "cell_type": "markdown",
   "id": "3bd8d8ad",
   "metadata": {},
   "source": [
    "数组的dtype还有另一个属性:"
   ]
  },
  {
   "cell_type": "code",
   "execution_count": 37,
   "id": "d2a28830",
   "metadata": {},
   "outputs": [],
   "source": [
    "int_array = np.arange(10)"
   ]
  },
  {
   "cell_type": "code",
   "execution_count": 38,
   "id": "03b7a716",
   "metadata": {},
   "outputs": [],
   "source": [
    "calibers = np.array([.22, .270, .357, .380, .44, .50], dtype=np.float64)"
   ]
  },
  {
   "cell_type": "code",
   "execution_count": 39,
   "id": "8b96e0a2",
   "metadata": {},
   "outputs": [
    {
     "data": {
      "text/plain": [
       "array([0., 1., 2., 3., 4., 5., 6., 7., 8., 9.])"
      ]
     },
     "execution_count": 39,
     "metadata": {},
     "output_type": "execute_result"
    }
   ],
   "source": [
    "int_array.astype(calibers.dtype)"
   ]
  },
  {
   "cell_type": "markdown",
   "id": "8348672c",
   "metadata": {},
   "source": [
    "你还可以用简洁的类型代码来表示dtype:"
   ]
  },
  {
   "cell_type": "code",
   "execution_count": 40,
   "id": "d9874aa8",
   "metadata": {},
   "outputs": [],
   "source": [
    "empty_uint32 = np.empty(8, dtype='u4')"
   ]
  },
  {
   "cell_type": "code",
   "execution_count": 41,
   "id": "1a644365",
   "metadata": {},
   "outputs": [
    {
     "data": {
      "text/plain": [
       "array([         0, 1075314688,          0, 1075707904,          0,\n",
       "       1075838976,          0, 1072693248], dtype=uint32)"
      ]
     },
     "execution_count": 41,
     "metadata": {},
     "output_type": "execute_result"
    }
   ],
   "source": [
    "empty_uint32"
   ]
  },
  {
   "cell_type": "markdown",
   "id": "8077ce86",
   "metadata": {},
   "source": [
    " 笔记:调用astype总会创建一个新的数组(一个数据的备份)，即使新的dtype与旧的dtype相同。"
   ]
  },
  {
   "cell_type": "markdown",
   "id": "ac776667",
   "metadata": {},
   "source": [
    "## 4.1.3 NumPy数组的运算"
   ]
  },
  {
   "cell_type": "markdown",
   "id": "4c0d2c6a",
   "metadata": {},
   "source": [
    "数组很重要，因为它使你不用编写循环即可对数据执行批量运算。NumPy用户称其为矢量化(vectorization)。大小相等的数组之间的任何算术运算都会将运算应用到元素级:"
   ]
  },
  {
   "cell_type": "code",
   "execution_count": 42,
   "id": "c9b8ba02",
   "metadata": {},
   "outputs": [],
   "source": [
    "arr = np.array([[1., 2., 3.], [4., 5., 6.]])"
   ]
  },
  {
   "cell_type": "code",
   "execution_count": 43,
   "id": "7e4198a0",
   "metadata": {},
   "outputs": [
    {
     "data": {
      "text/plain": [
       "array([[1., 2., 3.],\n",
       "       [4., 5., 6.]])"
      ]
     },
     "execution_count": 43,
     "metadata": {},
     "output_type": "execute_result"
    }
   ],
   "source": [
    "arr"
   ]
  },
  {
   "cell_type": "code",
   "execution_count": 44,
   "id": "87e30349",
   "metadata": {},
   "outputs": [
    {
     "data": {
      "text/plain": [
       "array([[ 1.,  4.,  9.],\n",
       "       [16., 25., 36.]])"
      ]
     },
     "execution_count": 44,
     "metadata": {},
     "output_type": "execute_result"
    }
   ],
   "source": [
    "arr * arr"
   ]
  },
  {
   "cell_type": "code",
   "execution_count": 45,
   "id": "3a340a0a",
   "metadata": {},
   "outputs": [
    {
     "data": {
      "text/plain": [
       "array([[0., 0., 0.],\n",
       "       [0., 0., 0.]])"
      ]
     },
     "execution_count": 45,
     "metadata": {},
     "output_type": "execute_result"
    }
   ],
   "source": [
    "arr - arr"
   ]
  },
  {
   "cell_type": "markdown",
   "id": "dbb09e96",
   "metadata": {},
   "source": [
    "数组与标量的算术运算会将标量值传播到各个元素:"
   ]
  },
  {
   "cell_type": "code",
   "execution_count": 46,
   "id": "eeaf9ef5",
   "metadata": {},
   "outputs": [
    {
     "data": {
      "text/plain": [
       "array([[1.        , 0.5       , 0.33333333],\n",
       "       [0.25      , 0.2       , 0.16666667]])"
      ]
     },
     "execution_count": 46,
     "metadata": {},
     "output_type": "execute_result"
    }
   ],
   "source": [
    "1 / arr"
   ]
  },
  {
   "cell_type": "code",
   "execution_count": 47,
   "id": "ff4017cb",
   "metadata": {},
   "outputs": [
    {
     "data": {
      "text/plain": [
       "array([[1.        , 1.41421356, 1.73205081],\n",
       "       [2.        , 2.23606798, 2.44948974]])"
      ]
     },
     "execution_count": 47,
     "metadata": {},
     "output_type": "execute_result"
    }
   ],
   "source": [
    "arr ** 0.5"
   ]
  },
  {
   "cell_type": "markdown",
   "id": "8cf39ae8",
   "metadata": {},
   "source": [
    "大小相同的数组之间的比较会生成布尔值数组:"
   ]
  },
  {
   "cell_type": "code",
   "execution_count": 48,
   "id": "a331d18a",
   "metadata": {},
   "outputs": [],
   "source": [
    "arr2 = np.array([[0., 4., 1.], [7., 2., 12.]])"
   ]
  },
  {
   "cell_type": "code",
   "execution_count": 49,
   "id": "3635a9cc",
   "metadata": {},
   "outputs": [
    {
     "data": {
      "text/plain": [
       "array([[ 0.,  4.,  1.],\n",
       "       [ 7.,  2., 12.]])"
      ]
     },
     "execution_count": 49,
     "metadata": {},
     "output_type": "execute_result"
    }
   ],
   "source": [
    "arr2"
   ]
  },
  {
   "cell_type": "code",
   "execution_count": 50,
   "id": "fe8f5d4a",
   "metadata": {},
   "outputs": [
    {
     "data": {
      "text/plain": [
       "array([[False,  True, False],\n",
       "       [ True, False,  True]])"
      ]
     },
     "execution_count": 50,
     "metadata": {},
     "output_type": "execute_result"
    }
   ],
   "source": [
    "arr2 > arr"
   ]
  },
  {
   "cell_type": "markdown",
   "id": "f6b0acac",
   "metadata": {},
   "source": [
    "不同大小的数组之间的运算叫做广播(broadcasting)，将在附录A中对其进行详细讨论。本书的内容不需要对广播机制有多深的理解。"
   ]
  },
  {
   "cell_type": "markdown",
   "id": "f6d77aa8",
   "metadata": {},
   "source": [
    "## 4.1.4 基本的索引和切片"
   ]
  },
  {
   "cell_type": "markdown",
   "id": "0cbad5f9",
   "metadata": {},
   "source": [
    "NumPy数组的索引是一个内容丰富的主题，因为选取数据子集或单个元素的方式有很多。一维数组很简单。从表面上看，它们跟Python列表的功能差不多:"
   ]
  },
  {
   "cell_type": "code",
   "execution_count": 51,
   "id": "0faf5221",
   "metadata": {},
   "outputs": [],
   "source": [
    "arr = np.arange(10)"
   ]
  },
  {
   "cell_type": "code",
   "execution_count": 52,
   "id": "bb38a3be",
   "metadata": {},
   "outputs": [
    {
     "data": {
      "text/plain": [
       "array([0, 1, 2, 3, 4, 5, 6, 7, 8, 9])"
      ]
     },
     "execution_count": 52,
     "metadata": {},
     "output_type": "execute_result"
    }
   ],
   "source": [
    "arr"
   ]
  },
  {
   "cell_type": "code",
   "execution_count": 53,
   "id": "b3dc819f",
   "metadata": {},
   "outputs": [
    {
     "data": {
      "text/plain": [
       "5"
      ]
     },
     "execution_count": 53,
     "metadata": {},
     "output_type": "execute_result"
    }
   ],
   "source": [
    "arr[5]"
   ]
  },
  {
   "cell_type": "code",
   "execution_count": 54,
   "id": "acb13382",
   "metadata": {},
   "outputs": [
    {
     "data": {
      "text/plain": [
       "array([5, 6, 7])"
      ]
     },
     "execution_count": 54,
     "metadata": {},
     "output_type": "execute_result"
    }
   ],
   "source": [
    "arr[5:8]"
   ]
  },
  {
   "cell_type": "code",
   "execution_count": 55,
   "id": "b86fc964",
   "metadata": {},
   "outputs": [],
   "source": [
    "arr[5:8] = 12"
   ]
  },
  {
   "cell_type": "code",
   "execution_count": 56,
   "id": "6d9daf98",
   "metadata": {},
   "outputs": [
    {
     "data": {
      "text/plain": [
       "array([ 0,  1,  2,  3,  4, 12, 12, 12,  8,  9])"
      ]
     },
     "execution_count": 56,
     "metadata": {},
     "output_type": "execute_result"
    }
   ],
   "source": [
    "arr"
   ]
  },
  {
   "cell_type": "markdown",
   "id": "3917aa0f",
   "metadata": {},
   "source": [
    "如上所示，当你将一个标量值赋值给一个切片时(如`arr[5:8]=12`)，该值会自动传播(也就说后面将会讲到的“广播”)到整个选区。跟列表最重要的区别在于，数组切片是原始数组的视图。这意味着数据不会被复制，视图上的任何修改都会直接反映到源数组上。"
   ]
  },
  {
   "cell_type": "markdown",
   "id": "39f10371",
   "metadata": {},
   "source": [
    "作为例子，先创建一个arr的切片:"
   ]
  },
  {
   "cell_type": "code",
   "execution_count": 57,
   "id": "0523f49c",
   "metadata": {},
   "outputs": [],
   "source": [
    "arr_slice = arr[5:8]"
   ]
  },
  {
   "cell_type": "code",
   "execution_count": 58,
   "id": "f5cf0730",
   "metadata": {},
   "outputs": [
    {
     "data": {
      "text/plain": [
       "array([12, 12, 12])"
      ]
     },
     "execution_count": 58,
     "metadata": {},
     "output_type": "execute_result"
    }
   ],
   "source": [
    "arr_slice"
   ]
  },
  {
   "cell_type": "markdown",
   "id": "f2ecb8c7",
   "metadata": {},
   "source": [
    "现在，当我修改arr_slice中的值，变动也会体现在原始数组arr中:"
   ]
  },
  {
   "cell_type": "code",
   "execution_count": 59,
   "id": "ef88b878",
   "metadata": {},
   "outputs": [],
   "source": [
    "arr_slice[1] = 12345"
   ]
  },
  {
   "cell_type": "code",
   "execution_count": 60,
   "id": "53d21011",
   "metadata": {},
   "outputs": [
    {
     "data": {
      "text/plain": [
       "array([    0,     1,     2,     3,     4,    12, 12345,    12,     8,\n",
       "           9])"
      ]
     },
     "execution_count": 60,
     "metadata": {},
     "output_type": "execute_result"
    }
   ],
   "source": [
    "arr"
   ]
  },
  {
   "cell_type": "markdown",
   "id": "957da63e",
   "metadata": {},
   "source": [
    "切片[ : ]会给数组中的所有值赋值:"
   ]
  },
  {
   "cell_type": "code",
   "execution_count": 61,
   "id": "32162809",
   "metadata": {},
   "outputs": [],
   "source": [
    "arr_slice[:] = 64"
   ]
  },
  {
   "cell_type": "code",
   "execution_count": 62,
   "id": "28dc15f6",
   "metadata": {},
   "outputs": [
    {
     "data": {
      "text/plain": [
       "array([ 0,  1,  2,  3,  4, 64, 64, 64,  8,  9])"
      ]
     },
     "execution_count": 62,
     "metadata": {},
     "output_type": "execute_result"
    }
   ],
   "source": [
    "arr"
   ]
  },
  {
   "cell_type": "markdown",
   "id": "05e60f05",
   "metadata": {},
   "source": [
    "如果你刚开始接触NumPy，可能会对此感到惊讶(尤其是当你曾经用过其他热衷于复制数组数据的编程语言)。由于NumPy的设计目的是处理大数据，所以你可以想象一下，假如NumPy坚持要将数据复制来复制去的话会产生何等的性能和内存问题。"
   ]
  },
  {
   "cell_type": "markdown",
   "id": "44d9b74a",
   "metadata": {},
   "source": [
    " 注意:如果你想要得到的是ndarray切片的一份副本而非视图，就需要明确地进行复制操作，例如`arr[5:8].copy()`。"
   ]
  },
  {
   "cell_type": "markdown",
   "id": "b3f9a2aa",
   "metadata": {},
   "source": [
    "对于高维度数组，能做的事情更多。在一个二维数组中，各索引位置上的元素不再是标量而是一维数组:"
   ]
  },
  {
   "cell_type": "code",
   "execution_count": 63,
   "id": "74713e23",
   "metadata": {},
   "outputs": [],
   "source": [
    "arr2d = np.array([[1, 2, 3], [4, 5, 6], [7, 8, 9]])"
   ]
  },
  {
   "cell_type": "code",
   "execution_count": 64,
   "id": "f74914b9",
   "metadata": {},
   "outputs": [
    {
     "data": {
      "text/plain": [
       "array([7, 8, 9])"
      ]
     },
     "execution_count": 64,
     "metadata": {},
     "output_type": "execute_result"
    }
   ],
   "source": [
    "arr2d[2]"
   ]
  },
  {
   "cell_type": "markdown",
   "id": "a28d0021",
   "metadata": {},
   "source": [
    "因此，可以对各个元素进行递归访问，但这样需要做的事情有点多。你可以传入一个以逗号隔开的索引列表来选取单个元素。也就是说，下面两种方式是等价的:"
   ]
  },
  {
   "cell_type": "code",
   "execution_count": 65,
   "id": "aa3d3105",
   "metadata": {},
   "outputs": [
    {
     "data": {
      "text/plain": [
       "3"
      ]
     },
     "execution_count": 65,
     "metadata": {},
     "output_type": "execute_result"
    }
   ],
   "source": [
    "arr2d[0][2]"
   ]
  },
  {
   "cell_type": "code",
   "execution_count": 66,
   "id": "8514f48e",
   "metadata": {},
   "outputs": [
    {
     "data": {
      "text/plain": [
       "3"
      ]
     },
     "execution_count": 66,
     "metadata": {},
     "output_type": "execute_result"
    }
   ],
   "source": [
    "arr2d[0, 2]"
   ]
  },
  {
   "cell_type": "markdown",
   "id": "69f7db7f",
   "metadata": {},
   "source": [
    "在多维数组中，如果省略了后面的索引，则返回对象会是一个维度低一点的ndarray(它含有高一级维度上的所有数据)。因此，在2×2×3数组arr3d中:"
   ]
  },
  {
   "cell_type": "code",
   "execution_count": 67,
   "id": "df536cf9",
   "metadata": {},
   "outputs": [],
   "source": [
    "arr3d = np.array([[[1, 2, 3], [4, 5, 6]], [[7, 8, 9], [10, 11, 12]]])"
   ]
  },
  {
   "cell_type": "code",
   "execution_count": 68,
   "id": "f2eaeea6",
   "metadata": {},
   "outputs": [
    {
     "data": {
      "text/plain": [
       "array([[[ 1,  2,  3],\n",
       "        [ 4,  5,  6]],\n",
       "\n",
       "       [[ 7,  8,  9],\n",
       "        [10, 11, 12]]])"
      ]
     },
     "execution_count": 68,
     "metadata": {},
     "output_type": "execute_result"
    }
   ],
   "source": [
    "arr3d"
   ]
  },
  {
   "cell_type": "markdown",
   "id": "125040e4",
   "metadata": {},
   "source": [
    "arr3d[0]是一个2×3数组:"
   ]
  },
  {
   "cell_type": "code",
   "execution_count": 69,
   "id": "d2c26a62",
   "metadata": {},
   "outputs": [
    {
     "data": {
      "text/plain": [
       "array([[1, 2, 3],\n",
       "       [4, 5, 6]])"
      ]
     },
     "execution_count": 69,
     "metadata": {},
     "output_type": "execute_result"
    }
   ],
   "source": [
    "arr3d[0]"
   ]
  },
  {
   "cell_type": "markdown",
   "id": "2c63249f",
   "metadata": {},
   "source": [
    "标量值和数组都可以被赋值给arr3d[0]:"
   ]
  },
  {
   "cell_type": "code",
   "execution_count": 70,
   "id": "ad172abb",
   "metadata": {},
   "outputs": [],
   "source": [
    "old_values = arr3d[0].copy()"
   ]
  },
  {
   "cell_type": "code",
   "execution_count": 71,
   "id": "fd1720bb",
   "metadata": {},
   "outputs": [],
   "source": [
    "arr3d[0] = 42"
   ]
  },
  {
   "cell_type": "code",
   "execution_count": 72,
   "id": "b9bf85af",
   "metadata": {},
   "outputs": [
    {
     "data": {
      "text/plain": [
       "array([[[42, 42, 42],\n",
       "        [42, 42, 42]],\n",
       "\n",
       "       [[ 7,  8,  9],\n",
       "        [10, 11, 12]]])"
      ]
     },
     "execution_count": 72,
     "metadata": {},
     "output_type": "execute_result"
    }
   ],
   "source": [
    "arr3d"
   ]
  },
  {
   "cell_type": "code",
   "execution_count": 73,
   "id": "0d316a04",
   "metadata": {},
   "outputs": [],
   "source": [
    "arr3d[0] = old_values"
   ]
  },
  {
   "cell_type": "code",
   "execution_count": 74,
   "id": "211e7473",
   "metadata": {},
   "outputs": [
    {
     "data": {
      "text/plain": [
       "array([[[ 1,  2,  3],\n",
       "        [ 4,  5,  6]],\n",
       "\n",
       "       [[ 7,  8,  9],\n",
       "        [10, 11, 12]]])"
      ]
     },
     "execution_count": 74,
     "metadata": {},
     "output_type": "execute_result"
    }
   ],
   "source": [
    "arr3d"
   ]
  },
  {
   "cell_type": "markdown",
   "id": "fc37e1b5",
   "metadata": {},
   "source": [
    "相似的，arr3d[1,0]可以访问索引以(1,0)开头的那些值(以一维数组的形式返回):"
   ]
  },
  {
   "cell_type": "code",
   "execution_count": 75,
   "id": "3181d1eb",
   "metadata": {},
   "outputs": [
    {
     "data": {
      "text/plain": [
       "array([7, 8, 9])"
      ]
     },
     "execution_count": 75,
     "metadata": {},
     "output_type": "execute_result"
    }
   ],
   "source": [
    "arr3d[1, 0]"
   ]
  },
  {
   "cell_type": "markdown",
   "id": "03d2c5ed",
   "metadata": {},
   "source": [
    "虽然是用两步进行索引的，表达式是相同的:"
   ]
  },
  {
   "cell_type": "code",
   "execution_count": 76,
   "id": "dc81428f",
   "metadata": {},
   "outputs": [],
   "source": [
    "x = arr3d[1]"
   ]
  },
  {
   "cell_type": "code",
   "execution_count": 77,
   "id": "d9bf649f",
   "metadata": {},
   "outputs": [
    {
     "data": {
      "text/plain": [
       "array([[ 7,  8,  9],\n",
       "       [10, 11, 12]])"
      ]
     },
     "execution_count": 77,
     "metadata": {},
     "output_type": "execute_result"
    }
   ],
   "source": [
    "x"
   ]
  },
  {
   "cell_type": "code",
   "execution_count": 78,
   "id": "bc8a9acf",
   "metadata": {},
   "outputs": [
    {
     "data": {
      "text/plain": [
       "array([7, 8, 9])"
      ]
     },
     "execution_count": 78,
     "metadata": {},
     "output_type": "execute_result"
    }
   ],
   "source": [
    "x[0]"
   ]
  },
  {
   "cell_type": "markdown",
   "id": "81b08d93",
   "metadata": {},
   "source": [
    "注意，在上面所有这些选取数组子集的例子中，返回的数组都是视图。     \n",
    "\n",
    "所谓视图是指该数据可以被其他方法直接操作并引起原来数值对应位置元素发生改变。与之对应的是构造新的数组，使用.copy()方法避免使用视图。"
   ]
  },
  {
   "cell_type": "markdown",
   "id": "476cf1fc",
   "metadata": {},
   "source": [
    "### 4.1.4.1 数组的切片索引"
   ]
  },
  {
   "cell_type": "markdown",
   "id": "0b236b1d",
   "metadata": {},
   "source": [
    "ndarray的切片语法跟Python列表这样的一维对象差不多:"
   ]
  },
  {
   "cell_type": "code",
   "execution_count": 79,
   "id": "255e62c1",
   "metadata": {},
   "outputs": [
    {
     "data": {
      "text/plain": [
       "array([ 0,  1,  2,  3,  4, 64, 64, 64,  8,  9])"
      ]
     },
     "execution_count": 79,
     "metadata": {},
     "output_type": "execute_result"
    }
   ],
   "source": [
    "arr"
   ]
  },
  {
   "cell_type": "code",
   "execution_count": 80,
   "id": "4dd0169d",
   "metadata": {},
   "outputs": [
    {
     "data": {
      "text/plain": [
       "array([ 1,  2,  3,  4, 64])"
      ]
     },
     "execution_count": 80,
     "metadata": {},
     "output_type": "execute_result"
    }
   ],
   "source": [
    "arr[1:6]"
   ]
  },
  {
   "cell_type": "markdown",
   "id": "9495e495",
   "metadata": {},
   "source": [
    "对于之前的二维数组arr2d，其切片方式稍显不同:"
   ]
  },
  {
   "cell_type": "code",
   "execution_count": 81,
   "id": "ae5c9a85",
   "metadata": {},
   "outputs": [
    {
     "data": {
      "text/plain": [
       "array([[1, 2, 3],\n",
       "       [4, 5, 6],\n",
       "       [7, 8, 9]])"
      ]
     },
     "execution_count": 81,
     "metadata": {},
     "output_type": "execute_result"
    }
   ],
   "source": [
    "arr2d"
   ]
  },
  {
   "cell_type": "code",
   "execution_count": 82,
   "id": "cd1e23ec",
   "metadata": {},
   "outputs": [
    {
     "data": {
      "text/plain": [
       "array([[1, 2, 3],\n",
       "       [4, 5, 6]])"
      ]
     },
     "execution_count": 82,
     "metadata": {},
     "output_type": "execute_result"
    }
   ],
   "source": [
    "arr2d[:2]"
   ]
  },
  {
   "cell_type": "markdown",
   "id": "26362938",
   "metadata": {},
   "source": [
    "可以看出，它是沿着第0轴(即第一个轴)切片的。也就是说, 切片是沿着一个轴向选取元素的。表达式arr2d[:2]可以被认为是“选取arr2d的前两行”。"
   ]
  },
  {
   "cell_type": "markdown",
   "id": "ad0373b1",
   "metadata": {},
   "source": [
    "你可以一次传入多个切片，就像传入多个索引那样:"
   ]
  },
  {
   "cell_type": "code",
   "execution_count": 83,
   "id": "ddb329bf",
   "metadata": {},
   "outputs": [
    {
     "data": {
      "text/plain": [
       "array([[2, 3],\n",
       "       [5, 6]])"
      ]
     },
     "execution_count": 83,
     "metadata": {},
     "output_type": "execute_result"
    }
   ],
   "source": [
    "arr2d[:2, 1:]"
   ]
  },
  {
   "cell_type": "markdown",
   "id": "fb82366f",
   "metadata": {},
   "source": [
    "像这样进行切片时，只能得到相同维数的数组视图。通过将整数索引和切片混合，可以得到低维度的切片。"
   ]
  },
  {
   "cell_type": "markdown",
   "id": "4aecdb1b",
   "metadata": {},
   "source": [
    "例如，我可以选取第二行的前两列:"
   ]
  },
  {
   "cell_type": "code",
   "execution_count": 84,
   "id": "4cd5e494",
   "metadata": {},
   "outputs": [
    {
     "data": {
      "text/plain": [
       "array([4, 5])"
      ]
     },
     "execution_count": 84,
     "metadata": {},
     "output_type": "execute_result"
    }
   ],
   "source": [
    "arr2d[1, :2]"
   ]
  },
  {
   "cell_type": "markdown",
   "id": "e46f2d3c",
   "metadata": {},
   "source": [
    "相似的，还可以选择第三列的前两行:"
   ]
  },
  {
   "cell_type": "code",
   "execution_count": 85,
   "id": "b533a53e",
   "metadata": {},
   "outputs": [
    {
     "data": {
      "text/plain": [
       "array([3, 6])"
      ]
     },
     "execution_count": 85,
     "metadata": {},
     "output_type": "execute_result"
    }
   ],
   "source": [
    "arr2d[:2, 2]"
   ]
  },
  {
   "cell_type": "markdown",
   "id": "c5d3af60",
   "metadata": {},
   "source": [
    "注意，“只有冒号”表示选取整个轴，因此你可以像下面这样只对高维轴进行切片:"
   ]
  },
  {
   "cell_type": "code",
   "execution_count": 86,
   "id": "8b735c3d",
   "metadata": {},
   "outputs": [
    {
     "data": {
      "text/plain": [
       "array([[1],\n",
       "       [4],\n",
       "       [7]])"
      ]
     },
     "execution_count": 86,
     "metadata": {},
     "output_type": "execute_result"
    }
   ],
   "source": [
    "arr2d[:, :1]"
   ]
  },
  {
   "cell_type": "markdown",
   "id": "bf2a08cd",
   "metadata": {},
   "source": [
    "自然，对切片表达式的赋值操作也会被扩散到整个选区:"
   ]
  },
  {
   "cell_type": "code",
   "execution_count": 87,
   "id": "2029c658",
   "metadata": {},
   "outputs": [],
   "source": [
    "arr2d[:2, 1:] = 0"
   ]
  },
  {
   "cell_type": "code",
   "execution_count": 88,
   "id": "564e13cd",
   "metadata": {},
   "outputs": [
    {
     "data": {
      "text/plain": [
       "array([[1, 0, 0],\n",
       "       [4, 0, 0],\n",
       "       [7, 8, 9]])"
      ]
     },
     "execution_count": 88,
     "metadata": {},
     "output_type": "execute_result"
    }
   ],
   "source": [
    "arr2d"
   ]
  },
  {
   "cell_type": "markdown",
   "id": "4698cbb6",
   "metadata": {},
   "source": [
    "## 4.1.5 布尔型索引"
   ]
  },
  {
   "cell_type": "markdown",
   "id": "215f79b2",
   "metadata": {},
   "source": [
    "来看这样一个例子，假设我们有一个用于存储数据的数组以及一个存储姓名的数组(含有重复项)。在这里，我将使用numpy.random中的randn函数生成一些正态分布的随机数据:"
   ]
  },
  {
   "cell_type": "code",
   "execution_count": 89,
   "id": "63aadd57",
   "metadata": {},
   "outputs": [],
   "source": [
    "names = np.array(['Bob', 'Joe', 'Will', 'Bob', 'Will', 'Joe', 'Joe'])"
   ]
  },
  {
   "cell_type": "code",
   "execution_count": 90,
   "id": "726b516a",
   "metadata": {},
   "outputs": [],
   "source": [
    "data = np.random.randn(7, 4)"
   ]
  },
  {
   "cell_type": "code",
   "execution_count": 91,
   "id": "69a274de",
   "metadata": {},
   "outputs": [
    {
     "data": {
      "text/plain": [
       "array(['Bob', 'Joe', 'Will', 'Bob', 'Will', 'Joe', 'Joe'], dtype='<U4')"
      ]
     },
     "execution_count": 91,
     "metadata": {},
     "output_type": "execute_result"
    }
   ],
   "source": [
    "names"
   ]
  },
  {
   "cell_type": "code",
   "execution_count": 92,
   "id": "c5223118",
   "metadata": {},
   "outputs": [
    {
     "data": {
      "text/plain": [
       "array([[ 1.03426945,  1.20160331, -1.33953075,  2.59387647],\n",
       "       [ 0.46211698,  1.53545279,  1.22415516,  2.70394259],\n",
       "       [ 0.47702238, -0.75914978,  0.5114937 ,  0.12155346],\n",
       "       [ 0.11674239, -1.4652537 ,  0.29440029, -0.21640753],\n",
       "       [-0.49637314, -1.34342623, -0.38488944,  0.52064352],\n",
       "       [ 0.41290604, -0.18853891, -1.06158231,  0.93825492],\n",
       "       [ 0.5540409 , -1.06171977, -1.64905577, -0.53091991]])"
      ]
     },
     "execution_count": 92,
     "metadata": {},
     "output_type": "execute_result"
    }
   ],
   "source": [
    "data"
   ]
  },
  {
   "cell_type": "markdown",
   "id": "9559a76c",
   "metadata": {},
   "source": [
    "假设每个名字都对应data数组中的一行，而我们想要选出对应于名字\"Bob\"的所有行。跟算术运算一样，数组的比较运算(如==)也是矢量化的。因此，对names和字符串\"Bob\"的比较运算将会产生一个布尔型数组:"
   ]
  },
  {
   "cell_type": "code",
   "execution_count": 93,
   "id": "d8e06eeb",
   "metadata": {},
   "outputs": [
    {
     "data": {
      "text/plain": [
       "array([ True, False, False,  True, False, False, False])"
      ]
     },
     "execution_count": 93,
     "metadata": {},
     "output_type": "execute_result"
    }
   ],
   "source": [
    "names == 'Bob'"
   ]
  },
  {
   "cell_type": "markdown",
   "id": "5f70e0fe",
   "metadata": {},
   "source": [
    "这个布尔型数组可用于数组索引:"
   ]
  },
  {
   "cell_type": "code",
   "execution_count": 94,
   "id": "b20a0eb5",
   "metadata": {},
   "outputs": [
    {
     "data": {
      "text/plain": [
       "array([[ 1.03426945,  1.20160331, -1.33953075,  2.59387647],\n",
       "       [ 0.11674239, -1.4652537 ,  0.29440029, -0.21640753]])"
      ]
     },
     "execution_count": 94,
     "metadata": {},
     "output_type": "execute_result"
    }
   ],
   "source": [
    "data[names == 'Bob']"
   ]
  },
  {
   "cell_type": "markdown",
   "id": "6af4dc17",
   "metadata": {},
   "source": [
    "布尔型数组的长度必须跟被索引的轴长度一致。此外，还可以将布尔型数组跟切片、整数(或整数序列，稍后将对此进行详细讲解)混合使用。     \n",
    "\n",
    " 注意:如果布尔型数组的长度不对，布尔型选择就会出错，因此一定要\n",
    "小心     \n",
    "\n",
    "下面的例子，我选取了 `names == 'Bob' `的行，并索引了列:"
   ]
  },
  {
   "cell_type": "code",
   "execution_count": 95,
   "id": "9bf3da14",
   "metadata": {},
   "outputs": [
    {
     "data": {
      "text/plain": [
       "array([[-1.33953075,  2.59387647],\n",
       "       [ 0.29440029, -0.21640753]])"
      ]
     },
     "execution_count": 95,
     "metadata": {},
     "output_type": "execute_result"
    }
   ],
   "source": [
    "data[names == 'Bob', 2:]"
   ]
  },
  {
   "cell_type": "code",
   "execution_count": 96,
   "id": "00736d56",
   "metadata": {},
   "outputs": [
    {
     "data": {
      "text/plain": [
       "array([ 2.59387647, -0.21640753])"
      ]
     },
     "execution_count": 96,
     "metadata": {},
     "output_type": "execute_result"
    }
   ],
   "source": [
    "data[names == 'Bob', 3]"
   ]
  },
  {
   "cell_type": "markdown",
   "id": "b22ad7e0",
   "metadata": {},
   "source": [
    "要选择除\"Bob\"以外的其他值，既可以使用不等于符号(!=)，也可以通过~对条件进行否定:"
   ]
  },
  {
   "cell_type": "code",
   "execution_count": 97,
   "id": "88353ccc",
   "metadata": {},
   "outputs": [
    {
     "data": {
      "text/plain": [
       "array([False,  True,  True, False,  True,  True,  True])"
      ]
     },
     "execution_count": 97,
     "metadata": {},
     "output_type": "execute_result"
    }
   ],
   "source": [
    "names != 'Bob'"
   ]
  },
  {
   "cell_type": "code",
   "execution_count": 98,
   "id": "cda0ebbb",
   "metadata": {},
   "outputs": [
    {
     "data": {
      "text/plain": [
       "array([[ 0.46211698,  1.53545279,  1.22415516,  2.70394259],\n",
       "       [ 0.47702238, -0.75914978,  0.5114937 ,  0.12155346],\n",
       "       [-0.49637314, -1.34342623, -0.38488944,  0.52064352],\n",
       "       [ 0.41290604, -0.18853891, -1.06158231,  0.93825492],\n",
       "       [ 0.5540409 , -1.06171977, -1.64905577, -0.53091991]])"
      ]
     },
     "execution_count": 98,
     "metadata": {},
     "output_type": "execute_result"
    }
   ],
   "source": [
    "data[~(names == 'Bob')]"
   ]
  },
  {
   "cell_type": "markdown",
   "id": "f2730a1a",
   "metadata": {},
   "source": [
    "~操作符用来反转条件很好用:"
   ]
  },
  {
   "cell_type": "code",
   "execution_count": 99,
   "id": "372c7489",
   "metadata": {},
   "outputs": [],
   "source": [
    "cond = names == 'Bob'"
   ]
  },
  {
   "cell_type": "code",
   "execution_count": 100,
   "id": "ab946fcf",
   "metadata": {},
   "outputs": [
    {
     "data": {
      "text/plain": [
       "array([[ 0.46211698,  1.53545279,  1.22415516,  2.70394259],\n",
       "       [ 0.47702238, -0.75914978,  0.5114937 ,  0.12155346],\n",
       "       [-0.49637314, -1.34342623, -0.38488944,  0.52064352],\n",
       "       [ 0.41290604, -0.18853891, -1.06158231,  0.93825492],\n",
       "       [ 0.5540409 , -1.06171977, -1.64905577, -0.53091991]])"
      ]
     },
     "execution_count": 100,
     "metadata": {},
     "output_type": "execute_result"
    }
   ],
   "source": [
    "data[~cond]"
   ]
  },
  {
   "cell_type": "markdown",
   "id": "91abfb69",
   "metadata": {},
   "source": [
    "选取这三个名字中的两个需要组合应用多个布尔条件，使用&(和)、|(或)之类的布尔算术运算符即可:"
   ]
  },
  {
   "cell_type": "code",
   "execution_count": 101,
   "id": "312ce439",
   "metadata": {},
   "outputs": [],
   "source": [
    "mask = (names == 'Bob') | (names == 'Will')"
   ]
  },
  {
   "cell_type": "code",
   "execution_count": 102,
   "id": "7f4ad516",
   "metadata": {},
   "outputs": [
    {
     "data": {
      "text/plain": [
       "array([ True, False,  True,  True,  True, False, False])"
      ]
     },
     "execution_count": 102,
     "metadata": {},
     "output_type": "execute_result"
    }
   ],
   "source": [
    "mask"
   ]
  },
  {
   "cell_type": "code",
   "execution_count": 103,
   "id": "3b562312",
   "metadata": {},
   "outputs": [
    {
     "data": {
      "text/plain": [
       "array([[ 1.03426945,  1.20160331, -1.33953075,  2.59387647],\n",
       "       [ 0.47702238, -0.75914978,  0.5114937 ,  0.12155346],\n",
       "       [ 0.11674239, -1.4652537 ,  0.29440029, -0.21640753],\n",
       "       [-0.49637314, -1.34342623, -0.38488944,  0.52064352]])"
      ]
     },
     "execution_count": 103,
     "metadata": {},
     "output_type": "execute_result"
    }
   ],
   "source": [
    "data[mask]"
   ]
  },
  {
   "cell_type": "markdown",
   "id": "f150d144",
   "metadata": {},
   "source": [
    "通过布尔型索引选取数组中的数据，将总是创建数据的副本，即使返回一模一样的数组也是如此。"
   ]
  },
  {
   "cell_type": "markdown",
   "id": "27bc9e5a",
   "metadata": {},
   "source": [
    "注意:Python关键字and和or在布尔型数组中无效。要使用&与|。"
   ]
  },
  {
   "cell_type": "markdown",
   "id": "6cabf3f9",
   "metadata": {},
   "source": [
    "通过布尔型数组设置值是一种经常用到的手段。为了将data中的所有负值都设置为0，我们只需:"
   ]
  },
  {
   "cell_type": "code",
   "execution_count": 104,
   "id": "cbfea50b",
   "metadata": {},
   "outputs": [],
   "source": [
    "data[data < 0] = 0"
   ]
  },
  {
   "cell_type": "code",
   "execution_count": 105,
   "id": "8cb9b810",
   "metadata": {},
   "outputs": [
    {
     "data": {
      "text/plain": [
       "array([[1.03426945, 1.20160331, 0.        , 2.59387647],\n",
       "       [0.46211698, 1.53545279, 1.22415516, 2.70394259],\n",
       "       [0.47702238, 0.        , 0.5114937 , 0.12155346],\n",
       "       [0.11674239, 0.        , 0.29440029, 0.        ],\n",
       "       [0.        , 0.        , 0.        , 0.52064352],\n",
       "       [0.41290604, 0.        , 0.        , 0.93825492],\n",
       "       [0.5540409 , 0.        , 0.        , 0.        ]])"
      ]
     },
     "execution_count": 105,
     "metadata": {},
     "output_type": "execute_result"
    }
   ],
   "source": [
    "data"
   ]
  },
  {
   "cell_type": "markdown",
   "id": "0185b979",
   "metadata": {},
   "source": [
    "通过一维布尔数组设置整行或列的值也很简单:"
   ]
  },
  {
   "cell_type": "code",
   "execution_count": 106,
   "id": "a33937a7",
   "metadata": {},
   "outputs": [],
   "source": [
    "data[names != 'Joe'] = 7"
   ]
  },
  {
   "cell_type": "code",
   "execution_count": 107,
   "id": "a569e3c7",
   "metadata": {},
   "outputs": [
    {
     "data": {
      "text/plain": [
       "array([[7.        , 7.        , 7.        , 7.        ],\n",
       "       [0.46211698, 1.53545279, 1.22415516, 2.70394259],\n",
       "       [7.        , 7.        , 7.        , 7.        ],\n",
       "       [7.        , 7.        , 7.        , 7.        ],\n",
       "       [7.        , 7.        , 7.        , 7.        ],\n",
       "       [0.41290604, 0.        , 0.        , 0.93825492],\n",
       "       [0.5540409 , 0.        , 0.        , 0.        ]])"
      ]
     },
     "execution_count": 107,
     "metadata": {},
     "output_type": "execute_result"
    }
   ],
   "source": [
    "data"
   ]
  },
  {
   "cell_type": "markdown",
   "id": "29b3054b",
   "metadata": {},
   "source": [
    "后面会看到，这类二维数据的操作也可以用pandas方便的来做。"
   ]
  },
  {
   "cell_type": "markdown",
   "id": "253e6c44",
   "metadata": {},
   "source": [
    "## 4.1.6 花式索引"
   ]
  },
  {
   "cell_type": "markdown",
   "id": "98a4357d",
   "metadata": {},
   "source": [
    "花式索引(Fancy indexing)是一个NumPy术语，它指的是利用整数数组进行索引。假设我们有一个8×4数组:"
   ]
  },
  {
   "cell_type": "code",
   "execution_count": 108,
   "id": "fd956a22",
   "metadata": {},
   "outputs": [],
   "source": [
    "arr = np.empty((8, 4))"
   ]
  },
  {
   "cell_type": "code",
   "execution_count": 109,
   "id": "8cf37035",
   "metadata": {},
   "outputs": [],
   "source": [
    "for i in range(8):\n",
    "    arr[i] = i"
   ]
  },
  {
   "cell_type": "code",
   "execution_count": 110,
   "id": "77cc8a4e",
   "metadata": {},
   "outputs": [
    {
     "data": {
      "text/plain": [
       "array([[0., 0., 0., 0.],\n",
       "       [1., 1., 1., 1.],\n",
       "       [2., 2., 2., 2.],\n",
       "       [3., 3., 3., 3.],\n",
       "       [4., 4., 4., 4.],\n",
       "       [5., 5., 5., 5.],\n",
       "       [6., 6., 6., 6.],\n",
       "       [7., 7., 7., 7.]])"
      ]
     },
     "execution_count": 110,
     "metadata": {},
     "output_type": "execute_result"
    }
   ],
   "source": [
    "arr"
   ]
  },
  {
   "cell_type": "markdown",
   "id": "5bffdac3",
   "metadata": {},
   "source": [
    "为了以特定顺序选取行子集，只需传入一个用于指定顺序的整数列表或ndarray即可:"
   ]
  },
  {
   "cell_type": "code",
   "execution_count": 111,
   "id": "8d585e6d",
   "metadata": {},
   "outputs": [
    {
     "data": {
      "text/plain": [
       "array([[4., 4., 4., 4.],\n",
       "       [3., 3., 3., 3.],\n",
       "       [0., 0., 0., 0.],\n",
       "       [6., 6., 6., 6.]])"
      ]
     },
     "execution_count": 111,
     "metadata": {},
     "output_type": "execute_result"
    }
   ],
   "source": [
    "arr[[4, 3, 0, 6]]"
   ]
  },
  {
   "cell_type": "markdown",
   "id": "0a4c6506",
   "metadata": {},
   "source": [
    "这段代码确实达到我们的要求了!使用负数索引将会从末尾开始选取行:"
   ]
  },
  {
   "cell_type": "code",
   "execution_count": 112,
   "id": "ce9d6629",
   "metadata": {},
   "outputs": [
    {
     "data": {
      "text/plain": [
       "array([[5., 5., 5., 5.],\n",
       "       [3., 3., 3., 3.],\n",
       "       [1., 1., 1., 1.]])"
      ]
     },
     "execution_count": 112,
     "metadata": {},
     "output_type": "execute_result"
    }
   ],
   "source": [
    "arr[[-3, -5, -7]]"
   ]
  },
  {
   "cell_type": "markdown",
   "id": "95c1f812",
   "metadata": {},
   "source": [
    "一次传入多个索引数组会有一点特别。它返回的是一个一维数组，其中的元素对应各个索引元组:"
   ]
  },
  {
   "cell_type": "code",
   "execution_count": 113,
   "id": "f517d2d7",
   "metadata": {},
   "outputs": [],
   "source": [
    "arr = np.arange(32).reshape((8, 4))"
   ]
  },
  {
   "cell_type": "code",
   "execution_count": 114,
   "id": "89259886",
   "metadata": {},
   "outputs": [
    {
     "data": {
      "text/plain": [
       "array([[ 0,  1,  2,  3],\n",
       "       [ 4,  5,  6,  7],\n",
       "       [ 8,  9, 10, 11],\n",
       "       [12, 13, 14, 15],\n",
       "       [16, 17, 18, 19],\n",
       "       [20, 21, 22, 23],\n",
       "       [24, 25, 26, 27],\n",
       "       [28, 29, 30, 31]])"
      ]
     },
     "execution_count": 114,
     "metadata": {},
     "output_type": "execute_result"
    }
   ],
   "source": [
    "arr"
   ]
  },
  {
   "cell_type": "code",
   "execution_count": 115,
   "id": "8f453087",
   "metadata": {},
   "outputs": [
    {
     "data": {
      "text/plain": [
       "array([ 4, 23, 29, 10])"
      ]
     },
     "execution_count": 115,
     "metadata": {},
     "output_type": "execute_result"
    }
   ],
   "source": [
    "arr[[1, 5, 7, 2], [0, 3, 1, 2]]"
   ]
  },
  {
   "cell_type": "markdown",
   "id": "1da9f3ae",
   "metadata": {},
   "source": [
    "附录A中会详细介绍reshape方法。     \n",
    "\n",
    "最终选出的是元素(1,0)、(5,3)、(7,1)和(2,2)。无论数组是多少维的，花式索引总是一维的。"
   ]
  },
  {
   "cell_type": "markdown",
   "id": "236ca80b",
   "metadata": {},
   "source": [
    "这个花式索引的行为可能会跟某些用户的预期不一样(包括我在内)，选取矩阵的行列子集应该是矩形区域的形式才对。下面是得到该结果的一个办法:"
   ]
  },
  {
   "cell_type": "code",
   "execution_count": 116,
   "id": "1de77008",
   "metadata": {},
   "outputs": [
    {
     "data": {
      "text/plain": [
       "array([[ 4,  7,  5,  6],\n",
       "       [20, 23, 21, 22],\n",
       "       [28, 31, 29, 30],\n",
       "       [ 8, 11,  9, 10]])"
      ]
     },
     "execution_count": 116,
     "metadata": {},
     "output_type": "execute_result"
    }
   ],
   "source": [
    "arr[[1, 5, 7, 2]][:, [0, 3, 1, 2]]"
   ]
  },
  {
   "cell_type": "markdown",
   "id": "b4566459",
   "metadata": {},
   "source": [
    "记住，花式索引跟切片不一样，它总是将数据复制到新数组中。"
   ]
  },
  {
   "cell_type": "markdown",
   "id": "b1a6fab9",
   "metadata": {},
   "source": [
    "## 4.1.7 数组转置和轴对换"
   ]
  },
  {
   "cell_type": "markdown",
   "id": "1a5cf589",
   "metadata": {},
   "source": [
    "转置是重塑的一种特殊形式，它返回的是源数据的视图(不会进行任何复制操作)。数组不仅有transpose方法，还有一个特殊的T属性:"
   ]
  },
  {
   "cell_type": "code",
   "execution_count": 117,
   "id": "0940f730",
   "metadata": {},
   "outputs": [],
   "source": [
    "arr = np.arange(15).reshape((3, 5))"
   ]
  },
  {
   "cell_type": "code",
   "execution_count": 118,
   "id": "8b22048a",
   "metadata": {},
   "outputs": [
    {
     "data": {
      "text/plain": [
       "array([[ 0,  1,  2,  3,  4],\n",
       "       [ 5,  6,  7,  8,  9],\n",
       "       [10, 11, 12, 13, 14]])"
      ]
     },
     "execution_count": 118,
     "metadata": {},
     "output_type": "execute_result"
    }
   ],
   "source": [
    "arr"
   ]
  },
  {
   "cell_type": "code",
   "execution_count": 119,
   "id": "3eafcc86",
   "metadata": {},
   "outputs": [
    {
     "data": {
      "text/plain": [
       "array([[ 0,  5, 10],\n",
       "       [ 1,  6, 11],\n",
       "       [ 2,  7, 12],\n",
       "       [ 3,  8, 13],\n",
       "       [ 4,  9, 14]])"
      ]
     },
     "execution_count": 119,
     "metadata": {},
     "output_type": "execute_result"
    }
   ],
   "source": [
    "arr.T"
   ]
  },
  {
   "cell_type": "markdown",
   "id": "7bdb1704",
   "metadata": {},
   "source": [
    "在进行矩阵计算时，经常需要用到该操作，比如利用np.dot计算矩阵内积:"
   ]
  },
  {
   "cell_type": "code",
   "execution_count": 120,
   "id": "9c4ab97c",
   "metadata": {},
   "outputs": [],
   "source": [
    "arr = np.random.randn(6, 3)"
   ]
  },
  {
   "cell_type": "code",
   "execution_count": 121,
   "id": "e371436a",
   "metadata": {},
   "outputs": [
    {
     "data": {
      "text/plain": [
       "array([[-0.74197019,  0.88216959,  0.10744229],\n",
       "       [-1.29934029, -2.09282653, -0.54365917],\n",
       "       [-0.68249979,  2.0281611 ,  1.638541  ],\n",
       "       [-1.21176792,  2.03500448,  0.81406033],\n",
       "       [ 1.25982169, -1.48034036,  0.82374476],\n",
       "       [-0.56475977,  0.59535848, -0.33495002]])"
      ]
     },
     "execution_count": 121,
     "metadata": {},
     "output_type": "execute_result"
    }
   ],
   "source": [
    "arr"
   ]
  },
  {
   "cell_type": "code",
   "execution_count": 122,
   "id": "7f740872",
   "metadata": {},
   "outputs": [
    {
     "data": {
      "text/plain": [
       "array([[ 6.07909669, -3.98662178, -0.25113898],\n",
       "       [-3.98662178, 15.95868605,  4.79357023],\n",
       "       [-0.25113898,  4.79357023,  4.4453669 ]])"
      ]
     },
     "execution_count": 122,
     "metadata": {},
     "output_type": "execute_result"
    }
   ],
   "source": [
    "np.dot(arr.T, arr)"
   ]
  },
  {
   "cell_type": "markdown",
   "id": "b09b4d7c",
   "metadata": {},
   "source": [
    "对于高维数组，transpose需要得到一个由轴编号组成的元组才能对这些轴进行转置(比较费脑子):"
   ]
  },
  {
   "cell_type": "code",
   "execution_count": 123,
   "id": "c54d0abe",
   "metadata": {},
   "outputs": [],
   "source": [
    "arr = np.arange(16).reshape((2, 2, 4))"
   ]
  },
  {
   "cell_type": "code",
   "execution_count": 124,
   "id": "d5924676",
   "metadata": {},
   "outputs": [
    {
     "data": {
      "text/plain": [
       "array([[[ 0,  1,  2,  3],\n",
       "        [ 4,  5,  6,  7]],\n",
       "\n",
       "       [[ 8,  9, 10, 11],\n",
       "        [12, 13, 14, 15]]])"
      ]
     },
     "execution_count": 124,
     "metadata": {},
     "output_type": "execute_result"
    }
   ],
   "source": [
    "arr"
   ]
  },
  {
   "cell_type": "code",
   "execution_count": 125,
   "id": "789fe759",
   "metadata": {},
   "outputs": [
    {
     "data": {
      "text/plain": [
       "array([[[ 0,  1,  2,  3],\n",
       "        [ 8,  9, 10, 11]],\n",
       "\n",
       "       [[ 4,  5,  6,  7],\n",
       "        [12, 13, 14, 15]]])"
      ]
     },
     "execution_count": 125,
     "metadata": {},
     "output_type": "execute_result"
    }
   ],
   "source": [
    "arr.transpose((1, 0, 2))"
   ]
  },
  {
   "cell_type": "markdown",
   "id": "582f0e6b",
   "metadata": {},
   "source": [
    "这里，第一个轴被换成了第二个，第二个轴被换成了第一个，最后一个轴不变。"
   ]
  },
  {
   "cell_type": "markdown",
   "id": "27078df0",
   "metadata": {},
   "source": [
    "关于三维数组的三个轴(0,1,2)轴，其中0，1轴是在降维之后的列轴和行轴，每个元素便是一个一维数组，看做A,B,C,D; 2轴便是每个一维数组的行轴，所以以上都是2x2x4的三维数组的例子，可以对应根据理解。"
   ]
  },
  {
   "cell_type": "markdown",
   "id": "92086787",
   "metadata": {},
   "source": [
    "简单的转置可以使用.T，它其实就是进行轴对换而已。ndarray还有一个 swapaxes方法，它需要接受一对轴编号:"
   ]
  },
  {
   "cell_type": "code",
   "execution_count": 126,
   "id": "4e94096b",
   "metadata": {},
   "outputs": [
    {
     "data": {
      "text/plain": [
       "array([[[ 0,  1,  2,  3],\n",
       "        [ 4,  5,  6,  7]],\n",
       "\n",
       "       [[ 8,  9, 10, 11],\n",
       "        [12, 13, 14, 15]]])"
      ]
     },
     "execution_count": 126,
     "metadata": {},
     "output_type": "execute_result"
    }
   ],
   "source": [
    "arr"
   ]
  },
  {
   "cell_type": "code",
   "execution_count": 132,
   "id": "ac44c1e0",
   "metadata": {},
   "outputs": [
    {
     "data": {
      "text/plain": [
       "array([[[ 0,  4],\n",
       "        [ 1,  5],\n",
       "        [ 2,  6],\n",
       "        [ 3,  7]],\n",
       "\n",
       "       [[ 8, 12],\n",
       "        [ 9, 13],\n",
       "        [10, 14],\n",
       "        [11, 15]]])"
      ]
     },
     "execution_count": 132,
     "metadata": {},
     "output_type": "execute_result"
    }
   ],
   "source": [
    "arr.swapaxes(1, 2)"
   ]
  },
  {
   "cell_type": "markdown",
   "id": "d75c41d1",
   "metadata": {},
   "source": [
    "swapaxes也是返回源数据的视图(不会进行任何复制操作)。"
   ]
  },
  {
   "cell_type": "markdown",
   "id": "7afb2398",
   "metadata": {},
   "source": [
    "上面的操作是将1，2轴互换，成为一个2x4x2的三维数组。"
   ]
  },
  {
   "cell_type": "markdown",
   "id": "31663144",
   "metadata": {},
   "source": [
    "# 4.2 通用函数:快速的元素级数组函数"
   ]
  },
  {
   "cell_type": "markdown",
   "id": "82626d2a",
   "metadata": {},
   "source": [
    "通用函数(即ufunc)是一种对ndarray中的数据执行元素级运算的函数。你可以将其看做简单函数(接受一个或多个标量值，并产生一个或多个标量值)的矢量化包装器。"
   ]
  },
  {
   "cell_type": "markdown",
   "id": "2846a30e",
   "metadata": {},
   "source": [
    "许多ufunc都是简单的元素级变体，如sqrt和exp:"
   ]
  },
  {
   "cell_type": "code",
   "execution_count": 133,
   "id": "5943ee9f",
   "metadata": {},
   "outputs": [],
   "source": [
    "arr = np.arange(10)"
   ]
  },
  {
   "cell_type": "code",
   "execution_count": 134,
   "id": "d1787186",
   "metadata": {},
   "outputs": [
    {
     "data": {
      "text/plain": [
       "array([0, 1, 2, 3, 4, 5, 6, 7, 8, 9])"
      ]
     },
     "execution_count": 134,
     "metadata": {},
     "output_type": "execute_result"
    }
   ],
   "source": [
    "arr"
   ]
  },
  {
   "cell_type": "code",
   "execution_count": 135,
   "id": "4e6527f1",
   "metadata": {},
   "outputs": [
    {
     "data": {
      "text/plain": [
       "array([0.        , 1.        , 1.41421356, 1.73205081, 2.        ,\n",
       "       2.23606798, 2.44948974, 2.64575131, 2.82842712, 3.        ])"
      ]
     },
     "execution_count": 135,
     "metadata": {},
     "output_type": "execute_result"
    }
   ],
   "source": [
    "np.sqrt(arr)"
   ]
  },
  {
   "cell_type": "code",
   "execution_count": 136,
   "id": "b987526f",
   "metadata": {},
   "outputs": [
    {
     "data": {
      "text/plain": [
       "array([1.00000000e+00, 2.71828183e+00, 7.38905610e+00, 2.00855369e+01,\n",
       "       5.45981500e+01, 1.48413159e+02, 4.03428793e+02, 1.09663316e+03,\n",
       "       2.98095799e+03, 8.10308393e+03])"
      ]
     },
     "execution_count": 136,
     "metadata": {},
     "output_type": "execute_result"
    }
   ],
   "source": [
    "np.exp(arr)"
   ]
  },
  {
   "cell_type": "markdown",
   "id": "f827475d",
   "metadata": {},
   "source": [
    "这些都是一元(unary)ufunc。另外一些(如add或maximum)接受2个数组(因此也叫二元(binary)ufunc)，并返回一个结果数组:"
   ]
  },
  {
   "cell_type": "code",
   "execution_count": 137,
   "id": "9f544bf6",
   "metadata": {},
   "outputs": [],
   "source": [
    "x = np.random.randn(8)"
   ]
  },
  {
   "cell_type": "code",
   "execution_count": 138,
   "id": "03155cea",
   "metadata": {},
   "outputs": [],
   "source": [
    "y = np.random.randn(8)"
   ]
  },
  {
   "cell_type": "code",
   "execution_count": 139,
   "id": "303823d8",
   "metadata": {},
   "outputs": [
    {
     "data": {
      "text/plain": [
       "array([0.44605394, 0.41366068, 1.02153322, 0.08126391, 1.26266319,\n",
       "       0.19227242, 0.3194971 , 1.89201578])"
      ]
     },
     "execution_count": 139,
     "metadata": {},
     "output_type": "execute_result"
    }
   ],
   "source": [
    "x"
   ]
  },
  {
   "cell_type": "code",
   "execution_count": 140,
   "id": "4f14605e",
   "metadata": {},
   "outputs": [
    {
     "data": {
      "text/plain": [
       "array([ 0.90686599, -0.46352592, -0.00173284,  0.37874521, -1.579634  ,\n",
       "       -0.56426572,  1.20222265,  0.66841113])"
      ]
     },
     "execution_count": 140,
     "metadata": {},
     "output_type": "execute_result"
    }
   ],
   "source": [
    "y"
   ]
  },
  {
   "cell_type": "code",
   "execution_count": 141,
   "id": "31ba1526",
   "metadata": {},
   "outputs": [
    {
     "data": {
      "text/plain": [
       "array([0.90686599, 0.41366068, 1.02153322, 0.37874521, 1.26266319,\n",
       "       0.19227242, 1.20222265, 1.89201578])"
      ]
     },
     "execution_count": 141,
     "metadata": {},
     "output_type": "execute_result"
    }
   ],
   "source": [
    "np.maximum(x, y)"
   ]
  },
  {
   "cell_type": "markdown",
   "id": "200e6d59",
   "metadata": {},
   "source": [
    "这里，numpy.maximum计算了x和y中元素级别最大的元素。"
   ]
  },
  {
   "cell_type": "markdown",
   "id": "6b838d54",
   "metadata": {},
   "source": [
    "虽然并不常见，但有些ufunc的确可以返回多个数组。modf就是一个例子，它是Python内置函数divmod的矢量化版本，它会返回浮点数数组的小数和整数部分:"
   ]
  },
  {
   "cell_type": "code",
   "execution_count": 142,
   "id": "6946ba5d",
   "metadata": {},
   "outputs": [],
   "source": [
    "arr = np.random.randn(7) * 5"
   ]
  },
  {
   "cell_type": "code",
   "execution_count": 143,
   "id": "cdb1a03d",
   "metadata": {},
   "outputs": [
    {
     "data": {
      "text/plain": [
       "array([ -0.21729811,  -1.89429568,  -0.70597704, -11.65358471,\n",
       "         1.93887974,  -3.44047792, -11.62735459])"
      ]
     },
     "execution_count": 143,
     "metadata": {},
     "output_type": "execute_result"
    }
   ],
   "source": [
    "arr"
   ]
  },
  {
   "cell_type": "code",
   "execution_count": 144,
   "id": "c0ba5902",
   "metadata": {},
   "outputs": [],
   "source": [
    "remainder, whole_part = np.modf(arr)"
   ]
  },
  {
   "cell_type": "code",
   "execution_count": 145,
   "id": "8f856e06",
   "metadata": {},
   "outputs": [
    {
     "data": {
      "text/plain": [
       "array([-0.21729811, -0.89429568, -0.70597704, -0.65358471,  0.93887974,\n",
       "       -0.44047792, -0.62735459])"
      ]
     },
     "execution_count": 145,
     "metadata": {},
     "output_type": "execute_result"
    }
   ],
   "source": [
    "remainder"
   ]
  },
  {
   "cell_type": "code",
   "execution_count": 146,
   "id": "e60fc850",
   "metadata": {},
   "outputs": [
    {
     "data": {
      "text/plain": [
       "array([ -0.,  -1.,  -0., -11.,   1.,  -3., -11.])"
      ]
     },
     "execution_count": 146,
     "metadata": {},
     "output_type": "execute_result"
    }
   ],
   "source": [
    "whole_part"
   ]
  },
  {
   "cell_type": "markdown",
   "id": "0fccbe01",
   "metadata": {},
   "source": [
    "Ufuncs可以接受一个out可选参数，这样就能在数组原地进行操作:"
   ]
  },
  {
   "cell_type": "code",
   "execution_count": 147,
   "id": "49edda72",
   "metadata": {},
   "outputs": [
    {
     "data": {
      "text/plain": [
       "array([ -0.21729811,  -1.89429568,  -0.70597704, -11.65358471,\n",
       "         1.93887974,  -3.44047792, -11.62735459])"
      ]
     },
     "execution_count": 147,
     "metadata": {},
     "output_type": "execute_result"
    }
   ],
   "source": [
    "arr"
   ]
  },
  {
   "cell_type": "code",
   "execution_count": 148,
   "id": "2b06e628",
   "metadata": {},
   "outputs": [
    {
     "name": "stderr",
     "output_type": "stream",
     "text": [
      "<ipython-input-148-b58949107b3d>:1: RuntimeWarning: invalid value encountered in sqrt\n",
      "  np.sqrt(arr)\n"
     ]
    },
    {
     "data": {
      "text/plain": [
       "array([       nan,        nan,        nan,        nan, 1.39243662,\n",
       "              nan,        nan])"
      ]
     },
     "execution_count": 148,
     "metadata": {},
     "output_type": "execute_result"
    }
   ],
   "source": [
    "np.sqrt(arr)"
   ]
  },
  {
   "cell_type": "code",
   "execution_count": 149,
   "id": "ccef3ea6",
   "metadata": {},
   "outputs": [
    {
     "name": "stderr",
     "output_type": "stream",
     "text": [
      "<ipython-input-149-164954cb2c14>:1: RuntimeWarning: invalid value encountered in sqrt\n",
      "  np.sqrt(arr, arr)\n"
     ]
    },
    {
     "data": {
      "text/plain": [
       "array([       nan,        nan,        nan,        nan, 1.39243662,\n",
       "              nan,        nan])"
      ]
     },
     "execution_count": 149,
     "metadata": {},
     "output_type": "execute_result"
    }
   ],
   "source": [
    "np.sqrt(arr, arr)"
   ]
  },
  {
   "cell_type": "code",
   "execution_count": 150,
   "id": "3060c3b7",
   "metadata": {},
   "outputs": [
    {
     "data": {
      "text/plain": [
       "array([       nan,        nan,        nan,        nan, 1.39243662,\n",
       "              nan,        nan])"
      ]
     },
     "execution_count": 150,
     "metadata": {},
     "output_type": "execute_result"
    }
   ],
   "source": [
    "arr"
   ]
  },
  {
   "cell_type": "markdown",
   "id": "6f46d80d",
   "metadata": {},
   "source": [
    "# 4.3 利用数组进行数据处理"
   ]
  },
  {
   "cell_type": "markdown",
   "id": "e5f9a521",
   "metadata": {},
   "source": [
    "NumPy数组使你可以将许多种数据处理任务表述为简洁的数组表达式(否则需要编写循环)。用数组表达式代替循环的做法，通常被称为矢量化。一般来说，矢量化数组运算要比等价的纯Python方式快上一两个数量级(甚至更多)，尤其是各种数值计算。在后面内容中(见附录A)我将介绍广播，这是一种针对矢量化计算的强大手段。      \n",
    "\n",
    "作为简单的例子，假设我们想要在一组值(网格型)上计算函数 sqrt(x^2+y^2) 。np.meshgrid函数接受两个一维数组，并产生两个二维矩阵(对应于两个数组中所有的(x,y)对):"
   ]
  },
  {
   "cell_type": "code",
   "execution_count": 151,
   "id": "5b4214f5",
   "metadata": {},
   "outputs": [],
   "source": [
    "points = np.arange(-5, 5, 0.01) # 1000 equally spaced points"
   ]
  },
  {
   "cell_type": "code",
   "execution_count": 152,
   "id": "9679a7f7",
   "metadata": {},
   "outputs": [],
   "source": [
    "xs, ys = np.meshgrid(points, points)"
   ]
  },
  {
   "cell_type": "code",
   "execution_count": 153,
   "id": "2a72f354",
   "metadata": {},
   "outputs": [
    {
     "data": {
      "text/plain": [
       "array([[-5.  , -5.  , -5.  , ..., -5.  , -5.  , -5.  ],\n",
       "       [-4.99, -4.99, -4.99, ..., -4.99, -4.99, -4.99],\n",
       "       [-4.98, -4.98, -4.98, ..., -4.98, -4.98, -4.98],\n",
       "       ...,\n",
       "       [ 4.97,  4.97,  4.97, ...,  4.97,  4.97,  4.97],\n",
       "       [ 4.98,  4.98,  4.98, ...,  4.98,  4.98,  4.98],\n",
       "       [ 4.99,  4.99,  4.99, ...,  4.99,  4.99,  4.99]])"
      ]
     },
     "execution_count": 153,
     "metadata": {},
     "output_type": "execute_result"
    }
   ],
   "source": [
    "ys"
   ]
  },
  {
   "cell_type": "markdown",
   "id": "0bd1ab3e",
   "metadata": {},
   "source": [
    "这个函数比较复杂 【X, Y】= meshgrid（x，y）输入两个一维变量，当成一个行向量一个列向量 最后输出一个二维矩阵，其中输出结果X的行向量为x的简单复制, Y的列向量为y的简单复制"
   ]
  },
  {
   "cell_type": "markdown",
   "id": "323f82b7",
   "metadata": {},
   "source": [
    "现在，对该函数的求值运算就好办了，把这两个数组当做两个浮点数那样编写表达式即可:"
   ]
  },
  {
   "cell_type": "code",
   "execution_count": 154,
   "id": "fcac065d",
   "metadata": {},
   "outputs": [],
   "source": [
    "z = np.sqrt(xs ** 2 + ys ** 2)"
   ]
  },
  {
   "cell_type": "code",
   "execution_count": 155,
   "id": "3d9b4557",
   "metadata": {},
   "outputs": [
    {
     "data": {
      "text/plain": [
       "array([[7.07106781, 7.06400028, 7.05693985, ..., 7.04988652, 7.05693985,\n",
       "        7.06400028],\n",
       "       [7.06400028, 7.05692568, 7.04985815, ..., 7.04279774, 7.04985815,\n",
       "        7.05692568],\n",
       "       [7.05693985, 7.04985815, 7.04278354, ..., 7.03571603, 7.04278354,\n",
       "        7.04985815],\n",
       "       ...,\n",
       "       [7.04988652, 7.04279774, 7.03571603, ..., 7.0286414 , 7.03571603,\n",
       "        7.04279774],\n",
       "       [7.05693985, 7.04985815, 7.04278354, ..., 7.03571603, 7.04278354,\n",
       "        7.04985815],\n",
       "       [7.06400028, 7.05692568, 7.04985815, ..., 7.04279774, 7.04985815,\n",
       "        7.05692568]])"
      ]
     },
     "execution_count": 155,
     "metadata": {},
     "output_type": "execute_result"
    }
   ],
   "source": [
    "z"
   ]
  },
  {
   "cell_type": "markdown",
   "id": "b33b1fbe",
   "metadata": {},
   "source": [
    "作为第9章的先导，我用matplotlib创建了这个二维数组的可视化:"
   ]
  },
  {
   "cell_type": "code",
   "execution_count": 156,
   "id": "25fa0d3c",
   "metadata": {},
   "outputs": [],
   "source": [
    "import matplotlib.pyplot as plt"
   ]
  },
  {
   "cell_type": "code",
   "execution_count": 159,
   "id": "40cf411c",
   "metadata": {},
   "outputs": [
    {
     "data": {
      "text/plain": [
       "Text(0.5, 1.0, 'Image plot of $\\\\sqrt{x^2 + y^2}$ for a grid of values')"
      ]
     },
     "execution_count": 159,
     "metadata": {},
     "output_type": "execute_result"
    },
    {
     "data": {
      "image/png": "[encoded data removed]",
      "text/plain": [
       "<Figure size 432x288 with 2 Axes>"
      ]
     },
     "metadata": {
      "needs_background": "light"
     },
     "output_type": "display_data"
    }
   ],
   "source": [
    "plt.imshow(z, cmap=plt.cm.gray); plt.colorbar()\n",
    "plt.title(\"Image plot of $\\sqrt{x^2 + y^2}$ for a grid of values\")"
   ]
  },
  {
   "cell_type": "markdown",
   "id": "f99bfb90",
   "metadata": {},
   "source": [
    "这张图是用matplotlib的imshow函数创建的。"
   ]
  },
  {
   "cell_type": "markdown",
   "id": "09364c24",
   "metadata": {},
   "source": [
    "## 4.3.1 将条件逻辑表述为数组运算"
   ]
  },
  {
   "cell_type": "markdown",
   "id": "60a8f134",
   "metadata": {},
   "source": [
    "numpy.where函数是三元表达式x if condition else y的矢量化版本。假设我们有一个布尔数组和两个值数组:"
   ]
  },
  {
   "cell_type": "code",
   "execution_count": 160,
   "id": "2c4452f6",
   "metadata": {},
   "outputs": [],
   "source": [
    "xarr = np.array([1.1, 1.2, 1.3, 1.4, 1.5])\n",
    "yarr = np.array([2.1, 2.2, 2.3, 2.4, 2.5])\n",
    "cond = np.array([True, False, True, True, False])"
   ]
  },
  {
   "cell_type": "markdown",
   "id": "853978b7",
   "metadata": {},
   "source": [
    "假设我们想要根据cond中的值选取xarr和yarr的值:当cond中的值为True时，选取xarr的值，否则从yarr中选取。列表推导式的写法应该如下所示:"
   ]
  },
  {
   "cell_type": "code",
   "execution_count": 161,
   "id": "eaa26904",
   "metadata": {},
   "outputs": [],
   "source": [
    "result = [(x if c else y)\n",
    "          for x, y, c in zip(xarr, yarr, cond)]"
   ]
  },
  {
   "cell_type": "code",
   "execution_count": 162,
   "id": "44aa3aea",
   "metadata": {},
   "outputs": [
    {
     "data": {
      "text/plain": [
       "[1.1, 2.2, 1.3, 1.4, 2.5]"
      ]
     },
     "execution_count": 162,
     "metadata": {},
     "output_type": "execute_result"
    }
   ],
   "source": [
    "result"
   ]
  },
  {
   "cell_type": "markdown",
   "id": "e3754984",
   "metadata": {},
   "source": [
    "这有几个问题。第一，它对大数组的处理速度不是很快(因为所有工作都是由纯Python完成的)。第二，无法用于多维数组。若使用np.where，则可以将该功能写得非常简洁:"
   ]
  },
  {
   "cell_type": "code",
   "execution_count": 164,
   "id": "07116ea0",
   "metadata": {},
   "outputs": [
    {
     "data": {
      "text/plain": [
       "array([1.1, 2.2, 1.3, 1.4, 2.5])"
      ]
     },
     "execution_count": 164,
     "metadata": {},
     "output_type": "execute_result"
    }
   ],
   "source": [
    "result = np.where(cond, xarr, yarr)\n",
    "result"
   ]
  },
  {
   "cell_type": "markdown",
   "id": "e7e68fa6",
   "metadata": {},
   "source": [
    "np.where的第二个和第三个参数不必是数组，它们都可以是标量值。在数据分析工作中，where通常用于根据另一个数组而产生一个新的数组。假设有一个由随机数据组成的矩阵，你希望将所有正值替换为2，将所有负值替换为-2。若利用np.where，则会非常简单:"
   ]
  },
  {
   "cell_type": "code",
   "execution_count": 165,
   "id": "a80a39bb",
   "metadata": {},
   "outputs": [
    {
     "data": {
      "text/plain": [
       "array([[ 0.58908584,  0.38049512,  1.00721141, -0.1344049 ],\n",
       "       [-1.35147521, -1.39600888,  0.16273665, -0.67835569],\n",
       "       [ 0.18354684,  0.62441509, -0.09914711, -0.1726008 ],\n",
       "       [-0.6653419 , -0.44940262,  0.71826951, -1.1073695 ]])"
      ]
     },
     "execution_count": 165,
     "metadata": {},
     "output_type": "execute_result"
    }
   ],
   "source": [
    "arr = np.random.randn(4, 4)\n",
    "arr"
   ]
  },
  {
   "cell_type": "code",
   "execution_count": 166,
   "id": "4b5b6278",
   "metadata": {},
   "outputs": [
    {
     "data": {
      "text/plain": [
       "array([[ True,  True,  True, False],\n",
       "       [False, False,  True, False],\n",
       "       [ True,  True, False, False],\n",
       "       [False, False,  True, False]])"
      ]
     },
     "execution_count": 166,
     "metadata": {},
     "output_type": "execute_result"
    }
   ],
   "source": [
    "arr > 0"
   ]
  },
  {
   "cell_type": "code",
   "execution_count": 167,
   "id": "448dacde",
   "metadata": {},
   "outputs": [
    {
     "data": {
      "text/plain": [
       "array([[ 2,  2,  2, -2],\n",
       "       [-2, -2,  2, -2],\n",
       "       [ 2,  2, -2, -2],\n",
       "       [-2, -2,  2, -2]])"
      ]
     },
     "execution_count": 167,
     "metadata": {},
     "output_type": "execute_result"
    }
   ],
   "source": [
    "np.where(arr > 0, 2, -2)"
   ]
  },
  {
   "cell_type": "markdown",
   "id": "e3a6585b",
   "metadata": {},
   "source": [
    "使用np.where，可以将标量和数组结合起来。例如，我可用常数2替换arr中所有正的值:"
   ]
  },
  {
   "cell_type": "code",
   "execution_count": 168,
   "id": "76013dd6",
   "metadata": {},
   "outputs": [
    {
     "data": {
      "text/plain": [
       "array([[ 2.        ,  2.        ,  2.        , -0.1344049 ],\n",
       "       [-1.35147521, -1.39600888,  2.        , -0.67835569],\n",
       "       [ 2.        ,  2.        , -0.09914711, -0.1726008 ],\n",
       "       [-0.6653419 , -0.44940262,  2.        , -1.1073695 ]])"
      ]
     },
     "execution_count": 168,
     "metadata": {},
     "output_type": "execute_result"
    }
   ],
   "source": [
    "np.where(arr > 0, 2, arr) # set only positive values to 2"
   ]
  },
  {
   "cell_type": "markdown",
   "id": "105416ec",
   "metadata": {},
   "source": [
    "传递给where的数组大小可以不相等，甚至可以是标量值。"
   ]
  },
  {
   "cell_type": "markdown",
   "id": "06f1c028",
   "metadata": {},
   "source": [
    "## 4.3.2 数学和统计方法"
   ]
  },
  {
   "cell_type": "markdown",
   "id": "90cb300c",
   "metadata": {},
   "source": [
    "可以通过数组上的一组数学函数对整个数组或某个轴向的数据进行统计计算。sum、mean以及标准差std等聚合计算(aggregation，通常叫做约简 (reduction))既可以当做数组的实例方法调用，也可以当做顶级NumPy函数使用。"
   ]
  },
  {
   "cell_type": "markdown",
   "id": "2a0ce36f",
   "metadata": {},
   "source": [
    "这里，我生成了一些正态分布随机数据，然后做了聚类统计:"
   ]
  },
  {
   "cell_type": "code",
   "execution_count": 169,
   "id": "63fcb246",
   "metadata": {},
   "outputs": [
    {
     "data": {
      "text/plain": [
       "array([[ 2.43173821,  1.68219854,  0.93237788, -0.11520358],\n",
       "       [-1.43337698, -1.53438932,  0.05532084,  0.04460926],\n",
       "       [-0.09985308, -1.89610612, -1.0678705 , -0.73203138],\n",
       "       [-0.09431007, -0.53049684, -0.43424206,  0.38942739],\n",
       "       [ 1.48860949, -0.25582254, -0.97774595, -0.20423089]])"
      ]
     },
     "execution_count": 169,
     "metadata": {},
     "output_type": "execute_result"
    }
   ],
   "source": [
    "arr = np.random.randn(5, 4)\n",
    "arr"
   ]
  },
  {
   "cell_type": "code",
   "execution_count": 170,
   "id": "f04b49e8",
   "metadata": {},
   "outputs": [
    {
     "data": {
      "text/plain": [
       "-0.11756988549842115"
      ]
     },
     "execution_count": 170,
     "metadata": {},
     "output_type": "execute_result"
    }
   ],
   "source": [
    "arr.mean()"
   ]
  },
  {
   "cell_type": "code",
   "execution_count": 171,
   "id": "f471c5f7",
   "metadata": {},
   "outputs": [
    {
     "data": {
      "text/plain": [
       "-0.11756988549842115"
      ]
     },
     "execution_count": 171,
     "metadata": {},
     "output_type": "execute_result"
    }
   ],
   "source": [
    "np.mean(arr)"
   ]
  },
  {
   "cell_type": "code",
   "execution_count": 172,
   "id": "9dfd49fc",
   "metadata": {},
   "outputs": [
    {
     "data": {
      "text/plain": [
       "-2.351397709968423"
      ]
     },
     "execution_count": 172,
     "metadata": {},
     "output_type": "execute_result"
    }
   ],
   "source": [
    "arr.sum()"
   ]
  },
  {
   "cell_type": "markdown",
   "id": "0760ea75",
   "metadata": {},
   "source": [
    "mean和sum这类的函数可以接受一个axis选项参数，用于计算该轴向上的统计值，最终结果是一个少一维的数组:"
   ]
  },
  {
   "cell_type": "code",
   "execution_count": 173,
   "id": "124273de",
   "metadata": {},
   "outputs": [
    {
     "data": {
      "text/plain": [
       "array([ 1.23277776, -0.71695905, -0.94896527, -0.1674054 ,  0.01270253])"
      ]
     },
     "execution_count": 173,
     "metadata": {},
     "output_type": "execute_result"
    }
   ],
   "source": [
    "arr.mean(axis=1)"
   ]
  },
  {
   "cell_type": "code",
   "execution_count": 174,
   "id": "fc8db427",
   "metadata": {},
   "outputs": [
    {
     "data": {
      "text/plain": [
       "array([ 2.29280757, -2.53461628, -1.4921598 , -0.6174292 ])"
      ]
     },
     "execution_count": 174,
     "metadata": {},
     "output_type": "execute_result"
    }
   ],
   "source": [
    "arr.sum(axis=0)"
   ]
  },
  {
   "cell_type": "markdown",
   "id": "ede0bb10",
   "metadata": {},
   "source": [
    "这里，arr.mean(1)是“计算行的平均值”，arr.sum(0)是“计算每列的和”。"
   ]
  },
  {
   "cell_type": "markdown",
   "id": "7e435a37",
   "metadata": {},
   "source": [
    "其他如cumsum和cumprod之类的方法则不聚合，而是产生一个由中间结果组成的数组:"
   ]
  },
  {
   "cell_type": "code",
   "execution_count": 175,
   "id": "f90dfc4b",
   "metadata": {},
   "outputs": [
    {
     "data": {
      "text/plain": [
       "array([ 0,  1,  3,  6, 10, 15, 21, 28])"
      ]
     },
     "execution_count": 175,
     "metadata": {},
     "output_type": "execute_result"
    }
   ],
   "source": [
    "arr = np.array([0, 1, 2, 3, 4, 5, 6, 7])\n",
    "arr.cumsum()"
   ]
  },
  {
   "cell_type": "markdown",
   "id": "a2268c53",
   "metadata": {},
   "source": [
    "在多维数组中，累加函数(如cumsum)返回的是同样大小的数组，但是会根据每个低维的切片沿着标记轴计算部分聚类:"
   ]
  },
  {
   "cell_type": "code",
   "execution_count": 176,
   "id": "85e6a51e",
   "metadata": {},
   "outputs": [
    {
     "data": {
      "text/plain": [
       "array([[0, 1, 2],\n",
       "       [3, 4, 5],\n",
       "       [6, 7, 8]])"
      ]
     },
     "execution_count": 176,
     "metadata": {},
     "output_type": "execute_result"
    }
   ],
   "source": [
    "arr = np.array([[0, 1, 2], [3, 4, 5], [6, 7, 8]])\n",
    "arr"
   ]
  },
  {
   "cell_type": "code",
   "execution_count": 177,
   "id": "821cbad4",
   "metadata": {},
   "outputs": [
    {
     "data": {
      "text/plain": [
       "array([[ 0,  1,  2],\n",
       "       [ 3,  5,  7],\n",
       "       [ 9, 12, 15]])"
      ]
     },
     "execution_count": 177,
     "metadata": {},
     "output_type": "execute_result"
    }
   ],
   "source": [
    "arr.cumsum(axis=0)"
   ]
  },
  {
   "cell_type": "code",
   "execution_count": 178,
   "id": "96bf43f5",
   "metadata": {},
   "outputs": [
    {
     "data": {
      "text/plain": [
       "array([[  0,   0,   0],\n",
       "       [  3,  12,  60],\n",
       "       [  6,  42, 336]])"
      ]
     },
     "execution_count": 178,
     "metadata": {},
     "output_type": "execute_result"
    }
   ],
   "source": [
    "arr.cumprod(axis=1)"
   ]
  },
  {
   "cell_type": "markdown",
   "id": "f9264d62",
   "metadata": {},
   "source": [
    "## 4.3.3 用于布尔型数组的方法"
   ]
  },
  {
   "cell_type": "markdown",
   "id": "2e640426",
   "metadata": {},
   "source": [
    "在上面这些方法中，布尔值会被强制转换为1(True)和0(False)。因此，sum经常被用来对布尔型数组中的True值计数:"
   ]
  },
  {
   "cell_type": "code",
   "execution_count": 179,
   "id": "e66aacc2",
   "metadata": {},
   "outputs": [],
   "source": [
    "arr = np.random.randn(100)"
   ]
  },
  {
   "cell_type": "code",
   "execution_count": 180,
   "id": "b0f741a0",
   "metadata": {},
   "outputs": [
    {
     "data": {
      "text/plain": [
       "54"
      ]
     },
     "execution_count": 180,
     "metadata": {},
     "output_type": "execute_result"
    }
   ],
   "source": [
    "(arr > 0).sum() # Number of positive values"
   ]
  },
  {
   "cell_type": "markdown",
   "id": "5592b51f",
   "metadata": {},
   "source": [
    "另外还有两个方法any和all，它们对布尔型数组非常有用。any用于测试数组中是否存在一个或多个True，而all则检查数组中所有值是否都是True:"
   ]
  },
  {
   "cell_type": "code",
   "execution_count": 181,
   "id": "3f256d9c",
   "metadata": {},
   "outputs": [],
   "source": [
    "bools = np.array([False, False, True, False])"
   ]
  },
  {
   "cell_type": "code",
   "execution_count": 182,
   "id": "526c2416",
   "metadata": {},
   "outputs": [
    {
     "data": {
      "text/plain": [
       "True"
      ]
     },
     "execution_count": 182,
     "metadata": {},
     "output_type": "execute_result"
    }
   ],
   "source": [
    "bools.any()"
   ]
  },
  {
   "cell_type": "code",
   "execution_count": 183,
   "id": "7c02a982",
   "metadata": {},
   "outputs": [
    {
     "data": {
      "text/plain": [
       "False"
      ]
     },
     "execution_count": 183,
     "metadata": {},
     "output_type": "execute_result"
    }
   ],
   "source": [
    "bools.all()"
   ]
  },
  {
   "cell_type": "markdown",
   "id": "4a263f3b",
   "metadata": {},
   "source": [
    "这两个方法也能用于非布尔型数组，所有非0元素将会被当做True。"
   ]
  },
  {
   "cell_type": "markdown",
   "id": "2b0f3a23",
   "metadata": {},
   "source": [
    "## 4.3.4 排序"
   ]
  },
  {
   "cell_type": "markdown",
   "id": "65ee4126",
   "metadata": {},
   "source": [
    "跟Python内置的列表类型一样，NumPy数组也可以通过sort方法就地排序:"
   ]
  },
  {
   "cell_type": "code",
   "execution_count": 184,
   "id": "be770f3b",
   "metadata": {},
   "outputs": [
    {
     "data": {
      "text/plain": [
       "array([ 0.00912503,  0.10464704, -1.11339226,  0.17767108,  0.49646795,\n",
       "        0.98204601])"
      ]
     },
     "execution_count": 184,
     "metadata": {},
     "output_type": "execute_result"
    }
   ],
   "source": [
    "arr = np.random.randn(6)\n",
    "arr"
   ]
  },
  {
   "cell_type": "code",
   "execution_count": 185,
   "id": "4334801a",
   "metadata": {},
   "outputs": [
    {
     "data": {
      "text/plain": [
       "array([-1.11339226,  0.00912503,  0.10464704,  0.17767108,  0.49646795,\n",
       "        0.98204601])"
      ]
     },
     "execution_count": 185,
     "metadata": {},
     "output_type": "execute_result"
    }
   ],
   "source": [
    "arr.sort()\n",
    "arr"
   ]
  },
  {
   "cell_type": "markdown",
   "id": "598d32b5",
   "metadata": {},
   "source": [
    "多维数组可以在任何一个轴向上进行排序，只需将轴编号传给sort即可:"
   ]
  },
  {
   "cell_type": "code",
   "execution_count": 186,
   "id": "e5181dc7",
   "metadata": {},
   "outputs": [
    {
     "data": {
      "text/plain": [
       "array([[ 0.66992892,  0.33921074,  1.36151494],\n",
       "       [ 0.70632894,  0.4882965 , -0.38724298],\n",
       "       [ 0.49236461,  1.01450552, -1.06580362],\n",
       "       [ 0.56422453, -1.49036246, -2.24561581],\n",
       "       [ 1.060377  ,  0.62041724,  0.81871448]])"
      ]
     },
     "execution_count": 186,
     "metadata": {},
     "output_type": "execute_result"
    }
   ],
   "source": [
    "arr = np.random.randn(5, 3)\n",
    "arr"
   ]
  },
  {
   "cell_type": "code",
   "execution_count": 187,
   "id": "ecbad34a",
   "metadata": {},
   "outputs": [
    {
     "data": {
      "text/plain": [
       "array([[ 0.33921074,  0.66992892,  1.36151494],\n",
       "       [-0.38724298,  0.4882965 ,  0.70632894],\n",
       "       [-1.06580362,  0.49236461,  1.01450552],\n",
       "       [-2.24561581, -1.49036246,  0.56422453],\n",
       "       [ 0.62041724,  0.81871448,  1.060377  ]])"
      ]
     },
     "execution_count": 187,
     "metadata": {},
     "output_type": "execute_result"
    }
   ],
   "source": [
    "arr.sort(1)\n",
    "arr"
   ]
  },
  {
   "cell_type": "markdown",
   "id": "91fd26ed",
   "metadata": {},
   "source": [
    "顶级方法np.sort返回的是数组的已排序副本，而就地排序则会修改数组本身。计算数组分位数最简单的办法是对其进行排序，然后选取特定位置的值:"
   ]
  },
  {
   "cell_type": "code",
   "execution_count": 188,
   "id": "851cd7e8",
   "metadata": {},
   "outputs": [],
   "source": [
    "large_arr = np.random.randn(1000)"
   ]
  },
  {
   "cell_type": "code",
   "execution_count": 189,
   "id": "842ffcbc",
   "metadata": {},
   "outputs": [],
   "source": [
    "large_arr.sort()"
   ]
  },
  {
   "cell_type": "code",
   "execution_count": 190,
   "id": "31f2facb",
   "metadata": {},
   "outputs": [
    {
     "data": {
      "text/plain": [
       "-1.617063969596982"
      ]
     },
     "execution_count": 190,
     "metadata": {},
     "output_type": "execute_result"
    }
   ],
   "source": [
    "large_arr[int(0.05 * len(large_arr))] # 5% quantile"
   ]
  },
  {
   "cell_type": "markdown",
   "id": "90cc49cf",
   "metadata": {},
   "source": [
    "更多关于NumPy排序方法以及诸如间接排序之类的高级技术，请参阅附录 A。在pandas中还可以找到一些其他跟排序有关的数据操作(比如根据一列 或多列对表格型数据进行排序)。"
   ]
  },
  {
   "cell_type": "markdown",
   "id": "128c4cb5",
   "metadata": {},
   "source": [
    "## 4.3.5 唯一化以及其它的集合逻辑"
   ]
  },
  {
   "cell_type": "markdown",
   "id": "9b14e2d6",
   "metadata": {},
   "source": [
    "NumPy提供了一些针对一维ndarray的基本集合运算。最常用的可能要数np.unique了，它用于找出数组中的唯一值并返回已排序的结果:"
   ]
  },
  {
   "cell_type": "code",
   "execution_count": 191,
   "id": "ed3a0ae8",
   "metadata": {},
   "outputs": [],
   "source": [
    "names = np.array(['Bob', 'Joe', 'Will', 'Bob', 'Will', 'Joe', 'Joe'])"
   ]
  },
  {
   "cell_type": "code",
   "execution_count": 192,
   "id": "252e0b37",
   "metadata": {},
   "outputs": [
    {
     "data": {
      "text/plain": [
       "array(['Bob', 'Joe', 'Will'], dtype='<U4')"
      ]
     },
     "execution_count": 192,
     "metadata": {},
     "output_type": "execute_result"
    }
   ],
   "source": [
    "np.unique(names)"
   ]
  },
  {
   "cell_type": "code",
   "execution_count": 193,
   "id": "51be3141",
   "metadata": {},
   "outputs": [],
   "source": [
    "ints = np.array([3, 3, 3, 2, 2, 1, 1, 4, 4])"
   ]
  },
  {
   "cell_type": "code",
   "execution_count": 194,
   "id": "82f1501a",
   "metadata": {},
   "outputs": [
    {
     "data": {
      "text/plain": [
       "array([1, 2, 3, 4])"
      ]
     },
     "execution_count": 194,
     "metadata": {},
     "output_type": "execute_result"
    }
   ],
   "source": [
    "np.unique(ints)"
   ]
  },
  {
   "cell_type": "markdown",
   "id": "a7466ff0",
   "metadata": {},
   "source": [
    "拿跟np.unique等价的纯Python代码来对比一下"
   ]
  },
  {
   "cell_type": "code",
   "execution_count": 195,
   "id": "98f8150e",
   "metadata": {},
   "outputs": [
    {
     "data": {
      "text/plain": [
       "['Bob', 'Joe', 'Will']"
      ]
     },
     "execution_count": 195,
     "metadata": {},
     "output_type": "execute_result"
    }
   ],
   "source": [
    "sorted(set(names))"
   ]
  },
  {
   "cell_type": "markdown",
   "id": "ec0698fa",
   "metadata": {},
   "source": [
    "另一个函数np.in1d用于测试一个数组中的值在另一个数组中的成员资格，返回一个布尔型数组:"
   ]
  },
  {
   "cell_type": "code",
   "execution_count": 196,
   "id": "cb505a61",
   "metadata": {},
   "outputs": [],
   "source": [
    "values = np.array([6, 0, 0, 3, 2, 5, 6])"
   ]
  },
  {
   "cell_type": "code",
   "execution_count": 197,
   "id": "e6eaa8a9",
   "metadata": {},
   "outputs": [
    {
     "data": {
      "text/plain": [
       "array([ True, False, False,  True,  True, False,  True])"
      ]
     },
     "execution_count": 197,
     "metadata": {},
     "output_type": "execute_result"
    }
   ],
   "source": [
    "np.in1d(values, [2, 3, 6])"
   ]
  },
  {
   "cell_type": "markdown",
   "id": "ae19c77f",
   "metadata": {},
   "source": [
    "# 4.4 用于数组的文件输入输出"
   ]
  },
  {
   "cell_type": "markdown",
   "id": "4484b30d",
   "metadata": {},
   "source": [
    "NumPy能够读写磁盘上的文本数据或二进制数据。这一小节只讨论NumPy的内置二进制格式，因为更多的用户会使用pandas或其它工具加载文本或表格数据(见第6章)。      \n",
    "\n",
    "np.save和np.load是读写磁盘数组数据的两个主要函数。默认情况下，数组是以未压缩的原始二进制格式保存在扩展名为.npy的文件中的:"
   ]
  },
  {
   "cell_type": "code",
   "execution_count": 198,
   "id": "fd8d6367",
   "metadata": {},
   "outputs": [],
   "source": [
    "arr = np.arange(10)"
   ]
  },
  {
   "cell_type": "code",
   "execution_count": 199,
   "id": "a4add20f",
   "metadata": {},
   "outputs": [],
   "source": [
    "np.save('some_array', arr)"
   ]
  },
  {
   "cell_type": "markdown",
   "id": "f839cb97",
   "metadata": {},
   "source": [
    "如果文件路径末尾没有扩展名.npy，则该扩展名会被自动加上。然后就可以通过np.load读取磁盘上的数组:"
   ]
  },
  {
   "cell_type": "code",
   "execution_count": 200,
   "id": "65e601e6",
   "metadata": {},
   "outputs": [
    {
     "data": {
      "text/plain": [
       "array([0, 1, 2, 3, 4, 5, 6, 7, 8, 9])"
      ]
     },
     "execution_count": 200,
     "metadata": {},
     "output_type": "execute_result"
    }
   ],
   "source": [
    "np.load('some_array.npy')"
   ]
  },
  {
   "cell_type": "markdown",
   "id": "9d866039",
   "metadata": {},
   "source": [
    "通过np.savez可以将多个数组保存到一个未压缩文件中，将数组以关键字参数的形式传入即可:"
   ]
  },
  {
   "cell_type": "code",
   "execution_count": 201,
   "id": "43464ee9",
   "metadata": {},
   "outputs": [],
   "source": [
    "np.savez('array_archive.npz', a=arr, b=arr)"
   ]
  },
  {
   "cell_type": "markdown",
   "id": "8a3ff933",
   "metadata": {},
   "source": [
    "加载.npz文件时，你会得到一个类似字典的对象，该对象会对各个数组进行延迟加载:"
   ]
  },
  {
   "cell_type": "code",
   "execution_count": 202,
   "id": "c29fadd7",
   "metadata": {},
   "outputs": [],
   "source": [
    "arch = np.load('array_archive.npz')"
   ]
  },
  {
   "cell_type": "code",
   "execution_count": 203,
   "id": "d736fc73",
   "metadata": {},
   "outputs": [
    {
     "data": {
      "text/plain": [
       "array([0, 1, 2, 3, 4, 5, 6, 7, 8, 9])"
      ]
     },
     "execution_count": 203,
     "metadata": {},
     "output_type": "execute_result"
    }
   ],
   "source": [
    "arch['b']"
   ]
  },
  {
   "cell_type": "markdown",
   "id": "feb63ca0",
   "metadata": {},
   "source": [
    "如果要将数据压缩，可以使用numpy.savez_compressed:"
   ]
  },
  {
   "cell_type": "code",
   "execution_count": 204,
   "id": "18659676",
   "metadata": {},
   "outputs": [],
   "source": [
    "np.savez_compressed('arrays_compressed.npz', a=arr, b=arr)"
   ]
  },
  {
   "cell_type": "markdown",
   "id": "371d5488",
   "metadata": {},
   "source": [
    "# 4.5 线性代数"
   ]
  },
  {
   "cell_type": "markdown",
   "id": "2b20998e",
   "metadata": {},
   "source": [
    "线性代数(如矩阵乘法、矩阵分解、行列式以及其他方阵数学等)是任何数组库的重要组成部分。不像某些语言(如MATLAB)，通过`*`对两个二维数组相乘得到的是一个元素级的积，而不是一个矩阵点积。因此，NumPy提供了一个用于矩阵乘法的dot函数(既是一个数组方法也是numpy命名空间中的一个函数):"
   ]
  },
  {
   "cell_type": "code",
   "execution_count": 206,
   "id": "73e32f9d",
   "metadata": {},
   "outputs": [],
   "source": [
    "x = np.array([[1., 2., 3.], [4., 5., 6.]])\n",
    "y = np.array([[6., 23.], [-1, 7], [8, 9]])"
   ]
  },
  {
   "cell_type": "code",
   "execution_count": 207,
   "id": "d92bb444",
   "metadata": {},
   "outputs": [
    {
     "data": {
      "text/plain": [
       "array([[1., 2., 3.],\n",
       "       [4., 5., 6.]])"
      ]
     },
     "execution_count": 207,
     "metadata": {},
     "output_type": "execute_result"
    }
   ],
   "source": [
    "x"
   ]
  },
  {
   "cell_type": "code",
   "execution_count": 208,
   "id": "0f4b6638",
   "metadata": {},
   "outputs": [
    {
     "data": {
      "text/plain": [
       "array([[ 6., 23.],\n",
       "       [-1.,  7.],\n",
       "       [ 8.,  9.]])"
      ]
     },
     "execution_count": 208,
     "metadata": {},
     "output_type": "execute_result"
    }
   ],
   "source": [
    "y"
   ]
  },
  {
   "cell_type": "code",
   "execution_count": 209,
   "id": "14695146",
   "metadata": {},
   "outputs": [
    {
     "data": {
      "text/plain": [
       "array([[ 28.,  64.],\n",
       "       [ 67., 181.]])"
      ]
     },
     "execution_count": 209,
     "metadata": {},
     "output_type": "execute_result"
    }
   ],
   "source": [
    "x.dot(y)"
   ]
  },
  {
   "cell_type": "markdown",
   "id": "343df79c",
   "metadata": {},
   "source": [
    "x.dot(y)等价于np.dot(x, y):"
   ]
  },
  {
   "cell_type": "code",
   "execution_count": 210,
   "id": "5a3783d4",
   "metadata": {},
   "outputs": [
    {
     "data": {
      "text/plain": [
       "array([[ 28.,  64.],\n",
       "       [ 67., 181.]])"
      ]
     },
     "execution_count": 210,
     "metadata": {},
     "output_type": "execute_result"
    }
   ],
   "source": [
    "np.dot(x, y)"
   ]
  },
  {
   "cell_type": "markdown",
   "id": "69ee3866",
   "metadata": {},
   "source": [
    "一个二维数组跟一个大小合适的一维数组的矩阵点积运算之后将会得到一个一维数组:"
   ]
  },
  {
   "cell_type": "code",
   "execution_count": 211,
   "id": "3064111a",
   "metadata": {},
   "outputs": [
    {
     "data": {
      "text/plain": [
       "array([ 6., 15.])"
      ]
     },
     "execution_count": 211,
     "metadata": {},
     "output_type": "execute_result"
    }
   ],
   "source": [
    "np.dot(x, np.ones(3))"
   ]
  },
  {
   "cell_type": "code",
   "execution_count": 212,
   "id": "6f08eedb",
   "metadata": {},
   "outputs": [
    {
     "data": {
      "text/plain": [
       "array([1., 1., 1.])"
      ]
     },
     "execution_count": 212,
     "metadata": {},
     "output_type": "execute_result"
    }
   ],
   "source": [
    "np.ones(3)"
   ]
  },
  {
   "cell_type": "markdown",
   "id": "8734bb15",
   "metadata": {},
   "source": [
    "@符(类似Python 3.5)也可以用作中缀运算符，进行矩阵乘法:"
   ]
  },
  {
   "cell_type": "code",
   "execution_count": 213,
   "id": "8ef5c006",
   "metadata": {},
   "outputs": [
    {
     "data": {
      "text/plain": [
       "array([ 6., 15.])"
      ]
     },
     "execution_count": 213,
     "metadata": {},
     "output_type": "execute_result"
    }
   ],
   "source": [
    "x @ np.ones(3)"
   ]
  },
  {
   "cell_type": "markdown",
   "id": "a9916210",
   "metadata": {},
   "source": [
    "numpy.linalg中有一组标准的矩阵分解运算以及诸如求逆和行列式之类的东西。它们跟MATLAB和R等语言所使用的是相同的行业标准线性代数库，如BLAS、LAPACK、Intel MKL(Math Kernel Library，可能有，取决于你的NumPy版本)等:"
   ]
  },
  {
   "cell_type": "code",
   "execution_count": 214,
   "id": "1b17d7f6",
   "metadata": {},
   "outputs": [],
   "source": [
    "from numpy.linalg import inv, qr"
   ]
  },
  {
   "cell_type": "code",
   "execution_count": 215,
   "id": "7f850079",
   "metadata": {},
   "outputs": [],
   "source": [
    "X = np.random.randn(5, 5)"
   ]
  },
  {
   "cell_type": "code",
   "execution_count": 216,
   "id": "b4512ccd",
   "metadata": {},
   "outputs": [],
   "source": [
    "mat = X.T.dot(X)"
   ]
  },
  {
   "cell_type": "code",
   "execution_count": 217,
   "id": "64fe6a99",
   "metadata": {},
   "outputs": [
    {
     "data": {
      "text/plain": [
       "array([[ 1.0841639 , -0.82986774, -1.41749078,  0.75590032, -5.1622236 ],\n",
       "       [-0.82986774,  0.87711583,  1.27360038, -0.6043171 ,  5.00627195],\n",
       "       [-1.41749078,  1.27360038,  2.21935487, -0.99026882,  7.99974259],\n",
       "       [ 0.75590032, -0.6043171 , -0.99026882,  0.91147146, -3.63106798],\n",
       "       [-5.1622236 ,  5.00627195,  7.99974259, -3.63106798, 31.41199138]])"
      ]
     },
     "execution_count": 217,
     "metadata": {},
     "output_type": "execute_result"
    }
   ],
   "source": [
    "inv(mat)"
   ]
  },
  {
   "cell_type": "code",
   "execution_count": 218,
   "id": "83f136b2",
   "metadata": {},
   "outputs": [
    {
     "data": {
      "text/plain": [
       "array([[ 1.00000000e+00, -1.80637824e-17, -1.00565606e-15,\n",
       "        -4.28550403e-17,  7.73401708e-15],\n",
       "       [ 1.26121992e-15,  1.00000000e+00,  2.71004762e-15,\n",
       "        -1.12626243e-15,  4.73929315e-15],\n",
       "       [ 1.85495501e-15,  1.49815225e-16,  1.00000000e+00,\n",
       "        -1.30174172e-17,  7.02810338e-15],\n",
       "       [-4.18269204e-16,  7.00194106e-16,  9.32043107e-16,\n",
       "         1.00000000e+00, -1.13326324e-15],\n",
       "       [-6.30630010e-16,  3.91800856e-17,  9.24831848e-16,\n",
       "         4.71485722e-17,  1.00000000e+00]])"
      ]
     },
     "execution_count": 218,
     "metadata": {},
     "output_type": "execute_result"
    }
   ],
   "source": [
    "mat.dot(inv(mat))"
   ]
  },
  {
   "cell_type": "code",
   "execution_count": 219,
   "id": "5cad1663",
   "metadata": {},
   "outputs": [],
   "source": [
    "q, r = qr(mat)"
   ]
  },
  {
   "cell_type": "code",
   "execution_count": 220,
   "id": "70cf086e",
   "metadata": {},
   "outputs": [
    {
     "data": {
      "text/plain": [
       "array([[ -7.78784069,  -0.22961247,  -5.8763589 ,   2.18902598,\n",
       "          0.50599183],\n",
       "       [  0.        , -13.04452728,  -0.75507746,  -0.85917399,\n",
       "          2.1769678 ],\n",
       "       [  0.        ,   0.        ,  -5.54784927,  -1.14115373,\n",
       "          1.28866519],\n",
       "       [  0.        ,   0.        ,   0.        ,  -1.95154242,\n",
       "         -0.23129082],\n",
       "       [  0.        ,   0.        ,   0.        ,   0.        ,\n",
       "          0.02993952]])"
      ]
     },
     "execution_count": 220,
     "metadata": {},
     "output_type": "execute_result"
    }
   ],
   "source": [
    "r"
   ]
  },
  {
   "cell_type": "markdown",
   "id": "81e35b7d",
   "metadata": {},
   "source": [
    "表达式X.T.dot(X)计算X和它的转置X.T的点积。"
   ]
  },
  {
   "cell_type": "markdown",
   "id": "cb19257c",
   "metadata": {},
   "source": [
    "# 4.6 伪随机数生成"
   ]
  },
  {
   "cell_type": "markdown",
   "id": "53506bdd",
   "metadata": {},
   "source": [
    "numpy.random模块对Python内置的random进行了补充，增加了一些用于高效生成多种概率分布的样本值的函数。例如，你可以用normal来得到一个标准正态分布的4×4样本数组:"
   ]
  },
  {
   "cell_type": "code",
   "execution_count": 221,
   "id": "88638e82",
   "metadata": {},
   "outputs": [
    {
     "data": {
      "text/plain": [
       "array([[-0.26516243, -1.70902631, -1.35642307, -1.17217641],\n",
       "       [-0.93997324,  1.2689704 , -1.43644201,  1.46747079],\n",
       "       [ 0.44194426, -2.47793021,  2.17470649,  0.26768776],\n",
       "       [ 0.80039084, -2.02318565,  0.34784221, -0.20557212]])"
      ]
     },
     "execution_count": 221,
     "metadata": {},
     "output_type": "execute_result"
    }
   ],
   "source": [
    "samples = np.random.normal(size=(4, 4))\n",
    "samples"
   ]
  },
  {
   "cell_type": "markdown",
   "id": "df6ca05f",
   "metadata": {},
   "source": [
    "而Python内置的random模块则只能一次生成一个样本值。从下面的测试结果中可以看出，如果需要产生大量样本值，numpy.random快了不止一个数量级:"
   ]
  },
  {
   "cell_type": "code",
   "execution_count": 222,
   "id": "897908ed",
   "metadata": {},
   "outputs": [],
   "source": [
    "from random import normalvariate"
   ]
  },
  {
   "cell_type": "code",
   "execution_count": 223,
   "id": "6167189d",
   "metadata": {},
   "outputs": [],
   "source": [
    "N = 1000000"
   ]
  },
  {
   "cell_type": "code",
   "execution_count": 224,
   "id": "2ec4e4aa",
   "metadata": {},
   "outputs": [
    {
     "name": "stdout",
     "output_type": "stream",
     "text": [
      "1.09 s ± 59.7 ms per loop (mean ± std. dev. of 7 runs, 1 loop each)\n"
     ]
    }
   ],
   "source": [
    "%timeit samples = [normalvariate(0, 1) for _ in range(N)]"
   ]
  },
  {
   "cell_type": "code",
   "execution_count": 225,
   "id": "fb0d4c28",
   "metadata": {},
   "outputs": [
    {
     "name": "stdout",
     "output_type": "stream",
     "text": [
      "34.5 ms ± 805 µs per loop (mean ± std. dev. of 7 runs, 10 loops each)\n"
     ]
    }
   ],
   "source": [
    "%timeit np.random.normal(size=N)"
   ]
  },
  {
   "cell_type": "markdown",
   "id": "c6cb9ce9",
   "metadata": {},
   "source": [
    "我们说这些都是伪随机数，是因为它们都是通过算法基于随机数生成器种子，在确定性的条件下生成的。你可以用NumPy的np.random.seed更改随机数生成种子:"
   ]
  },
  {
   "cell_type": "code",
   "execution_count": 226,
   "id": "25dbcbea",
   "metadata": {},
   "outputs": [],
   "source": [
    "np.random.seed(1234)"
   ]
  },
  {
   "cell_type": "markdown",
   "id": "bcd4c7a3",
   "metadata": {},
   "source": [
    "numpy.random的数据生成函数使用了全局的随机种子。要避免全局状态，你可以使用numpy.random.RandomState，创建一个与其它隔离的随机数生成器:"
   ]
  },
  {
   "cell_type": "code",
   "execution_count": 227,
   "id": "8d6988e6",
   "metadata": {},
   "outputs": [
    {
     "data": {
      "text/plain": [
       "array([ 0.47143516, -1.19097569,  1.43270697, -0.3126519 , -0.72058873,\n",
       "        0.88716294,  0.85958841, -0.6365235 ,  0.01569637, -2.24268495])"
      ]
     },
     "execution_count": 227,
     "metadata": {},
     "output_type": "execute_result"
    }
   ],
   "source": [
    "rng = np.random.RandomState(1234)\n",
    "rng.randn(10)"
   ]
  },
  {
   "cell_type": "markdown",
   "id": "ad90b3c0",
   "metadata": {},
   "source": [
    "# 4.7 示例:随机漫步"
   ]
  },
  {
   "cell_type": "markdown",
   "id": "a386c637",
   "metadata": {},
   "source": [
    "我们通过模拟随机漫步来说明如何运用数组运算。先来看一个简单的随机漫步的例子:从0开始，步长1和-1出现的概率相等。      \n",
    "\n",
    "下面是一个通过内置的random模块以纯Python的方式实现1000步的随机漫步:"
   ]
  },
  {
   "cell_type": "code",
   "execution_count": 233,
   "id": "f38de076",
   "metadata": {},
   "outputs": [],
   "source": [
    "import random\n",
    "position = 0\n",
    "walk = [position]\n",
    "steps = 1000\n",
    "for i in range(steps):\n",
    "    step = 1 if random.randint(0, 1) else -1\n",
    "    position += step\n",
    "    walk.append(position)"
   ]
  },
  {
   "cell_type": "code",
   "execution_count": 229,
   "id": "9b3e7ce3",
   "metadata": {},
   "outputs": [
    {
     "data": {
      "text/plain": [
       "<Figure size 432x288 with 0 Axes>"
      ]
     },
     "execution_count": 229,
     "metadata": {},
     "output_type": "execute_result"
    },
    {
     "data": {
      "text/plain": [
       "<Figure size 432x288 with 0 Axes>"
      ]
     },
     "metadata": {},
     "output_type": "display_data"
    }
   ],
   "source": [
    "plt.figure()"
   ]
  },
  {
   "cell_type": "markdown",
   "id": "57683b2e",
   "metadata": {},
   "source": [
    "根据前100个随机漫步值生成的折线图:"
   ]
  },
  {
   "cell_type": "code",
   "execution_count": 234,
   "id": "05025bdb",
   "metadata": {},
   "outputs": [
    {
     "data": {
      "text/plain": [
       "[<matplotlib.lines.Line2D at 0x7fe558f66b50>]"
      ]
     },
     "execution_count": 234,
     "metadata": {},
     "output_type": "execute_result"
    },
    {
     "data": {
      "image/png": "[encoded data removed]",
      "text/plain": [
       "<Figure size 432x288 with 1 Axes>"
      ]
     },
     "metadata": {
      "needs_background": "light"
     },
     "output_type": "display_data"
    }
   ],
   "source": [
    "plt.plot(walk[:100])"
   ]
  },
  {
   "cell_type": "markdown",
   "id": "c784945e",
   "metadata": {},
   "source": [
    "不难看出，这其实就是随机漫步中各步的累计和，可以用一个数组运算来实现。因此，我用np.random模块一次性随机产生1000个“掷硬币”结果(即两个数中任选一个)，将其分别设置为1或-1，然后计算累计和:"
   ]
  },
  {
   "cell_type": "code",
   "execution_count": 235,
   "id": "0535aada",
   "metadata": {},
   "outputs": [],
   "source": [
    "nsteps = 1000\n",
    "draws = np.random.randint(0, 2, size=nsteps)\n",
    "steps = np.where(draws > 0, 1, -1)\n",
    "walk = steps.cumsum()"
   ]
  },
  {
   "cell_type": "markdown",
   "id": "dde55a04",
   "metadata": {},
   "source": [
    "有了这些数据之后，我们就可以沿着漫步路径做一些统计工作了，比如求取最大值和最小值:"
   ]
  },
  {
   "cell_type": "code",
   "execution_count": 236,
   "id": "db912769",
   "metadata": {},
   "outputs": [
    {
     "data": {
      "text/plain": [
       "-9"
      ]
     },
     "execution_count": 236,
     "metadata": {},
     "output_type": "execute_result"
    }
   ],
   "source": [
    "walk.min()"
   ]
  },
  {
   "cell_type": "code",
   "execution_count": 237,
   "id": "200f3537",
   "metadata": {},
   "outputs": [
    {
     "data": {
      "text/plain": [
       "60"
      ]
     },
     "execution_count": 237,
     "metadata": {},
     "output_type": "execute_result"
    }
   ],
   "source": [
    "walk.max()"
   ]
  },
  {
   "cell_type": "markdown",
   "id": "20b78cbb",
   "metadata": {},
   "source": [
    "现在来看一个复杂点的统计任务——首次穿越时间，即随机漫步过程中第一次到达某个特定值的时间。假设我们想要知道本次随机漫步需要多久才能距离初始0点至少10步远(任一方向均可)。np.abs(walk)>=10可以得到一个布尔型数组，它表示的是距离是否达到或超过10，而我们想要知道的是第一个10或-10的索引。可以用argmax来解决这个问题，它返回的是该布尔型数组第一个最大值的索引(True就是最大值):"
   ]
  },
  {
   "cell_type": "code",
   "execution_count": 238,
   "id": "6c1aad93",
   "metadata": {},
   "outputs": [
    {
     "data": {
      "text/plain": [
       "297"
      ]
     },
     "execution_count": 238,
     "metadata": {},
     "output_type": "execute_result"
    }
   ],
   "source": [
    "(np.abs(walk) >= 10).argmax()"
   ]
  },
  {
   "cell_type": "markdown",
   "id": "fb9107ff",
   "metadata": {},
   "source": [
    "注意，这里使用argmax并不是很高效，因为它无论如何都会对数组进行完全扫描。在本例中，只要发现了一个True，那我们就知道它是个最大值了。"
   ]
  },
  {
   "cell_type": "markdown",
   "id": "26aab470",
   "metadata": {},
   "source": [
    "## 4.7.1 一次模拟多个随机漫步"
   ]
  },
  {
   "cell_type": "markdown",
   "id": "5f09f9e7",
   "metadata": {},
   "source": [
    "如果你希望模拟多个随机漫步过程(比如5000个)，只需对上面的代码做一点点修改即可生成所有的随机漫步过程。只要给numpy.random的函数传入一个二元元组就可以产生一个二维数组，然后我们就可以一次性计算5000个随机漫步过程(一行一个)的累计和了:"
   ]
  },
  {
   "cell_type": "code",
   "execution_count": 239,
   "id": "8196136e",
   "metadata": {},
   "outputs": [
    {
     "data": {
      "text/plain": [
       "array([[  1,   2,   3, ...,  46,  47,  46],\n",
       "       [  1,   0,   1, ...,  40,  41,  42],\n",
       "       [  1,   2,   3, ..., -26, -27, -28],\n",
       "       ...,\n",
       "       [  1,   0,   1, ...,  64,  65,  66],\n",
       "       [  1,   2,   1, ...,   2,   1,   0],\n",
       "       [ -1,  -2,  -3, ...,  32,  33,  34]])"
      ]
     },
     "execution_count": 239,
     "metadata": {},
     "output_type": "execute_result"
    }
   ],
   "source": [
    "nwalks = 5000\n",
    "nsteps = 1000\n",
    "draws = np.random.randint(0, 2, size=(nwalks, nsteps)) # 0 or 1\n",
    "steps = np.where(draws > 0, 1, -1)\n",
    "walks = steps.cumsum(1)\n",
    "walks"
   ]
  },
  {
   "cell_type": "markdown",
   "id": "6750250b",
   "metadata": {},
   "source": [
    "现在，我们来计算所有随机漫步过程的最大值和最小值:"
   ]
  },
  {
   "cell_type": "code",
   "execution_count": 240,
   "id": "f0ad8429",
   "metadata": {},
   "outputs": [
    {
     "data": {
      "text/plain": [
       "122"
      ]
     },
     "execution_count": 240,
     "metadata": {},
     "output_type": "execute_result"
    }
   ],
   "source": [
    "walks.max()"
   ]
  },
  {
   "cell_type": "code",
   "execution_count": 241,
   "id": "4b44aed4",
   "metadata": {},
   "outputs": [
    {
     "data": {
      "text/plain": [
       "-128"
      ]
     },
     "execution_count": 241,
     "metadata": {},
     "output_type": "execute_result"
    }
   ],
   "source": [
    "walks.min()"
   ]
  },
  {
   "cell_type": "markdown",
   "id": "6e99b683",
   "metadata": {},
   "source": [
    "得到这些数据之后，我们来计算30或-30的最小穿越时间。这里稍微复杂些，因为不是5000个过程都到达了30。我们可以用any方法来对此进行检查:"
   ]
  },
  {
   "cell_type": "code",
   "execution_count": 242,
   "id": "2dc5a621",
   "metadata": {},
   "outputs": [
    {
     "data": {
      "text/plain": [
       "array([ True,  True,  True, ...,  True, False,  True])"
      ]
     },
     "execution_count": 242,
     "metadata": {},
     "output_type": "execute_result"
    }
   ],
   "source": [
    "hits30 = (np.abs(walks) >= 30).any(1)\n",
    "hits30"
   ]
  },
  {
   "cell_type": "code",
   "execution_count": 243,
   "id": "e5b8d283",
   "metadata": {},
   "outputs": [
    {
     "data": {
      "text/plain": [
       "3368"
      ]
     },
     "execution_count": 243,
     "metadata": {},
     "output_type": "execute_result"
    }
   ],
   "source": [
    "hits30.sum() # Number that hit 30 or -30"
   ]
  },
  {
   "cell_type": "markdown",
   "id": "9467304d",
   "metadata": {},
   "source": [
    "然后我们利用这个布尔型数组选出那些穿越了30(绝对值)的随机漫步(行)，并调用argmax在轴1上获取穿越时间:"
   ]
  },
  {
   "cell_type": "code",
   "execution_count": 244,
   "id": "3a11f5bb",
   "metadata": {},
   "outputs": [
    {
     "data": {
      "text/plain": [
       "509.99762470308787"
      ]
     },
     "execution_count": 244,
     "metadata": {},
     "output_type": "execute_result"
    }
   ],
   "source": [
    "crossing_times = (np.abs(walks[hits30]) >= 30).argmax(1)\n",
    "crossing_times.mean()"
   ]
  },
  {
   "cell_type": "markdown",
   "id": "e78fe587",
   "metadata": {},
   "source": [
    "请尝试用其他分布方式得到漫步数据。只需使用不同的随机数生成函数即可，如normal用于生成指定均值和标准差的正态分布数据:"
   ]
  },
  {
   "cell_type": "code",
   "execution_count": 245,
   "id": "d3cc7261",
   "metadata": {},
   "outputs": [],
   "source": [
    "steps = np.random.normal(loc=0, scale=0.25,\n",
    "                         size=(nwalks, nsteps))"
   ]
  },
  {
   "cell_type": "markdown",
   "id": "28a5226a",
   "metadata": {},
   "source": [
    "# 4.8 结论"
   ]
  },
  {
   "cell_type": "markdown",
   "id": "0f11d9cc",
   "metadata": {},
   "source": [
    "虽然本书剩下的章节大部分是用pandas规整数据，我们还是会用到相似的基于数组的计算。在附录A中，我们会深入挖掘NumPy的特点，进一步学习数组的技巧。"
   ]
  }
 ],
 "metadata": {
  "kernelspec": {
   "display_name": "Python 3",
   "language": "python",
   "name": "python3"
  },
  "language_info": {
   "codemirror_mode": {
    "name": "ipython",
    "version": 3
   },
   "file_extension": ".py",
   "mimetype": "text/x-python",
   "name": "python",
   "nbconvert_exporter": "python",
   "pygments_lexer": "ipython3",
   "version": "3.8.8"
  }
 },
 "nbformat": 4,
 "nbformat_minor": 5
}

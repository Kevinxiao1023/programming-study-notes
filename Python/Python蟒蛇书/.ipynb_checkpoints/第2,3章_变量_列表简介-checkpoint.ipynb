{
 "cells": [
  {
   "cell_type": "markdown",
   "id": "40c1ba76",
   "metadata": {},
   "source": [
    "# 第2章 变量和简单数据类型"
   ]
  },
  {
   "cell_type": "markdown",
   "id": "d0c99865",
   "metadata": {},
   "source": [
    "## 2.2 变量"
   ]
  },
  {
   "cell_type": "code",
   "execution_count": 19,
   "id": "1bdb08e2",
   "metadata": {},
   "outputs": [
    {
     "name": "stdout",
     "output_type": "stream",
     "text": [
      "Hello Python world!\n"
     ]
    }
   ],
   "source": [
    "message = \"Hello Python world!\"\n",
    "print(message)"
   ]
  },
  {
   "cell_type": "markdown",
   "id": "e30ed73a",
   "metadata": {},
   "source": [
    "添加了名为message的变量，此变量存储了一个值，此处存储的值为文本\"Hello Python world!\"。"
   ]
  },
  {
   "cell_type": "code",
   "execution_count": 2,
   "id": "153dce9a",
   "metadata": {},
   "outputs": [
    {
     "name": "stdout",
     "output_type": "stream",
     "text": [
      "Hello Python world!\n",
      "Hello Python Crash Course world!\n"
     ]
    }
   ],
   "source": [
    "message = \"Hello Python world!\"\n",
    "print(message)\n",
    "message = \"Hello Python Crash Course world!\"\n",
    "print(message)"
   ]
  },
  {
   "cell_type": "markdown",
   "id": "fa08d22c",
   "metadata": {},
   "source": [
    "在程序中可随时修改变量的值，而Python将始终记录变量的最新值。"
   ]
  },
  {
   "cell_type": "markdown",
   "id": "4a114f9f",
   "metadata": {},
   "source": [
    "## 2.3 字符串"
   ]
  },
  {
   "cell_type": "markdown",
   "id": "7ba74620",
   "metadata": {},
   "source": [
    "### 2.3.1 使用方法修改字符串的大小写 -- 使用方法title( )"
   ]
  },
  {
   "cell_type": "code",
   "execution_count": 3,
   "id": "8b0fe66f",
   "metadata": {},
   "outputs": [
    {
     "name": "stdout",
     "output_type": "stream",
     "text": [
      "Ada Lovelace\n"
     ]
    }
   ],
   "source": [
    "name = \"ada lovelace\"\n",
    "print(name.title())"
   ]
  },
  {
   "cell_type": "markdown",
   "id": "70f74520",
   "metadata": {},
   "source": [
    "在print()语句中，**方法title( )**出现在name这个变量的后面。   \n",
    "* **方法**是Python可对数据执行的操作。   \n",
    "name后面的句点（.）让Python对变量name执行**方法title( )**指定的操作。  \n",
    "每个**方法**后面都跟着一对括号，这是因为**方法**通常需要额外的信息来完成其工作。这种信息是在括号内提供的。  \n",
    "  \n",
    "  \n",
    "* **title( )**以首字母大写的方式显示每个单词，即将每个单词的首字母都改为大写。"
   ]
  },
  {
   "cell_type": "code",
   "execution_count": 4,
   "id": "e12e5e94",
   "metadata": {},
   "outputs": [
    {
     "name": "stdout",
     "output_type": "stream",
     "text": [
      "ADA LOVELACE\n",
      "ada lovelace\n"
     ]
    }
   ],
   "source": [
    "name = \"ada lovelace\"\n",
    "print(name.upper())\n",
    "print(name.lower())"
   ]
  },
  {
   "cell_type": "markdown",
   "id": "839493c8",
   "metadata": {},
   "source": [
    "存储数据时，**方法lower()**很有用。很多时候，你无法依靠用户来提供正确的大小写，因此需要将字符串先转换为小写，再存储它们。"
   ]
  },
  {
   "cell_type": "markdown",
   "id": "b25816d1",
   "metadata": {},
   "source": [
    "### 2.3.2 合并（拼接）字符串"
   ]
  },
  {
   "cell_type": "code",
   "execution_count": 5,
   "id": "6e3a6e2b",
   "metadata": {},
   "outputs": [
    {
     "name": "stdout",
     "output_type": "stream",
     "text": [
      "ada lovelace\n"
     ]
    }
   ],
   "source": [
    "first_name = \"ada\"\n",
    "last_name = \"lovelace\"\n",
    "full_name = first_name+\" \"+last_name\n",
    "print(full_name)"
   ]
  },
  {
   "cell_type": "markdown",
   "id": "7493d031",
   "metadata": {},
   "source": [
    "使用加号（+）来合并字符串。这种合并字符串的方法称为拼接。"
   ]
  },
  {
   "cell_type": "code",
   "execution_count": 6,
   "id": "023fd4ee",
   "metadata": {},
   "outputs": [
    {
     "name": "stdout",
     "output_type": "stream",
     "text": [
      "Hello, Ada Lovelace!\n"
     ]
    }
   ],
   "source": [
    "print(\"Hello, \"+full_name.title()+\"!\")"
   ]
  },
  {
   "cell_type": "markdown",
   "id": "7bd97905",
   "metadata": {},
   "source": [
    "### 2.3.3 使用制表符或换行符来添加空白"
   ]
  },
  {
   "cell_type": "markdown",
   "id": "a00abf56",
   "metadata": {},
   "source": [
    "要在字符串中添加制表符，可使用字符组合\\t"
   ]
  },
  {
   "cell_type": "code",
   "execution_count": 8,
   "id": "2f541c07",
   "metadata": {},
   "outputs": [
    {
     "name": "stdout",
     "output_type": "stream",
     "text": [
      "\tPython\n"
     ]
    }
   ],
   "source": [
    "print(\"\\tPython\")"
   ]
  },
  {
   "cell_type": "markdown",
   "id": "fa1592e4",
   "metadata": {},
   "source": [
    "要在字符串中添加换行符，可使用字符组合\\n"
   ]
  },
  {
   "cell_type": "code",
   "execution_count": 10,
   "id": "755b87c9",
   "metadata": {},
   "outputs": [
    {
     "name": "stdout",
     "output_type": "stream",
     "text": [
      "Languages:\n",
      "Python\n",
      "C\n",
      "JavaScript\n"
     ]
    }
   ],
   "source": [
    "print(\"Languages:\\nPython\\nC\\nJavaScript\")"
   ]
  },
  {
   "cell_type": "markdown",
   "id": "e9fd3733",
   "metadata": {},
   "source": [
    "在同一个字符串中同时包含制表符和换行符。字符串\"\\n\\t\"让Python换到下一行，并在下一行开头添加一个制表符。"
   ]
  },
  {
   "cell_type": "code",
   "execution_count": 9,
   "id": "f4c3879f",
   "metadata": {},
   "outputs": [
    {
     "name": "stdout",
     "output_type": "stream",
     "text": [
      "Languages:\n",
      "\tPython\n",
      "\tC\n",
      "\tJavaScript\n"
     ]
    }
   ],
   "source": [
    "print(\"Languages:\\n\\tPython\\n\\tC\\n\\tJavaScript\")"
   ]
  },
  {
   "cell_type": "markdown",
   "id": "bff9f2e6",
   "metadata": {},
   "source": [
    "### 2.3.4 删除空白 -- 使用方法strip( )"
   ]
  },
  {
   "cell_type": "code",
   "execution_count": 12,
   "id": "fa741347",
   "metadata": {},
   "outputs": [
    {
     "name": "stdout",
     "output_type": "stream",
     "text": [
      "python \n",
      "python\n"
     ]
    }
   ],
   "source": [
    "favorite_language = 'python '\n",
    "print(favorite_language)\n",
    "print(favorite_language.rstrip())"
   ]
  },
  {
   "cell_type": "markdown",
   "id": "61c88030",
   "metadata": {},
   "source": [
    "对变量favorite_language调用方法rstrip( )后，字符串末尾多余的空格被删除了。然而，这种删除只是暂时的。"
   ]
  },
  {
   "cell_type": "code",
   "execution_count": 14,
   "id": "fde46b92",
   "metadata": {},
   "outputs": [
    {
     "name": "stdout",
     "output_type": "stream",
     "text": [
      " python\n",
      " python \n",
      "python \n",
      "python\n"
     ]
    }
   ],
   "source": [
    "favorite_language = ' python '\n",
    "print(favorite_language.rstrip())\n",
    "print(favorite_language)\n",
    "print(favorite_language.lstrip())\n",
    "print(favorite_language.strip())"
   ]
  },
  {
   "cell_type": "markdown",
   "id": "c49d1885",
   "metadata": {},
   "source": [
    "分别删除末尾、开头和两端的空格。这些**剥除函数**最常用于在存储用户输入前对其进行清理。"
   ]
  },
  {
   "cell_type": "markdown",
   "id": "22c31e12",
   "metadata": {},
   "source": [
    "### 2.3.5 使用字符串时避免语法错误"
   ]
  },
  {
   "cell_type": "code",
   "execution_count": 16,
   "id": "934e5eed",
   "metadata": {},
   "outputs": [
    {
     "name": "stdout",
     "output_type": "stream",
     "text": [
      "One of Python's strengths is its diverse community\n"
     ]
    }
   ],
   "source": [
    "message = \"One of Python's strengths is its diverse community\"\n",
    "print(message)"
   ]
  },
  {
   "cell_type": "markdown",
   "id": "a0b500dc",
   "metadata": {},
   "source": [
    "上面为正确使用单双引号。"
   ]
  },
  {
   "cell_type": "code",
   "execution_count": 17,
   "id": "a0ee3091",
   "metadata": {},
   "outputs": [
    {
     "ename": "SyntaxError",
     "evalue": "invalid syntax (<ipython-input-17-4393d1298a94>, line 1)",
     "output_type": "error",
     "traceback": [
      "\u001b[0;36m  File \u001b[0;32m\"<ipython-input-17-4393d1298a94>\"\u001b[0;36m, line \u001b[0;32m1\u001b[0m\n\u001b[0;31m    message = 'One of Python's strengths is its diverse community'\u001b[0m\n\u001b[0m                             ^\u001b[0m\n\u001b[0;31mSyntaxError\u001b[0m\u001b[0;31m:\u001b[0m invalid syntax\n"
     ]
    }
   ],
   "source": [
    "message = 'One of Python's strengths is its diverse community'\n",
    "print(message)"
   ]
  },
  {
   "cell_type": "markdown",
   "id": "f7a3e365",
   "metadata": {},
   "source": [
    "单引号混乱，从上述输出可知，语法错误发生在第二个单引号后面。"
   ]
  },
  {
   "cell_type": "markdown",
   "id": "b3bcb460",
   "metadata": {},
   "source": [
    "### 动手试一试"
   ]
  },
  {
   "cell_type": "markdown",
   "id": "1f375f1d",
   "metadata": {},
   "source": [
    "#### 2-3 个性化消息：将用户的姓名存到一个变量中，并向该用户显示一条消息。显示的消息应非常简单，如“Hello Eric, would you like to learn some Python today?”。"
   ]
  },
  {
   "cell_type": "code",
   "execution_count": 18,
   "id": "9764c795",
   "metadata": {},
   "outputs": [
    {
     "name": "stdout",
     "output_type": "stream",
     "text": [
      "Hello Eric, would you like to learn some Python today?\n"
     ]
    }
   ],
   "source": [
    "name = \"Eric\"\n",
    "print(\"Hello \"+name+\", would you like to learn some Python today?\")"
   ]
  },
  {
   "cell_type": "markdown",
   "id": "90fa3d45",
   "metadata": {},
   "source": [
    "#### 2-4 调整名字的大小写：将一个人名存储到一个变量中，再以小写、大写和首字母大写的方式显示这个人名。"
   ]
  },
  {
   "cell_type": "code",
   "execution_count": 20,
   "id": "dd5100d7",
   "metadata": {},
   "outputs": [
    {
     "name": "stdout",
     "output_type": "stream",
     "text": [
      "ezekiel elliot\n",
      "EZEKIEL ELLIOT\n",
      "Ezekiel Elliot\n"
     ]
    }
   ],
   "source": [
    "name = \"Ezekiel Elliot\"\n",
    "print(name.lower())\n",
    "print(name.upper())\n",
    "print(name.title())"
   ]
  },
  {
   "cell_type": "markdown",
   "id": "e55fda07",
   "metadata": {},
   "source": [
    "#### 2-5 名言：找一句你钦佩的名人说的名言，将这个名人的姓名和他的名言打印出来。输出应类似于下面这样（包括引号）：   \n",
    "Albert Einstein once said, “A person who never made a mistake never tried anything new.”"
   ]
  },
  {
   "cell_type": "code",
   "execution_count": 21,
   "id": "d467a728",
   "metadata": {},
   "outputs": [
    {
     "name": "stdout",
     "output_type": "stream",
     "text": [
      "Albert Einstein once said, \"A person who never made a mistake never tried anything new.\"\n"
     ]
    }
   ],
   "source": [
    "print('Albert Einstein once said, \"A person who never made a mistake never tried anything new.\"')"
   ]
  },
  {
   "cell_type": "markdown",
   "id": "ac26016a",
   "metadata": {},
   "source": [
    "#### 2-6 名言2：重复练习2-5，但将名人的姓名存储在变量famous_person中，再创建要显示的消息，并将其存储在变量message中，然后打印这条消息。"
   ]
  },
  {
   "cell_type": "code",
   "execution_count": 22,
   "id": "61e96f46",
   "metadata": {},
   "outputs": [
    {
     "name": "stdout",
     "output_type": "stream",
     "text": [
      "Albert Einstein once said, \"A person who never made a mistake never tried anything new.\"\n"
     ]
    }
   ],
   "source": [
    "famous_person = \"Albert Einstein\"\n",
    "message = famous_person+' once said, \"A person who never made a mistake never tried anything new.\"'\n",
    "print(message)"
   ]
  },
  {
   "cell_type": "markdown",
   "id": "c2164518",
   "metadata": {},
   "source": [
    "#### 2-7 剔除人名中的空白：存储一个人名，并在其开头和末尾都包含一些空白字符。务必至少使用字符组合\"\\t\"和\"\\n\"各一次。\n",
    "打印这个人名，以显示其开头和末尾的空白。然后，分别使用剔除函数lstrip()、rstrip()和strip()对人名进行处理，并将结果打印出来。"
   ]
  },
  {
   "cell_type": "code",
   "execution_count": 25,
   "id": "04d6b2da",
   "metadata": {},
   "outputs": [
    {
     "name": "stdout",
     "output_type": "stream",
     "text": [
      "Kevin\n",
      "Kevin \t\n",
      "\n",
      " Kevin\n"
     ]
    }
   ],
   "source": [
    "name = \"\\n Kevin \\t\"\n",
    "print(name.strip())\n",
    "print(name.lstrip())\n",
    "print(name.rstrip())"
   ]
  },
  {
   "cell_type": "markdown",
   "id": "4c4fde2e",
   "metadata": {},
   "source": [
    "## 2.4 数字"
   ]
  },
  {
   "cell_type": "markdown",
   "id": "1f9d796a",
   "metadata": {},
   "source": [
    "### 2.4.3 使用函数str( )避免类型错误"
   ]
  },
  {
   "cell_type": "code",
   "execution_count": 27,
   "id": "6e68ae6e",
   "metadata": {},
   "outputs": [
    {
     "ename": "TypeError",
     "evalue": "can only concatenate str (not \"int\") to str",
     "output_type": "error",
     "traceback": [
      "\u001b[0;31m---------------------------------------------------------------------------\u001b[0m",
      "\u001b[0;31mTypeError\u001b[0m                                 Traceback (most recent call last)",
      "\u001b[0;32m<ipython-input-27-07c8b09bcf83>\u001b[0m in \u001b[0;36m<module>\u001b[0;34m\u001b[0m\n\u001b[1;32m      1\u001b[0m \u001b[0mage\u001b[0m \u001b[0;34m=\u001b[0m \u001b[0;36m23\u001b[0m\u001b[0;34m\u001b[0m\u001b[0;34m\u001b[0m\u001b[0m\n\u001b[0;32m----> 2\u001b[0;31m \u001b[0mmessage\u001b[0m \u001b[0;34m=\u001b[0m \u001b[0;34m\"Happy \"\u001b[0m\u001b[0;34m+\u001b[0m\u001b[0mage\u001b[0m\u001b[0;34m+\u001b[0m\u001b[0;34m\"rd Birthday!\"\u001b[0m\u001b[0;34m\u001b[0m\u001b[0;34m\u001b[0m\u001b[0m\n\u001b[0m\u001b[1;32m      3\u001b[0m \u001b[0mprint\u001b[0m\u001b[0;34m(\u001b[0m\u001b[0mmessage\u001b[0m\u001b[0;34m)\u001b[0m\u001b[0;34m\u001b[0m\u001b[0;34m\u001b[0m\u001b[0m\n",
      "\u001b[0;31mTypeError\u001b[0m: can only concatenate str (not \"int\") to str"
     ]
    }
   ],
   "source": [
    "age = 23\n",
    "message = \"Happy \"+age+\"rd Birthday!\"\n",
    "print(message)"
   ]
  },
  {
   "cell_type": "markdown",
   "id": "f1b2e9f6",
   "metadata": {},
   "source": [
    "这是一个**类型错误**，意味着Python无法识别你使用的信息。在这个示例中，Python发现你使用了一个值为整数（int）的变量，但它不知道该如何解读这个值。Python知道，这个变量表示的可能是数值23，也可能是字符2和3。"
   ]
  },
  {
   "cell_type": "code",
   "execution_count": 28,
   "id": "04c8b0ed",
   "metadata": {},
   "outputs": [
    {
     "name": "stdout",
     "output_type": "stream",
     "text": [
      "Happy 23rd Birthday!\n"
     ]
    }
   ],
   "source": [
    "age = 23\n",
    "message = \"Happy \"+str(age)+\"rd Birthday!\"\n",
    "print(message)"
   ]
  },
  {
   "cell_type": "markdown",
   "id": "acbf9d18",
   "metadata": {},
   "source": [
    "可调用函数str( )，它让Python将非字符串值表示为字符串。这样，Python就知道你要将数值23转换为字符串，进而在生日祝福消息中显示字符2和3。"
   ]
  },
  {
   "cell_type": "markdown",
   "id": "ccaad40d",
   "metadata": {},
   "source": [
    "### 动手试一试"
   ]
  },
  {
   "cell_type": "markdown",
   "id": "d62e7b0e",
   "metadata": {},
   "source": [
    "#### 2-8 数字8：编写4个表达式，它们分别使用加法、减法、乘法和除法运算，但结果都是数字8。为使用print语句来显示结果，务必将这些表达式用括号括起来。"
   ]
  },
  {
   "cell_type": "code",
   "execution_count": 29,
   "id": "58b10fb3",
   "metadata": {},
   "outputs": [
    {
     "name": "stdout",
     "output_type": "stream",
     "text": [
      "8\n",
      "8\n",
      "8\n",
      "8.0\n"
     ]
    }
   ],
   "source": [
    "print(1+7)\n",
    "print(9-1)\n",
    "print(4*2)\n",
    "print(24/3)"
   ]
  },
  {
   "cell_type": "markdown",
   "id": "981f2d4f",
   "metadata": {},
   "source": [
    "#### 2-9 最喜欢的数字：将你最喜欢的数字存储在一个变量中，再使用这个变量创建一条消息，指出你最喜欢的数字，然后将这条消息打印出来。"
   ]
  },
  {
   "cell_type": "code",
   "execution_count": 30,
   "id": "9196bc90",
   "metadata": {},
   "outputs": [
    {
     "name": "stdout",
     "output_type": "stream",
     "text": [
      "My lucky number is 23.\n"
     ]
    }
   ],
   "source": [
    "lucky = 23\n",
    "print(\"My lucky number is \"+ str(lucky)+\".\")"
   ]
  },
  {
   "cell_type": "markdown",
   "id": "849bc4d5",
   "metadata": {},
   "source": [
    "## 2.5 注释"
   ]
  },
  {
   "cell_type": "markdown",
   "id": "c9568383",
   "metadata": {},
   "source": [
    "### 2.5.1 如何编写注释"
   ]
  },
  {
   "cell_type": "code",
   "execution_count": 31,
   "id": "ff27a664",
   "metadata": {},
   "outputs": [
    {
     "name": "stdout",
     "output_type": "stream",
     "text": [
      "Hello Python People!\n"
     ]
    }
   ],
   "source": [
    "# 向大家问好\n",
    "print(\"Hello Python People!\")"
   ]
  },
  {
   "cell_type": "markdown",
   "id": "6ba9cf85",
   "metadata": {},
   "source": [
    "## 2.6 Python之禅"
   ]
  },
  {
   "cell_type": "code",
   "execution_count": 1,
   "id": "3b3b9d7d",
   "metadata": {
    "scrolled": true
   },
   "outputs": [
    {
     "name": "stdout",
     "output_type": "stream",
     "text": [
      "The Zen of Python, by Tim Peters\n",
      "\n",
      "Beautiful is better than ugly.\n",
      "Explicit is better than implicit.\n",
      "Simple is better than complex.\n",
      "Complex is better than complicated.\n",
      "Flat is better than nested.\n",
      "Sparse is better than dense.\n",
      "Readability counts.\n",
      "Special cases aren't special enough to break the rules.\n",
      "Although practicality beats purity.\n",
      "Errors should never pass silently.\n",
      "Unless explicitly silenced.\n",
      "In the face of ambiguity, refuse the temptation to guess.\n",
      "There should be one-- and preferably only one --obvious way to do it.\n",
      "Although that way may not be obvious at first unless you're Dutch.\n",
      "Now is better than never.\n",
      "Although never is often better than *right* now.\n",
      "If the implementation is hard to explain, it's a bad idea.\n",
      "If the implementation is easy to explain, it may be a good idea.\n",
      "Namespaces are one honking great idea -- let's do more of those!\n"
     ]
    }
   ],
   "source": [
    "import this"
   ]
  },
  {
   "cell_type": "markdown",
   "id": "df06fa67",
   "metadata": {},
   "source": [
    "# 第3章 列表简介"
   ]
  },
  {
   "cell_type": "markdown",
   "id": "02a53534",
   "metadata": {},
   "source": [
    "## 3.1 列表是什么"
   ]
  },
  {
   "cell_type": "markdown",
   "id": "e2f73cdf",
   "metadata": {},
   "source": [
    "列表由一系列按特定顺序排列的元素组成。  \n",
    "在Python中，用方括号（[ ]）来表示列表，并用逗号来分隔其中的元素。  \n",
    "鉴于列表通常包含多个元素，给列表指定一个表示复数的名称（如letters、digits或names）是个不错的主意。"
   ]
  },
  {
   "cell_type": "markdown",
   "id": "56af7d7b",
   "metadata": {},
   "source": [
    "### 3.1.1 访问列表元素"
   ]
  },
  {
   "cell_type": "markdown",
   "id": "b17aa6ac",
   "metadata": {},
   "source": [
    "访问列表的任何元素，只需将该元素的位置或索引告诉Python即可。要访问列表元素，可指出列表的名称，再指出元素的索引，并将其放在方括号内。"
   ]
  },
  {
   "cell_type": "code",
   "execution_count": 3,
   "id": "fb1222d3",
   "metadata": {},
   "outputs": [
    {
     "name": "stdout",
     "output_type": "stream",
     "text": [
      "Trek\n"
     ]
    }
   ],
   "source": [
    "bicycles = ['trek', 'cannondale', 'redline', 'specialized']\n",
    "print(bicycles[0].title())"
   ]
  },
  {
   "cell_type": "markdown",
   "id": "627d70ce",
   "metadata": {},
   "source": [
    "### 3.1.2 索引从0而不是1开始"
   ]
  },
  {
   "cell_type": "code",
   "execution_count": 4,
   "id": "8a858a2c",
   "metadata": {},
   "outputs": [
    {
     "name": "stdout",
     "output_type": "stream",
     "text": [
      "Cannondale\n",
      "Specialized\n"
     ]
    }
   ],
   "source": [
    "bicycles = ['trek', 'cannondale', 'redline', 'specialized']\n",
    "print(bicycles[1].title())\n",
    "print(bicycles[3].title())"
   ]
  },
  {
   "cell_type": "markdown",
   "id": "46d9d7fe",
   "metadata": {},
   "source": [
    "Python为访问最后一个列表元素提供了一种特殊语法。通过将索引指定为-1，可让Python返回最后一个列表元素："
   ]
  },
  {
   "cell_type": "code",
   "execution_count": 5,
   "id": "48d71a26",
   "metadata": {},
   "outputs": [
    {
     "name": "stdout",
     "output_type": "stream",
     "text": [
      "Specialized\n"
     ]
    }
   ],
   "source": [
    "bicycles = ['trek', 'cannondale', 'redline', 'specialized']\n",
    "print(bicycles[-1].title())"
   ]
  },
  {
   "cell_type": "markdown",
   "id": "d02d801c",
   "metadata": {},
   "source": [
    "### 3.1.3 使用列表中的各个值"
   ]
  },
  {
   "cell_type": "code",
   "execution_count": 6,
   "id": "b76aeebc",
   "metadata": {},
   "outputs": [
    {
     "name": "stdout",
     "output_type": "stream",
     "text": [
      "My first bicycle was a Trek.\n"
     ]
    }
   ],
   "source": [
    "bicycles = ['trek', 'cannondale', 'redline', 'specialized']\n",
    "message = \"My first bicycle was a \"+bicycles[0].title()+\".\"\n",
    "print(message)"
   ]
  },
  {
   "cell_type": "markdown",
   "id": "2ad4cffa",
   "metadata": {},
   "source": [
    "### 动手试一试"
   ]
  },
  {
   "cell_type": "markdown",
   "id": "dd13b323",
   "metadata": {},
   "source": [
    "#### 3-1 姓名：将一些朋友的姓名存储在一个列表中，并将其命名为names。依次访问该列表中的每个元素，从而将每个朋友的姓名都打印出来。"
   ]
  },
  {
   "cell_type": "code",
   "execution_count": 7,
   "id": "9fa1f4b0",
   "metadata": {},
   "outputs": [
    {
     "name": "stdout",
     "output_type": "stream",
     "text": [
      "Johnson\n",
      "Helen\n",
      "Liliana\n"
     ]
    }
   ],
   "source": [
    "names = ['johnson', 'helen', 'liliana']\n",
    "print(names[0].title())\n",
    "print(names[-2].title())\n",
    "print(names[-1].title())"
   ]
  },
  {
   "cell_type": "markdown",
   "id": "a406fd88",
   "metadata": {},
   "source": [
    "#### 3-2 问候语：继续使用练习3-1中的列表，但不打印每个朋友的姓名，而为每人打印一条消息。每条消息都包含相同的问候语，但抬头为相应朋友的姓名。"
   ]
  },
  {
   "cell_type": "code",
   "execution_count": 8,
   "id": "e19aa3e7",
   "metadata": {},
   "outputs": [
    {
     "name": "stdout",
     "output_type": "stream",
     "text": [
      "Hello, Johnson!\n",
      "Hello, Helen!\n",
      "Hello, Liliana!\n"
     ]
    }
   ],
   "source": [
    "message_1 = \"Hello, \"+names[0].title()+\"!\"\n",
    "print(message_1)\n",
    "message_2 = \"Hello, \"+names[1].title()+\"!\"\n",
    "print(message_2)\n",
    "message_3 = \"Hello, \"+names[2].title()+\"!\"\n",
    "print(message_3)"
   ]
  },
  {
   "cell_type": "markdown",
   "id": "83c80e7b",
   "metadata": {},
   "source": [
    "#### 3-3 自己的列表：想想你喜欢的通勤方式，如骑摩托车或开汽车，并创建一个包含多种通勤方式的列表。根据该列表打印一系列有关这些通勤方式的宣言，如“I would like to own a Honda motorcycle”。"
   ]
  },
  {
   "cell_type": "code",
   "execution_count": 9,
   "id": "0129fc3e",
   "metadata": {},
   "outputs": [
    {
     "name": "stdout",
     "output_type": "stream",
     "text": [
      "I would like to own a sportscar.\n"
     ]
    }
   ],
   "source": [
    "transport = ['motorcycle', 'jeep', 'sportscar']\n",
    "message = \"I would like to own a \"+transport[2]+\".\"\n",
    "print(message)"
   ]
  },
  {
   "cell_type": "markdown",
   "id": "03762255",
   "metadata": {},
   "source": [
    "## 3.2 修改、添加和删除元素"
   ]
  },
  {
   "cell_type": "markdown",
   "id": "6cdb732c",
   "metadata": {},
   "source": [
    "### 3.2.1 修改列表元素"
   ]
  },
  {
   "cell_type": "code",
   "execution_count": 10,
   "id": "df34ddde",
   "metadata": {},
   "outputs": [
    {
     "name": "stdout",
     "output_type": "stream",
     "text": [
      "['honda', 'yamaha', 'suzuki']\n",
      "['ducati', 'yamaha', 'suzuki']\n"
     ]
    }
   ],
   "source": [
    "motorcycles = ['honda', 'yamaha', 'suzuki']\n",
    "print(motorcycles)\n",
    "motorcycles[0] = 'ducati'\n",
    "print(motorcycles)"
   ]
  },
  {
   "cell_type": "markdown",
   "id": "654e9199",
   "metadata": {},
   "source": [
    "### 3.2.2 在列表中添加元素"
   ]
  },
  {
   "cell_type": "markdown",
   "id": "a5200ceb",
   "metadata": {},
   "source": [
    "1. 在列表末尾添加元素： **方法append( )**"
   ]
  },
  {
   "cell_type": "code",
   "execution_count": 11,
   "id": "ce29347d",
   "metadata": {},
   "outputs": [
    {
     "name": "stdout",
     "output_type": "stream",
     "text": [
      "['honda', 'yamaha', 'suzuki']\n",
      "['honda', 'yamaha', 'suzuki', 'ducati']\n"
     ]
    }
   ],
   "source": [
    "motorcycles = ['honda', 'yamaha', 'suzuki']\n",
    "print(motorcycles)\n",
    "motorcycles.append('ducati')\n",
    "print(motorcycles)"
   ]
  },
  {
   "cell_type": "markdown",
   "id": "8c0fdac5",
   "metadata": {},
   "source": [
    "**方法append( )**让动态地创建列表易如反掌，例如，你可以先创建一个空列表，再使用一系列的append( )语句添加元素。下面来创建一个空列表，再在其中添加元素'honda'、'yamaha'和'suzuki'："
   ]
  },
  {
   "cell_type": "code",
   "execution_count": 12,
   "id": "0e2a9749",
   "metadata": {},
   "outputs": [
    {
     "name": "stdout",
     "output_type": "stream",
     "text": [
      "['honda']\n"
     ]
    }
   ],
   "source": [
    "motorcycles = []\n",
    "motorcycles.append('honda')\n",
    "print(motorcycles)"
   ]
  },
  {
   "cell_type": "markdown",
   "id": "562a5f9e",
   "metadata": {},
   "source": [
    "2. 在列表中插入元素： **方法insert( )**"
   ]
  },
  {
   "cell_type": "code",
   "execution_count": 13,
   "id": "5a76de3d",
   "metadata": {},
   "outputs": [
    {
     "name": "stdout",
     "output_type": "stream",
     "text": [
      "['ducati', 'honda', 'yamaha', 'suzuki']\n"
     ]
    }
   ],
   "source": [
    "motorcycles = ['honda', 'yamaha', 'suzuki']\n",
    "motorcycles.insert(0, 'ducati')\n",
    "print(motorcycles)"
   ]
  },
  {
   "cell_type": "markdown",
   "id": "313dc158",
   "metadata": {},
   "source": [
    "**方法insert( )**在索引0处添加空间，并将值'ducati'存储到这个地方。这种操作将列表中既有的每个元素都右移一个位置"
   ]
  },
  {
   "cell_type": "markdown",
   "id": "20e70464",
   "metadata": {},
   "source": [
    "### 3.2.3 从列表中删除元素"
   ]
  },
  {
   "cell_type": "markdown",
   "id": "90e1be7b",
   "metadata": {},
   "source": [
    "1. 使用**del语句**删除元素"
   ]
  },
  {
   "cell_type": "code",
   "execution_count": 16,
   "id": "f6b23e6f",
   "metadata": {},
   "outputs": [
    {
     "name": "stdout",
     "output_type": "stream",
     "text": [
      "['honda', 'yamaha', 'suzuki']\n",
      "['yamaha', 'suzuki']\n"
     ]
    }
   ],
   "source": [
    "#使用del语句，不再使用它的值\n",
    "motorcycles = ['honda', 'yamaha', 'suzuki']\n",
    "print(motorcycles)\n",
    "del motorcycles[0]\n",
    "print(motorcycles)"
   ]
  },
  {
   "cell_type": "markdown",
   "id": "bd58cedd",
   "metadata": {},
   "source": [
    "使用**del语句**将值从列表中删除后，你就无法再访问它了。"
   ]
  },
  {
   "cell_type": "markdown",
   "id": "bf8e0da7",
   "metadata": {},
   "source": [
    "2. 使用**方法pop( )**删除元素"
   ]
  },
  {
   "cell_type": "code",
   "execution_count": 20,
   "id": "149cd8b7",
   "metadata": {},
   "outputs": [
    {
     "name": "stdout",
     "output_type": "stream",
     "text": [
      "['honda', 'yamaha', 'suzuki']\n",
      "['honda', 'yamaha']\n",
      "suzuki\n",
      "The last motorcycle I owned was a Suzuki.\n"
     ]
    }
   ],
   "source": [
    "#使用pop() 删除/弹出末尾并接着使用它的值\n",
    "motorcycles = ['honda', 'yamaha', 'suzuki']\n",
    "print(motorcycles)\n",
    "poped_motorcycle = motorcycles.pop()\n",
    "print(motorcycles)\n",
    "print(poped_motorcycle)\n",
    "print(\"The last motorcycle I owned was a \"+poped_motorcycle.title()+\".\")"
   ]
  },
  {
   "cell_type": "markdown",
   "id": "7ae826d9",
   "metadata": {},
   "source": [
    "**方法pop( )**可删除列表末尾的元素，并让你能够接着使用它。术语弹出（pop）源自这样的类比：列表就像一个栈，而删除列表末尾的元素相当于弹出栈顶元素。"
   ]
  },
  {
   "cell_type": "markdown",
   "id": "5aa32346",
   "metadata": {},
   "source": [
    "3. 弹出列表中任何位置处的元素"
   ]
  },
  {
   "cell_type": "code",
   "execution_count": 18,
   "id": "8d1a99f5",
   "metadata": {},
   "outputs": [
    {
     "name": "stdout",
     "output_type": "stream",
     "text": [
      "The first motorcycle I owned was a Honda.\n"
     ]
    }
   ],
   "source": [
    "motorcycles = ['honda', 'yamaha', 'suzuki']\n",
    "first_owned = motorcycles.pop(0)\n",
    "print(\"The first motorcycle I owned was a \"+first_owned.title()+\".\")"
   ]
  },
  {
   "cell_type": "markdown",
   "id": "b084c03a",
   "metadata": {},
   "source": [
    "4. 根据值删除元素"
   ]
  },
  {
   "cell_type": "markdown",
   "id": "415f7296",
   "metadata": {},
   "source": [
    "如果你只知道要删除的元素的值，可使用**方法remove( )**。"
   ]
  },
  {
   "cell_type": "code",
   "execution_count": 21,
   "id": "407e579d",
   "metadata": {},
   "outputs": [
    {
     "name": "stdout",
     "output_type": "stream",
     "text": [
      "['honda', 'yamaha', 'suzuki']\n",
      "['honda', 'yamaha']\n"
     ]
    }
   ],
   "source": [
    "#根据值删除remove()\n",
    "motorcycles = ['honda', 'yamaha', 'suzuki']\n",
    "print(motorcycles)\n",
    "motorcycles.remove('suzuki')\n",
    "print(motorcycles)"
   ]
  },
  {
   "cell_type": "markdown",
   "id": "dd8eae76",
   "metadata": {},
   "source": [
    "使用**remove( )**从列表中删除元素时，也可接着使用它的值。下面删除值'ducati'，并打印一条消息，指出要将其从列表中删除的原因："
   ]
  },
  {
   "cell_type": "code",
   "execution_count": 23,
   "id": "14a68681",
   "metadata": {},
   "outputs": [
    {
     "name": "stdout",
     "output_type": "stream",
     "text": [
      "['honda', 'yamaha', 'suzuki', 'ducati']\n",
      "['honda', 'yamaha', 'suzuki']\n",
      "\n",
      "A Ducati is too expensive for me.\n"
     ]
    }
   ],
   "source": [
    "#使用remove()，并接着使用它的值\n",
    "motorcycles = ['honda', 'yamaha', 'suzuki', 'ducati']\n",
    "print(motorcycles)\n",
    "too_expensive = 'ducati'\n",
    "motorcycles.remove('ducati')\n",
    "print(motorcycles)\n",
    "print(\"\\nA \"+too_expensive.title()+\" is too expensive for me.\")"
   ]
  },
  {
   "cell_type": "markdown",
   "id": "244a8340",
   "metadata": {},
   "source": [
    "### 注意 ! \n",
    "**方法remove( )**只删除**第一个指定的值**。如果要删除的值可能在列表中出现多次，就需要使用循环来判断是否删除了所有这样的值。将在第7章学习如何这样做。"
   ]
  },
  {
   "cell_type": "markdown",
   "id": "41a92f13",
   "metadata": {},
   "source": [
    "### 动手试一试"
   ]
  },
  {
   "cell_type": "markdown",
   "id": "201a80c2",
   "metadata": {},
   "source": [
    "#### 3-4 嘉宾名单：如果你可以邀请任何人一起共进晚餐（无论是在世的还是故去的），你会邀请哪些人？请创建一个列表，其中包含至少3个你想邀请的人；然后，使用这个列表打印消息，邀请这些人来与你共进晚餐。"
   ]
  },
  {
   "cell_type": "code",
   "execution_count": 24,
   "id": "28f72df0",
   "metadata": {},
   "outputs": [
    {
     "name": "stdout",
     "output_type": "stream",
     "text": [
      "Hello, Johnson, welcome to dinner!\n",
      "Hello, Helen, welcome to dinner!\n",
      "Hello, Liliana, welcome to dinner!\n"
     ]
    }
   ],
   "source": [
    "lists = ['johnson', 'helen', 'liliana']\n",
    "print(\"Hello, \"+lists[0].title()+\", welcome to dinner!\")\n",
    "print(\"Hello, \"+lists[1].title()+\", welcome to dinner!\")\n",
    "print(\"Hello, \"+lists[2].title()+\", welcome to dinner!\")"
   ]
  },
  {
   "cell_type": "markdown",
   "id": "521237e6",
   "metadata": {},
   "source": [
    "#### 3-5 修改嘉宾名单：你刚得知有位嘉宾无法赴约，因此需要另外邀请一位嘉宾。  \n",
    "* 以完成练习3-4时编写的程序为基础，在程序末尾添加一条print语句，指出哪位嘉宾无法赴约。  \n",
    "* 修改嘉宾名单，将无法赴约的嘉宾的姓名替换为新邀请的嘉宾的姓名。  \n",
    "* 再次打印一系列消息，向名单中的每位嘉宾发出邀请。"
   ]
  },
  {
   "cell_type": "code",
   "execution_count": 25,
   "id": "c2217927",
   "metadata": {},
   "outputs": [
    {
     "name": "stdout",
     "output_type": "stream",
     "text": [
      "\n",
      "Hello, Helen, welcome to dinner!\n",
      "Hello, Liliana, welcome to dinner!\n",
      "Hello, Kevin, welcome to dinner!\n",
      "For some reasons, Johnson cannot come to this dinner.\n"
     ]
    }
   ],
   "source": [
    "lists = ['johnson', 'helen', 'liliana']\n",
    "not_come = lists.pop(0)\n",
    "lists.append('Kevin')\n",
    "print(\"\\nHello, \"+lists[0].title()+\", welcome to dinner!\")\n",
    "print(\"Hello, \"+lists[1].title()+\", welcome to dinner!\")\n",
    "print(\"Hello, \"+lists[2].title()+\", welcome to dinner!\")\n",
    "print(\"For some reasons, \"+not_come.title()+\" cannot come to this dinner.\")"
   ]
  },
  {
   "cell_type": "markdown",
   "id": "d8dae368",
   "metadata": {},
   "source": [
    "#### 3-6 添加嘉宾：你刚找到了一个更大的餐桌，可容纳更多的嘉宾。请想想你还想邀请哪三位嘉宾。  \n",
    "* 以完成练习3-4或练习3-5时编写的程序为基础，在程序末尾添加一条print语句，指出你找到了一个更大的餐桌。  \n",
    "*  使用insert( )将一位新嘉宾添加到名单开头。  \n",
    "* 使用insert( )将另一位新嘉宾添加到名单中间。  \n",
    "* 使用append( )将最后一位新嘉宾添加到名单末尾。  \n",
    "* 打印一系列消息，向名单中的每位嘉宾发出邀请。"
   ]
  },
  {
   "cell_type": "code",
   "execution_count": 26,
   "id": "3057dd39",
   "metadata": {},
   "outputs": [
    {
     "name": "stdout",
     "output_type": "stream",
     "text": [
      "\n",
      "Hello, Gloria, welcome to dinner!\n",
      "Hello, Helen, welcome to dinner!\n",
      "Hello, Liliana, welcome to dinner!\n",
      "Hello, Teo, welcome to dinner!\n",
      "Hello, Kevin, welcome to dinner!\n",
      "Hello, Darren, welcome to dinner!\n",
      "As we have found a larger table, other three guests will come and join the dinner!\n"
     ]
    }
   ],
   "source": [
    "lists = ['helen', 'liliana', 'kevin']\n",
    "lists.insert(0, 'gloria')\n",
    "lists.insert(3, 'teo')\n",
    "lists.append('darren')\n",
    "print(\"\\nHello, \"+lists[0].title()+\", welcome to dinner!\")\n",
    "print(\"Hello, \"+lists[1].title()+\", welcome to dinner!\")\n",
    "print(\"Hello, \"+lists[2].title()+\", welcome to dinner!\")\n",
    "print(\"Hello, \"+lists[3].title()+\", welcome to dinner!\")\n",
    "print(\"Hello, \"+lists[4].title()+\", welcome to dinner!\")\n",
    "print(\"Hello, \"+lists[5].title()+\", welcome to dinner!\")\n",
    "print(\"As we have found a larger table, other three guests will come and join the dinner!\")"
   ]
  },
  {
   "cell_type": "markdown",
   "id": "5d646356",
   "metadata": {},
   "source": [
    "#### 3-7 缩减名单：你刚得知新购买的餐桌无法及时送达，因此只能邀请两位嘉宾。  \n",
    "* 以完成练习3-6时编写的程序为基础，在程序末尾添加一行代码，打印一条你只能邀请两位嘉宾共进晚餐的消息。  \n",
    "* 使用pop( )不断地删除名单中的嘉宾，直到只有两位嘉宾为止。每次从名单中弹出一位嘉宾时，都打印一条消息，让该嘉宾知悉你很抱歉，无法邀请他来共进晚餐。  \n",
    "* 对于余下的两位嘉宾中的每一位，都打印一条消息，指出他依然在受邀人之列。  \n",
    "* 使用del将最后两位嘉宾从名单中删除，让名单变成空的。打印该名单，核实程序结束时名单确实是空的。"
   ]
  },
  {
   "cell_type": "code",
   "execution_count": 27,
   "id": "6576d7a9",
   "metadata": {},
   "outputs": [
    {
     "name": "stdout",
     "output_type": "stream",
     "text": [
      "\n",
      "I feel so sorry, darren, I cannot invite you to tonight's dinner as the new dinning table couldn't arrive in time.\n",
      "I feel so sorry, kevin, I cannot invite you to tonight's dinner as the new dinning table couldn't arrive in time.\n",
      "I feel so sorry, teo, I cannot invite you to tonight's dinner as the new dinning table couldn't arrive in time.\n",
      "I feel so sorry, liliana, I cannot invite you to tonight's dinner as the new dinning table couldn't arrive in time.\n",
      "My beloved guest, gloria, I am happy to tell you that you can still join the dinner!\n",
      "My beloved guest, helen, I am happy to tell you that you can still join the dinner!\n",
      "[]\n"
     ]
    }
   ],
   "source": [
    "lists = ['helen', 'liliana', 'kevin']\n",
    "lists.insert(0, 'gloria')\n",
    "lists.insert(3, 'teo')\n",
    "lists.append('darren')\n",
    "print(\"\\nI feel so sorry, \"+lists.pop()+\", I cannot invite you to tonight's dinner as the new dinning table couldn't arrive in time.\")\n",
    "print(\"I feel so sorry, \"+lists.pop()+\", I cannot invite you to tonight's dinner as the new dinning table couldn't arrive in time.\")\n",
    "print(\"I feel so sorry, \"+lists.pop()+\", I cannot invite you to tonight's dinner as the new dinning table couldn't arrive in time.\")\n",
    "print(\"I feel so sorry, \"+lists.pop()+\", I cannot invite you to tonight's dinner as the new dinning table couldn't arrive in time.\")\n",
    "print(\"My beloved guest, \"+lists[0]+\", I am happy to tell you that you can still join the dinner!\")\n",
    "print(\"My beloved guest, \"+lists[1]+\", I am happy to tell you that you can still join the dinner!\")\n",
    "del lists[0]\n",
    "del lists[0]\n",
    "print(lists)"
   ]
  },
  {
   "cell_type": "markdown",
   "id": "50779a5d",
   "metadata": {},
   "source": [
    "## 3.3 组织列表"
   ]
  },
  {
   "cell_type": "markdown",
   "id": "78060086",
   "metadata": {},
   "source": [
    "### 3.3.1 使用方法sort( )对列表进行永久性排序"
   ]
  },
  {
   "cell_type": "code",
   "execution_count": 28,
   "id": "e3e0ace8",
   "metadata": {},
   "outputs": [
    {
     "name": "stdout",
     "output_type": "stream",
     "text": [
      "['audi', 'bmw', 'subaru', 'toyota']\n"
     ]
    }
   ],
   "source": [
    "#sort()永久性修改列表元素排列顺序，按字母顺序\n",
    "cars = ['bmw', 'audi', 'toyota', 'subaru']\n",
    "cars.sort()\n",
    "print(cars)"
   ]
  },
  {
   "cell_type": "markdown",
   "id": "7e9d8869",
   "metadata": {},
   "source": [
    "* 可以按与字母顺序相反的顺序排列列表元素，为此，只需向sort( )方法传递**参数reverse=True**。"
   ]
  },
  {
   "cell_type": "code",
   "execution_count": 29,
   "id": "29f9eb19",
   "metadata": {},
   "outputs": [
    {
     "name": "stdout",
     "output_type": "stream",
     "text": [
      "['toyota', 'subaru', 'bmw', 'audi']\n"
     ]
    }
   ],
   "source": [
    "#按字母顺序相反的顺序\n",
    "cars = ['bmw', 'audi', 'toyota', 'subaru']\n",
    "cars.sort(reverse=True)\n",
    "print(cars)"
   ]
  },
  {
   "cell_type": "markdown",
   "id": "77aa7db4",
   "metadata": {},
   "source": [
    "### 3.3.2 使用函数sorted( )对列表进行临时排序"
   ]
  },
  {
   "cell_type": "markdown",
   "id": "e49d62ff",
   "metadata": {},
   "source": [
    "* 要**保留**列表元素原来的排列顺序，同时以特定的顺序呈现它们，可使用函数sorted( )。  \n",
    "* **函数sorted( )**让你能够按特定顺序显示列表元素，同时不影响它们在列表中的原始排列顺序。"
   ]
  },
  {
   "cell_type": "code",
   "execution_count": 1,
   "id": "f448542f",
   "metadata": {},
   "outputs": [
    {
     "name": "stdout",
     "output_type": "stream",
     "text": [
      "\n",
      "Here is the original list: \n",
      "['bmw', 'audi', 'toyota', 'subaru']\n",
      "\n",
      "Here is the sorted list: \n",
      "['audi', 'bmw', 'subaru', 'toyota']\n",
      "['toyota', 'subaru', 'bmw', 'audi']\n",
      "\n",
      "Here is the original list again: \n",
      "['bmw', 'audi', 'toyota', 'subaru']\n"
     ]
    }
   ],
   "source": [
    "#sorted()对列表进行临时排序\n",
    "cars = ['bmw', 'audi', 'toyota', 'subaru']\n",
    "print(\"\\nHere is the original list: \")\n",
    "print(cars)\n",
    "print(\"\\nHere is the sorted list: \")\n",
    "print(sorted(cars))\n",
    "print(sorted(cars, reverse=True))\n",
    "print(\"\\nHere is the original list again: \")\n",
    "print(cars)"
   ]
  },
  {
   "cell_type": "markdown",
   "id": "3650cf1a",
   "metadata": {},
   "source": [
    "### 3.3.3 倒着打印列表"
   ]
  },
  {
   "cell_type": "markdown",
   "id": "c0f42334",
   "metadata": {},
   "source": [
    "要反转列表元素的排列顺序，可使用**方法reverse( )**。"
   ]
  },
  {
   "cell_type": "code",
   "execution_count": 2,
   "id": "ac300330",
   "metadata": {},
   "outputs": [
    {
     "name": "stdout",
     "output_type": "stream",
     "text": [
      "\n",
      "\n",
      "['bmw', 'audi', 'toyota', 'subaru']\n",
      "['subaru', 'toyota', 'audi', 'bmw']\n",
      "['bmw', 'audi', 'toyota', 'subaru']\n"
     ]
    }
   ],
   "source": [
    "#反转列表元素排列顺序 reverse() 直接反转而非基于字母顺序\n",
    "cars = ['bmw', 'audi', 'toyota', 'subaru']\n",
    "print(\"\\n\")\n",
    "print(cars)\n",
    "cars.reverse()\n",
    "print(cars)\n",
    "cars.reverse()\n",
    "print(cars)"
   ]
  },
  {
   "cell_type": "markdown",
   "id": "87d4be83",
   "metadata": {},
   "source": [
    "* *注意*，reverse( )不是指按与字母顺序相反的顺序排列列表元素，而**只是反转**列表元素的排列顺序。  \n",
    "* **方法reverse( )永久**性地修改列表元素的排列顺序，但可随时恢复到原来的排列顺序，为此只需对列表再次调用reverse( )即可。"
   ]
  },
  {
   "cell_type": "markdown",
   "id": "73d96ebc",
   "metadata": {},
   "source": [
    "### 3.3.4 确定列表的长度"
   ]
  },
  {
   "cell_type": "markdown",
   "id": "09d88e66",
   "metadata": {},
   "source": [
    "使用**函数len( )**可快速获悉列表的长度。"
   ]
  },
  {
   "cell_type": "code",
   "execution_count": 3,
   "id": "278dafb7",
   "metadata": {},
   "outputs": [
    {
     "name": "stdout",
     "output_type": "stream",
     "text": [
      "4\n"
     ]
    }
   ],
   "source": [
    "#确定/打印表的长度\n",
    "cars = ['bmw', 'audi', 'toyota', 'subaru']\n",
    "print(len(cars))"
   ]
  },
  {
   "cell_type": "markdown",
   "id": "444129eb",
   "metadata": {},
   "source": [
    "*注意* Python计算列表元素数时从**1**开始，因此确定列表长度时，应该不会遇到差一错误。"
   ]
  },
  {
   "cell_type": "markdown",
   "id": "d44684be",
   "metadata": {},
   "source": [
    "### 动手试一试"
   ]
  },
  {
   "cell_type": "markdown",
   "id": "6b584aca",
   "metadata": {},
   "source": [
    "#### 3-8 放眼世界：想出至少5个你渴望去旅游的地方。"
   ]
  },
  {
   "cell_type": "markdown",
   "id": "357dd178",
   "metadata": {},
   "source": [
    "* 将这些地方存储在一个列表中，并确保其中的元素不是按字母顺序排列的。  \n",
    "* 按原始排列顺序打印该列表。不要考虑输出是否整洁的问题，只管打印原始Python列表。  \n",
    "* 使用sorted( )按字母顺序打印这个列表，同时不要修改它。  \n",
    "* 再次打印该列表，核实排列顺序未变。  \n",
    "* 使用sorted( )按与字母顺序相反的顺序打印这个列表，同时不要修改它。  \n",
    "* 再次打印该列表，核实排列顺序未变。  \n",
    "* 使用reverse( )修改列表元素的排列顺序。打印该列表，核实排列顺序确实变了。  \n",
    "* 使用reverse( )再次修改列表元素的排列顺序。打印该列表，核实已恢复到原来的排列顺序。  \n",
    "* 使用sort( )修改该列表，使其元素按字母顺序排列。打印该列表，核实排列顺序确实变了。  \n",
    "* 使用sort( )修改该列表，使其元素按与字母顺序相反的顺序排列。打印该列表，核实排列顺序确实变了。"
   ]
  },
  {
   "cell_type": "code",
   "execution_count": 4,
   "id": "16d15ead",
   "metadata": {},
   "outputs": [
    {
     "name": "stdout",
     "output_type": "stream",
     "text": [
      "['iceland', 'britain', 'australia', 'japan']\n",
      "['australia', 'britain', 'iceland', 'japan']\n",
      "['iceland', 'britain', 'australia', 'japan']\n",
      "['japan', 'iceland', 'britain', 'australia']\n",
      "['iceland', 'britain', 'australia', 'japan']\n",
      "['japan', 'australia', 'britain', 'iceland']\n",
      "['iceland', 'britain', 'australia', 'japan']\n",
      "['australia', 'britain', 'iceland', 'japan']\n",
      "['japan', 'iceland', 'britain', 'australia']\n"
     ]
    }
   ],
   "source": [
    "places = ['iceland', 'britain', 'australia', 'japan']\n",
    "print(places)\n",
    "print(sorted(places))\n",
    "print(places)\n",
    "print(sorted(places, reverse=True))\n",
    "print(places)\n",
    "places.reverse()\n",
    "print(places)\n",
    "places.reverse()\n",
    "print(places)\n",
    "places.sort()\n",
    "print(places)\n",
    "places.sort(reverse=True)\n",
    "print(places)"
   ]
  },
  {
   "cell_type": "markdown",
   "id": "834a114e",
   "metadata": {},
   "source": [
    "#### 3-9 晚餐嘉宾：在完成练习3-4～练习3-7时编写的程序之一中，使用len( )打印一条消息，指出你邀请了多少位嘉宾来与你共进晚餐。"
   ]
  },
  {
   "cell_type": "code",
   "execution_count": 6,
   "id": "92e4190a",
   "metadata": {},
   "outputs": [
    {
     "name": "stdout",
     "output_type": "stream",
     "text": [
      "3 guests are invited to attend this dinner!\n"
     ]
    }
   ],
   "source": [
    "# 引用3-4\n",
    "lists = ['johnson', 'helen', 'liliana']\n",
    "guests_number = len(lists)\n",
    "print(str(guests_number)+\" guests are invited to attend this dinner!\")"
   ]
  },
  {
   "cell_type": "markdown",
   "id": "53b91fff",
   "metadata": {},
   "source": [
    "#### 3-10 尝试使用各个函数：想想可存储到列表中的东西，如山岳、河流、国家、城市、语言或你喜欢的任何东西。编写一个程序，在其中创建一个包含这些元素的列表，然后，对于本章介绍的每个函数，都至少使用一次来处理这个列表。"
   ]
  },
  {
   "cell_type": "code",
   "execution_count": 7,
   "id": "e612b3a6",
   "metadata": {},
   "outputs": [],
   "source": [
    "# 暂时略过"
   ]
  },
  {
   "cell_type": "markdown",
   "id": "662283cb",
   "metadata": {},
   "source": [
    "## 3.4 使用列表时避免索引错误"
   ]
  },
  {
   "cell_type": "markdown",
   "id": "aeb8f63a",
   "metadata": {},
   "source": [
    "刚开始使用列表时，经常会遇到一种错误。假设你有一个包含三个元素的列表，却要求获取第四个元素"
   ]
  },
  {
   "cell_type": "code",
   "execution_count": 8,
   "id": "7379f36c",
   "metadata": {},
   "outputs": [
    {
     "ename": "IndexError",
     "evalue": "list index out of range",
     "output_type": "error",
     "traceback": [
      "\u001b[0;31m---------------------------------------------------------------------------\u001b[0m",
      "\u001b[0;31mIndexError\u001b[0m                                Traceback (most recent call last)",
      "\u001b[0;32m<ipython-input-8-9811709cfb18>\u001b[0m in \u001b[0;36m<module>\u001b[0;34m\u001b[0m\n\u001b[1;32m      1\u001b[0m \u001b[0mmotorcycles\u001b[0m \u001b[0;34m=\u001b[0m \u001b[0;34m[\u001b[0m\u001b[0;34m'honda'\u001b[0m\u001b[0;34m,\u001b[0m \u001b[0;34m'yamaha'\u001b[0m\u001b[0;34m,\u001b[0m \u001b[0;34m'suzuki'\u001b[0m\u001b[0;34m]\u001b[0m\u001b[0;34m\u001b[0m\u001b[0;34m\u001b[0m\u001b[0m\n\u001b[0;32m----> 2\u001b[0;31m \u001b[0mprint\u001b[0m\u001b[0;34m(\u001b[0m\u001b[0mmotorcycles\u001b[0m\u001b[0;34m[\u001b[0m\u001b[0;36m3\u001b[0m\u001b[0;34m]\u001b[0m\u001b[0;34m)\u001b[0m\u001b[0;34m\u001b[0m\u001b[0;34m\u001b[0m\u001b[0m\n\u001b[0m",
      "\u001b[0;31mIndexError\u001b[0m: list index out of range"
     ]
    }
   ],
   "source": [
    "motorcycles = ['honda', 'yamaha', 'suzuki']\n",
    "print(motorcycles[3])"
   ]
  },
  {
   "cell_type": "markdown",
   "id": "ac655a4d",
   "metadata": {},
   "source": [
    "* Python试图向你提供位于索引3处的元素，但它搜索列表motorcycles时，却发现索引3处没有元素。鉴于列表索引差一的特征，这种错误很常见。有些人从1开始数，因此以为第三个元素的索引为3；但在Python中，第三个元素的索引为2，因为索引是从0开始的。  \n",
    "* 索引错误意味着Python无法理解你指定的索引。程序发生索引错误时，请尝试将你指定的索引减1，然后再次运行程序，看看结果是否正确。"
   ]
  },
  {
   "cell_type": "markdown",
   "id": "6187b15e",
   "metadata": {},
   "source": [
    "每当需要访问最后一个列表元素时，都可使用索引-1。这在任何情况下都行之有效，即便你最后一次访问列表后，其长度发生了变化:"
   ]
  },
  {
   "cell_type": "code",
   "execution_count": 9,
   "id": "7de4b96d",
   "metadata": {},
   "outputs": [
    {
     "name": "stdout",
     "output_type": "stream",
     "text": [
      "suzuki\n"
     ]
    }
   ],
   "source": [
    "motorcycles = ['honda', 'yamaha', 'suzuki']\n",
    "print(motorcycles[-1])"
   ]
  },
  {
   "cell_type": "markdown",
   "id": "0d1e55ed",
   "metadata": {},
   "source": [
    "仅当列表为空时，这种访问最后一个元素的方式才会导致错误:"
   ]
  },
  {
   "cell_type": "code",
   "execution_count": 10,
   "id": "2ba4381a",
   "metadata": {},
   "outputs": [
    {
     "ename": "IndexError",
     "evalue": "list index out of range",
     "output_type": "error",
     "traceback": [
      "\u001b[0;31m---------------------------------------------------------------------------\u001b[0m",
      "\u001b[0;31mIndexError\u001b[0m                                Traceback (most recent call last)",
      "\u001b[0;32m<ipython-input-10-08e14d7d6f1a>\u001b[0m in \u001b[0;36m<module>\u001b[0;34m\u001b[0m\n\u001b[1;32m      1\u001b[0m \u001b[0mmotorcycles\u001b[0m \u001b[0;34m=\u001b[0m \u001b[0;34m[\u001b[0m\u001b[0;34m]\u001b[0m\u001b[0;34m\u001b[0m\u001b[0;34m\u001b[0m\u001b[0m\n\u001b[0;32m----> 2\u001b[0;31m \u001b[0mprint\u001b[0m\u001b[0;34m(\u001b[0m\u001b[0mmotorcycles\u001b[0m\u001b[0;34m[\u001b[0m\u001b[0;34m-\u001b[0m\u001b[0;36m1\u001b[0m\u001b[0;34m]\u001b[0m\u001b[0;34m)\u001b[0m\u001b[0;34m\u001b[0m\u001b[0;34m\u001b[0m\u001b[0m\n\u001b[0m",
      "\u001b[0;31mIndexError\u001b[0m: list index out of range"
     ]
    }
   ],
   "source": [
    "motorcycles = []\n",
    "print(motorcycles[-1])"
   ]
  },
  {
   "cell_type": "markdown",
   "id": "e7b687e6",
   "metadata": {},
   "source": [
    "*注意*  \n",
    "发生索引错误却找不到解决办法时，请尝试将列表或其长度打印出来。列表可能与你以为的截然不同，在程序对其进行了动态处理时尤其如此。通过查看列表或其包含的元素数，可帮助你找出这种逻辑错误。"
   ]
  },
  {
   "cell_type": "markdown",
   "id": "cb4bd252",
   "metadata": {},
   "source": [
    "## 3.5 小结"
   ]
  },
  {
   "cell_type": "markdown",
   "id": "6905661c",
   "metadata": {},
   "source": [
    "在本章中，你学习了：列表是什么以及如何使用其中的元素；如何定义列表以及如何增删元素；如何对列表进行永久性排序，以及如何为展示列表而进行临时排序；如何确定列表的长度，以及在使用列表时如何避免索引错误。\n",
    "在第4章，你将学习如何以更高效的方式处理列表元素。通过使用为数不多的几行代码来遍历列表元素，你就能高效地处理它们，即便列表包含数千乃至数百万个元素。"
   ]
  }
 ],
 "metadata": {
  "kernelspec": {
   "display_name": "Python 3",
   "language": "python",
   "name": "python3"
  },
  "language_info": {
   "codemirror_mode": {
    "name": "ipython",
    "version": 3
   },
   "file_extension": ".py",
   "mimetype": "text/x-python",
   "name": "python",
   "nbconvert_exporter": "python",
   "pygments_lexer": "ipython3",
   "version": "3.8.8"
  }
 },
 "nbformat": 4,
 "nbformat_minor": 5
}

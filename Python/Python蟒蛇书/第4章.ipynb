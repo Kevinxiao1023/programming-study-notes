{
 "cells": [
  {
   "cell_type": "markdown",
   "id": "4b79ef5d",
   "metadata": {},
   "source": [
    "# 第四章 操作列表"
   ]
  },
  {
   "cell_type": "markdown",
   "id": "f2e8fa74",
   "metadata": {},
   "source": [
    "在本章中，你将学习如何遍历整个列表，这只需要几行代码，无论列表有多长。循环让你能够对列表的每个元素都采取一个或一系列相同的措施，从而高效地处理任何长度的列表，包括包含数千乃至数百万个元素的列表。"
   ]
  },
  {
   "cell_type": "markdown",
   "id": "9b97ce40",
   "metadata": {},
   "source": [
    "## 4.1 遍历整个列表"
   ]
  },
  {
   "cell_type": "markdown",
   "id": "bded5c9c",
   "metadata": {},
   "source": [
    "需要对列表中的每个元素都执行相同的操作时，可使用Python中的**for循环**。"
   ]
  },
  {
   "cell_type": "markdown",
   "id": "0fcef4f5",
   "metadata": {},
   "source": [
    "假设我们有一个魔术师名单，需要将其中每个魔术师的名字都打印出来。为此，我们可以分别获取名单中的每个名字，但这种做法会导致多个问题。例如，如果名单很长，将包含大量重复的代码。另外，每当名单的长度发生变化时，都必须修改代码。通过使用for循环，可让Python去处理这些问题。"
   ]
  },
  {
   "cell_type": "code",
   "execution_count": 1,
   "id": "47fd9fcb",
   "metadata": {},
   "outputs": [
    {
     "name": "stdout",
     "output_type": "stream",
     "text": [
      "alice\n",
      "david\n",
      "carolina\n"
     ]
    }
   ],
   "source": [
    "magicians = ['alice', 'david', 'carolina']\n",
    "for magician in magicians:\n",
    "    print(magician)"
   ]
  },
  {
   "cell_type": "markdown",
   "id": "b386c160",
   "metadata": {},
   "source": [
    "第二行代码让Python从列表magicians中取出一个名字，并将其存储在变量magician中。最后，我们让Python打印前面存储到变量magician中的名字。"
   ]
  },
  {
   "cell_type": "markdown",
   "id": "aef66fed",
   "metadata": {},
   "source": [
    "### 4.1.1 深入地研究循环"
   ]
  },
  {
   "cell_type": "markdown",
   "id": "95f9d2a7",
   "metadata": {},
   "source": [
    "循环这种概念很重要，因为它是让计算机自动完成重复工作的常见方式之一。"
   ]
  },
  {
   "cell_type": "markdown",
   "id": "1a195fd4",
   "metadata": {},
   "source": [
    "刚开始使用循环时请牢记，对列表中的每个元素，都将执行循环指定的步骤，而不管列表包含多少个元素。如果列表包含一百万个元素，Python就重复执行指定的步骤一百万次，且通常速度非常快。"
   ]
  },
  {
   "cell_type": "markdown",
   "id": "c2586b09",
   "metadata": {},
   "source": [
    "* 编写for循环时，对于用于存储列表中每个值的临时变量，可指定任何名称。使用单数和复数式名称，可帮助你判断代码段处理的是单个列表元素还是整个列表。"
   ]
  },
  {
   "cell_type": "markdown",
   "id": "d5d85be6",
   "metadata": {},
   "source": [
    "### 4.1.2 在for循环中执行更多的操作"
   ]
  },
  {
   "cell_type": "code",
   "execution_count": 3,
   "id": "6013a006",
   "metadata": {},
   "outputs": [
    {
     "name": "stdout",
     "output_type": "stream",
     "text": [
      "Alice, that was a great trick!\n",
      "David, that was a great trick!\n",
      "Carolina, that was a great trick!\n"
     ]
    }
   ],
   "source": [
    "magicians = ['alice', 'david', 'carolina']\n",
    "for magician in magicians:\n",
    "    print(magician.title()+\", that was a great trick!\")"
   ]
  },
  {
   "cell_type": "markdown",
   "id": "d96c00cd",
   "metadata": {},
   "source": [
    "在for循环中，想包含多少行代码都可以。在代码行*for magician in magicians*后面，每个缩进的代码行都是循环的一部分，且将针对列表中的每个值都执行一次。因此，可对列表中的每个值执行任意次数的操作。"
   ]
  },
  {
   "cell_type": "code",
   "execution_count": 4,
   "id": "97e9f435",
   "metadata": {},
   "outputs": [
    {
     "name": "stdout",
     "output_type": "stream",
     "text": [
      "Alice, that was a great trick!\n",
      "I can't wait to see your next trick, Alice.\n",
      "\n",
      "David, that was a great trick!\n",
      "I can't wait to see your next trick, David.\n",
      "\n",
      "Carolina, that was a great trick!\n",
      "I can't wait to see your next trick, Carolina.\n",
      "\n"
     ]
    }
   ],
   "source": [
    "magicians = ['alice', 'david', 'carolina']\n",
    "for magician in magicians:\n",
    "    print(magician.title()+\", that was a great trick!\")\n",
    "    print(\"I can't wait to see your next trick, \"+magician.title()+\".\\n\")"
   ]
  },
  {
   "cell_type": "markdown",
   "id": "1f7cbe9a",
   "metadata": {},
   "source": [
    "### 4.1.3 在for循环结束后执行一些操作"
   ]
  },
  {
   "cell_type": "markdown",
   "id": "25324b4f",
   "metadata": {},
   "source": [
    "* for循环结束后再怎么做呢？通常，你需要提供总结性输出或接着执行程序必须完成的其他任务。  \n",
    "* 在for循环后面，没有缩进的代码都只执行一次，而不会重复执行。"
   ]
  },
  {
   "cell_type": "code",
   "execution_count": 5,
   "id": "055b3c7c",
   "metadata": {},
   "outputs": [
    {
     "name": "stdout",
     "output_type": "stream",
     "text": [
      "Alice, that was a great trick!\n",
      "I can't wait to see your next trick, Alice.\n",
      "\n",
      "David, that was a great trick!\n",
      "I can't wait to see your next trick, David.\n",
      "\n",
      "Carolina, that was a great trick!\n",
      "I can't wait to see your next trick, Carolina.\n",
      "\n",
      "Thank you, everyone. That was a great magic show!\n"
     ]
    }
   ],
   "source": [
    "magicians = ['alice', 'david', 'carolina']\n",
    "for magician in magicians:\n",
    "    print(magician.title()+\", that was a great trick!\")\n",
    "    print(\"I can't wait to see your next trick, \"+magician.title()+\".\\n\")\n",
    "print(\"Thank you, everyone. That was a great magic show!\")"
   ]
  },
  {
   "cell_type": "markdown",
   "id": "6ab410c5",
   "metadata": {},
   "source": [
    "使用for循环处理数据是一种对数据集执行整体操作的不错的方式。例如，你可能使用for循环来初始化游戏——遍历角色列表，将每个角色都显示到屏幕上；再在循环后面添加一个不缩进的代码块，在屏幕上绘制所有角色后显示一个Play Now按钮。"
   ]
  },
  {
   "cell_type": "markdown",
   "id": "e463c1f3",
   "metadata": {},
   "source": [
    "## 4.2 避免缩进错误"
   ]
  },
  {
   "cell_type": "markdown",
   "id": "cf09000e",
   "metadata": {},
   "source": [
    "* Python根据缩进来判断代码行与前一个代码行的关系;   \n",
    "* Python通过使用缩进让代码更易读;"
   ]
  },
  {
   "cell_type": "markdown",
   "id": "e7e5e52e",
   "metadata": {},
   "source": [
    "### 4.2.1 忘记缩进"
   ]
  },
  {
   "cell_type": "code",
   "execution_count": 6,
   "id": "98d56a9b",
   "metadata": {},
   "outputs": [
    {
     "ename": "IndentationError",
     "evalue": "expected an indented block (<ipython-input-6-bc3e0c643e2b>, line 3)",
     "output_type": "error",
     "traceback": [
      "\u001b[0;36m  File \u001b[0;32m\"<ipython-input-6-bc3e0c643e2b>\"\u001b[0;36m, line \u001b[0;32m3\u001b[0m\n\u001b[0;31m    print(magician)\u001b[0m\n\u001b[0m    ^\u001b[0m\n\u001b[0;31mIndentationError\u001b[0m\u001b[0;31m:\u001b[0m expected an indented block\n"
     ]
    }
   ],
   "source": [
    "magicians = ['alice', 'david', 'carolina']\n",
    "for magician in magicians:\n",
    "print(magician)"
   ]
  },
  {
   "cell_type": "markdown",
   "id": "4fc6160a",
   "metadata": {},
   "source": [
    "* print语句应缩进却没有缩进。Python没有找到期望缩进的代码块时，会让你知道哪行代码有问题。   \n",
    "* 通常，将紧跟在for语句后面的代码行缩进，可消除这种缩进错误。"
   ]
  },
  {
   "cell_type": "markdown",
   "id": "f6b95866",
   "metadata": {},
   "source": [
    "### 4.2.2 忘记缩进额外的代码行"
   ]
  },
  {
   "cell_type": "code",
   "execution_count": 7,
   "id": "05443aaa",
   "metadata": {},
   "outputs": [
    {
     "name": "stdout",
     "output_type": "stream",
     "text": [
      "Alice, that was a great trick!\n",
      "David, that was a great trick!\n",
      "Carolina, that was a great trick!\n",
      "I can't wait to see your next trick, Carolina.\n",
      "\n"
     ]
    }
   ],
   "source": [
    "magicians = ['alice', 'david', 'carolina']\n",
    "for magician in magicians:\n",
    "    print(magician.title()+\", that was a great trick!\")\n",
    "print(\"I can't wait to see your next trick, \"+magician.title()+\".\\n\")"
   ]
  },
  {
   "cell_type": "markdown",
   "id": "8682c461",
   "metadata": {},
   "source": [
    "第二条print语句没有缩进，因此它只在循环结束后执行一次。由于变量magician的终值为'carolina'，因此只有她收到了消息“looking forward to the next trick”"
   ]
  },
  {
   "cell_type": "markdown",
   "id": "05cd7149",
   "metadata": {},
   "source": [
    "这是一个**逻辑错误**。从语法上看，这些Python代码是合法的，但由于存在逻辑错误，结果并不符合预期。如果你预期某项操作将针对每个列表元素都执行一次，但它却只执行了一次，请确定是否需要将一行或多行代码缩进。"
   ]
  },
  {
   "cell_type": "markdown",
   "id": "b1ded38e",
   "metadata": {},
   "source": [
    "### 4.2.3 不必要的缩进"
   ]
  },
  {
   "cell_type": "code",
   "execution_count": 8,
   "id": "a1c27553",
   "metadata": {},
   "outputs": [
    {
     "ename": "IndentationError",
     "evalue": "unexpected indent (<ipython-input-8-e744c47c5d20>, line 2)",
     "output_type": "error",
     "traceback": [
      "\u001b[0;36m  File \u001b[0;32m\"<ipython-input-8-e744c47c5d20>\"\u001b[0;36m, line \u001b[0;32m2\u001b[0m\n\u001b[0;31m    print(message)\u001b[0m\n\u001b[0m    ^\u001b[0m\n\u001b[0;31mIndentationError\u001b[0m\u001b[0;31m:\u001b[0m unexpected indent\n"
     ]
    }
   ],
   "source": [
    "message = \"Hello Python world!\"\n",
    "    print(message)"
   ]
  },
  {
   "cell_type": "markdown",
   "id": "18996000",
   "metadata": {},
   "source": [
    "* print语句无需缩进，因为它并不属于前一行代码，因此Python将指出这种错误。   \n",
    "* 为避免意外缩进错误，请只缩进需要缩进的代码。在前面编写的程序中，只有要在for循环中对每个元素执行的代码需要缩进。"
   ]
  },
  {
   "cell_type": "markdown",
   "id": "8d0f188e",
   "metadata": {},
   "source": [
    "### 4.2.4 循环后不必要的缩进"
   ]
  },
  {
   "cell_type": "markdown",
   "id": "98c85e48",
   "metadata": {},
   "source": [
    "如果你不小心缩进了应在循环结束后执行的代码，这些代码将针对每个列表元素重复执行。在有些情况下，这可能导致Python报告语法错误，但在大多数情况下，这只会导致逻辑错误。"
   ]
  },
  {
   "cell_type": "code",
   "execution_count": 9,
   "id": "a0296af2",
   "metadata": {},
   "outputs": [
    {
     "name": "stdout",
     "output_type": "stream",
     "text": [
      "Alice, that was a great trick!\n",
      "I can't wait to see your next trick, Alice.\n",
      "\n",
      "Thank you, everyone. That was a great magic show!\n",
      "David, that was a great trick!\n",
      "I can't wait to see your next trick, David.\n",
      "\n",
      "Thank you, everyone. That was a great magic show!\n",
      "Carolina, that was a great trick!\n",
      "I can't wait to see your next trick, Carolina.\n",
      "\n",
      "Thank you, everyone. That was a great magic show!\n"
     ]
    }
   ],
   "source": [
    "magicians = ['alice', 'david', 'carolina']\n",
    "for magician in magicians:\n",
    "    print(magician.title()+\", that was a great trick!\")\n",
    "    print(\"I can't wait to see your next trick, \"+magician.title()+\".\\n\")\n",
    "    print(\"Thank you, everyone. That was a great magic show!\")"
   ]
  },
  {
   "cell_type": "markdown",
   "id": "df605ca9",
   "metadata": {},
   "source": [
    "这也是一个逻辑错误，与4.2.2节的错误类似。Python不知道你的本意，只要代码符合语法，它就会运行。如果原本只应执行一次的操作执行了多次，请确定你是否不应该缩进执行该操作的代码。"
   ]
  },
  {
   "cell_type": "markdown",
   "id": "6c61457a",
   "metadata": {},
   "source": [
    "### 4.2.5 遗漏了冒号"
   ]
  },
  {
   "cell_type": "markdown",
   "id": "4976f903",
   "metadata": {},
   "source": [
    "**for**语句末尾的冒号告诉Python，下一行是循环的第一行。"
   ]
  },
  {
   "cell_type": "code",
   "execution_count": 10,
   "id": "3f734783",
   "metadata": {},
   "outputs": [
    {
     "ename": "SyntaxError",
     "evalue": "invalid syntax (<ipython-input-10-0b84a6ab73bd>, line 2)",
     "output_type": "error",
     "traceback": [
      "\u001b[0;36m  File \u001b[0;32m\"<ipython-input-10-0b84a6ab73bd>\"\u001b[0;36m, line \u001b[0;32m2\u001b[0m\n\u001b[0;31m    for magician in magicians\u001b[0m\n\u001b[0m                             ^\u001b[0m\n\u001b[0;31mSyntaxError\u001b[0m\u001b[0;31m:\u001b[0m invalid syntax\n"
     ]
    }
   ],
   "source": [
    "magicians = ['alice', 'david', 'carolina']\n",
    "for magician in magicians\n",
    "    print(magician)"
   ]
  },
  {
   "cell_type": "markdown",
   "id": "55bce566",
   "metadata": {},
   "source": [
    "如果你不小心遗漏了冒号，将导致语法错误，因为Python不知道你意欲何为。这种错误虽然易于消除，但并不那么容易发现。"
   ]
  },
  {
   "cell_type": "markdown",
   "id": "3cf100e0",
   "metadata": {},
   "source": [
    "### 动手试一试"
   ]
  },
  {
   "cell_type": "markdown",
   "id": "7d51cdca",
   "metadata": {},
   "source": [
    "#### 4-1 比萨：想出至少三种你喜欢的比萨，将其名称存储在一个列表中，再使用for循环将每种比萨的名称都打印出来。    \n",
    "* 修改这个for循环，使其打印包含比萨名称的句子，而不仅仅是比萨的名称。对于每种比萨，都显示一行输出，如“I like pepperoni pizza”。   \n",
    "* 在程序末尾添加一行代码，它不在for循环中，指出你有多喜欢比萨。输出应包含针对每种比萨的消息，还有一个总结性句子，如“I really love pizza!”。"
   ]
  },
  {
   "cell_type": "code",
   "execution_count": 16,
   "id": "a4aafebc",
   "metadata": {},
   "outputs": [
    {
     "name": "stdout",
     "output_type": "stream",
     "text": [
      "I like durian pizza\n",
      "I like barbecue chicken pizza\n",
      "I like fruit deluxe pizza\n",
      "I really love pizza!\n"
     ]
    }
   ],
   "source": [
    "pizzas = ['Durian Pizza', 'Barbecue Chicken Pizza', 'Fruit Deluxe Pizza']\n",
    "for pizza in pizzas:\n",
    "    print(\"I like \"+pizza.lower())\n",
    "print(\"I really love pizza!\")"
   ]
  },
  {
   "cell_type": "markdown",
   "id": "6a6c2c04",
   "metadata": {},
   "source": [
    "#### 4-2 动物：想出至少三种有共同特征的动物，将这些动物的名称存储在一个列表中，再使用for循环将每种动物的名称都打印出来。    \n",
    "* 修改这个程序，使其针对每种动物都打印一个句子，如“A dog would make a great pet”。   \n",
    "* 在程序末尾添加一行代码，指出这些动物的共同之处，如打印诸如“Any of these animals would make a great pet!”这样的句子。"
   ]
  },
  {
   "cell_type": "code",
   "execution_count": 17,
   "id": "681b6cb7",
   "metadata": {},
   "outputs": [
    {
     "name": "stdout",
     "output_type": "stream",
     "text": [
      "A dog would make a great pet\n",
      "A cat would make a great pet\n",
      "A rabbit would make a great pet\n",
      "Any of these animals would make a great pet!\n"
     ]
    }
   ],
   "source": [
    "pets = ['dog', 'cat', 'rabbit']\n",
    "for pet in pets:\n",
    "    print(\"A \"+pet+\" would make a great pet\")\n",
    "print(\"Any of these animals would make a great pet!\")"
   ]
  },
  {
   "cell_type": "markdown",
   "id": "b1320035",
   "metadata": {},
   "source": [
    "## 4.3 创建数值列表"
   ]
  },
  {
   "cell_type": "markdown",
   "id": "38f87397",
   "metadata": {},
   "source": [
    "* 在数据可视化中，处理的几乎都是由数字（如温度、距离、人口数量、经度和纬度等）组成的集合。  \n",
    "* 列表非常适合用于存储数字集合，而Python提供了很多工具，可帮助你高效地处理数字列表。"
   ]
  },
  {
   "cell_type": "markdown",
   "id": "9af0875d",
   "metadata": {},
   "source": [
    "### 4.3.1 使用函数range( )"
   ]
  },
  {
   "cell_type": "code",
   "execution_count": 18,
   "id": "7f82efab",
   "metadata": {},
   "outputs": [
    {
     "name": "stdout",
     "output_type": "stream",
     "text": [
      "1\n",
      "2\n",
      "3\n",
      "4\n"
     ]
    }
   ],
   "source": [
    "for value in range(1,5):\n",
    "    print(value)"
   ]
  },
  {
   "cell_type": "markdown",
   "id": "c053d9ad",
   "metadata": {},
   "source": [
    "在这个示例中，range( )只是打印数字1～4，这是你在编程语言中经常看到的**差一行为**的结果。函数range( )让Python从你指定的第一个值开始数，并在到达你指定的第二个值后停止，因此输出不包含第二个值（这里为5）。"
   ]
  },
  {
   "cell_type": "code",
   "execution_count": 19,
   "id": "16b84449",
   "metadata": {},
   "outputs": [
    {
     "name": "stdout",
     "output_type": "stream",
     "text": [
      "1\n",
      "2\n",
      "3\n",
      "4\n",
      "5\n"
     ]
    }
   ],
   "source": [
    "for value in range(1,6):\n",
    "    print(value)"
   ]
  },
  {
   "cell_type": "markdown",
   "id": "17aa7ccc",
   "metadata": {},
   "source": [
    "使用range( )时，如果输出不符合预期，请尝试将指定的值加1或减1。"
   ]
  },
  {
   "cell_type": "markdown",
   "id": "9cdd6c66",
   "metadata": {},
   "source": [
    "### 4.3.2 使用range( )创建数字列表"
   ]
  },
  {
   "cell_type": "markdown",
   "id": "32b6e90f",
   "metadata": {},
   "source": [
    "创建数字列表，可使用**函数list( )将range( )的结果直接转换为列表**。如果将range( )作为list( )的参数，输出将为一个数字列表。"
   ]
  },
  {
   "cell_type": "code",
   "execution_count": 20,
   "id": "b892846e",
   "metadata": {},
   "outputs": [
    {
     "name": "stdout",
     "output_type": "stream",
     "text": [
      "[1, 2, 3, 4, 5]\n"
     ]
    }
   ],
   "source": [
    "numbers = list(range(1,6))\n",
    "print(numbers)"
   ]
  },
  {
   "cell_type": "markdown",
   "id": "b2ca3e91",
   "metadata": {},
   "source": [
    "使用函数range( )时，还可指定步长。例如，下面的代码打印1～10内的偶数:"
   ]
  },
  {
   "cell_type": "code",
   "execution_count": 24,
   "id": "ca1dce34",
   "metadata": {},
   "outputs": [
    {
     "name": "stdout",
     "output_type": "stream",
     "text": [
      "[2, 4, 6, 8, 10]\n"
     ]
    }
   ],
   "source": [
    "even_numbers = list(range(2,11,2))\n",
    "#range括号最后那个是”步长“\n",
    "print(even_numbers)"
   ]
  },
  {
   "cell_type": "markdown",
   "id": "43c96cf0",
   "metadata": {},
   "source": [
    "在这个示例中，函数range( )从2开始数，然后不断地加2，直到达到或超过终值（11）"
   ]
  },
  {
   "cell_type": "markdown",
   "id": "c4586fec",
   "metadata": {},
   "source": [
    "使用函数range( )几乎能够创建任何需要的数字集，例如，如何创建一个列表，其中包含前10个整数（即1～10）的平方呢？"
   ]
  },
  {
   "cell_type": "code",
   "execution_count": 23,
   "id": "7368b5d0",
   "metadata": {},
   "outputs": [
    {
     "name": "stdout",
     "output_type": "stream",
     "text": [
      "[1, 4, 9, 16, 25, 36, 49, 64, 81, 100]\n"
     ]
    }
   ],
   "source": [
    "squares = []\n",
    "for value in range(1,11):\n",
    "    square = value**2\n",
    "    squares.append(square)\n",
    "print(squares)"
   ]
  },
  {
   "cell_type": "markdown",
   "id": "2f94e481",
   "metadata": {},
   "source": [
    "首先，我们创建了一个空列表；   \n",
    "接下来，使用函数range( )让Python遍历1～10的值。   \n",
    "在循环中，计算当前值的平方，并将结果存储到变量square中。   \n",
    "然后，将新计算得到的平方值附加到列表squares末尾。   \n",
    "最后，循环结束后，打印列表squares。"
   ]
  },
  {
   "cell_type": "markdown",
   "id": "a6865f30",
   "metadata": {},
   "source": [
    "为让这些代码更简洁，可不使用临时变量square，而直接将每个计算得到的值附加到列表末尾："
   ]
  },
  {
   "cell_type": "code",
   "execution_count": 25,
   "id": "a65772b0",
   "metadata": {},
   "outputs": [
    {
     "name": "stdout",
     "output_type": "stream",
     "text": [
      "[1, 4, 9, 16, 25, 36, 49, 64, 81, 100]\n"
     ]
    }
   ],
   "source": [
    "squares = []\n",
    "for value in range(1,11):\n",
    "    squares.append(value**2)\n",
    "print(squares)"
   ]
  },
  {
   "cell_type": "markdown",
   "id": "df5a42e3",
   "metadata": {},
   "source": [
    "有时候，使用临时变量会让代码更易读；而在其他情况下，这样做只会让代码无谓地变长。你首先应该考虑的是，编写清晰易懂且能完成所需功能的代码；等到审核代码时，再考虑采用更高效的方法。"
   ]
  },
  {
   "cell_type": "markdown",
   "id": "a5848d7c",
   "metadata": {},
   "source": [
    "### 4.3.3 对数字列表执行简单的统计计算"
   ]
  },
  {
   "cell_type": "code",
   "execution_count": 26,
   "id": "f42a4c2d",
   "metadata": {},
   "outputs": [
    {
     "name": "stdout",
     "output_type": "stream",
     "text": [
      "0\n",
      "9\n",
      "45\n"
     ]
    }
   ],
   "source": [
    "digits = [1, 2, 3, 4, 5, 6, 7, 8, 9, 0]\n",
    "print(min(digits))\n",
    "print(max(digits))\n",
    "print(sum(digits))"
   ]
  },
  {
   "cell_type": "markdown",
   "id": "c16dd9b3",
   "metadata": {},
   "source": [
    "### 4.3.4 列表解析"
   ]
  },
  {
   "cell_type": "markdown",
   "id": "1c8122b6",
   "metadata": {},
   "source": [
    "**列表解析**将for循环和创建新元素的代码合并成一行，并自动附加新元素。"
   ]
  },
  {
   "cell_type": "code",
   "execution_count": 27,
   "id": "5cf26f52",
   "metadata": {},
   "outputs": [
    {
     "name": "stdout",
     "output_type": "stream",
     "text": [
      "[1, 4, 9, 16, 25, 36, 49, 64, 81, 100]\n"
     ]
    }
   ],
   "source": [
    "squares = [value**2 for value in range(1,11)]\n",
    "print(squares)"
   ]
  },
  {
   "cell_type": "markdown",
   "id": "16f44816",
   "metadata": {},
   "source": [
    "* 要使用这种语法，首先指定一个描述性的列表名，如squares；然后，指定一个左方括号，并定义一个表达式，用于生成你要存储到列表中的值。   \n",
    "* 在这个示例中，表达式为value**2，它计算平方值。接下来，编写一个for循环，用于给表达式提供值，再加上右方括号。   \n",
    "* 请注意，**这里的for语句末尾没有冒号**。"
   ]
  },
  {
   "cell_type": "markdown",
   "id": "7f65ed57",
   "metadata": {},
   "source": [
    "### 动手试一试"
   ]
  },
  {
   "cell_type": "markdown",
   "id": "bace4d6a",
   "metadata": {},
   "source": [
    "#### 4-3 数到20：使用一个for循环打印数字1～20（含）。"
   ]
  },
  {
   "cell_type": "code",
   "execution_count": 28,
   "id": "7dfd0feb",
   "metadata": {},
   "outputs": [
    {
     "name": "stdout",
     "output_type": "stream",
     "text": [
      "1\n",
      "2\n",
      "3\n",
      "4\n",
      "5\n",
      "6\n",
      "7\n",
      "8\n",
      "9\n",
      "10\n",
      "11\n",
      "12\n",
      "13\n",
      "14\n",
      "15\n",
      "16\n",
      "17\n",
      "18\n",
      "19\n",
      "20\n"
     ]
    }
   ],
   "source": [
    "for value in range(1,21):\n",
    "    print(value)"
   ]
  },
  {
   "cell_type": "markdown",
   "id": "dbd982ef",
   "metadata": {},
   "source": [
    "#### 4-4 一百万：创建一个列表，其中包含数字1～1000000，再使用一个for循环将这些数字打印出来（如果输出的时间太长，按Ctrl+C停止输出，或关闭输出窗口）。"
   ]
  },
  {
   "cell_type": "code",
   "execution_count": 32,
   "id": "7efe0ed8",
   "metadata": {},
   "outputs": [
    {
     "name": "stdout",
     "output_type": "stream",
     "text": [
      "[1, 2, 3, 4, 5, 6, 7, 8, 9, 10, 11, 12, 13, 14, 15, 16, 17, 18, 19, 20, 21, 22, 23, 24, 25, 26, 27, 28, 29, 30]\n"
     ]
    }
   ],
   "source": [
    "#一百万数字太长了没法显示在Jupyter中\n",
    "numbers = [value for value in range(1,31)]\n",
    "print(numbers)"
   ]
  },
  {
   "cell_type": "markdown",
   "id": "49a57159",
   "metadata": {},
   "source": [
    "#### 4-5 计算1～1000000的总和：创建一个列表，其中包含数字1～1000000，再使用min()和max()核实该列表确实是从1开始，到1000000结束的。另外，对这个列表调用函数sum()，看看Python将一百万个数字相加需要多长时间。"
   ]
  },
  {
   "cell_type": "code",
   "execution_count": 33,
   "id": "254e9f52",
   "metadata": {},
   "outputs": [
    {
     "name": "stdout",
     "output_type": "stream",
     "text": [
      "1\n",
      "30\n",
      "465\n"
     ]
    }
   ],
   "source": [
    "#一百万数字太长了没法显示在Jupyter中\n",
    "numbers = [value for value in range(1,31)]\n",
    "print(min(numbers))\n",
    "print(max(numbers))\n",
    "print(sum(numbers))"
   ]
  },
  {
   "cell_type": "markdown",
   "id": "8c556f17",
   "metadata": {},
   "source": [
    "#### 4-6 奇数：通过给函数range( )指定第三个参数来创建一个列表，其中包含1～20的奇数；再使用一个for循环将这些数字都打印出来。"
   ]
  },
  {
   "cell_type": "code",
   "execution_count": 35,
   "id": "bdb39445",
   "metadata": {},
   "outputs": [
    {
     "name": "stdout",
     "output_type": "stream",
     "text": [
      "1\n",
      "3\n",
      "5\n",
      "7\n",
      "9\n",
      "11\n",
      "13\n",
      "15\n",
      "17\n",
      "19\n"
     ]
    }
   ],
   "source": [
    "odd_numbers = list(range(1,20,2))\n",
    "for value in odd_numbers:\n",
    "    print(value)"
   ]
  },
  {
   "cell_type": "markdown",
   "id": "c73a1c7e",
   "metadata": {},
   "source": [
    "#### 4-7 3的倍数：创建一个列表，其中包含3～30内能被3整除的数字；再使用一个for循环将这个列表中的数字都打印出来。"
   ]
  },
  {
   "cell_type": "code",
   "execution_count": 37,
   "id": "2b1ce544",
   "metadata": {},
   "outputs": [
    {
     "name": "stdout",
     "output_type": "stream",
     "text": [
      "3\n",
      "6\n",
      "9\n",
      "12\n",
      "15\n",
      "18\n",
      "21\n",
      "24\n",
      "27\n",
      "30\n"
     ]
    }
   ],
   "source": [
    "multiples = list(range(3,31,3))\n",
    "for value in multiples:\n",
    "    print(value)"
   ]
  },
  {
   "cell_type": "markdown",
   "id": "e0a8c0d7",
   "metadata": {},
   "source": [
    "#### 4-8 立方：将同一个数字乘三次称为立方。例如，在Python中，2的立方用2**3表示。请创建一个列表，其中包含前10个整数（即1～10）的立方，再使用一个for循环将这些立方数都打印出来。"
   ]
  },
  {
   "cell_type": "code",
   "execution_count": 42,
   "id": "9cf73989",
   "metadata": {},
   "outputs": [
    {
     "name": "stdout",
     "output_type": "stream",
     "text": [
      "[1, 8, 27, 64, 125, 216, 343, 512, 729, 1000]\n"
     ]
    }
   ],
   "source": [
    "cube = []\n",
    "for value in range(1,11):\n",
    "    cube.append(value**3)\n",
    "print(cube)"
   ]
  },
  {
   "cell_type": "markdown",
   "id": "67bfe95d",
   "metadata": {},
   "source": [
    "#### 4-9 立方解析：使用列表解析生成一个列表，其中包含前10个整数的立方。"
   ]
  },
  {
   "cell_type": "code",
   "execution_count": 39,
   "id": "24dd59f8",
   "metadata": {},
   "outputs": [
    {
     "name": "stdout",
     "output_type": "stream",
     "text": [
      "[1, 8, 27, 64, 125, 216, 343, 512, 729, 1000]\n"
     ]
    }
   ],
   "source": [
    "cube = [value**3 for value in range(1,11)]\n",
    "print(cube)"
   ]
  },
  {
   "cell_type": "markdown",
   "id": "c661178a",
   "metadata": {},
   "source": [
    "## 4.4 使用列表的一部分"
   ]
  },
  {
   "cell_type": "markdown",
   "id": "c7b5bf6e",
   "metadata": {},
   "source": [
    "你还可以处理列表的部分元素——Python称之为**切片**。"
   ]
  },
  {
   "cell_type": "markdown",
   "id": "5c1a8693",
   "metadata": {},
   "source": [
    "### 4.4.1 切片"
   ]
  },
  {
   "cell_type": "markdown",
   "id": "f618d8bf",
   "metadata": {},
   "source": [
    "* 要创建切片，可指定要使用的第一个元素和最后一个元素的索引。   \n",
    "* **与函数range( )一样**，Python在到达你指定的第二个索引前面的元素后停止。   \n",
    "* 要输出列表中的前三个元素，需要指定索引0～3，这将输出分别为0、1和2的元素。"
   ]
  },
  {
   "cell_type": "code",
   "execution_count": 43,
   "id": "711a4dc5",
   "metadata": {},
   "outputs": [
    {
     "name": "stdout",
     "output_type": "stream",
     "text": [
      "['charles', 'martina', 'michael']\n"
     ]
    }
   ],
   "source": [
    "players = ['charles', 'martina', 'michael', 'florence', 'eli']\n",
    "print(players[0:3])"
   ]
  },
  {
   "cell_type": "markdown",
   "id": "8b834553",
   "metadata": {},
   "source": [
    "最后一行的代码打印该列表的一个切片，其中只包含三名队员。输出也是一个列表，其中包含前三名队员。"
   ]
  },
  {
   "cell_type": "markdown",
   "id": "9ebb01a8",
   "metadata": {},
   "source": [
    "你可以生成列表的任何子集，例如，如果你要提取列表的第2～4个元素，可将起始索引指定为1，并将终止索引指定为4。"
   ]
  },
  {
   "cell_type": "code",
   "execution_count": 44,
   "id": "b1556d41",
   "metadata": {},
   "outputs": [
    {
     "name": "stdout",
     "output_type": "stream",
     "text": [
      "['martina', 'michael', 'florence']\n"
     ]
    }
   ],
   "source": [
    "players = ['charles', 'martina', 'michael', 'florence', 'eli']\n",
    "print(players[1:4])"
   ]
  },
  {
   "cell_type": "markdown",
   "id": "b9efe0cb",
   "metadata": {},
   "source": [
    "如果你没有指定第一个索引，Python将自动从列表开头开始："
   ]
  },
  {
   "cell_type": "code",
   "execution_count": 45,
   "id": "108e4a05",
   "metadata": {},
   "outputs": [
    {
     "name": "stdout",
     "output_type": "stream",
     "text": [
      "['charles', 'martina', 'michael', 'florence']\n"
     ]
    }
   ],
   "source": [
    "players = ['charles', 'martina', 'michael', 'florence', 'eli']\n",
    "print(players[:4])"
   ]
  },
  {
   "cell_type": "markdown",
   "id": "c36e7d34",
   "metadata": {},
   "source": [
    "要让切片终止于列表末尾，也可使用类似的语法。例如，如果要提取从第3个元素到列表末尾的所有元素，可将起始索引指定为2，并省略终止索引："
   ]
  },
  {
   "cell_type": "code",
   "execution_count": 46,
   "id": "e51913ad",
   "metadata": {},
   "outputs": [
    {
     "name": "stdout",
     "output_type": "stream",
     "text": [
      "['michael', 'florence', 'eli']\n"
     ]
    }
   ],
   "source": [
    "players = ['charles', 'martina', 'michael', 'florence', 'eli']\n",
    "print(players[2:])"
   ]
  },
  {
   "cell_type": "markdown",
   "id": "e8fdd63c",
   "metadata": {},
   "source": [
    "本书前面说过，**负数索引返回离列表末尾相应距离的元素**，因此你可以输出列表末尾的任何切片。例如，如果你要输出名单上的最后三名队员，可使用切片players[-3:]："
   ]
  },
  {
   "cell_type": "code",
   "execution_count": 47,
   "id": "67c822d3",
   "metadata": {},
   "outputs": [
    {
     "name": "stdout",
     "output_type": "stream",
     "text": [
      "['michael', 'florence', 'eli']\n"
     ]
    }
   ],
   "source": [
    "players = ['charles', 'martina', 'michael', 'florence', 'eli']\n",
    "print(players[-3:])"
   ]
  },
  {
   "cell_type": "markdown",
   "id": "ed9227c3",
   "metadata": {},
   "source": [
    "### 4.4.2 遍历切片"
   ]
  },
  {
   "cell_type": "markdown",
   "id": "d185ec06",
   "metadata": {},
   "source": [
    "如果要遍历列表的部分元素，可在for循环中使用切片。"
   ]
  },
  {
   "cell_type": "markdown",
   "id": "6bb9cba5",
   "metadata": {},
   "source": [
    "我们遍历前三名队员，并打印他们的名字："
   ]
  },
  {
   "cell_type": "code",
   "execution_count": 48,
   "id": "7839e614",
   "metadata": {},
   "outputs": [
    {
     "name": "stdout",
     "output_type": "stream",
     "text": [
      "Here are the first three players on my team:\n",
      "Charles\n",
      "Martina\n",
      "Michael\n"
     ]
    }
   ],
   "source": [
    "players = ['charles', 'martina', 'michael', 'florence', 'eli']\n",
    "print(\"Here are the first three players on my team:\")\n",
    "for player in players[:3]:\n",
    "    print(player.title())"
   ]
  },
  {
   "cell_type": "markdown",
   "id": "00d839a1",
   "metadata": {},
   "source": [
    "处理数据时，可使用切片来进行批量处理；编写Web应用程序时，可使用切片来分页显示信息，并在每页显示数量合适的信息。"
   ]
  },
  {
   "cell_type": "markdown",
   "id": "9fc3c4d8",
   "metadata": {},
   "source": [
    "### 4.4.3 复制列表"
   ]
  },
  {
   "cell_type": "markdown",
   "id": "4c4eaab3",
   "metadata": {},
   "source": [
    "你经常需要根据既有列表创建全新的列表。下面来介绍复制列表的工作原理，以及复制列表可提供极大帮助的一种情形。"
   ]
  },
  {
   "cell_type": "markdown",
   "id": "4ada2744",
   "metadata": {},
   "source": [
    "要复制列表，可创建一个包含整个列表的切片，方法是同时省略起始索引和终止索引（[:]）。这让Python创建一个始于第一个元素，终止于最后一个元素的切片，即复制整个列表。"
   ]
  },
  {
   "cell_type": "markdown",
   "id": "b2b1813b",
   "metadata": {},
   "source": [
    "例如，假设有一个列表，其中包含你最喜欢的三种食品，而你还想创建另一个列表，在其中包含一位朋友喜欢的所有食品。不过，你喜欢的食品，这位朋友都喜欢，因此你可以通过复制来创建这个列表："
   ]
  },
  {
   "cell_type": "code",
   "execution_count": 50,
   "id": "0b58a98e",
   "metadata": {},
   "outputs": [
    {
     "name": "stdout",
     "output_type": "stream",
     "text": [
      "My favorite foods are:\n",
      "['pizza', 'falafel', 'carrot cake']\n",
      "\n",
      "My friend's favorite foods are:\n",
      "['pizza', 'falafel', 'carrot cake']\n"
     ]
    }
   ],
   "source": [
    "my_foods = ['pizza', 'falafel', 'carrot cake']\n",
    "friend_foods = my_foods[:]\n",
    "print(\"My favorite foods are:\")\n",
    "print(my_foods)\n",
    "print(\"\\nMy friend's favorite foods are:\")\n",
    "print(friend_foods)"
   ]
  },
  {
   "cell_type": "markdown",
   "id": "f0ca6802",
   "metadata": {},
   "source": [
    "首先创建了一个名为my_foods的食品列表，然后创建了一个名为friend_foods的新列表。我们在不指定任何索引的情况下从列表my_foods中提取一个切片，从而创建了这个列表的**副本**，再将该副本存储到变量friend_foods中。打印每个列表后，我们发现它们包含的食品相同。"
   ]
  },
  {
   "cell_type": "markdown",
   "id": "a75b3596",
   "metadata": {},
   "source": [
    "为核实我们确实有两个列表，下面在每个列表中都添加一种食品，并核实每个列表都记录了相应人员喜欢的食品："
   ]
  },
  {
   "cell_type": "code",
   "execution_count": 51,
   "id": "68777ae6",
   "metadata": {},
   "outputs": [
    {
     "name": "stdout",
     "output_type": "stream",
     "text": [
      "My favorite foods are:\n",
      "['pizza', 'falafel', 'carrot cake', 'cannoli']\n",
      "\n",
      "My friend's favorite foods are:\n",
      "['pizza', 'falafel', 'carrot cake', 'ice cream']\n"
     ]
    }
   ],
   "source": [
    "my_foods = ['pizza', 'falafel', 'carrot cake']\n",
    "friend_foods = my_foods[:]\n",
    "my_foods.append('cannoli')\n",
    "friend_foods.append('ice cream')\n",
    "print(\"My favorite foods are:\")\n",
    "print(my_foods)\n",
    "print(\"\\nMy friend's favorite foods are:\")\n",
    "print(friend_foods)"
   ]
  },
  {
   "cell_type": "markdown",
   "id": "0cd5078e",
   "metadata": {},
   "source": [
    "在每个列表中都添加一种食品：在列表my_foods中添加'cannoli'，而在friend_foods中添加'ice cream'。最后，打印这两个列表，核实这两种食品包含在正确的列表中。   \n",
    "* 倘若我们只是简单地将my_foods赋给friend_foods，就不能得到两个列表。例如，下例演示了在不使用切片的情况下复制列表的情况："
   ]
  },
  {
   "cell_type": "code",
   "execution_count": 52,
   "id": "2450f0ec",
   "metadata": {},
   "outputs": [
    {
     "name": "stdout",
     "output_type": "stream",
     "text": [
      "My favorite foods are:\n",
      "['pizza', 'falafel', 'carrot cake', 'cannoli', 'ice cream']\n",
      "\n",
      "My friend's favorite foods are:\n",
      "['pizza', 'falafel', 'carrot cake', 'cannoli', 'ice cream']\n"
     ]
    }
   ],
   "source": [
    "my_foods = ['pizza', 'falafel', 'carrot cake']\n",
    "#这行不通\n",
    "friend_foods = my_foods\n",
    "my_foods.append('cannoli')\n",
    "friend_foods.append('ice cream')\n",
    "print(\"My favorite foods are:\")\n",
    "print(my_foods)\n",
    "print(\"\\nMy friend's favorite foods are:\")\n",
    "print(friend_foods)"
   ]
  },
  {
   "cell_type": "markdown",
   "id": "dcddb82d",
   "metadata": {},
   "source": [
    "输出表明，两个列表是相同的，这并非我们想要的结果。"
   ]
  },
  {
   "cell_type": "markdown",
   "id": "f2ec9bb2",
   "metadata": {},
   "source": [
    "*注意*   \n",
    "基本上，当你试图使用列表的副本时，如果结果出乎意料，请确认你像第一个示例那样使用切片复制了列表。"
   ]
  },
  {
   "cell_type": "markdown",
   "id": "644c769c",
   "metadata": {},
   "source": [
    "### 动手试一试"
   ]
  },
  {
   "cell_type": "markdown",
   "id": "22194ea6",
   "metadata": {},
   "source": [
    "#### 4-10 切片：选择你在本章编写的一个程序，在末尾添加几行代码，以完成如下任务。   \n",
    "* 打印消息“The first three items in the list are:”，再使用切片来打印列表的前三个元素。   \n",
    "* 打印消息“Three items from the middle of the list are:”，再使用切片来打印列表中间的三个元素。   \n",
    "* 打印消息“The last three items in the list are:”，再使用切片来打印列表末尾的三个元素。"
   ]
  },
  {
   "cell_type": "code",
   "execution_count": 55,
   "id": "c95d660e",
   "metadata": {},
   "outputs": [
    {
     "name": "stdout",
     "output_type": "stream",
     "text": [
      "The first three items in the list are:\n",
      "[1, 8, 27]\n",
      "Three items from the middle of the list are:\n",
      "[64, 125, 216]\n",
      "The last three items in the list are:\n",
      "[512, 729, 1000]\n"
     ]
    }
   ],
   "source": [
    "cube = []\n",
    "for value in range(1,11):\n",
    "    cube.append(value**3)\n",
    "print(\"The first three items in the list are:\")\n",
    "print(cube[:3])\n",
    "print(\"Three items from the middle of the list are:\")\n",
    "print(cube[3:6])\n",
    "print(\"The last three items in the list are:\")\n",
    "print(cube[-3:])"
   ]
  },
  {
   "cell_type": "markdown",
   "id": "c40ca771",
   "metadata": {},
   "source": [
    "#### 4-11 你的比萨和我的比萨：在你为完成练习4-1而编写的程序中，创建比萨列表的副本，并将其存储到变量friend_pizzas中，再完成如下任务。   \n",
    "* 在原来的比萨列表中添加一种比萨。   \n",
    "* 在列表friend_pizzas中添加另一种比萨。   \n",
    "* 核实你有两个不同的列表。为此，打印消息“My favorite pizzas are:”，再使用一个for循环来打印第一个列表；打印消息“My friend's favorite pizzas are:”，再使用一个for循环来打印第二个列表。核实新增的比萨被添加到了正确的列表中。"
   ]
  },
  {
   "cell_type": "code",
   "execution_count": 56,
   "id": "e747dcee",
   "metadata": {},
   "outputs": [
    {
     "name": "stdout",
     "output_type": "stream",
     "text": [
      "My favorite pizzas are:\n",
      "Durian Pizza\n",
      "Barbecue Chicken Pizza\n",
      "Fruit Deluxe Pizza\n",
      "Snow Crab & Shrimp Pizza\n",
      "\n",
      "My friend's favorite pizzas are:\n",
      "Durian Pizza\n",
      "Barbecue Chicken Pizza\n",
      "Fruit Deluxe Pizza\n",
      "Tuna Delight Pizza\n"
     ]
    }
   ],
   "source": [
    "pizzas = ['Durian Pizza', 'Barbecue Chicken Pizza', 'Fruit Deluxe Pizza']\n",
    "friend_pizzas = pizzas[:]\n",
    "pizzas.append('Snow Crab & Shrimp Pizza')\n",
    "friend_pizzas.append('Tuna Delight Pizza')\n",
    "print(\"My favorite pizzas are:\")\n",
    "for pizza in pizzas:\n",
    "    print(pizza)\n",
    "print(\"\\nMy friend's favorite pizzas are:\")\n",
    "for pizza in friend_pizzas:\n",
    "    print(pizza)"
   ]
  },
  {
   "cell_type": "markdown",
   "id": "aff05190",
   "metadata": {},
   "source": [
    "#### 4-12 使用多个循环：在本节中，为节省篇幅，程序foods.py的每个版本都没有使用for循环来打印列表。请选择一个版本的foods.py，在其中编写两个for循环，将各个食品列表都打印出来。"
   ]
  },
  {
   "cell_type": "code",
   "execution_count": 57,
   "id": "eda9d95e",
   "metadata": {},
   "outputs": [
    {
     "name": "stdout",
     "output_type": "stream",
     "text": [
      "My favorite foods are:\n",
      "pizza\n",
      "falafel\n",
      "carrot cake\n",
      "cannoli\n",
      "\n",
      "My friend's favorite foods are:\n",
      "pizza\n",
      "falafel\n",
      "carrot cake\n",
      "ice cream\n"
     ]
    }
   ],
   "source": [
    "my_foods = ['pizza', 'falafel', 'carrot cake']\n",
    "friend_foods = my_foods[:]\n",
    "my_foods.append('cannoli')\n",
    "friend_foods.append('ice cream')\n",
    "print(\"My favorite foods are:\")\n",
    "for food in my_foods:\n",
    "    print(food)\n",
    "print(\"\\nMy friend's favorite foods are:\")\n",
    "for food in friend_foods:\n",
    "    print(food)"
   ]
  },
  {
   "cell_type": "markdown",
   "id": "28d7a71f",
   "metadata": {},
   "source": [
    "## 4.5 元组"
   ]
  },
  {
   "cell_type": "markdown",
   "id": "0e2affd8",
   "metadata": {},
   "source": [
    "* 列表非常适合用于存储在程序运行期间可能变化的数据集。**列表是可以修改的**。   \n",
    "* Python将不能修改的值称为不可变的，而**不可变的列表被称为元组**。"
   ]
  },
  {
   "cell_type": "markdown",
   "id": "882b1919",
   "metadata": {},
   "source": [
    "### 4.5.1 定义元组"
   ]
  },
  {
   "cell_type": "markdown",
   "id": "270cb365",
   "metadata": {},
   "source": [
    "元组看起来犹如列表，但**使用圆括号**而不是方括号来标识。定义元组后，就可以使用索引来访问其元素，就像访问列表元素一样。"
   ]
  },
  {
   "cell_type": "markdown",
   "id": "032f59c3",
   "metadata": {},
   "source": [
    "例如，如果有一个大小不应改变的矩形，可将其长度和宽度存储在一个元组中，从而确保它们是不能修改的："
   ]
  },
  {
   "cell_type": "code",
   "execution_count": 58,
   "id": "738a7ded",
   "metadata": {},
   "outputs": [
    {
     "name": "stdout",
     "output_type": "stream",
     "text": [
      "200\n",
      "50\n"
     ]
    }
   ],
   "source": [
    "dimensions = (200, 50)\n",
    "print(dimensions[0])\n",
    "print(dimensions[1])"
   ]
  },
  {
   "cell_type": "markdown",
   "id": "61b03a75",
   "metadata": {},
   "source": [
    "下面来尝试修改元组dimensions中的一个元素，看看结果如何："
   ]
  },
  {
   "cell_type": "code",
   "execution_count": 59,
   "id": "e0cf2c80",
   "metadata": {},
   "outputs": [
    {
     "ename": "TypeError",
     "evalue": "'tuple' object does not support item assignment",
     "output_type": "error",
     "traceback": [
      "\u001b[0;31m---------------------------------------------------------------------------\u001b[0m",
      "\u001b[0;31mTypeError\u001b[0m                                 Traceback (most recent call last)",
      "\u001b[0;32m<ipython-input-59-258c8b06eee2>\u001b[0m in \u001b[0;36m<module>\u001b[0;34m\u001b[0m\n\u001b[1;32m      1\u001b[0m \u001b[0mdimensions\u001b[0m \u001b[0;34m=\u001b[0m \u001b[0;34m(\u001b[0m\u001b[0;36m200\u001b[0m\u001b[0;34m,\u001b[0m \u001b[0;36m50\u001b[0m\u001b[0;34m)\u001b[0m\u001b[0;34m\u001b[0m\u001b[0;34m\u001b[0m\u001b[0m\n\u001b[0;32m----> 2\u001b[0;31m \u001b[0mdimensions\u001b[0m\u001b[0;34m[\u001b[0m\u001b[0;36m0\u001b[0m\u001b[0;34m]\u001b[0m \u001b[0;34m=\u001b[0m \u001b[0;36m250\u001b[0m\u001b[0;34m\u001b[0m\u001b[0;34m\u001b[0m\u001b[0m\n\u001b[0m",
      "\u001b[0;31mTypeError\u001b[0m: 'tuple' object does not support item assignment"
     ]
    }
   ],
   "source": [
    "dimensions = (200, 50)\n",
    "dimensions[0] = 250"
   ]
  },
  {
   "cell_type": "markdown",
   "id": "3459083f",
   "metadata": {},
   "source": [
    "第二行代码试图修改第一个元素的值，导致Python返回类型错误消息。由于试图修改元组的操作是被禁止的，因此Python指出不能给元组的元素赋值。"
   ]
  },
  {
   "cell_type": "markdown",
   "id": "2718d190",
   "metadata": {},
   "source": [
    "### 4.5.2 遍历元组中的所有值"
   ]
  },
  {
   "cell_type": "markdown",
   "id": "2a41cb06",
   "metadata": {},
   "source": [
    "像列表一样，也可以使用for循环来遍历元组中的所有值："
   ]
  },
  {
   "cell_type": "code",
   "execution_count": 60,
   "id": "d711d899",
   "metadata": {},
   "outputs": [
    {
     "name": "stdout",
     "output_type": "stream",
     "text": [
      "200\n",
      "50\n"
     ]
    }
   ],
   "source": [
    "dimensions = (200, 50)\n",
    "for dimension in dimensions:\n",
    "    print(dimension)"
   ]
  },
  {
   "cell_type": "markdown",
   "id": "0001668f",
   "metadata": {},
   "source": [
    "### 4.5.3 修改元组变量"
   ]
  },
  {
   "cell_type": "markdown",
   "id": "d6fad086",
   "metadata": {},
   "source": [
    "虽然不能修改元组的元素，但可以给**存储元组的变量赋值**。因此，如果要修改前述矩形的尺寸，可重新定义整个元组："
   ]
  },
  {
   "cell_type": "code",
   "execution_count": 61,
   "id": "8464c25a",
   "metadata": {},
   "outputs": [
    {
     "name": "stdout",
     "output_type": "stream",
     "text": [
      "Original dimensions:\n",
      "200\n",
      "50\n",
      "\n",
      "Modified dimensions:\n",
      "400\n",
      "100\n"
     ]
    }
   ],
   "source": [
    "dimensions = (200, 50)\n",
    "print(\"Original dimensions:\")\n",
    "for dimension in dimensions:\n",
    "    print(dimension)\n",
    "dimensions = (400, 100)\n",
    "print(\"\\nModified dimensions:\")\n",
    "for dimension in dimensions:\n",
    "    print(dimension)"
   ]
  },
  {
   "cell_type": "markdown",
   "id": "3f3cdad1",
   "metadata": {},
   "source": [
    "* 首先定义了一个元组，并将其存储的尺寸打印了出来；   \n",
    "* 接下来，将一个新元组存储到变量dimensions中；   \n",
    "* 然后，打印新的尺寸。   \n",
    "这次，Python不会报告任何错误，因为给元组变量赋值是合法的。"
   ]
  },
  {
   "cell_type": "markdown",
   "id": "cdb7aa4a",
   "metadata": {},
   "source": [
    "相比于列表，元组是更简单的数据结构。如果需要存储的一组值在程序的整个生命周期内都不变，可使用元组。"
   ]
  },
  {
   "cell_type": "markdown",
   "id": "5f3813ac",
   "metadata": {},
   "source": [
    "### 动手试一试"
   ]
  },
  {
   "cell_type": "markdown",
   "id": "554a1ad9",
   "metadata": {},
   "source": [
    "#### 4 -13 自助餐：有一家自助式餐馆，只提供五种简单的食品。请想出五种简单的食品，并将其存储在一个元组中。   \n",
    "* 使用一个for循环将该餐馆提供的五种食品都打印出来。   \n",
    "* 尝试修改其中的一个元素，核实Python确实会拒绝你这样做。   \n",
    "* 餐馆调整了菜单，替换了它提供的其中两种食品。请编写一个这样的代码块：给元组变量赋值，并使用一个for循环将新元组的每个元素都打印出来。"
   ]
  },
  {
   "cell_type": "code",
   "execution_count": 2,
   "id": "4337939c",
   "metadata": {},
   "outputs": [
    {
     "name": "stdout",
     "output_type": "stream",
     "text": [
      "Original foods provided are:\n",
      "noodles\n",
      "dumplings\n",
      "tofu\n",
      "hotdogs\n",
      "\n",
      "Modifide foods provided are:\n",
      "rice\n",
      "cakes\n",
      "tofu\n",
      "hotdogs\n"
     ]
    }
   ],
   "source": [
    "foods = ('noodles', 'dumplings', 'tofu', 'hotdogs')\n",
    "print(\"Original foods provided are:\")\n",
    "for food in foods:\n",
    "    print(food)\n",
    "# foods[0] = 'rice'\n",
    "foods = ('rice', 'cakes', 'tofu', 'hotdogs')\n",
    "print(\"\\nModifide foods provided are:\")\n",
    "for food in foods:\n",
    "    print(food)"
   ]
  },
  {
   "cell_type": "markdown",
   "id": "3fb911c9",
   "metadata": {},
   "source": [
    "## 4.6 设置代码格式"
   ]
  },
  {
   "cell_type": "markdown",
   "id": "877ed2f0",
   "metadata": {},
   "source": [
    "请花时间让你的代码尽可能易于阅读；让代码易于阅读有助于你掌握程序是做什么的，也可以帮助他人理解你编写的代码。"
   ]
  },
  {
   "cell_type": "markdown",
   "id": "0abc1c65",
   "metadata": {},
   "source": [
    "### 4.6.1 格式设置指南"
   ]
  },
  {
   "cell_type": "markdown",
   "id": "8c5de9e4",
   "metadata": {},
   "source": [
    "若要提出Python语言修改建议，需要编写Python改进提案（Python Enhancement Proposal，PEP）。PEP 8是最古老的PEP之一，它向Python程序员提供了代码格式设置指南。PEP 8的篇幅很长，但大都与复杂的编码结构相关。"
   ]
  },
  {
   "cell_type": "markdown",
   "id": "47866066",
   "metadata": {},
   "source": [
    "代码被阅读的次数比编写的次数多。代码编写出来后，调试时你需要阅读它；给程序添加新功能时，需要花很长的时间阅读代码；与其他程序员分享代码时，这些程序员也将阅读它们。"
   ]
  },
  {
   "cell_type": "markdown",
   "id": "4fc7278d",
   "metadata": {},
   "source": [
    "### 4.6.2 缩进"
   ]
  },
  {
   "cell_type": "markdown",
   "id": "8c8f5867",
   "metadata": {},
   "source": [
    "PEP 8建议**每级缩进都使用四个空格**，这既可提高可读性，又留下了足够的多级缩进空间。"
   ]
  },
  {
   "cell_type": "markdown",
   "id": "5e30dd93",
   "metadata": {},
   "source": [
    "* 混合使用制表符*(Tab)*和空格会让Python解释器感到迷惑。   \n",
    "* 每款文本编辑器都提供了一种设置，可将输入的制表符转换为指定数量的空格。   \n",
    "* 在编写代码时应该使用制表符键，但一定要对编辑器进行设置，使其在文档中插入空格而不是制表符。"
   ]
  },
  {
   "cell_type": "markdown",
   "id": "edf345db",
   "metadata": {},
   "source": [
    "*注意*   \n",
    "在程序中混合使用制表符和空格可能导致极难解决的问题。如果你混合使用了制表符和空格，可将文件中所有的制表符转换为空格，大多数编辑器都提供了这样的功能。"
   ]
  },
  {
   "cell_type": "markdown",
   "id": "f93ff711",
   "metadata": {},
   "source": [
    "### 4.6.3 行长"
   ]
  },
  {
   "cell_type": "markdown",
   "id": "c7e4c68c",
   "metadata": {},
   "source": [
    "#### 建议每行不超过80字符：   \n",
    "* 最初终端窗口每行只能容纳79字符   \n",
    "* 使用标准行长可以在屏幕上并排打开两三个文件时能同时看到各个文件的完整行  \n",
    "   \n",
    "#### 建议注释的行长都不超过72字符：   \n",
    "* 有些工具为大型项目自动生成文档时，会在每行注释开头添加格式化字符   \n",
    "\n",
    "#### 大多数编辑器中，都可设置一个视觉标志——通常是一条竖线，让你知道不能越过的界线在什么地方！"
   ]
  },
  {
   "cell_type": "markdown",
   "id": "da84155a",
   "metadata": {},
   "source": [
    "### 4.6.4 空行"
   ]
  },
  {
   "cell_type": "markdown",
   "id": "6c76b8a7",
   "metadata": {},
   "source": [
    "#### 将程序的不同部分分开，可使用空行。但不能滥用。   \n",
    "* 例如，如果你有5行创建列表的代码，还有3行处理该列表的代码，那么用一个空行将这两部分隔开是合适的。然而，你不应使用三四个空行将它们隔开。   \n",
    "* 空行不会影响代码的运行，但会影响代码的可读性。Python解释器根据水平缩进情况来解读代码，但不关心垂直间距。"
   ]
  },
  {
   "cell_type": "markdown",
   "id": "c43b210c",
   "metadata": {},
   "source": [
    "https://python.org/dev/peps/pep-0008/"
   ]
  },
  {
   "cell_type": "markdown",
   "id": "24db4650",
   "metadata": {},
   "source": [
    "## 4.7 小结"
   ]
  },
  {
   "cell_type": "markdown",
   "id": "b3279137",
   "metadata": {},
   "source": [
    "学习了：   \n",
    "* 如何高效地处理列表中的元素；   \n",
    "* 如何使用for循环遍历列表，Python如何根据缩进来确定程序的结构以及如何避免一些常见的缩进错误   \n",
    "* 如何创建简单的数字列表，以及可对数字列表执行的一些操作   \n",
    "* 如何通过切片来使用列表的一部分和复制列表   \n",
    "* 元组（它对不应变化的值提供了一定程度的保护）   \n",
    "* 在代码变得越来越复杂时如何设置格式，使其易于阅读"
   ]
  },
  {
   "cell_type": "code",
   "execution_count": 7,
   "id": "eb326d97",
   "metadata": {},
   "outputs": [
    {
     "name": "stdout",
     "output_type": "stream",
     "text": [
      "3\n",
      "This is a  long sentence \n"
     ]
    }
   ],
   "source": [
    "# 使用反斜杠\\\n",
    "# 表达式续行\n",
    "a = 1 + \\\n",
    "2\n",
    "print(a)\n",
    "\n",
    "\n",
    "# 输出续行\n",
    "print(\"This is \\\n",
    "a  long sentence \")"
   ]
  },
  {
   "cell_type": "code",
   "execution_count": 6,
   "id": "866cf60e",
   "metadata": {},
   "outputs": [
    {
     "name": "stdout",
     "output_type": "stream",
     "text": [
      "6\n"
     ]
    }
   ],
   "source": [
    "# 括号包裹住分开在多行的表达式，实现续行\n",
    "a = (\n",
    "1+\n",
    "2+\n",
    "3\n",
    ")\n",
    "print(a)"
   ]
  },
  {
   "cell_type": "code",
   "execution_count": 8,
   "id": "86c592ac",
   "metadata": {},
   "outputs": [
    {
     "name": "stdout",
     "output_type": "stream",
     "text": [
      "\n",
      "  ______            _ \n",
      " / _____)          | |\n",
      "| /      ___   ___ | |\n",
      "| |     / _ \\ / _ \\| |\n",
      "| \\____| |_| | |_| | |\n",
      " \\______)___/ \\___/|_|\n",
      "                      \n",
      "\n"
     ]
    }
   ],
   "source": [
    "# 输出很长的字符串需要换行时，可以利用块注释的方式来进行\n",
    "print(\"\"\"\n",
    "  ______            _ \n",
    " / _____)          | |\n",
    "| /      ___   ___ | |\n",
    "| |     / _ \\ / _ \\| |\n",
    "| \\____| |_| | |_| | |\n",
    " \\______)___/ \\___/|_|\n",
    "                      \n",
    "\"\"\")\n"
   ]
  }
 ],
 "metadata": {
  "kernelspec": {
   "display_name": "Python 3",
   "language": "python",
   "name": "python3"
  },
  "language_info": {
   "codemirror_mode": {
    "name": "ipython",
    "version": 3
   },
   "file_extension": ".py",
   "mimetype": "text/x-python",
   "name": "python",
   "nbconvert_exporter": "python",
   "pygments_lexer": "ipython3",
   "version": "3.8.8"
  }
 },
 "nbformat": 4,
 "nbformat_minor": 5
}

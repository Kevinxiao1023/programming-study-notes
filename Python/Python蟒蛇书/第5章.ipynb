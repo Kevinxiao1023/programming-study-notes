{
 "cells": [
  {
   "cell_type": "markdown",
   "id": "ab1b119b",
   "metadata": {},
   "source": [
    "# 第5章 if语句"
   ]
  },
  {
   "cell_type": "markdown",
   "id": "d52faad3",
   "metadata": {},
   "source": [
    "Python中，if语句让你能够检查程序的当前状态，并据此采取相应的措施。"
   ]
  },
  {
   "cell_type": "markdown",
   "id": "4e8ceaab",
   "metadata": {},
   "source": [
    "* 本章将学习条件测试，以检查感兴趣的任何条件。   \n",
    "* 学习简单的if语句，以及创建一系列复杂的if语句来确定当前到底处于什么情形。   \n",
    "* 把学到的知识应用于列表，以编写for循环，**以一种方式处理列表中的大多数元素，并以另一种不同的方式处理包含特定值的元素**。"
   ]
  },
  {
   "cell_type": "markdown",
   "id": "e4f583f2",
   "metadata": {},
   "source": [
    "## 5.1 一个简单示例"
   ]
  },
  {
   "cell_type": "code",
   "execution_count": 1,
   "id": "ec07be80",
   "metadata": {},
   "outputs": [
    {
     "name": "stdout",
     "output_type": "stream",
     "text": [
      "Audi\n",
      "BMW\n",
      "Subaru\n",
      "Toyota\n"
     ]
    }
   ],
   "source": [
    "cars = ['audi', 'bmw', 'subaru', 'toyota']\n",
    "for car in cars:\n",
    "    if car == 'bmw':\n",
    "        print(car.upper())\n",
    "    else:\n",
    "        print(car.title())"
   ]
  },
  {
   "cell_type": "markdown",
   "id": "d344b6c0",
   "metadata": {},
   "source": [
    "这个示例中的循环首先检查当前的汽车名是否是'bmw'。如果是，就以全大写的方式打印它；否则就以首字母大写的方式打印"
   ]
  },
  {
   "cell_type": "markdown",
   "id": "725495c3",
   "metadata": {},
   "source": [
    "## 5.2 条件测试"
   ]
  },
  {
   "cell_type": "markdown",
   "id": "f362f60d",
   "metadata": {},
   "source": [
    "* 每条if语句的*核心*都是一个**值为True或False的表达式**，这种表达式被称为<u>条件测试</u>。   \n",
    "* Python根据条件测试的值为True还是False来决定是否执行if语句中的代码。   \n",
    "* 如果条件测试的值为True，Python就执行紧跟在if语句后面的代码；如果为False，Python就忽略这些代码。"
   ]
  },
  {
   "cell_type": "markdown",
   "id": "492f5836",
   "metadata": {},
   "source": [
    "### 5.2.1 检查是否相等"
   ]
  },
  {
   "cell_type": "markdown",
   "id": "b8235749",
   "metadata": {},
   "source": [
    "大多数条件测试都将一个变量的当前值同特定值进行比较。最简单的条件测试检查变量的值是否与特定值相等："
   ]
  },
  {
   "cell_type": "code",
   "execution_count": 2,
   "id": "4ac56c3c",
   "metadata": {},
   "outputs": [
    {
     "data": {
      "text/plain": [
       "True"
      ]
     },
     "execution_count": 2,
     "metadata": {},
     "output_type": "execute_result"
    }
   ],
   "source": [
    "car = 'bmw'\n",
    "car == 'bmw'"
   ]
  },
  {
   "cell_type": "markdown",
   "id": "3d779034",
   "metadata": {},
   "source": [
    "使用两个等号（==）检查car的值是否为'bmw'。这个**相等运算符**在它两边的值相等时返回True，否则返回False。在这个示例中，两边的值相等，因此Python返回True。"
   ]
  },
  {
   "cell_type": "code",
   "execution_count": 3,
   "id": "5dd39445",
   "metadata": {},
   "outputs": [
    {
     "data": {
      "text/plain": [
       "False"
      ]
     },
     "execution_count": 3,
     "metadata": {},
     "output_type": "execute_result"
    }
   ],
   "source": [
    "car = 'audi'\n",
    "car == 'bmw'"
   ]
  },
  {
   "cell_type": "markdown",
   "id": "96f7cec8",
   "metadata": {},
   "source": [
    "1. 一个等号是陈述；可解读为“将变量car的值设置为'audi'”。   \n",
    "2. 两个等号是发问；可解读为“变量car的值是'bmw'吗？”。   \n",
    "大多数编程语言使用等号的方式都与这里演示的相同。"
   ]
  },
  {
   "cell_type": "markdown",
   "id": "cf39fda8",
   "metadata": {},
   "source": [
    "### 5.2.2 检查是否相等时不考虑大小写"
   ]
  },
  {
   "cell_type": "code",
   "execution_count": 4,
   "id": "3bbd9152",
   "metadata": {},
   "outputs": [
    {
     "data": {
      "text/plain": [
       "False"
      ]
     },
     "execution_count": 4,
     "metadata": {},
     "output_type": "execute_result"
    }
   ],
   "source": [
    "car = 'Audi'\n",
    "car == 'audi'"
   ]
  },
  {
   "cell_type": "markdown",
   "id": "d61fdbfb",
   "metadata": {},
   "source": [
    "如果大小写很重要，检查大小写的行为有其优点。但如果大小写无关紧要，而只想检查变量的值，可**将变量的值转换为小写**，再进行比较："
   ]
  },
  {
   "cell_type": "code",
   "execution_count": 5,
   "id": "2c82c4ab",
   "metadata": {},
   "outputs": [
    {
     "data": {
      "text/plain": [
       "True"
      ]
     },
     "execution_count": 5,
     "metadata": {},
     "output_type": "execute_result"
    }
   ],
   "source": [
    "car = 'Audi'\n",
    "car.lower() == 'audi'"
   ]
  },
  {
   "cell_type": "markdown",
   "id": "db9c9802",
   "metadata": {},
   "source": [
    "无论值'Audi'的大小写如何，上述测试都将返回True，因为该测试不区分大小写。**函数lower( )**不会修改存储在变量car中的值，因此进行这样的比较时不会影响原来的变量："
   ]
  },
  {
   "cell_type": "code",
   "execution_count": 8,
   "id": "a1f680ca",
   "metadata": {},
   "outputs": [
    {
     "data": {
      "text/plain": [
       "True"
      ]
     },
     "execution_count": 8,
     "metadata": {},
     "output_type": "execute_result"
    }
   ],
   "source": [
    "car = 'Audi'\n",
    "car.lower() == 'audi'"
   ]
  },
  {
   "cell_type": "code",
   "execution_count": 9,
   "id": "7402bb56",
   "metadata": {},
   "outputs": [
    {
     "data": {
      "text/plain": [
       "'Audi'"
      ]
     },
     "execution_count": 9,
     "metadata": {},
     "output_type": "execute_result"
    }
   ],
   "source": [
    "car = 'Audi'\n",
    "car.lower() == 'audi'\n",
    "car"
   ]
  },
  {
   "cell_type": "markdown",
   "id": "65380ce7",
   "metadata": {},
   "source": [
    "1. 首字母大写的字符串'Audi'存储在变量car中；   \n",
    "2. 我们获取变量car的值并将其转换为小写，再将结果与字符串'audi'进行比较。这两个字符串相同，因此Python返回True。   \n",
    "3. 根据最后的输出可知，这个**条件测试**并没有影响存储在变量car中的值。"
   ]
  },
  {
   "cell_type": "markdown",
   "id": "82767c63",
   "metadata": {},
   "source": [
    "网站采用类似的方式让用户输入的数据符合特定的格式。例如，网站可能使用类似的测试来**确保用户名是独一无二的**，而并非只是与另一个用户名的大小写不同。用户提交新的用户名时，将把它转换为小写，并与所有既有用户名的小写版本进行比较。执行这种检查时，如果已经有用户名'john'（不管大小写如何），则用户提交用户名'John'时将遭到拒绝。"
   ]
  },
  {
   "cell_type": "markdown",
   "id": "9ea03080",
   "metadata": {},
   "source": [
    "### 5.2.3 检查是否不相等"
   ]
  },
  {
   "cell_type": "markdown",
   "id": "6e82e2a3",
   "metadata": {},
   "source": [
    "要判断两个值是否不等，可结合使用惊叹号和等号（!=），其中的惊叹号表示不，在很多编程语言中都如此。"
   ]
  },
  {
   "cell_type": "code",
   "execution_count": 10,
   "id": "2e74b527",
   "metadata": {},
   "outputs": [
    {
     "name": "stdout",
     "output_type": "stream",
     "text": [
      "Hold the anchovies!\n"
     ]
    }
   ],
   "source": [
    "requested_topping = 'mushrooms'\n",
    "if requested_topping != 'anchovies':\n",
    "    print(\"Hold the anchovies!\")"
   ]
  },
  {
   "cell_type": "markdown",
   "id": "0f1b5397",
   "metadata": {},
   "source": [
    "第一行的代码行将requested_topping的值与'anchovies'进行比较，   \n",
    "1. 如果它们不相等，Python将返回True，进而执行紧跟在if语句后面的代码；   \n",
    "2. 如果这两个值相等，Python将返回False，因此不执行紧跟在if语句后面的代码。"
   ]
  },
  {
   "cell_type": "markdown",
   "id": "0ad378f3",
   "metadata": {},
   "source": [
    "你编写的大多数条件表达式都检查两个值是否相等，但**有时候检查两个值是否不等的效率更高**。"
   ]
  },
  {
   "cell_type": "markdown",
   "id": "7b84413d",
   "metadata": {},
   "source": [
    "### 5.2.4 比较数字"
   ]
  },
  {
   "cell_type": "code",
   "execution_count": 11,
   "id": "9b3adf6b",
   "metadata": {},
   "outputs": [
    {
     "data": {
      "text/plain": [
       "True"
      ]
     },
     "execution_count": 11,
     "metadata": {},
     "output_type": "execute_result"
    }
   ],
   "source": [
    "age = 18\n",
    "age == 18"
   ]
  },
  {
   "cell_type": "code",
   "execution_count": 12,
   "id": "1276abec",
   "metadata": {},
   "outputs": [
    {
     "name": "stdout",
     "output_type": "stream",
     "text": [
      "That is not the correct answer. Please try again!\n"
     ]
    }
   ],
   "source": [
    "answer = 17\n",
    "if answer != 42:\n",
    "    print(\"That is not the correct answer. Please try again!\")"
   ]
  },
  {
   "cell_type": "markdown",
   "id": "534fe8f3",
   "metadata": {},
   "source": [
    "answer（17）不是42，if语句处的条件得到满足，因此缩进的代码块得以执行。"
   ]
  },
  {
   "cell_type": "markdown",
   "id": "d87aafcd",
   "metadata": {},
   "source": [
    "条件语句中可包含各种数学比较，如小于、小于等于、大于、大于等于："
   ]
  },
  {
   "cell_type": "code",
   "execution_count": 14,
   "id": "3557e89c",
   "metadata": {},
   "outputs": [
    {
     "data": {
      "text/plain": [
       "True"
      ]
     },
     "execution_count": 14,
     "metadata": {},
     "output_type": "execute_result"
    }
   ],
   "source": [
    "age = 19\n",
    "age < 21\n",
    "# <=\n",
    "# >\n",
    "# >="
   ]
  },
  {
   "cell_type": "markdown",
   "id": "5ee6a2a6",
   "metadata": {},
   "source": [
    "### 5.2.5 检查多个条件"
   ]
  },
  {
   "cell_type": "markdown",
   "id": "d56f2620",
   "metadata": {},
   "source": [
    "你可能想同时检查多个条件，例如，有时候你需要在两个条件都为True时才执行相应的操作，而有时候你只要求一个条件为True时就执行相应的操作。在这些情况下，**关键字and和or**可助你一臂之力。"
   ]
  },
  {
   "cell_type": "markdown",
   "id": "9514474c",
   "metadata": {},
   "source": [
    "### 1．使用and检查多个条件"
   ]
  },
  {
   "cell_type": "markdown",
   "id": "355f4513",
   "metadata": {},
   "source": [
    "要检查是否两个条件都为True，可使用关键字and将两个条件测试合而为一；   \n",
    "- 如果每个测试都通过了，整个表达式就为True；   \n",
    "- 如果至少有一个测试没有通过，整个表达式就为False。"
   ]
  },
  {
   "cell_type": "code",
   "execution_count": 19,
   "id": "6fa6a6b9",
   "metadata": {},
   "outputs": [
    {
     "data": {
      "text/plain": [
       "False"
      ]
     },
     "execution_count": 19,
     "metadata": {},
     "output_type": "execute_result"
    }
   ],
   "source": [
    "age_0 = 22\n",
    "age_1 = 18\n",
    "age_0 >= 21 and age_1 >= 21"
   ]
  },
  {
   "cell_type": "code",
   "execution_count": 18,
   "id": "f8b8d455",
   "metadata": {},
   "outputs": [
    {
     "data": {
      "text/plain": [
       "True"
      ]
     },
     "execution_count": 18,
     "metadata": {},
     "output_type": "execute_result"
    }
   ],
   "source": [
    "age_0 = 22\n",
    "age_1 = 22\n",
    "age_0 >= 21 and age_1 >= 21"
   ]
  },
  {
   "cell_type": "markdown",
   "id": "4f4e0be7",
   "metadata": {},
   "source": [
    "为改善可读性，可**将每个测试都分别放在一对括号内**，但并非必须这样做。如果你使用括号，测试将类似于下面这样："
   ]
  },
  {
   "cell_type": "code",
   "execution_count": 17,
   "id": "74165985",
   "metadata": {},
   "outputs": [
    {
     "data": {
      "text/plain": [
       "True"
      ]
     },
     "execution_count": 17,
     "metadata": {},
     "output_type": "execute_result"
    }
   ],
   "source": [
    "age_0 = 22\n",
    "age_1 = 22\n",
    "(age_0 >= 21) and (age_1 >= 21)"
   ]
  },
  {
   "cell_type": "markdown",
   "id": "a3ebce64",
   "metadata": {},
   "source": [
    "### 2．使用or检查多个条件"
   ]
  },
  {
   "cell_type": "markdown",
   "id": "29f68688",
   "metadata": {},
   "source": [
    "关键字or也能够让你检查多个条件，但只要至少有一个条件满足，就能通过整个测试。仅当两个测试都没有通过时，使用or的表达式才为False。"
   ]
  },
  {
   "cell_type": "code",
   "execution_count": 20,
   "id": "773c9958",
   "metadata": {},
   "outputs": [
    {
     "data": {
      "text/plain": [
       "True"
      ]
     },
     "execution_count": 20,
     "metadata": {},
     "output_type": "execute_result"
    }
   ],
   "source": [
    "age_0 = 22\n",
    "age_1 = 18\n",
    "age_0 >= 21 or age_1 >= 21"
   ]
  },
  {
   "cell_type": "code",
   "execution_count": 21,
   "id": "fcac2d2b",
   "metadata": {},
   "outputs": [
    {
     "data": {
      "text/plain": [
       "False"
      ]
     },
     "execution_count": 21,
     "metadata": {},
     "output_type": "execute_result"
    }
   ],
   "source": [
    "age_0 = 18\n",
    "age_1 = 18\n",
    "age_0 >= 21 or age_1 >= 21"
   ]
  },
  {
   "cell_type": "markdown",
   "id": "f787e076",
   "metadata": {},
   "source": [
    "### 5.2.6 检查特定值是否包含在列表中"
   ]
  },
  {
   "cell_type": "markdown",
   "id": "fa358b77",
   "metadata": {},
   "source": [
    "有时候，执行操作前必须检查列表是否包含特定的值。例如，   \n",
    "1. 结束用户的注册过程前，可能需要检查他提供的用户名是否已包含在用户名列表中。   \n",
    "2. 在地图程序中，可能需要检查用户提交的位置是否包含在已知位置列表中。   \n",
    "\n",
    "要判断特定的值是否已包含在列表中，可使用**关键字in**。"
   ]
  },
  {
   "cell_type": "code",
   "execution_count": 22,
   "id": "e2564cc3",
   "metadata": {},
   "outputs": [
    {
     "data": {
      "text/plain": [
       "True"
      ]
     },
     "execution_count": 22,
     "metadata": {},
     "output_type": "execute_result"
    }
   ],
   "source": [
    "requested_toppings = ['mushrooms', 'onions', 'pineapple']\n",
    "'mushrooms' in requested_toppings"
   ]
  },
  {
   "cell_type": "code",
   "execution_count": 24,
   "id": "47887f35",
   "metadata": {},
   "outputs": [
    {
     "data": {
      "text/plain": [
       "False"
      ]
     },
     "execution_count": 24,
     "metadata": {},
     "output_type": "execute_result"
    }
   ],
   "source": [
    "requested_toppings = ['mushrooms', 'onions', 'pineapple']\n",
    "'pepperoni' in requested_toppings"
   ]
  },
  {
   "cell_type": "markdown",
   "id": "47bd873c",
   "metadata": {},
   "source": [
    "### 5.2.7 检查特定值是否不包含在列表中"
   ]
  },
  {
   "cell_type": "markdown",
   "id": "201ab7b1",
   "metadata": {},
   "source": [
    "确定特定的值未包含在列表中很重要；在这种情况下，可使用**关键字not in**。"
   ]
  },
  {
   "cell_type": "code",
   "execution_count": 25,
   "id": "90df004c",
   "metadata": {},
   "outputs": [
    {
     "name": "stdout",
     "output_type": "stream",
     "text": [
      "Marie, you can post a response if you wish.\n"
     ]
    }
   ],
   "source": [
    "banned_users = ['andrews', 'carolina', 'david']\n",
    "user = 'marie'\n",
    "if user not in banned_users:\n",
    "    print(user.title()+\", you can post a response if you wish.\")"
   ]
  },
  {
   "cell_type": "markdown",
   "id": "e4794362",
   "metadata": {},
   "source": [
    "### 5.2.8 布尔表达式"
   ]
  },
  {
   "cell_type": "markdown",
   "id": "63cc9725",
   "metadata": {},
   "source": [
    "布尔表达式，它不过是条件测试的别名。与条件表达式一样，布尔表达式的结果要么为True，要么为False。"
   ]
  },
  {
   "cell_type": "markdown",
   "id": "d864cade",
   "metadata": {},
   "source": [
    "布尔值通常用于记录条件，如游戏是否正在运行，或用户是否可以编辑网站的特定内容:   \n",
    "game_active = True   \n",
    "can_edit = False"
   ]
  },
  {
   "cell_type": "markdown",
   "id": "9f7b4cdd",
   "metadata": {},
   "source": [
    "### 动手试一试"
   ]
  },
  {
   "cell_type": "markdown",
   "id": "6f67c806",
   "metadata": {},
   "source": [
    "#### 5-1 条件测试：编写一系列条件测试；将每个测试以及你对其结果的预测和实际结果都打印出来。   \n",
    "* 详细研究实际结果，直到你明白了它为何为True或False。   \n",
    "* 创建至少10个测试，且其中结果分别为True和False的测试都至少有5个。"
   ]
  },
  {
   "cell_type": "code",
   "execution_count": 30,
   "id": "ff9a806e",
   "metadata": {},
   "outputs": [
    {
     "name": "stdout",
     "output_type": "stream",
     "text": [
      "\n",
      "Is car == 'audi'? I predict False.\n",
      "False\n"
     ]
    }
   ],
   "source": [
    "car = 'audi'\n",
    "if car == 'subaru':\n",
    "    print(\"Is car == 'subaru'? I predict True.\")\n",
    "    print(car == 'subaru')\n",
    "if car == 'audi':\n",
    "    print(\"\\nIs car == 'audi'? I predict False.\")\n",
    "    print(car == 'subaru')"
   ]
  },
  {
   "cell_type": "markdown",
   "id": "f11c647b",
   "metadata": {},
   "source": [
    "#### 5-2 更多的条件测试：你并非只能创建10个测试。如果你想尝试做更多的比较，可再编写一些测试，并将它们加入到conditional_tests.py中。对于下面列出的各种测试，至少编写一个结果为True和False的测试。   \n",
    "* 检查两个字符串相等和不等。   \n",
    "* 使用函数lower()的测试。   \n",
    "* 检查两个数字相等、不等、大于、小于、大于等于和小于等于。   \n",
    "* 使用关键字and和or的测试。   \n",
    "* 测试特定的值是否包含在列表中。   \n",
    "* 测试特定的值是否未包含在列表中。"
   ]
  },
  {
   "cell_type": "code",
   "execution_count": 34,
   "id": "c26e2d4c",
   "metadata": {},
   "outputs": [
    {
     "name": "stdout",
     "output_type": "stream",
     "text": [
      "False\n"
     ]
    }
   ],
   "source": [
    "str1 = 'gavin'\n",
    "str2 = 'Gavin'\n",
    "# 区分大小写，所以str1与str2不相等\n",
    "if str2.lower() == 'gavin':\n",
    "    print(str1 == str2)"
   ]
  },
  {
   "cell_type": "markdown",
   "id": "116c6253",
   "metadata": {},
   "source": [
    "## 5.3 if语句"
   ]
  },
  {
   "cell_type": "markdown",
   "id": "56ff072e",
   "metadata": {},
   "source": [
    "### 5.3.1 简单的if语句"
   ]
  },
  {
   "cell_type": "markdown",
   "id": "334b0b78",
   "metadata": {},
   "source": [
    "最简单的if语句只有一个测试和一个操作：   \n",
    "if conditional_test:   \n",
    "    do something   "
   ]
  },
  {
   "cell_type": "markdown",
   "id": "14c7b7cf",
   "metadata": {},
   "source": [
    "在第1行中，可包含任何条件测试，而在紧跟在测试后面的缩进代码块中，可执行任何操作。如果条件测试的结果为True，Python就会执行紧跟在if语句后面的代码；否则Python将忽略这些代码。"
   ]
  },
  {
   "cell_type": "code",
   "execution_count": 36,
   "id": "a3161b63",
   "metadata": {},
   "outputs": [
    {
     "name": "stdout",
     "output_type": "stream",
     "text": [
      "You are old enough to vote!\n"
     ]
    }
   ],
   "source": [
    "age = 19\n",
    "if age >= 18:\n",
    "    print(\"You are old enough to vote!\")"
   ]
  },
  {
   "cell_type": "markdown",
   "id": "af6e48e0",
   "metadata": {},
   "source": [
    "Python检查变量age的值是否大于或等于18；答案是肯定的，因此Python执行缩进的print语句。"
   ]
  },
  {
   "cell_type": "markdown",
   "id": "13a2dd4c",
   "metadata": {},
   "source": [
    "在if语句中，**缩进的作用与for循环中相同**。如果测试通过了，将执行if语句后面所有缩进的代码行，否则将忽略它们。"
   ]
  },
  {
   "cell_type": "code",
   "execution_count": 37,
   "id": "8792be4d",
   "metadata": {},
   "outputs": [
    {
     "name": "stdout",
     "output_type": "stream",
     "text": [
      "You are old enough to vote!\n",
      "Have you registered to vote yet?\n"
     ]
    }
   ],
   "source": [
    "age = 19\n",
    "if age >= 18:\n",
    "    print(\"You are old enough to vote!\")\n",
    "    print(\"Have you registered to vote yet?\")"
   ]
  },
  {
   "cell_type": "markdown",
   "id": "ff5d6860",
   "metadata": {},
   "source": [
    "### 5.3.2 if-else语句"
   ]
  },
  {
   "cell_type": "markdown",
   "id": "5fd400b1",
   "metadata": {},
   "source": [
    "经常需要在条件测试通过了时执行一个操作，并在没有通过时执行另一个操作；在这种情况下，可使用Python提供的if-else语句。if-else语句块类似于简单的if语句，但其中的else语句让你能够指定条件测试未通过时要执行的操作。"
   ]
  },
  {
   "cell_type": "code",
   "execution_count": 38,
   "id": "54160e33",
   "metadata": {},
   "outputs": [],
   "source": [
    "age = 17\n",
    "if age >= 18:\n",
    "    print(\"You are old enough to vote!\")\n",
    "    print(\"Have you registered to vote yet?\")"
   ]
  },
  {
   "cell_type": "code",
   "execution_count": null,
   "id": "5cb900fe",
   "metadata": {},
   "outputs": [],
   "source": []
  }
 ],
 "metadata": {
  "kernelspec": {
   "display_name": "Python 3",
   "language": "python",
   "name": "python3"
  },
  "language_info": {
   "codemirror_mode": {
    "name": "ipython",
    "version": 3
   },
   "file_extension": ".py",
   "mimetype": "text/x-python",
   "name": "python",
   "nbconvert_exporter": "python",
   "pygments_lexer": "ipython3",
   "version": "3.8.8"
  }
 },
 "nbformat": 4,
 "nbformat_minor": 5
}

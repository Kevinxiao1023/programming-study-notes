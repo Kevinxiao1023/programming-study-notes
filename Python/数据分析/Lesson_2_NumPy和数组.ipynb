{
 "cells": [
  {
   "cell_type": "markdown",
   "id": "1396c9df",
   "metadata": {},
   "source": [
    "# NumPy是什么？\n",
    "\n",
    "NumPy（Numerical Python的缩写）是一个开源的Python科学计算模块，其中包含了许多实用的数学函数，用来处理数值型数据。"
   ]
  },
  {
   "cell_type": "markdown",
   "id": "ecdc434a",
   "metadata": {},
   "source": [
    "为什么要学习NumPy？\n",
    "\n",
    "1. 很多更高级的扩展模块都依赖于NumPy，比如pandas\n",
    "\n",
    "2. NumPy中有计算平均数、中位数等数学相关的内置函数，可以在代码中省去很多的循环语句，帮助我们更加快速和科学地进行计算\n",
    "\n",
    "3. NumPy提供了一个叫做N维数组的数据结构，它和Python中的列表list类似，但前者的输入输出性能远优于后者"
   ]
  },
  {
   "cell_type": "markdown",
   "id": "d7699abf",
   "metadata": {},
   "source": [
    "NumPy中，最重要和使用最频繁的对象就是N维数组（ndarray）。\n",
    "\n",
    "要想深入了解NumPy，我们就必须先从它的核心 —— N维数组（ndarray）开始学习。\n",
    "\n",
    "接下来，我们将分别学习以下几个方面：\n",
    "1. N维数组的基本概念和常用属性\n",
    "2. 创建一个N维数组\n",
    "3. N维数组的运算"
   ]
  },
  {
   "cell_type": "markdown",
   "id": "c8542a18",
   "metadata": {},
   "source": [
    "# N维数组"
   ]
  },
  {
   "cell_type": "markdown",
   "id": "d0e69d3c",
   "metadata": {},
   "source": [
    "N维数组（ndarray）是一个多维数组，描述了相同类型数据的集合。ndarray是N-dimensional array的缩写，也可以叫做数组。"
   ]
  },
  {
   "cell_type": "markdown",
   "id": "5c69fe07",
   "metadata": {},
   "source": [
    "有很多属性可以描述N维数组，最常用的两个属性分别是数据类型和维度。\n",
    "\n",
    "比如，上一页中，我们用了「整型（int）」和「二维」来描述示例中的数组，依次对应的就是数组的数据类型和维度这两个属性。\n",
    "\n",
    "接下来，我们将依次学习这两个属性，加深对N维数组的了解。"
   ]
  },
  {
   "cell_type": "markdown",
   "id": "9978bbab",
   "metadata": {},
   "source": [
    "## 属性一：数据类型"
   ]
  },
  {
   "cell_type": "markdown",
   "id": "58c478cc",
   "metadata": {},
   "source": [
    "NumPy数组的 数据类型 指的是数组中存储的元素类型，可以是：整型（int）、浮点型（float）、布尔型（bool）等。\n",
    "\n",
    "需要注意的是，NumPy数组中的所有元素类型必须是一致的。"
   ]
  },
  {
   "cell_type": "markdown",
   "id": "7224090c",
   "metadata": {},
   "source": [
    "## 属性二：维度"
   ]
  },
  {
   "cell_type": "markdown",
   "id": "1226a2be",
   "metadata": {},
   "source": [
    "一维空间相当于一根直线。在这样的空间里，只能前进或者后退，所以只有长度的概念。\n",
    "\n",
    "二维空间其实就是一个平面。在这个平面上，除了前进、后退以外，还可以向左或者向右，所以有长度和宽度的概念。\n",
    "\n",
    "三维空间就像是一个立方体。在这个空间里，除了前进、后退、向左和向右移动外，还可以向上或者向下，所以有长度、宽度和高度的概念。"
   ]
  },
  {
   "cell_type": "markdown",
   "id": "88fc4641",
   "metadata": {},
   "source": [
    "NumPy数组的维度和我们平常说的维度非常相似，接触最多的通常是一维（1D）和二维（2D）数组，可以通过中括号[ ]的层数来确定。"
   ]
  },
  {
   "cell_type": "markdown",
   "id": "b8342cab",
   "metadata": {},
   "source": [
    "[...]表示一维数组，和Python中的列表长得很像。\n",
    "\n",
    "在使用print()输出时，它们的区别在于数组之间的元素是用空格分隔，而列表是以逗号分隔。\n",
    "\n",
    "一维数组的所有元素都在同一「行」里，一行中可以有很多元素。"
   ]
  },
  {
   "cell_type": "markdown",
   "id": "ac6ddea4",
   "metadata": {},
   "source": [
    "[[...]]表示二维数组。\n",
    "\n",
    "二维数组中的每个元素都是一个一维数组，并且每一行的元素数量都是一致的。\n",
    "\n",
    "在二维数组中：\n",
    "* 行数代表二维数组中一维数组的数量；\n",
    "* 列数代表一维数组中元素的数量。"
   ]
  },
  {
   "cell_type": "markdown",
   "id": "b1da93c0",
   "metadata": {},
   "source": [
    "以此类推，[[[...]]]表示三维数组，三维数组中的每个元素都是一个二维数组；[[[[...]]]]表示四维数组，四维数组中的每个元素都是一个三维数组...\n",
    "\n",
    "由于三维及三维以上的数组多用于复杂的科学计算中，平常很少能接触到，所以在这里我们就不进行系统地学习啦。"
   ]
  },
  {
   "cell_type": "markdown",
   "id": "c485941a",
   "metadata": {},
   "source": [
    "# 安装和导入NumPy模块"
   ]
  },
  {
   "cell_type": "markdown",
   "id": "4daa8c78",
   "metadata": {},
   "source": [
    "安装numpy非常简单，在终端中输入代码：`pip install numpy`即可。\n",
    "\n",
    "如果在自己电脑上安装不上或安装缓慢，可在命令后添加如下配置进行加速：\n",
    "`pip install numpy -i https://pypi.tuna.tsinghua.edu.cn/simple/`"
   ]
  },
  {
   "cell_type": "markdown",
   "id": "e5494846",
   "metadata": {},
   "source": [
    "安装完后，下一步就是导入numpy。\n",
    "\n",
    "根据NumPy官方文档的倡导，在导入numpy时通常会使用「np」作为numpy的简写，方便以后调用。\n",
    "\n",
    "导入numpy的具体代码如下："
   ]
  },
  {
   "cell_type": "code",
   "execution_count": 1,
   "id": "28b6e149",
   "metadata": {},
   "outputs": [],
   "source": [
    "import numpy as np"
   ]
  },
  {
   "cell_type": "markdown",
   "id": "f0370d07",
   "metadata": {},
   "source": [
    "# 创建N维数组"
   ]
  },
  {
   "cell_type": "markdown",
   "id": "0eec12d9",
   "metadata": {},
   "source": [
    "在导入numpy后，我们就可以开始创建N维数组啦~\n",
    "\n",
    "创建N维数组的方式有很多，最简单的一种方式就是调用NumPy模块中的array()函数。"
   ]
  },
  {
   "cell_type": "markdown",
   "id": "074eb6cc",
   "metadata": {},
   "source": [
    "任意序列型对象，也就是列表、元组、数组等数据结构，都可以作为参数传入。\n",
    "\n",
    "该函数会返回传入的参数所对应的数组。\n",
    "\n",
    "接下来，通过依次分析如何创建一维数组和二维数组，来更好的理解这个函数吧。"
   ]
  },
  {
   "cell_type": "markdown",
   "id": "5ce2525c",
   "metadata": {},
   "source": [
    "## 创建一维数组"
   ]
  },
  {
   "cell_type": "markdown",
   "id": "9c630b82",
   "metadata": {},
   "source": [
    "`np.array()`       \n",
    "\n",
    "这三行代码创建了一个叫做“arr”的一维数组，并输出了该数组。\n",
    "\n",
    "第一行导入了numpy，并使用\"np\"作为该模块的简写。\n",
    "\n",
    "第二行将一个元素全是整型的列表作为参数传入到np.array()中，并将函数返回的结果赋值给了变量arr。\n",
    "\n",
    "第三行输出了该数组，也就是[1 2 3 4 5]。"
   ]
  },
  {
   "cell_type": "code",
   "execution_count": 2,
   "id": "870fbd69",
   "metadata": {},
   "outputs": [
    {
     "name": "stdout",
     "output_type": "stream",
     "text": [
      "[1 2 3 4 5]\n"
     ]
    }
   ],
   "source": [
    "import numpy as np\n",
    "arr =  np.array([1, 2, 3, 4, 5])\n",
    "print(arr)"
   ]
  },
  {
   "cell_type": "markdown",
   "id": "0d03f1b4",
   "metadata": {},
   "source": [
    "np.array()是NumPy中用来创建N维数组的函数。"
   ]
  },
  {
   "cell_type": "markdown",
   "id": "050f90ea",
   "metadata": {},
   "source": [
    "作为参数传入np.array()函数中，该函数将返回一个对应的数组。\n",
    "\n",
    "任意序列型对象，也就是列表、元组、数组等数据结构，都可以作为参数传入。"
   ]
  },
  {
   "cell_type": "markdown",
   "id": "97402110",
   "metadata": {},
   "source": [
    "## 创建二维数组"
   ]
  },
  {
   "cell_type": "markdown",
   "id": "c68fdfe0",
   "metadata": {},
   "source": [
    "掌握了如何创建一维数组后，我们来学习如何创建二维数组。\n",
    "\n",
    "把「序列中套了一个或多个序列」的数据结构作为参数传入np.array()函数里，会返回一个对应的二维数组。\n",
    "\n",
    "图中展示了一个列表里套了三个列表的数据结构以及它所生成的二维数组，该二维数组中一共有3个一维数组，其中一维数组中有3个元素："
   ]
  },
  {
   "cell_type": "code",
   "execution_count": 3,
   "id": "99a64d15",
   "metadata": {},
   "outputs": [
    {
     "name": "stdout",
     "output_type": "stream",
     "text": [
      "[[ 1  2]\n",
      " [ 4  5]\n",
      " [ 7  9]\n",
      " [11 12]]\n"
     ]
    }
   ],
   "source": [
    "# TODO 使用import导入numpy，并使用\"np\"作为该模块的简写\n",
    "import numpy as np\n",
    "# TODO 将题目中的序列作为参数传入np.array()函数中，并将生成的二维数组赋值给变量arr\n",
    "arr = np.array([[1, 2], [4, 5], [7, 9], [11, 12]])\n",
    "# TODO 使用print()输出变量arr\n",
    "print(arr)"
   ]
  },
  {
   "cell_type": "markdown",
   "id": "f626f7fd",
   "metadata": {},
   "source": [
    "# N维数组的计算"
   ]
  },
  {
   "cell_type": "markdown",
   "id": "58e18b16",
   "metadata": {},
   "source": [
    "我们将会从3个方向学习N维数组的计算：\n",
    "\n",
    "1. 数组和数的计算\n",
    "2. 相同形状数组的计算\n",
    "3. 不同形状数组的计算"
   ]
  },
  {
   "cell_type": "markdown",
   "id": "9462aed6",
   "metadata": {},
   "source": [
    "## 1. 数组和数的计算\n",
    "\n",
    "当数组和数字进行计算的时候，NumPy会将该数字的计算过程应用到数组的所有元素上面。\n",
    "\n",
    "示例中，在把数组arr和数字2相加时，arr中的每个元素都和2进行了运算："
   ]
  },
  {
   "cell_type": "code",
   "execution_count": 4,
   "id": "8f70d23e",
   "metadata": {},
   "outputs": [
    {
     "name": "stdout",
     "output_type": "stream",
     "text": [
      "[[1 0 6]\n",
      " [3 1 1]]\n"
     ]
    }
   ],
   "source": [
    "# 使用import导入numpy，并使用\"np\"作为该模块的简写\n",
    "import numpy as np\n",
    "\n",
    "# 使用np.array()函数创建数组arr\n",
    "arr = np.array([[2, 1, 7],\n",
    "                [4, 2, 2]])\n",
    "\n",
    "# TODO 输出如题所示的运算结果：[[1 0 6]  [3 1 1]]\n",
    "print(arr - 1)"
   ]
  },
  {
   "cell_type": "markdown",
   "id": "5d28415c",
   "metadata": {},
   "source": [
    "## 2. 相同形状数组的计算\n",
    "\n",
    "当相同形状的数组进行计算时，运算也是在相应的元素上进行。\n",
    "\n",
    "示例中，arrOne是一个2x3的二维数组，arrTwo也是一个2x3的二维数组。\n",
    "\n",
    "在计算 arrOne-arrTwo 时，arrOne中每个元素都减去了在arrTwo中相对应位置的元素："
   ]
  },
  {
   "cell_type": "code",
   "execution_count": 5,
   "id": "d65d1076",
   "metadata": {},
   "outputs": [
    {
     "name": "stdout",
     "output_type": "stream",
     "text": [
      "[[15  5]\n",
      " [20 10]]\n"
     ]
    }
   ],
   "source": [
    "# 使用import导入numpy，并使用\"np\"作为该模块的简写\n",
    "import numpy as np\n",
    "\n",
    "# 使用np.array()函数创建数组arrOne\n",
    "arrOne = np.array([[5, 0], [0, 5]])\n",
    "# 使用np.array()函数创建数组arrTwo\n",
    "arrTwo = np.array([[10, 5], [20, 5]])\n",
    "\n",
    "# TODO 输出如题所示的运算结果：[[15 5]  [20 10]]\n",
    "print(arrOne + arrTwo)"
   ]
  },
  {
   "cell_type": "markdown",
   "id": "9475c59e",
   "metadata": {},
   "source": [
    "## 3. 不同形状数组的计算\n",
    "\n",
    "当不同形状的数组进行运算时，NumPy可以转换这些形状不同的数组，使它们都具有相同的大小，然后再对它们进行运算。\n",
    "\n",
    "接下来，我们将通过几个不同的案例来感受一下NumPy数组的魅力。"
   ]
  },
  {
   "cell_type": "markdown",
   "id": "5b264b07",
   "metadata": {},
   "source": [
    "示例中，arrOne是一个1x3的数组，arrTwo是一个1x1的数组。\n",
    "\n",
    "arrTwo可以沿着右边扩展来匹配arrOne的形状，然后像之前一样在对应位置上进行运算即可：\n",
    "[0 1 2] + [5] = [5 6 7]"
   ]
  },
  {
   "cell_type": "code",
   "execution_count": 6,
   "id": "cf453a3b",
   "metadata": {},
   "outputs": [
    {
     "name": "stdout",
     "output_type": "stream",
     "text": [
      "[10 15 20]\n"
     ]
    }
   ],
   "source": [
    "# 使用import导入numpy，并使用\"np\"作为该模块的简写\n",
    "import numpy as np\n",
    "\n",
    "# 使用np.array()函数创建数组arrOne\n",
    "arrOne = np.array([2, 3, 4])\n",
    "# 使用np.array()函数创建数组arrTwo\n",
    "arrTwo = np.array([5])\n",
    "\n",
    "# TODO 输出如题所示的运算结果：[10 15 20]\n",
    "print(arrOne * arrTwo)"
   ]
  },
  {
   "cell_type": "markdown",
   "id": "3d327fd9",
   "metadata": {},
   "source": [
    "示例中，arrOne是一个4x1的数组，arrTwo是一个1x1的数组。\n",
    "\n",
    "arrTwo可以沿着下边扩展来匹配arrOne的形状，然后像之前一样在对应位置上进行运算即可：\n",
    "[[0] [1] [2] [3]] + [[4]] = [[4] [5] [6] [7]]"
   ]
  },
  {
   "cell_type": "code",
   "execution_count": 7,
   "id": "1985510c",
   "metadata": {},
   "outputs": [
    {
     "name": "stdout",
     "output_type": "stream",
     "text": [
      "[[ 5]\n",
      " [10]\n",
      " [15]\n",
      " [20]]\n"
     ]
    }
   ],
   "source": [
    "# 使用import导入numpy，并使用\"np\"作为该模块的简写\n",
    "import numpy as np\n",
    "\n",
    "# 使用np.array()函数创建数组arrOne\n",
    "arrOne = np.array([[10], [15], [20], [25]])\n",
    "# 使用np.array()函数创建数组arrTwo\n",
    "arrTwo = np.array([5])\n",
    "\n",
    "# TODO 输出如题所示的运算结果：[[5] [10] [15] [20]]\n",
    "print(arrOne - arrTwo)"
   ]
  },
  {
   "cell_type": "markdown",
   "id": "5b832988",
   "metadata": {},
   "source": [
    "但不是所有情况下都能进行运算。\n",
    "\n",
    "假如要和一个mxn的数组进行运算，那么另一个数组的形状必须是以下几种情况：\n",
    "1. mxn\n",
    "2. 1xn\n",
    "3. mx1\n",
    "4. 1x1"
   ]
  },
  {
   "cell_type": "markdown",
   "id": "ad655e3a",
   "metadata": {},
   "source": [
    "当无法满足以上情况时，程序将会报「ValueError」的错误。示例中，展示了一种不能进行运算的情况："
   ]
  },
  {
   "cell_type": "code",
   "execution_count": 8,
   "id": "887e62ec",
   "metadata": {},
   "outputs": [
    {
     "ename": "ValueError",
     "evalue": "operands could not be broadcast together with shapes (2,3) (2,2) ",
     "output_type": "error",
     "traceback": [
      "\u001b[0;31m---------------------------------------------------------------------------\u001b[0m",
      "\u001b[0;31mValueError\u001b[0m                                Traceback (most recent call last)",
      "\u001b[0;32m<ipython-input-8-d97693a400f6>\u001b[0m in \u001b[0;36m<module>\u001b[0;34m\u001b[0m\n\u001b[1;32m     10\u001b[0m \u001b[0;34m\u001b[0m\u001b[0m\n\u001b[1;32m     11\u001b[0m \u001b[0;31m# 输出 arrOne-arrTwo 的运算结果\u001b[0m\u001b[0;34m\u001b[0m\u001b[0;34m\u001b[0m\u001b[0;34m\u001b[0m\u001b[0m\n\u001b[0;32m---> 12\u001b[0;31m \u001b[0mprint\u001b[0m\u001b[0;34m(\u001b[0m\u001b[0marrOne\u001b[0m\u001b[0;34m-\u001b[0m\u001b[0marrTwo\u001b[0m\u001b[0;34m)\u001b[0m\u001b[0;34m\u001b[0m\u001b[0;34m\u001b[0m\u001b[0m\n\u001b[0m",
      "\u001b[0;31mValueError\u001b[0m: operands could not be broadcast together with shapes (2,3) (2,2) "
     ]
    }
   ],
   "source": [
    "# 使用import导入numpy，并使用\"np\"作为该模块的简写\n",
    "import numpy as np\n",
    "\n",
    "# 使用np.array()函数创建一个2x3的数组arrOne\n",
    "arrOne = np.array([[1, 2, 3],\n",
    "                   [19, 20, 21]])\n",
    "# 使用np.array()函数创建一个2x2的数组arrTwo\n",
    "arrTwo = np.array([[0, 1],\n",
    "                   [3, 1]])\n",
    "                    \n",
    "# 输出 arrOne-arrTwo 的运算结果\n",
    "print(arrOne-arrTwo)"
   ]
  },
  {
   "cell_type": "markdown",
   "id": "6b370512",
   "metadata": {},
   "source": [
    "# 百题斩题目"
   ]
  },
  {
   "cell_type": "markdown",
   "id": "800f3ffc",
   "metadata": {},
   "source": [
    "## 乔老师批量打分\n",
    "乔老师是夜曲中学的语文老师。\n",
    "\n",
    "在学习了《Python办公效率化》后，她利用Python实现了自动化批改试卷，并依次将72名学生试卷中第一题和第二题分数存储到了列表 scoreOne 和 scoreTwo 中。\n",
    "\n",
    "1. 请分别创建这两个列表对应的一维数组，并赋值给变量 scoreOneArr 和 scoreTwoArr。\n",
    "\n",
    "2. 该试卷的满分为80分，请使用合适的数组运算将每位同学的成绩转化为百分制。\n",
    "\n",
    "`比如，某位同学第一大题的分数是16分，第二大题的分数是50分，那么最后他的分数是： (16+50)/80*100=82.5，也就是 (第一大题分数+第二大题分数)/80*100。`\n",
    "\n",
    "将最后的运算结果存储到变量 sumArr 中，并使用print()输出。"
   ]
  },
  {
   "cell_type": "code",
   "execution_count": 9,
   "id": "b6487fc9",
   "metadata": {},
   "outputs": [
    {
     "name": "stdout",
     "output_type": "stream",
     "text": [
      "[82.5  76.25 78.75 76.25 87.5  72.5  55.   82.5  35.   53.75 61.25 72.5\n",
      " 87.5  43.75 70.   87.5  63.75 78.75 87.5  70.   87.5  87.5  78.75 66.25\n",
      " 63.75 73.75 76.25 43.75 65.   63.75 62.5  76.25 70.   72.5  87.5  70.\n",
      " 87.5  78.75 85.   66.25 67.5  82.5  87.5  87.5  72.5  38.75 87.5  53.75\n",
      " 87.5  46.25 87.5  58.75 62.5  55.   73.75 85.   60.   65.   78.75 70.\n",
      " 87.5  87.5  60.   87.5  81.25 70.   78.75 78.75 73.75 58.75 76.25 70.  ]\n"
     ]
    }
   ],
   "source": [
    "# TODO 使用import导入numpy，并使用\"np\"作为该模块的简写\n",
    "import numpy as np\n",
    "\n",
    "# 第一大题学生分数\n",
    "scoreOne = [16, 16, 18, 16, 20, 18, 14, 16, 8, 18, 14, 18, 20, 10, 16, 20, 16, 18, 20, 16, 20, 20, 18, 18, 16, 14, 16, 10, 12, 16, 10, 16, 16, 18, 20, 16, 20, 18, 18, 18, 14, 16, 20, 20, 18, 6, 20, 18, 20, 12, 20, 12, 20, 14, 14, 18, 18, 12, 18, 16, 20, 20, 18, 20, 20, 16, 18, 18, 14, 12, 16, 16]\n",
    "# 第二大题学生分数\n",
    "scoreTwo = [50, 45, 45, 45, 50, 40, 30, 50, 20, 25, 35, 40, 50, 25, 40, 50, 35, 45, 50, 40, 50, 50, 45, 35, 35, 45, 45, 25, 40, 35, 40, 45, 40, 40, 50, 40, 50, 45, 50, 35, 40, 50, 50, 50, 40, 25, 50, 25, 50, 25, 50, 35, 30, 30, 45, 50, 30, 40, 45, 40, 50, 50, 30, 50, 45, 40, 45, 45, 45, 35, 45, 40]\n",
    "\n",
    "# TODO 使用np.array()函数创建scoreOne对应的一维数组，并赋值给变量scoreOneArr\n",
    "scoreOneArr = np.array(scoreOne)\n",
    "# TODO 使用np.array()函数创建scoreTwo对应的一维数组，并赋值给变量scoreTwoArr\n",
    "scoreTwoArr = np.array(scoreTwo)\n",
    "\n",
    "# TODO 按照题目要求，使用合适的数组运算计算出每位同学的分数\n",
    "# 将运算结果赋值给变量sumArr\n",
    "sumArr = (scoreOneArr + scoreTwoArr) / 80 * 100\n",
    "# TODO 使用print()输出变量sumArr\n",
    "print(sumArr)"
   ]
  },
  {
   "cell_type": "markdown",
   "id": "3dd653d2",
   "metadata": {},
   "source": [
    "## 客户分析\n",
    "涛涛是一名高风险高收益的理财产品销售专员。\n",
    "现在，他需要对一组客户数据进行分析，计算出21岁-25岁（包含21岁和25岁）年龄段客户的平均年龄、平均年收入、年龄中位数、年收入中位数以及预期投入额。\n",
    "\n",
    "请利用今日所学内容，根据图中的数据依次创建年龄和年收入对应的数组，并计算出 21岁-25岁（包含21岁和25岁）年龄段客户的 平均年龄 、 平均年收入 、 年龄中位数、 年收入中位数 以及 预期投入额，并在最后使用print()格式化输出客户信息。\n",
    "\n",
    "预期投入额公式为：\n",
    "预期投入额 =（年龄中位数+年收入中位数）* 购买力。其中，购买力=0.12。\n",
    "\n",
    "输出示例为：\n",
    "目标客户为21岁-25岁年龄段客户，平均年龄为xx岁，平均年收入为xxK，年龄中位数为xx岁，年收入中位数为xxK，预期投入额为xxK\n",
    "\n",
    "本题中需要用到 计算数组的平均数和中位数 这两个知识点，请先点击提示进行学习。"
   ]
  },
  {
   "cell_type": "markdown",
   "id": "2a8cc78d",
   "metadata": {},
   "source": [
    "```\n",
    "计算数组的平均数\n",
    "可以直接对一个数组对象使用mean()函数，来计算数组中数值的平均数。\n",
    "\n",
    "例如，创建一个数组age，并计算该数组内所有元素的平均数的代码为：\n",
    "age = np.array([22,26,21])\n",
    "ageAvg = age.mean()\n",
    "print(ageAvg)\n",
    "最后代码的输出为：\n",
    "23\n",
    "\n",
    "\n",
    "计算数组的中位数\n",
    "由于Python中没有计算中位数的内置函数，所以在计算数组中位数时，需要使用NumPy模块中的np.median()函数。\n",
    "\n",
    "将数组作为参数传入np.median()函数中即可。\n",
    "\n",
    "例如，创建一个数组age，并计算该数组的中位数的代码为：\n",
    "age = np.array([22,26,21])\n",
    "ageMed = np.median(age)\n",
    "print(ageMed)\n",
    "最后代码的输出为：\n",
    "22\n",
    "```"
   ]
  },
  {
   "cell_type": "code",
   "execution_count": 12,
   "id": "c5919874",
   "metadata": {},
   "outputs": [
    {
     "name": "stdout",
     "output_type": "stream",
     "text": [
      "目标客户为21岁-25岁年龄段客户，平均年龄为23.0岁，平均年收入为148.6K，年龄中位数为23.0岁，年收入中位数为145.0K，预期投入额为20.16K\n"
     ]
    }
   ],
   "source": [
    "# TODO 导入numpy\n",
    "import numpy as np\n",
    "\n",
    "# TODO 依次创建年龄和年收入对应的数组\n",
    "ageArr = np.array([23, 21, 22, 25, 24])\n",
    "revArr = np.array([154, 114, 145, 132, 198])\n",
    "\n",
    "# TODO 依次计算年龄的平均值和年收入的平均值\n",
    "ageAvg = ageArr.mean()\n",
    "revAvg = revArr.mean()\n",
    "\n",
    "# TODO 依次计算年龄的中位数和年收入的中位数\n",
    "ageMed = np.median(ageArr)\n",
    "revMed = np.median(revArr)\n",
    "\n",
    "# TODO 根据公式，计算预期投入额\n",
    "result = (ageMed + revMed) * 0.12\n",
    "\n",
    "# TODO 根据题目要求，格式化输出结果\n",
    "print(f\"目标客户为21岁-25岁年龄段客户，平均年龄为{ageAvg}岁，平均年收入为{revAvg}K，年龄中位数为{ageMed}岁，年收入中位数为{revMed}K，预期投入额为{result}K\")"
   ]
  }
 ],
 "metadata": {
  "kernelspec": {
   "display_name": "Python 3",
   "language": "python",
   "name": "python3"
  },
  "language_info": {
   "codemirror_mode": {
    "name": "ipython",
    "version": 3
   },
   "file_extension": ".py",
   "mimetype": "text/x-python",
   "name": "python",
   "nbconvert_exporter": "python",
   "pygments_lexer": "ipython3",
   "version": "3.8.8"
  }
 },
 "nbformat": 4,
 "nbformat_minor": 5
}

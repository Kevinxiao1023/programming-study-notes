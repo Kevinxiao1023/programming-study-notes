{
 "cells": [
  {
   "cell_type": "markdown",
   "id": "9dfb71a1",
   "metadata": {},
   "source": [
    "拿到一份数据，或者在数据处理过程中，我们有时会简单对数据做一点简单变换，也就是数据预处理。\n",
    "\n",
    "今天将学习数据预处理，几个高效实用的pandas的函数。"
   ]
  },
  {
   "cell_type": "markdown",
   "id": "be4500f5",
   "metadata": {},
   "source": [
    "今日目标\n",
    "\n",
    "数据预处理，通常包括数据类型的转换、和index的转换。今天将学习：\n",
    "\n",
    "1. 时间类型数据\n",
    "\n",
    "2. 字符转时间函数\n",
    "\n",
    "3. 时间转字符函数\n",
    "\n",
    "4. 格式转换函数\n",
    "\n",
    "5. set_index()和reset_index()"
   ]
  },
  {
   "cell_type": "markdown",
   "id": "bb551221",
   "metadata": {},
   "source": [
    "# 时间类型"
   ]
  },
  {
   "cell_type": "markdown",
   "id": "a1ce129d",
   "metadata": {},
   "source": [
    "时间数据在很多领域都是重要的结构化数据形式。\n",
    "\n",
    "时间的运算，有自己的逻辑和规则，和现有的字符串、整型、浮点型的逻辑不一样。\n",
    "\n",
    "在Python中，时间数据可能有下面三种形式：\n",
    "\n",
    "1. 具体的时间点，比如2020/09/30 12:00:00\n",
    "\n",
    "2. 时间间隔，比如3days，2 months，是两个时间点之间的差值。\n",
    "\n",
    "3. 时期，比如2020年9月，代表了9月1日-30日一整个月。\n",
    "\n",
    "也对应了三种时间类型，datetime类型、timedelta类型、period类型。"
   ]
  },
  {
   "cell_type": "markdown",
   "id": "9784c89a",
   "metadata": {},
   "source": [
    "## datetime"
   ]
  },
  {
   "cell_type": "markdown",
   "id": "70d837bf",
   "metadata": {},
   "source": [
    "我们尝试构建一个如图的DataFrame，来描述三名同学入学和毕业时间。\n",
    "\n",
    "在构造时，我们是以字符串格式，将时间数据存入。\n",
    "\n",
    "但由于是字符串格式，我们无法对时间进行运算。\n",
    "\n",
    "倘若我们想要自己构造一个时间类型的数据，就必需引入datetime模块中的datetime数据类型，这是Python自带的模块。"
   ]
  },
  {
   "cell_type": "code",
   "execution_count": 2,
   "id": "74f1da74",
   "metadata": {},
   "outputs": [
    {
     "name": "stdout",
     "output_type": "stream",
     "text": [
      "2020-05-01 23:59:59\n",
      "2020-10-01 00:00:00\n",
      "<class 'datetime.datetime'>\n"
     ]
    }
   ],
   "source": [
    "from datetime import datetime\n",
    "\n",
    "start = datetime(2020, 5, 1, 23, 59, 59)\n",
    "end = datetime(2020, 10, 1)\n",
    "\n",
    "print(start)\n",
    "print(end)\n",
    "print(type(start))"
   ]
  },
  {
   "cell_type": "markdown",
   "id": "cd27eca8",
   "metadata": {},
   "source": [
    "示例代码中，通过导入datetime模块，使用datetime()函数，实现了时间类型数据的构造。\n",
    "\n",
    "datetime()函数内，需要按照年、月、日、时、分、秒依次传入数字，组成一个时间。至少需要传入年、月、日的参数。\n",
    "\n",
    "比如，start传入了年月日时分秒的数据构造时间，end只传入了年月日的数据构造时间。"
   ]
  },
  {
   "cell_type": "markdown",
   "id": "f5f3dcfa",
   "metadata": {},
   "source": [
    "## timedelta"
   ]
  },
  {
   "cell_type": "code",
   "execution_count": 3,
   "id": "77a9da35",
   "metadata": {},
   "outputs": [
    {
     "name": "stdout",
     "output_type": "stream",
     "text": [
      "152 days, 0:00:01\n",
      "<class 'datetime.timedelta'>\n"
     ]
    }
   ],
   "source": [
    "from datetime import datetime\n",
    "\n",
    "start = datetime(2020, 5, 1, 23, 59, 59)\n",
    "end = datetime(2020, 10, 1)\n",
    "\n",
    "timeSpan = end - start\n",
    "\n",
    "print(timeSpan)\n",
    "print(type(timeSpan))"
   ]
  },
  {
   "cell_type": "markdown",
   "id": "c32fc1c4",
   "metadata": {},
   "source": [
    "构造变量start是2020年5月1日，end是2020年10月1日。\n",
    "\n",
    "因为start和end均为时间类型数据，因此可以直接进行运算，将结果赋值给timeSpan。\n",
    "\n",
    "timeSpan的输出结果，就是end比start多出来的时间，精确到秒。并且数据类型是timedelta，这也就是时间间隔。"
   ]
  },
  {
   "cell_type": "markdown",
   "id": "bb195dcc",
   "metadata": {},
   "source": [
    "现在想要计算，2008年8月8日 20:08 到 2020年10月1日 10:00，之间的时间间隔是多少。\n",
    "\n",
    "尝试使用刚学过的datetime和timedelta，进行计算吧！"
   ]
  },
  {
   "cell_type": "code",
   "execution_count": 4,
   "id": "6af0e7ea",
   "metadata": {},
   "outputs": [
    {
     "name": "stdout",
     "output_type": "stream",
     "text": [
      "4436 days, 13:52:00\n"
     ]
    }
   ],
   "source": [
    "from datetime import datetime\n",
    "\n",
    "# 构造一个2008年8月8日 20:08的时间，赋值给start\n",
    "start = datetime(2008, 8, 8, 20, 8)\n",
    "\n",
    "# 构造一个2020年10月1日 10:00的时间，赋值给end\n",
    "end = datetime(2020, 10, 1, 10)\n",
    "\n",
    "# 计算end减去start的差值，赋值给time_gap\n",
    "time_gap = end - start\n",
    "\n",
    "# 输出time_gap\n",
    "print(time_gap)"
   ]
  },
  {
   "cell_type": "markdown",
   "id": "716e3a55",
   "metadata": {},
   "source": [
    "## period"
   ]
  },
  {
   "cell_type": "markdown",
   "id": "371c26b0",
   "metadata": {},
   "source": [
    "除了datetime和timedelta外，还有一个表示时间区间的类型\"period\"。\n",
    "\n",
    "这个时间类型，表达的是一个时间段。\n",
    "\n",
    "\"period\"的实际应用比较少，而且通常用后续学习的时间转字符函数代替，因此，在这里就不展开了。"
   ]
  },
  {
   "cell_type": "markdown",
   "id": "700b95de",
   "metadata": {},
   "source": [
    "# 字符串转时间\n"
   ]
  },
  {
   "cell_type": "markdown",
   "id": "dd2b0a1f",
   "metadata": {},
   "source": [
    "我们读取\"电商订单数据.csv\"，只取了其中的两列，create_time订单创建时间和pay_time订单支付时间。\n",
    "\n",
    "此时，这两列是字符串类型。接下来，我们使用to_datetime函数，将其转化为时间类型。"
   ]
  },
  {
   "cell_type": "markdown",
   "id": "f2eeafd1",
   "metadata": {},
   "source": [
    "使用to_datetime( )函数，将字符串格式的时间数据，转化为时间格式。\n",
    "\n",
    "此时，输出结果为datetime类型。"
   ]
  },
  {
   "cell_type": "markdown",
   "id": "5ede3d17",
   "metadata": {},
   "source": [
    "```\n",
    "# 导入pandas模块，简称为pd\n",
    "import pandas as pd\n",
    "\n",
    "# 读取文件，赋值给变量df\n",
    "df= pd.read_csv(\"/Users/time/电商数据.csv\", usecols=[9,10])\n",
    "\n",
    "# 使用to_datetime()函数，将create_time和pay _time转化成时间格式\n",
    "df[\"create_time\"] = pd.to_datetime(df[\"create_time\"])\n",
    "df[\"pay_time\"] = pd.to_datetime(df[\"pay_time\"])\n",
    "\n",
    "# 输出此时的df\n",
    "print(df)\n",
    "```"
   ]
  },
  {
   "cell_type": "markdown",
   "id": "5641c0d8",
   "metadata": {},
   "source": [
    "第8、9行，使用to_datetime( )函数，将字符串格式的时间数据，转化为时间格式。\n",
    "\n",
    "此时，输出结果为datetime类型。"
   ]
  },
  {
   "cell_type": "markdown",
   "id": "e36e14d6",
   "metadata": {},
   "source": [
    "* 需要转化的列       \n",
    "\n",
    "使用列索引，将需要转化格式的列选出来，作为参数。\n",
    "\n",
    "在这里，create_time和pay_time这一列需要转换格式，因此将其传入作为参数。"
   ]
  },
  {
   "cell_type": "markdown",
   "id": "117e629d",
   "metadata": {},
   "source": [
    "* 函数pd.to_datetime         \n",
    "\n",
    "pd.to_datetime( )函数，将参数中这一列的数据，转化成时间格式。"
   ]
  },
  {
   "cell_type": "markdown",
   "id": "a1fb42ab",
   "metadata": {},
   "source": [
    "* 赋值的新列        \n",
    "\n",
    "转化成时间格式之后，赋值给新的一列。\n",
    "\n",
    "在这里，这两列的数据，转化成时间格式后，重新赋值给这两列，也就是覆盖了原先的数据。"
   ]
  },
  {
   "cell_type": "markdown",
   "id": "271716db",
   "metadata": {},
   "source": [
    "# 时间转字符串"
   ]
  },
  {
   "cell_type": "markdown",
   "id": "fee94b68",
   "metadata": {},
   "source": [
    "数据处理中，会将字符串转为时间类型，进行时间的计算。\n",
    "\n",
    "有时，也会将时间类型数据，按照指定的格式，转为字符串数据。\n",
    "\n",
    "这时，会涉及到.dt和strftime()函数"
   ]
  },
  {
   "cell_type": "markdown",
   "id": "e97bcafd",
   "metadata": {},
   "source": [
    "读取文件并且使用to_datetime()将create_time和pay_time转化为时间类型。\n",
    "\n",
    "输出是精确到“秒”的时间类型。\n",
    "\n",
    "在后续应用中，我们在分组或者可视化的时候，常会需要年月日这样的日期，或者只需要年月。\n",
    "\n",
    "就会需要用到strftime()函数，将时间类型，转化为指定格式的字符串类型"
   ]
  },
  {
   "cell_type": "markdown",
   "id": "182d0fa9",
   "metadata": {},
   "source": [
    "```\n",
    "import pandas as pd\n",
    "\n",
    "df= pd.read_csv(\"/Users/time/电商数据.csv\", usecols=[9,10])\n",
    "\n",
    "df[\"create_time\"] = pd.to_datetime(df[\"create_time\"])\n",
    "df[\"pay_time\"] = pd.to_datetime(df[\"pay_time\"])\n",
    "\n",
    "df[\"create_time\"] = df[\"create_time\"].dt.strftime(\"%Y-%m\")\n",
    "df[\"pay_time\"] = df[\"pay_time\"].dt.strftime(\"%Y-%m\")\n",
    "\n",
    "print(df)\n",
    "```"
   ]
  },
  {
   "cell_type": "markdown",
   "id": "109caca5",
   "metadata": {},
   "source": [
    "第8、9行，使用.dt.strftime(\"%Y-%m\")。将某一列时间类型数据，转换为字符串类型，并变成“年-月”的格式。"
   ]
  },
  {
   "cell_type": "markdown",
   "id": "d045f15e",
   "metadata": {},
   "source": [
    "* .dt         \n",
    "\n",
    "对于某一列的数据，需要在列索引df[\"create_time\"]后加上.dt，表示定位到这一列的时间数据上。\n",
    "\n",
    "只有在Series和DataFrame中，列索引筛选的数据进行格式转换时，才需要.dt。"
   ]
  },
  {
   "cell_type": "markdown",
   "id": "79709dbd",
   "metadata": {},
   "source": [
    "* strftime()          \n",
    "\n",
    ".dt定位到一列的时间数据上后，通过strftime()函数转为字符串。\n",
    "\n",
    "函数内传入的参数，是需要转换的格式。"
   ]
  },
  {
   "cell_type": "markdown",
   "id": "3d04ee16",
   "metadata": {},
   "source": [
    "* 时间格式化         \n",
    "\n",
    "表示转为字符串的格式，作为参数传入strftime()函数内。\n",
    "\n",
    "时间格式是非常丰富的，在这里，\"%Y-%m\"表示转为\"年-月\"的形式。"
   ]
  },
  {
   "cell_type": "markdown",
   "id": "d789c579",
   "metadata": {},
   "source": [
    "```\n",
    "strftime()函数内的时间格式化符号，可以理解为是一种格式化输出。\n",
    "\n",
    "%Y代表时间的年，%m代表时间的月，%d代表时间的日。时间以外的其他的内容可以任意编辑。\n",
    "\n",
    "如图举了两个例子：\n",
    "%Y-%m-%d，就是2018-01-31。\n",
    "%Y年%m月，就是2018年01月。\n",
    "```"
   ]
  },
  {
   "cell_type": "markdown",
   "id": "bce75c8a",
   "metadata": {},
   "source": [
    "格式化字符，不止\"%Y\", \"%m\", \"%d\"。\n",
    "\n",
    "右图列出了最常用到的8个格式化字符。使用时，可以据此进行查询。\n",
    "\n",
    "有一个非常易混的地方：\"%m\"代表月，\"%M\"代表分钟。"
   ]
  },
  {
   "cell_type": "markdown",
   "id": "a4d6d413",
   "metadata": {},
   "source": [
    "我们尝试练习一下。\n",
    "\n",
    "已经读取了文件中\"pay_time\"这一列，需要使用to_datetime()函数，将字符串转为时间类型。\n",
    "\n",
    "然后使用strftime()函数，将时间类型，转成一列格式为\"xxxx年xx月xx日\"的数据，再转成一列\"星期x\"的数据。"
   ]
  },
  {
   "cell_type": "markdown",
   "id": "f4bd76e9",
   "metadata": {},
   "source": [
    "```\n",
    "# 导入模块\n",
    "import pandas as pd\n",
    "\n",
    "# 读取文件\n",
    "df = pd.read_csv(\"/Users/time/电商数据.csv\" , usecols= [10])\n",
    "\n",
    "# TODO 使用to_datetime函数，将pay_time这一列转化为时间类型，重新赋值给pay_time这一列\n",
    "df[\"pay_time\"] = pd.to_datetime(df[\"pay_time\"])\n",
    "\n",
    "# TODO 使用strftime函数，将pay_time这一列转化为\"%Y年%m月%d日\"的格式，赋值给\"日期\"这一列\n",
    "df[\"日期\"] = df[\"pay_time\"].dt.strftime(\"%Y年%m月%d日\")\n",
    "\n",
    "# TODO 使用strftime函数，将pay_time这一列转化为\"星期%u\"的格式，赋值给\"星期\"这一列\n",
    "df[\"星期\"] = df[\"pay_time\"].dt.strftime(\"星期%u\")\n",
    "\n",
    "# 输出这个df\n",
    "print(df)\n",
    "```"
   ]
  },
  {
   "cell_type": "markdown",
   "id": "10ca4d15",
   "metadata": {},
   "source": [
    "# 格式转换函数"
   ]
  },
  {
   "cell_type": "markdown",
   "id": "3c1fda0d",
   "metadata": {},
   "source": [
    "to_datetime()函数和strftime()函数，能实现字符串格式和时间格式之间的相互转换。\n",
    "\n",
    "整型、浮点型、字符串、布尔型在满足一定条件时，也能进行相互之间的转换，这是通过astype()函数来实现的。"
   ]
  },
  {
   "cell_type": "code",
   "execution_count": 9,
   "id": "186567da",
   "metadata": {},
   "outputs": [
    {
     "name": "stdout",
     "output_type": "stream",
     "text": [
      "       a  b\n",
      "0  1.134  1\n",
      "1  2.120  2\n",
      "2  3.540  3\n",
      "3  0.230  0\n",
      "       a    b\n",
      "0  1.134  1.0\n",
      "1  2.120  2.0\n",
      "2  3.540  3.0\n",
      "3  0.230  0.0\n"
     ]
    }
   ],
   "source": [
    "import pandas as pd\n",
    "\n",
    "data = {\"a\":[1.134,2.12,3.54,0.23],\"b\":[1,2,3,0]}\n",
    "\n",
    "df = pd.DataFrame(data)\n",
    "\n",
    "print(df)\n",
    "\n",
    "df[\"b\"] = df[\"b\"].astype(float)\n",
    "\n",
    "print(df)"
   ]
  },
  {
   "cell_type": "markdown",
   "id": "fc7ae5e9",
   "metadata": {},
   "source": [
    "第7行，在列索引后，使用astype()函数，里面的参数是需要转化成为的数据类型。\n",
    "\n",
    "在这里，将b这一列的数据，从整型(int)转化为浮点型(float)。"
   ]
  },
  {
   "cell_type": "markdown",
   "id": "cdd58934",
   "metadata": {},
   "source": [
    "## astype(str)\n",
    "\n",
    "转化为字符串类型(str)数据。\n",
    "\n",
    "整型、浮点型数据，可以直接使用.astype(str)函数。将数据类型转化为字符串类型。\n",
    "\n",
    "转化为字符串类型，是数据处理中常会用到的操作。\n",
    "\n",
    "比如电话号码，身份证号等纯数值的数据，通常是不可变的，需要将其作为字符串处理。"
   ]
  },
  {
   "cell_type": "markdown",
   "id": "11ae4cde",
   "metadata": {},
   "source": [
    "读取\"信用卡用户信息.csv\"的文件，手机号phone_number这一列在读取时，是整型的数据类型。\n",
    "\n",
    "我们尝试使用astype()函数，将其转化为字符串类型。"
   ]
  },
  {
   "cell_type": "code",
   "execution_count": 7,
   "id": "7fcf03b1",
   "metadata": {},
   "outputs": [
    {
     "name": "stdout",
     "output_type": "stream",
     "text": [
      "int64\n",
      "object\n"
     ]
    }
   ],
   "source": [
    "# 导入模块\n",
    "import pandas as pd\n",
    "\n",
    "# 读取文件\n",
    "df = pd.read_csv(\"/Users/xiaojiangyue/programming-study-notes/Python/数据分析/lesson_5_output/find/信用卡用户信息.csv\")\n",
    "\n",
    "# 输出phone_number这一列的数据类型\n",
    "print(df[\"phone_number\"].dtype)\n",
    "\n",
    "# 使用astype()，将phone_number这一列转化为字符串类型，重新赋值给phone_number这一列\n",
    "df[\"phone_number\"] = df[\"phone_number\"].astype(str)\n",
    "\n",
    "# 再输出phone_number这一列现在的数据类型\n",
    "print(df[\"phone_number\"].dtype)"
   ]
  },
  {
   "cell_type": "markdown",
   "id": "145e9109",
   "metadata": {},
   "source": [
    "## astype(int)\n",
    "\n",
    "转化为整型(int)数据。\n",
    "\n",
    "字符串数据，仅有当数据是整数数字时，才能使用.astype(int)函数，否则将会报错。\n",
    "\n",
    "浮点型数据，可以直接使用.astype(int)函数，使用后数据将只保留整数部分。\n",
    "\n",
    "转化为整型，在实际处理中用到的不多。"
   ]
  },
  {
   "cell_type": "markdown",
   "id": "3ba8e4be",
   "metadata": {},
   "source": [
    "## astype(float)\n",
    "\n",
    "转化为浮点型(float)数据。\n",
    "\n",
    "字符串数据，当数据是数字（整数，小数都可以）时，可以使用.astype(float)函数，否则将会报错。\n",
    "\n",
    "整型数据，可以直接使用.astype(float)函数，使用后数据将用0补充为一位小数。\n",
    "\n",
    "转化为浮点型，在实际处理中用到的不多。"
   ]
  },
  {
   "cell_type": "markdown",
   "id": "37fcc1ab",
   "metadata": {},
   "source": [
    "## astype(bool)\n",
    "\n",
    "转化为布尔型数据。\n",
    "\n",
    "整型、浮点型数据，可以直接使用.astype(bool)函数。\n",
    "\n",
    "如果数据是整型0、浮点型0.0，则会转化为布尔值False；如果数据是非0，则会转化为布尔值True。\n",
    "\n",
    "转化为布尔型，也是一个数据处理中常会用到的操作。"
   ]
  },
  {
   "cell_type": "markdown",
   "id": "39a94181",
   "metadata": {},
   "source": [
    "在计算机的储存中，许多是用0/1变量，来代表True/False。\n",
    "\n",
    "在pandas中，就可以通过astype()函数，将0/1转化为布尔型的True/False。\n",
    "\n",
    "我们来尝试简单操作一下，来通过布尔索引 来进行筛选。"
   ]
  },
  {
   "cell_type": "code",
   "execution_count": 10,
   "id": "66f0a24b",
   "metadata": {},
   "outputs": [
    {
     "name": "stdout",
     "output_type": "stream",
     "text": [
      "0    False\n",
      "1     True\n",
      "2    False\n",
      "3     True\n",
      "dtype: bool\n",
      "   rank    GDP\n",
      "1     2  77388\n",
      "3     4  47251\n"
     ]
    }
   ],
   "source": [
    "# 导入模块\n",
    "import pandas as pd\n",
    "\n",
    "# 定义一个字典\n",
    "data = {\"rank\":[1,2,3,4],\"GDP\":[80855,77388,68024,47251]}\n",
    "\n",
    "# 构造一个DataFrame\n",
    "df = pd.DataFrame(data)\n",
    "\n",
    "# 定义一个01组成的列表\n",
    "search = [0,1,0,1]\n",
    "\n",
    "# 构造成一个Series\n",
    "se = pd.Series(search)\n",
    "\n",
    "# TODO 使用astype函数，将se中的01，转换为False/True的se，重新赋值给se\n",
    "se = se.astype(bool)\n",
    "\n",
    "# 输出此时se\n",
    "print(se)\n",
    "\n",
    "# 用布尔索引筛选，输出筛选结果\n",
    "print(df[se])"
   ]
  },
  {
   "cell_type": "markdown",
   "id": "b59f019d",
   "metadata": {},
   "source": [
    "# index和列转换"
   ]
  },
  {
   "cell_type": "markdown",
   "id": "72e611af",
   "metadata": {},
   "source": [
    "在数据整理时，除了进行数据类型的转换外，最常见的，就是index的转换了。\n",
    "\n",
    "构造DataFrame或者读取文件时，我们会先指定一个index。\n",
    "\n",
    "但随着后续数据处理的需要，index需要转换为普通的列，或者一列需要变为index。\n",
    "\n",
    "这里就需要使用set_index()或者reset_index()函数。"
   ]
  },
  {
   "cell_type": "markdown",
   "id": "9ff41314",
   "metadata": {},
   "source": [
    "DataFrame，在构造时，没有指定index，因此df的index默认从0开始生成。\n",
    "\n",
    "倘若此时，我们需要将provin这一列数据，作为index，就可以使用set_index()函数。"
   ]
  },
  {
   "cell_type": "code",
   "execution_count": 11,
   "id": "57488ecc",
   "metadata": {},
   "outputs": [
    {
     "name": "stdout",
     "output_type": "stream",
     "text": [
      "  provin  rank    GDP\n",
      "0     GD     1  80855\n",
      "1     JS     2  77388\n",
      "2     SD     3  68024\n",
      "3     ZJ     4  47251\n",
      "        rank    GDP\n",
      "provin             \n",
      "GD         1  80855\n",
      "JS         2  77388\n",
      "SD         3  68024\n",
      "ZJ         4  47251\n"
     ]
    }
   ],
   "source": [
    "# 导入模块\n",
    "import pandas as pd \n",
    "\n",
    "# 定义一个字典data\n",
    "data = {\"provin\":[\"GD\",\"JS\",\"SD\",\"ZJ\"],\"rank\":[1,2,3,4],\"GDP\":[80855,77388,68024,47251]}\n",
    "\n",
    "# 用data构造一个df\n",
    "df=pd.DataFrame(data)\n",
    "\n",
    "# 输出df\n",
    "print(df)\n",
    "\n",
    "# 使用set_index()函数，将provin这一列转化成index，赋值给new_df\n",
    "new_df = df.set_index(\"provin\")\n",
    "\n",
    "# 输出new_df\n",
    "print(new_df)"
   ]
  },
  {
   "cell_type": "markdown",
   "id": "f2fbcc01",
   "metadata": {},
   "source": [
    "第14行，对df使用set_index()函数，将provin这一列的数据转为DataFrame的index，并赋值给new_df。\n",
    "\n",
    "参数是需要变为index的那一列的列名。"
   ]
  },
  {
   "cell_type": "markdown",
   "id": "2a46bf1a",
   "metadata": {},
   "source": [
    "在有的场景中，index当中的数据，也是我们要进行处理和操作的数据。\n",
    "\n",
    "我们又需要将index的数据，还原成一个普通的列"
   ]
  },
  {
   "cell_type": "code",
   "execution_count": 12,
   "id": "3dd9f059",
   "metadata": {},
   "outputs": [
    {
     "name": "stdout",
     "output_type": "stream",
     "text": [
      "        rank    GDP\n",
      "provin             \n",
      "GD         1  80855\n",
      "JS         2  77388\n",
      "SD         3  68024\n",
      "ZJ         4  47251\n",
      "  provin  rank    GDP\n",
      "0     GD     1  80855\n",
      "1     JS     2  77388\n",
      "2     SD     3  68024\n",
      "3     ZJ     4  47251\n"
     ]
    }
   ],
   "source": [
    "# 导入模块\n",
    "import pandas as pd \n",
    "\n",
    "# 定义一个字典data\n",
    "data = {\"provin\":[\"GD\",\"JS\",\"SD\",\"ZJ\"],\"rank\":[1,2,3,4],\"GDP\":[80855,77388,68024,47251]}\n",
    "\n",
    "# 用data构造一个df\n",
    "df=pd.DataFrame(data)\n",
    "\n",
    "# 使用set_index()函数，将provin这一列转化成index，赋值给new_df\n",
    "new_df = df.set_index(\"provin\")\n",
    "\n",
    "# 输出new_df\n",
    "print(new_df)\n",
    "\n",
    "# 使用reset_index()函数，将index转化成普通列，赋值给df\n",
    "df = new_df.reset_index()\n",
    "\n",
    "# 输出df\n",
    "print(df)"
   ]
  },
  {
   "cell_type": "markdown",
   "id": "f97b1c9f",
   "metadata": {},
   "source": [
    "第17行，对new_df使用reset_index()函数，将index转为DataFrame的一列数据，并赋值给df。\n",
    "\n",
    "reset_index()不需要传入参数。"
   ]
  },
  {
   "cell_type": "markdown",
   "id": "beb8cac4",
   "metadata": {},
   "source": [
    "对new_df对象使用reset_index()函数，赋值给新的变量。\n",
    "\n",
    "index这一列，就会转化成普通的一列数据，index变为默认从0开始。"
   ]
  },
  {
   "cell_type": "markdown",
   "id": "ed8510db",
   "metadata": {},
   "source": [
    "使用set_index()函数，将某一列的数据转为DataFrame的index；使用reset_index()函数，将index转为DataFrame的一列数据。"
   ]
  },
  {
   "cell_type": "markdown",
   "id": "36e68624",
   "metadata": {},
   "source": [
    "# 百题斩题目"
   ]
  },
  {
   "cell_type": "markdown",
   "id": "41ecb77b",
   "metadata": {},
   "source": [
    "## 性别统计\n",
    "李华是人口普查小组中的一员，他统计夜曲小区的人口数据时，发现因为保存出错，有一栋楼的居民性别信息缺失了：\n",
    "面对问题，李华灵机一动，想起可以利用身份证号来判断居民的性别。\n",
    "\n",
    "身份证号的第13位（索引为12）如果是奇数，则持有人为男性（\"男\"）；如果是偶数，就代表持有人是女性（\"女\"）。\n",
    "李华已经读取了文件，并存储在变量data中，接下来就需要：\n",
    "1. 先通过列索引读取data中\"身份证号\"这一列数据，并把这列Series的数据格式转换为str，这样才能直接通过字符串的索引获取到身份证号的第13位。\n",
    "\n",
    "2. 定义一个空列表gender，用于存储每一位居民的性别。\n",
    "\n",
    "3. 循环遍历\"身份证号\"这一列数据。通过字符串的索引获取第13位，再将第13位转换为整数int，对其进行取模运算（%），判断是奇数还是偶数。\n",
    "\n",
    "使用append()函数将结果添加到列表gender中：如果是奇数，将\"男\"添加到gender中；如果是偶数，则将\"女\"添加到gender中。\n",
    "\n",
    "4. 最后，把gender赋值给data[\"性别\"]，便可以将列表中的值依次添加到该列中。别忘记，要输出data变量哦～\n",
    "\n",
    "本题中需要用到 循环遍历Series 和 字符串转整型 这两个知识点，请先点击提示进行学习。"
   ]
  },
  {
   "cell_type": "markdown",
   "id": "d876d0d6",
   "metadata": {},
   "source": [
    "* 循环遍历Series\n",
    "\n",
    "在pandas模块中，我们可以使用for循环，访问到Series中的每一个值。\n",
    "例如，循环遍历data变量中，\"身份证号\"这一列数据的代码为：\n",
    "```\n",
    "for idNo in data[\"身份证号\"]:\n",
    "    print(idNo)\n",
    "\n",
    "输出为：\n",
    "532822198104013\n",
    "652826199304066\n",
    "140428198101265\n",
    "......\n",
    "```\n",
    "\n",
    "* 字符串转整型\n",
    "\n",
    "Python的内置函数int()，可以将一个字符串转换为整型。只需将字符串作为参数传入该函数中即可。\n",
    "\n",
    "例如，将刚刚获取到的idNo转换为整型的代码如下：\n",
    "```\n",
    "int(idNo)\n",
    "```"
   ]
  },
  {
   "cell_type": "code",
   "execution_count": 13,
   "id": "c6bf7287",
   "metadata": {},
   "outputs": [
    {
     "name": "stdout",
     "output_type": "stream",
     "text": [
      "    序号   姓名 性别             身份证号            公司                  职务\n",
      "0    0   熊亮  女  532822198104013      巨奥科技有限公司                采购主管\n",
      "1    1  赵秀芳  女  652826199304066      佳禾网络有限公司             产品经理/主管\n",
      "2    2   王刚  女  140428198101265    鑫博腾飞网络有限公司               射频工程师\n",
      "3    3  陈桂花  男  230402199601128   晖来计算机传媒有限公司               艺术/设计\n",
      "4    4   母浩  男  622924196204155      天益传媒有限公司            首席运营官COO\n",
      "5    5  王冬梅  女  321111197709297   晖来计算机传媒有限公司                  其他\n",
      "6    6  许丽娟  女  610400197509034    万迅电脑传媒有限公司                 造型师\n",
      "7    7   刘玲  女  522731197802092  惠派国际公司网络有限公司                  其他\n",
      "8    8  马冬梅  男  610328197204105   济南亿次元信息有限公司              汽车质量管理\n",
      "9    9  张淑珍  女  330181196301267    商软冠联网络有限公司              综合业务专员\n",
      "10  10   王亮  女  332502196204251      富罳信息有限公司             Web前端开发\n",
      "11  11  苏春梅  男  532722196904151      联软科技有限公司             导游/旅行顾问\n",
      "12  12  徐秀芳  男  530427197301129    黄石金承传媒有限公司              科研管理人员\n",
      "13  13   王娜  女  142332199709248    商软冠联传媒有限公司               团购业务员\n",
      "14  14   石玲  女  652925196708095   时空盒数字传媒有限公司                小学教师\n",
      "15  15   武云  女  371100199511013    鑫博腾飞网络有限公司                 漂染工\n",
      "16  16   陈雷  男  230703198504159    中建创业网络有限公司                产品总监\n",
      "17  17   谭芳  男  410221198801119      迪摩网络有限公司                  其他\n",
      "18  18  苏桂香  男  131024197501113    商软冠联网络有限公司                预结算员\n",
      "19  19   王晨  女  412723198212263      快讯传媒有限公司             会务/会展经理\n",
      "20  20  李桂英  女  452428200004251    恒聪百汇信息有限公司             移动通信工程师\n",
      "21  21   许丹  女  510681196107204     易动力传媒有限公司         板房/楦头/底格出格师\n",
      "22  22  李桂芝  男  632800197708315    戴硕电子信息有限公司                 注塑工\n",
      "23  23  秦桂兰  男  510703196003106    方正科技传媒有限公司           变压器与磁电工程师\n",
      "24  24  孙红梅  女  130522197812284     毕博诚信息有限公司             宠物护理/美容\n",
      "25  25   张成  男  152127199701167      天开科技有限公司                项目管理\n",
      "26  26   刘辉  男  510123197411154      明腾科技有限公司                 电镀工\n",
      "27  27  崔玉英  男  130303199408171      南康科技有限公司                 硫化工\n",
      "28  28   梁颖  女  460100198002288    鑫博腾飞网络有限公司             网站架构设计师\n",
      "29  29   陈峰  女  130321199012023      精芯信息有限公司         仪器/仪表/计量分析师\n",
      "30  30   司瑞  女  420204196201243      创汇信息有限公司                 资料员\n",
      "31  31  李秀荣  男  340401198402196      富罳信息有限公司           影视策划/制作人员\n",
      "32  32  许建国  男  622726199304139    中建创业科技有限公司               机械工程师\n",
      "33  33   李磊  男  410523197910112      创亿网络有限公司  质量管理/测试主管(QA/QC主管)\n",
      "34  34  雷海燕  男  152127196007142    鑫博腾飞科技有限公司                  其他\n",
      "35  35  杨丹丹  女  350627196808206    鑫博腾飞传媒有限公司              旅游产品销售\n",
      "36  36  王玉梅  女  410204197202282      迪摩科技有限公司                采购经理\n",
      "37  37  郭秀云  女  513002200006218  惠派国际公司信息有限公司              体育运动教练\n",
      "38  38  王金凤  男  460035198408185   开发区世创传媒有限公司                俄语翻译\n",
      "39  39   张浩  女  140428196604272      四通信息有限公司           电脑操作员/打字员\n",
      "40  40  赵小红  女  452632197702259      思优科技有限公司                 样衣工\n",
      "41  41   邓杰  男  152800199003136    华成育卓信息有限公司                  其他\n",
      "42  42  苏建国  女  500112199601044      创汇网络有限公司                保险核保\n",
      "43  43   杨慧  女  542200199404219    万迅电脑传媒有限公司             运输经理/主管\n",
      "44  44   孙玉  男  440233196901114     泰麒麟信息有限公司           电子商务经理/主管\n",
      "45  45   林俊  女  130828197906041    东方峻景网络有限公司             技术文员/助理\n",
      "46  46   陈娟  女  510501197002279      创亿网络有限公司              交通运输服务\n",
      "47  47   罗丹  男  152528197011102    菊风公司信息有限公司                 烫金工\n",
      "48  48  罗红霞  女  231084198008066    合联电子网络有限公司                美容助理\n",
      "49  49   林静  男  421000196908164      海创信息有限公司                 理货员\n"
     ]
    }
   ],
   "source": [
    "# 导入pandas，并使用\"pd\"作为该模块的简写\n",
    "import pandas as pd\n",
    "\n",
    "# 使用read_csv()函数，获取文件\"/Users/count/住户信息.csv\"，并赋值给data\n",
    "data = pd.read_csv(\"/Users/xiaojiangyue/programming-study-notes/Python/数据分析/lesson_7_output/count/住户信息.csv\")\n",
    "\n",
    "# TODO 使用astype()函数，将data[\"身份证号\"]转换为str类型\n",
    "data[\"身份证号\"] = data[\"身份证号\"].astype(str)\n",
    "\n",
    "# 创建储存性别的空列表gender\n",
    "gender = []\n",
    "\n",
    "# TODO 使用for循环遍历data[\"身份证号\"]\n",
    "for idNo in data[\"身份证号\"]:\n",
    "    \n",
    "    # TODO 将身份证号的第13位([12])转换为int，并赋值给num\n",
    "    num = int(idNo[12])\n",
    "\n",
    "    # TODO 如果num是奇数\n",
    "    if num % 2 == 1:\n",
    "\n",
    "        # TODO 在gender列表中添加\"男\"\n",
    "        gender.append(\"男\")\n",
    "\n",
    "    # TODO 如果num是偶数\n",
    "    else:\n",
    "\n",
    "        # TODO 在gender数组中添加\"女\"\n",
    "        gender.append(\"女\")\n",
    "\n",
    "# TODO 将gender赋值给data[\"性别\"]\n",
    "data[\"性别\"] = gender\n",
    "\n",
    "# TODO 使用print()输出data\n",
    "print(data)"
   ]
  },
  {
   "cell_type": "markdown",
   "id": "e1f2b2aa",
   "metadata": {},
   "source": [
    "## 美国犯罪调查\n",
    "欣欣作为悬疑犯罪类型美剧的忠实爱好者，调查了美国1960-2014年的各种类型的犯罪数据，包括暴力犯罪，财产犯罪，谋杀，强奸等等。\n",
    "她想要调查美国历史上最危险的时间。例如，暴力犯罪发生最频繁的年份。\n",
    "\n",
    "欣欣可以先把年份设置为数据的行索引，然后只需要通过获取\"暴力犯罪\"这列最大值的行索引，便能获取到对应的最频繁的年份。\n",
    "\n",
    "最后使用格式化输出结果：\n",
    "暴力犯罪发生最多的年份是xxxx\n",
    "\n",
    "本题中需要用到 获取DataFrame中某列最大值的索引位置 这个知识点，请先点击提示进行学习。"
   ]
  },
  {
   "cell_type": "markdown",
   "id": "e0469c2f",
   "metadata": {},
   "source": [
    "* 获取DataFrame中某列最大值的索引位置\n",
    "\n",
    "通过列索引访问到DataFrame里某列数据后，可以直接对该列数据使用idxmax()函数，来获取该列最大值所在的索引位置。\n",
    "\n",
    "比如，df中存储了每年的犯罪数据，要获取\"谋杀\"发生最多的年份的具体代码如下：\n",
    "```\n",
    "murderMax = df[\"谋杀\"].idxmax()\n",
    "print(murderMax)\n",
    "\n",
    "输出结果：\n",
    "1991\n",
    "```"
   ]
  },
  {
   "cell_type": "code",
   "execution_count": 14,
   "id": "b714a584",
   "metadata": {},
   "outputs": [
    {
     "name": "stdout",
     "output_type": "stream",
     "text": [
      "暴力犯罪发生最多的年份是1992\n"
     ]
    }
   ],
   "source": [
    "# 导入pandas模块，并以\"pd\"为该模块的简写\n",
    "import pandas as pd\n",
    "\n",
    "# 使用read_csv()函数，获取文件\"/Users/xinxin/US_Crime_Rates_1960_2014.csv\"，并赋值给df\n",
    "df = pd.read_csv(\"/Users/xiaojiangyue/programming-study-notes/Python/数据分析/lesson_7_output/xinxin/US_Crime_Rates_1960_2014.csv\")\n",
    "\n",
    "# TODO 使用set_index()函数，将\"年份\"设置成df的行索引\n",
    "df = df.set_index(\"年份\")\n",
    "\n",
    "# TODO 获取df中\"暴力犯罪\"最多的年份，并赋值给violentMax\n",
    "violentMax = df[\"暴力犯罪\"].idxmax()\n",
    "\n",
    "# TODO 格式化输出结果：\"暴力犯罪发生最多的年份是{violentMax}\"\n",
    "print(f\"暴力犯罪发生最多的年份是{violentMax}\")"
   ]
  },
  {
   "cell_type": "markdown",
   "id": "0e10497f",
   "metadata": {},
   "source": [
    "## 消费行为\n",
    "李华是兴兴药店的店长，他想通过对近期药品销售数据的分析，了解药店患者的日均消费次数、日均消费金额和客单价。\n",
    "\n",
    "下图中展示了兴兴药店2018年药品的部分销售数据，每一行代表一条独立的消费数据：\n",
    "请利用今日所学内容，帮助李华计算出药店患者的日均消费次数、日均消费金额和客单价，并在最后使用print()格式化输出这些信息。\n",
    "```\n",
    "1. 日均消费次数的公式为：\n",
    "日均消费次数 = 总消费次数 / 天数\n",
    "其中，总消费次数 = 销售数据的总行数； 天数 = 购药的结束日期减去购药的开始日期，也就是(\"购药时间\"列的最后一个数据) - (\"购药时间\"列的第一个数据)\n",
    "\n",
    "2. 日均消费金额的公式为：\n",
    "日均消费金额 = 总消费金额 / 天数\n",
    "其中，总消费金额 = dataDF[\"实收金额\"]这一列数据的总和\n",
    "\n",
    "3. 客单价的公式为：\n",
    "客单价 = 总消费金额 / 总消费次数\n",
    "\n",
    "格式化输出的格式为：\n",
    "日均消费次数是xx，日均收入金额为xx，客单价为xx\n",
    "```\n",
    "\n",
    "本题中需要用到获取DataFrame的总行数、计算天数、访问DataFrame的元素和计算某列数据总和这四个知识点，请先点击提示进行学习。"
   ]
  },
  {
   "cell_type": "markdown",
   "id": "ac458088",
   "metadata": {},
   "source": [
    "```\n",
    "1. 获取DataFrame的总行数\n",
    "dataDF的总行数其实就是行索引index的长度，那么可以直接使用len(dataDF.index)，来获取总行数。\n",
    "\n",
    "2. 计算天数\n",
    "通过访问时间间隔的.days属性，就能获取到天数。\n",
    "\n",
    "例如，开始日期是startTime，结束日期是endTime，计算这两个变量之间间隔天数的具体代码为：\n",
    "day = (endTime-startTime).days\n",
    "\n",
    "⚠️注意，在计算天数时，需要对时间类型的数据进行处理，所以需要先使用pd.to_datetime()函数，把dataDF[\"购药时间\"]这一列字符串型数据转为datetime类型。\n",
    "\n",
    "3. 访问DataFrame的元素\n",
    "在之前的课程中，我们学习了访问DataFrame里的行数据和列数据的方法。如果想要读取某个指定的元素，可以使用.loc[行索引,列索引]的方式进行读取。\n",
    "\n",
    "比如，要访问\"购药时间\"列里，第一个数据的代码为：\n",
    "df.loc[0,\"购药时间\"]\n",
    "\n",
    "\n",
    "4. 计算某列数据总和\n",
    "通过列索引访问到某列数据后，直接使用sum()函数计算该列数据总和。\n",
    "\n",
    "例如，计算销售数量总和的具体代码为：\n",
    "volume = dataDF[\"销售数量\"].sum()\n",
    "输出是：\n",
    "15682\n",
    "```"
   ]
  },
  {
   "cell_type": "code",
   "execution_count": 16,
   "id": "b8bfffcb",
   "metadata": {},
   "outputs": [
    {
     "name": "stdout",
     "output_type": "stream",
     "text": [
      "日均消费次数是33.040201005025125，日均收入金额为1530.4743718592965，客单价为46.321581749049436\n"
     ]
    }
   ],
   "source": [
    "# 导入pandas模块\n",
    "import pandas as pd\n",
    "# 读取文件，并赋值给变量dataDF\n",
    "dataDF = pd.read_csv(\"/Users/xiaojiangyue/programming-study-notes/Python/数据分析/lesson_7_output/xingxing/兴兴药店2018年销售数据.csv\")\n",
    "\n",
    "# TODO 将dataDF中\"购药时间\"这一列数据从字符串类型转换为日期类型\n",
    "dataDF[\"购药时间\"] = pd.to_datetime(dataDF[\"购药时间\"])\n",
    "\n",
    "# TODO 使用len()函数和dataDF.index，计算总消费次数，并赋值给变量total\n",
    "total = len(dataDF.index)\n",
    "\n",
    "# TODO 使用.loc属性，分别获取dataDF变量里的开始日期startTime和结束日期endTime\n",
    "startTime = dataDF.loc[0, \"购药时间\"]\n",
    "endTime = dataDF.loc[total-1, \"购药时间\"]\n",
    "\n",
    "# TODO 使用.days属性计算天数，并赋值给变量day\n",
    "day = (endTime - startTime).days\n",
    "\n",
    "# TODO 1. 根据题目里的公式计算日均消费次数，并赋值给变量dailyTimes\n",
    "dailyTimes = total / day\n",
    "\n",
    "# TODO 使用列索引和sum()函数计算总消费金额，并赋值给变量totalMoney\n",
    "totalMoney = dataDF[\"实收金额\"].sum()\n",
    "\n",
    "# TODO 2. 根据题目里的公式计算日均消费金额，并赋值给变量dailyMoney\n",
    "dailyMoney = totalMoney / day\n",
    "\n",
    "# TODO 3. 根据题目里的公式计算客单价，并赋值给变量pct\n",
    "pct = totalMoney / total\n",
    "\n",
    "# TODO 使用print格式化输出\n",
    "# 日均消费次数是{dailyTimes}，日均收入金额为{dailyMoney}，客单价为{pct}\n",
    "print(f\"日均消费次数是{dailyTimes}，日均收入金额为{dailyMoney}，客单价为{pct}\")"
   ]
  }
 ],
 "metadata": {
  "kernelspec": {
   "display_name": "Python 3",
   "language": "python",
   "name": "python3"
  },
  "language_info": {
   "codemirror_mode": {
    "name": "ipython",
    "version": 3
   },
   "file_extension": ".py",
   "mimetype": "text/x-python",
   "name": "python",
   "nbconvert_exporter": "python",
   "pygments_lexer": "ipython3",
   "version": "3.8.8"
  }
 },
 "nbformat": 4,
 "nbformat_minor": 5
}

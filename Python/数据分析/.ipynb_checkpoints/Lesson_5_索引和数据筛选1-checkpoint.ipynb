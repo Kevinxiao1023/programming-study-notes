{
 "cells": [
  {
   "cell_type": "markdown",
   "id": "31bae1e1",
   "metadata": {},
   "source": [
    "在处理数据的实际应用中，数据的筛选是非常重要的操作。\n",
    "\n",
    "例如，要选择数据集里的某几行某几列，或者将符合某种条件的数据筛选出来单独处理和分析。\n",
    "\n",
    "在pandas模块中，有很多种索引方式来定位和选择DataFrame中的数据。"
   ]
  },
  {
   "cell_type": "markdown",
   "id": "5190cbf2",
   "metadata": {},
   "source": [
    "今天的课程里，我们将依此学习以下2种索引方式，来分别应对不同的情况：\n",
    "\n",
    "1. 列索引 ：一列和多列数据访问\n",
    "2. 行索引：.loc属性和.iloc属性\n",
    "\n",
    "明天，我们会继续学习第3种索引方式：\n",
    "\n",
    "3. 布尔索引：一个判断条件和多个判断条件"
   ]
  },
  {
   "cell_type": "markdown",
   "id": "0cdc5933",
   "metadata": {},
   "source": [
    "# 列索引"
   ]
  },
  {
   "cell_type": "markdown",
   "id": "4f90b64b",
   "metadata": {},
   "source": [
    "上节课，我们读取了一份电商平台订单数据。\n",
    "\n",
    "这份数据中的 \"payment\" 、 \"price\" 和 \"cutdown_price\" 这3列中的数据都是以分为单位。\n",
    "\n",
    "现在，为了后续计算和整理，我们想将这三列数据以元为单位。\n",
    "\n",
    "所以，需要将这三列数据的值除以100来得到合适的数据。"
   ]
  },
  {
   "cell_type": "markdown",
   "id": "a4f125d0",
   "metadata": {},
   "source": [
    "一种方式是：我们可以依次访问这三列数据，并将它们逐个除以100。"
   ]
  },
  {
   "cell_type": "markdown",
   "id": "1cde8ee8",
   "metadata": {},
   "source": [
    "另一种方式是：同时访问这三列数据，并一起除以100。\n",
    "\n",
    "接下来，我们将分别学习访问一列和访问多列的方法。"
   ]
  },
  {
   "cell_type": "markdown",
   "id": "21805de8",
   "metadata": {},
   "source": [
    "## 1. 访问一列数据： data[\"columns\"]\n",
    "\n",
    "首先，访问一列数据可以按列索引（columns）访问。\n",
    "\n",
    "只需在DataFrame变量后面使用中括号和列索引：data[\"columns\"]。\n",
    "\n",
    "访问一列数据时，获取到的是该列对应的Series。\n",
    "\n",
    "比如，依次输出 \"payment\" 、 \"price\" 和 \"cutdown_price\" 这3列数据的代码如下："
   ]
  },
  {
   "cell_type": "code",
   "execution_count": 1,
   "id": "10574666",
   "metadata": {},
   "outputs": [
    {
     "name": "stdout",
     "output_type": "stream",
     "text": [
      "0         6200\n",
      "1         7000\n",
      "2        10000\n",
      "3         8500\n",
      "4         5102\n",
      "         ...  \n",
      "85647     4601\n",
      "85648     6500\n",
      "85649    18600\n",
      "85650    10200\n",
      "85651     5500\n",
      "Name: payment, Length: 85652, dtype: int64\n",
      "0         6200\n",
      "1         7000\n",
      "2        10000\n",
      "3         8500\n",
      "4         5102\n",
      "         ...  \n",
      "85647     5601\n",
      "85648     6500\n",
      "85649    18600\n",
      "85650    10200\n",
      "85651     5500\n",
      "Name: price, Length: 85652, dtype: int64\n",
      "0           0\n",
      "1           0\n",
      "2           0\n",
      "3           0\n",
      "4           0\n",
      "         ... \n",
      "85647    1000\n",
      "85648       0\n",
      "85649       0\n",
      "85650       0\n",
      "85651       0\n",
      "Name: cutdown_price, Length: 85652, dtype: int64\n"
     ]
    }
   ],
   "source": [
    "# 导入pandas模块，并以\"pd\"为该模块的简写\n",
    "import pandas as pd\n",
    "\n",
    "# 使用pd.read_csv()函数读取路径为 \"/Users/yequ/电商数据清洗.csv\" 的CSV文件\n",
    "# 并将结果赋值给变量data\n",
    "data = pd.read_csv(\"/Users/xiaojiangyue/programming-study-notes/Python/数据分析/lesson_4_output/yequ/电商数据清洗.csv\")\n",
    "\n",
    "# 使用print()输出变量data中的 \"payment\" 列\n",
    "print(data[\"payment\"])\n",
    "# TODO 使用print()输出变量data中的 \"price\" 列\n",
    "print(data[\"price\"])\n",
    "# 使用print()输出变量data中的 \"cutdown_price\" 列\n",
    "print(data[\"cutdown_price\"])"
   ]
  },
  {
   "cell_type": "markdown",
   "id": "41519199",
   "metadata": {},
   "source": [
    "接下来，我们就可以将这3列数据 依次除以100 来得到以元为单位的数据。\n",
    "\n",
    "将数据除以100后，我们得到的是一个新的Series，并不会修改原来数据中的值。\n",
    "\n",
    "如果要改变原来Series中的值，需要再次访问这些列，并将计算后的数据依次 赋值 给它们。\n",
    "\n",
    "示例中，依次修改了 \"payment\" 、 \"price\" 和 \"cutdown_price\" 这三列数据，并输出了修改后的data："
   ]
  },
  {
   "cell_type": "code",
   "execution_count": 2,
   "id": "419716f1",
   "metadata": {},
   "outputs": [
    {
     "name": "stdout",
     "output_type": "stream",
     "text": [
      "          id  order_id   user_id  payment   price  items_count  cutdown_price  \\\n",
      "0          1   3515712  34982388    62.00   62.00            4            0.0   \n",
      "1          2   3515713  17463833    70.00   70.00            3            0.0   \n",
      "2          3   3515714  70145358   100.00  100.00            5            0.0   \n",
      "3          4   3515715  46519215    85.00   85.00            4            0.0   \n",
      "4          5   3515716  37811404    51.02   51.02            8            0.0   \n",
      "...      ...       ...       ...      ...     ...          ...            ...   \n",
      "85647  86128   3601839  80511560    46.01   56.01            4           10.0   \n",
      "85648  86129   3601840  71210814    65.00   65.00            3            0.0   \n",
      "85649  86130   3601841  71565319   186.00  186.00            5            0.0   \n",
      "85650  86131   3601842  55948700   102.00  102.00            3            0.0   \n",
      "85651  86132   3601843  14576333    55.00   55.00            2            0.0   \n",
      "\n",
      "       post_fee  pay_type      create_time         pay_time  \n",
      "0             0     202.0  2018/1/31 16:06  2018/1/31 16:06  \n",
      "1             0     202.0  2018/1/31 16:13  2018/1/31 16:14  \n",
      "2             0     202.0  2018/1/31 23:52  2018/1/31 23:52  \n",
      "3             0     202.0    2018/2/1 0:05    2018/2/1 0:05  \n",
      "4             0     202.0    2018/2/1 0:51    2018/2/1 0:51  \n",
      "...         ...       ...              ...              ...  \n",
      "85647         0     202.0  2018/7/20 15:02  2018/7/20 15:02  \n",
      "85648         0     202.0  2018/7/20 15:05  2018/7/20 15:05  \n",
      "85649         0     102.0  2018/7/20 15:33  2018/7/20 15:35  \n",
      "85650         0     202.0  2018/7/20 15:35  2018/7/20 15:35  \n",
      "85651         0     202.0  2018/7/20 15:43  2018/7/20 15:43  \n",
      "\n",
      "[85652 rows x 11 columns]\n"
     ]
    }
   ],
   "source": [
    "# 导入pandas模块，并以\"pd\"为该模块的简写\n",
    "import pandas as pd\n",
    "\n",
    "# 使用pd.read_csv()函数读取路径为 \"/Users/yequ/电商数据清洗.csv\" 的CSV文件\n",
    "# 并将结果赋值给变量data\n",
    "data = pd.read_csv(\"/Users/xiaojiangyue/programming-study-notes/Python/数据分析/lesson_4_output/yequ/电商数据清洗.csv\")\n",
    "\n",
    "# 将变量data中的 \"payment\" 列修改为以元为单位的数据\n",
    "data[\"payment\"] = data[\"payment\"]/100\n",
    "# TODO 将变量data中 的 \"price\" 列修改为以元为单位的数据\n",
    "data[\"price\"] = data[\"price\"]/100\n",
    "# 将变量data中的 \"cutdown_price\" 列修改为以元为单位的数据\n",
    "data[\"cutdown_price\"] = data[\"cutdown_price\"]/100\n",
    "\n",
    "# 使用print()输出变量data\n",
    "print(data)"
   ]
  },
  {
   "cell_type": "markdown",
   "id": "6500788b",
   "metadata": {},
   "source": [
    "如果需要访问的数据很多，那么一列一列地操作其实是比较繁琐的。\n",
    "\n",
    "幸运的是，pandas模块为我们提供了一种更方便的方式，可以一次性访问多列数据。"
   ]
  },
  {
   "cell_type": "markdown",
   "id": "abf20f4f",
   "metadata": {},
   "source": [
    "## 2. 访问多列数据： data[[\"columns_1\",\"columns_2\",...]]\n",
    "\n",
    "如果需要访问多列数据，可以将包含对应列索引的列表传入DataFrame的中括号里。\n",
    "\n",
    "访问多列数据时，获取到的是对应的DataFrame。\n",
    "\n",
    "示例中，我们展示了同时访问 \"payment\" 、 \"price\" 和 \"cutdown_price\" 这3列数据的代码。\n",
    "\n",
    "值得注意的是，这里有两个中括号。"
   ]
  },
  {
   "cell_type": "code",
   "execution_count": 3,
   "id": "3f74729d",
   "metadata": {},
   "outputs": [
    {
     "name": "stdout",
     "output_type": "stream",
     "text": [
      "       payment  price  cutdown_price\n",
      "0         6200   6200              0\n",
      "1         7000   7000              0\n",
      "2        10000  10000              0\n",
      "3         8500   8500              0\n",
      "4         5102   5102              0\n",
      "...        ...    ...            ...\n",
      "85647     4601   5601           1000\n",
      "85648     6500   6500              0\n",
      "85649    18600  18600              0\n",
      "85650    10200  10200              0\n",
      "85651     5500   5500              0\n",
      "\n",
      "[85652 rows x 3 columns]\n"
     ]
    }
   ],
   "source": [
    "# 导入pandas模块，并以\"pd\"为该模块的简写\n",
    "import pandas as pd\n",
    "\n",
    "# 使用pd.read_csv()函数读取路径为 \"/Users/yequ/电商数据清洗.csv\" 的CSV文件\n",
    "# 并将结果赋值给变量data\n",
    "data = pd.read_csv(\"/Users/xiaojiangyue/programming-study-notes/Python/数据分析/lesson_4_output/yequ/电商数据清洗.csv\")\n",
    "\n",
    "# 使用print()输出变量data中的 \"payment\", \"price\", \"cutdown_price\" 这三列数据\n",
    "print(data[[\"payment\", \"price\", \"cutdown_price\"]])"
   ]
  },
  {
   "cell_type": "markdown",
   "id": "b76f32b4",
   "metadata": {},
   "source": [
    "* 第一个中括号，也就是最外面的中括号，表示对变量data进行索引。\n",
    "* 第二个中括号，也就是最里面的中括号，是一个列表，代表有多列数据。"
   ]
  },
  {
   "cell_type": "markdown",
   "id": "dac863e0",
   "metadata": {},
   "source": [
    "接下来，我们就可以将这三行的数据 同时除以100 来得到以元为单位的数据。\n",
    "\n",
    "将数据除以100后，我们得到的是一个新的DataFrame，并不会修改原来数据中的值。\n",
    "\n",
    "如果要改变原来DataFrame中的值，需要再次访问这些列，并将计算后的数据赋值给它们。其中，赋值是按照列表中的顺序依次赋值给对应的列。\n",
    "\n",
    "示例中，同时修改了 \"payment\" 、 \"price\" 和 \"cutdown_price\" 这三列数据，并输出了修改后的数据："
   ]
  },
  {
   "cell_type": "code",
   "execution_count": 4,
   "id": "4e1804a8",
   "metadata": {},
   "outputs": [
    {
     "name": "stdout",
     "output_type": "stream",
     "text": [
      "          id  order_id   user_id  payment   price  items_count  cutdown_price  \\\n",
      "0          1   3515712  34982388    62.00   62.00            4            0.0   \n",
      "1          2   3515713  17463833    70.00   70.00            3            0.0   \n",
      "2          3   3515714  70145358   100.00  100.00            5            0.0   \n",
      "3          4   3515715  46519215    85.00   85.00            4            0.0   \n",
      "4          5   3515716  37811404    51.02   51.02            8            0.0   \n",
      "...      ...       ...       ...      ...     ...          ...            ...   \n",
      "85647  86128   3601839  80511560    46.01   56.01            4           10.0   \n",
      "85648  86129   3601840  71210814    65.00   65.00            3            0.0   \n",
      "85649  86130   3601841  71565319   186.00  186.00            5            0.0   \n",
      "85650  86131   3601842  55948700   102.00  102.00            3            0.0   \n",
      "85651  86132   3601843  14576333    55.00   55.00            2            0.0   \n",
      "\n",
      "       post_fee  pay_type      create_time         pay_time  \n",
      "0             0     202.0  2018/1/31 16:06  2018/1/31 16:06  \n",
      "1             0     202.0  2018/1/31 16:13  2018/1/31 16:14  \n",
      "2             0     202.0  2018/1/31 23:52  2018/1/31 23:52  \n",
      "3             0     202.0    2018/2/1 0:05    2018/2/1 0:05  \n",
      "4             0     202.0    2018/2/1 0:51    2018/2/1 0:51  \n",
      "...         ...       ...              ...              ...  \n",
      "85647         0     202.0  2018/7/20 15:02  2018/7/20 15:02  \n",
      "85648         0     202.0  2018/7/20 15:05  2018/7/20 15:05  \n",
      "85649         0     102.0  2018/7/20 15:33  2018/7/20 15:35  \n",
      "85650         0     202.0  2018/7/20 15:35  2018/7/20 15:35  \n",
      "85651         0     202.0  2018/7/20 15:43  2018/7/20 15:43  \n",
      "\n",
      "[85652 rows x 11 columns]\n"
     ]
    }
   ],
   "source": [
    "# 导入pandas模块，并以\"pd\"为该模块的简写\n",
    "import pandas as pd\n",
    "\n",
    "# 使用pd.read_csv()函数读取路径为 \"/Users/yequ/电商数据清洗.csv\" 的CSV文件\n",
    "# 并将结果赋值给变量data\n",
    "data = pd.read_csv(\"/Users/xiaojiangyue/programming-study-notes/Python/数据分析/lesson_4_output/yequ/电商数据清洗.csv\")\n",
    "\n",
    "# TODO 将变量data中的\"payment\", \"price\", \"cutdown_price\" 这三列修改为以元为单位的数据\n",
    "data[[\"payment\", \"price\", \"cutdown_price\"]] = data[[\"payment\", \"price\", \"cutdown_price\"]] / 100\n",
    "\n",
    "# 使用print()输出变量data\n",
    "print(data)"
   ]
  },
  {
   "cell_type": "markdown",
   "id": "18bfeb79",
   "metadata": {},
   "source": [
    "如果数据中的每一行都是一个数据样本，那么在处理和分析数据时，就会遇到需要分析某一行或者多行数据的情况。\n",
    "\n",
    "因为Pandas是以DataFrame的格式读取数据，所以在访问行数据时，需要使用DataFrame对象中的.loc和.iloc属性。\n",
    "\n",
    "接下来，我们将分别学习这两个属性，来帮助大家读取行数据。"
   ]
  },
  {
   "cell_type": "markdown",
   "id": "67bcb0e1",
   "metadata": {},
   "source": [
    "# 按照index的值访问行数据：行索引 .loc属性"
   ]
  },
  {
   "cell_type": "markdown",
   "id": "cd876c01",
   "metadata": {},
   "source": [
    "`.loc`属性主要是基于index的值来选择行数据。\n",
    "\n",
    "该属性可以通过默认index的值和指定index的值来访问行数据。"
   ]
  },
  {
   "cell_type": "markdown",
   "id": "9f03959f",
   "metadata": {},
   "source": [
    "在读取电商数据时，如果我们不指定index，那么输出的数据如图所示，index会默认从整数0开始。\n",
    "\n",
    "这时候，index的值是整数：0，1，2，..."
   ]
  },
  {
   "cell_type": "markdown",
   "id": "9ab3ce1d",
   "metadata": {},
   "source": [
    "假如在读取电商数据时，我们指定了将 \"order_id\"（订单号）作为index的话，输出的数据如图所示。\n",
    "\n",
    "这时候，index的值就是\"order_id\"（订单号）：3515712，3515713，3515714，..."
   ]
  },
  {
   "cell_type": "markdown",
   "id": "583090cf",
   "metadata": {},
   "source": [
    "在读取数据时，不管是使用默认index或指定index，访问行数据的方式都一样。\n",
    "\n",
    "接下来，我们将通过在读取数据时指定index的例子，来学习使用`.loc`属性访问行数据。"
   ]
  },
  {
   "cell_type": "markdown",
   "id": "c6a60d3f",
   "metadata": {},
   "source": [
    "## 1. 访问数据中的某一行：.loc[index的值]\n",
    "\n",
    "如果要访问某一行的数据，需要将这一行的index的值作为索引传入.loc属性的中括号里。\n",
    "\n",
    "示例中，我们读取路径是 \"/Users/yequ/电商数据清洗.csv\" 的CSV文件，并指定\"order_id\"列为index，然后访问订单号 3515712 这一行数据。"
   ]
  },
  {
   "cell_type": "code",
   "execution_count": 7,
   "id": "ac07ff75",
   "metadata": {},
   "outputs": [
    {
     "name": "stdout",
     "output_type": "stream",
     "text": [
      "id                             1\n",
      "user_id                 34982388\n",
      "payment                     6200\n",
      "price                       6200\n",
      "items_count                    4\n",
      "cutdown_price                  0\n",
      "post_fee                       0\n",
      "pay_type                   202.0\n",
      "create_time      2018/1/31 16:06\n",
      "pay_time         2018/1/31 16:06\n",
      "Name: 3515712, dtype: object\n"
     ]
    }
   ],
   "source": [
    "# 导入pandas模块，并以\"pd\"为该模块的简写\n",
    "import pandas as pd\n",
    "\n",
    "# 使用pd.read_csv()函数读取路径为 \"/Users/yequ/电商数据清洗.csv\" 的CSV文件\n",
    "# 并通过参数index_col来指定\"order_id\"列为index\n",
    "# 将结果赋值给变量data\n",
    "data = pd.read_csv(\"/Users/xiaojiangyue/programming-study-notes/Python/数据分析/lesson_4_output/yequ/电商数据清洗.csv\", index_col=\"order_id\")\n",
    "\n",
    "# 使用print()和.loc属性输出data变量里 3515712 这一行的数据\n",
    "print(data.loc[3515712])"
   ]
  },
  {
   "cell_type": "markdown",
   "id": "1e6efb58",
   "metadata": {},
   "source": [
    "## 2. 访问数据中连续的某几行：.loc[起点index的值:结束index的值]\n",
    "\n",
    "如果想获取几行连续的数据时，比如从第一行（index的值是3515712）到第五行（index的值是3515716）的内容，那么我们可以使用.loc属性和 切片 进行访问。\n",
    "\n",
    "具体的代码为：data.loc[3515712:3515716]。\n",
    "\n",
    "注意，data.loc[3515712:3515716]表示：访问data中，从\"order_id\"（订单号）3515712到3515716的行数据，包含3515716这一行数据。"
   ]
  },
  {
   "cell_type": "code",
   "execution_count": 6,
   "id": "3fbfdc84",
   "metadata": {},
   "outputs": [
    {
     "name": "stdout",
     "output_type": "stream",
     "text": [
      "          id   user_id  payment  price  items_count  cutdown_price  post_fee  \\\n",
      "order_id                                                                       \n",
      "3515712    1  34982388     6200   6200            4              0         0   \n",
      "3515713    2  17463833     7000   7000            3              0         0   \n",
      "3515714    3  70145358    10000  10000            5              0         0   \n",
      "3515715    4  46519215     8500   8500            4              0         0   \n",
      "3515716    5  37811404     5102   5102            8              0         0   \n",
      "\n",
      "          pay_type      create_time         pay_time  \n",
      "order_id                                              \n",
      "3515712      202.0  2018/1/31 16:06  2018/1/31 16:06  \n",
      "3515713      202.0  2018/1/31 16:13  2018/1/31 16:14  \n",
      "3515714      202.0  2018/1/31 23:52  2018/1/31 23:52  \n",
      "3515715      202.0    2018/2/1 0:05    2018/2/1 0:05  \n",
      "3515716      202.0    2018/2/1 0:51    2018/2/1 0:51  \n"
     ]
    }
   ],
   "source": [
    "import pandas as pd\n",
    "\n",
    "# 使用pd.read_csv()函数读取路径为 \"/Users/yequ/电商数据清洗.csv\" 的CSV文件\n",
    "# 并通过参数index_col来指定\"order_id\"列为index\n",
    "# 将结果赋值给变量data\n",
    "data = pd.read_csv(\"/Users/xiaojiangyue/programming-study-notes/Python/数据分析/lesson_4_output/yequ/电商数据清洗.csv\", index_col=\"order_id\")\n",
    "\n",
    "# 使用print()和.loc属性输出订单号3515712到3515716的数据\n",
    "print(data.loc[3515712:3515716])"
   ]
  },
  {
   "cell_type": "markdown",
   "id": "9553d1fb",
   "metadata": {},
   "source": [
    "## 3. 访问不连续的某几行数据：.loc[[第一个index的值,第二个index的值,...]]\n",
    "\n",
    "如果要访问多行不连续的数据，需要将包含对应index的值的列表传入 .loc属性的 中括号 里。\n",
    "\n",
    "示例中，我们展示了访问\"order_id\"（订单 号）是 3515712 、 3515721 和 3515734 这三行数据的具体代码。\n",
    "\n",
    "值得注意的是，这里和访问多列数据一样，有两个中括号。"
   ]
  },
  {
   "cell_type": "code",
   "execution_count": 8,
   "id": "59ec4c77",
   "metadata": {},
   "outputs": [
    {
     "name": "stdout",
     "output_type": "stream",
     "text": [
      "          id   user_id  payment  price  items_count  cutdown_price  post_fee  \\\n",
      "order_id                                                                       \n",
      "3515712    1  34982388     6200   6200            4              0         0   \n",
      "3515721   10  57070466     3121   6121            9           3000         0   \n",
      "3515734   23  47197503     4970   4970            3              0         0   \n",
      "\n",
      "          pay_type      create_time         pay_time  \n",
      "order_id                                              \n",
      "3515712      202.0  2018/1/31 16:06  2018/1/31 16:06  \n",
      "3515721      202.0    2018/2/1 3:23    2018/2/1 3:23  \n",
      "3515734      302.0    2018/2/1 8:11    2018/2/1 8:11  \n"
     ]
    }
   ],
   "source": [
    "# 导入pandas模块，并以\"pd\"为该模块的简写\n",
    "import pandas as pd\n",
    "\n",
    "# 使用pd.read_csv()函数读取路径为 \"/Users/yequ/电商数据清洗.csv\" 的CSV文件\n",
    "# 并通过参数index_col来指定\"order_id\"列为index\n",
    "# 将结果赋值给变量data\n",
    "data = pd.read_csv(\"/Users/xiaojiangyue/programming-study-notes/Python/数据分析/lesson_4_output/yequ/电商数据清洗.csv\", index_col=\"order_id\")\n",
    "\n",
    "# 使用print()和.loc属性输出data变量里订单号为 3515712 、3515721 和 3515734 的行数据\n",
    "print(data.loc[[3515712,3515721,3515734]])"
   ]
  },
  {
   "cell_type": "markdown",
   "id": "0b1769c4",
   "metadata": {},
   "source": [
    "刚刚我们学习了用`.loc`属性和index的值访问行数据。\n",
    "\n",
    "除了通过index的值去定位，我们还可以通过\"第几行\"去定位行数据。\n",
    "\n",
    "接下来，我们将学习通过`.iloc`属性和行数据的具体位置来访问行数据。"
   ]
  },
  {
   "cell_type": "markdown",
   "id": "598675d3",
   "metadata": {},
   "source": [
    "# 按照行位置访问行数据：行索引 .iloc属性"
   ]
  },
  {
   "cell_type": "markdown",
   "id": "97b52a4d",
   "metadata": {},
   "source": [
    "`.iloc`属性是基于数据的整数索引，也就是数据的具体位置，来定位具体的行。\n",
    "\n",
    "比如，第1行对应的整数索引就是用1这个数字减一，即 0 。"
   ]
  },
  {
   "cell_type": "markdown",
   "id": "b527a3dc",
   "metadata": {},
   "source": [
    "## 1. 访问数据中的某一行：.iloc[index]\n",
    "\n",
    "如果要通过行数据所在的具体位置来访问某一行数据，需要将这一行的整数索引传入.iloc属性的中括号里。\n",
    "\n",
    "比如，访问第四行（对应的整数索引是3）的具体代码为:"
   ]
  },
  {
   "cell_type": "code",
   "execution_count": 9,
   "id": "ea6f2fcc",
   "metadata": {},
   "outputs": [
    {
     "name": "stdout",
     "output_type": "stream",
     "text": [
      "id                           4\n",
      "order_id               3515715\n",
      "user_id               46519215\n",
      "payment                   8500\n",
      "price                     8500\n",
      "items_count                  4\n",
      "cutdown_price                0\n",
      "post_fee                     0\n",
      "pay_type                 202.0\n",
      "create_time      2018/2/1 0:05\n",
      "pay_time         2018/2/1 0:05\n",
      "Name: 3, dtype: object\n"
     ]
    }
   ],
   "source": [
    "# 导入pandas模块，并以\"pd\"为该模块的简写\n",
    "import pandas as pd\n",
    "\n",
    "# 使用pd.read_csv()函数读取路径为 \"/Users/yequ/电商数据清洗.csv\" 的CSV文件，并将结果赋值给变量data\n",
    "data = pd.read_csv(\"/Users/xiaojiangyue/programming-study-notes/Python/数据分析/lesson_4_output/yequ/电商数据清洗.csv\")\n",
    "\n",
    "# 使用print()和.iloc属性输出data变量里第四行的数据\n",
    "print(data.iloc[3])"
   ]
  },
  {
   "cell_type": "markdown",
   "id": "0db5105d",
   "metadata": {},
   "source": [
    "## 2. 访问连续的某几行：.iloc[起点index:结束index]\n",
    "\n",
    "如果想访问几行连续的数据时，比如从第一行（索引是0）到第五行（索引是4）的内容，那么我们可以使用.iloc属性和 切片 进行访问。\n",
    "\n",
    "具体的 代码为：data.iloc[0:5]。\n",
    "\n",
    "注意，和之前不一样的是，data.iloc[0:5]表示：访问data中，从 index=0 到 index=4 的行数据，不包含index=5的这一行数据。"
   ]
  },
  {
   "cell_type": "code",
   "execution_count": 10,
   "id": "2b3a0466",
   "metadata": {},
   "outputs": [
    {
     "name": "stdout",
     "output_type": "stream",
     "text": [
      "   id  order_id   user_id  payment  price  items_count  cutdown_price  \\\n",
      "0   1   3515712  34982388     6200   6200            4              0   \n",
      "1   2   3515713  17463833     7000   7000            3              0   \n",
      "2   3   3515714  70145358    10000  10000            5              0   \n",
      "3   4   3515715  46519215     8500   8500            4              0   \n",
      "4   5   3515716  37811404     5102   5102            8              0   \n",
      "\n",
      "   post_fee  pay_type      create_time         pay_time  \n",
      "0         0     202.0  2018/1/31 16:06  2018/1/31 16:06  \n",
      "1         0     202.0  2018/1/31 16:13  2018/1/31 16:14  \n",
      "2         0     202.0  2018/1/31 23:52  2018/1/31 23:52  \n",
      "3         0     202.0    2018/2/1 0:05    2018/2/1 0:05  \n",
      "4         0     202.0    2018/2/1 0:51    2018/2/1 0:51  \n"
     ]
    }
   ],
   "source": [
    "# 导入pandas模块，并以\"pd\"为该模块的简写\n",
    "import pandas as pd\n",
    "\n",
    "# 使用pd.read_csv()函数读取路径为 \"/Users/yequ/电商数据清洗.csv\" 的CSV文件，并将结果赋值给变量data\n",
    "data = pd.read_csv(\"/Users/xiaojiangyue/programming-study-notes/Python/数据分析/lesson_4_output/yequ/电商数据清洗.csv\")\n",
    "\n",
    "# 使用print()和.iloc属性输出data变量里第1行到第5行的数据\n",
    "print(data.iloc[0:5])"
   ]
  },
  {
   "cell_type": "markdown",
   "id": "4179ab3b",
   "metadata": {},
   "source": [
    "## 3. 访问不连续的某几行数据：.iloc[[index1,index2,...]]\n",
    "\n",
    "如果要访问多行不连续的数据，需要将包含这几行对应的整数索引列表传入 .iloc属性的 中括号 里。\n",
    "\n",
    "示例中，我们展示了访问 第2行（索引是1） 、 第145行（索引是144） 和 第276行（索引是275） 这三行数据的具体代码。\n",
    "\n",
    "值得注意的是，访问多行数据时，有两个中括号。"
   ]
  },
  {
   "cell_type": "code",
   "execution_count": 11,
   "id": "5019ad98",
   "metadata": {},
   "outputs": [
    {
     "name": "stdout",
     "output_type": "stream",
     "text": [
      "      id  order_id   user_id  payment  price  items_count  cutdown_price  \\\n",
      "1      2   3515713  17463833     7000   7000            3              0   \n",
      "144  147   3515858  80954585     4800   4800            2              0   \n",
      "275  278   3515989   5304491     4800   4800            2              0   \n",
      "\n",
      "     post_fee  pay_type      create_time         pay_time  \n",
      "1           0     202.0  2018/1/31 16:13  2018/1/31 16:14  \n",
      "144         0     202.0    2019/3/1 1:15    2019/3/1 1:15  \n",
      "275         0     102.0    2019/3/2 1:34    2019/3/2 1:35  \n"
     ]
    }
   ],
   "source": [
    "# 导入pandas模块，并以\"pd\"为该模块的简写\n",
    "import pandas as pd\n",
    "\n",
    "# 使用pd.read_csv()函数读取路径为 \"/Users/yequ/电商数据清洗.csv\" 的CSV文件，并将结果赋值给变量data\n",
    "data = pd.read_csv(\"/Users/xiaojiangyue/programming-study-notes/Python/数据分析/lesson_4_output/yequ/电商数据清洗.csv\")\n",
    "\n",
    "# TODO 使用print()和.iloc属性输出data变量里第2行、第145行和第276行的数据\n",
    "print(data.iloc[[1, 144, 275]])"
   ]
  },
  {
   "cell_type": "markdown",
   "id": "21e5da0e",
   "metadata": {},
   "source": [
    "# 百题斩题目"
   ]
  },
  {
   "cell_type": "markdown",
   "id": "17125c13",
   "metadata": {},
   "source": [
    "## 信用卡额度大调查\n",
    "小董是一名某银行信用卡推销员，她整理了一份去年用户开卡信息表，想要获取信用卡额度（credit_limit） 这列数据的一些信息。\n",
    "信息表的路径为：\"/Users/find/信用卡用户信息.csv\"\n",
    "\n",
    "请利用今天所学知识，帮助她：\n",
    "1. 读取用户开卡信息表中，\"credit_limit\"列的数据\n",
    "2. 计算并输出该列数据的最大值、最小值以及平均值\n",
    "\n",
    "注意，本题中需要用到 计算DataFrame的最值和均值 这个知识点，请先点击提示进行学习。"
   ]
  },
  {
   "cell_type": "markdown",
   "id": "97f2cdea",
   "metadata": {},
   "source": [
    "计算DataFrame的最值和均值\n",
    "\n",
    "读取信息表的\"credit_limit\"列后，会得到一个DataFrame。\n",
    "\n",
    "在pandas模块中，我们可以直接对该DataFrame对象使用max()、min()和mean()函数，来计算其最大值、最小值和均值。\n",
    "\n",
    "返回的结果是一个包含对应数据的值的Series。"
   ]
  },
  {
   "cell_type": "code",
   "execution_count": 12,
   "id": "70e3f780",
   "metadata": {},
   "outputs": [
    {
     "name": "stdout",
     "output_type": "stream",
     "text": [
      "credit_limit    199943\n",
      "dtype: int64\n",
      "credit_limit    1033\n",
      "dtype: int64\n",
      "credit_limit    101071.918\n",
      "dtype: float64\n"
     ]
    }
   ],
   "source": [
    "# 导入pandas模块，并以\"pd\"为该模块的简写\n",
    "import pandas as pd\n",
    "\n",
    "# TODO 使用pd.read_csv()函数和usecols参数\n",
    "# 读取路径为 \"/Users/find/信用卡用户信息.csv\" 的CSV文件里：\"credit_limit\"这一列数据\n",
    "# 并将结果赋值给变量data\n",
    "data = pd.read_csv(\"/Users/xiaojiangyue/programming-study-notes/Python/数据分析/lesson_5_output/find/信用卡用户信息.csv\", usecols = [\"credit_limit\"])\n",
    "\n",
    "# TODO 使用print()输出data变量的最大值\n",
    "print(data.max())\n",
    "\n",
    "# TODO 使用print()输出data变量的最小值\n",
    "print(data.min())\n",
    "\n",
    "# TODO 使用print()输出data变量的均值\n",
    "print(data.mean())"
   ]
  }
 ],
 "metadata": {
  "kernelspec": {
   "display_name": "Python 3",
   "language": "python",
   "name": "python3"
  },
  "language_info": {
   "codemirror_mode": {
    "name": "ipython",
    "version": 3
   },
   "file_extension": ".py",
   "mimetype": "text/x-python",
   "name": "python",
   "nbconvert_exporter": "python",
   "pygments_lexer": "ipython3",
   "version": "3.8.8"
  }
 },
 "nbformat": 4,
 "nbformat_minor": 5
}

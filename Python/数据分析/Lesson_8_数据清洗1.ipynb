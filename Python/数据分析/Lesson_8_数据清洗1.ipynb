{
 "cells": [
  {
   "cell_type": "markdown",
   "id": "cdee5cac",
   "metadata": {},
   "source": [
    "这是Yoyo从数据库里拿到的「会员订单数据」。\n",
    "\n",
    "此数据描述了，该视频网站 2019.08-2020.07 一年内会员充值订单。\n",
    "\n",
    "右侧展示了该数据的前14行，除了标题行外，其他每一行就是一条订单数据。下方描述了每一列所代表的含义。"
   ]
  },
  {
   "cell_type": "markdown",
   "id": "fde16686",
   "metadata": {},
   "source": [
    "该平台会员有月度(¥25)，季度(¥68)，年度(¥248)三种。\n",
    "\n",
    "用户一次只能购买一种会员。因此，一笔订单，价格只有¥25、¥68、¥248三种。"
   ]
  },
  {
   "cell_type": "markdown",
   "id": "36b5bcab",
   "metadata": {},
   "source": [
    "在我们拿到数据的第一时间，需要对数据的质量进行检查和处理。\n",
    "\n",
    "这就是所谓的，“清洗脏数据”。\n",
    "\n",
    "呐尼，脏数据是什么意思？接下来我们就展开学习。"
   ]
  },
  {
   "cell_type": "markdown",
   "id": "299c6133",
   "metadata": {},
   "source": [
    "# 脏数据"
   ]
  },
  {
   "cell_type": "markdown",
   "id": "410fdf57",
   "metadata": {},
   "source": [
    "## 定义\n",
    "由于记录或者储存的原因，导致部分数据缺失、重复、异常、错误，没有分析意义，就叫做“脏数据”。"
   ]
  },
  {
   "cell_type": "markdown",
   "id": "8ce0afb7",
   "metadata": {},
   "source": [
    "脏数据，总体上存在三种情况：\n",
    "\n",
    "* 缺失值\n",
    "\n",
    "* 重复值\n",
    "\n",
    "* 异常值。\n",
    "\n",
    "把“脏数据”识别出来，并进行删除、填补、修正等一系列处理的过程，就叫做“数据清洗”。"
   ]
  },
  {
   "cell_type": "markdown",
   "id": "71227f63",
   "metadata": {},
   "source": [
    "## 缺失值"
   ]
  },
  {
   "cell_type": "markdown",
   "id": "fcf44650",
   "metadata": {},
   "source": [
    "由于记录或读取的原因，在应该有数据的地方，出现了空白，这就是缺失值。\n",
    "\n",
    "如图所示，在数据中，订单号为155的数据，platform是空白的，也就是缺失数据。\n",
    "\n",
    "缺失值在一个DataFrame中，会被标记为NaN或者null。在数据清洗中非常常见，后面我们就会学习，如何检查和处理它。"
   ]
  },
  {
   "cell_type": "markdown",
   "id": "c7415077",
   "metadata": {},
   "source": [
    "## 异常值"
   ]
  },
  {
   "cell_type": "markdown",
   "id": "55daeb41",
   "metadata": {},
   "source": [
    "异常值，指的是不合理的数据。需要根据具体的案例，进行判断。\n",
    "\n",
    "比如：\n",
    "\n",
    "1. 在应该全是正数的数据中，出现了负数。\n",
    "2. 在应该全是非零值的数据中，出现了0。\n",
    "3. 出现了不可能出现的数值等等。\n",
    "\n",
    "以图中的数据集为例子。商品价格只有¥25、¥68、¥248三种，出现的¥1就是一个异常值。\n",
    "\n",
    "另外，订单的创建时间create_time应该早于支付时间pay_time。出现创建时间晚于支付时间，也是一条异常数据。"
   ]
  },
  {
   "cell_type": "markdown",
   "id": "5711fc0e",
   "metadata": {},
   "source": [
    "## 重复值"
   ]
  },
  {
   "cell_type": "markdown",
   "id": "9545fa5f",
   "metadata": {},
   "source": [
    "除了缺失值、异常值外，数据也可能会出现重复值。\n",
    "\n",
    "这里的重复值，指的是在不该重复的地方，出现了异常的重复。\n",
    "\n",
    "比如，右侧该数据集中，订单号order_id，每个订单应该是唯一的。而此时，出现了重复的订单号59797，这就是异常的重复。\n",
    "\n",
    "而user_id出现重复时，因为同一个用户，是可以重复下单的。因此，这是属于正常的重复，不需要处理。"
   ]
  },
  {
   "cell_type": "markdown",
   "id": "be2b07ad",
   "metadata": {},
   "source": [
    "# 数据预处理"
   ]
  },
  {
   "cell_type": "markdown",
   "id": "2233a65c",
   "metadata": {},
   "source": [
    "这些脏数据，导致了数据的不真实性，会干扰后续分析的结果。因此需要对其进行识别和处理。\n",
    "\n",
    "我们来尝试，动手处理「会员订单数据」这个数据集。\n",
    "\n",
    "首先，我们需要导入pandas模块，读取文件。\n",
    "\n",
    "并对数据集，进行格式转换，把其中单位、数据类型不正确的地方，进行简单处理。"
   ]
  },
  {
   "cell_type": "markdown",
   "id": "90dec7e6",
   "metadata": {},
   "source": [
    "在开始处理数据前，先导入pandas模块。\n",
    "\n",
    "然后，使用read_csv()函数，读取\"视频会员订单数据源.csv\"文件，生成一个DataFrame。\n",
    "\n",
    "在读取文件时，由于数据的每一列都需要进行处理，因此我们不定义参数index_col，index默认从0开始。"
   ]
  },
  {
   "cell_type": "code",
   "execution_count": 1,
   "id": "166b3116",
   "metadata": {},
   "outputs": [
    {
     "name": "stdout",
     "output_type": "stream",
     "text": [
      "       order_id    user_id  price platform payment_provider       create_time  \\\n",
      "0             1  105654733  24800      ios         applepay    2020/4/2 16:50   \n",
      "1             2   47292399  24800  android            wxpay    2020/4/5 16:17   \n",
      "2             3   97811248   6800  android            wxpay   2019/12/5 16:42   \n",
      "3             4  106005331   6800      ios            wxpay  2019/11/22 10:06   \n",
      "4             5  106005331   6800      ios            wxpay    2020/5/24 6:34   \n",
      "...         ...        ...    ...      ...              ...               ...   \n",
      "78044     78045  131148228   2500  android            wxpay   2020/7/31 23:21   \n",
      "78045     78046   32709824   6800  android           alipay   2020/7/31 23:28   \n",
      "78046     78047  129653357  24800      ios         applepay   2020/7/31 23:29   \n",
      "78047     78048  132540663   2500  android            wxpay   2020/7/31 23:30   \n",
      "78048     78049  111527259   2500  android           alipay   2020/7/31 23:34   \n",
      "\n",
      "               pay_time  \n",
      "0        2020/4/2 16:46  \n",
      "1        2020/4/5 16:18  \n",
      "2       2019/12/5 16:42  \n",
      "3      2019/11/22 10:06  \n",
      "4        2020/5/24 6:34  \n",
      "...                 ...  \n",
      "78044   2020/7/31 23:21  \n",
      "78045   2020/7/31 23:28  \n",
      "78046   2020/7/31 23:20  \n",
      "78047   2020/7/31 23:30  \n",
      "78048   2020/7/31 23:30  \n",
      "\n",
      "[78049 rows x 7 columns]\n"
     ]
    }
   ],
   "source": [
    "# TODO 导入pandas模块，简称为pd\n",
    "import pandas as pd\n",
    "\n",
    "# TODO 使用read_csv()函数，读取路径为\"/Users/clean/视频会员订单数据源.csv\"的文件，赋值给变量df\n",
    "df = pd.read_csv(\"/Users/xiaojiangyue/programming-study-notes/Python/数据分析/lesson_8_output/clean/视频会员订单数据源.csv\")\n",
    "\n",
    "# 输出此时的df\n",
    "print(df)"
   ]
  },
  {
   "cell_type": "markdown",
   "id": "3bd8d18d",
   "metadata": {},
   "source": [
    "读取文件后，对数据进行初步处理：\n",
    "\n",
    "价格price目前以分为单位，使用列索引切片选取这一列，除以100，调整为元为单位。"
   ]
  },
  {
   "cell_type": "code",
   "execution_count": 3,
   "id": "5a3370f1",
   "metadata": {},
   "outputs": [
    {
     "name": "stdout",
     "output_type": "stream",
     "text": [
      "       order_id    user_id  price platform payment_provider       create_time  \\\n",
      "0             1  105654733  248.0      ios         applepay    2020/4/2 16:50   \n",
      "1             2   47292399  248.0  android            wxpay    2020/4/5 16:17   \n",
      "2             3   97811248   68.0  android            wxpay   2019/12/5 16:42   \n",
      "3             4  106005331   68.0      ios            wxpay  2019/11/22 10:06   \n",
      "4             5  106005331   68.0      ios            wxpay    2020/5/24 6:34   \n",
      "...         ...        ...    ...      ...              ...               ...   \n",
      "78044     78045  131148228   25.0  android            wxpay   2020/7/31 23:21   \n",
      "78045     78046   32709824   68.0  android           alipay   2020/7/31 23:28   \n",
      "78046     78047  129653357  248.0      ios         applepay   2020/7/31 23:29   \n",
      "78047     78048  132540663   25.0  android            wxpay   2020/7/31 23:30   \n",
      "78048     78049  111527259   25.0  android           alipay   2020/7/31 23:34   \n",
      "\n",
      "               pay_time  \n",
      "0        2020/4/2 16:46  \n",
      "1        2020/4/5 16:18  \n",
      "2       2019/12/5 16:42  \n",
      "3      2019/11/22 10:06  \n",
      "4        2020/5/24 6:34  \n",
      "...                 ...  \n",
      "78044   2020/7/31 23:21  \n",
      "78045   2020/7/31 23:28  \n",
      "78046   2020/7/31 23:20  \n",
      "78047   2020/7/31 23:30  \n",
      "78048   2020/7/31 23:30  \n",
      "\n",
      "[78049 rows x 7 columns]\n"
     ]
    }
   ],
   "source": [
    "# 导入pandas模块，简称为pd\n",
    "import pandas as pd\n",
    "\n",
    "# 读取路径为\"/Users/clean/视频会员订单数据源.csv\"的文件，赋值给变量df\n",
    "df = pd.read_csv(\"/Users/xiaojiangyue/programming-study-notes/Python/数据分析/lesson_8_output/clean/视频会员订单数据源.csv\")\n",
    "\n",
    "# TODO 商品价格price，单位分转化成元\n",
    "df[\"price\"] = df[\"price\"] / 100\n",
    "\n",
    "# 输出此时的df\n",
    "print(df)"
   ]
  },
  {
   "cell_type": "markdown",
   "id": "17c2f79f",
   "metadata": {},
   "source": [
    "create_time和pay_time需要转化成「时间类型」的数据。\n",
    "\n",
    "尝试用to_datetime函数操作一下吧。"
   ]
  },
  {
   "cell_type": "code",
   "execution_count": 4,
   "id": "c6dcf99b",
   "metadata": {},
   "outputs": [
    {
     "name": "stdout",
     "output_type": "stream",
     "text": [
      "       order_id    user_id  price platform payment_provider  \\\n",
      "0             1  105654733  248.0      ios         applepay   \n",
      "1             2   47292399  248.0  android            wxpay   \n",
      "2             3   97811248   68.0  android            wxpay   \n",
      "3             4  106005331   68.0      ios            wxpay   \n",
      "4             5  106005331   68.0      ios            wxpay   \n",
      "...         ...        ...    ...      ...              ...   \n",
      "78044     78045  131148228   25.0  android            wxpay   \n",
      "78045     78046   32709824   68.0  android           alipay   \n",
      "78046     78047  129653357  248.0      ios         applepay   \n",
      "78047     78048  132540663   25.0  android            wxpay   \n",
      "78048     78049  111527259   25.0  android           alipay   \n",
      "\n",
      "              create_time            pay_time  \n",
      "0     2020-04-02 16:50:00 2020-04-02 16:46:00  \n",
      "1     2020-04-05 16:17:00 2020-04-05 16:18:00  \n",
      "2     2019-12-05 16:42:00 2019-12-05 16:42:00  \n",
      "3     2019-11-22 10:06:00 2019-11-22 10:06:00  \n",
      "4     2020-05-24 06:34:00 2020-05-24 06:34:00  \n",
      "...                   ...                 ...  \n",
      "78044 2020-07-31 23:21:00 2020-07-31 23:21:00  \n",
      "78045 2020-07-31 23:28:00 2020-07-31 23:28:00  \n",
      "78046 2020-07-31 23:29:00 2020-07-31 23:20:00  \n",
      "78047 2020-07-31 23:30:00 2020-07-31 23:30:00  \n",
      "78048 2020-07-31 23:34:00 2020-07-31 23:30:00  \n",
      "\n",
      "[78049 rows x 7 columns]\n"
     ]
    }
   ],
   "source": [
    "# 导入pandas模块，简称为pd\n",
    "import pandas as pd\n",
    "\n",
    "# 读取路径为\"/Users/clean/视频会员订单数据源.csv\"的文件，赋值给变量df\n",
    "df = pd.read_csv(\"/Users/xiaojiangyue/programming-study-notes/Python/数据分析/lesson_8_output/clean/视频会员订单数据源.csv\")\n",
    "\n",
    "# 商品价格price，单位分转化成元\n",
    "df['price'] = df['price'] /100\n",
    "\n",
    "# 使用to_datetime()函数，将订单创建时间create_time，转化成时间格式\n",
    "df['create_time'] = pd.to_datetime(df['create_time'])\n",
    "\n",
    "# TODO 使用to_datetime()函数，将订单支付时间pay_time，转化成时间格式\n",
    "df[\"pay_time\"] = pd.to_datetime(df[\"pay_time\"])\n",
    "\n",
    "# 输出此时的df\n",
    "print(df)"
   ]
  },
  {
   "cell_type": "markdown",
   "id": "58ce08c7",
   "metadata": {},
   "source": [
    "经过这几步的处理，价格和时间，调整为了正确的格式。\n",
    "\n",
    "接下来，就可以对这一个数据集进行清洗。\n",
    "\n",
    "由于这组数据非常的大，我们无法通过肉眼对数据中的脏数据一个一个识别。\n",
    "\n",
    "而pandas中的诸多函数能解决这个问题。在这里，我们清洗数据的流程是：\n",
    "\n",
    "* Step1.识别并处理缺失值\n",
    "* Step2.识别并处理异常值\n",
    "* Step3.识别并处理重复值"
   ]
  },
  {
   "cell_type": "markdown",
   "id": "e8ae13eb",
   "metadata": {},
   "source": [
    "# Step 1 识别并处理缺失值"
   ]
  },
  {
   "cell_type": "markdown",
   "id": "ec9719e8",
   "metadata": {},
   "source": [
    "在pandas中，检查缺失值，我们可以使用info()函数，判断哪一列存在缺失值。\n",
    "\n",
    "然后，再使用isnull()函数，判断缺失值是在这一列的哪一行。从而实现定位。\n",
    "\n",
    "我们一一进行学习。"
   ]
  },
  {
   "cell_type": "markdown",
   "id": "936f1e0c",
   "metadata": {},
   "source": [
    "## 快速浏览数据集"
   ]
  },
  {
   "cell_type": "markdown",
   "id": "d58ddf48",
   "metadata": {},
   "source": [
    "info()函数\n",
    "\n",
    "第1-13行，读取文件并进行了预处理。\n",
    "\n",
    "第15行，使用info()函数，输出后快速浏览数据集\n",
    "\n",
    "info()函数会直接将结果输出出来，因此我们不需要用print。"
   ]
  },
  {
   "cell_type": "code",
   "execution_count": 5,
   "id": "4d5b20c1",
   "metadata": {},
   "outputs": [
    {
     "name": "stdout",
     "output_type": "stream",
     "text": [
      "<class 'pandas.core.frame.DataFrame'>\n",
      "RangeIndex: 78049 entries, 0 to 78048\n",
      "Data columns (total 7 columns):\n",
      " #   Column            Non-Null Count  Dtype         \n",
      "---  ------            --------------  -----         \n",
      " 0   order_id          78049 non-null  int64         \n",
      " 1   user_id           78049 non-null  int64         \n",
      " 2   price             78049 non-null  float64       \n",
      " 3   platform          77645 non-null  object        \n",
      " 4   payment_provider  78029 non-null  object        \n",
      " 5   create_time       78049 non-null  datetime64[ns]\n",
      " 6   pay_time          78049 non-null  datetime64[ns]\n",
      "dtypes: datetime64[ns](2), float64(1), int64(2), object(2)\n",
      "memory usage: 4.2+ MB\n"
     ]
    }
   ],
   "source": [
    "# 导入pandas模块，简称为pd\n",
    "import pandas as pd\n",
    "\n",
    "# 读取路径为\"/Users/clean/视频会员订单数据源.csv\"的文件，赋值给变量df\n",
    "df = pd.read_csv(\"/Users/xiaojiangyue/programming-study-notes/Python/数据分析/lesson_8_output/clean/视频会员订单数据源.csv\")\n",
    "\n",
    "# 商品价格price，单位分转化成元\n",
    "df['price'] = df['price'] /100\n",
    "\n",
    "# 使用to_datetime()函数，将订单创建时间create_time和支付时间pay_time，转化成时间格式\n",
    "df['create_time'] = pd.to_datetime(df['create_time'])\n",
    "df['pay_time'] = pd.to_datetime(df['pay_time'])\n",
    "\n",
    "# 输出df.info(),快速浏览数据集\n",
    "df.info()"
   ]
  },
  {
   "cell_type": "markdown",
   "id": "867331e4",
   "metadata": {},
   "source": [
    "观察图中的`df.info()`的输出内容。\n",
    "\n",
    "包含了这个数据集的很多信息，最重要的信息，是输出了这个数据集每一列的非空值个数。\n",
    "\n",
    "我们可以看到，这组数据其他列一共有78049行的非空数据。\n",
    "\n",
    "但platform这一列仅有77645行非空数据。说明在这一列，有404个缺失值。\n",
    "\n",
    "payment_provider这一列仅有78029行非空数据。说明在这一列，有20个缺失值。"
   ]
  },
  {
   "cell_type": "markdown",
   "id": "1b4a6186",
   "metadata": {},
   "source": [
    "## 判断缺失值"
   ]
  },
  {
   "cell_type": "markdown",
   "id": "4221575f",
   "metadata": {},
   "source": [
    "info()函数，可以帮助我们定位platform和payment_provider这两列存在空值。但是我们如何找出，这一列的哪一行是空值呢？\n",
    "\n",
    "isnull()函数可以在一列中，找到哪一行是空值，让我们来看看吧！"
   ]
  },
  {
   "cell_type": "markdown",
   "id": "5fd6a421",
   "metadata": {},
   "source": [
    "isnull()\n",
    "\n",
    "第1-13行，读取文件并进行了预处理。\n",
    "\n",
    "第15行，用列索引切片，选取platform这一列，并使用isnull()函数。\n",
    "\n",
    "isnull()函数会对每一个数据是否为缺失值进行判断。缺失值返回为True，不是缺失值返回为False。"
   ]
  },
  {
   "cell_type": "code",
   "execution_count": 6,
   "id": "0874971b",
   "metadata": {},
   "outputs": [
    {
     "name": "stdout",
     "output_type": "stream",
     "text": [
      "0        False\n",
      "1        False\n",
      "2        False\n",
      "3        False\n",
      "4        False\n",
      "         ...  \n",
      "78044    False\n",
      "78045    False\n",
      "78046    False\n",
      "78047    False\n",
      "78048    False\n",
      "Name: platform, Length: 78049, dtype: bool\n"
     ]
    }
   ],
   "source": [
    "# 导入pandas模块，简称为pd\n",
    "import pandas as pd\n",
    "\n",
    "# 读取路径为\"/Users/clean/视频会员订单数据源.csv\"的文件，赋值给变量df\n",
    "df = pd.read_csv(\"/Users/xiaojiangyue/programming-study-notes/Python/数据分析/lesson_8_output/clean/视频会员订单数据源.csv\")\n",
    "\n",
    "# 商品价格price，单位分转化成元\n",
    "df['price'] = df['price'] /100\n",
    "\n",
    "# 使用to_datetime()函数，将订单创建时间create_time和支付时间pay_time，转化成时间格式\n",
    "df['create_time'] = pd.to_datetime(df['create_time'])\n",
    "df['pay_time'] = pd.to_datetime(df['pay_time'])\n",
    "\n",
    "# 对platform这一列使用isnull()函数，并输出\n",
    "print(df['platform'].isnull())"
   ]
  },
  {
   "cell_type": "markdown",
   "id": "630e08b9",
   "metadata": {},
   "source": [
    "在这里，platform这一列存在缺失值，对这一列使用isnull()函数。\n",
    "\n",
    "会将这一列每一行的数据进行判断：\n",
    "\n",
    "如果是缺失值，就返回True；如果不是缺失值，就返回False。\n",
    "\n",
    "从而生成一列布尔类型的Series。值是True的地方，就是缺失值所在的地方。"
   ]
  },
  {
   "cell_type": "markdown",
   "id": "bed9cf0f",
   "metadata": {},
   "source": [
    "除却platform有缺失值外，payment_provider这一列也有缺失值。\n",
    "\n",
    "我们尝试用isnull()函数，找出payment_provider这一列的缺失值在哪里。"
   ]
  },
  {
   "cell_type": "code",
   "execution_count": 7,
   "id": "2ef3b6ff",
   "metadata": {},
   "outputs": [
    {
     "name": "stdout",
     "output_type": "stream",
     "text": [
      "0        False\n",
      "1        False\n",
      "2        False\n",
      "3        False\n",
      "4        False\n",
      "         ...  \n",
      "78044    False\n",
      "78045    False\n",
      "78046    False\n",
      "78047    False\n",
      "78048    False\n",
      "Name: payment_provider, Length: 78049, dtype: bool\n"
     ]
    }
   ],
   "source": [
    "# 导入pandas模块，简称为pd\n",
    "import pandas as pd\n",
    "\n",
    "# 读取路径为\"/Users/clean/视频会员订单数据源.csv\"的文件，赋值给变量df\n",
    "df = pd.read_csv(\"/Users/xiaojiangyue/programming-study-notes/Python/数据分析/lesson_8_output/clean/视频会员订单数据源.csv\")\n",
    "\n",
    "# 商品价格price，单位分转化成元\n",
    "df['price'] = df['price'] /100\n",
    "\n",
    "# 使用to_datetime()函数，将订单创建时间create_time和支付时间pay_time，转化成时间格式\n",
    "df['create_time'] = pd.to_datetime(df['create_time'])\n",
    "df['pay_time'] = pd.to_datetime(df['pay_time'])\n",
    "\n",
    "# TODO 对payment_provider这一列使用isnull()函数，并输出\n",
    "print(df[\"payment_provider\"].isnull())"
   ]
  },
  {
   "cell_type": "markdown",
   "id": "5ef35a28",
   "metadata": {},
   "source": [
    "## 缺失值的处理办法"
   ]
  },
  {
   "cell_type": "markdown",
   "id": "f7fea9c1",
   "metadata": {},
   "source": [
    "检查并定位到了缺失值所在的位置，我们就可以对缺失值进行处理。\n",
    "\n",
    "缺失值的处理，有3种方式：\n",
    "\n",
    "1. 删除所在行\n",
    "\n",
    "2. 补全缺失值\n",
    "\n",
    "3. 重选数据集\n",
    "\n",
    "每一个处理方式，都会有适用条件，我们详细来看看。"
   ]
  },
  {
   "cell_type": "markdown",
   "id": "40de209c",
   "metadata": {},
   "source": [
    "如果缺失值的数量非常少，我们可以选择将缺失值所在的这一行删除。\n",
    "\n",
    "例如刚刚7.8w行数据中，仅仅有400多个缺失值时，删除对于分析不构成决定性影响。\n",
    "\n",
    "在删除有缺失值的那一行数据时，会用到drop()函数"
   ]
  },
  {
   "cell_type": "markdown",
   "id": "f7f992f8",
   "metadata": {},
   "source": [
    "如果缺失值的数量较多，并且缺失值所在的这一列（这一个属性），并不是我们分析的重点时，可以对缺失值进行补全。\n",
    "\n",
    "因为数量较大，直接删除会缺失很多数据，让数据变得不完整，也就会丧失其中的一些规律。\n",
    "\n",
    "如果不是分析重点，那通过一些补全的方法，让这些数据有效，但是补全的这一种属性，就无法进行分析了。\n",
    "\n",
    "在pandas中，补全数据我们会使用到fillna()函数。"
   ]
  },
  {
   "cell_type": "markdown",
   "id": "b0a2adb5",
   "metadata": {},
   "source": [
    "如果缺失值的数量较多，并且这一列，这个属性是分析的重点时。那么我们就需要，直接放弃这个数据集，重新采集数据。\n",
    "\n",
    "因为缺失值较多，会丢失数据的原貌。删除后剩下的数据就丧失了统计的意义。也无法补全，因此需要重新采集数据。"
   ]
  },
  {
   "cell_type": "markdown",
   "id": "89bd69da",
   "metadata": {},
   "source": [
    "接下来，我们学习删除指定行的drop()函数，和补全缺失值的fillna()函数。\n",
    "\n",
    "对识别出的缺失值，进行处理。"
   ]
  },
  {
   "cell_type": "markdown",
   "id": "a5b50928",
   "metadata": {},
   "source": [
    "### 删除指定行"
   ]
  },
  {
   "cell_type": "markdown",
   "id": "73b9ba2b",
   "metadata": {},
   "source": [
    "drop()\n",
    "\n",
    "第16行，使用布尔索引和isnull函数，将payment_provider这一列的缺失值筛选出，赋值给变量dfPayNull\n",
    "\n",
    "第19行，使用drop函数，将dfPayNull，也就是包含所有payment_provider这一列缺失值的行删除"
   ]
  },
  {
   "cell_type": "code",
   "execution_count": 8,
   "id": "f5e666ca",
   "metadata": {},
   "outputs": [
    {
     "name": "stdout",
     "output_type": "stream",
     "text": [
      "<class 'pandas.core.frame.DataFrame'>\n",
      "Int64Index: 78029 entries, 0 to 78048\n",
      "Data columns (total 7 columns):\n",
      " #   Column            Non-Null Count  Dtype         \n",
      "---  ------            --------------  -----         \n",
      " 0   order_id          78029 non-null  int64         \n",
      " 1   user_id           78029 non-null  int64         \n",
      " 2   price             78029 non-null  float64       \n",
      " 3   platform          77645 non-null  object        \n",
      " 4   payment_provider  78029 non-null  object        \n",
      " 5   create_time       78029 non-null  datetime64[ns]\n",
      " 6   pay_time          78029 non-null  datetime64[ns]\n",
      "dtypes: datetime64[ns](2), float64(1), int64(2), object(2)\n",
      "memory usage: 4.8+ MB\n"
     ]
    }
   ],
   "source": [
    "# 导入pandas模块，简称为pd\n",
    "import pandas as pd\n",
    "\n",
    "# 使用read_csv()函数，读取工作目录下的\"视频会员订单数据源.csv\"，赋值给变量df\n",
    "df = pd.read_csv(\"/Users/xiaojiangyue/programming-study-notes/Python/数据分析/lesson_8_output/clean/视频会员订单数据源.csv\")\n",
    "\n",
    "# 商品价格price，单位分转化成元\n",
    "df['price'] = df['price'] /100\n",
    "\n",
    "# 使用to_datetime()函数，将订单创建时间create_time和支付时间pay_time，转化成时间格式\n",
    "df['create_time'] = pd.to_datetime(df['create_time'])\n",
    "df['pay_time'] = pd.to_datetime(df['pay_time'])\n",
    "\n",
    "# 使用布尔索引和isnull函数，将payment_provider的缺失值筛选出，赋值给变量dfPayNull\n",
    "# dfPayNull就是，包含所有payment_provider这一列缺失值的行\n",
    "dfPayNull = df[df['payment_provider'].isnull()]\n",
    "\n",
    "# 使用drop函数，将包含所有payment_provider这一列缺失值的行删除\n",
    "df.drop(index=dfPayNull.index, inplace = True)\n",
    "\n",
    "# 使用df.info(),快速浏览数据集\n",
    "df.info()"
   ]
  },
  {
   "cell_type": "markdown",
   "id": "a57cf966",
   "metadata": {},
   "source": [
    "这部分代码，其实是两个操作。\n",
    "\n",
    "第一个操作，用布尔索引和isnull()筛选出需要删除的行。\n",
    "\n",
    "第二个操作，用drop( )函数删除筛选出的行。\n",
    "\n",
    "我们先来学习，drop()函数的函数结构。      \n",
    "\n",
    "`df.drop(index=dfPayNull.index, inplace = True)`"
   ]
  },
  {
   "cell_type": "markdown",
   "id": "119c17af",
   "metadata": {},
   "source": [
    "1. DataFrame对象          \n",
    "\n",
    "需要进行删除行数据处理的DataFrame对象。"
   ]
  },
  {
   "cell_type": "markdown",
   "id": "d987656d",
   "metadata": {},
   "source": [
    "2. 函数drop( )        \n",
    "\n",
    "对df这个DataFrame对象，执行drop()函数，删除行数据。"
   ]
  },
  {
   "cell_type": "markdown",
   "id": "1ef4905a",
   "metadata": {},
   "source": [
    "3. index= 参数  \n",
    "\n",
    "drop()函数里，需要传入index = ，用来指定“哪些行需要删除”。\n",
    "\n",
    "在这里，index=后面，需要传入需要删除的行数据的index属性，来指定“哪些行需要删除”的。"
   ]
  },
  {
   "cell_type": "markdown",
   "id": "5bbbab23",
   "metadata": {},
   "source": [
    "4. inplace = True      \n",
    "\n",
    "drop()函数里，需要传入inplace = ，用来指定“删除操作是否直接对df进行，并立即生效”。\n",
    "\n",
    "在我们做数据处理时，通常是直接将数据删除的。因此，之后我们默认操作都是inplace = True。"
   ]
  },
  {
   "cell_type": "markdown",
   "id": "2732f6b0",
   "metadata": {},
   "source": [
    "学习了drop()函数的函数结构。我们来理解下，第16行代码，dfPayNull赋值的意义。\n",
    "\n",
    "第16行代码，其实都是在指定，需要删除哪些行的数据。      \n",
    "\n",
    "`dfPayNull = df[df['payment_provider'].isnull()]`"
   ]
  },
  {
   "cell_type": "markdown",
   "id": "9ce00fab",
   "metadata": {},
   "source": [
    "前面学过isnull()函数，对一列数据进行是否是空值的判断，然后输出一列布尔型的Series。\n",
    "\n",
    "在这里，对存在缺失值的payment_provider这一列，使用isnull()。\n",
    "\n",
    "如果是空值的这一行，则为True，如果是非空值，则为False。"
   ]
  },
  {
   "cell_type": "markdown",
   "id": "5236cc80",
   "metadata": {},
   "source": [
    "然后，使用布尔索引，将df['payment_provider'].isnull()中，所有返回是True的行，都筛选出来。\n",
    "\n",
    "这样，所有payment_provider存在缺失值的行，都被筛选了出来。\n",
    "\n",
    "这些被筛选出来的行，也就是需要删除的行。将这些行，打包赋值给了dfPayNull。"
   ]
  },
  {
   "cell_type": "markdown",
   "id": "b226da02",
   "metadata": {},
   "source": [
    "再对变量dfPayNull，使用index属性，将其传入drop()函数中，删除这些payment_provider列包含缺失值的所有行数据。"
   ]
  },
  {
   "cell_type": "markdown",
   "id": "3889aa63",
   "metadata": {},
   "source": [
    "删除payment_provider列包含缺失值的所有行数据。\n",
    "\n",
    "观察图中的结果，重新用info()函数浏览下。\n",
    "\n",
    "order_id，user_id，price，create_time，pay_time这5列，都从78049行数据，减少到78029行数据。"
   ]
  },
  {
   "cell_type": "code",
   "execution_count": 10,
   "id": "821a7b6d",
   "metadata": {},
   "outputs": [
    {
     "name": "stdout",
     "output_type": "stream",
     "text": [
      "<class 'pandas.core.frame.DataFrame'>\n",
      "Int64Index: 77645 entries, 0 to 78048\n",
      "Data columns (total 7 columns):\n",
      " #   Column            Non-Null Count  Dtype         \n",
      "---  ------            --------------  -----         \n",
      " 0   order_id          77645 non-null  int64         \n",
      " 1   user_id           77645 non-null  int64         \n",
      " 2   price             77645 non-null  float64       \n",
      " 3   platform          77645 non-null  object        \n",
      " 4   payment_provider  77645 non-null  object        \n",
      " 5   create_time       77645 non-null  datetime64[ns]\n",
      " 6   pay_time          77645 non-null  datetime64[ns]\n",
      "dtypes: datetime64[ns](2), float64(1), int64(2), object(2)\n",
      "memory usage: 4.7+ MB\n"
     ]
    }
   ],
   "source": [
    "# 导入pandas模块，简称为pd\n",
    "import pandas as pd\n",
    "\n",
    "# 读取路径为\"/Users/clean/视频会员订单数据源.csv\"的文件，赋值给变量df\n",
    "df = pd.read_csv(\"/Users/xiaojiangyue/programming-study-notes/Python/数据分析/lesson_8_output/clean/视频会员订单数据源.csv\")\n",
    "\n",
    "# 商品价格price，单位分转化成元\n",
    "df['price'] = df['price'] /100\n",
    "\n",
    "# 使用to_datetime()函数，将订单创建时间create_time和支付时间pay_time，转化成时间格式\n",
    "df['create_time'] = pd.to_datetime(df['create_time'])\n",
    "df['pay_time'] = pd.to_datetime(df['pay_time'])\n",
    "\n",
    "# 使用布尔索引和isnull函数，将payment_provider这一列的缺失值筛选出，赋值给变量dfPayNull\n",
    "# dfPayNull就是，包含所有payment_provider这一列缺失值的行\n",
    "dfPayNull = df[df['payment_provider'].isnull()]\n",
    "\n",
    "# 使用drop函数，将包含所有payment_provider这一列缺失值的行删除\n",
    "df.drop(index=dfPayNull.index, inplace = True)\n",
    "\n",
    "# TODO 使用布尔索引和isnull函数，将platform这一列的缺失值筛选出，赋值给变量dfPlatNull\n",
    "# dfPlatNull就是，包含所有platform这一列缺失值的行\n",
    "dfPlatNull = df[df['platform'].isnull()]\n",
    "\n",
    "# TODO 使用drop函数，将dfPlatNull，也就是包含所有platform这一列缺失值的行删除\n",
    "df.drop(index=dfPlatNull.index, inplace = True)\n",
    "\n",
    "# 使用df.info(),快速浏览数据集\n",
    "df.info()"
   ]
  },
  {
   "cell_type": "markdown",
   "id": "882591cc",
   "metadata": {},
   "source": [
    "重新用info()函数，浏览下删除缺失值后的数据集。\n",
    "\n",
    "观察图中的结果，最后删除了缺失值所在行后，每一列的数据，都减少到77645。\n",
    "\n",
    "并且每一列的非空值数量都一样，已经没有非空值。\n",
    "\n",
    "这就完成了对缺失值的清洗。"
   ]
  },
  {
   "cell_type": "markdown",
   "id": "aa04f0ad",
   "metadata": {},
   "source": [
    "### 填充缺失值"
   ]
  },
  {
   "cell_type": "markdown",
   "id": "e58c772b",
   "metadata": {},
   "source": [
    "第15行，使用fillna()函数，将payment_provider这一列的缺失值，全部填充成了wxpay。"
   ]
  },
  {
   "cell_type": "code",
   "execution_count": 11,
   "id": "ef777b60",
   "metadata": {},
   "outputs": [
    {
     "name": "stdout",
     "output_type": "stream",
     "text": [
      "<class 'pandas.core.frame.DataFrame'>\n",
      "RangeIndex: 78049 entries, 0 to 78048\n",
      "Data columns (total 7 columns):\n",
      " #   Column            Non-Null Count  Dtype         \n",
      "---  ------            --------------  -----         \n",
      " 0   order_id          78049 non-null  int64         \n",
      " 1   user_id           78049 non-null  int64         \n",
      " 2   price             78049 non-null  float64       \n",
      " 3   platform          77645 non-null  object        \n",
      " 4   payment_provider  78049 non-null  object        \n",
      " 5   create_time       78049 non-null  datetime64[ns]\n",
      " 6   pay_time          78049 non-null  datetime64[ns]\n",
      "dtypes: datetime64[ns](2), float64(1), int64(2), object(2)\n",
      "memory usage: 4.2+ MB\n"
     ]
    }
   ],
   "source": [
    "# 导入pandas模块，简称为pd\n",
    "import pandas as pd\n",
    "\n",
    "# 读取路径为\"/Users/clean/视频会员订单数据源.csv\"的文件，赋值给变量df\n",
    "df = pd.read_csv(\"/Users/xiaojiangyue/programming-study-notes/Python/数据分析/lesson_8_output/clean/视频会员订单数据源.csv\")\n",
    "\n",
    "# 商品价格price，单位分转化成元\n",
    "df['price'] = df['price'] /100\n",
    "\n",
    "# 使用to_datetime()函数，将订单创建时间create_time和支付时间pay_time，转化成时间格式\n",
    "df['create_time'] = pd.to_datetime(df['create_time'])\n",
    "df['pay_time'] = pd.to_datetime(df['pay_time'])\n",
    "\n",
    "# 使用fillna()函数，用\"wxpay\"填充缺失值\n",
    "df['payment_provider'].fillna(\"wxpay\",inplace = True)\n",
    "\n",
    "# 输出df.info()\n",
    "df.info()"
   ]
  },
  {
   "cell_type": "markdown",
   "id": "a76658da",
   "metadata": {},
   "source": [
    "1. 填充的列对象      \n",
    "\n",
    "选取需要执行操作的这一列。\n",
    "\n",
    "在这里，我们对payment_provider这一列进行缺失值的补全。"
   ]
  },
  {
   "cell_type": "markdown",
   "id": "9e3df727",
   "metadata": {},
   "source": [
    "2. 函数fillna()        \n",
    "\n",
    "对已经选定的df['payment_provider']，使用fillna()函数。"
   ]
  },
  {
   "cell_type": "markdown",
   "id": "30866b86",
   "metadata": {},
   "source": [
    "3. 填充的值        \n",
    "\n",
    "在fillna()函数中，传入要填充的值。\n",
    "\n",
    "传入的值可以是数字，可以是字符，也可以是运算结果。"
   ]
  },
  {
   "cell_type": "markdown",
   "id": "c8d5dadc",
   "metadata": {},
   "source": [
    "4. inplace = True          \n",
    "\n",
    "fillna()函数里，需要传入inplace = ，用来指定操作是否对这个对象立即生效。\n",
    "\n",
    "在我们做数据处理时，通常是立即生效的，因此一般是inplace = True。"
   ]
  },
  {
   "cell_type": "markdown",
   "id": "ef0f798f",
   "metadata": {},
   "source": [
    "经过fillna()填充的缺失值，会补全成参数里传入的值。\n",
    "\n",
    "我们将payment_provider这一列的缺失值，全部填充成了wxpay。"
   ]
  },
  {
   "cell_type": "markdown",
   "id": "872babd8",
   "metadata": {},
   "source": [
    "# 百题斩题目"
   ]
  },
  {
   "cell_type": "markdown",
   "id": "ce3f3836",
   "metadata": {},
   "source": [
    "## 今天喝什么？           \n",
    "\n",
    "下图是某年各个国家的饮料消耗量，数据包括国家名字，以及他们消耗的啤酒，雪碧，红酒数量。\n",
    "亭亭发现部分数据有缺失，想要利用本节课学到的知识，找到所有的缺失值，并用0填充。\n",
    "\n",
    "处理完缺失值后，亭亭想要统计所有国家的啤酒总消耗量，使用格式化输出结果。\n",
    "\n",
    "输出示例为：\n",
    "啤酒总消耗量是xx\n",
    "\n",
    "本题中需要用到 计算某列数据总和 这个知识点，请先点击提示进行学习。"
   ]
  },
  {
   "cell_type": "markdown",
   "id": "3a05b74f",
   "metadata": {},
   "source": [
    "```\n",
    "计算某列数据总和\n",
    "\n",
    "通过列索引访问到某列数据后，直接使用sum()函数计算该列数据总和。\n",
    "\n",
    "比如，计算啤酒消耗总量的代码为：\n",
    "beer = df[\"啤酒消耗\"].sum()\n",
    "print(beer)\n",
    "\n",
    "输出结果：\n",
    "20489.0\n",
    "```"
   ]
  },
  {
   "cell_type": "code",
   "execution_count": 12,
   "id": "4c4b44c0",
   "metadata": {},
   "outputs": [
    {
     "name": "stdout",
     "output_type": "stream",
     "text": [
      "啤酒总消耗量是20489.0\n"
     ]
    }
   ],
   "source": [
    "# 导入pandas模块，并以\"pd\"为该模块的简写\n",
    "import pandas as pd\n",
    "\n",
    "# 使用read_csv()函数，获取文件\"/Users/tingting/drinks.csv\"，并赋值给df\n",
    "df = pd.read_csv(\"/Users/xiaojiangyue/programming-study-notes/Python/数据分析/lesson_8_output/tingting/drinks.csv\")\n",
    "\n",
    "# TODO 使用fillna()函数，用0填充df中的所有缺失值\n",
    "df.fillna(0, inplace = True)\n",
    "\n",
    "# TODO 使用sum()函数，计算啤酒消耗总量，并赋值给beer\n",
    "beer = df[\"啤酒消耗\"].sum()\n",
    "\n",
    "# TODO 格式化输出结果：\"啤酒总消耗量是{beer}\"\n",
    "print(f\"啤酒总消耗量是{beer}\")"
   ]
  },
  {
   "cell_type": "markdown",
   "id": "e1096fe1",
   "metadata": {},
   "source": [
    "## 轻松做报表\n",
    "阿亮在分析一份「借款数据」时发现，其中几列数据包含了很多缺失值。\n",
    "\n",
    "1. \"上次还款日期\"、\"上次还款本金\"和\"上次还款利息\"这三列数据存在少量缺失值。但是因为这三列数据对整体影响不大，所以阿亮决定将这三列数据中的缺失值填充为\"unknown\"。\n",
    "\n",
    "2. 而\"下次计划还款日期\"、\"下次计划还款本金\"和\"下次计划还款利息\"这3列也存在缺失值。这是因为借款已还清，所以可以直接删除这三列缺失值所在的行。只需要找出三列中任意一列的缺失值，然后将其所在的行进行删除即可。\n",
    "\n",
    "请利用今日所学内容，帮助阿亮完成处理～"
   ]
  },
  {
   "cell_type": "code",
   "execution_count": 13,
   "id": "c9350512",
   "metadata": {},
   "outputs": [
    {
     "name": "stdout",
     "output_type": "stream",
     "text": [
      "<class 'pandas.core.frame.DataFrame'>\n",
      "Int64Index: 6068 entries, 1 to 9898\n",
      "Data columns (total 37 columns):\n",
      " #   Column      Non-Null Count  Dtype  \n",
      "---  ------      --------------  -----  \n",
      " 0   Unnamed: 0  6068 non-null   int64  \n",
      " 1   ListingId   6068 non-null   int64  \n",
      " 2   借款金额        6068 non-null   int64  \n",
      " 3   借款期限        6068 non-null   int64  \n",
      " 4   借款利率        6068 non-null   float64\n",
      " 5   借款成功日期      6068 non-null   object \n",
      " 6   初始评级        6068 non-null   object \n",
      " 7   借款类型        6068 non-null   object \n",
      " 8   是否首标        6068 non-null   object \n",
      " 9   年龄          6068 non-null   int64  \n",
      " 10  性别          6068 non-null   object \n",
      " 11  手机认证        6068 non-null   object \n",
      " 12  户口认证        6068 non-null   object \n",
      " 13  视频认证        6068 non-null   object \n",
      " 14  学历认证        6068 non-null   object \n",
      " 15  征信认证        6068 non-null   object \n",
      " 16  淘宝认证        6068 non-null   object \n",
      " 17  历史成功借款次数    6068 non-null   float64\n",
      " 18  历史成功借款金额    6068 non-null   float64\n",
      " 19  总待还本金       6068 non-null   float64\n",
      " 20  历史正常还款期数    6068 non-null   int64  \n",
      " 21  历史逾期还款期数    6068 non-null   int64  \n",
      " 22  我的投资金额      6068 non-null   int64  \n",
      " 23  当前到期期数      6068 non-null   int64  \n",
      " 24  当前还款期数      6068 non-null   int64  \n",
      " 25  已还本金        6068 non-null   float64\n",
      " 26  已还利息        6068 non-null   float64\n",
      " 27  待还本金        6068 non-null   float64\n",
      " 28  待还利息        6068 non-null   float64\n",
      " 29  标当前逾期天数     6068 non-null   int64  \n",
      " 30  标当前状态       6068 non-null   object \n",
      " 31  上次还款日期      6068 non-null   object \n",
      " 32  上次还款本金      6068 non-null   object \n",
      " 33  上次还款利息      6068 non-null   object \n",
      " 34  下次计划还款日期    6068 non-null   object \n",
      " 35  下次计划还款本金    6068 non-null   float64\n",
      " 36  下次计划还款利息    6068 non-null   float64\n",
      "dtypes: float64(10), int64(11), object(16)\n",
      "memory usage: 1.8+ MB\n"
     ]
    }
   ],
   "source": [
    "# 导入模块\n",
    "import pandas as pd\n",
    "# 读取文件\n",
    "df = pd.read_csv(\"/Users/xiaojiangyue/programming-study-notes/Python/数据分析/lesson_8_output/aliang/抽取样例信息表.csv\")\n",
    "\n",
    "# TODO 使用fillna()函数，用\"unknown\"填充\n",
    "# \"上次还款日期\"、\"上次还款本金\"和\"上次还款利息\"这三列的缺失值\n",
    "df[\"上次还款日期\"].fillna(\"unknown\", inplace = True)\n",
    "df[\"上次还款本金\"].fillna(\"unknown\", inplace = True)\n",
    "df[\"上次还款利息\"].fillna(\"unknown\", inplace = True)\n",
    "\n",
    "# TODO 使用布尔索引和isnull()函数\n",
    "# 筛选出\"下次计划还款日期\"这一列的缺失值\n",
    "# 并赋值给变量dfNull\n",
    "dfNull = df[df[\"下次计划还款日期\"].isnull()]\n",
    "\n",
    "# TODO 使用drop函数，删除dfNull所对应的行数据\n",
    "df.drop(index = dfNull.index, inplace = True)\n",
    "\n",
    "# 输出data.info()\n",
    "df.info()"
   ]
  },
  {
   "cell_type": "markdown",
   "id": "52496e8f",
   "metadata": {},
   "source": [
    "## 漏洞在哪里\n",
    "璐璐是一个社会学家，她从WHO世界卫生组织的网站上下载了2016年各个国家的人口数据，如下图所示。\n",
    "\n",
    "然而，璐璐发现，这个数据存在一定的漏洞，分为以下几类：\n",
    "1. \"Population_proportion_over_60\"列中，有些数据并不在0-100之间，这显然是异常的\n",
    "2. \"Total_fertility_rate\"列中，存在数据缺失请帮助璐璐找到上述的异常值和缺失值，然后利用学过的知识，删除所有的异常值，并把缺失值填充为\"unknown\"。"
   ]
  },
  {
   "cell_type": "code",
   "execution_count": 14,
   "id": "820cb8a0",
   "metadata": {},
   "outputs": [
    {
     "name": "stdout",
     "output_type": "stream",
     "text": [
      "<class 'pandas.core.frame.DataFrame'>\n",
      "Int64Index: 171 entries, 0 to 193\n",
      "Data columns (total 5 columns):\n",
      " #   Column                          Non-Null Count  Dtype  \n",
      "---  ------                          --------------  -----  \n",
      " 0   Country                         171 non-null    object \n",
      " 1   Population                      171 non-null    object \n",
      " 2   Population_proportion_under_15  171 non-null    float64\n",
      " 3   Population_proportion_over_60   171 non-null    float64\n",
      " 4   Total_fertility_rate            171 non-null    object \n",
      "dtypes: float64(2), object(3)\n",
      "memory usage: 8.0+ KB\n"
     ]
    }
   ],
   "source": [
    "# 导入pandas模块，并以\"pd\"为该模块的简写\n",
    "import pandas as pd\n",
    "\n",
    "# 使用read_csv()函数，获取文件\"/Users/lulu/WHO生育率数据.csv\"，并赋值给df\n",
    "df = pd.read_csv(\"/Users/xiaojiangyue/programming-study-notes/Python/数据分析/lesson_8_output/lulu/WHO生育率数据.csv\")\n",
    "\n",
    "# 处理异常值\n",
    "# TODO 寻找\"Population_proportion_over_60\"列中的异常值\n",
    "# 小于等于0或者大于等于100的数据都是异常值\n",
    "# 并将寻找到的异常值DataFrame赋值给df_abnormal\n",
    "df_abnormal = df[(df[\"Population_proportion_over_60\"] >= 100) | (df[\"Population_proportion_over_60\"] <= 0)]\n",
    "\n",
    "# TODO 使用drop()函数，从原DataFrame中删除寻找到的异常值\n",
    "df.drop(index = df_abnormal.index, inplace = True)\n",
    "\n",
    "# 处理缺失值\n",
    "# TODO 使用fillna()函数，用\"unknown\"填充\"Total_fertility_rate\"列的缺失值\n",
    "df[\"Total_fertility_rate\"].fillna(\"unknown\", inplace = True)\n",
    "\n",
    "# 输出df.info()\n",
    "df.info()"
   ]
  }
 ],
 "metadata": {
  "kernelspec": {
   "display_name": "Python 3",
   "language": "python",
   "name": "python3"
  },
  "language_info": {
   "codemirror_mode": {
    "name": "ipython",
    "version": 3
   },
   "file_extension": ".py",
   "mimetype": "text/x-python",
   "name": "python",
   "nbconvert_exporter": "python",
   "pygments_lexer": "ipython3",
   "version": "3.8.8"
  }
 },
 "nbformat": 4,
 "nbformat_minor": 5
}

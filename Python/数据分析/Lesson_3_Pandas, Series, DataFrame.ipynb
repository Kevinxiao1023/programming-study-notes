{
 "cells": [
  {
   "cell_type": "markdown",
   "id": "8b05483d",
   "metadata": {},
   "source": [
    "昨天，我们学习了NumPy中的array数组，和它可以直接进行计算的特性。这在数据分析中，是大部分计算功能的基石。\n",
    "\n",
    "在入门课，我们学了字典，可以通过字典的key访问对应的value，但是value不能直接进行批量计算。\n",
    "\n",
    "那么，有没有既能进行计算，同时又带有索引来允许我们快捷访问的数据类型呢？"
   ]
  },
  {
   "cell_type": "markdown",
   "id": "efaae9fd",
   "metadata": {},
   "source": [
    "今天，我们将开始pandas模块的学习。\n",
    "\n",
    "pandas是一个基于NumPy的模块，它的功能在于数据的筛选清洗和处理。\n",
    "\n",
    "接下来，将分别从以下几个方面来学习pandas模块的两大核心数据类型：Series和DataFrame\n",
    "1. 了解Series，并构造一个Series\n",
    "2. 了解DataFrame，并构造一个DataFrame\n",
    "3. index属性和values属性"
   ]
  },
  {
   "cell_type": "markdown",
   "id": "86ec10a2",
   "metadata": {},
   "source": [
    "在使用pandas前，我们需要先安装pandas。\n",
    "\n",
    "在终端中输入代码：`pip install pandas`即可。\n",
    "\n",
    "如果在自己电脑上安装不上或安装缓慢，可在命令后添加如下配置进行加速：\n",
    "`pip install pandas -i https://pypi.tuna.tsinghua.edu.cn/simple/`"
   ]
  },
  {
   "cell_type": "markdown",
   "id": "f787c9e8",
   "metadata": {},
   "source": [
    "在使用pandas模块最开始，由于pandas不是Python的内置模块，我们需要在代码的开头，将pandas模块导入。\n",
    "\n",
    "为了让其方便调用，我们通常会将其简写成pd。"
   ]
  },
  {
   "cell_type": "markdown",
   "id": "53acce07",
   "metadata": {},
   "source": [
    "# Series"
   ]
  },
  {
   "cell_type": "markdown",
   "id": "c6052abc",
   "metadata": {},
   "source": [
    "导入了pandas模块，我们就可以进行数据集的操作啦。\n",
    "\n",
    "我们先学习Series这一数据类型，并尝试通过Series构造函数，创建一个这样的数据类型。"
   ]
  },
  {
   "cell_type": "markdown",
   "id": "aeefb566",
   "metadata": {},
   "source": [
    "Series，中文叫做序列，pandas模块的一种数据类型。\n",
    "\n",
    "是一个一维的、带索引（index）的数组对象。\n",
    "\n",
    "目前可以先不关注代码的部分，只关注Series。       \n",
    "\n",
    "Series，就像排行榜，可以通过有次序的名次，找到对应的玩家名字。"
   ]
  },
  {
   "cell_type": "markdown",
   "id": "eff4ec10",
   "metadata": {},
   "source": [
    "print出来的Series，它由3部分构成。\n",
    "\n",
    "左侧是索引(index)，右侧是值(values)，下面是值(values)的数据类型。\n",
    "\n",
    "一个索引对应一个值。索引和值之间，有空格隔开。"
   ]
  },
  {
   "cell_type": "markdown",
   "id": "81b301e5",
   "metadata": {},
   "source": [
    "Series和字典，有一定的相似之处。\n",
    "\n",
    "一个字典中，通过键（key），可以访问所对应的值（value）。\n",
    "\n",
    "Series也是如此，一个Series的索引（index）在左边，值（values）在右边，可以通过左边的索引index访问到右边对应的值values。"
   ]
  },
  {
   "cell_type": "markdown",
   "id": "5eb18c4c",
   "metadata": {},
   "source": [
    "和字典不同的是：\n",
    "\n",
    "Series中的数据是有顺序的。\n",
    "\n",
    "除了直接通过index访问外，还能通过0，1，2这样的位置进行访问。"
   ]
  },
  {
   "cell_type": "markdown",
   "id": "b708d617",
   "metadata": {},
   "source": [
    "Series的index是可以定义的。\n",
    "\n",
    "如果没有定义index，index就会默认从0开始生成。"
   ]
  },
  {
   "cell_type": "markdown",
   "id": "ff213b3b",
   "metadata": {},
   "source": [
    "Series的值（values）可以是多种数据类型：字符串、整型、浮点型、布尔型。\n",
    "\n",
    "一个Series在print输出时，值的数据类型会在底部，用dtype标示出来。\n",
    "\n",
    "需要注意的是，一个Series里的所有值，数据类型都是一样的。"
   ]
  },
  {
   "cell_type": "markdown",
   "id": "43de3ae9",
   "metadata": {},
   "source": [
    "# Series构造函数"
   ]
  },
  {
   "cell_type": "markdown",
   "id": "1f2bcd53",
   "metadata": {},
   "source": [
    "## pd.Series()"
   ]
  },
  {
   "cell_type": "markdown",
   "id": "0025c0be",
   "metadata": {},
   "source": [
    "这几行代码，构造了一个Series。\n",
    "\n",
    "* 第1行，导入pandas模块。\n",
    "* 第3行和第4行，定义了两个列表。\n",
    "* 第6行，使用pd.Series()构造函数，创建了一个Series，并赋值给了变量GDP。\n",
    "* 第8行，将创建的Series输出。"
   ]
  },
  {
   "cell_type": "code",
   "execution_count": 1,
   "id": "7b65c83e",
   "metadata": {},
   "outputs": [
    {
     "name": "stdout",
     "output_type": "stream",
     "text": [
      "GD    80855\n",
      "JS    77388\n",
      "SD    68024\n",
      "ZJ    47251\n",
      "HN    40471\n",
      "dtype: int64\n"
     ]
    }
   ],
   "source": [
    "import pandas as pd\n",
    "\n",
    "data = [80855, 77388, 68024, 47251, 40471]\n",
    "city = ['GD','JS','SD','ZJ','HN']\n",
    "\n",
    "GDP = pd.Series(data,index = city)\n",
    "\n",
    "print(GDP)"
   ]
  },
  {
   "cell_type": "markdown",
   "id": "7e45178d",
   "metadata": {},
   "source": [
    "pd.Series( )通过调用pandas模块里的Series()函数，可以构造一个Series。"
   ]
  },
  {
   "cell_type": "markdown",
   "id": "df575b57",
   "metadata": {},
   "source": [
    "## 第一个常用参数\n",
    "pd.Series()中，通常会传入一个列表list，来指定数据。\n",
    "\n",
    "默认情况下，如果不传入数据，会生成一个空的Series。\n",
    "\n",
    "示例中，将data这个列表传入pd.Series()函数中，列表中的元素会成为Series中的值（values）。"
   ]
  },
  {
   "cell_type": "markdown",
   "id": "053a686f",
   "metadata": {},
   "source": [
    "# 第二个常用参数：index\n",
    "在传入数据后，还可以通过index参数，来定义Series中的索引（index）。\n",
    "\n",
    "只需要将另一个列表list赋值给index参数，再传入pd.Series()函数中即可。\n",
    "\n",
    "示例中，我们将定义好的列表city，作为index参数的值传入。那么，city中的值，会成为Series的index。\n",
    "\n",
    "需要注意的是，作为index的列表，和作为值的列表，元素个数需要一致，如果不一致将会报错。\n",
    "\n",
    "如果不传入index这个参数，那么生成的Series的index就会默认从0开始生成。"
   ]
  },
  {
   "cell_type": "markdown",
   "id": "a8693826",
   "metadata": {},
   "source": [
    "## 赋值的变量\n",
    "将pd.Series()函数创建的Series，赋值给了GDP这个变量。\n",
    "\n",
    "将GDP输出可以看到，它是一个Series对象。\n",
    "\n",
    "其中，值（values）是由列表data的值组成，索引（index）是由列表city的值组成，值（values）的数据类型是整型。"
   ]
  },
  {
   "cell_type": "markdown",
   "id": "5b2aa21a",
   "metadata": {},
   "source": [
    "导入pandas模块后，我们定义了两个列表GDP和rank。\n",
    "\n",
    "我们尝试用Series构造函数，传入列表GDP作为Series的值，传入列表rank作为Series的index，赋值给变量info，并将其输出。"
   ]
  },
  {
   "cell_type": "code",
   "execution_count": 2,
   "id": "402de8c6",
   "metadata": {},
   "outputs": [
    {
     "name": "stdout",
     "output_type": "stream",
     "text": [
      "1    80855\n",
      "2    77388\n",
      "3    68024\n",
      "4    47251\n",
      "5    40471\n",
      "dtype: int64\n"
     ]
    }
   ],
   "source": [
    "# 导入pandas模块，简称pd\n",
    "import pandas as pd\n",
    "\n",
    "# 定义两个列表\n",
    "GDP =[80855, 77388, 68024, 47251, 40471]\n",
    "rank =[1, 2, 3, 4, 5]\n",
    "\n",
    "# TODO 使用Series构造函数，传入参数：列表GDP作为值，列表rank作为index\n",
    "# 构造出的Series赋值给info\n",
    "info = pd.Series(GDP, index = rank)\n",
    "\n",
    "# 输出info这个Series\n",
    "print(info)"
   ]
  },
  {
   "cell_type": "markdown",
   "id": "c251c003",
   "metadata": {},
   "source": [
    "# DataFrame"
   ]
  },
  {
   "cell_type": "markdown",
   "id": "1757fdb4",
   "metadata": {},
   "source": [
    "Pandas的另一种数据类型：DataFrame，许多特性上和Series有相似之处。\n",
    "\n",
    "接下来，我们将学习DataFrame这一数据类型和DataFrame构造函数～"
   ]
  },
  {
   "cell_type": "markdown",
   "id": "940f32b7",
   "metadata": {},
   "source": [
    "DataFrame，中文叫数据框。\n",
    "\n",
    "是pandas模块最常用的数据类型，是一个二维的矩阵数据表。\n",
    "\n",
    "DataFrame，就像是一个表格，可以非常便捷地存放数据。\n",
    "\n",
    "通过行和列，可以定位一个值。"
   ]
  },
  {
   "cell_type": "markdown",
   "id": "9c26b182",
   "metadata": {},
   "source": [
    "它由3部分组成：\n",
    "\n",
    "既有行索引（index），可以用来定位到具体的某一行。\n",
    "\n",
    "也有列索引（columns），用来定位到具体的某一列。\n",
    "\n",
    "通过index和columns，可以定位到一个值，能快速进行数据的筛选和定位。"
   ]
  },
  {
   "cell_type": "markdown",
   "id": "fe22d064",
   "metadata": {},
   "source": [
    "那DataFrame和Series之间有什么关系呢？\n",
    "\n",
    "在某种程度上，可以认为DataFrame是“具有相同index的Series的集合”。"
   ]
  },
  {
   "cell_type": "markdown",
   "id": "24db58e4",
   "metadata": {},
   "source": [
    "因此，DataFrame的一列当中，值的数据类型必须相同。\n",
    "\n",
    "但是列和列之间的数据类型可以不同。"
   ]
  },
  {
   "cell_type": "markdown",
   "id": "c0dfdfc6",
   "metadata": {},
   "source": [
    "同样的，和Series类似，DataFrame的行索引index是可以选择性定义的。\n",
    "\n",
    "如果没有定义index，index就会默认从0开始生成。\n",
    "\n",
    "而DataFrame的列索引columns，是必须进行定义的。"
   ]
  },
  {
   "cell_type": "markdown",
   "id": "55040bba",
   "metadata": {},
   "source": [
    "## DataFrame的轴"
   ]
  },
  {
   "cell_type": "markdown",
   "id": "c5a2b12b",
   "metadata": {},
   "source": [
    "DataFrame是一个二维的数据结构。\n",
    "\n",
    "因此，它有一个新的属性：轴（axis）。"
   ]
  },
  {
   "cell_type": "markdown",
   "id": "28def45e",
   "metadata": {},
   "source": [
    "轴(axis)，是用来描述超过一维的数组的一个属性。\n",
    "\n",
    "二维数组拥有两个轴，三维数组拥有三个轴，以此类推。\n",
    "\n",
    "对于DataFrame而言：        \n",
    "第0轴是垂直方向，一列一列的进行操作；        \n",
    "第1轴是水平方向，一行一行的进行操作。"
   ]
  },
  {
   "cell_type": "markdown",
   "id": "0c75454e",
   "metadata": {},
   "source": [
    "举一个例子🌰：\n",
    "\n",
    "如果要按行或者按列来对DataFrame内的数据进行求和，可以使用sum()函数。\n",
    "\n",
    "那么在sum()函数中，就可以使用axis参数来指定求和的方向。\n",
    "\n",
    "右侧展示了：\n",
    "\n",
    "当axis=0时，是在垂直的方向上进行求和操作；\n",
    "当axis=1时，是在水平的方向上进行求和操作。"
   ]
  },
  {
   "cell_type": "markdown",
   "id": "d1a2287e",
   "metadata": {},
   "source": [
    "## DataFrame的构造函数"
   ]
  },
  {
   "cell_type": "markdown",
   "id": "95774378",
   "metadata": {},
   "source": [
    "这几行代码，构造了一个DataFrame。\n",
    "\n",
    "第1行，导入pandas模块。       \n",
    "第3行，定义了一个字典。        \n",
    "第4行，定义了一个列表。         \n",
    "第6行，使用DataFrame构造函数创建了一个DataFrame，并赋值给了变量df。          \n",
    "第8行，将这个创建的DataFrame输出。"
   ]
  },
  {
   "cell_type": "code",
   "execution_count": 3,
   "id": "3115aa8f",
   "metadata": {},
   "outputs": [
    {
     "name": "stdout",
     "output_type": "stream",
     "text": [
      "    rank    GDP\n",
      "GD     1  80855\n",
      "JS     2  77388\n",
      "SD     3  68024\n",
      "ZJ     4  47251\n"
     ]
    }
   ],
   "source": [
    "import pandas as pd \n",
    "\n",
    "data= {'rank':[1, 2, 3, 4],'GDP':[80855, 77388, 68024, 47251]}\n",
    "city= ['GD','JS','SD','ZJ']\n",
    "\n",
    "df= pd.DataFrame(data, index=city)\n",
    "\n",
    "print(df)"
   ]
  },
  {
   "cell_type": "markdown",
   "id": "ff99b9a4",
   "metadata": {},
   "source": [
    "## pd.DataFrame( )\n",
    "通过调用的pandas模块里的DataFrame()函数，可以构造一个DataFrame。"
   ]
  },
  {
   "cell_type": "markdown",
   "id": "25b57b04",
   "metadata": {},
   "source": [
    "## 第一个常用参数\n",
    "pd.DataFrame()中，通常会传入一个字典dict，来指定数据。\n",
    "\n",
    "字典中的keys，会成为DataFrame的列索引columns；\n",
    "字典中的values是一个列表，列表中的值，会成为DataFrame的值values。\n",
    "\n",
    "如果不传入数据，会默认生成一个空的DataFrame。\n",
    "\n",
    "示例中，将data这个字典传入pd.DataFrame()函数中：\n",
    "'rank'和'GDP'成为了列索引columns，它们对应的values成为了生成的DataFrame的值。"
   ]
  },
  {
   "cell_type": "markdown",
   "id": "126e717b",
   "metadata": {},
   "source": [
    "需要特别注意的是，在构造DataFrame时，传入的字典必须是右侧所示的结构:\n",
    "\n",
    "字典的keys是对象；\n",
    "字典的values是对应的列表，并且每个列表中的元素个数相同。"
   ]
  },
  {
   "cell_type": "markdown",
   "id": "289fb83a",
   "metadata": {},
   "source": [
    "在构造过程中：\n",
    "\n",
    "字典中的keys，就成为了DataFrame中的列索引columns。\n",
    "\n",
    "字典中的values，就成为了DataFrame中的值values。"
   ]
  },
  {
   "cell_type": "markdown",
   "id": "42406b79",
   "metadata": {},
   "source": [
    "## 第二个常用参数：index\n",
    "在传入数据后，还可以通过index参数，来指定DataFrame的行索引（index）。\n",
    "\n",
    "只需要将一个列表list赋值给index参数，再传入pd.DataFrame()函数中即可。\n",
    "\n",
    "如果不传入index这个参数，那么生成的DataFrame的index就会默认从0开始生成。\n",
    "\n",
    "示例中，我们将定义好的列表city，作为index参数的值传入。那么，city中的值，会成为DataFrame的index。"
   ]
  },
  {
   "cell_type": "markdown",
   "id": "f65e78a7",
   "metadata": {},
   "source": [
    "## 赋值的变量\n",
    "将pd.DataFrame()函数创建的DataFrame，赋值给了df这个变量。\n",
    "\n",
    "将df输出可以看到，它是一个DataFrame对象。\n",
    "\n",
    "其中，列索引（columns）和值（values）是由字典data的值组成，行索引（index）是由列表city的值组成。"
   ]
  },
  {
   "cell_type": "markdown",
   "id": "e36b6929",
   "metadata": {},
   "source": [
    "我们来试一试，使用DataFrame构造函数，将定义的字典data和列表rank作为参数传入，生成一个DataFrame，并赋值给变量performance吧～"
   ]
  },
  {
   "cell_type": "code",
   "execution_count": 4,
   "id": "060e6fca",
   "metadata": {},
   "outputs": [
    {
     "name": "stdout",
     "output_type": "stream",
     "text": [
      "    name  score\n",
      "1    May    689\n",
      "2   Tony    659\n",
      "3  Kevin    635\n"
     ]
    }
   ],
   "source": [
    "# 导入pandas模块，简称pd\n",
    "import pandas as pd \n",
    "\n",
    "# 定义一个字典data\n",
    "data = {'name': ['May','Tony','Kevin'], 'score':[689,659,635]}\n",
    "# 定义一个列表rank\n",
    "rank = [1,2,3]\n",
    "\n",
    "# TODO 使用pd.DataFrame()函数，传入参数：字典data作为value和columns，列表rank作为index\n",
    "# 构造出的DataFrame赋值给performance\n",
    "performance = pd.DataFrame(data, index = rank)\n",
    "\n",
    "\n",
    "# 输出performance这个DataFrame\n",
    "print(performance)"
   ]
  },
  {
   "cell_type": "markdown",
   "id": "aa8a91cf",
   "metadata": {},
   "source": [
    "Series 和 DataFrame这两种数据结构，具有丰富的函数和属性，用于操作其中的数据。\n",
    "\n",
    "最常用的两个属性分别是：index属性和values属性。"
   ]
  },
  {
   "cell_type": "markdown",
   "id": "531d9c80",
   "metadata": {},
   "source": [
    "# index属性"
   ]
  },
  {
   "cell_type": "markdown",
   "id": "6f37f2c0",
   "metadata": {},
   "source": [
    "我们可以直接访问Series和DataFrame的`.index`属性，来获取它们的index。\n",
    "\n",
    "访问Series对象的`.index`属性，可以获取这个Series的索引。\n",
    "\n",
    "访问DataFrame对象的`.index`属性，可以获取这个DataFrame的行索引index。"
   ]
  },
  {
   "cell_type": "markdown",
   "id": "d89b9c97",
   "metadata": {},
   "source": [
    "示例中，我们通过访问DataFrame对象的.index属性，获取了df变量的行索引index，并使用print()直接将其输出。\n",
    "\n",
    "根据输出可以看到，df的index就是列表city所存储的值。"
   ]
  },
  {
   "cell_type": "code",
   "execution_count": 5,
   "id": "975a3958",
   "metadata": {},
   "outputs": [
    {
     "name": "stdout",
     "output_type": "stream",
     "text": [
      "Index(['GD', 'JS', 'SD', 'ZJ'], dtype='object')\n"
     ]
    }
   ],
   "source": [
    "# 定义一个字典和一个列表\n",
    "data = {'rank':[1, 2, 3, 4],'GDP':[80855, 77388, 68024, 47251]}\n",
    "city = ['GD','JS','SD','ZJ']\n",
    "\n",
    "# 使用DataFrame构造函数，传入参数：字典data作为values和columns，列表city作为index\n",
    "# 构造出的DataFrame赋值给df\n",
    "df = pd.DataFrame(data, index=city)\n",
    "\n",
    "# 用print输出此时df的index属性结果\n",
    "print(df.index)"
   ]
  },
  {
   "cell_type": "markdown",
   "id": "30fb67df",
   "metadata": {},
   "source": [
    "在使用.index属性获取到一个对象的index后，我们还可以通过其进行直接赋值，来改变一个对象的index。\n",
    "\n",
    "示例中，我们先使用列表city构造了df，并将df输出进行查看。         \n",
    "然后，将df的index改为了列表city_CN的值，并将此时的df输出进行查看："
   ]
  },
  {
   "cell_type": "code",
   "execution_count": 6,
   "id": "50147d8f",
   "metadata": {},
   "outputs": [
    {
     "name": "stdout",
     "output_type": "stream",
     "text": [
      "    rank    GDP\n",
      "GD     1  80855\n",
      "JS     2  77388\n",
      "SD     3  68024\n",
      "ZJ     4  47251\n",
      "    rank    GDP\n",
      "广东     1  80855\n",
      "江苏     2  77388\n",
      "山东     3  68024\n",
      "浙江     4  47251\n"
     ]
    }
   ],
   "source": [
    "# 导入pandas模块，简称pd\n",
    "import pandas as pd\n",
    "\n",
    "# 定义一个字典和一个列表\n",
    "data= {'rank':[1, 2, 3, 4],'GDP':[80855, 77388, 68024, 47251]}\n",
    "city= ['GD','JS','SD','ZJ']\n",
    "\n",
    "# 使用DataFrame构造函数，传入参数：字典data作为values和columns，列表city作为index\n",
    "# 构造出的DataFrame赋值给df\n",
    "df= pd.DataFrame(data, index=city)\n",
    "\n",
    "# 用print输出此时的df\n",
    "print(df)\n",
    "\n",
    "# 定义一个新的列表city_CN\n",
    "city_CN = ['广东','江苏','山东','浙江']\n",
    "\n",
    "# TODO 将新列表city_CN赋值给df的index\n",
    "df.index = city_CN\n",
    "\n",
    "# 用print输出此时的df\n",
    "print(df)"
   ]
  },
  {
   "cell_type": "markdown",
   "id": "f3e6a1d1",
   "metadata": {},
   "source": [
    "# values属性"
   ]
  },
  {
   "cell_type": "markdown",
   "id": "dda7bac1",
   "metadata": {},
   "source": [
    "和index属性一样，我们可以直接访问Series和DataFrame的`.values`属性，来获取它们的值。\n",
    "\n",
    "访问一个Series对象的`.values`属性，可以获取这个Series的值values。\n",
    "\n",
    "访问一个DataFrame对象的`.values`属性，可以获取这个DataFrame的值values。"
   ]
  },
  {
   "cell_type": "markdown",
   "id": "38d7be84",
   "metadata": {},
   "source": [
    "获取到的Series和DataFrame的values，其实是一个数组。\n",
    "\n",
    "还记得我们上节课学的ndarray吗？没错，Series和DataFrame的values，就是一个ndarray。\n",
    "\n",
    "因此，Series和DataFrame的values，可以像数组一样，直接进行批量计算。\n",
    "\n",
    "我们会在之后的课程中应用到这个知识点～"
   ]
  },
  {
   "cell_type": "markdown",
   "id": "7b3bc54c",
   "metadata": {},
   "source": [
    "# 百题斩题目"
   ]
  },
  {
   "cell_type": "markdown",
   "id": "619568b6",
   "metadata": {},
   "source": [
    "## 亚洲人口数变化\n",
    "使用下列两个列表，构造一个Series：\n",
    "year = [1952,1957,1962,1967,1972]        \n",
    "count = [842,924,1026,1153,1307]\n",
    "\n",
    "让列表year作为Series的index，列表count作为Series的values，来描绘从1952年到1972年，每隔5年，亚洲的总人口数。\n",
    "\n",
    "最后，别忘记将结果输出哦～"
   ]
  },
  {
   "cell_type": "code",
   "execution_count": 7,
   "id": "b1f4faa9",
   "metadata": {},
   "outputs": [
    {
     "name": "stdout",
     "output_type": "stream",
     "text": [
      "1952     842\n",
      "1957     924\n",
      "1962    1026\n",
      "1967    1153\n",
      "1972    1307\n",
      "dtype: int64\n"
     ]
    }
   ],
   "source": [
    "# TODO 导入pandas模块，并简称为\"pd\"\n",
    "import pandas as pd\n",
    "\n",
    "# TODO 依次定义year和count这两个列表\n",
    "year = [1952,1957,1962,1967,1972]\n",
    "count = [842,924,1026,1153,1307]\n",
    "\n",
    "# TODO 使用pd.Series()函数构造指定Series\n",
    "# 将count作为values，year作为index\n",
    "# 把结果赋值给变量pop\n",
    "pop = pd.Series(count, index = year)\n",
    "\n",
    "# TODO 使用print()输出变量pop\n",
    "print(pop)"
   ]
  },
  {
   "cell_type": "markdown",
   "id": "318d1a36",
   "metadata": {},
   "source": [
    "## 各大洲的人均寿命和GDP\n",
    "使用下面的字典和列表，构造一个DataFrame，来描绘2007年各大洲，人均寿命和平均GDP。\n",
    "\n",
    "```\n",
    "info = {'lifeExp':[54.8,73.6,70.7,77.6,80.7], 'gdpPercap':[3089,11003,12473,25054,29810]}\n",
    "\n",
    "continent =['Africa','America','Asia','Europe','Oceania']\n",
    "```"
   ]
  },
  {
   "cell_type": "code",
   "execution_count": 8,
   "id": "96f85b08",
   "metadata": {},
   "outputs": [
    {
     "name": "stdout",
     "output_type": "stream",
     "text": [
      "         lifeExp  gdpPercap\n",
      "Africa      54.8       3089\n",
      "America     73.6      11003\n",
      "Asia        70.7      12473\n",
      "Europe      77.6      25054\n",
      "Oceania     80.7      29810\n"
     ]
    }
   ],
   "source": [
    "# TODO 导入pandas模块，并简称为\"pd\"\n",
    "import pandas as pd\n",
    "\n",
    "# TODO 依次定义字典info和列表continent\n",
    "info = {'lifeExp': [54.8, 73.6, 70.7, 77.6, 80.7], 'gdpPercap':[3089,11003,12473,25054,29810]}\n",
    "continent =['Africa','America','Asia','Europe','Oceania']\n",
    "\n",
    "# TODO 使用pd.DataFrame()函数构造指定DataFrame\n",
    "# 把字典info作为values和columns，列表continent作为index\n",
    "# 将结果赋值给变量df\n",
    "df = pd.DataFrame(info, index = continent)\n",
    "\n",
    "# TODO 使用print()输出df\n",
    "print(df)"
   ]
  },
  {
   "cell_type": "markdown",
   "id": "45bd1d08",
   "metadata": {},
   "source": [
    "## 费用预算\n",
    "CC是某电商项目的负责人。\n",
    "\n",
    "现在，她需要分析该项目第三季度和第四季度的费用预算。\n",
    "项目预算表（数据单位：千元）如图所示：\n",
    "\n",
    "根据表格中标记的数据，帮助CC把 第三季度和第四季度的费用预算 用DataFrame的数据格式表示出来。\n",
    "\n",
    "在代码最后，依次输出对应的DataFrame，和DataFrame的index以及values～"
   ]
  },
  {
   "cell_type": "code",
   "execution_count": 9,
   "id": "f64cdca3",
   "metadata": {},
   "outputs": [
    {
     "name": "stdout",
     "output_type": "stream",
     "text": [
      "        第三季度  第四季度\n",
      "平台费用      55    52\n",
      "推广费用     170   123\n",
      "管理费用      73    62\n",
      "物流损耗费用    52    58\n",
      "仓储费用      36    44\n",
      "Index(['平台费用', '推广费用', '管理费用', '物流损耗费用', '仓储费用'], dtype='object')\n",
      "[[ 55  52]\n",
      " [170 123]\n",
      " [ 73  62]\n",
      " [ 52  58]\n",
      " [ 36  44]]\n"
     ]
    }
   ],
   "source": [
    "# TODO 导入pandas模块\n",
    "import pandas as pd\n",
    "\n",
    "# TODO 定义一个表示各季度费用预算的字典\n",
    "season = {'第三季度':[55, 170, 73, 52, 36], '第四季度': [52, 123, 62, 58, 44]}\n",
    "\n",
    "# TODO 定义一个表示各项费用名称的列表\n",
    "fee = ['平台费用', '推广费用', '管理费用', '物流损耗费用', '仓储费用']\n",
    "\n",
    "# TODO 构造DataFrame\n",
    "df = pd.DataFrame(season, index = fee)\n",
    "\n",
    "# TODO 输出构造好的DataFrame\n",
    "print(df)\n",
    "\n",
    "# TODO 输出DataFrame的index\n",
    "print(df.index)\n",
    "\n",
    "# TODO 输出DataFrame的values\n",
    "print(df.values)"
   ]
  }
 ],
 "metadata": {
  "kernelspec": {
   "display_name": "Python 3",
   "language": "python",
   "name": "python3"
  },
  "language_info": {
   "codemirror_mode": {
    "name": "ipython",
    "version": 3
   },
   "file_extension": ".py",
   "mimetype": "text/x-python",
   "name": "python",
   "nbconvert_exporter": "python",
   "pygments_lexer": "ipython3",
   "version": "3.8.8"
  }
 },
 "nbformat": 4,
 "nbformat_minor": 5
}

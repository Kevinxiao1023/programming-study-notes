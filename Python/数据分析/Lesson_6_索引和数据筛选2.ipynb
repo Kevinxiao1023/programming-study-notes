{
 "cells": [
  {
   "cell_type": "markdown",
   "id": "523c5a2e",
   "metadata": {},
   "source": [
    "今天，我们将继续学习第3种索引方式：布尔索引 。\n",
    "\n",
    "面对大型数据时，用于获取数据的行索引和列索引往往不确定，通常我们需要寻找满足或不满足特定计算或条件的值。\n",
    "\n",
    "这时候，我们就需要用到 布尔索引 来筛选出符合要求的数据。"
   ]
  },
  {
   "cell_type": "markdown",
   "id": "5d8c10da",
   "metadata": {},
   "source": [
    "# 布尔索引：一个判断条件"
   ]
  },
  {
   "cell_type": "markdown",
   "id": "ecb731bf",
   "metadata": {},
   "source": [
    "让我们来考虑以下例子：\n",
    "\n",
    "假设在读取电商数据时，我们想要输出所有 \"cutdown_price\"（优惠价格）大于0 的行数据，该怎么做呢？"
   ]
  },
  {
   "cell_type": "markdown",
   "id": "dfd80d74",
   "metadata": {},
   "source": [
    "首先，因为我们想找到 \"cutdown_price\" 这一列中大于0的值，所以需要在读取电商数据后，通过列索引获取该列的所有数据。\n",
    "\n",
    "具体代码如下："
   ]
  },
  {
   "cell_type": "code",
   "execution_count": 1,
   "id": "5a0d791b",
   "metadata": {},
   "outputs": [
    {
     "name": "stdout",
     "output_type": "stream",
     "text": [
      "0           0\n",
      "1           0\n",
      "2           0\n",
      "3           0\n",
      "4           0\n",
      "         ... \n",
      "85647    1000\n",
      "85648       0\n",
      "85649       0\n",
      "85650       0\n",
      "85651       0\n",
      "Name: cutdown_price, Length: 85652, dtype: int64\n"
     ]
    }
   ],
   "source": [
    "# 导入pandas模块，并以\"pd\"为该模块的简写\n",
    "import pandas as pd\n",
    "\n",
    "# 使用pd.read_csv()函数读取路径为 \"/Users/yequ/电商数据清洗.csv\" 的CSV文件，并将结果赋值给变量data\n",
    "data = pd.read_csv(\"/Users/xiaojiangyue/programming-study-notes/Python/数据分析/lesson_4_output/yequ/电商数据清洗.csv\")\n",
    "\n",
    "# TODO 使用print()和列索引输出\"cutdown_price\"这一列数据\n",
    "print(data[\"cutdown_price\"])"
   ]
  },
  {
   "cell_type": "markdown",
   "id": "17682be6",
   "metadata": {},
   "source": [
    "访问了 \"cutdown_price\" 这一列数据后，我们就需要判断该列中哪些值大于0。\n",
    "\n",
    "如果大于0，我们就把对应的那一行数据保留下来。"
   ]
  },
  {
   "cell_type": "markdown",
   "id": "2c531172",
   "metadata": {},
   "source": [
    "判断 \"cutdown_price\" 这一列数据中哪些值大于0，可以使用比较运算中的大于（>）来写一个条件表达式：data[\"cutdown_price\"]>0\n",
    "\n",
    "与我们之前学的数学操作类似，这时候该列的数据会逐个和0进行比较操作，每一行都会返回一个对应的布尔值，从而得到一个布尔型Series：\n",
    "\n",
    "True表示该行的\"cutdown_price\"大于0；\n",
    "False表示该行的\"cutdown_price\"小于等于0。\n",
    "\n",
    "根据右图可以看到，\"cutdown_price\"这一列里，第85647行的数据是1000，大于0，所以返回的布尔值是True。      \n",
    "\n",
    "我们来试试，使用比较运算中的大于等于（>=）来写一个条件表达式，判断一下data变量里，\"cutdown_price\"这一列哪些值大于等于500。"
   ]
  },
  {
   "cell_type": "code",
   "execution_count": 2,
   "id": "fa580082",
   "metadata": {},
   "outputs": [
    {
     "name": "stdout",
     "output_type": "stream",
     "text": [
      "0        False\n",
      "1        False\n",
      "2        False\n",
      "3        False\n",
      "4        False\n",
      "         ...  \n",
      "85647     True\n",
      "85648    False\n",
      "85649    False\n",
      "85650    False\n",
      "85651    False\n",
      "Name: cutdown_price, Length: 85652, dtype: bool\n"
     ]
    }
   ],
   "source": [
    "# 导入pandas模块，并以\"pd\"为该模块的简写\n",
    "import pandas as pd\n",
    "\n",
    "# 使用pd.read_csv()函数读取路径为 \"/Users/yequ/电商数据清洗.csv\" 的CSV文件，并将结果赋值给变量data\n",
    "data = pd.read_csv(\"/Users/xiaojiangyue/programming-study-notes/Python/数据分析/lesson_4_output/yequ/电商数据清洗.csv\")\n",
    "\n",
    "# TODO 使用列索引筛选出\"cutdown_price\"这一列数据\n",
    "# 同时使用比较运算判断这一列哪些值大于等于500\n",
    "# 并使用print()将结果直接输出\n",
    "print(data[\"cutdown_price\"] >= 500)"
   ]
  },
  {
   "cell_type": "markdown",
   "id": "7a25c327",
   "metadata": {},
   "source": [
    "在得到了一个布尔型Series后，我们就可以把True对应位置的行保留下来，作为新的DataFrame返回。\n",
    "\n",
    "这样，就可以获取到所有 \"cutdown_price\" 大于0的行数据啦。"
   ]
  },
  {
   "cell_type": "markdown",
   "id": "6ddf2244",
   "metadata": {},
   "source": [
    "要将所有返回为True的对应行数据保留下来，就需要用到布尔索引。\n",
    "\n",
    "将刚刚写的条件表达式传入DataFrame对象后的 中括号 里作为布尔索引即可。\n",
    "\n",
    "布尔索引会把判断结果为True的行数据直接返回，从而达到筛选数据的效果。"
   ]
  },
  {
   "cell_type": "code",
   "execution_count": 3,
   "id": "5ef3b4fe",
   "metadata": {},
   "outputs": [
    {
     "name": "stdout",
     "output_type": "stream",
     "text": [
      "          id  order_id   user_id  payment  price  items_count  cutdown_price  \\\n",
      "9         10   3515721  57070466     3121   6121            9           3000   \n",
      "26        27   3515738  16557313     8550   9550            8           1000   \n",
      "27        28   3515739  28057189     3850   4850            5           1000   \n",
      "34        36   3515747  55532544     5000   5500            4            500   \n",
      "42        44   3515755  65095903     8600   9100            2            500   \n",
      "...      ...       ...       ...      ...    ...          ...            ...   \n",
      "85607  86086   3601797  55758001     3900   4900            6           1000   \n",
      "85615  86094   3601805  69102587     5500   6500            3           1000   \n",
      "85639  86120   3601831  38347563      190   2190            3           3000   \n",
      "85646  86127   3601838  65136701     4150   5150            3           1000   \n",
      "85647  86128   3601839  80511560     4601   5601            4           1000   \n",
      "\n",
      "       post_fee  pay_type      create_time         pay_time  \n",
      "9             0     202.0    2018/2/1 3:23    2018/2/1 3:23  \n",
      "26            0       NaN    2018/2/1 9:05    2018/2/1 9:12  \n",
      "27            0     202.0    2018/2/1 9:11    2018/2/1 9:11  \n",
      "34            0     202.0   2018/2/1 10:56   2018/2/1 10:56  \n",
      "42            0     102.0   2018/2/1 12:33   2018/2/1 12:35  \n",
      "...         ...       ...              ...              ...  \n",
      "85607         0     202.0  2018/7/24 12:28  2018/7/24 12:28  \n",
      "85615         0     102.0  2018/7/20 10:22  2018/7/20 10:24  \n",
      "85639      1000     202.0  2018/7/20 14:22  2018/7/20 14:23  \n",
      "85646         0     202.0  2018/7/20 14:59  2018/7/20 14:59  \n",
      "85647         0     202.0  2018/7/20 15:02  2018/7/20 15:02  \n",
      "\n",
      "[17939 rows x 11 columns]\n"
     ]
    }
   ],
   "source": [
    "# 导入pandas模块，并以\"pd\"为该模块的简写\n",
    "import pandas as pd\n",
    "\n",
    "# 使用pd.read_csv()函数读取路径为 \"/Users/yequ/电商数据清洗.csv\" 的CSV文件，并将结果赋值给变量data\n",
    "data = pd.read_csv(\"/Users/xiaojiangyue/programming-study-notes/Python/数据分析/lesson_4_output/yequ/电商数据清洗.csv\")\n",
    "\n",
    "# 使用print()和布尔索引，输出\"cutdown_price\"这一列值里大于0的行\n",
    "print(data[data[\"cutdown_price\"]>0])"
   ]
  },
  {
   "cell_type": "markdown",
   "id": "1d53a974",
   "metadata": {},
   "source": [
    "从输出的内容可以看到，返回的DataFrame就是data变量里，所有\"cutdown_price\"这一列值里大于0的行数据。\n",
    "\n",
    "这时的行索引index就类似于一个书签，用于标记位置，不影响内容。\n",
    "\n",
    "根据行索引index，就能很快地知道原数据data变量里的第10行、第27行、第28行、......的cutdown_price都大于0。"
   ]
  },
  {
   "cell_type": "markdown",
   "id": "3d06ad1e",
   "metadata": {},
   "source": [
    "1. 要筛选的数据        \n",
    "\n",
    "data是需要进行筛选的DataFrame对象。"
   ]
  },
  {
   "cell_type": "markdown",
   "id": "3a4054b6",
   "metadata": {},
   "source": [
    "2. 第一个中括号         \n",
    "\n",
    "第一个中括号，也就是最外面的中括号，表示对变量data进行索引。"
   ]
  },
  {
   "cell_type": "markdown",
   "id": "6b391802",
   "metadata": {},
   "source": [
    "3. 条件表达式          \n",
    "\n",
    "中括号里的内容是通过一个条件表达式，来判断\"cutdown_price\"这一列值里是否大于0。\n",
    "\n",
    "pandas通过这个条件表达式得到一个布尔型Series，再通过这个Series来索引数据。"
   ]
  },
  {
   "cell_type": "markdown",
   "id": "26659979",
   "metadata": {},
   "source": [
    "4. 访问列数据         \n",
    "\n",
    "按data[\"columns\"]的形式访问\"cutdown_price\"这一列数据。"
   ]
  },
  {
   "cell_type": "markdown",
   "id": "6fb2aaa6",
   "metadata": {},
   "source": [
    "5. 比较运算\n",
    "\n",
    "通过大于（>）来判断\"cutdown_price\"列的数据是否大于0。"
   ]
  },
  {
   "cell_type": "markdown",
   "id": "c9a1a427",
   "metadata": {},
   "source": [
    "在实际应用中，只要是通过比较运算返回的判断结果（一个布尔型Series），就可以进行布尔索引。\n",
    "\n",
    "比如，常见的比较运算有：==、 >、<、>=、<=、!=，以及接下来会学的一些逻辑判断 。"
   ]
  },
  {
   "cell_type": "markdown",
   "id": "78b07605",
   "metadata": {},
   "source": [
    "刚刚，我们学习了在只有一个判断条件时，如何使用布尔索引筛选数据。\n",
    "\n",
    "如果我们想构建多个判断条件，就需要用到逻辑运算符。"
   ]
  },
  {
   "cell_type": "markdown",
   "id": "91393bb9",
   "metadata": {},
   "source": [
    "# 布尔索引：多个判断条件"
   ]
  },
  {
   "cell_type": "markdown",
   "id": "1238f207",
   "metadata": {},
   "source": [
    "在pandas模块中，逻辑运算符有以下几种：\n",
    "\n",
    "* & 表示并且\n",
    "* | 表示或者\n",
    "* ~ 表示否定"
   ]
  },
  {
   "cell_type": "markdown",
   "id": "572706ea",
   "metadata": {},
   "source": [
    "注意：&等符号是进行批量判断的，而and，or等符号只能对单个数值进行判断。"
   ]
  },
  {
   "cell_type": "markdown",
   "id": "972c983d",
   "metadata": {},
   "source": [
    "&（并且）：运算符两边的布尔值均为True时，运算结果才为True，其他情况为False。\n",
    "\n",
    "｜（或者）：运算符两边的布尔值至少有一个为True时运算结果就为True，仅当两边的布尔值都是False 时结果才为False。\n",
    "\n",
    "~（非）：仅有一个布尔值参与运算，运算结果为对这个布尔值取反。"
   ]
  },
  {
   "cell_type": "markdown",
   "id": "8bd19ef9",
   "metadata": {},
   "source": [
    "让我们来思考以下例子：\n",
    "\n",
    "假设在读取电商数据时，我们想要输出所有 \"cutdown_price\"大于0 和 \"post_fee\"大于0 的行，该怎么做呢？"
   ]
  },
  {
   "cell_type": "markdown",
   "id": "d61b1dca",
   "metadata": {},
   "source": [
    "我们可以先通过刚刚学到的知识，分别获取 \"cutdown_price\" 大于0 的行数据和 \"post_fee\" 大于0 的行数据。\n",
    "\n",
    "具体代码如下："
   ]
  },
  {
   "cell_type": "code",
   "execution_count": 4,
   "id": "6cb737a1",
   "metadata": {},
   "outputs": [
    {
     "name": "stdout",
     "output_type": "stream",
     "text": [
      "          id  order_id   user_id  payment  price  items_count  cutdown_price  \\\n",
      "9         10   3515721  57070466     3121   6121            9           3000   \n",
      "26        27   3515738  16557313     8550   9550            8           1000   \n",
      "27        28   3515739  28057189     3850   4850            5           1000   \n",
      "34        36   3515747  55532544     5000   5500            4            500   \n",
      "42        44   3515755  65095903     8600   9100            2            500   \n",
      "...      ...       ...       ...      ...    ...          ...            ...   \n",
      "85607  86086   3601797  55758001     3900   4900            6           1000   \n",
      "85615  86094   3601805  69102587     5500   6500            3           1000   \n",
      "85639  86120   3601831  38347563      190   2190            3           3000   \n",
      "85646  86127   3601838  65136701     4150   5150            3           1000   \n",
      "85647  86128   3601839  80511560     4601   5601            4           1000   \n",
      "\n",
      "       post_fee  pay_type      create_time         pay_time  \n",
      "9             0     202.0    2018/2/1 3:23    2018/2/1 3:23  \n",
      "26            0       NaN    2018/2/1 9:05    2018/2/1 9:12  \n",
      "27            0     202.0    2018/2/1 9:11    2018/2/1 9:11  \n",
      "34            0     202.0   2018/2/1 10:56   2018/2/1 10:56  \n",
      "42            0     102.0   2018/2/1 12:33   2018/2/1 12:35  \n",
      "...         ...       ...              ...              ...  \n",
      "85607         0     202.0  2018/7/24 12:28  2018/7/24 12:28  \n",
      "85615         0     102.0  2018/7/20 10:22  2018/7/20 10:24  \n",
      "85639      1000     202.0  2018/7/20 14:22  2018/7/20 14:23  \n",
      "85646         0     202.0  2018/7/20 14:59  2018/7/20 14:59  \n",
      "85647         0     202.0  2018/7/20 15:02  2018/7/20 15:02  \n",
      "\n",
      "[17939 rows x 11 columns]\n",
      "          id  order_id   user_id  payment  price  items_count  cutdown_price  \\\n",
      "6          7   3515718  39118114     3700   2700            2              0   \n",
      "11        12   3515723  70201769     3700   2700            2              0   \n",
      "12        13   3515724  68874979     1800    800            2              0   \n",
      "13        14   3515725  58396308     4700   3700            2              0   \n",
      "32        34   3515745  54431694     2900   1900            4              0   \n",
      "...      ...       ...       ...      ...    ...          ...            ...   \n",
      "85617  86097   3601808  81646012     3700   2700            2              0   \n",
      "85635  86115   3601826  83543256     4700   3700            2              0   \n",
      "85636  86116   3601827  68919720     2700   1700            2              0   \n",
      "85637  86117   3601828  15944803     4700   3700            2              0   \n",
      "85639  86120   3601831  38347563      190   2190            3           3000   \n",
      "\n",
      "       post_fee  pay_type      create_time         pay_time  \n",
      "6          1000     102.0    2018/2/1 2:08    2018/2/1 2:08  \n",
      "11         1000     202.0    2018/2/1 4:49    2018/2/1 4:49  \n",
      "12         1000     202.0    2018/2/1 4:51    2018/2/1 4:51  \n",
      "13         1000     202.0    2018/2/1 5:06    2018/2/1 5:06  \n",
      "32         1000     202.0   2018/2/1 10:14   2018/2/1 10:15  \n",
      "...         ...       ...              ...              ...  \n",
      "85617      1000     202.0  2018/7/20 10:56  2018/7/20 10:58  \n",
      "85635      1000     202.0  2018/7/20 14:04  2018/7/20 14:05  \n",
      "85636      1000     202.0  2018/7/20 14:11  2018/7/20 14:11  \n",
      "85637      1000     102.0  2018/7/20 14:12  2018/7/20 14:13  \n",
      "85639      1000     202.0  2018/7/20 14:22  2018/7/20 14:23  \n",
      "\n",
      "[12950 rows x 11 columns]\n"
     ]
    }
   ],
   "source": [
    "# 导入pandas模块，并以\"pd\"为该模块的简写\n",
    "import pandas as pd\n",
    "\n",
    "# 使用pd.read_csv()函数读取路径为 \"/Users/yequ/电商数据清洗.csv\" 的CSV文件，并将结果赋值给变量data\n",
    "data = pd.read_csv(\"/Users/xiaojiangyue/programming-study-notes/Python/数据分析/lesson_4_output/yequ/电商数据清洗.csv\")\n",
    "\n",
    "# 使用print()和布尔索引输出\"cutdown_price\"这一列值里大于0的行数据\n",
    "print(data[data[\"cutdown_price\"]>0])\n",
    "# 使用print()和布尔索引输出\"post_fee\"这一列值里大于0的行数据\n",
    "print(data[data[\"post_fee\"]>0])"
   ]
  },
  {
   "cell_type": "markdown",
   "id": "e06d9aec",
   "metadata": {},
   "source": [
    "接下来，要同时输出 \"cutdown_price\"大于0 和 \"post_fee\"大于0的行数据，就需要在一个索引中，使用 & 来连接对应的两个判断条件。\n",
    "\n",
    "注意⚠️，当有多个判断条件时，每一个判断条件都需要用小括号( )括起来。\n",
    "\n",
    "这时，同时满足这两个判断题的行数据就会被筛选出来～"
   ]
  },
  {
   "cell_type": "code",
   "execution_count": 5,
   "id": "2ef7a00a",
   "metadata": {},
   "outputs": [
    {
     "name": "stdout",
     "output_type": "stream",
     "text": [
      "          id  order_id   user_id  payment  price  items_count  cutdown_price  \\\n",
      "62        64   3515775  56387250      700   2700            2           3000   \n",
      "69        71   3515782  12103835     -199    801            3           2000   \n",
      "74        77   3515788  43457070        0   1000            2           2000   \n",
      "337      340   3516051  38708714     3400   3400            2           1000   \n",
      "356      359   3516070  33346932      400   1400            2           2000   \n",
      "...      ...       ...       ...      ...    ...          ...            ...   \n",
      "84814  85292   3601003  55699908     3700   3700            2           1000   \n",
      "84926  85404   3601115  79171655      140   2140            4           3000   \n",
      "85255  85734   3601445  28653311     1700   3700            2           3000   \n",
      "85430  85909   3601620  21922736     1400   3400            2           3000   \n",
      "85639  86120   3601831  38347563      190   2190            3           3000   \n",
      "\n",
      "       post_fee  pay_type      create_time         pay_time  \n",
      "62         1000     202.0   2018/2/1 15:22   2018/2/1 15:22  \n",
      "69         1000     202.0    2018/2/2 0:26    2018/2/2 0:26  \n",
      "74         1000     202.0    2018/2/2 1:57    2018/2/2 1:57  \n",
      "337        1000     202.0    2018/2/3 2:14    2018/2/3 2:14  \n",
      "356        1000     202.0    2018/2/3 5:57    2018/2/3 5:57  \n",
      "...         ...       ...              ...              ...  \n",
      "84814      1000     202.0  2018/7/17 13:43  2018/7/17 13:52  \n",
      "84926      1000     202.0  2018/7/17 23:36  2018/7/17 23:36  \n",
      "85255      1000     202.0  2018/7/22 15:05  2018/7/22 15:05  \n",
      "85430      1000     302.0  2018/7/23 13:20  2018/7/23 13:20  \n",
      "85639      1000     202.0  2018/7/20 14:22  2018/7/20 14:23  \n",
      "\n",
      "[855 rows x 11 columns]\n"
     ]
    }
   ],
   "source": [
    "# 导入pandas模块，并以\"pd\"为该模块的简写\n",
    "import pandas as pd\n",
    "\n",
    "# 使用pd.read_csv() 函数读取路径为 \"/Users/yequ/电商数据清洗.csv\" 的CSV文件，并将结果赋值给变量data\n",
    "data = pd.read_csv(\"/Users/xiaojiangyue/programming-study-notes/Python/数据分析/lesson_4_output/yequ/电商数据清洗.csv\")\n",
    "\n",
    "# 使用print()和布尔索引\n",
    "# 输出\"cutdown_price\"这一列值里大于0\n",
    "# 和\"post_fee\"这一列值里大于0的行\n",
    "print(data[(data[\"cutdown_price\"]>0) & (data[\"post_fee\"]>0)])"
   ]
  },
  {
   "cell_type": "markdown",
   "id": "e6265221",
   "metadata": {},
   "source": [
    "# 百题斩题目"
   ]
  },
  {
   "cell_type": "markdown",
   "id": "42308dbb",
   "metadata": {},
   "source": [
    "## 挑选书籍\n",
    "阿亮是个热爱读书的人，他想买本评分高又便宜的外文书籍进行阅读，因此需要对高评分的书籍数据进行筛选。\n",
    "\n",
    "数据集的地址是： \"/Users/book/bestsellers.csv\"\n",
    "\n",
    "数据中有\"书籍\"，\"作者\"，\"评分\"，\"评论数\"，\"价格\"，\"年份\"，\"体裁\"这七列。\n",
    "请利用学过的知识，帮他筛选出评分最高中，价格最低的书籍信息并输出。"
   ]
  },
  {
   "cell_type": "code",
   "execution_count": 6,
   "id": "06a16cab",
   "metadata": {},
   "outputs": [
    {
     "name": "stdout",
     "output_type": "stream",
     "text": [
      "                                           书名               作者   评分  被查看次数  \\\n",
      "443  Brown Bear, Brown Bear, What Do You See?  Bill Martin Jr.  4.9  14344   \n",
      "458                        The Magnolia Story      Chip Gaines  4.9   7861   \n",
      "459               The Very Hungry Caterpillar       Eric Carle  4.9  19546   \n",
      "\n",
      "     价格    年份           体裁  \n",
      "443   5  2017      Fiction  \n",
      "458   5  2016  Non Fiction  \n",
      "459   5  2013      Fiction  \n"
     ]
    }
   ],
   "source": [
    "# 导入pandas，并使用\"pd\"作为该模块的简写\n",
    "import pandas as pd\n",
    "\n",
    "# TODO 获取文件\"/Users/book/bestsellers.csv\"，并赋值给data\n",
    "data = pd.read_csv(\"/Users/xiaojiangyue/programming-study-notes/Python/数据分析/lesson_6_output/book/bestsellers.csv\")\n",
    "\n",
    "# TODO 使用列索引和max()函数获取最高得分，并赋值给maxScore\n",
    "maxScore = data[\"评分\"].max()\n",
    "\n",
    "# TODO 使用布尔索引和maxScore获取所有拥有最高评分的数据，并赋值给maxData\n",
    "maxData = data[data[\"评分\"] == maxScore]\n",
    "\n",
    "# TODO 使用列索引和min()函数获取maxData中的最低价格，并赋值给lowestPrice\n",
    "lowestPrice = maxData[\"价格\"].min()\n",
    "\n",
    "# TODO 使用maxData、lowestPrice和布尔索引\n",
    "# 筛选出同时满足得分最高和价格最低的书籍信息，并赋值给result\n",
    "result = maxData[maxData[\"价格\"] == lowestPrice]\n",
    "\n",
    "# TODO 使用print()输出结果\n",
    "print(result)"
   ]
  },
  {
   "cell_type": "markdown",
   "id": "98fcd9cd",
   "metadata": {},
   "source": [
    "## 精准输出\n",
    "昨天我们帮助小董获取了信用卡额度的一些信息。\n",
    "\n",
    "今天，小董想输出性别是女性，职业是其他以及地址在四川的用户的行数据。\n",
    "\n",
    "在用户信息表中：\n",
    "\"sex\"列代表性别，其中 \"F\" 代表女性；\n",
    "\"career\"列代表职业；\n",
    "\"address\"列代表地址。\n",
    "\n",
    "请利用今天学习到的 列索引 和 布尔索引，来帮助小董找出满足指定条件的行数据吧，别忘记将结果输出哦～\n",
    "\n",
    "注意，本题中还需要用到 字符串筛选 这个知识点，请先点击提示进行学习。"
   ]
  },
  {
   "cell_type": "markdown",
   "id": "96c1c10b",
   "metadata": {},
   "source": [
    "* 字符串筛选\n",
    "\n",
    "用户开卡信息表中，\"address\"（地址）列的信息是由详细地址+邮编构成的。\n",
    "\n",
    "我们想筛选出\"address\"这一列中包含\"四川\"的数据，就需要判断这一列数据中哪些值包含\"四川\"这个字符串。\n",
    "\n",
    "这时候，就需要用到pandas模块中的：str.contains()函数。\n",
    "\n",
    "将要查找的字符串传入该函数中，就可以得到一个布尔型Series。我们可以通过返回的布尔型Series来索引数据。\n",
    "\n",
    "例如，我们使用pandas模块读取用户开卡信息表并赋值给变量data后，想判断\"address\"列中哪些值包含\"四川\"的代码如下：\n",
    "`data[\"address\"].str.contains(\"四川\")`\n",
    "\n",
    "最后的输出为一个布尔型Series：\n",
    "```\n",
    "0 False\n",
    "1 False\n",
    "2 False\n",
    "3 False\n",
    "4 False\n",
    "...\n",
    "4995 False\n",
    "4996 False\n",
    "4997 False\n",
    "4998 False\n",
    "4999 False\n",
    "Name: address, Length: 5000, dtype: bool\n",
    "```"
   ]
  },
  {
   "cell_type": "code",
   "execution_count": 7,
   "id": "9f4cd424",
   "metadata": {},
   "outputs": [
    {
     "name": "stdout",
     "output_type": "stream",
     "text": [
      "     name sex             ID_card  phone_number                email  \\\n",
      "938    陈莉   F  632300199311180616   13612035954  zougang@hotmail.com   \n",
      "3912   李洋   F  131024198207288855   14532078318     zchang@yahoo.com   \n",
      "\n",
      "         company career   credit_card_number  credit_limit  \\\n",
      "938     创亿科技有限公司     其他         503832109469        171192   \n",
      "3912  恒聪百汇传媒有限公司     其他  4686071490884544700        197808   \n",
      "\n",
      "         application_date                 address  \n",
      "938   2019-12-17 19:26:09  四川省建军市朝阳齐齐哈尔街n座 806800  \n",
      "3912  2020-06-08 15:43:26     四川省台北县东城陈路w座 492261  \n"
     ]
    }
   ],
   "source": [
    "# 导入pandas模块，并以\"pd\"为该模块的简写\n",
    "import pandas as pd\n",
    "\n",
    "# 使用pd.read_csv()函数读取路径为 \"/Users/find/信用卡用户信息.csv\" 的CSV文件，并将结果赋值给变量data\n",
    "data = pd.read_csv(\"/Users/xiaojiangyue/programming-study-notes/Python/数据分析/lesson_5_output/find/信用卡用户信息.csv\")\n",
    "\n",
    "# TODO 使用列索引和比较运算\n",
    "# 创建判断\"sex\"列中的数据等于\"F\"的判断条件，并赋值给变量female\n",
    "female = (data[\"sex\"] == \"F\")\n",
    "\n",
    "# TODO 使用列索引和比较运算\n",
    "# 创建判断\"career\"列中的数据等于\"其他\"的判断条件，并赋值给变量other\n",
    "other = (data[\"career\"] == \"其他\")\n",
    "\n",
    "# TODO 使用列索引和str.contains()函数\n",
    "# 创建判断\"address\"列中的数据包含\"四川\"的判断条件，并赋值给变量city\n",
    "city = (data[\"address\"].str.contains(\"四川\"))\n",
    "\n",
    "# TODO 使用布尔索引和创建的判断条件\n",
    "# 筛选出符合要求的数据，并赋值给变量result\n",
    "result = data[female & other & city]\n",
    "\n",
    "# TODO 使用print()输出结果\n",
    "print(result)"
   ]
  },
  {
   "cell_type": "markdown",
   "id": "74cedbde",
   "metadata": {},
   "source": [
    "## 初探“泰坦尼克号”\n",
    "泰坦尼克号沉没是历史上最著名的沉船事故之一。下图截取了部分来自网络上的数据，记录了船上的乘客存活情况。\n",
    "其中，PassengerId是乘客的id，Survived是存活情况（1代表存活，0代表未存活），Pclass是乘客所在的船舱号，分为1/2/3号船舱。\n",
    "\n",
    "请根据这份资料，利用今天学到的知识计算出1/2/3号各船舱的存活率，并在最后格式化输出这些信息。\n",
    "```\n",
    "存活率的公式为：\n",
    "存活率 = 存活人数/总人数\n",
    "\n",
    "输出示例为：\n",
    "1号船舱存活率是xx\n",
    "2号船舱存活率是xx\n",
    "3号船舱存活率是xx\n",
    "```\n",
    "本题中需要用到 计算数量 这个知识点，请先点击提示进行学习。"
   ]
  },
  {
   "cell_type": "markdown",
   "id": "7f623e7e",
   "metadata": {},
   "source": [
    "* 计算数量\n",
    "\n",
    "当需要对一组数据进行计数时，可以使用pandas模块中的count()函数。\n",
    "\n",
    "比如，我们要计算1号船舱的存活率，那么首先需要获取1号船舱的人数。\n",
    "\n",
    "具体的方式是，先通过布尔索引筛选出\"Pclass\"列中，所有是1的数据。\n",
    "\n",
    "再通过列索引选取\"PassengerId\"这一列。这样，我们就获取到所有在1号船舱的乘客id了。\n",
    "\n",
    "然后，对筛选后的数据集使用count()函数，就可以计算出1号船舱的总人数啦。\n",
    "\n",
    "具体代码为：\n",
    "```\n",
    "Pclass1 = df[(df[\"Pclass\"]==1)][\"PassengerId\"].count()\n",
    "print(Pclass1)\n",
    "```\n",
    "输出结果：\n",
    "`216`"
   ]
  },
  {
   "cell_type": "code",
   "execution_count": 8,
   "id": "e7cf1580",
   "metadata": {},
   "outputs": [
    {
     "name": "stdout",
     "output_type": "stream",
     "text": [
      "1号船舱存活率是0.6296296296296297\n",
      "2号船舱存活率是0.47282608695652173\n",
      "3号船舱存活率是0.24236252545824846\n"
     ]
    }
   ],
   "source": [
    "# 导入pandas模块，并以\"pd\"为该模块的简写\n",
    "import pandas as pd\n",
    "\n",
    "# 使用read_csv()函数，获取文件\"/Users/titanic/train.csv\"，并赋值给df\n",
    "df = pd.read_csv(\"/Users/xiaojiangyue/programming-study-notes/Python/数据分析/lesson_6_output/titanic/train.csv\")   \n",
    " \n",
    "# 使用布尔索引、列索引和count()函数计算各船舱人数\n",
    "# TODO 计算1号船舱总人数，并赋值给Pclass1\n",
    "Pclass1 = df[df[\"Pclass\"]==1][\"PassengerId\"].count()\n",
    "\n",
    "# TODO 计算2号船舱总人数，并赋值给Pclass2\n",
    "Pclass2 = df[df[\"Pclass\"]==2][\"PassengerId\"].count()\n",
    "\n",
    "# TODO 计算3号船舱总人数，并赋值给Pclass3\n",
    "Pclass3 = df[df[\"Pclass\"]==3][\"PassengerId\"].count()\n",
    "\n",
    "# 使用布尔索引、列索引和count()函数计算各船舱存活人数\n",
    "# TODO 计算1号船舱的存活人数，使用count()函数对Pclass=1且Survived=1的数据计数，并赋值给Pclass1_Survived\n",
    "Pclass1_Survived = df[(df[\"Pclass\"]==1) & (df[\"Survived\"]==1)][\"PassengerId\"].count()\n",
    "\n",
    "# TODO 计算2号船舱的存活人数，使用count()函数对Pclass=2且Survived=1的数据计数，并赋值给Pclass2_Survived\n",
    "Pclass2_Survived = df[(df[\"Pclass\"]==2) & (df[\"Survived\"]==1)][\"PassengerId\"].count()\n",
    "\n",
    "# TODO 计算3号船舱的存活人数，使用count()函数对Pclass=3且Survived=1的数据计数，并赋值给Pclass3_Survived\n",
    "Pclass3_Survived = df[(df[\"Pclass\"]==3) & (df[\"Survived\"]==1)][\"PassengerId\"].count()\n",
    "\n",
    "# 使用公式计算各船舱存活率\n",
    "# TODO 使用公式Pclass1_Survived/Pclass1，计算1号船舱的存活率，并赋值给Survived_rate1\n",
    "Survived_rate1 = Pclass1_Survived / Pclass1\n",
    "\n",
    "# TODO 使用公式Pclass2_Survived/Pclass2，计算2号船舱的存活率，并赋值给Survived_rate2\n",
    "Survived_rate2 = Pclass2_Survived / Pclass2\n",
    "\n",
    "# TODO 使用公式Pclass3_Survived/Pclass3，计算3号船舱的存活率，并赋值给Survived_rate3\n",
    "Survived_rate3 = Pclass3_Survived / Pclass3\n",
    "\n",
    "# 使用print()格式化输出各船舱的存活率\n",
    "# TODO 使用print()格式化输出 f\"1号船舱存活率是{Survived_rate1}\"\n",
    "print(f\"1号船舱存活率是{Survived_rate1}\")\n",
    "\n",
    "# TODO 使用print()格式化输出 f\"2号船舱存活率是{Survived_rate2}\"\n",
    "print(f\"2号船舱存活率是{Survived_rate2}\")\n",
    "\n",
    "# TODO  使用print()格式化输出 f\"3号船舱存活率是{Survived_rate3}\"\n",
    "print(f\"3号船舱存活率是{Survived_rate3}\")"
   ]
  },
  {
   "cell_type": "markdown",
   "id": "992236bc",
   "metadata": {},
   "source": [
    "一般来说统计一个列的数据。就直接在他后面count（），这里之所以会多一个[passengerId]，是因为多列时，使用时count时。是一个自动填充后的series"
   ]
  },
  {
   "cell_type": "markdown",
   "id": "c5924b1c",
   "metadata": {},
   "source": [
    "举例："
   ]
  },
  {
   "cell_type": "code",
   "execution_count": 9,
   "id": "a9b9009c",
   "metadata": {},
   "outputs": [
    {
     "name": "stdout",
     "output_type": "stream",
     "text": [
      "   A  B\n",
      "0  1  4\n",
      "1  2  5\n",
      "2  3  6\n"
     ]
    }
   ],
   "source": [
    "dict1 = {\"A\":[1,2,3], \"B\":[4,5,6]}\n",
    "df1 = pd.DataFrame(dict1)\n",
    "print(df1)"
   ]
  },
  {
   "cell_type": "code",
   "execution_count": 11,
   "id": "a8d6e3e7",
   "metadata": {},
   "outputs": [
    {
     "data": {
      "text/plain": [
       "A    1\n",
       "B    1\n",
       "dtype: int64"
      ]
     },
     "execution_count": 11,
     "metadata": {},
     "output_type": "execute_result"
    }
   ],
   "source": [
    "df1[df1[\"A\"] == 1].count()"
   ]
  },
  {
   "cell_type": "code",
   "execution_count": 12,
   "id": "6e0fad23",
   "metadata": {},
   "outputs": [
    {
     "data": {
      "text/plain": [
       "1"
      ]
     },
     "execution_count": 12,
     "metadata": {},
     "output_type": "execute_result"
    }
   ],
   "source": [
    "df1[df1[\"A\"] == 1][\"A\"].count()"
   ]
  }
 ],
 "metadata": {
  "kernelspec": {
   "display_name": "Python 3",
   "language": "python",
   "name": "python3"
  },
  "language_info": {
   "codemirror_mode": {
    "name": "ipython",
    "version": 3
   },
   "file_extension": ".py",
   "mimetype": "text/x-python",
   "name": "python",
   "nbconvert_exporter": "python",
   "pygments_lexer": "ipython3",
   "version": "3.8.8"
  }
 },
 "nbformat": 4,
 "nbformat_minor": 5
}

{
 "cells": [
  {
   "cell_type": "markdown",
   "id": "4f7ce898",
   "metadata": {},
   "source": [
    "1. 向网页发送请求，获取网页源代码；\n",
    "2. 导入新的模块，解析网页源代码；\n",
    "3. 查看网页中的数据节点；\n",
    "4. 解析内容，提取节点的数据；\n",
    "5. 学习查找节点的方法，提取节点中的内容。（本章学习）"
   ]
  },
  {
   "cell_type": "markdown",
   "id": "462c2c0b",
   "metadata": {},
   "source": [
    "# 获取标签内容"
   ]
  },
  {
   "cell_type": "markdown",
   "id": "50685995",
   "metadata": {},
   "source": [
    "现在我们获取到的内容包含 em 节点，但是怎么把文字提取出来呢？\n",
    "\n",
    "这里，我们可以调用 .string 属性 ，用来**获取节点中的内容**。     \n",
    "\n",
    "例如：对于节点 `<h1>夜曲编程</h1>`\n",
    "\n",
    "调用 .string 属性 就能获取 `<h1>` 节点中的内容：夜曲编程。"
   ]
  },
  {
   "cell_type": "markdown",
   "id": "bde01a1a",
   "metadata": {},
   "source": [
    "由于 find_all() 返回的是一个列表，我们不能直接调用 .string 属性。\n",
    "\n",
    "我们需要使用 for 循环遍历列表，获取每一个节点字符串，再来调用 .string 属性获取节点中的标签里的内容。    \n",
    "\n",
    "使用 for 循环遍历列表 content_all，调用 .string 属性获取每个节点中标签里的内容（也就是台词），赋值给变量 contentString。"
   ]
  },
  {
   "cell_type": "code",
   "execution_count": 1,
   "id": "e1f0948e",
   "metadata": {},
   "outputs": [
    {
     "name": "stdout",
     "output_type": "stream",
     "text": [
      "这几天你总是围着我转圈圈。\n",
      "我好奇地问你在干什么。\n",
      "你说：“我在环游世界。”\n"
     ]
    }
   ],
   "source": [
    "# 使用import导入requests模块\n",
    "import requests\n",
    "\n",
    "# 从bs4中导入BeautifulSoup模块\n",
    "from bs4 import BeautifulSoup\n",
    "\n",
    "# 将URL地址赋值给变量url\n",
    "url = \"https://nocturne-spider.baicizhan.com/2020/08/07/1/\"\n",
    "\n",
    "# 将变量url传入requests.get()，赋值给response\n",
    "response = requests.get(url)\n",
    "\n",
    "# 将服务器响应内容转换为字符串形式，赋值给html\n",
    "html = response.text\n",
    "\n",
    "# 使用BeautifulSoup()读取html，添加lxml解析器，赋值给soup\n",
    "soup = BeautifulSoup(html, \"lxml\")\n",
    "\n",
    "# 使用find_all()查询soup中em的节点，赋值给content_all\n",
    "content_all = soup.find_all(name=\"em\")\n",
    "\n",
    "# for循环遍历content_all\n",
    "for content in content_all:\n",
    "\n",
    "    # 获取每个节点中标签内的内容，赋值给contentString\n",
    "    contentString = content.string\n",
    "    \n",
    "    # 使用print输出contentString\n",
    "    print(contentString)"
   ]
  },
  {
   "cell_type": "markdown",
   "id": "15845f7b",
   "metadata": {},
   "source": [
    "# 节点定位"
   ]
  },
  {
   "cell_type": "markdown",
   "id": "4877b0a7",
   "metadata": {},
   "source": [
    "打开网页 https://nocturne-spider.baicizhan.com/2020/08/07/1/\n",
    "\n",
    "1. 选择检查，使用快捷键 Command+F，页面的右下侧就会出现检索栏。\n",
    "\n",
    "2. 在检索栏中输入 `<p> `，按回车键，就能看到该页面中的 p 标签数量。\n",
    "\n",
    "3. 使用搜索栏右侧的上下箭头，就能定位到每个 p 标签的位置，图中就定位到了第一个 p 标签所在位置。"
   ]
  },
  {
   "cell_type": "markdown",
   "id": "ff43b43c",
   "metadata": {},
   "source": [
    "定位节点的方法不唯一，但是要选择较合适的定位路径。\n",
    "\n",
    "对于该网页来说：\n",
    "\n",
    "1. 可以直接定位` <em> `标签，提取内容；\n",
    "2. 也可以先找到所有的 `<p>` 节点，再找到 `<p>` 节点中的 `<em>` 标签提取内容。"
   ]
  },
  {
   "cell_type": "markdown",
   "id": "b29c5f04",
   "metadata": {},
   "source": [
    "学习了节点定位的知识点后，尝试定位日期所在节点。\n",
    "\n",
    "使用 find_all() 函数查找节点，配合 .string 属性获取图中的两个日期并输出。     \n",
    "\n",
    "使用浏览器打开网页,链接：\n",
    "https://nocturne-spider.baicizhan.com/2020/08/07/1/\n",
    "\n",
    "用鼠标定位日期所在节点，发现日期都在` <time> `节点中，检索后只有两个` <time>` 节点，不会出现多提取内容的情况。\n",
    "\n",
    "使用 find_all() 查找节点，配合使用 .string 属性提取内容并输出。"
   ]
  },
  {
   "cell_type": "code",
   "execution_count": 2,
   "id": "094c2fbd",
   "metadata": {},
   "outputs": [
    {
     "name": "stdout",
     "output_type": "stream",
     "text": [
      "2020-08-07\n",
      "2020-09-08\n"
     ]
    }
   ],
   "source": [
    "# 使用import导入requests模块\n",
    "import requests\n",
    "\n",
    "# 从bs4中导入BeautifulSoup模块\n",
    "from bs4 import BeautifulSoup\n",
    "\n",
    "# 将URL地址赋值给变量url\n",
    "url = \"https://nocturne-spider.baicizhan.com/2020/08/07/1/\"\n",
    "\n",
    "# 将变量url传入requests.get()，赋值给response\n",
    "response = requests.get(url)\n",
    "\n",
    "# 将服务器响应内容转换为字符串形式，赋值给html\n",
    "html = response.text\n",
    "\n",
    "# TODO 按照左侧要求，查找节点，请求链接，提取内容并输出\n",
    "soup = BeautifulSoup(html, \"lxml\")\n",
    "\n",
    "content_all = soup.find_all(name = \"time\")\n",
    "\n",
    "for content in content_all:\n",
    "    contentString = content.string\n",
    "    print(contentString)"
   ]
  },
  {
   "cell_type": "markdown",
   "id": "5101af31",
   "metadata": {},
   "source": [
    "**.string 属性只能提取单个节点或节点统一的内容**。\n",
    "\n",
    "提取单个节点内容：\n",
    "\n",
    "例如\n",
    "`<p><em>夜曲编程 这是一个段落</em></p>`\n",
    "\n",
    "p 节点包含一个子节点 em ，由于 p 节点有且只有一个子节点，使用 .string 属性时，会输出 em 节点的 .string 内容。"
   ]
  },
  {
   "cell_type": "markdown",
   "id": "d42dcfd3",
   "metadata": {},
   "source": [
    "提取节点包含多个子节点时：\n",
    "\n",
    "当定位的节点中同时包含了多个子节点时，假设有两个节点，一个节点是 em 标签内容，另一个节点是纯文字。\n",
    "\n",
    "使用 .string 属性时，不清楚应该调用哪个节点的内容，会返回None值。"
   ]
  },
  {
   "cell_type": "markdown",
   "id": "5863b73e",
   "metadata": {},
   "source": [
    "# 获取全部内容"
   ]
  },
  {
   "cell_type": "markdown",
   "id": "380123b0",
   "metadata": {},
   "source": [
    "遇到节点中既包含其他节点，也有文字时，可以使用 .text 属性来提取内容。\n",
    "\n",
    "**.text 属性能直接提取该节点中的所有文字，并返回字符串格式。**    \n",
    "\n",
    "**使用 .text 属性来提取 p 节点中的所有的文字内容并输出。**\n",
    "\n",
    "注意：这里的 .text 属性，用法是获取节点中的所有文字内容。\n",
    "\n",
    "获取响应内容的 response.text 属性中的 .text 用于提取响应消息中的内容。"
   ]
  },
  {
   "cell_type": "code",
   "execution_count": 4,
   "id": "2a094580",
   "metadata": {},
   "outputs": [
    {
     "name": "stdout",
     "output_type": "stream",
     "text": [
      "\n",
      "夜曲编程\n",
      "    这是一个段落\n",
      "\n"
     ]
    }
   ],
   "source": [
    "# 定义html\n",
    "html = \"\"\"\n",
    "<p>\n",
    "    <em>夜曲编程</em>\n",
    "    这是一个段落\n",
    "</p>\"\"\"\n",
    "\n",
    "# 从bs4中导入BeautifulSoup模块\n",
    "from bs4 import BeautifulSoup\n",
    "\n",
    "# 使用BeautifulSoup()读取html，添加lxml解析器，赋值给soup\n",
    "soup = BeautifulSoup(html, \"lxml\")\n",
    "\n",
    "# 使用find_all()查询soup中p节点，赋值给content_all\n",
    "content_all = soup.find_all(name=\"p\")\n",
    "\n",
    "# for循环遍历content_all\n",
    "for content in content_all:\n",
    "\n",
    "    # TODO 获取节点内的全部内容，赋值给contentString\n",
    "    contentString = content.text\n",
    "    \n",
    "    # 使用print输出contentString\n",
    "    print(contentString)"
   ]
  },
  {
   "cell_type": "markdown",
   "id": "405efafd",
   "metadata": {},
   "source": [
    "那么什么时候使用 .text 属性来提取内容呢？\n",
    "\n",
    "复制链接打开网页：https://nocturne-spider.baicizhan.com/2020/08/08/域名/\n",
    "\n",
    "要提取图中的两个标题，标题都在` <h2>` 节点中，该节点中既有文字也有` <a> `节点。    \n",
    "\n",
    "使用 find_all() 函数查找 `<h2>` 节点。for循环遍历列表，分别用 .string 属性和 .text 属性提取节点中的内容并输出。\n",
    "\n",
    "可以看到，使用.string 属性提取的内容为None。"
   ]
  },
  {
   "cell_type": "code",
   "execution_count": 5,
   "id": "4792cd60",
   "metadata": {},
   "outputs": [
    {
     "name": "stdout",
     "output_type": "stream",
     "text": [
      "None\n",
      "域名的种类\n",
      "None\n",
      "域名的组成\n"
     ]
    }
   ],
   "source": [
    "# 使用import导入requests模块\n",
    "import requests\n",
    "\n",
    "# 从bs4中导入BeautifulSoup模块\n",
    "from bs4 import BeautifulSoup\n",
    "\n",
    "# 将URL地址赋值给变量url\n",
    "url = \"https://nocturne-spider.baicizhan.com/2020/08/08/%E5%9F%9F%E5%90%8D/\"\n",
    "\n",
    "# 将变量url传入requests.get()，赋值给response\n",
    "response = requests.get(url)\n",
    "\n",
    "# 将服务器响应内容转换为字符串形式，赋值给html\n",
    "html = response.text\n",
    "\n",
    "# 使用BeautifulSoup()读取html，添加lxml解析器，赋值给soup\n",
    "soup = BeautifulSoup(html, \"lxml\")\n",
    "\n",
    "# 使用find_all()查询soup中h2节点，赋值给content_all\n",
    "content_all = soup.find_all(name=\"h2\")\n",
    "\n",
    "# for循环遍历content_all\n",
    "for content in content_all:\n",
    "\n",
    "    # TODO 使用.string获取节点的内容，赋值给contentString\n",
    "    contentString = content.string\n",
    "    \n",
    "    # TODO 使用print输出contentString\n",
    "    print(contentString)\n",
    "\n",
    "    # TODO 使用.text获取节点的内容，赋值给contentString\n",
    "    contentString = content.text\n",
    "    \n",
    "    # TODO 使用print输出contentString\n",
    "    print(contentString)"
   ]
  },
  {
   "cell_type": "markdown",
   "id": "4c484a18",
   "metadata": {},
   "source": [
    "# 总结"
   ]
  },
  {
   "cell_type": "markdown",
   "id": "c26dd6b1",
   "metadata": {},
   "source": [
    "今天的课程就到这里啦，我们学习了：\n",
    "\n",
    "**1. 使用 .string 属性获取单个节点中的内容；**\n",
    "**2. 使用 .text 属性获取节点中的全部内容。**\n",
    "\n",
    "学完今天的课程，我们就完成了一个完整的爬虫项目，包括：\n",
    "请求内容、响应消息、解析内容、分析网页、定位节点、提取内容。"
   ]
  },
  {
   "cell_type": "markdown",
   "id": "6c511345",
   "metadata": {},
   "source": [
    "# 课堂练习"
   ]
  },
  {
   "cell_type": "markdown",
   "id": "9e1794fe",
   "metadata": {},
   "source": [
    "在以下的网页中，提取出红色框内的数据，如图。\n",
    "\n",
    "网站地址：\n",
    "https://nocturne-spider.baicizhan.com/2020/08/07/1/"
   ]
  },
  {
   "cell_type": "code",
   "execution_count": 6,
   "id": "6cca6672",
   "metadata": {},
   "outputs": [
    {
     "name": "stdout",
     "output_type": "stream",
     "text": [
      "这几天你总是围着我转圈圈。\n",
      "我好奇地问你在干什么。\n",
      "你说：“我在环游世界。”\n"
     ]
    }
   ],
   "source": [
    "# TODO 使用import导入requests模块\n",
    "import requests\n",
    "\n",
    "# TODO 从bs4中导入BeautifulSoup模块\n",
    "from bs4 import BeautifulSoup\n",
    "\n",
    "# TODO 将URL地址赋值给变量url\n",
    "url = \"https://nocturne-spider.baicizhan.com/2020/08/07/1/\"\n",
    "\n",
    "# TODO 将变量url传入requests.get()，赋值给response\n",
    "response = requests.get(url)\n",
    "\n",
    "# TODO 将服务器响应内容转换为字符串形式，赋值给html\n",
    "html = response.text\n",
    "\n",
    "# TODO 使用BeautifulSoup()读取html，添加lxml解析器，赋值给soup\n",
    "soup = BeautifulSoup(html, \"lxml\")\n",
    "\n",
    "# TODO 使用find_all()查询soup中em的节点，赋值给content_all\n",
    "content_all = soup.find_all(name = \"em\")\n",
    "\n",
    "# TODO for循环遍历content_all\n",
    "for content in content_all:\n",
    "\n",
    "    # TODO 获取每个节点中标签内的内容，赋值给contentString\n",
    "    contentString = content.string\n",
    "    \n",
    "    # TODO 使用print输出contentString\n",
    "    print(contentString)"
   ]
  },
  {
   "cell_type": "markdown",
   "id": "9e4f9fc0",
   "metadata": {},
   "source": [
    "# 百词斩题目"
   ]
  },
  {
   "cell_type": "markdown",
   "id": "aa48bd86",
   "metadata": {},
   "source": [
    "## 千与千寻     \n",
    "静静想使用所学知识，获取千与千寻摘录中的正文内容，链接如下：    \n",
    "https://nocturne-spider.baicizhan.com/2020/08/14/xun/    \n",
    "正文的节点是`<strong></strong>`，输出的内容有None存在。\n",
    "\n",
    "思考之后，静静决定用if语句来判断值不等于None时再输出内容。\n",
    "\n",
    "【题目要求】\n",
    "1. 使用find_all()函数找到所有的strong节点；\n",
    "2. 逐个遍历节点中的每一项，使用.string获取节点内容；\n",
    "3. 使用if语句判断节点的内容不等于None时，输出数据。"
   ]
  },
  {
   "cell_type": "code",
   "execution_count": 7,
   "id": "11eaa352",
   "metadata": {},
   "outputs": [
    {
     "name": "stdout",
     "output_type": "stream",
     "text": [
      "1、人生就是一列开往坟墓的列车，路途上会有很多站，很难有人可以自始至终陪着走完。当陪你的人要下车时，即使不舍也该心存感激，然后挥手道别。\n",
      "2、不管前方的路有多苦，只要走的方向正确，不管多么崎岖不平，都比站在原地更接近幸福。\n",
      "3、曾经发生过的事情不可能忘记，只不过是想不起而已。\n",
      "4、我不知道离别的滋味是这样凄凉，我不知道说声再见要这么坚强。\n",
      "5、我只能送你到这里了，剩下的路你要自己走，不要回头。\n",
      "6、人永远不知道，谁哪次不经意的跟你说了再见之后，就真的不会再见了。\n"
     ]
    }
   ],
   "source": [
    "# TODO 使用import导入requests模块\n",
    "import requests\n",
    "\n",
    "# TODO 使用from...import从bs4中导入BeautifulSoup模块\n",
    "from bs4 import BeautifulSoup\n",
    "\n",
    "# TODO 将URL地址赋值给变量url\n",
    "url = \"https://nocturne-spider.baicizhan.com/2020/08/14/xun/\"\n",
    "\n",
    "# TODO 将变量url传入requests.get()，赋值给response\n",
    "response = requests.get(url)\n",
    "\n",
    "# TODO 使用.text将服务器响应内容转换为字符串形式，赋值给html\n",
    "html = response.text\n",
    "\n",
    "# TODO 使用BeautifulSoup()读取html，添加lxml解析器，赋值给soup\n",
    "soup = BeautifulSoup(html, \"lxml\")\n",
    "\n",
    "# TODO 使用find_all()查询soup中strong节点，赋值给content_all\n",
    "content_all = soup.find_all(name = \"strong\")\n",
    "\n",
    "# TODO for循环遍历content_all\n",
    "for content in content_all:\n",
    "\n",
    "    # TODO 使用.string获取每个节点中标签内的内容，赋值给contentString\n",
    "    contentString = content.string\n",
    "\n",
    "    # TODO 使用if判断标签内的值不等于None时\n",
    "    if contentString != None:\n",
    "\n",
    "        # TODO 使用print输出contentString\n",
    "        print(contentString)"
   ]
  },
  {
   "cell_type": "markdown",
   "id": "8b3213d4",
   "metadata": {},
   "source": [
    "## 讲笑话的人      \n",
    "\n",
    "静静想要邀请一些网络段子手做访谈，了解最近网络流行段子的趋势，她想要去“糗事百科”的段子栏目中，统计前 5 页的段子手昵称，找到比较活跃的用户。\n",
    "\n",
    "通过这几天的学习静静想到了好办法，可以爬虫去请求网页响应，获取 5 页中全部的用户昵称。\n",
    "\n",
    "该如何翻页呢？静静发现 5 个网页链接大部分内容是相同的，每翻一页page后面的增加1。\n",
    "第一页：https://www.qiushibaike.com/text/page/1/\n",
    "第五页：https://www.qiushibaike.com/text/page/5/\n",
    "\n",
    "整理下思路：\n",
    "1. 导入requests和bs4模块；\n",
    "2. 使用for循环和格式化字符串的知识，获取5页的URL；\n",
    "例如：url = f\"https://www.qiushibaike.com/text/page/{num}/\"\n",
    "3. 将url参数，添加进requests.get()中，获取网页HTML代码；\n",
    "4. 创建一个BeautifulSoup对象，使用find_all()函数获取节点；\n",
    "5. 调用.string属性，获取每个节点中标签内的内容。"
   ]
  },
  {
   "cell_type": "markdown",
   "id": "607450da",
   "metadata": {},
   "source": [
    "```\n",
    "# TODO 使用import导入requests模块\n",
    "import requests\n",
    "\n",
    "# TODO 从bs4中导入BeautifulSoup模块\n",
    "from bs4 import BeautifulSoup\n",
    "\n",
    "# TODO 使用for循环遍历，range()函数生成的1-5的数字\n",
    "for num in range(1, 6):\n",
    "\n",
    "    # TODO 利用格式化字符生成串网站链接，赋值给变量url\n",
    "    url = f\"https://www.qiushibaike.com/text/page/{num}/\"\n",
    "\n",
    "    # TODO 将变量url传入requests.get()，赋值给response\n",
    "    response = requests.get(url)\n",
    "\n",
    "    # TODO 将服务器响应内容转换为字符串形式，赋值给html\n",
    "    html = response.text\n",
    "\n",
    "    # TODO 使用BeautifulSoup()读取html，添加lxml解析器，赋值给soup\n",
    "    soup = BeautifulSoup(html, \"lxml\")\n",
    "\n",
    "    # TODO 使用find_all()查询soup中h2的节点，赋值给name_all\n",
    "    name_all = soup.find_all(name = \"h2\")\n",
    "\n",
    "    # TODO for循环遍历name_all\n",
    "    for item in name_all:\n",
    "\n",
    "        # TODO 获取每个节点中标签内的内容，赋值给name\n",
    "        name = item.string\n",
    "\n",
    "        # TODO print输出name\n",
    "        print(name)\n",
    "        \n",
    "```"
   ]
  }
 ],
 "metadata": {
  "kernelspec": {
   "display_name": "Python 3",
   "language": "python",
   "name": "python3"
  },
  "language_info": {
   "codemirror_mode": {
    "name": "ipython",
    "version": 3
   },
   "file_extension": ".py",
   "mimetype": "text/x-python",
   "name": "python",
   "nbconvert_exporter": "python",
   "pygments_lexer": "ipython3",
   "version": "3.8.8"
  }
 },
 "nbformat": 4,
 "nbformat_minor": 5
}

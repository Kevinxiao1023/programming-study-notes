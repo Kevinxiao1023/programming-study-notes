{
 "cells": [
  {
   "cell_type": "markdown",
   "id": "649c187c",
   "metadata": {},
   "source": [
    "# 网络爬虫"
   ]
  },
  {
   "cell_type": "markdown",
   "id": "91edc3db",
   "metadata": {},
   "source": [
    "网络爬虫英文是 Web Crawler，网络爬虫是按照一定规则自动抓取网页信息的程序。\n",
    "\n",
    "如果把互联网比作一张大网，把蜘蛛网的节点比作一个个网页。\n",
    "\n",
    "那么爬虫就是在网页上爬行的蜘蛛，每爬到一个节点就能够访问该网页的信息，所以又称为网络蜘蛛（Web Spider）。"
   ]
  },
  {
   "cell_type": "markdown",
   "id": "8432bd96",
   "metadata": {},
   "source": [
    "爬虫获取的数据样式。\n",
    "日常浏览的网页中，既有图片、文字，还有精致的排版，这些页面是怎样展示出来的呢？\n",
    "\n",
    "其实，这都依靠源代码的功劳，源代码会定义每个标题、段落、图片等排版，浏览器通过解析源代码，呈现出网页画面。    \n",
    "\n",
    "源代码指人类能看得懂的计算机语言指令，被翻译成计算机可执行的代码。"
   ]
  },
  {
   "cell_type": "markdown",
   "id": "a0b4d9ed",
   "metadata": {},
   "source": [
    "那么对于网络爬虫来说，它能够自动化获取《榴莲味口香糖》网页的所有信息，通过提取网页中的评论内容，将信息保存到文档中，便于对数据进行查看和分析。\n",
    "\n",
    "所以，网络爬虫就是自动化从网页上获取信息、提取信息和保存信息的过程。"
   ]
  },
  {
   "cell_type": "markdown",
   "id": "61e8820d",
   "metadata": {},
   "source": [
    "# URL"
   ]
  },
  {
   "cell_type": "markdown",
   "id": "d33454d0",
   "metadata": {},
   "source": [
    "链接也叫做URL。\n",
    "\n",
    "URL全称为Uniform Resource Locator，即统一资源定位符，指定了我们要查找资源的地址。    "
   ]
  },
  {
   "cell_type": "markdown",
   "id": "99a348c3",
   "metadata": {},
   "source": [
    "## 主机名"
   ]
  },
  {
   "cell_type": "markdown",
   "id": "1d8aeb86",
   "metadata": {},
   "source": [
    "主机名(hostname)，主机名就是我们要访问的计算机的名字。    \n",
    "\n",
    "我们访问的网页资源是存储在服务器中的。\n",
    "\n",
    "服务器可用于管理资源并为用户提供服务，其特点就是运算速度快，能为大量用户服务。\n",
    "\n",
    "服务器的种类有很多，当浏览网页时其主要作用就是将网页信息提供给浏览器，此时的服务器也被称为Web服务器。"
   ]
  },
  {
   "cell_type": "markdown",
   "id": "6f1cfcca",
   "metadata": {},
   "source": [
    "## HTTP协议"
   ]
  },
  {
   "cell_type": "markdown",
   "id": "c4980dba",
   "metadata": {},
   "source": [
    "HyperText Transfer Protocol，简称http，超文本传输协议。\n",
    "\n",
    "HTTP协议是互联网数据传输的一种规则，它规定了数据的传输方式。\n",
    "\n",
    "就像是我们寄快递选择的快递公司，快递公司规定了邮寄方式。    \n",
    "\n",
    "HTTP协议定义了客户端和服务器之间传递消息的内容和步骤。\n",
    "\n",
    "就像快递公司，定义了客户和仓库之间发送快递的内容和步骤。\n",
    "\n",
    "当URL的协议部分写的是http时，表明服务器传输数据使用的是HTTP协议。"
   ]
  },
  {
   "cell_type": "markdown",
   "id": "5cef218b",
   "metadata": {},
   "source": [
    "HTTPS：HyperText Transfer Protocol Secure，超文本传输安全协议。    \n",
    "\n",
    "HTTP协议在进行数据传输时，内容是未加密的，传输内容可能被窃听或篡改，安全性比较差。\n",
    "\n",
    "HTTPS并非是全新的协议，只是在传输之前加了一层保护（SSL协议，Secure Socket Layer，安全套接字协议），让内容安全不易被窃听。\n",
    "\n",
    "所以说，HTTPS协议是HTTP的安全版，使用HTTPS传输能够让传输的数据更安全。"
   ]
  },
  {
   "cell_type": "markdown",
   "id": "6f6195d8",
   "metadata": {},
   "source": [
    "## 文件地址"
   ]
  },
  {
   "cell_type": "markdown",
   "id": "ebd96443",
   "metadata": {},
   "source": [
    "“//”为分隔符，表示后面的字符串是主机名。\n",
    "\n",
    "主机名后面的“/”表明，要在后面写上文件地址，如果不写一般默认为主页。    \n",
    "\n",
    "主机名后面的“/”可以直接加文件路径名称。\n",
    "\n",
    "而这里的文件名称是可省略的，省略了默认是首页，不省略的会根据文件路径名链接到对应页面。\n",
    "\n",
    "我们打开一个网页，“/”后面的名称不同，链接到的页面也就不同。"
   ]
  },
  {
   "cell_type": "markdown",
   "id": "6c6660ae",
   "metadata": {},
   "source": [
    "总结URL知识点：\n",
    "\n",
    "1. HTTP的作用与快递公司类似\n",
    "2. 主机名是计算机的名字\n",
    "3. 服务器用于管理资源的\n",
    "4. 文件路径能够指定访问资源的具体地址\n",
    "\n",
    "URL的数据类型是字符串。    \n",
    "\n",
    "URL组成结构：访问协议 + : + // + 主机名 + / + 文件路径名（可省略）"
   ]
  },
  {
   "cell_type": "markdown",
   "id": "2f2300a9",
   "metadata": {},
   "source": [
    "# 请求和相应"
   ]
  },
  {
   "cell_type": "markdown",
   "id": "546bd9ae",
   "metadata": {},
   "source": [
    "HTTP协议规定了浏览器和服务器之间传递消息的内容和步骤。\n",
    "\n",
    "我们要从网页中获取源代码，那么就要先了解消息传递的方式。\n",
    "\n",
    "1. 【浏览器】会先发送HTTP请求，告诉Web服务器需要的数据。\n",
    "\n",
    "2. 【Web服务器】收到请求后，按照请求执行，并返回HTTP响应消息。\n",
    "\n",
    "3. 【浏览器】收到返回的数据后，会将源代码解析成网页展示出来。    "
   ]
  },
  {
   "cell_type": "markdown",
   "id": "9d460395",
   "metadata": {},
   "source": [
    "HTTP发送的请求(Request)消息主要包含两部分“对什么”和“怎么做”。\n",
    "\n",
    "1. “对什么”是我们前面学习的URL，就是要访问的目标。\n",
    "\n",
    "2. “怎么做”一般叫做方法，是指让Web服务器完成什么工作。\n",
    "\n",
    "由于浏览器发送请求时，将“对什么”和“做什么”信息放在头部。所以，存放这些信息的地方又叫请求头(Request Headers)。"
   ]
  },
  {
   "cell_type": "markdown",
   "id": "d7ab6d16",
   "metadata": {},
   "source": [
    "在HTTP协议中：Web服务器收到请求消息后，会根据请求进行处理。并将执行结果和数据放到响应(Response)消息返回给浏览器。\n",
    "\n",
    "响应消息的头部叫做响应头（Response Headers），响应头中的数据用于告诉浏览器此次请求执行失败还是成功。    "
   ]
  },
  {
   "cell_type": "markdown",
   "id": "a02641c1",
   "metadata": {},
   "source": [
    "## 状态码"
   ]
  },
  {
   "cell_type": "markdown",
   "id": "fdf1b532",
   "metadata": {},
   "source": [
    "响应头（Response Headers）中用于告知浏览器执行结果成功或失败的叫做状态码。\n",
    "\n",
    "状态码是由3位的数字构成的，主要用于告知客户端的HTTP请求的执行结果。\n",
    "\n",
    "状态码可以让我们了解到服务器是正常执行结果，还是出现了错误。\n",
    "\n",
    "备注：状态码数量很多，不需要去特别记忆，用到时搜索即可。    \n",
    "\n",
    "返回的响应头(Response Headers)中状态码为200，表示执行成功，浏览器此次的请求正常执行。    \n",
    "\n",
    "404(Not Found)表示服务器无法找到请求的资源，或者，有的服务器拒绝你的请求并不想说明理由时也会提示404。    \n",
    "\n",
    "状态码503（Service Unavailable）表示服务器处于超负荷状态或正在进行停机维护，现在无法处理浏览器的请求"
   ]
  },
  {
   "cell_type": "markdown",
   "id": "d91ef84a",
   "metadata": {},
   "source": [
    "# 爬虫注意事项"
   ]
  },
  {
   "cell_type": "markdown",
   "id": "07bdeeca",
   "metadata": {},
   "source": [
    "1. 影响服务器性能，爬虫主要请求服务器的资源，大量快速的访问服务器，会影响服务器速度，耗费服务器性能。\n",
    "\n",
    "2. 法律风险，图片、视频或摄影作品等大部分是有版权的，将抓取的内容商业化也可能带来风险。    \n",
    "\n",
    "网络资源虽然非常丰富，但我们在使用爬虫获取网络资源时，需要遵循网络的基本规则--robots协议。\n",
    "\n",
    "这个协议一方面是一个爬虫技术人员需要遵守的道德准则。\n",
    "\n",
    "另一方面，如果将爬取结果商用并获取利益，还会面临法律风险。"
   ]
  },
  {
   "cell_type": "markdown",
   "id": "cc4c9ae5",
   "metadata": {},
   "source": [
    "# 题目"
   ]
  },
  {
   "cell_type": "markdown",
   "id": "becaa67f",
   "metadata": {},
   "source": [
    "贴吧链接      \n",
    "\n",
    "静静翻百度贴吧的链接时，发现每个链接的大部分内容都相同。\n",
    "https://tieba.baidu.com/f?kw=%E7%8C%AB&ie=utf-8&pn=\n",
    "\n",
    "只有翻页时pn后面的参数会变化，并且每翻一页，参数增加50。\n",
    "\n",
    "https://tieba.baidu.com/f?kw=%E7%8C%AB&ie=utf-8&pn=50\n",
    "\n",
    "https://tieba.baidu.com/f?kw=%E7%8C%AB&ie=utf-8&pn=100\n",
    "\n",
    "https://tieba.baidu.com/f?kw=%E7%8C%AB&ie=utf-8&pn=150\n",
    "\n",
    "结合入门课学习的for循环、range()函数和格式化知识点，输出从pn=0到pn=500的URL，每个页面差值为50。"
   ]
  },
  {
   "cell_type": "code",
   "execution_count": 1,
   "id": "fdbdb7bd",
   "metadata": {},
   "outputs": [
    {
     "name": "stdout",
     "output_type": "stream",
     "text": [
      "https://tieba.baidu.com/f?kw=%E7%8C%AB&ie=utf-8&pn=0\n",
      "https://tieba.baidu.com/f?kw=%E7%8C%AB&ie=utf-8&pn=50\n",
      "https://tieba.baidu.com/f?kw=%E7%8C%AB&ie=utf-8&pn=100\n",
      "https://tieba.baidu.com/f?kw=%E7%8C%AB&ie=utf-8&pn=150\n",
      "https://tieba.baidu.com/f?kw=%E7%8C%AB&ie=utf-8&pn=200\n",
      "https://tieba.baidu.com/f?kw=%E7%8C%AB&ie=utf-8&pn=250\n",
      "https://tieba.baidu.com/f?kw=%E7%8C%AB&ie=utf-8&pn=300\n",
      "https://tieba.baidu.com/f?kw=%E7%8C%AB&ie=utf-8&pn=350\n",
      "https://tieba.baidu.com/f?kw=%E7%8C%AB&ie=utf-8&pn=400\n",
      "https://tieba.baidu.com/f?kw=%E7%8C%AB&ie=utf-8&pn=450\n",
      "https://tieba.baidu.com/f?kw=%E7%8C%AB&ie=utf-8&pn=500\n"
     ]
    }
   ],
   "source": [
    "# TODO 使用for循环遍历，range()函数生成的0-10的数字\n",
    "for i in range(0,11):\n",
    "    # TODO 取遍历中的每个数和50相乘计算每页的数值，并赋值给page\n",
    "    page = 50 * i\n",
    "    # TODO 用格式化字符串组合\"https://tieba.baidu.com/f?kw=%E7%8C%AB&ie=utf-8&pn=\"和page，并赋值给url\n",
    "    url = f\"https://tieba.baidu.com/f?kw=%E7%8C%AB&ie=utf-8&pn={page}\"\n",
    "    # TODO 使用print()输出url\n",
    "    print(url)"
   ]
  },
  {
   "cell_type": "markdown",
   "id": "257fa2f1",
   "metadata": {},
   "source": [
    "关于格式化字符串f-string: https://blog.csdn.net/sunxb10/article/details/81036693"
   ]
  }
 ],
 "metadata": {
  "kernelspec": {
   "display_name": "Python 3",
   "language": "python",
   "name": "python3"
  },
  "language_info": {
   "codemirror_mode": {
    "name": "ipython",
    "version": 3
   },
   "file_extension": ".py",
   "mimetype": "text/x-python",
   "name": "python",
   "nbconvert_exporter": "python",
   "pygments_lexer": "ipython3",
   "version": "3.8.8"
  }
 },
 "nbformat": 4,
 "nbformat_minor": 5
}

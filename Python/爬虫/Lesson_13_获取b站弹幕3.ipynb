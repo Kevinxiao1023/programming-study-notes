{
 "cells": [
  {
   "cell_type": "markdown",
   "id": "1601f8c8",
   "metadata": {},
   "source": [
    "在上节课中我们已经完成了前三个步骤，今天我们进行分段统计，绘制出折线图。\n",
    "\n",
    "1. 分析网页，找到弹幕所在网页位置；\n",
    "2. 向网页发送请求，获取网页代码；\n",
    "3. 解析网页，提取弹幕发布时间；\n",
    "4. 将弹幕发布时间进行分段统计；\n",
    "5. 绘制折线图。"
   ]
  },
  {
   "cell_type": "markdown",
   "id": "001d62cd",
   "metadata": {},
   "source": [
    "# 分段统计"
   ]
  },
  {
   "cell_type": "markdown",
   "id": "0bfab3e7",
   "metadata": {},
   "source": [
    "想要找出视频中弹幕数较多的部分，我们就需要对视频时间进行拆分，比如说以 30 秒为单位进行分段。\n",
    "\n",
    "在每个时间范围内进行弹幕数统计，就可以知道每个分段的弹幕数了。\n",
    "\n",
    "这样的统计方法就是分段统计。"
   ]
  },
  {
   "cell_type": "markdown",
   "id": "f18af486",
   "metadata": {},
   "source": [
    "在日常生活中，有很多分段统计的场景。比如对学生成绩的分段统计，对销售额的分段统计，人口普查中各年龄段人数的统计等。\n",
    "\n",
    "以学生成绩为例。以右图所示，上图为全班同学的数学测试分数，下图对分数进行了分段统计。\n",
    "\n",
    "可以非常直观地看到各分数段的人数，有利于老师们快速了解本次考试结果，对考试情况作出分析。"
   ]
  },
  {
   "cell_type": "markdown",
   "id": "fac4b130",
   "metadata": {},
   "source": [
    "# 实现分段统计"
   ]
  },
  {
   "cell_type": "markdown",
   "id": "3a2f286a",
   "metadata": {},
   "source": [
    "我们该如何对视频弹幕进行分段统计呢？\n",
    "\n",
    "在之前的课程中，我们学习过词频统计，在这里还是可以使用字典进行统计。"
   ]
  },
  {
   "cell_type": "markdown",
   "id": "2f520196",
   "metadata": {},
   "source": [
    "首先，创建一个空白字典；\n",
    "\n",
    "可以把视频以 30 秒为单位进行分段，将分段区间作为字典的键添加进字典中，对应的值设为 0。\n",
    "\n",
    "接着判断弹幕发布时间，是否在分段区间内；如果在分段区间内，就把对应的值进行累加。"
   ]
  },
  {
   "cell_type": "markdown",
   "id": "6ee14c35",
   "metadata": {},
   "source": [
    "有了思路后，就一步步实现吧。\n",
    "\n",
    "原视频总时长为 12 分 23 秒，也就是一共有 743 秒；以 30 秒为单位进行分段的话，可以分为 25 段。(743/30)"
   ]
  },
  {
   "cell_type": "markdown",
   "id": "cc4169ee",
   "metadata": {},
   "source": [
    "## 分段区间"
   ]
  },
  {
   "cell_type": "markdown",
   "id": "0e3693cd",
   "metadata": {},
   "source": [
    "我们来分析一下分段区间的构成。\n",
    "\n",
    "每一个分段的起始值为 30 的倍数加1。\n",
    "每一个分段的结束值为 30 的倍数。\n",
    "\n",
    "如果我们用数学方式表示的话：\n",
    "起始值：30*x+1\n",
    "结束值：30*(x+1)\n",
    "x的取值范围为 0-24"
   ]
  },
  {
   "cell_type": "markdown",
   "id": "9c166a30",
   "metadata": {},
   "source": [
    "怎么用代码生成分段区间呢？\n",
    "\n",
    "我们可使用 for 循环遍历 range() 函数生成的 0-24 的数字。\n",
    "\n",
    "将 `30*x+1` 赋值给变量 start， `30*(x+1)` 赋值给变量 end；\n",
    "\n",
    "使用 格式化 start 和 end，用 短横线相连 并赋值给 segment_range。"
   ]
  },
  {
   "cell_type": "code",
   "execution_count": 1,
   "id": "b79de320",
   "metadata": {},
   "outputs": [
    {
     "name": "stdout",
     "output_type": "stream",
     "text": [
      "1-30\n",
      "31-60\n",
      "61-90\n",
      "91-120\n",
      "121-150\n",
      "151-180\n",
      "181-210\n",
      "211-240\n",
      "241-270\n",
      "271-300\n",
      "301-330\n",
      "331-360\n",
      "361-390\n",
      "391-420\n",
      "421-450\n",
      "451-480\n",
      "481-510\n",
      "511-540\n",
      "541-570\n",
      "571-600\n",
      "601-630\n",
      "631-660\n",
      "661-690\n",
      "691-720\n",
      "721-750\n"
     ]
    }
   ],
   "source": [
    "# TODO 使用for循环遍历range()函数生成的0-24的数字\n",
    "for x in range(25):\n",
    "\n",
    "    # TODO 将30*x+1赋值给变量start\n",
    "    start = 30*x+1\n",
    "\n",
    "    # TODO 将30*(x+1)赋值给变量end\n",
    "    end = 30*(x+1)\n",
    "\n",
    "    # TODO 格式化字符串start和end\n",
    "    # 用短横线相连，赋值给segment_range\n",
    "    segment_range = f\"{start}-{end}\"\n",
    "\n",
    "    # TODO 使用print输出segment_range\n",
    "    print(segment_range)"
   ]
  },
  {
   "cell_type": "markdown",
   "id": "58d94685",
   "metadata": {},
   "source": [
    "回到我们的程序中。在这里，我们需要新建一个字典 subtitlesDict。\n",
    "\n",
    "我们可使用 for 循环遍历 range() 函数生成的 0-24 的数字。\n",
    "\n",
    "将 `30*x+1` 赋值给变量 start， `30*(x+1)` 赋值给变量 end；\n",
    "\n",
    "使用 格式化 start 和 end，用 短横线相连 并赋值给 segment_range。\n",
    "\n",
    "把 segment_range 作为字典 subtitlesDict 的键，添加进字典中，再将字典中键所对应的值设置为 0。"
   ]
  },
  {
   "cell_type": "code",
   "execution_count": 2,
   "id": "b8bbe763",
   "metadata": {},
   "outputs": [
    {
     "name": "stdout",
     "output_type": "stream",
     "text": [
      "{'1-30': 0, '31-60': 0, '61-90': 0, '91-120': 0, '121-150': 0, '151-180': 0, '181-210': 0, '211-240': 0, '241-270': 0, '271-300': 0, '301-330': 0, '331-360': 0, '361-390': 0, '391-420': 0, '421-450': 0, '451-480': 0, '481-510': 0, '511-540': 0, '541-570': 0, '571-600': 0, '601-630': 0, '631-660': 0, '661-690': 0, '691-720': 0, '721-750': 0}\n"
     ]
    }
   ],
   "source": [
    "# 使用import导入requests模块\n",
    "import requests\n",
    "\n",
    "# 从bs4中导入BeautifulSoup模块\n",
    "from bs4 import BeautifulSoup\n",
    "\n",
    "# 将https://comment.bilibili.com/218710655.xml赋值给变量url\n",
    "url = \"https://comment.bilibili.com/218710655.xml\"\n",
    "\n",
    "# 将变量url作为参数，添加进requests.get()中，给赋值给response\n",
    "response = requests.get(url)\n",
    "\n",
    "# 调用.encoding属性获取requests模块的编码方式\n",
    "# 调用.apparent_encoding属性获取网页编码方式\n",
    "# 将网页编码方式赋值给response.encoding\n",
    "response.encoding = response.apparent_encoding\n",
    "\n",
    "# 将服务器响应内容转换为字符串形式，赋值给xml\n",
    "xml = response.text\n",
    "\n",
    "# 使用BeautifulSoup()读取xml，添加lxml解析器，赋值给soup\n",
    "soup = BeautifulSoup(xml,\"lxml\")\n",
    "\n",
    "# 使用find_all()查询soup中d的节点，赋值给content_all\n",
    "content_all = soup.find_all(name = \"d\")\n",
    "\n",
    "# 新建一个列表timeList\n",
    "timeList = []\n",
    "\n",
    "# for循环遍历content_all\n",
    "for comment in content_all:\n",
    "\n",
    "    # 使用.attrs获取p对应的属性值，并赋值给data\n",
    "    data = comment.attrs[\"p\"]\n",
    "    \n",
    "    # 使用split()函数分割data，获取时间并赋值给time\n",
    "    time = data.split(\",\")[0]\n",
    "\n",
    "    # 将time转换成浮点数，添加进列表timeList中\n",
    "    timeList.append(float(time))\n",
    "\n",
    "# TODO 新建一个字典subtitlesDict\n",
    "subtitlesDict = {}\n",
    "\n",
    "# TODO 使用for循环遍历range()函数生成的0-24的数字\n",
    "for x in range(25):\n",
    "\n",
    "    # TODO 将30*x+1赋值给变量start\n",
    "    start = 30*x+1\n",
    "\n",
    "    # TODO 将30*(x+1)赋值给变量end\n",
    "    end = 30*(x+1)\n",
    "\n",
    "    # TODO 格式化start和end\n",
    "    # 用短横线相连，赋值给segment_range\n",
    "    segment_range = f\"{start}-{end}\"\n",
    "\n",
    "    # TODO 将segment_range作为字典subtitlesDict的键,添加进字典中\n",
    "    # 将字典中键所对应的值设置为0\n",
    "    subtitlesDict[segment_range] = 0\n",
    "\n",
    "# TODO print输出subtitlesDict\n",
    "print(subtitlesDict)"
   ]
  },
  {
   "cell_type": "markdown",
   "id": "822285b1",
   "metadata": {},
   "source": [
    "接下来，我们要判断弹幕发布时间是否在分段区间内。\n",
    "\n",
    "可以遍历字典的所有键，使用 split() 函数以短横线分隔字典的键。\n",
    "\n",
    "获取第一项也就分段区间的开始时间，赋值给变量 start_key；获取第二项也就分段区间的结束时间，赋值给变量 end_key。"
   ]
  },
  {
   "cell_type": "code",
   "execution_count": 4,
   "id": "04318de4",
   "metadata": {},
   "outputs": [
    {
     "name": "stdout",
     "output_type": "stream",
     "text": [
      "1\n",
      "30\n",
      "31\n",
      "60\n",
      "61\n",
      "90\n",
      "91\n",
      "120\n",
      "121\n",
      "150\n",
      "151\n",
      "180\n",
      "181\n",
      "210\n",
      "211\n",
      "240\n",
      "241\n",
      "270\n",
      "271\n",
      "300\n",
      "301\n",
      "330\n",
      "331\n",
      "360\n",
      "361\n",
      "390\n",
      "391\n",
      "420\n",
      "421\n",
      "450\n",
      "451\n",
      "480\n",
      "481\n",
      "510\n",
      "511\n",
      "540\n",
      "541\n",
      "570\n",
      "571\n",
      "600\n",
      "601\n",
      "630\n",
      "631\n",
      "660\n",
      "661\n",
      "690\n",
      "691\n",
      "720\n",
      "721\n",
      "750\n"
     ]
    }
   ],
   "source": [
    "# 使用import导入requests模块\n",
    "import requests\n",
    "\n",
    "# 从bs4中导入BeautifulSoup模块\n",
    "from bs4 import BeautifulSoup\n",
    "\n",
    "# 将https://comment.bilibili.com/218710655.xml赋值给变量url\n",
    "url = \"https://comment.bilibili.com/218710655.xml\"\n",
    "\n",
    "# 将变量url作为参数，添加进requests.get()中，给赋值给response\n",
    "response = requests.get(url)\n",
    "\n",
    "# 调用.encoding属性获取requests模块的编码方式\n",
    "# 调用.apparent_encoding属性获取网页编码方式\n",
    "# 将网页编码方式赋值给response.encoding\n",
    "response.encoding = response.apparent_encoding\n",
    "\n",
    "# 将服务器响应内容转换为字符串形式，赋值给xml\n",
    "xml = response.text\n",
    "\n",
    "# 使用BeautifulSoup()读取xml，添加lxml解析器，赋值给soup\n",
    "soup = BeautifulSoup(xml,\"lxml\")\n",
    "\n",
    "# 使用find_all()查询soup中d的节点，赋值给content_all\n",
    "content_all = soup.find_all(name = \"d\")\n",
    "\n",
    "# 新建一个列表timeList\n",
    "timeList = []\n",
    "\n",
    "# for循环遍历content_all\n",
    "for comment in content_all:\n",
    "\n",
    "    # 使用.attrs获取p对应的属性值，并赋值给data\n",
    "    data = comment.attrs[\"p\"]\n",
    "    \n",
    "    # 使用split()函数分割data，获取时间并赋值给time\n",
    "    time = data.split(\",\")[0]\n",
    "\n",
    "    # 将time转换成浮点数，添加进列表timeList中\n",
    "    timeList.append(float(time))\n",
    "\n",
    "# 新建一个字典subtitlesDict\n",
    "subtitlesDict = {}\n",
    "\n",
    "# 使用for循环遍历range()函数生成的0-24的数字\n",
    "for x in range(25):\n",
    "\n",
    "    # 将30*x+1赋值给变量start\n",
    "    start = 30*x+1\n",
    "\n",
    "    # 将30*(x+1)赋值给变量end\n",
    "    end = 30*(x+1)\n",
    "\n",
    "    # 格式化start和end\n",
    "    # 用短横线相连，赋值给segment_range\n",
    "    segment_range = f\"{start}-{end}\"\n",
    "\n",
    "    # 将segment_range作为字典subtitlesDict的键,添加进字典中\n",
    "    # 将字典中键所对应的值设置为0\n",
    "    subtitlesDict[segment_range] = 0\n",
    "    \n",
    "# TODO for循环遍历字典subtitlesDict所有的键\n",
    "for subtitle in subtitlesDict.keys():\n",
    "\n",
    "    # TODO 使用split()分隔字典的键获取第一项，赋值给变量start_key\n",
    "    start_key = subtitle.split(\"-\")[0]\n",
    "\n",
    "    # TODO 使用split()分隔字典的键获取第二项，赋值给变量end_key\n",
    "    end_key = subtitle.split(\"-\")[1]\n",
    "\n",
    "    # TODO 使用print输出start_key\n",
    "    print(start_key)\n",
    "\n",
    "    # TODO 使用print输出end_key\n",
    "    print(end_key)"
   ]
  },
  {
   "cell_type": "markdown",
   "id": "035a0112",
   "metadata": {},
   "source": [
    "分隔好分段区间的一头一尾时间后，接下来就要对弹幕发布时间进行统计。\n",
    "\n",
    "首先 for 循环变量列表 timeList，如果弹幕分布时间在整型 start_key 和整型 end_key 之间，也就是大于等于整型 start_key，小于等于整型 end_key，就将字典中键所对应的值累加。"
   ]
  },
  {
   "cell_type": "code",
   "execution_count": 5,
   "id": "fa586c38",
   "metadata": {},
   "outputs": [
    {
     "name": "stdout",
     "output_type": "stream",
     "text": [
      "{'1-30': 40, '31-60': 102, '61-90': 68, '91-120': 19, '121-150': 25, '151-180': 53, '181-210': 41, '211-240': 29, '241-270': 15, '271-300': 17, '301-330': 38, '331-360': 32, '361-390': 35, '391-420': 22, '421-450': 19, '451-480': 37, '481-510': 27, '511-540': 34, '541-570': 21, '571-600': 12, '601-630': 15, '631-660': 18, '661-690': 49, '691-720': 12, '721-750': 17}\n"
     ]
    }
   ],
   "source": [
    "# 使用import导入requests模块\n",
    "import requests\n",
    "\n",
    "# 从bs4中导入BeautifulSoup模块\n",
    "from bs4 import BeautifulSoup\n",
    "\n",
    "# 将https://comment.bilibili.com/218710655.xml赋值给变量url\n",
    "url = \"https://comment.bilibili.com/218710655.xml\"\n",
    "\n",
    "# 将变量url作为参数，添加进requests.get()中，给赋值给response\n",
    "response = requests.get(url)\n",
    "\n",
    "# 调用.encoding属性获取requests模块的编码方式\n",
    "# 调用.apparent_encoding属性获取网页编码方式\n",
    "# 将网页编码方式赋值给response.encoding\n",
    "response.encoding = response.apparent_encoding\n",
    "\n",
    "# 将服务器响应内容转换为字符串形式，赋值给xml\n",
    "xml = response.text\n",
    "\n",
    "# 使用BeautifulSoup()读取xml，添加lxml解析器，赋值给soup\n",
    "soup = BeautifulSoup(xml,\"lxml\")\n",
    "\n",
    "# 使用find_all()查询soup中d的节点，赋值给content_all\n",
    "content_all = soup.find_all(name = \"d\")\n",
    "\n",
    "# 新建一个列表timeList\n",
    "timeList = []\n",
    "\n",
    "# for循环遍历content_all\n",
    "for comment in content_all:\n",
    "\n",
    "    # 使用.attrs获取p对应的属性值，并赋值给data\n",
    "    data = comment.attrs[\"p\"]\n",
    "    \n",
    "    # 使用split()函数分割data，获取时间并赋值给time\n",
    "    time = data.split(\",\")[0]\n",
    "\n",
    "    # 将time转换成浮点数，添加进列表timeList中\n",
    "    timeList.append(float(time))\n",
    "\n",
    "# 新建一个字典subtitlesDict\n",
    "subtitlesDict = {}\n",
    "\n",
    "# 使用for循环遍历range()函数生成的0-24的数字\n",
    "for x in range(25):\n",
    "\n",
    "    # 将30*x+1赋值给变量start\n",
    "    start = 30*x+1\n",
    "\n",
    "    # 将30*(x+1)赋值给变量end\n",
    "    end = 30*(x+1)\n",
    "\n",
    "    # 格式化start和end\n",
    "    # 用短横线相连，赋值给segment_range\n",
    "    segment_range = f\"{start}-{end}\"\n",
    "\n",
    "    # 将segment_range作为字典subtitlesDict的键,添加进字典中\n",
    "    # 将字典中键所对应的值设置为0\n",
    "    subtitlesDict[segment_range] = 0\n",
    "    \n",
    "# for循环遍历字典subtitlesDict所有的键\n",
    "for subtitle in subtitlesDict.keys():\n",
    "\n",
    "    # 使用split()分隔字典的键获取第一项，赋值给变量start_key\n",
    "    start_key = subtitle.split(\"-\")[0]\n",
    "\n",
    "    # 使用split()分隔字典的键获取第二项，赋值给变量end_key\n",
    "    end_key = subtitle.split(\"-\")[1]\n",
    "\n",
    "    # TODO for循环遍历列表timeList\n",
    "    for item in timeList:\n",
    "\n",
    "        # TODO 如果弹幕分布时间在整型start_key和整型end_key之间\n",
    "\n",
    "        if int(start_key) <= item <= int(end_key):\n",
    "            # TODO 将字典中键所对应的值累加\n",
    "            subtitlesDict[subtitle] = subtitlesDict[subtitle] + 1\n",
    "\n",
    "# TODO 使用字典输出subtitlesDict\n",
    "print(subtitlesDict)"
   ]
  },
  {
   "cell_type": "markdown",
   "id": "1866b0b9",
   "metadata": {},
   "source": [
    "# 折线图"
   ]
  },
  {
   "cell_type": "markdown",
   "id": "221e4af2",
   "metadata": {},
   "source": [
    "现在我们将视频弹幕进行了分段统计，将数据储存在一个字典中。\n",
    "\n",
    "但是这样的呈现形式不太直观，也不太容易作出结果分析，接下来我们要将这些数据进行可视化处理，绘制出折线图。"
   ]
  },
  {
   "cell_type": "markdown",
   "id": "c774593a",
   "metadata": {},
   "source": [
    "折线图用于显示数据在一个连续时间或者时间跨度上的变化。\n",
    "\n",
    "它的特点是反映事物随时间变化的趋势。例如可用来分析某类商品随时间变化的销售额，从而进一步预测未来的销售情况。"
   ]
  },
  {
   "cell_type": "markdown",
   "id": "89ac03f8",
   "metadata": {},
   "source": [
    "在折线图中，一般水平轴（x轴）用来表示时间，并且间隔相同；垂直轴（y轴）代表数据的大小。\n",
    "\n",
    "在这里，视频时间分段区间作为折线图的 x 轴，分段区间内的弹幕总数作为 y 轴。"
   ]
  },
  {
   "cell_type": "markdown",
   "id": "633e88e4",
   "metadata": {},
   "source": [
    "# 生成折线图"
   ]
  },
  {
   "cell_type": "markdown",
   "id": "6c8141e9",
   "metadata": {},
   "source": [
    "想要生成折线图，我们需要从 pyecharts.charts 中导入 Line 模块。\n",
    "\n",
    "接下来，还要学习三个相关函数。\n",
    "1. Line() 函数\n",
    "2. add_xaxis()函数\n",
    "3. add_yaxis()函数"
   ]
  },
  {
   "cell_type": "markdown",
   "id": "270ca39e",
   "metadata": {},
   "source": [
    "## Line()"
   ]
  },
  {
   "cell_type": "markdown",
   "id": "ce7850fd",
   "metadata": {},
   "source": [
    "首先从 pyecharts.charts 中导入 Line 模块\n",
    "\n",
    "Line() 函数创建一个 Line 对象，赋值给变量 line。"
   ]
  },
  {
   "cell_type": "code",
   "execution_count": 6,
   "id": "a0294d29",
   "metadata": {},
   "outputs": [
    {
     "name": "stderr",
     "output_type": "stream",
     "text": [
      "/opt/anaconda3/lib/python3.8/site-packages/pyecharts/charts/chart.py:14: PendingDeprecationWarning: pyecharts 所有图表类型将在 v1.9.0 版本开始强制使用 ChartItem 进行数据项配置 :)\n",
      "  super().__init__(init_opts=init_opts)\n"
     ]
    }
   ],
   "source": [
    "from pyecharts.charts import Line\n",
    "saleDict = {\"1月\": 70, \"2月\": 80, \"3月\": 100, \"4月\": 60, \"5月\": 120, \"6月\": 100}\n",
    "line = Line()"
   ]
  },
  {
   "cell_type": "markdown",
   "id": "06213b72",
   "metadata": {},
   "source": [
    "## add_xaxis()"
   ]
  },
  {
   "cell_type": "markdown",
   "id": "a5e2ce9b",
   "metadata": {},
   "source": [
    "add_xaxis() 函数可以设置折线图的 x 轴。"
   ]
  },
  {
   "cell_type": "code",
   "execution_count": 7,
   "id": "849f5763",
   "metadata": {},
   "outputs": [
    {
     "name": "stderr",
     "output_type": "stream",
     "text": [
      "/opt/anaconda3/lib/python3.8/site-packages/ipykernel/ipkernel.py:287: DeprecationWarning: `should_run_async` will not call `transform_cell` automatically in the future. Please pass the result to `transformed_cell` argument and any exception that happen during thetransform in `preprocessing_exc_tuple` in IPython 7.17 and above.\n",
      "  and should_run_async(code)\n",
      "/opt/anaconda3/lib/python3.8/site-packages/pyecharts/charts/chart.py:14: PendingDeprecationWarning: pyecharts 所有图表类型将在 v1.9.0 版本开始强制使用 ChartItem 进行数据项配置 :)\n",
      "  super().__init__(init_opts=init_opts)\n"
     ]
    },
    {
     "data": {
      "text/plain": [
       "<pyecharts.charts.basic_charts.line.Line at 0x7fdf0a4ef970>"
      ]
     },
     "execution_count": 7,
     "metadata": {},
     "output_type": "execute_result"
    }
   ],
   "source": [
    "from pyecharts.charts import Line\n",
    "saleDict = {\"1月\": 70, \"2月\": 80, \"3月\": 100, \"4月\": 60, \"5月\": 120, \"6月\": 100}\n",
    "line = Line()\n",
    "line.add_xaxis(list(saleDict.keys()))"
   ]
  },
  {
   "cell_type": "markdown",
   "id": "29995b3f",
   "metadata": {},
   "source": [
    "在 add_xaxis() 函数中传入一个参数，这个参数的类型是列表，列表中的元素顺序表示折线图 x 轴从左到右的刻度。\n",
    "\n",
    "在这里我们要传入所有的月份，可以使用 keys() 函数获取字典中所有的键，再使用 list() 函数将格式转换成列表。"
   ]
  },
  {
   "cell_type": "markdown",
   "id": "38b9b345",
   "metadata": {},
   "source": [
    "通过 Line 对象调用 add_xaxis() 函数，设置对应折线图的 x 轴。"
   ]
  },
  {
   "cell_type": "markdown",
   "id": "0fdd2b81",
   "metadata": {},
   "source": [
    "## add_yaxis()"
   ]
  },
  {
   "cell_type": "markdown",
   "id": "8f10e7a2",
   "metadata": {},
   "source": [
    "add_yaxis() 函数可以设置折线图的 y 轴及折线图相关参数。\n",
    "\n",
    "在这里我们添加了数据统称和y轴的值。"
   ]
  },
  {
   "cell_type": "code",
   "execution_count": 8,
   "id": "ca9f29f9",
   "metadata": {},
   "outputs": [
    {
     "name": "stderr",
     "output_type": "stream",
     "text": [
      "/opt/anaconda3/lib/python3.8/site-packages/ipykernel/ipkernel.py:287: DeprecationWarning: `should_run_async` will not call `transform_cell` automatically in the future. Please pass the result to `transformed_cell` argument and any exception that happen during thetransform in `preprocessing_exc_tuple` in IPython 7.17 and above.\n",
      "  and should_run_async(code)\n",
      "/opt/anaconda3/lib/python3.8/site-packages/pyecharts/charts/chart.py:14: PendingDeprecationWarning: pyecharts 所有图表类型将在 v1.9.0 版本开始强制使用 ChartItem 进行数据项配置 :)\n",
      "  super().__init__(init_opts=init_opts)\n"
     ]
    },
    {
     "data": {
      "text/plain": [
       "<pyecharts.charts.basic_charts.line.Line at 0x7fdf0a4eff40>"
      ]
     },
     "execution_count": 8,
     "metadata": {},
     "output_type": "execute_result"
    }
   ],
   "source": [
    "from pyecharts.charts import Line\n",
    "saleDict = {\"1月\": 70, \"2月\": 80, \"3月\": 100, \"4月\": 60, \"5月\": 120, \"6月\": 100}\n",
    "line = Line()\n",
    "line.add_xaxis(list(saleDict.keys()))\n",
    "line.add_yaxis(\"销售额\", list(saleDict.values()))"
   ]
  },
  {
   "cell_type": "markdown",
   "id": "0f3c2661",
   "metadata": {},
   "source": [
    "### 数据统称\n",
    "在 add_yaxis() 函数中，可以设置数据统称，位于折线图的最上方。"
   ]
  },
  {
   "cell_type": "markdown",
   "id": "61d23adf",
   "metadata": {},
   "source": [
    "在折线图的y轴上，展示的是统计后的数据。\n",
    "\n",
    "这里我们要传入统计后的数据，可以使用 values() 函数获取字典中所有的值，在使用 list() 函数将格式转换成列表。"
   ]
  },
  {
   "cell_type": "markdown",
   "id": "9b72f039",
   "metadata": {},
   "source": [
    "# 折线图分析"
   ]
  },
  {
   "cell_type": "markdown",
   "id": "57d1f0bc",
   "metadata": {},
   "source": [
    "设置完折线图的参数后，可以使用render()函数默认折线图以html格式存储在代码所在文件夹内。"
   ]
  },
  {
   "cell_type": "code",
   "execution_count": 9,
   "id": "00633f63",
   "metadata": {},
   "outputs": [
    {
     "name": "stderr",
     "output_type": "stream",
     "text": [
      "/opt/anaconda3/lib/python3.8/site-packages/ipykernel/ipkernel.py:287: DeprecationWarning: `should_run_async` will not call `transform_cell` automatically in the future. Please pass the result to `transformed_cell` argument and any exception that happen during thetransform in `preprocessing_exc_tuple` in IPython 7.17 and above.\n",
      "  and should_run_async(code)\n",
      "/opt/anaconda3/lib/python3.8/site-packages/pyecharts/charts/chart.py:14: PendingDeprecationWarning: pyecharts 所有图表类型将在 v1.9.0 版本开始强制使用 ChartItem 进行数据项配置 :)\n",
      "  super().__init__(init_opts=init_opts)\n"
     ]
    },
    {
     "data": {
      "text/html": [
       "\n",
       "        <iframe\n",
       "            width=\"900\"\n",
       "            height=\"500\"\n",
       "            src=\"./line_13.html\"\n",
       "            frameborder=\"0\"\n",
       "            allowfullscreen\n",
       "        ></iframe>\n",
       "        "
      ],
      "text/plain": [
       "<IPython.lib.display.IFrame at 0x7fdf0a489f70>"
      ]
     },
     "execution_count": 9,
     "metadata": {},
     "output_type": "execute_result"
    }
   ],
   "source": [
    "# 从pyecharts.chart中导入Line\n",
    "from pyecharts.charts import Line\n",
    "\n",
    "# 字典saleDict\n",
    "saleDict = {\"1月\": 70, \"2月\": 80, \"3月\": 100, \"4月\": 60, \"5月\": 120, \"6月\": 100}\n",
    "\n",
    "# 创建一个Line对象，赋值给line\n",
    "line = Line()\n",
    "\n",
    "# 使用list()将字典saleDict所有键转换成列表，传入add_xaxis()中\n",
    "line.add_xaxis(list(saleDict.keys()))\n",
    "\n",
    "# TODO 使用add_yaxis()函数，将数据统称设置为\"销售额\"\n",
    "# 将字典saleDict所有值转换成列表，作为参数添加进函数中\n",
    "line.add_yaxis(\"销售额\", list(saleDict.values()))\n",
    "\n",
    "# TODO 使用render()函数存储文件，设置文件名为line.html\n",
    "line.render(\"line_13.html\")\n",
    "\n",
    "from IPython.display import IFrame\n",
    "\n",
    "IFrame(src='./line_13.html', width=900, height=500)"
   ]
  },
  {
   "cell_type": "markdown",
   "id": "ea9257dc",
   "metadata": {},
   "source": [
    "使用 add_yaxis() 函数设置折线图的y轴及相关参数。\n",
    "\n",
    "添加折线图的数据统称为\"弹幕数\"，将字典 subtitlesDict 的所有值设置为折线图 y 轴的值。\n",
    "\n",
    "使用 render() 函数html存储文件，设置文件名为line.html。"
   ]
  },
  {
   "cell_type": "code",
   "execution_count": 10,
   "id": "854f1174",
   "metadata": {},
   "outputs": [
    {
     "name": "stderr",
     "output_type": "stream",
     "text": [
      "/opt/anaconda3/lib/python3.8/site-packages/ipykernel/ipkernel.py:287: DeprecationWarning: `should_run_async` will not call `transform_cell` automatically in the future. Please pass the result to `transformed_cell` argument and any exception that happen during thetransform in `preprocessing_exc_tuple` in IPython 7.17 and above.\n",
      "  and should_run_async(code)\n"
     ]
    },
    {
     "name": "stdout",
     "output_type": "stream",
     "text": [
      "success\n"
     ]
    },
    {
     "name": "stderr",
     "output_type": "stream",
     "text": [
      "/opt/anaconda3/lib/python3.8/site-packages/pyecharts/charts/chart.py:14: PendingDeprecationWarning: pyecharts 所有图表类型将在 v1.9.0 版本开始强制使用 ChartItem 进行数据项配置 :)\n",
      "  super().__init__(init_opts=init_opts)\n"
     ]
    },
    {
     "data": {
      "text/html": [
       "\n",
       "        <iframe\n",
       "            width=\"900\"\n",
       "            height=\"500\"\n",
       "            src=\"./subtitle_13.html\"\n",
       "            frameborder=\"0\"\n",
       "            allowfullscreen\n",
       "        ></iframe>\n",
       "        "
      ],
      "text/plain": [
       "<IPython.lib.display.IFrame at 0x7fdf0a623700>"
      ]
     },
     "execution_count": 10,
     "metadata": {},
     "output_type": "execute_result"
    }
   ],
   "source": [
    "# 使用import导入requests模块\n",
    "import requests\n",
    "\n",
    "# 从bs4中导入BeautifulSoup模块\n",
    "from bs4 import BeautifulSoup\n",
    "\n",
    "# 从pyecharts.charts中导入Line模块\n",
    "from pyecharts.charts import Line\n",
    "\n",
    "# 将https://comment.bilibili.com/218710655.xml赋值给变量url\n",
    "url = \"https://comment.bilibili.com/218710655.xml\"\n",
    "\n",
    "# 将变量url作为参数，添加进requests.get()中，给赋值给response\n",
    "response = requests.get(url)\n",
    "\n",
    "# 调用.encoding属性获取requests模块的编码方式\n",
    "# 调用.apparent_encoding属性获取网页编码方式\n",
    "# 将网页编码方式赋值给response.encoding\n",
    "response.encoding = response.apparent_encoding\n",
    "\n",
    "# 将服务器响应内容转换为字符串形式，赋值给xml\n",
    "xml = response.text\n",
    "\n",
    "# 使用BeautifulSoup()读取xml，添加lxml解析器，赋值给soup\n",
    "soup = BeautifulSoup(xml,\"lxml\")\n",
    "\n",
    "# 使用find_all()查询soup中d的节点，赋值给content_all\n",
    "content_all = soup.find_all(name = \"d\")\n",
    "\n",
    "# 新建一个列表timeList\n",
    "timeList = []\n",
    "\n",
    "# for循环遍历content_all\n",
    "for comment in content_all:\n",
    "\n",
    "    # 使用.attrs获取p对应的属性值，并赋值给data\n",
    "    data = comment.attrs[\"p\"]\n",
    "    \n",
    "    # 使用split()函数分割data，获取时间并赋值给time\n",
    "    time = data.split(\",\")[0]\n",
    "\n",
    "    # 将time转换成浮点数，添加进列表timeList中\n",
    "    timeList.append(float(time))\n",
    "\n",
    "# 新建一个字典subtitlesDict\n",
    "subtitlesDict = {}\n",
    "\n",
    "# 使用for循环遍历range()函数生成的0-24的数字\n",
    "for x in range(25):\n",
    "\n",
    "    # 将30*x+1赋值给变量start\n",
    "    start = 30*x+1\n",
    "\n",
    "    # 将30*(x+1)赋值给变量end\n",
    "    end = 30*(x+1)\n",
    "\n",
    "    # 格式化start和end\n",
    "    # 用短横线相连，赋值给segment_range\n",
    "    segment_range = f\"{start}-{end}\"\n",
    "\n",
    "    # 将segment_range作为字典subtitlesDict的键,添加进字典中\n",
    "    # 将字典中键所对应的值设置为0\n",
    "    subtitlesDict[segment_range] = 0\n",
    "\n",
    "# for循环遍历字典subtitlesDict所有的键\n",
    "for subtitle in subtitlesDict.keys():\n",
    "\n",
    "    # 使用split()分隔字典的键获取第一项，赋值给变量start_key\n",
    "    start_key = subtitle.split(\"-\")[0]\n",
    "\n",
    "    # 使用split()分隔字典的键获取第二项，赋值给变量end_key\n",
    "    end_key = subtitle.split(\"-\")[1]\n",
    "\n",
    "    # for循环遍历列表timeList\n",
    "    for item in timeList:\n",
    "\n",
    "        # 如果弹幕分布时间在整型start_key和整型end_key之间\n",
    "        if int(start_key)<= item <= int(end_key):\n",
    "\n",
    "            # 将字典中键所对应的值累加\n",
    "            subtitlesDict[subtitle] = subtitlesDict[subtitle] + 1\n",
    "\n",
    "# 使用Line()创建Line对象，赋值给line\n",
    "line = Line()\n",
    "\n",
    "# 使用list()将字典subtitlesDict所有键转换成列表，传入add_xaxis()中\n",
    "line.add_xaxis(list(subtitlesDict.keys()))\n",
    "\n",
    "# TODO 使用add_yaxis()函数，将数据统称设置为\"弹幕数\"\n",
    "# 将字典subtitlesDict所有值转换成列表，作为参数添加进函数中\n",
    "line.add_yaxis(\"弹幕数\", list(subtitlesDict.values()))\n",
    "\n",
    "# TODO 使用render()函数存储文件，设置文件名为line.html\n",
    "line.render(\"subtitle_13.html\")\n",
    "\n",
    "# TODO 使用print输出success\n",
    "print(\"success\")\n",
    "\n",
    "from IPython.display import IFrame\n",
    "\n",
    "IFrame(src='./subtitle_13.html', width=900, height=500)"
   ]
  },
  {
   "cell_type": "markdown",
   "id": "91efbc65",
   "metadata": {},
   "source": [
    "# 折线图分析\n",
    "生成了折线图后，Yoyo分析了折线图中的几个高峰值。\n",
    "\n",
    "发现视频开始的一分钟内用户习惯发弹幕签到，在视频互动答题的部分用户的弹幕数也很多。\n",
    "\n",
    "Yoyo 决定在接下来的视频中增加互动环节，以提高用户参与度。"
   ]
  },
  {
   "cell_type": "markdown",
   "id": "73b6320e",
   "metadata": {},
   "source": [
    "# 百题斩题目"
   ]
  },
  {
   "cell_type": "markdown",
   "id": "fb093cad",
   "metadata": {},
   "source": [
    "## 票房对比\n",
    "小倩获取到了AB两部电影上映一周的售票数据，想用python制作一张同时显示两种数据的折线图来观察数据变化。\n",
    "\n",
    "解题思路：\n",
    "1. 使用指定的数据，创建折线图，同时显示两部电影的售票数据变化；\n",
    "2. 一条折线的数据统称为“A电影”，另一条折线的数据统称为“B电影”；\n",
    "3. 将生成的折线图命名为“data.html”。\n",
    "\n",
    "温馨提示：本题需要用到：添加两条折线 这个知识点，请先点击提示进行学习。     "
   ]
  },
  {
   "cell_type": "markdown",
   "id": "1407c347",
   "metadata": {},
   "source": [
    "想要添加第二条折线，只需要再使用一次add_yaxis()函数，将第二份数据作为参数添加进函数中就可以啦\n",
    "```\n",
    "add_yaxis(\"A电影\")\n",
    "add_yaxis(\"B电影\")\n",
    "```"
   ]
  },
  {
   "cell_type": "markdown",
   "id": "46eb7f4a",
   "metadata": {},
   "source": [
    "1. A电影的售票数据:\n",
    "`y_data_A = [20,10,23,134,234,14,76]`\n",
    "2. B电影的售票数据:\n",
    "`y_data_B = [125,82,25,62,45,74,156]`\n",
    "3. 一周的天数横坐标:\n",
    "`x_data = [\"第一天\",\"第二天\",\"第三天\",\"第四天\",\"第五天\",\"第六天\",\"第七天\"]`"
   ]
  },
  {
   "cell_type": "code",
   "execution_count": 11,
   "id": "19d39f16",
   "metadata": {},
   "outputs": [
    {
     "name": "stdout",
     "output_type": "stream",
     "text": [
      "success\n"
     ]
    },
    {
     "name": "stderr",
     "output_type": "stream",
     "text": [
      "/opt/anaconda3/lib/python3.8/site-packages/ipykernel/ipkernel.py:287: DeprecationWarning: `should_run_async` will not call `transform_cell` automatically in the future. Please pass the result to `transformed_cell` argument and any exception that happen during thetransform in `preprocessing_exc_tuple` in IPython 7.17 and above.\n",
      "  and should_run_async(code)\n",
      "/opt/anaconda3/lib/python3.8/site-packages/pyecharts/charts/chart.py:14: PendingDeprecationWarning: pyecharts 所有图表类型将在 v1.9.0 版本开始强制使用 ChartItem 进行数据项配置 :)\n",
      "  super().__init__(init_opts=init_opts)\n"
     ]
    },
    {
     "data": {
      "text/html": [
       "\n",
       "        <iframe\n",
       "            width=\"900\"\n",
       "            height=\"500\"\n",
       "            src=\"./data_13.html\"\n",
       "            frameborder=\"0\"\n",
       "            allowfullscreen\n",
       "        ></iframe>\n",
       "        "
      ],
      "text/plain": [
       "<IPython.lib.display.IFrame at 0x7fdf094e1670>"
      ]
     },
     "execution_count": 11,
     "metadata": {},
     "output_type": "execute_result"
    }
   ],
   "source": [
    "# TODO 从pyecharts.charts中导入Line模块\n",
    "from pyecharts.charts import Line\n",
    "\n",
    "# A电影的售票数据\n",
    "y_data_A = [20,10,23,134,234,14,76]\n",
    "\n",
    "# B电影的售票数据\n",
    "y_data_B = [125,82,25,62,45,74,156]\n",
    "\n",
    "# 一周的天数数据\n",
    "x_data = [\"第一天\",\"第二天\",\"第三天\",\"第四天\",\"第五天\",\"第六天\",\"第七天\"]\n",
    "\n",
    "# TODO 使用Line()创建Line对象，赋值给line\n",
    "line = Line()\n",
    "\n",
    "# TODO 将列表x_data传入add_xaxis()函数\n",
    "line.add_xaxis(x_data)\n",
    "\n",
    "# TODO 使用add_yaxis()函数，将数据统称设置为\"A电影\"\n",
    "# 将列表y_data_A传入add_yaxis()函数\n",
    "line.add_yaxis(\"A电影\", y_data_A)\n",
    "\n",
    "# TODO 使用add_yaxis()函数，将数据统称设置为\"B电影\"\n",
    "# 将列表y_data_B传入add_yaxis()函数\n",
    "line.add_yaxis(\"B电影\", y_data_B)\n",
    "\n",
    "# TODO 使用render()函数存储文件，设置文件名为data.html\n",
    "line.render(\"data_13.html\")\n",
    "\n",
    "# TODO 使用print输出success\n",
    "print(\"success\")\n",
    "\n",
    "from IPython.display import IFrame\n",
    "\n",
    "IFrame(src='./data_13.html', width=900, height=500)"
   ]
  },
  {
   "cell_type": "markdown",
   "id": "15ff5b7f",
   "metadata": {},
   "source": [
    "## 弹幕发送者\n",
    "每年B站up主颁奖都会吸引一大波粉丝围观，视频中满屏的弹幕齐飞，Yoyo想知道到底有多少人发出了弹幕。\n",
    "\n",
    "她想到利用今天学习到的知识，通过爬取弹幕接口链接中的 XML代码，统计出一共有多少个发送者。\n",
    "\n",
    "温馨提示：本题需要用到：发送者 ID 这个知识点，请先点击提示进行学习。\n",
    "\n",
    "视频链接：\n",
    "https://www.bilibili.com/video/BV1u7411q7q8\n",
    "\n",
    "解题思路：\n",
    "1. 从以上的视频链接中，找到 cid 参数值，并且找到弹幕接口链接；\n",
    "https://comment.bilibili.com/{cid}.xml\n",
    "2. 从 XML 文件中提取 d 节点的 p 属性值；\n",
    "3. 分割 p 属性值的数据，提取发送者 ID；\n",
    "4. 将发送者 ID 储存在一个列表中，使用 len() 函数数量，并用格式化输出一共有多少个发送者。"
   ]
  },
  {
   "cell_type": "markdown",
   "id": "94f629c5",
   "metadata": {},
   "source": [
    "发送者ID是第七位，分割字符串时索引第六项"
   ]
  },
  {
   "cell_type": "code",
   "execution_count": 13,
   "id": "9377ac7d",
   "metadata": {},
   "outputs": [
    {
     "name": "stdout",
     "output_type": "stream",
     "text": [
      "一共有3178个发送者\n"
     ]
    }
   ],
   "source": [
    "# 使用import导入requests模块\n",
    "import requests\n",
    "\n",
    "# 从bs4中导入BeautifulSoup模块\n",
    "from bs4 import BeautifulSoup\n",
    "\n",
    "# TODO 将获取的弹幕接口链接赋值给变量url\n",
    "url = \"https://comment.bilibili.com/231269971.xml\"\n",
    "\n",
    "# TODO 将变量url作为参数，添加进requests.get()中，给赋值给response\n",
    "response = requests.get(url)\n",
    "\n",
    "# TODO 将服务器响应内容转换为字符串形式，赋值给xml\n",
    "xml = response.text\n",
    "\n",
    "# TODO 使用BeautifulSoup()读取xml，添加lxml解析器，赋值给soup\n",
    "soup = BeautifulSoup(xml, \"lxml\")\n",
    "\n",
    "# TODO 使用find_all()查询soup中d的节点，赋值给content_all\n",
    "content_all = soup.find_all(name = \"d\")\n",
    "\n",
    "# TODO 新建一个列表sendList\n",
    "sendList = []\n",
    "\n",
    "# TODO for循环遍历content_all\n",
    "for content in content_all:\n",
    "\n",
    "    # TODO 使用.attrs获取p对应的属性值，并赋值给data\n",
    "    data = content.attrs[\"p\"]\n",
    "    \n",
    "    # TODO 使用split()函数分割data，获取第七项元素发送者ID，并赋值给变量senderID\n",
    "    senderID = data.split(\",\")[6]\n",
    "\n",
    "    # TODO 如果senderID不在sendList里\n",
    "    if senderID not in sendList:\n",
    "\n",
    "        # TODO 将senderID添加进列表sendList中\n",
    "        sendList.append(senderID)\n",
    "\n",
    "# TODO 使用len()函数来统计sendList数组的长度\n",
    "sender = len(sendList)\n",
    "\n",
    "# TODO 使用格式化输出，输出一共有多少个发送者\n",
    "print(f\"一共有{sender}个发送者\")"
   ]
  },
  {
   "cell_type": "markdown",
   "id": "eb4a8145",
   "metadata": {},
   "source": [
    "## 弹幕数量折线图\n",
    "Yoyo学习完了今天的课程之后，想要统计以 60 秒为分段区间的弹幕数，并绘制折线图，生成的图片文件名称为line.html，这要怎么做呢？\n",
    "\n",
    "【题目要求】：\n",
    "1. 解析网页，获取每条弹幕的发送时间\n",
    "2. 以60s为一个单位，生成分段区间，统计每个区间内的弹幕数量，将结果保存在字典里\n",
    "3. 使用pyecharts.charts中的Line模块，绘制折线图，设置 x 轴和 y 轴，将生成的html文件名称为line.html。"
   ]
  },
  {
   "cell_type": "code",
   "execution_count": 14,
   "id": "3e117f97",
   "metadata": {},
   "outputs": [
    {
     "name": "stdout",
     "output_type": "stream",
     "text": [
      "success\n"
     ]
    },
    {
     "name": "stderr",
     "output_type": "stream",
     "text": [
      "/opt/anaconda3/lib/python3.8/site-packages/pyecharts/charts/chart.py:14: PendingDeprecationWarning: pyecharts 所有图表类型将在 v1.9.0 版本开始强制使用 ChartItem 进行数据项配置 :)\n",
      "  super().__init__(init_opts=init_opts)\n"
     ]
    },
    {
     "data": {
      "text/html": [
       "\n",
       "        <iframe\n",
       "            width=\"900\"\n",
       "            height=\"500\"\n",
       "            src=\"./百词斩_13.html\"\n",
       "            frameborder=\"0\"\n",
       "            allowfullscreen\n",
       "        ></iframe>\n",
       "        "
      ],
      "text/plain": [
       "<IPython.lib.display.IFrame at 0x7fdf0be4b130>"
      ]
     },
     "execution_count": 14,
     "metadata": {},
     "output_type": "execute_result"
    }
   ],
   "source": [
    "# 使用import导入requests模块\n",
    "import requests\n",
    "\n",
    "# 从bs4中导入BeautifulSoup模块\n",
    "from bs4 import BeautifulSoup\n",
    "\n",
    "# TODO 从pyecharts.charts中导入Line模块\n",
    "from pyecharts.charts import Line\n",
    "\n",
    "# 将https://comment.bilibili.com/218710655.xml赋值给变量url\n",
    "url = \"https://comment.bilibili.com/218710655.xml\"\n",
    "\n",
    "# 将变量url作为参数，添加进requests.get()中，给赋值给response\n",
    "response = requests.get(url)\n",
    "\n",
    "# 调用.encoding属性获取requests模块的编码方式\n",
    "# 调用.apparent_encoding属性获取网页编码方式\n",
    "# 将网页编码方式赋值给response.encoding\n",
    "response.encoding = response.apparent_encoding\n",
    "\n",
    "# 将服务器响应内容转换为字符串形式，赋值给xml\n",
    "xml = response.text\n",
    "\n",
    "# 使用BeautifulSoup()读取xml，添加lxml解析器，赋值给soup\n",
    "soup = BeautifulSoup(xml, \"lxml\")\n",
    "\n",
    "# 使用find_all()查询soup中d的节点，赋值给content_all\n",
    "content_all = soup.find_all(name=\"d\")\n",
    "\n",
    "# TODO 新建一个列表timeList\n",
    "timeList = []\n",
    "\n",
    "# TODO for循环遍历content_all\n",
    "for content in content_all:\n",
    "\n",
    "    # TODO 使用.attrs获取p对应的属性值，并赋值给data\n",
    "    data = content.attrs[\"p\"]\n",
    "\n",
    "    # TODO 使用split()函数分割data，获取时间并赋值给time\n",
    "    time = data.split(\",\")[0]\n",
    "\n",
    "    # TODO 将time转换成浮点数，添加进列表timeList中\n",
    "    timeList.append(float(time))\n",
    "\n",
    "# TODO 新建一个字典subtitlesDict\n",
    "subtitlesDict = {}\n",
    "\n",
    "# TODO 使用for循环遍历range()函数生成的0-12的数字\n",
    "for x in range(13):\n",
    "\n",
    "    # TODO 将60*x+1赋值给变量start\n",
    "    start = 60*x+1\n",
    "\n",
    "    # TODO 将60*(x+1)赋值给变量end\n",
    "    end = 60*(x+1)\n",
    "\n",
    "    # TODO 格式化start和end\n",
    "    # 用短横线相连，赋值给segment_range\n",
    "    segment_range = f\"{start}-{end}\"\n",
    "\n",
    "    # TODO 将segment_range作为字典subtitlesDict的键,添加进字典中\n",
    "    # 将字典中键所对应的值设置为0\n",
    "    subtitlesDict[segment_range] = 0\n",
    "\n",
    "# TODO for循环遍历字典subtitlesDict所有的键\n",
    "for subtitle in subtitlesDict.keys():\n",
    "\n",
    "    # TODO 使用split()分隔字典的键获取第一项，赋值给变量start_key\n",
    "    start_key = subtitle.split(\"-\")[0]\n",
    "\n",
    "    # TODO 使用split()分隔字典的键获取第二项，赋值给变量end_key\n",
    "    end_key = subtitle.split(\"-\")[1]\n",
    "\n",
    "    # TODO for循环遍历列表timeList\n",
    "    for time in timeList:\n",
    "\n",
    "        # TODO 如果弹幕分布时间在整型start_key和整型end_key之间\n",
    "        if int(start_key) <= time <= int(end_key):\n",
    "\n",
    "            # TODO 将字典中键所对应的值累加\n",
    "            subtitlesDict[subtitle] = subtitlesDict[subtitle] + 1\n",
    "\n",
    "# TODO 使用Line()创建Line对象，赋值给line\n",
    "line = Line()\n",
    "\n",
    "# TODO 使用list()将字典subtitlesDict所有键转换成列表，传入add_xaxis()中\n",
    "line.add_xaxis(list(subtitlesDict.keys()))\n",
    "\n",
    "# TODO 使用add_yaxis()函数，将数据统称设置为\"弹幕数\"\n",
    "# 将字典subtitlesDict所有值转换成列表，作为参数添加进函数中\n",
    "line.add_yaxis(\"弹幕数\", list(subtitlesDict.values()))\n",
    "\n",
    "# TODO 使用render()函数存储文件，设置文件名为line.html\n",
    "line.render(\"百词斩_13.html\")\n",
    "\n",
    "# TODO 使用print输出success\n",
    "print(\"success\")\n",
    "\n",
    "from IPython.display import IFrame\n",
    "\n",
    "IFrame(src='./百词斩_13.html', width=900, height=500)"
   ]
  }
 ],
 "metadata": {
  "kernelspec": {
   "display_name": "Python 3",
   "language": "python",
   "name": "python3"
  },
  "language_info": {
   "codemirror_mode": {
    "name": "ipython",
    "version": 3
   },
   "file_extension": ".py",
   "mimetype": "text/x-python",
   "name": "python",
   "nbconvert_exporter": "python",
   "pygments_lexer": "ipython3",
   "version": "3.8.8"
  }
 },
 "nbformat": 4,
 "nbformat_minor": 5
}

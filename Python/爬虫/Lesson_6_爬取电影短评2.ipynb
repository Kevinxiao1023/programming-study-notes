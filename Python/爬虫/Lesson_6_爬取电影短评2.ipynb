{
 "cells": [
  {
   "cell_type": "markdown",
   "id": "17ef76b9",
   "metadata": {},
   "source": [
    "今天我们会学习 jieba 分词，结合上节课的知识，帮助静静解决问题。你将会完成以下内容：\n",
    "\n",
    "1. 向网页发送请求，获取网页源代码;\n",
    "2. 解析源代码，提取想要的数据；\n",
    "3. 使用 jieba 模块将语句切分成词；\n",
    "4. 运用字典的知识进行词频统计；\n",
    "5. 将词语生成词云图。\n",
    "\n",
    "今天我们完成第三、四步骤。后面将会学习剩下的步骤。"
   ]
  },
  {
   "cell_type": "markdown",
   "id": "17774321",
   "metadata": {},
   "source": [
    "# 分词"
   ]
  },
  {
   "cell_type": "markdown",
   "id": "c00b31e5",
   "metadata": {},
   "source": [
    "## 中文分词"
   ]
  },
  {
   "cell_type": "markdown",
   "id": "e491b990",
   "metadata": {},
   "source": [
    "中文分词是中文信息处理的基本技术，指的是将一个汉字序列切分成一个一个单独的词。\n",
    "\n",
    "我们知道，英文单词之间是以空格作为分界符的，而中文是以字为基本的书写单位，词语之间没有明显的区分标记。\n",
    "\n",
    "在搜索引擎、机器翻译、语音合成等技术中，都需要用到中文分词。"
   ]
  },
  {
   "cell_type": "markdown",
   "id": "6c634238",
   "metadata": {},
   "source": [
    "## jieba分词"
   ]
  },
  {
   "cell_type": "markdown",
   "id": "4cbc1e32",
   "metadata": {},
   "source": [
    "中文分词的方法有很多种，今天我们要学习一个国内使用人数最多的中文分词工具——jieba 分词\n",
    "\n",
    "jieba 不是一个内置模块，所以在使用前要先通过代码 pip install jieba 在终端中进行安装。\n",
    "\n",
    "如果在自己电脑上安装不上或安装缓慢，可在命令后添加 -i https://pypi.tuna.tsinghua.edu.cn/simple/ 进行加速。"
   ]
  },
  {
   "cell_type": "markdown",
   "id": "0f11d4dc",
   "metadata": {},
   "source": [
    "在 jieba 模块中，分词的方法有很多种，在这里，我们使用 jieba.lcut()。\n",
    "\n",
    "jieba.lcut() 将字符串切分为词。"
   ]
  },
  {
   "cell_type": "markdown",
   "id": "e1685cec",
   "metadata": {},
   "source": [
    "想要使用 jieba 分词，首先导入 jieba 模块。\n",
    "\n",
    "将需要分词的字符串传入 jieba.lcut()，将语句进行切分。\n",
    "\n",
    "**完成后返回列表**，赋值给变量 words。"
   ]
  },
  {
   "cell_type": "code",
   "execution_count": 1,
   "id": "209678ae",
   "metadata": {},
   "outputs": [
    {
     "name": "stderr",
     "output_type": "stream",
     "text": [
      "Building prefix dict from the default dictionary ...\n",
      "Dumping model to file cache /var/folders/4z/x134c5vs38g4pdlhhy4vgmhc0000gn/T/jieba.cache\n",
      "Loading model cost 1.197 seconds.\n",
      "Prefix dict has been built successfully.\n"
     ]
    },
    {
     "name": "stdout",
     "output_type": "stream",
     "text": [
      "['我', '喜欢', '夜曲', '编程']\n"
     ]
    }
   ],
   "source": [
    "# TODO 导入jieba模块\n",
    "import jieba\n",
    "\n",
    "# TODO 将\"我喜欢夜曲编程\"，赋值给变量text\n",
    "text = \"我喜欢夜曲编程\"\n",
    "\n",
    "# TODO 将text传入jieba.lcut()，赋值给words\n",
    "words = jieba.lcut(text)\n",
    "\n",
    "# TODO 使用print输出words\n",
    "print(words)"
   ]
  },
  {
   "cell_type": "markdown",
   "id": "e20b90dc",
   "metadata": {},
   "source": [
    "回到项目中，上节课我们已经完成了内容的提取并输出了短评。\n",
    "\n",
    "接着，首先需要导入 jieba 模块。把变量 contentString 传入 jieba.lcut() 进行分词，将返回的列表赋值给 words。"
   ]
  },
  {
   "cell_type": "code",
   "execution_count": 2,
   "id": "b68f9935",
   "metadata": {},
   "outputs": [
    {
     "name": "stdout",
     "output_type": "stream",
     "text": [
      "['我', '心中', '的', '结局', '：', '就', '在', '老爷爷', '被', '勒令', '搬进', '养老院', '的', '第二天', '，', '来接', '他', '的', '人', '发现', '老爷爷', '静静地', '坐在', '椅子', '上', '，', '手中', '拿', '着', '还', '没充', '完', '的', '气球', '。', '他', '已经', '死', '了', '，', '脸上', '留着', '幸福', '的', '笑容', '。', '飞屋', '冒险', '只是', '老爷爷', '死前', '的', '幻境', '。', '至此', '影片', '结束', '。']\n",
      "['最后', '那些', '最', '无聊', '的', '事情', '，', '才', '是', '我', '最', '怀念', '的', '。']\n",
      "['有史以来', '最', '强壮', '的', '老爷爷', '和', '最', '轻便', '的', '房屋', '~', '一群', '最', '不靠', '谱', '的', '狗', '和', '一只', '引', '人', '发笑', '的', '怪', '鸟', '~', '外加', '一位', '惹人', '喜爱', '却', '戏份', '不多', '的', '老奶奶', '，', '组成', '了', '一部', '我大爱', '的', '好片', '！']\n",
      "['最', '让', '我', '感动', '的', '是', '电影', '开头', '，', '这', '对', '夫妻', '志趣相投', '、', '相濡以沫', '，', '我', '想', '自己', '能', '不能', '找到', '这样', '的', '另一半', '呢']\n",
      "['从头', '哭', '到', '尾']\n",
      "['“', '我', '总是', '记得', '那些', '无聊', '的', '小', '事情', '…', '…', '”', '“', '感谢', '你', '给', '了', '我', '精彩', '的', '一生', '”', '，', '简单', '并', '深情', '着']\n",
      "['史上', '第二', '彪悍', '钉子户', '的', '离奇', '拆迁', '故事', '。', 'Pixar', '完美', '地', '成熟', '了', '。']\n",
      "['找回', '丟失', '已久', '的', '夢', '想', '吧', '！', '在', '我', '還未', '老去', '的', '時候', '·', '·', '·']\n",
      "['爱', '和', '梦想', '，', '勇气', '和', '希望']\n",
      "['去掉', '小孩', '，', '坏蛋', '，', '狗', '，', '鸟', '的话', '，', '这会', '是', '部', '完美', '的', '短片', '，', 'but', '......', ';', '\\r\\n', '那段', '夫妻', '蒙太奇', '应该', '是', '我', '迄今', '最', '喜欢', '的', 'pixar', '段落', '了', ';', '\\r\\n', '有', '一点', '不得不', '佩服', 'pixar', '，', '拍', '的', '第一部', '3D', '就', '能', '完全', '摒弃', '滥', '斛', '噱头', '；', '而', '片头', '前', '那个', '“', '国内', '首部', '真人', '3D', '电影', '”', '的', '三分钟', '预告片', '，', '足以', '列入', '反面教材', '的', '经典', '了', '\\r\\n', '\\r\\n']\n",
      "['气球', '升起', '的', '时候', '太', '美好', '了']\n",
      "['前面', '几分钟', '就让', '人', '落泪', '，', '后面', '却', '越来越', '不靠', '谱']\n",
      "['基本', '是', '儿童剧', '，', '最', '感人', '的', '部分', '一直', '到', '屋子', '初飞起', '的', '那一刻', '，', '之后', '就', '一直', '在', '梦游', '了', '..', '=', '。', '=', ' ', '原本', '以为', '一切', '奇想', '不过', '是', '卡尔', '在', '再', '遇', '女孩', '那晚', '所', '做', '的', '一场', '梦', '，', '并且', '第二天', '天亮', '她', '还', '会', '来', '找', '他', '的', '…', '对', '男孩子', '气', '的', '艾莉', '的', '印象', '实在', '是', '太深', '了', '，', '这片', '要是', '只', '选取', '到', '艾莉', '死', '时', '，', '卡尔', '飞', '起', '气球', '，', '就是', '满分', '。', '皮克斯', '的', '技术', '没得说', '，', '因此', '4', '星']\n",
      "['梦想', '，', '多久', '开始', '实现', '都', '不晚', '。', '《', '冰河', '世纪', '》', '也好', '，', '《', '史瑞克', '》', '也好', '，', '永远', '都', '赶不上', '皮克斯', '动画', '的', '情怀', '与', '意境', '。']\n",
      "['在', '影片', '最', '开头', '对', '老夫妻', '一生', '的', '回顾', '无疑', '是', '最大', '泪点', '，', '他们', '过', '了', '很', '好', '很', '幸福', '的', '一生', '，', '当', '垂垂老矣', '，', '他们', '仍', '深爱着', '对方', '，', '就算', '你', '已', '不', '在', '，', '也', '要', '带', '着', '他们', '曾经', '共同', '的', '梦想', '在', '生命', '的', '最终', '冒险', '一把', '，', '就', '像', '小朋友', '不', '畏惧', '一切', '的', '好奇心', '，', '对', '生活', '对', '梦想', '，', '再', '大', '的', '年纪', '都', '不是', '阻碍']\n",
      "['近乎', '无可挑剔', '..']\n",
      "['PIXAR', '总是', '这么', 'perfect', '.', '原来', '和', '爱人', '相守', '一生', '是', '最大', '的', '冒险']\n",
      "['几十年', '的', '夫妻生活', '浓缩', '成', '几分钟', '那段', '美好', '死', '了', '。']\n",
      "['触动', '内心', '最', '柔软', '的', '温情']\n",
      "['前', '12', '分钟', '完美', '，', '后面', '剧作', '不及', '技术', '好', '。']\n"
     ]
    }
   ],
   "source": [
    "# 使用import导入requests模块\n",
    "import requests\n",
    "\n",
    "# 从bs4中导入BeautifulSoup\n",
    "from bs4 import BeautifulSoup\n",
    "\n",
    "# TODO 使用import导入jieba模块\n",
    "import jieba\n",
    "\n",
    "# 将豆瓣电影评论URL地址，赋值给变量url\n",
    "url = \"https://movie.douban.com/subject/2129039/comments?sort=new_score&status=P\"\n",
    "\n",
    "# 将User-Agent以字典键对形式赋值给headers\n",
    "headers = {\"User-Agent\": \"Mozilla/5.0 (Macintosh; Intel Mac OS X 10_14_6) AppleWebKit/537.36 (KHTML, like Gecko) Chrome/84.0.4147.89 Safari/537.36\"}\n",
    "\n",
    "# 将 url 和 headers参数，添加进requests.get()中，将字典headers传递headers参数，给赋值给response\n",
    "response = requests.get(url, headers=headers)\n",
    "\n",
    "# 将服务器响应内容转换为字符串形式，赋值给html\n",
    "html = response.text\n",
    "\n",
    "# 使用BeautifulSoup()传入变量html和解析器lxml，赋值给soup\n",
    "soup = BeautifulSoup(html, \"lxml\")\n",
    "\n",
    "# 使用find_all()查询soup中class=\"short\"的节点，赋值给content_all\n",
    "content_all = soup.find_all(class_=\"short\")\n",
    "\n",
    "# for循环遍历content_all\n",
    "for content in content_all:\n",
    "\n",
    "    # 获取每个节点中标签内容，赋值给contentString\n",
    "    contentString = content.string\n",
    "\n",
    "    # TODO 使用jieba.lcut()将contentString进行分词，赋值给words\n",
    "    words = jieba.lcut(contentString)\n",
    "\n",
    "    # TODO 使用print输出words\n",
    "    print(words)"
   ]
  },
  {
   "cell_type": "markdown",
   "id": "71a96536",
   "metadata": {},
   "source": [
    "我们使用 jieba 模块将电影短评拆分成词。\n",
    "\n",
    "**由于 jieba.lcut() 函数返回的结果是列表，在这里，有多少条电影短评，就有多少个列表生成**。\n",
    "\n",
    "**为了方便接下来对所有电影短评作出词频分析，我们可以将多个列表合并成一个列表。**"
   ]
  },
  {
   "cell_type": "markdown",
   "id": "61988170",
   "metadata": {},
   "source": [
    "# 列表合并"
   ]
  },
  {
   "cell_type": "markdown",
   "id": "99f07fbe",
   "metadata": {},
   "source": [
    "在 Python 中合并列表是非常常见的操作，方法也有很多，在这里，我们学习通过 + 运算直接拼接。\n",
    "\n",
    "如代码所示，将列表 list1 和列表 list2 使用 + 运算，赋值给 result，即可将两个列表合并。     \n",
    "\n",
    "通过\"+\"可以合并两个列表的所有元素，其中加号右边列表的元素会添加在左边列表元素之后"
   ]
  },
  {
   "cell_type": "code",
   "execution_count": 3,
   "id": "d75ae041",
   "metadata": {},
   "outputs": [
    {
     "name": "stdout",
     "output_type": "stream",
     "text": [
      "[0, 1, 2, 3, 4, 5, 6, 7, 8]\n"
     ]
    }
   ],
   "source": [
    "list1 = [0, 1, 2]\n",
    "list2 = [3, 4, 5]\n",
    "list3 = [6, 7, 8]\n",
    "result = list1 + list2 + list3\n",
    "print(result)"
   ]
  },
  {
   "cell_type": "markdown",
   "id": "6320b64e",
   "metadata": {},
   "source": [
    "在这里，我们可以新建一个列表 wordList。\n",
    "\n",
    "想要合并所有列表 words，可以将列表 wordList 与列表 words 用 + 运算符合并，并赋值给列表 wordList。"
   ]
  },
  {
   "cell_type": "code",
   "execution_count": 4,
   "id": "77d86bec",
   "metadata": {},
   "outputs": [
    {
     "name": "stdout",
     "output_type": "stream",
     "text": [
      "['“', '我', '总是', '记得', '那些', '无聊', '的', '小', '事情', '…', '…', '”', '“', '感谢', '你', '给', '了', '我', '精彩', '的', '一生', '”', '，', '简单', '并', '深情', '着', '去掉', '小孩', '，', '坏蛋', '，', '狗', '，', '鸟', '的话', '，', '这会', '是', '部', '完美', '的', '短片', '，', 'but', '......', ';', '\\r\\n', '那段', '夫妻', '蒙太奇', '应该', '是', '我', '迄今', '最', '喜欢', '的', 'pixar', '段落', '了', ';', '\\r\\n', '有', '一点', '不得不', '佩服', 'pixar', '，', '拍', '的', '第一部', '3D', '就', '能', '完全', '摒弃', '滥', '斛', '噱头', '；', '而', '片头', '前', '那个', '“', '国内', '首部', '真人', '3D', '电影', '”', '的', '三分钟', '预告片', '，', '足以', '列入', '反面教材', '的', '经典', '了', '\\r\\n', '\\r\\n', '气球', '升起', '的', '时候', '太', '美好', '了', '最后', '那些', '最', '无聊', '的', '事情', '，', '才', '是', '我', '最', '怀念', '的', '。', '有史以来', '最', '强壮', '的', '老爷爷', '和', '最', '轻便', '的', '房屋', '~', '一群', '最', '不靠', '谱', '的', '狗', '和', '一只', '引', '人', '发笑', '的', '怪', '鸟', '~', '外加', '一位', '惹人', '喜爱', '却', '戏份', '不多', '的', '老奶奶', '，', '组成', '了', '一部', '我大爱', '的', '好片', '！', '基本', '是', '儿童剧', '，', '最', '感人', '的', '部分', '一直', '到', '屋子', '初飞起', '的', '那一刻', '，', '之后', '就', '一直', '在', '梦游', '了', '..', '=', '。', '=', ' ', '原本', '以为', '一切', '奇想', '不过', '是', '卡尔', '在', '再', '遇', '女孩', '那晚', '所', '做', '的', '一场', '梦', '，', '并且', '第二天', '天亮', '她', '还', '会', '来', '找', '他', '的', '…', '对', '男孩子', '气', '的', '艾莉', '的', '印象', '实在', '是', '太深', '了', '，', '这片', '要是', '只', '选取', '到', '艾莉', '死', '时', '，', '卡尔', '飞', '起', '气球', '，', '就是', '满分', '。', '皮克斯', '的', '技术', '没得说', '，', '因此', '4', '星', '我', '心中', '的', '结局', '：', '就', '在', '老爷爷', '被', '勒令', '搬进', '养老院', '的', '第二天', '，', '来接', '他', '的', '人', '发现', '老爷爷', '静静地', '坐在', '椅子', '上', '，', '手中', '拿', '着', '还', '没充', '完', '的', '气球', '。', '他', '已经', '死', '了', '，', '脸上', '留着', '幸福', '的', '笑容', '。', '飞屋', '冒险', '只是', '老爷爷', '死前', '的', '幻境', '。', '至此', '影片', '结束', '。', '梦想', '，', '多久', '开始', '实现', '都', '不晚', '。', '《', '冰河', '世纪', '》', '也好', '，', '《', '史瑞克', '》', '也好', '，', '永远', '都', '赶不上', '皮克斯', '动画', '的', '情怀', '与', '意境', '。', '前', '12', '分钟', '完美', '，', '后面', '剧作', '不及', '技术', '好', '。', '最', '让', '我', '感动', '的', '是', '电影', '开头', '，', '这', '对', '夫妻', '志趣相投', '、', '相濡以沫', '，', '我', '想', '自己', '能', '不能', '找到', '这样', '的', '另一半', '呢', '从头', '哭', '到', '尾', '史上', '第二', '彪悍', '钉子户', '的', '离奇', '拆迁', '故事', '。', 'Pixar', '完美', '地', '成熟', '了', '。', '为', '爱妻', '遗愿', '，', '老', '钉子户', '一飞冲天', '，', '远', '赴', '南美', '寻梦', '找回', '丟失', '已久', '的', '夢', '想', '吧', '！', '在', '我', '還未', '老去', '的', '時候', '·', '·', '·', '前面', '几分钟', '就让', '人', '落泪', '，', '后面', '却', '越来越', '不靠', '谱', '爱', '和', '梦想', '，', '勇气', '和', '希望', '在', '影片', '最', '开头', '对', '老夫妻', '一生', '的', '回顾', '无疑', '是', '最大', '泪点', '，', '他们', '过', '了', '很', '好', '很', '幸福', '的', '一生', '，', '当', '垂垂老矣', '，', '他们', '仍', '深爱着', '对方', '，', '就算', '你', '已', '不', '在', '，', '也', '要', '带', '着', '他们', '曾经', '共同', '的', '梦想', '在', '生命', '的', '最终', '冒险', '一把', '，', '就', '像', '小朋友', '不', '畏惧', '一切', '的', '好奇心', '，', '对', '生活', '对', '梦想', '，', '再', '大', '的', '年纪', '都', '不是', '阻碍', 'PIXAR', '总是', '能', '带来', '最', '单纯', '的', '美好', '最', '震撼', '的', '片头', '，', '5', '分钟', '见证', '一生', '。', '近乎', '无可挑剔', '..']\n"
     ]
    }
   ],
   "source": [
    "# 使用import导入requests模块\n",
    "import requests\n",
    "\n",
    "# 从bs4中导入BeautifulSoup\n",
    "from bs4 import BeautifulSoup\n",
    "\n",
    "# 使用import导入jieba模块\n",
    "import jieba\n",
    "\n",
    "# 将豆瓣电影评论URL地址，赋值给变量url\n",
    "url = \"https://movie.douban.com/subject/2129039/comments?sort=new_score&status=P\"\n",
    "\n",
    "# 将User-Agent以字典键对形式赋值给headers\n",
    "headers = {\"User-Agent\": \"Mozilla/5.0 (Macintosh; Intel Mac OS X 10_14_6) AppleWebKit/537.36 (KHTML, like Gecko) Chrome/84.0.4147.89 Safari/537.36\"}\n",
    "\n",
    "# 将 url 和 headers参数，添加进requests.get()中，将字典headers传递headers参数，给赋值给response\n",
    "response = requests.get(url, headers=headers)\n",
    "\n",
    "# 将服务器响应内容转换为字符串形式，赋值给html\n",
    "html = response.text\n",
    "\n",
    "# 使用BeautifulSoup()传入变量html和解析器lxml，赋值给soup\n",
    "soup = BeautifulSoup(html, \"lxml\")\n",
    "\n",
    "# 使用find_all()查询soup中class=\"short\"的节点，赋值给content_all\n",
    "content_all = soup.find_all(class_=\"short\")\n",
    "\n",
    "# TODO 创建一个空白列表wordList\n",
    "wordList = []\n",
    "\n",
    "# for循环遍历content_all\n",
    "for content in content_all:\n",
    "\n",
    "    # 获取每个节点中标签内容，赋值给contentString\n",
    "    contentString = content.string\n",
    "\n",
    "    # 使用jieba.lcut()将contentString进行分词，赋值给words\n",
    "    words = jieba.lcut(contentString)\n",
    "\n",
    "    # TODO 将列表wordList和列表words进行累加\n",
    "    wordList = wordList + words\n",
    "\n",
    "# TODO 使用print输出wordList\n",
    "print(wordList)"
   ]
  },
  {
   "cell_type": "markdown",
   "id": "936a6742",
   "metadata": {},
   "source": [
    "太好了，列表都合并在了一起，可列表中，不仅有词语，还有标点符号、数字，甚至还有不是词语的单个字，例如：\"是\", \"的\"，\"到\"等，这些都是我们不需要的字符串。\n",
    "\n",
    "有什么方法既能把不需要的字符串剔除掉，还能进行词频统计呢？\n",
    "在这里，我们可以使用字典dict。"
   ]
  },
  {
   "cell_type": "markdown",
   "id": "234f864a",
   "metadata": {},
   "source": [
    "# 词频统计"
   ]
  },
  {
   "cell_type": "markdown",
   "id": "a81d76b4",
   "metadata": {},
   "source": [
    "让我们来复习一下字典相关的代码\n",
    "\n",
    "第四行，在字典 number_dict 中添加新键值对，键为d值为4；     \n",
    "第七行，输出字典number_dict；    \n",
    "第十行，输出字典number_dict所有的键；     \n",
    "第十三行，输出字典number_dict所有的值；"
   ]
  },
  {
   "cell_type": "code",
   "execution_count": 5,
   "id": "379921a7",
   "metadata": {},
   "outputs": [
    {
     "name": "stdout",
     "output_type": "stream",
     "text": [
      "{'a': 1, 'b': 2, 'c': '3', 'd': 4}\n",
      "dict_keys(['a', 'b', 'c', 'd'])\n",
      "dict_values([1, 2, '3', 4])\n"
     ]
    }
   ],
   "source": [
    "number_dict = {'a': 1, 'b': 2, 'c': '3'}\n",
    "\n",
    "# TODO 添加新键值对number_dict[\"d\"] = 4\n",
    "number_dict[\"d\"] = 4\n",
    "\n",
    "# TODO 输出字典number_dict\n",
    "print(number_dict)\n",
    "\n",
    "# TODO 输出number_dict.keys()\n",
    "print(number_dict.keys())\n",
    "\n",
    "# TODO 输出number_dict.values()\n",
    "print(number_dict.values())"
   ]
  },
  {
   "cell_type": "markdown",
   "id": "287e62fe",
   "metadata": {},
   "source": [
    "词频统计     \n",
    "\n",
    "以右边的列表为例，我们可以建立一个空白字典，遍历列表，将字符串作为字典的键添加进字典中。\n",
    "\n",
    "如果字典中还没有相同的键，把新元素添加进字典中，对应的值设为1；\n",
    "\n",
    "如果已经存在相同的键，就把对应的值进行累加。\n",
    "\n",
    "这样就可以统计出，列表中相同字符串的个数。"
   ]
  },
  {
   "cell_type": "code",
   "execution_count": 6,
   "id": "461f63a1",
   "metadata": {},
   "outputs": [
    {
     "name": "stdout",
     "output_type": "stream",
     "text": [
      "{'AA': 3, 'BB': 2, 'C': 1, 'D': 1}\n"
     ]
    }
   ],
   "source": [
    "result = [\"AA\", \"AA\", \"AA\", \"BB\", \"BB\", \"C\", \"D\"]\n",
    "letter = {}\n",
    "for word in result:\n",
    "    if word not in letter.keys():\n",
    "        letter[word] = 1\n",
    "    else:\n",
    "        letter[word] = letter[word] + 1\n",
    "print(letter)"
   ]
  },
  {
   "cell_type": "markdown",
   "id": "e0f2a80e",
   "metadata": {},
   "source": [
    "列表result存储了六个字符串，需要创建一个空白字典letter。\n",
    "\n",
    "然后，for循环遍历列表result，使用if语句判断，word不在字典的键中，将字典中word对应的值设为1；否则，将字典中，word出现的次数进行累加统计。"
   ]
  },
  {
   "cell_type": "markdown",
   "id": "84ff2e4c",
   "metadata": {},
   "source": [
    "如果我们不想在字典中添加单个字符串，可以先判断字符串的长度。\n",
    "\n",
    "使用 len() 函数可以获取字符串的长度，在添加进字典前，先对字符串的长度进行判断。\n",
    "\n",
    "当字符串的长度大于 1 时，才进行接下来的统计。加上这个判断后，列表中的 C 和 D 就不会添加进字典中了。"
   ]
  },
  {
   "cell_type": "code",
   "execution_count": 7,
   "id": "4a54aa39",
   "metadata": {},
   "outputs": [
    {
     "name": "stdout",
     "output_type": "stream",
     "text": [
      "{'AA': 3, 'BB': 2}\n"
     ]
    }
   ],
   "source": [
    "result = [\"AA\", \"AA\", \"AA\", \"BB\", \"BB\", \"C\", \"D\"]\n",
    "letter = {}\n",
    "for word in result:\n",
    "    if len(word) > 1:\n",
    "        if word not in letter.keys(): \n",
    "            letter[word] = 1\n",
    "        else:\n",
    "            letter[word] = letter[word] + 1\n",
    "print(letter)"
   ]
  },
  {
   "cell_type": "markdown",
   "id": "5c14870b",
   "metadata": {},
   "source": [
    "回到项目中，我们可以创建一个空白字典 wordDict，for 循环遍历列表 words。\n",
    "\n",
    "判断仅当字符的长度大于 1 时，才进行接下来的统计操作。\n",
    "\n",
    "接着判断如果该元素不存在字典的键中，就将该元素添加进字典中，对应的值设为1；否则，将对应的值进行累加。"
   ]
  },
  {
   "cell_type": "code",
   "execution_count": 8,
   "id": "2fe40517",
   "metadata": {},
   "outputs": [
    {
     "name": "stdout",
     "output_type": "stream",
     "text": [
      "{'最后': 1, '那些': 2, '无聊': 2, '事情': 2, '怀念': 1, '有史以来': 1, '强壮': 1, '老爷爷': 4, '轻便': 1, '房屋': 1, '一群': 1, '不靠': 1, '一只': 1, '发笑': 1, '外加': 1, '一位': 1, '惹人': 1, '喜爱': 1, '戏份': 1, '不多': 1, '老奶奶': 1, '组成': 1, '一部': 1, '我大爱': 1, '好片': 1, '感动': 1, '电影': 2, '开头': 2, '夫妻': 2, '志趣相投': 1, '相濡以沫': 1, '自己': 1, '不能': 1, '找到': 1, '这样': 1, '另一半': 1, '总是': 2, '记得': 1, '感谢': 1, '精彩': 1, '一生': 4, '简单': 1, '深情': 1, '从头': 1, '史上': 1, '第二': 1, '彪悍': 1, '钉子户': 1, '离奇': 1, '拆迁': 1, '故事': 1, 'Pixar': 1, '完美': 2, '成熟': 1, '找回': 1, '丟失': 1, '已久': 1, '還未': 1, '老去': 1, '時候': 1, '梦想': 4, '勇气': 1, '希望': 1, '影片': 2, '老夫妻': 1, '回顾': 1, '无疑': 1, '最大': 2, '泪点': 1, '他们': 3, '幸福': 2, '垂垂老矣': 1, '深爱着': 1, '对方': 1, '就算': 1, '曾经': 1, '共同': 1, '生命': 1, '最终': 1, '冒险': 3, '一把': 1, '小朋友': 1, '畏惧': 1, '一切': 2, '好奇心': 1, '生活': 2, '年纪': 1, '不是': 1, '阻碍': 1, '去掉': 1, '小孩': 1, '坏蛋': 1, '的话': 1, '这会': 1, '短片': 1, 'but': 1, '......': 1, '\\r\\n': 4, '那段': 2, '蒙太奇': 1, '应该': 1, '迄今': 1, '喜欢': 1, 'pixar': 2, '段落': 1, '一点': 1, '不得不': 1, '佩服': 1, '第一部': 1, '3D': 2, '完全': 1, '摒弃': 1, '噱头': 1, '片头': 1, '那个': 1, '国内': 1, '首部': 1, '真人': 1, '三分钟': 1, '预告片': 1, '足以': 1, '列入': 1, '反面教材': 1, '经典': 1, '心中': 1, '结局': 1, '勒令': 1, '搬进': 1, '养老院': 1, '第二天': 2, '来接': 1, '发现': 1, '静静地': 1, '坐在': 1, '椅子': 1, '手中': 1, '没充': 1, '气球': 3, '已经': 1, '脸上': 1, '留着': 1, '笑容': 1, '飞屋': 1, '只是': 1, '死前': 1, '幻境': 1, '至此': 1, '结束': 1, '升起': 1, '时候': 1, '美好': 2, '近乎': 1, '无可挑剔': 1, '..': 2, '基本': 1, '儿童剧': 1, '感人': 1, '部分': 1, '一直': 2, '屋子': 1, '初飞起': 1, '那一刻': 1, '之后': 2, '梦游': 1, '原本': 1, '以为': 1, '奇想': 1, '不过': 1, '卡尔': 2, '女孩': 1, '那晚': 1, '一场': 1, '并且': 1, '天亮': 1, '男孩子': 1, '艾莉': 2, '印象': 1, '实在': 1, '太深': 1, '这片': 1, '要是': 1, '选取': 1, '就是': 1, '满分': 1, '皮克斯': 2, '技术': 1, '没得说': 1, '因此': 1, 'PIXAR': 1, '这么': 1, 'perfect': 1, '原来': 1, '爱人': 1, '相守': 1, '多久': 1, '开始': 1, '实现': 1, '不晚': 1, '冰河': 1, '世纪': 1, '也好': 2, '史瑞克': 1, '永远': 1, '赶不上': 1, '动画': 1, '情怀': 1, '意境': 1, '几十年': 1, '夫妻生活': 1, '浓缩': 1, '几分钟': 1, '触动': 1, '内心': 1, '柔软': 1, '温情': 1, '相识': 1, '相爱': 1, '相伴': 1, '人生': 1, '浪漫': 1, '其实': 1, '爱情': 1, '需要': 1, '轰轰烈烈': 1, '柴米油盐': 1, '普通': 1, '平淡': 1, '真实': 1, '珍惜': 1, '人生旅途': 1, '风景': 1, '铁血': 1, '汉子': 1, '纷纷': 1, '落泪': 1, '女人': 1, '看过': 1, '私定终身': 1}\n"
     ]
    }
   ],
   "source": [
    "# 使用import导入requests模块\n",
    "import requests\n",
    "\n",
    "# 从bs4中导入BeautifulSoup\n",
    "from bs4 import BeautifulSoup\n",
    "\n",
    "# 使用import导入jieba模块\n",
    "import jieba\n",
    "\n",
    "# 将豆瓣电影评论URL地址，赋值给变量url\n",
    "url = \"https://movie.douban.com/subject/2129039/comments?sort=new_score&status=P\"\n",
    "\n",
    "# 将User-Agent以字典键对形式赋值给headers\n",
    "headers = {\"User-Agent\": \"Mozilla/5.0 (Macintosh; Intel Mac OS X 10_14_6) AppleWebKit/537.36 (KHTML, like Gecko) Chrome/84.0.4147.89 Safari/537.36\"}\n",
    "\n",
    "# 将 url 和 headers参数，添加进requests.get()中，将字典headers传递headers参数，给赋值给response\n",
    "response = requests.get(url, headers=headers)\n",
    "\n",
    "# 将服务器响应内容转换为字符串形式，赋值给html\n",
    "html = response.text\n",
    "\n",
    "# 使用BeautifulSoup()传入变量html和解析器lxml，赋值给soup\n",
    "soup = BeautifulSoup(html, \"lxml\")\n",
    "\n",
    "# 使用find_all()查询soup中class=\"short\"的节点，赋值给content_all\n",
    "content_all = soup.find_all(class_=\"short\")\n",
    "\n",
    "# 创建一个空白列表wordList\n",
    "wordList = []\n",
    "\n",
    "# for循环遍历content_all\n",
    "for content in content_all:\n",
    "\n",
    "    # 获取每个节点中标签内容，赋值给contentString\n",
    "    contentString = content.string\n",
    "\n",
    "    # 使用jieba.lcut()将contentString进行分词，赋值给words\n",
    "    words = jieba.lcut(contentString)\n",
    "\n",
    "    # 将列表wordList和列表words进行累加\n",
    "    wordList = wordList + words\n",
    "\n",
    "# TODO 创建一个空白字典wordDict\n",
    "wordDict = {}\n",
    "\n",
    "# TODO for循环遍历列表wordList\n",
    "for word in wordList:\n",
    "    \n",
    "    # TODO 如果列表中的元素长度大于1\n",
    "    if len(word) > 1:\n",
    "        \n",
    "        # TODO 如果该元素不存在字典的键中\n",
    "        if word not in wordDict.keys():\n",
    "            \n",
    "            # TODO 将字典中键所对应的值设置为1\n",
    "            wordDict[word] = 1\n",
    "        \n",
    "        # TODO 否则\n",
    "        else:\n",
    "\n",
    "            # TODO 将字典中键所对应的值累加\n",
    "            wordDict[word] = wordDict[word] + 1\n",
    "\n",
    "# TODO 使用print输出wordDict\n",
    "print(wordDict)"
   ]
  },
  {
   "cell_type": "markdown",
   "id": "c0a326b1",
   "metadata": {},
   "source": [
    "# 总结     \n",
    "\n",
    "这节课我们学习了User-Agent，提取出网页的HTML代码，从中提取出了电影短评。\n",
    "\n",
    "导入 jieba 模块，使用 jieba.lcut() 函数将语句切分成词，对词语出现的次数进行统计。\n",
    "\n",
    "下节课我们会学习绘制词云图的方法。"
   ]
  },
  {
   "cell_type": "markdown",
   "id": "2aedede3",
   "metadata": {},
   "source": [
    "# 题目"
   ]
  },
  {
   "cell_type": "markdown",
   "id": "8fc0636b",
   "metadata": {},
   "source": [
    "从以下的URL中获取网页HTML代码，提取出电影短评，使用jieba分词将电影短评拆分成词，将分词结果合并成一个列表。\n",
    "\n",
    "URL地址：\n",
    "https://movie.douban.com/subject/2129039/comments?sort=new_score&status=P\n",
    "\n",
    "User-Agent:\n",
    "Mozilla/5.0 (Macintosh; Intel Mac OS X 10_14_6) AppleWebKit/537.36 (KHTML, like Gecko) Chrome/84.0.4147.89 Safari/537.36"
   ]
  },
  {
   "cell_type": "code",
   "execution_count": 9,
   "id": "4c85b35c",
   "metadata": {},
   "outputs": [
    {
     "name": "stdout",
     "output_type": "stream",
     "text": [
      "['最后', '那些', '最', '无聊', '的', '事情', '，', '才', '是', '我', '最', '怀念', '的', '。', '有史以来', '最', '强壮', '的', '老爷爷', '和', '最', '轻便', '的', '房屋', '~', '一群', '最', '不靠', '谱', '的', '狗', '和', '一只', '引', '人', '发笑', '的', '怪', '鸟', '~', '外加', '一位', '惹人', '喜爱', '却', '戏份', '不多', '的', '老奶奶', '，', '组成', '了', '一部', '我大爱', '的', '好片', '！', '最', '让', '我', '感动', '的', '是', '电影', '开头', '，', '这', '对', '夫妻', '志趣相投', '、', '相濡以沫', '，', '我', '想', '自己', '能', '不能', '找到', '这样', '的', '另一半', '呢', '“', '我', '总是', '记得', '那些', '无聊', '的', '小', '事情', '…', '…', '”', '“', '感谢', '你', '给', '了', '我', '精彩', '的', '一生', '”', '，', '简单', '并', '深情', '着', '去掉', '小孩', '，', '坏蛋', '，', '狗', '，', '鸟', '的话', '，', '这会', '是', '部', '完美', '的', '短片', '，', 'but', '......', ';', '\\r\\n', '那段', '夫妻', '蒙太奇', '应该', '是', '我', '迄今', '最', '喜欢', '的', 'pixar', '段落', '了', ';', '\\r\\n', '有', '一点', '不得不', '佩服', 'pixar', '，', '拍', '的', '第一部', '3D', '就', '能', '完全', '摒弃', '滥', '斛', '噱头', '；', '而', '片头', '前', '那个', '“', '国内', '首部', '真人', '3D', '电影', '”', '的', '三分钟', '预告片', '，', '足以', '列入', '反面教材', '的', '经典', '了', '\\r\\n', '\\r\\n', '从头', '哭', '到', '尾', '气球', '升起', '的', '时候', '太', '美好', '了', '基本', '是', '儿童剧', '，', '最', '感人', '的', '部分', '一直', '到', '屋子', '初飞起', '的', '那一刻', '，', '之后', '就', '一直', '在', '梦游', '了', '..', '=', '。', '=', ' ', '原本', '以为', '一切', '奇想', '不过', '是', '卡尔', '在', '再', '遇', '女孩', '那晚', '所', '做', '的', '一场', '梦', '，', '并且', '第二天', '天亮', '她', '还', '会', '来', '找', '他', '的', '…', '对', '男孩子', '气', '的', '艾莉', '的', '印象', '实在', '是', '太深', '了', '，', '这片', '要是', '只', '选取', '到', '艾莉', '死', '时', '，', '卡尔', '飞', '起', '气球', '，', '就是', '满分', '。', '皮克斯', '的', '技术', '没得说', '，', '因此', '4', '星', '梦想', '，', '多久', '开始', '实现', '都', '不晚', '。', '《', '冰河', '世纪', '》', '也好', '，', '《', '史瑞克', '》', '也好', '，', '永远', '都', '赶不上', '皮克斯', '动画', '的', '情怀', '与', '意境', '。', '前', '12', '分钟', '完美', '，', '后面', '剧作', '不及', '技术', '好', '。', '为', '爱妻', '遗愿', '，', '老', '钉子户', '一飞冲天', '，', '远', '赴', '南美', '寻梦', '史上', '第二', '彪悍', '钉子户', '的', '离奇', '拆迁', '故事', '。', 'Pixar', '完美', '地', '成熟', '了', '。', 'PIXAR', '总是', '能', '带来', '最', '单纯', '的', '美好', '最', '震撼', '的', '片头', '，', '5', '分钟', '见证', '一生', '。', '找回', '丟失', '已久', '的', '夢', '想', '吧', '！', '在', '我', '還未', '老去', '的', '時候', '·', '·', '·', 'South', ' ', 'America', ' ', 'is', ' ', 'America', ',', 'but', ' ', 'in', ' ', 'the', ' ', 'south', '.', '爱', '和', '梦想', '，', '勇气', '和', '希望', '那', '老头', '为啥', '不', '早点', '买', '机票', '带', '老太太', '去', '仙境', '瀑布', '？', '影片', '温馨', '感人', '且', '有', '趣味', '，', '发现', '主角', '的', '偶像', '是', '最大', '的', '反派', '这个', '跟', '寻梦', '是', '一个', '套路', '啊', '活着', '的', '时候', '完成', '心愿', '比较', '重要', '。']\n"
     ]
    }
   ],
   "source": [
    "# 使用import导入requests模块\n",
    "import requests\n",
    "\n",
    "# 从bs4中导入BeautifulSoup\n",
    "from bs4 import BeautifulSoup\n",
    "\n",
    "# 使用import导入jieba模块\n",
    "import jieba\n",
    "\n",
    "# 将豆瓣电影评论URL地址，赋值给变量url\n",
    "url = \"https://movie.douban.com/subject/2129039/comments?sort=new_score&status=P\"\n",
    "\n",
    "# 将User-Agent以字典键对形式赋值给headers\n",
    "headers = {\"User-Agent\": \"Mozilla/5.0 (Macintosh; Intel Mac OS X 10_14_6) AppleWebKit/537.36 (KHTML, like Gecko) Chrome/84.0.4147.89 Safari/537.36\"}\n",
    "\n",
    "# 将 url 和 headers参数，添加进requests.get()中，将字典headers传递headers参数，给赋值给response\n",
    "response = requests.get(url, headers=headers)\n",
    "\n",
    "# 将服务器响应内容转换为字符串形式，赋值给html\n",
    "html = response.text\n",
    "\n",
    "# 使用BeautifulSoup()传入变量html和解析器lxml，赋值给soup\n",
    "soup = BeautifulSoup(html, \"lxml\")\n",
    "\n",
    "# 使用find_all()查询soup中class=\"short\"的节点，赋值给content_all\n",
    "content_all = soup.find_all(class_=\"short\")\n",
    "\n",
    "# TODO 创建一个空白列表wordList\n",
    "wordList = []\n",
    "\n",
    "# TODO for循环遍历content_all\n",
    "for content in content_all:\n",
    "\n",
    "    # TODO 获取每个节点中标签内容，赋值给contentString\n",
    "    contentString = content.string\n",
    "\n",
    "    # TODO 使用jieba.lcut()将contentString进行分词，赋值给words\n",
    "    words = jieba.lcut(contentString)\n",
    "\n",
    "    # TODO 将列表wordList和列表words进行累加\n",
    "    wordList = wordList + words\n",
    "\n",
    "# TODO 使用print输出wordList\n",
    "print(wordList)"
   ]
  },
  {
   "cell_type": "markdown",
   "id": "073d126a",
   "metadata": {},
   "source": [
    "# 百词斩题目"
   ]
  },
  {
   "cell_type": "markdown",
   "id": "166ed869",
   "metadata": {},
   "source": [
    "## 肖邦分词     \n",
    "\n",
    "静静要将指定数组进行连接，并使用jieba进行分词，最后输出结果。contentList已定义：\n",
    "`contentList=[\"肖邦在波兰被视为神童，1816年6岁的时候开始正式学习钢琴\", \"第一位老师是沃伊切赫•日维尼本身是一位画家、小提琴家\", \"他的姐姐路德维卡也和他一起学琴\", \"肖邦是个音乐天才，从小就展现出他惊人的音乐天赋，7岁时便能公开演奏\", \"他的第一首作品G小调和降B大调波兰舞曲创作于1817年，体现出肖邦不同寻常的即兴创作能力\", \"他在华沙获誉为“莫扎特的继承人”、“第二个莫扎特”。\"]`\n",
    "\n",
    "【解题步骤】\n",
    "1. 导入jieba库；\n",
    "2. for循环遍历列表；\n",
    "3. 使用jieba.lcut()函数将列表中的元素进行分析，并赋值给words\n",
    "4. 使用print输出结果。"
   ]
  },
  {
   "cell_type": "code",
   "execution_count": 10,
   "id": "b8ac1f37",
   "metadata": {},
   "outputs": [
    {
     "name": "stdout",
     "output_type": "stream",
     "text": [
      "['肖邦', '在', '波兰', '被', '视为', '神童', '，', '1816', '年', '6', '岁', '的', '时候', '开始', '正式', '学习', '钢琴']\n",
      "['第一位', '老师', '是', '沃伊切', '赫', '•', '日维尼', '本身', '是', '一位', '画家', '、', '小提琴家']\n",
      "['他', '的', '姐姐', '路德', '维卡', '也', '和', '他', '一起', '学琴']\n",
      "['肖邦', '是', '个', '音乐', '天才', '，', '从小', '就', '展现出', '他', '惊人', '的', '音乐', '天赋', '，', '7', '岁', '时', '便', '能', '公开', '演奏']\n",
      "['他', '的', '第一首', '作品', 'G', '小调', '和', '降', 'B', '大调', '波兰', '舞曲', '创作', '于', '1817', '年', '，', '体现', '出', '肖邦', '不同寻常', '的', '即兴', '创作', '能力']\n",
      "['他', '在', '华沙', '获', '誉为', '“', '莫扎特', '的', '继承人', '”', '、', '“', '第二个', '莫扎特', '”', '。']\n"
     ]
    }
   ],
   "source": [
    "import jieba\n",
    "# 需要分词的字符串\n",
    "contentList=[\"肖邦在波兰被视为神童，1816年6岁的时候开始正式学习钢琴\",\n",
    "        \"第一位老师是沃伊切赫•日维尼本身是一位画家、小提琴家\",\n",
    "        \"他的姐姐路德维卡也和他一起学琴\",\n",
    "        \"肖邦是个音乐天才，从小就展现出他惊人的音乐天赋，7岁时便能公开演奏\",\n",
    "        \"他的第一首作品G小调和降B大调波兰舞曲创作于1817年，体现出肖邦不同寻常的即兴创作能力\",\n",
    "        \"他在华沙获誉为“莫扎特的继承人”、“第二个莫扎特”。\"]\n",
    "for content in contentList:\n",
    "    words = jieba.lcut(content)\n",
    "    print(words)"
   ]
  },
  {
   "cell_type": "markdown",
   "id": "337d9621",
   "metadata": {},
   "source": [
    "## 删除单字和标点          \n",
    "\n",
    "静静发现使用jieba分词后的结果包含了很多无意义的词，并且这些词语出现的频率高，严重影响静静分析其关键词。这些词语主要是单个文字（例如：的，是……），以及一些标点符号（逗号，句号……）。为了更快速地获取关键内容，静静想要把这些无意义的词语删除，这要如何实现呢？\n",
    "\n",
    "需要进行分词的contentList：\n",
    "\n",
    "`contentList=[\"小王子是一个超凡脱俗的仙童，他住在一颗只比他大一丁点儿的小行星上。\", \"陪伴他的是一朵他非常喜爱的小玫瑰花，但玫瑰花的虚荣心伤害了小王子对她的感情。\", \"小王子告别小行星，开始了遨游太空的旅行。\", \"他先后访问了六个行星，各种见闻使他陷入忧伤，他感到大人们荒唐可笑、太不正常。\", \"只有在其中一个点灯人的星球上，小王子才找到一个可以作为朋友的人。\", \"但点灯人的天地又十分狭小，除了点灯人他自己，不能容下第二个人。\", \"在地理学家的指点下，孤单的小王子来到人类居住的地球。\"]`\n",
    "\n",
    "【题目要求】\n",
    "1. 遍历contentList每一项内容；\n",
    "2. 使用jieba模块对字符串进行分词；\n",
    "3. 遍历分词后的列表，使用len()函数计算字符的长度；\n",
    "4. 字符长度大于1的内容就输出，否则跳过。\n",
    "\n",
    "注意：本题需要用到len()函数知识点，请先点击提示进行学习。"
   ]
  },
  {
   "cell_type": "code",
   "execution_count": 11,
   "id": "129fdfae",
   "metadata": {},
   "outputs": [
    {
     "name": "stdout",
     "output_type": "stream",
     "text": [
      "小王子\n",
      "一个\n",
      "超凡脱俗\n",
      "仙童\n",
      "一颗\n",
      "一丁点儿\n",
      "小行星\n",
      "陪伴\n",
      "一朵\n",
      "非常\n",
      "喜爱\n",
      "玫瑰花\n",
      "玫瑰花\n",
      "虚荣心\n",
      "伤害\n",
      "小王子\n",
      "感情\n",
      "小王子\n",
      "告别\n",
      "小行星\n",
      "开始\n",
      "遨游太空\n",
      "旅行\n",
      "先后\n",
      "访问\n",
      "六个\n",
      "行星\n",
      "各种\n",
      "见闻\n",
      "陷入\n",
      "忧伤\n",
      "感到\n",
      "人们\n",
      "荒唐\n",
      "可笑\n",
      "正常\n",
      "只有\n",
      "其中\n",
      "一个\n",
      "点灯\n",
      "星球\n",
      "小王子\n",
      "找到\n",
      "一个\n",
      "可以\n",
      "作为\n",
      "朋友\n",
      "点灯\n",
      "天地\n",
      "十分\n",
      "狭小\n",
      "除了\n",
      "点灯\n",
      "自己\n",
      "不能\n",
      "第二个\n",
      "地理学家\n",
      "指点\n",
      "孤单\n",
      "小王子\n",
      "来到\n",
      "人类\n",
      "居住\n",
      "地球\n"
     ]
    }
   ],
   "source": [
    "# 需要分词的字符串\n",
    "contentList=[\"小王子是一个超凡脱俗的仙童，他住在一颗只比他大一丁点儿的小行星上。\",\n",
    "\"陪伴他的是一朵他非常喜爱的小玫瑰花，但玫瑰花的虚荣心伤害了小王子对她的感情。\",\n",
    "\"小王子告别小行星，开始了遨游太空的旅行。\",\n",
    "\"他先后访问了六个行星，各种见闻使他陷入忧伤，他感到大人们荒唐可笑、太不正常。\",\n",
    "\"只有在其中一个点灯人的星球上，小王子才找到一个可以作为朋友的人。\",\n",
    "\"但点灯人的天地又十分狭小，除了点灯人他自己，不能容下第二个人。\",\n",
    "\"在地理学家的指点下，孤单的小王子来到人类居住的地球。\"]\n",
    "\n",
    "# TODO 导入jieba模块\n",
    "import jieba\n",
    "\n",
    "# TODO 使用for循环遍历contentList\n",
    "for content in contentList:\n",
    "\n",
    "    # TODO 使用jieba.lcut()将content进行分词，赋值给words\n",
    "    words = jieba.lcut(content)\n",
    "\n",
    "    # TODO 使用for循环遍历words\n",
    "    for word in words:\n",
    "\n",
    "        # TODO 使用if判断元素长度大于1时\n",
    "        if len(word) > 1:\n",
    "            # TODO 使用print()输出该词\n",
    "            print(word)\n",
    "        # TODO 否则\n",
    "        else:\n",
    "            # TODO 继续下次循环\n",
    "            continue"
   ]
  },
  {
   "cell_type": "markdown",
   "id": "4960df5c",
   "metadata": {},
   "source": [
    "## 歌曲评论           \n",
    "\n",
    "一首《年少有为》火遍大江南北，汤汤作为流行音乐系的学生，想要了解大家对于这首歌的评价。于是他进入了豆瓣音乐的网站：https://music.douban.com/subject/30277745/comments/\n",
    "\n",
    "汤汤想要读取该页所有的评论信息，利用结巴分词对评论信息进行处理，使用Counter模块找到出现频次前10的词语，最后输出词语和数量。\n",
    "\n",
    "`User-Agent：Mozilla/5.0 (Macintosh; Intel Mac OS X 10_14_6) AppleWebKit/537.36 (KHTML, like Gecko) Chrome/84.0.4147.89 Safari/537.36`\n",
    "\n",
    "注意：评论包含在属性为`class=\"short\"`所在的节点中。\n",
    "本题需要用到Counter模块知识点，请点击提示进行学习。"
   ]
  },
  {
   "cell_type": "markdown",
   "id": "5fa83a71",
   "metadata": {},
   "source": [
    "python-Counter计数函数\n",
    "\n",
    "Counter 计数器，顾名思义就是用来计数的，最主要的作用就是计算列表各个元素的数量。具体用法参看示例：\n",
    "```\n",
    "from collections import Counter\n",
    "wordList = ['html', 'js','js', 'css', 'python' 'python' 'python']\n",
    "word_counts = Counter(wordList)\n",
    "top_two = word_counts.most_common(2)\n",
    "print(top_two)\n",
    "```\n",
    "输出结果\n",
    "`[('python', 3), ('js', 2)]`"
   ]
  },
  {
   "cell_type": "code",
   "execution_count": 15,
   "id": "fa9ae581",
   "metadata": {},
   "outputs": [
    {
     "name": "stdout",
     "output_type": "stream",
     "text": [
      "[('，', 14), ('的', 14), ('。', 12), ('我', 7), ('歌词', 6), ('了', 6), (' ', 6), ('也', 5), ('无为', 4), ('可以', 4)]\n"
     ]
    }
   ],
   "source": [
    "import jieba\n",
    "from bs4 import BeautifulSoup\n",
    "import requests\n",
    "from collections import Counter\n",
    "\n",
    "url = \"https://music.douban.com/subject/30277745/comments/\"\n",
    "headers = {\"User-Agent\": \"Mozilla/5.0 (Macintosh; Intel Mac OS X 10_14_6) AppleWebKit/537.36 (KHTML, like Gecko) Chrome/84.0.4147.89 Safari/537.36\"}\n",
    "response = requests.get(url, headers = headers)\n",
    "html = response.text\n",
    "\n",
    "soup = BeautifulSoup(html, \"lxml\")\n",
    "content_all = soup.find_all(class_ = \"short\")\n",
    "wordList = []\n",
    "\n",
    "for content in content_all:\n",
    "    contentString = content.string\n",
    "    words = jieba.lcut(contentString)\n",
    "    wordList = wordList + words\n",
    "\n",
    "word_counts = Counter(wordList)\n",
    "top_10 = word_counts.most_common(10)\n",
    "print(top_10)"
   ]
  },
  {
   "cell_type": "code",
   "execution_count": 16,
   "id": "1db4f38a",
   "metadata": {},
   "outputs": [
    {
     "name": "stdout",
     "output_type": "stream",
     "text": [
      "{'好听': 2, '歌词': 6, '虽然': 1, '写得': 1, '一般': 1, '动情': 1, '这么': 1, '普普通通': 1, '述说': 1, '一个': 2, '男人': 1, '遗憾': 1, '居然': 1, '忍不住': 1, '鼻酸': 1, '一下': 2, '首歌': 1, '应该': 1, '原谅': 1, '至今': 1, '无为': 4, '这首': 1, '如果': 2, '年少': 3, '估计': 1, '可以': 4, '封神': 1, '或许': 1, '改成': 1, '达到': 1, '天真': 1, '境界': 1, '浩根': 1, '进步': 1, '要说': 1, '某个': 1, '网络': 1, '歌手': 1, '创作': 1, '演唱': 1, '相信': 1, '竟然': 1, '隐隐': 1, '算是': 2, '迄今': 1, '李荣浩': 1, '所有': 2, '歌里': 1, 'No.1': 1, '假装能': 1, '大器晚成': 1, '碌碌无为': 1, '我们': 1, '关于': 2, '旋律': 2, '说不上来': 1, '大约': 1, '的确': 2, '难过': 2, '真的': 1, '非常': 1, '无聊': 1, '砸烂': 1, '墙板': 1, '太有': 1, '画面感': 1, '反反复复': 1, '仔细': 1, '思考': 1, '这些年来': 1, '所作所为': 1, '确实': 1, '一首': 1, '好歌': 1, '自卑': 2, '没什么': 1, '特别': 2, '时不时': 1, '脑海': 1, '单曲': 2, '循环': 1, '奇怪': 1, '觉得': 1, '多好': 1, '少有': 1, '那种': 1, '感动': 1, '酒吧': 1, '李荣浩有': 1, '很多': 1, '故事': 1, '一碗': 1, '没够': 1, '一半': 1, '带走': 1, '喜欢': 1, '这句': 1, '音乐': 1, '朋友': 1, '这歌': 1, '抄袭': 1, '从前': 1, '一如既往': 1, '几乎': 1, '通顺': 1, '地烂': 1, '除此之外': 1, '年度': 2, '华语': 1, '男声': 1, 'pop': 1, '眾人': 1, '催淚': 1, '大作': 1, '就是': 1, '最後段': 1, '容易': 1, '串到': 1, '難過': 1, '2018': 1, '私人': 1}\n"
     ]
    }
   ],
   "source": [
    "import jieba\n",
    "from bs4 import BeautifulSoup\n",
    "import requests\n",
    "from collections import Counter\n",
    "\n",
    "url = \"https://music.douban.com/subject/30277745/comments/\"\n",
    "headers = {\"User-Agent\": \"Mozilla/5.0 (Macintosh; Intel Mac OS X 10_14_6) AppleWebKit/537.36 (KHTML, like Gecko) Chrome/84.0.4147.89 Safari/537.36\"}\n",
    "response = requests.get(url, headers = headers)\n",
    "html = response.text\n",
    "\n",
    "soup = BeautifulSoup(html, \"lxml\")\n",
    "content_all = soup.find_all(class_ = \"short\")\n",
    "wordList = []\n",
    "\n",
    "for content in content_all:\n",
    "    contentString = content.string\n",
    "    words = jieba.lcut(contentString)\n",
    "    wordList = wordList + words\n",
    "\n",
    "wordDict = {}\n",
    "for word in wordList:\n",
    "    if len(word) > 1:\n",
    "        if word not in wordDict.keys():\n",
    "            wordDict[word] = 1\n",
    "        else:\n",
    "            wordDict[word] = wordDict[word] + 1\n",
    "\n",
    "print(wordDict)\n"
   ]
  }
 ],
 "metadata": {
  "kernelspec": {
   "display_name": "Python 3",
   "language": "python",
   "name": "python3"
  },
  "language_info": {
   "codemirror_mode": {
    "name": "ipython",
    "version": 3
   },
   "file_extension": ".py",
   "mimetype": "text/x-python",
   "name": "python",
   "nbconvert_exporter": "python",
   "pygments_lexer": "ipython3",
   "version": "3.8.8"
  }
 },
 "nbformat": 4,
 "nbformat_minor": 5
}

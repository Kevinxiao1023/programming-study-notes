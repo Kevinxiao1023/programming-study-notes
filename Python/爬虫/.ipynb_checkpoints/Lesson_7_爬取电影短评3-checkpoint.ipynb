{
 "cells": [
  {
   "cell_type": "markdown",
   "id": "46e57ec7",
   "metadata": {},
   "source": [
    "在上节课我们已经完成了前三个步骤，今天我们要完成这个项目生成词云图。\n",
    "\n",
    "1. 向网页发送请求，获取网页源代码;\n",
    "2. 解析源代码，提取想要的数据；\n",
    "3. 使用 jieba 模块将语句切分成词；\n",
    "4. 运用字典的知识进行词频统计；\n",
    "5. 将词语生成词云图。"
   ]
  },
  {
   "cell_type": "markdown",
   "id": "007fc4c0",
   "metadata": {},
   "source": [
    "上节课，我们使用 jieba 模块将电影短评拆分成词。\n",
    "\n",
    "由于 jieba.lcut() 函数返回的结果是列表，在这里，有多少条电影短评，就有多少个列表生成。\n",
    "\n",
    "为了方便，使用列表合并的方法 ，列表 wordList 与列表 words 用 + 运算符合并，将多个列表合并成一个列表。"
   ]
  },
  {
   "cell_type": "markdown",
   "id": "e069d63f",
   "metadata": {},
   "source": [
    "最后，使用 词频统计 的方法，对词语出现的次数进行统计，并剔除了长度等于1的一些标点符号和语气词。"
   ]
  },
  {
   "cell_type": "markdown",
   "id": "fa5b2368",
   "metadata": {},
   "source": [
    "统计好词频后，接下来就到了最后一个环节——生成词云图。\n",
    "\n",
    "词云图是文本数据的视觉表示，由词汇组成类似云的彩色图形，用于展示大量文本数据。\n",
    "\n",
    "词云图是对文字中出现频率较高的“关键词”的视觉上的突出，过滤掉大量的文本信息，使浏览者只要一眼扫过就可以领略主旨。"
   ]
  },
  {
   "cell_type": "markdown",
   "id": "8a6c566d",
   "metadata": {},
   "source": [
    "# 生成词云图"
   ]
  },
  {
   "cell_type": "markdown",
   "id": "05a5637b",
   "metadata": {},
   "source": [
    "如何生成词云图呢？在这里我们使用 pyecharts。\n",
    "\n",
    "pyecharts 是一个用于生成 echarts 图表的模块。echarts 是百度开源的一个数据可视化模块，使用 pyechart 模块可以在 python 中生成 echarts 数据图。\n",
    "\n",
    "pyecharts 不是一个内置模块，所以在使用前要先通过代码 `pip install pyecharts==1.8.1 `在终端中进行安装。\n",
    "\n",
    "如果在自己电脑上安装不上或安装缓慢，可在命令后添加`-i https://pypi.tuna.tsinghua.edu.cn/simple/ `进行加速。"
   ]
  },
  {
   "cell_type": "markdown",
   "id": "71e6b59e",
   "metadata": {},
   "source": [
    "pyecharts 模块中的 WordCloud 可用于生成词云图。\n",
    "\n",
    "接下来，需要从 pyecharts 模块中导入 WordCloud。\n",
    "\n",
    "想要生成词云图，我们要学习三个有关词云的代码。      \n",
    "WordCloud()       \n",
    "add()       \n",
    "render()"
   ]
  },
  {
   "cell_type": "markdown",
   "id": "2d354fab",
   "metadata": {},
   "source": [
    "# WordCloud()"
   ]
  },
  {
   "cell_type": "markdown",
   "id": "f4f3ec92",
   "metadata": {},
   "source": [
    "利用 pyecharts 模块中可以绘制多种图表。\n",
    "\n",
    "pyecharts 模块是基于 echarts 模块构建的，所以我们要使用 pyecharts.charts 中的 WordCloud 来绘制词云图。\n",
    "\n",
    "示例使用 from...import 从 pyecharts.charts 中导入 WordCloud 。"
   ]
  },
  {
   "cell_type": "markdown",
   "id": "75625c4e",
   "metadata": {},
   "source": [
    "## 创建对象         \n",
    "\n",
    "导入 WordCloud() 类后，需要调用类中的方法，接下来，使用 WordCloud() 函数创建一个对象。\n",
    "\n",
    "注意：W和C要大写哦。"
   ]
  },
  {
   "cell_type": "markdown",
   "id": "3adb5cd8",
   "metadata": {},
   "source": [
    "## 赋值变量      \n",
    "\n",
    "将创建 WordCloud 对象赋值给变量 wd，就可以调用变量 wd，用于设置词云图中的其他参数。"
   ]
  },
  {
   "cell_type": "markdown",
   "id": "5712d9cc",
   "metadata": {},
   "source": [
    "让我们先在代码中，创建一个 WordCloud 对象吧。\n",
    "\n",
    "首先要从 pyecharts.charts 模块中导入 WordCloud 模块。\n",
    "\n",
    "接着使用 WordCloud() 函数，创建 WordCloud 对象，并赋值给 wordCloud。"
   ]
  },
  {
   "cell_type": "code",
   "execution_count": 1,
   "id": "7d9e6b5f",
   "metadata": {},
   "outputs": [
    {
     "name": "stderr",
     "output_type": "stream",
     "text": [
      "Building prefix dict from the default dictionary ...\n",
      "Loading model from cache /var/folders/4z/x134c5vs38g4pdlhhy4vgmhc0000gn/T/jieba.cache\n",
      "Loading model cost 1.198 seconds.\n",
      "Prefix dict has been built successfully.\n"
     ]
    },
    {
     "name": "stdout",
     "output_type": "stream",
     "text": [
      "success\n"
     ]
    },
    {
     "name": "stderr",
     "output_type": "stream",
     "text": [
      "/opt/anaconda3/lib/python3.8/site-packages/pyecharts/charts/chart.py:14: PendingDeprecationWarning: pyecharts 所有图表类型将在 v1.9.0 版本开始强制使用 ChartItem 进行数据项配置 :)\n",
      "  super().__init__(init_opts=init_opts)\n"
     ]
    }
   ],
   "source": [
    "# 使用import导入requests模块\n",
    "import requests\n",
    "\n",
    "# 从bs4中导入BeautifulSoup\n",
    "from bs4 import BeautifulSoup\n",
    "\n",
    "# 使用import导入jieba模块\n",
    "import jieba\n",
    "\n",
    "# TODO 从pyecharts.charts中导入WordCloud模块\n",
    "from pyecharts.charts import WordCloud\n",
    "\n",
    "# 将豆瓣电影评论URL地址，赋值给变量url\n",
    "url = \"https://movie.douban.com/subject/2129039/comments?sort=new_score&status=P\"\n",
    "\n",
    "# 将User-Agent以字典键对形式赋值给headers\n",
    "headers = {\"User-Agent\": \"Mozilla/5.0 (Macintosh; Intel Mac OS X 10_14_6) AppleWebKit/537.36 (KHTML, like Gecko) Chrome/84.0.4147.89 Safari/537.36\"}\n",
    "\n",
    "# 将 url 和 headers参数，添加进requests.get()中，将字典headers传递headers参数，给赋值给response\n",
    "response = requests.get(url, headers=headers)\n",
    "\n",
    "# 将服务器响应内容转换为字符串形式，赋值给html\n",
    "html = response.text\n",
    "\n",
    "# 使用BeautifulSoup()传入变量html和解析器lxml，赋值给soup\n",
    "soup = BeautifulSoup(html, \"lxml\")\n",
    "\n",
    "# 使用find_all()查询soup中class=\"short\"的节点，赋值给content_all\n",
    "content_all = soup.find_all(class_=\"short\")\n",
    "\n",
    "# 创建一个空白列表wordList\n",
    "wordList = []\n",
    "\n",
    "# for循环遍历content_all\n",
    "for content in content_all:\n",
    "\n",
    "    # 获取每个节点中标签内容，赋值给contentString\n",
    "    contentString = content.string\n",
    "\n",
    "    # 使用jieba.lcut()将contentString进行分词，赋值给words\n",
    "    words = jieba.lcut(contentString)\n",
    "\n",
    "    # 将列表wordList和列表words进行累加\n",
    "    wordList = wordList + words\n",
    "\n",
    "# 创建一个空白字典wordDict\n",
    "wordDict = {}\n",
    "\n",
    "# for循环遍历列表wordList\n",
    "for word in wordList:\n",
    "    \n",
    "    # 如果列表中的元素长度大于1\n",
    "    if len(word) > 1:\n",
    "        \n",
    "        # 如果该元素不存在字典的键中\n",
    "        if word not in wordDict.keys():\n",
    "            \n",
    "            # 将字典中键所对应的值设置为1\n",
    "            wordDict[word] = 1\n",
    "        \n",
    "        # 否则\n",
    "        else:\n",
    "\n",
    "            # 将字典中键所对应的值累加\n",
    "            wordDict[word] = wordDict[word] + 1\n",
    "\n",
    "# TODO 创建WordCloud对象，赋值给wordCloud\n",
    "wordCloud = WordCloud()\n",
    "# TODO 使用print输出 success\n",
    "print(\"success\")"
   ]
  },
  {
   "cell_type": "markdown",
   "id": "f1a64677",
   "metadata": {},
   "source": [
    "# 添加参数"
   ]
  },
  {
   "cell_type": "markdown",
   "id": "fc200cdd",
   "metadata": {},
   "source": [
    "调用 add() 函数可以设置词云图的内容，例如：展示文字，字体大小等。"
   ]
  },
  {
   "cell_type": "markdown",
   "id": "2a9bf84a",
   "metadata": {},
   "source": [
    "## series_name     \n",
    "\n",
    "系列名称（series_name）指的是数据的统称，例如：降水量、蒸发量。\n",
    "\n",
    "series_name 为必须参数，就是必须传入，词云图中展示的是文字内容，在这里 series_name 可以设置为空，即 series_name=\"\"。\n",
    "\n",
    "注意：为空时，双引号中间没有空格。"
   ]
  },
  {
   "cell_type": "markdown",
   "id": "c380fc30",
   "metadata": {},
   "source": [
    "## data_pair"
   ]
  },
  {
   "cell_type": "markdown",
   "id": "723a7afa",
   "metadata": {},
   "source": [
    "data_pair 参数是指传入词云图中的数据，它的值的格式为：\n",
    "`[(word1, count1), (word2, count2)]`\n",
    "\n",
    "这是一个由元组组成的列表，列表中的每项都是元组。\n",
    "\n",
    "word 是词云图中的文字；count 是文字的词频。"
   ]
  },
  {
   "cell_type": "markdown",
   "id": "819ca8bf",
   "metadata": {},
   "source": [
    "## items()      \n",
    "\n",
    "在这里，我们可以使用 items() 函数，将字典 wordDict中的每对 key 和 value 组成一个元组，并把这些元组放在列表中返回。\n",
    "\n",
    "例如：对wordDict使用items()，wordDict.items(), 就能获得列表` [('君问', 150), ('归期', 130), ('未有期', 120)] `。\n",
    "\n",
    "items() 函数的返回结果，刚好符合 data_pair 参数的要求，即 data_pair=wordDict.items() 。"
   ]
  },
  {
   "cell_type": "markdown",
   "id": "b9f4748d",
   "metadata": {},
   "source": [
    "## word_size_range         \n",
    "\n",
    "是用来设置词云图中字体大小范围，它的数据类型是列表。\n",
    "\n",
    "word_size_range 的默认值为`[12, 60]`，12代表着词云图中频率最低的词语大小，60代表着词云图中频率最高的词语大小。\n",
    "\n",
    "在这里，我们可以修改参数值设置为`[20, 80]`，即 word_size_range = `[20,80]` 。"
   ]
  },
  {
   "cell_type": "markdown",
   "id": "fa174402",
   "metadata": {},
   "source": [
    "# 保存文件"
   ]
  },
  {
   "cell_type": "markdown",
   "id": "ba0602ac",
   "metadata": {},
   "source": [
    "## render()      \n",
    "\n",
    "render() 函数默认将词云图以 html 格式存储在代码所在文件夹内。\n",
    "\n",
    "在本地使用VsCode运行代码后，代码左侧文件目录就能看到生成的html文件，或者以文件名进行搜索。"
   ]
  },
  {
   "cell_type": "markdown",
   "id": "1a2b6f8c",
   "metadata": {},
   "source": [
    "## 调用函数      \n",
    "\n",
    "使用 wd 调用函数 render() 就表示，现在需要对wd文件进行保存操作。"
   ]
  },
  {
   "cell_type": "markdown",
   "id": "02258993",
   "metadata": {},
   "source": [
    "## 文件名称       \n",
    "\n",
    "render() 中要传入字符串，即以双引号包围。\n",
    "\n",
    "字符串中要设置 html 格式的文件，即 文件名称+.+html ，例如：rain.html。\n",
    "\n",
    "在目录中找到这个 html 文件，点击它，就可以在浏览器中看到生成的词云图啦～"
   ]
  },
  {
   "cell_type": "markdown",
   "id": "cac05e91",
   "metadata": {},
   "source": [
    "在学习了 WordCloud 相关的函数后，让我们在程序中编写代码吧～\n",
    "\n",
    "使用 WordCloud() 函数创建一个WordCloud对象，赋值给变量 wordCloud。\n",
    "\n",
    "调用 add() 函数设置 series_name的值为空；data_pair 的值为字典 wordDict 转换成由元组组成的列表；将 word_size_range 的值设置为 [20, 80]。\n",
    "\n",
    "接着，使用 wordCloud.render() 函数html存储文件，设置文件名为wordcloud.html。"
   ]
  },
  {
   "cell_type": "code",
   "execution_count": 6,
   "id": "27f8b37d",
   "metadata": {},
   "outputs": [
    {
     "name": "stderr",
     "output_type": "stream",
     "text": [
      "/opt/anaconda3/lib/python3.8/site-packages/ipykernel/ipkernel.py:287: DeprecationWarning: `should_run_async` will not call `transform_cell` automatically in the future. Please pass the result to `transformed_cell` argument and any exception that happen during thetransform in `preprocessing_exc_tuple` in IPython 7.17 and above.\n",
      "  and should_run_async(code)\n"
     ]
    },
    {
     "name": "stdout",
     "output_type": "stream",
     "text": [
      "success\n"
     ]
    },
    {
     "name": "stderr",
     "output_type": "stream",
     "text": [
      "/opt/anaconda3/lib/python3.8/site-packages/pyecharts/charts/chart.py:14: PendingDeprecationWarning: pyecharts 所有图表类型将在 v1.9.0 版本开始强制使用 ChartItem 进行数据项配置 :)\n",
      "  super().__init__(init_opts=init_opts)\n"
     ]
    },
    {
     "data": {
      "text/html": [
       "\n",
       "        <iframe\n",
       "            width=\"800\"\n",
       "            height=\"500\"\n",
       "            src=\"./wordcloud_7_1.html\"\n",
       "            frameborder=\"0\"\n",
       "            allowfullscreen\n",
       "        ></iframe>\n",
       "        "
      ],
      "text/plain": [
       "<IPython.lib.display.IFrame at 0x7fad6e0215e0>"
      ]
     },
     "execution_count": 6,
     "metadata": {},
     "output_type": "execute_result"
    }
   ],
   "source": [
    "# 使用import导入requests模块\n",
    "import requests\n",
    "\n",
    "# 从bs4中导入BeautifulSoup\n",
    "from bs4 import BeautifulSoup\n",
    "\n",
    "# 使用import导入jieba模块\n",
    "import jieba\n",
    "\n",
    "# 从pyecharts.charts中导入WordCloud模块\n",
    "from pyecharts.charts import WordCloud\n",
    "\n",
    "# 将豆瓣电影评论URL地址，赋值给变量url\n",
    "url = \"https://movie.douban.com/subject/2129039/comments?sort=new_score&status=P\"\n",
    "\n",
    "# 将User-Agent以字典键对形式赋值给headers\n",
    "headers = {\"User-Agent\": \"Mozilla/5.0 (Macintosh; Intel Mac OS X 10_14_6) AppleWebKit/537.36 (KHTML, like Gecko) Chrome/84.0.4147.89 Safari/537.36\"}\n",
    "\n",
    "# 将 url 和 headers参数，添加进requests.get()中，将字典headers传递headers参数，给赋值给response\n",
    "response = requests.get(url, headers=headers)\n",
    "\n",
    "# 将服务器响应内容转换为字符串形式，赋值给html\n",
    "html = response.text\n",
    "\n",
    "# 使用BeautifulSoup()传入变量html和解析器lxml，赋值给soup\n",
    "soup = BeautifulSoup(html, \"lxml\")\n",
    "\n",
    "# 使用find_all()查询soup中class=\"short\"的节点，赋值给content_all\n",
    "content_all = soup.find_all(class_=\"short\")\n",
    "\n",
    "# 创建一个空白列表wordList\n",
    "wordList = []\n",
    "\n",
    "# for循环遍历content_all\n",
    "for content in content_all:\n",
    "\n",
    "    # 获取每个节点中标签内容，赋值给contentString\n",
    "    contentString = content.string\n",
    "\n",
    "    # 使用jieba.lcut()将contentString进行分词，赋值给words\n",
    "    words = jieba.lcut(contentString)\n",
    "\n",
    "    # 将列表wordList和列表words进行累加\n",
    "    wordList = wordList + words\n",
    "\n",
    "# 创建一个空白字典wordDict\n",
    "wordDict = {}\n",
    "\n",
    "# for循环遍历列表wordList\n",
    "for word in wordList:\n",
    "    \n",
    "    # 如果列表中的元素长度大于1\n",
    "    if len(word) > 1:\n",
    "        \n",
    "        # 如果该元素不存在字典的键中\n",
    "        if word not in wordDict.keys():\n",
    "            \n",
    "            # 将字典中键所对应的值设置为1\n",
    "            wordDict[word] = 1\n",
    "        \n",
    "        # 否则\n",
    "        else:\n",
    "\n",
    "            # 将字典中键所对应的值累加\n",
    "            wordDict[word] = wordDict[word] + 1\n",
    "\n",
    "# 创建WordCloud对象，赋值给wordCloud\n",
    "wordCloud = WordCloud()\n",
    "\n",
    "# TODO 使用add()函数，series_name的值设置为空\n",
    "# data_pair的值为字典wordDict转换成由元组组成的列表；\n",
    "# 将word_size_range的值设置为[20,80]。\n",
    "wordCloud.add(series_name = \"\", data_pair = wordDict.items(), word_size_range = [20, 80])\n",
    "\n",
    "# TODO 使用wordCloud.render()存储文件，设置文件名为wordcloud.html\n",
    "wordCloud.render(\"wordcloud_7_1.html\")\n",
    "\n",
    "# TODO 使用print输出 success\n",
    "print(\"success\")\n",
    "\n",
    "from IPython.display import IFrame\n",
    "\n",
    "IFrame(src='./wordcloud_7_1.html', width=800, height=500)"
   ]
  },
  {
   "cell_type": "markdown",
   "id": "fdb710d6",
   "metadata": {},
   "source": [
    "查看生成的词云图中，发现还有一些无意义的` ...`。\n",
    "\n",
    "我们可以使用if语句进行判断，当词语等于这几个时，使用 continue 继续下次循环。"
   ]
  },
  {
   "cell_type": "code",
   "execution_count": 7,
   "id": "e682fe4c",
   "metadata": {},
   "outputs": [
    {
     "name": "stderr",
     "output_type": "stream",
     "text": [
      "/opt/anaconda3/lib/python3.8/site-packages/ipykernel/ipkernel.py:287: DeprecationWarning: `should_run_async` will not call `transform_cell` automatically in the future. Please pass the result to `transformed_cell` argument and any exception that happen during thetransform in `preprocessing_exc_tuple` in IPython 7.17 and above.\n",
      "  and should_run_async(code)\n"
     ]
    },
    {
     "name": "stdout",
     "output_type": "stream",
     "text": [
      "success\n"
     ]
    },
    {
     "name": "stderr",
     "output_type": "stream",
     "text": [
      "/opt/anaconda3/lib/python3.8/site-packages/pyecharts/charts/chart.py:14: PendingDeprecationWarning: pyecharts 所有图表类型将在 v1.9.0 版本开始强制使用 ChartItem 进行数据项配置 :)\n",
      "  super().__init__(init_opts=init_opts)\n"
     ]
    },
    {
     "data": {
      "text/html": [
       "\n",
       "        <iframe\n",
       "            width=\"800\"\n",
       "            height=\"500\"\n",
       "            src=\"./wordcloud_7_2.html\"\n",
       "            frameborder=\"0\"\n",
       "            allowfullscreen\n",
       "        ></iframe>\n",
       "        "
      ],
      "text/plain": [
       "<IPython.lib.display.IFrame at 0x7fad68cf3790>"
      ]
     },
     "execution_count": 7,
     "metadata": {},
     "output_type": "execute_result"
    }
   ],
   "source": [
    "# 使用import导入requests模块\n",
    "import requests\n",
    "\n",
    "# 从bs4中导入BeautifulSoup\n",
    "from bs4 import BeautifulSoup\n",
    "\n",
    "# 使用import导入jieba模块\n",
    "import jieba\n",
    "\n",
    "# 从pyecharts.charts中导入WordCloud模块\n",
    "from pyecharts.charts import WordCloud\n",
    "\n",
    "# 将豆瓣电影评论URL地址，赋值给变量url\n",
    "url = \"https://movie.douban.com/subject/2129039/comments?sort=new_score&status=P\"\n",
    "\n",
    "# 将User-Agent以字典键对形式赋值给headers\n",
    "headers = {\"User-Agent\": \"Mozilla/5.0 (Macintosh; Intel Mac OS X 10_14_6) AppleWebKit/537.36 (KHTML, like Gecko) Chrome/84.0.4147.89 Safari/537.36\"}\n",
    "\n",
    "# 将 url 和 headers参数，添加进requests.get()中，将字典headers传递headers参数，给赋值给response\n",
    "response = requests.get(url, headers=headers)\n",
    "\n",
    "# 将服务器响应内容转换为字符串形式，赋值给html\n",
    "html = response.text\n",
    "\n",
    "# 使用BeautifulSoup()传入变量html和解析器lxml，赋值给soup\n",
    "soup = BeautifulSoup(html, \"lxml\")\n",
    "\n",
    "# 使用find_all()查询soup中class=\"short\"的节点，赋值给content_all\n",
    "content_all = soup.find_all(class_=\"short\")\n",
    "\n",
    "# 创建一个空白列表wordList\n",
    "wordList = []\n",
    "\n",
    "# for循环遍历content_all\n",
    "for content in content_all:\n",
    "\n",
    "    # 获取每个节点中标签内容，赋值给contentString\n",
    "    contentString = content.string\n",
    "\n",
    "    # 使用jieba.lcut()将contentString进行分词，赋值给words\n",
    "    words = jieba.lcut(contentString)\n",
    "\n",
    "    # 将列表wordList和列表words进行累加\n",
    "    wordList = wordList + words\n",
    "\n",
    "# 创建一个空白字典wordDict\n",
    "wordDict = {}\n",
    "\n",
    "# for循环遍历列表wordList\n",
    "for word in wordList:\n",
    "    \n",
    "    # TODO 判断为这几个词语时\n",
    "    if word == \"..\" or word == \"......\":\n",
    "        #  TODO 继续下次循环\n",
    "        continue\n",
    "    \n",
    "    # 如果列表中的元素长度大于1\n",
    "    if len(word) > 1:\n",
    "        # 如果该元素不存在字典的键中\n",
    "        if word not in wordDict.keys():  \n",
    "            # 将字典中键所对应的值设置为1\n",
    "            wordDict[word] = 1\n",
    "        # 否则\n",
    "        else:\n",
    "            # 将字典中键所对应的值累加\n",
    "            wordDict[word] = wordDict[word] + 1\n",
    "\n",
    "# 创建WordCloud对象，赋值给wordCloud\n",
    "wordCloud = WordCloud()\n",
    "\n",
    "# 使用add()函数，series_name的值设置为空\n",
    "# data_pair的值为字典wordDict转换成由元组组成的列表；\n",
    "# 将word_size_range的值设置为[20,80]。\n",
    "wordCloud.add(series_name = \"\", data_pair = wordDict.items(), word_size_range = [20,80])\n",
    "\n",
    "# 使用wordCloud.render()存储文件，设置文件名为wordcloud2.html\n",
    "wordCloud.render(\"wordcloud_7_2.html\")\n",
    "\n",
    "# 使用print输出 success\n",
    "print(\"success\")\n",
    "\n",
    "from IPython.display import IFrame\n",
    "\n",
    "IFrame(src='./wordcloud_7_2.html', width=800, height=500)"
   ]
  },
  {
   "cell_type": "markdown",
   "id": "f2ff709a",
   "metadata": {},
   "source": [
    "如果你在自己的电脑上代码运行，打开代码所在目录，wordcloud.html 已经在目录中，点击这个 html 文件，在浏览器中就可以看到生成的词云啦！"
   ]
  },
  {
   "cell_type": "markdown",
   "id": "28ce4d06",
   "metadata": {},
   "source": [
    "今天，我们通过学习图中的知识点\n",
    "\n",
    "实现在网页中获取文本，统计文本中的词频，生成词云图。"
   ]
  },
  {
   "cell_type": "markdown",
   "id": "2f255494",
   "metadata": {},
   "source": [
    "# 百词斩题目"
   ]
  },
  {
   "cell_type": "markdown",
   "id": "13acaa57",
   "metadata": {},
   "source": [
    "## 寻找不重复的词语     \n",
    "\n",
    "静静学习了jieba.lcut()函数后，对电影《飞屋环游记》的评论内容进行分词，输出的结果中有许多重复出现的词语，例如“的”，“最”……\n",
    "她想要把这些重复的词语去掉，统计一下其中的词语个数，这该怎么做呢？\n",
    "\n",
    "URL链接：https://movie.douban.com/subject/2129039/comments?sort=new_score&status=P\n",
    "\n",
    "`User-Agent：Mozilla/5.0 (Macintosh; Intel Mac OS X 10_14_6) AppleWebKit/537.36 (KHTML, like Gecko) Chrome/84.0.4147.89 Safari/537.36`\n",
    "\n",
    "注意：本题需要用到去重知识点，请点击提示进行学习。"
   ]
  },
  {
   "cell_type": "markdown",
   "id": "c8c8ff1d",
   "metadata": {},
   "source": [
    "set()函数去重\n",
    "\n",
    "使用set()函数能够对列表中的元素去重，去重后需要赋值给新的变量。"
   ]
  },
  {
   "cell_type": "code",
   "execution_count": 4,
   "id": "fd65c460",
   "metadata": {},
   "outputs": [
    {
     "name": "stdout",
     "output_type": "stream",
     "text": [
      "['夜曲', '编程', '课程', '好', '好', '课程']\n",
      "{'编程', '课程', '好', '夜曲'}\n"
     ]
    },
    {
     "name": "stderr",
     "output_type": "stream",
     "text": [
      "/opt/anaconda3/lib/python3.8/site-packages/ipykernel/ipkernel.py:287: DeprecationWarning: `should_run_async` will not call `transform_cell` automatically in the future. Please pass the result to `transformed_cell` argument and any exception that happen during thetransform in `preprocessing_exc_tuple` in IPython 7.17 and above.\n",
      "  and should_run_async(code)\n"
     ]
    }
   ],
   "source": [
    "# 定义列表wordList\n",
    "wordList = [\"夜曲\", \"编程\", \"课程\", \"好\", \"好\", \"课程\"]\n",
    "\n",
    "# 使用set()函数对列表进行去重，并赋值给wordSet\n",
    "wordSet = set(wordList)\n",
    "\n",
    "# 使用print()输出wordList\n",
    "print(wordList)\n",
    "\n",
    "# 使用print()输出wordSet\n",
    "print(wordSet)"
   ]
  },
  {
   "cell_type": "code",
   "execution_count": 5,
   "id": "013c29f0",
   "metadata": {},
   "outputs": [
    {
     "name": "stdout",
     "output_type": "stream",
     "text": [
      "328\n"
     ]
    }
   ],
   "source": [
    "# 使用import导入requests模块\n",
    "import requests\n",
    "# 从bs4中导入BeautifulSoup模块\n",
    "from bs4 import BeautifulSoup\n",
    "# 使用import导入jieba模块\n",
    "import jieba\n",
    "\n",
    "# 将豆瓣电影评论URL地址，赋值给变量url\n",
    "url = \"https://movie.douban.com/subject/2129039/comments?sort=new_score&status=P\"\n",
    "\n",
    "# 将User-Agent以字典键对形式赋值给headers\n",
    "headers = {\"User-Agent\": \"Mozilla/5.0 (Macintosh; Intel Mac OS X 10_14_6) AppleWebKit/537.36 (KHTML, like Gecko) Chrome/84.0.4147.89 Safari/537.36\"}\n",
    "\n",
    "# TODO 将 url 和 headers参数，添加进requests.get()中，将字典headers传递headers参数，给赋值给response\n",
    "response = requests.get(url, headers = headers)\n",
    "\n",
    "# TODO 将服务器响应内容转换为字符串形式，赋值给html\n",
    "html = response.text\n",
    "\n",
    "# TODO 使用BeautifulSoup()传入变量html和解析器lxml，赋值给soup\n",
    "soup = BeautifulSoup(html, \"lxml\")\n",
    "\n",
    "# TODO 使用find_all()查询soup中class=\"short\"的节点，赋值给content_all\n",
    "content_all = soup.find_all(class_=\"short\")\n",
    "\n",
    "# TODO 创建一个空白列表wordList\n",
    "wordList = []\n",
    "\n",
    "# TODO for循环遍历content_all\n",
    "for content in content_all:\n",
    "    # TODO 获取每个节点中标签内容，赋值给contentString\n",
    "    contentString = content.string\n",
    "    # TODO 使用jieba.lcut()将contentString进行分词，赋值给words\n",
    "    words = jieba.lcut(contentString)\n",
    "    # TODO 将列表wordList和列表words进行累加\n",
    "    wordList = wordList + words\n",
    "\n",
    "# TODO 使用set()函数对列表wordList进行去重，并赋值给wordSet\n",
    "wordSet = set(wordList)\n",
    "\n",
    "# TODO 使用len()计算wordSet长度并输出\n",
    "print(len(wordSet))"
   ]
  },
  {
   "cell_type": "markdown",
   "id": "f0bff066",
   "metadata": {},
   "source": [
    "## 修改词云图大小        \n",
    "\n",
    "爬取网站\n",
    "https://nocturne-spider.baicizhan.com/2020/09/02/coco/\n",
    "所有的文字内容，利用结巴分词生成一张宽度为800px，高度为500px的词云图，生成的文件命名为“dream.html”。\n",
    "\n",
    "【题目要求】\n",
    "1. 词频统计时，过滤掉字的个数为1的字符串；\n",
    "2. 利用jieba模块，对转换成的字符串进行分词；\n",
    "3. 使用wordcloud模块，将分词后的结果生成词云图，字体大小范围为[30,70]，图片宽度为800，高度为500。\n",
    "\n",
    "注意：本题需要用到设置词云图长宽知识点，请点击提示进行学习。"
   ]
  },
  {
   "cell_type": "markdown",
   "id": "0e5b9ca8",
   "metadata": {},
   "source": [
    "图片长宽可以使用wordCloud.add()函数中的参数设置      \n",
    "\n",
    "如果想设置宽为400，高为300，就添加width=400，height=300       \n",
    "\n",
    "生成的词云图可以设置的最大宽高是900和500"
   ]
  },
  {
   "cell_type": "code",
   "execution_count": 8,
   "id": "2942796d",
   "metadata": {},
   "outputs": [
    {
     "name": "stderr",
     "output_type": "stream",
     "text": [
      "/opt/anaconda3/lib/python3.8/site-packages/ipykernel/ipkernel.py:287: DeprecationWarning: `should_run_async` will not call `transform_cell` automatically in the future. Please pass the result to `transformed_cell` argument and any exception that happen during thetransform in `preprocessing_exc_tuple` in IPython 7.17 and above.\n",
      "  and should_run_async(code)\n"
     ]
    },
    {
     "name": "stdout",
     "output_type": "stream",
     "text": [
      "success\n"
     ]
    },
    {
     "name": "stderr",
     "output_type": "stream",
     "text": [
      "/opt/anaconda3/lib/python3.8/site-packages/pyecharts/charts/chart.py:14: PendingDeprecationWarning: pyecharts 所有图表类型将在 v1.9.0 版本开始强制使用 ChartItem 进行数据项配置 :)\n",
      "  super().__init__(init_opts=init_opts)\n"
     ]
    },
    {
     "data": {
      "text/html": [
       "\n",
       "        <iframe\n",
       "            width=\"800\"\n",
       "            height=\"500\"\n",
       "            src=\"./dream_7.html\"\n",
       "            frameborder=\"0\"\n",
       "            allowfullscreen\n",
       "        ></iframe>\n",
       "        "
      ],
      "text/plain": [
       "<IPython.lib.display.IFrame at 0x7fad6e021d90>"
      ]
     },
     "execution_count": 8,
     "metadata": {},
     "output_type": "execute_result"
    }
   ],
   "source": [
    "import requests\n",
    "from bs4 import BeautifulSoup\n",
    "from pyecharts.charts import WordCloud\n",
    "import jieba\n",
    "\n",
    "url = \"https://nocturne-spider.baicizhan.com/2020/09/02/coco/\"\n",
    "\n",
    "response = requests.get(url)\n",
    "\n",
    "html = response.text\n",
    "\n",
    "soup = BeautifulSoup(html, \"lxml\")\n",
    "\n",
    "content_all = soup.find_all(name = \"em\")\n",
    "\n",
    "wordList = []\n",
    "\n",
    "for content in content_all:\n",
    "    contentString = content.string\n",
    "    words = jieba.lcut(contentString)\n",
    "    wordList = wordList + words\n",
    "\n",
    "wordDict = {}\n",
    "\n",
    "for word in wordList:\n",
    "    if len(word) > 1:\n",
    "        if word not in wordDict.keys():\n",
    "            wordDict[word] = 1\n",
    "        else:\n",
    "            wordDict[word] = wordDict[word] + 1\n",
    "            \n",
    "wordCloud = WordCloud()\n",
    "\n",
    "wordCloud.add(series_name = \"\", data_pair = wordDict.items(), width = 800, height = 500, word_size_range = [30, 70])\n",
    "\n",
    "wordCloud.render(\"dream_7.html\")\n",
    "\n",
    "print(\"success\")\n",
    "\n",
    "from IPython.display import IFrame\n",
    "\n",
    "IFrame(src='./dream_7.html', width=800, height=500)"
   ]
  }
 ],
 "metadata": {
  "kernelspec": {
   "display_name": "Python 3",
   "language": "python",
   "name": "python3"
  },
  "language_info": {
   "codemirror_mode": {
    "name": "ipython",
    "version": 3
   },
   "file_extension": ".py",
   "mimetype": "text/x-python",
   "name": "python",
   "nbconvert_exporter": "python",
   "pygments_lexer": "ipython3",
   "version": "3.8.8"
  }
 },
 "nbformat": 4,
 "nbformat_minor": 5
}

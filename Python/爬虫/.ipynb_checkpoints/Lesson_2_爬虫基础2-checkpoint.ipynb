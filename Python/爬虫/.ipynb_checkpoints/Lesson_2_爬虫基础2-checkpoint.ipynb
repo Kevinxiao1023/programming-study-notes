{
 "cells": [
  {
   "cell_type": "markdown",
   "id": "a7e8af33",
   "metadata": {},
   "source": [
    "# 网页内容获取"
   ]
  },
  {
   "cell_type": "markdown",
   "id": "ca979f36",
   "metadata": {},
   "source": [
    "学习使用Python来获取网页的源代码。"
   ]
  },
  {
   "cell_type": "markdown",
   "id": "b2cdbc37",
   "metadata": {},
   "source": [
    "要使用Python来爬取网页内容，需要安装requests模块，该模块可以用于获取网络数据。\n",
    "\n",
    "由于requests模块是Python的第三方模块，需要额外安装，安装requests模块非常简单，在电脑终端输入代码:`pip install requests`"
   ]
  },
  {
   "cell_type": "markdown",
   "id": "e0f50248",
   "metadata": {},
   "source": [
    "安装之后，需要用import导入requests模块。    \n",
    "```\n",
    "# 使用import导入requests模块\n",
    "import requests\n",
    "```"
   ]
  },
  {
   "cell_type": "markdown",
   "id": "656fb290",
   "metadata": {},
   "source": [
    "requests.get()函数可用于模拟浏览器请求网页的过程，在Python语言中使用该函数，就能够获取网页数据。\n",
    "\n",
    "get()函数中传入要访问网页的URL，就像浏览器打开URL一样。"
   ]
  },
  {
   "cell_type": "markdown",
   "id": "bc8d0827",
   "metadata": {},
   "source": [
    "requests.get()是获取网页信息的主要函数，使用该函数获取案例网页的URL，会返回一个Response对象，也就是前面说到的响应消息。\n",
    "\n",
    "使用print输出响应消息会得到Response [200]表示响应消息中状态码为200，说明此次浏览器的请求执行成功。"
   ]
  },
  {
   "cell_type": "markdown",
   "id": "bddafe4f",
   "metadata": {},
   "source": [
    "在请求某些网站的时候，会收到SSLError，原因是HTTPS的安全协议造成的，可以在请求网页的时候添加一个参数verify=False，表示忽略证书认证，即\n",
    "```\n",
    "response = requests.get(url, verify=False)\n",
    "```"
   ]
  },
  {
   "cell_type": "markdown",
   "id": "25ed2428",
   "metadata": {},
   "source": [
    "使用.status_code属性就可以查看状态码，这里输出的状态码数据类型是整型哦。"
   ]
  },
  {
   "cell_type": "markdown",
   "id": "92e4a29d",
   "metadata": {},
   "source": [
    "而只有状态码返回为200时，才能够成功获取到网页内容。\n",
    "\n",
    "为满足上面的运行逻辑，我们要使用条件判断语句if..else先判断状态码，当状态码等于200时，再进行下一步操作。"
   ]
  },
  {
   "cell_type": "code",
   "execution_count": 1,
   "id": "6d107495",
   "metadata": {},
   "outputs": [
    {
     "name": "stdout",
     "output_type": "stream",
     "text": [
      "200\n"
     ]
    }
   ],
   "source": [
    "# 使用import导入requests模块\n",
    "import requests\n",
    "\n",
    "# 将网页链接赋值给url\n",
    "url = \"https://nocturne-spider.baicizhan.com/2020/07/29/example-post-3/\"\n",
    "\n",
    "# 使用requests.get()方法获取url的内容，将结果赋值给response\n",
    "response = requests.get(url)\n",
    "\n",
    "# 使用if语句判断.status_code属性获取的状态码等于200时\n",
    "if response.status_code == 200:\n",
    "    # 输出response.status_code\n",
    "    print(response.status_code)\n",
    "# 不满足条件时\n",
    "else:\n",
    "    # 输出：请求数据失败\n",
    "    print(\"请求数据失败\")"
   ]
  },
  {
   "cell_type": "markdown",
   "id": "4a2a7214",
   "metadata": {},
   "source": [
    "通过请求URL，已经获取到了Web服务器返回的信息，那这些信息怎样才能呈现出来呢？\n",
    "\n",
    "这里就要用到.text属性，该属性能够将获取到的网页信息提取出来。\n",
    "\n",
    "由于网页内容较多，我们这里可以用切片的方法，先输出前1000个字符。"
   ]
  },
  {
   "cell_type": "code",
   "execution_count": 2,
   "id": "485569f8",
   "metadata": {},
   "outputs": [
    {
     "name": "stdout",
     "output_type": "stream",
     "text": [
      "<!DOCTYPE html>\n",
      "<html lang=\"zh-CN\">\n",
      "<head>\n",
      "  <meta charset=\"UTF-8\">\n",
      "<meta name=\"viewport\" content=\"width=device-width, initial-scale=1, maximum-scale=2\">\n",
      "<meta name=\"theme-color\" content=\"#222\">\n",
      "<meta name=\"generator\" content=\"Hexo 5.1.1\">\n",
      "  <link rel=\"apple-touch-icon\" sizes=\"180x180\" href=\"/images/apple-touch-icon-next.png\">\n",
      "  <link rel=\"icon\" type=\"image/png\" sizes=\"32x32\" href=\"/images/favicon-32x32-next.png\">\n",
      "  <link rel=\"icon\" type=\"image/png\" sizes=\"16x16\" href=\"/images/favicon-16x16-next.png\">\n",
      "  <link rel=\"mask-icon\" href=\"/images/logo.svg\" color=\"#222\">\n",
      "\n",
      "<link rel=\"stylesheet\" href=\"/css/main.css\">\n",
      "\n",
      "\n",
      "<link rel=\"stylesheet\" href=\"/lib/font-awesome/css/all.min.css\">\n",
      "\n",
      "<script id=\"hexo-configurations\">\n",
      "    var NexT = window.NexT || {};\n",
      "    var CONFIG = {\"hostname\":\"nocturne-spider.baicizhan.com\",\"root\":\"/\",\"scheme\":\"Muse\",\"version\":\"7.8.0\",\"exturl\":false,\"sidebar\":{\"position\":\"left\",\"display\":\"always\",\"padding\":18,\"offset\":12,\"onmobile\":false},\"copycode\":{\"enable\":false,\"show_resu\n"
     ]
    }
   ],
   "source": [
    "# 使用import导入requests模块\n",
    "import requests\n",
    "\n",
    "# 将网页链接赋值给url\n",
    "url = \"https://nocturne-spider.baicizhan.com/2020/07/29/example-post-3/\"\n",
    "\n",
    "# 使用requests.get()方法获取url的内容，将结果赋值给response\n",
    "response = requests.get(url)\n",
    "\n",
    "# 使用if语句判断.status_code属性获取的状态码等于200时\n",
    "if response.status_code == 200:\n",
    "    # 使用.text属性获取网页前1000个字符的内容，并赋值给content\n",
    "    content = response.text[:1000]\n",
    "    # 输出content\n",
    "    print(content)\n",
    "\n",
    "# 不满足if的条件时\n",
    "else:  \n",
    "    # 输出 请求数据失败\n",
    "    print(\"请求数据失败\")"
   ]
  },
  {
   "cell_type": "markdown",
   "id": "6b279eb1",
   "metadata": {},
   "source": [
    "# 网页内容样式"
   ]
  },
  {
   "cell_type": "markdown",
   "id": "b2f56dae",
   "metadata": {},
   "source": [
    "HTML语言，全称为HyperText Markup Language，超文本标记语言，它用来定义网页内容和结构。\n",
    "\n",
    "HTML是由一系列的标签组成，这些标签组合起来就是我们浏览器看到的网页。"
   ]
  },
  {
   "cell_type": "markdown",
   "id": "9e7fdc56",
   "metadata": {},
   "source": [
    "标签：是用来标记内容块的，主要有两种形式成对出现和单独出现。\n",
    "\n",
    "1. 成对出现的标签\n",
    "<开始标签>内容<结束标签>\n",
    "结束标签只比开始标签多一个斜杠\"/\"。    \n",
    "\n",
    "   1. `<html></html>`表明这是一个网页文档。\n",
    "\n",
    "   2. `<head></head>`标签用于定义文档的头部信息，这些信息不会展示在网页中。\n",
    "\n",
    "   3. `<body></body>`标签用于定义文档的主体，包含网页的图片、文字、链接、视频等多种展现形式。    \n",
    "   \n",
    "\n",
    "\n",
    "2. 单独标签     \n",
    "\n",
    "    第9、10、11行的`<br>`就是单独出现的标签，表示换行。\n",
    "\n",
    "    标签是可以嵌套的，例如`<head>`元素中嵌套了`<title></title>`成对标签。\n",
    "\n",
    "    在`<body>`元素中嵌套了多个成对标签和单独标签。"
   ]
  },
  {
   "cell_type": "markdown",
   "id": "69243adc",
   "metadata": {},
   "source": [
    "属性：用于丰富表现形式，一般放在开始标签里，并且以属性名=\"属性值\"的形式展现。\n",
    "\n",
    "例如：第7行`<h1>`标签中，`align=\"center\"`，这里center属性值的作用就是让h1标签的内容居中。\n",
    "\n",
    "属性还可以描述内容的颜色、边框等等。"
   ]
  },
  {
   "cell_type": "markdown",
   "id": "cd6fd51e",
   "metadata": {},
   "source": [
    "# 总结\n",
    "\n",
    "HTML是构成网页的标记语言。\n",
    "\n",
    "URL指定了要访问文档的具体地址。\n",
    "\n",
    "HTTP协议规定了文档的传递方式。\n",
    "\n",
    "爬虫就是根据URL，通过HTTP协议去获取HTML内容。"
   ]
  },
  {
   "cell_type": "markdown",
   "id": "78a1c84a",
   "metadata": {},
   "source": [
    "# 题目"
   ]
  },
  {
   "cell_type": "markdown",
   "id": "7b1e0b3b",
   "metadata": {},
   "source": [
    "## 打印状态码       \n",
    "\n",
    "静静在使用requests向页面发送请求时，一直请求不到内容。\n",
    "\n",
    "她决定输出状态码查看具体原因，请求的URL是：\n",
    "“https://nocturne-spider.baicizhan.com/6789”\n",
    "\n",
    "【题目要求】\n",
    "1. 导入requests模块，并将链接赋值给URL；\n",
    "\n",
    "2. 使用requests模块的get函数发送请求；\n",
    "\n",
    "3. 输出返回的状态码。"
   ]
  },
  {
   "cell_type": "code",
   "execution_count": 3,
   "id": "742af43c",
   "metadata": {},
   "outputs": [
    {
     "name": "stdout",
     "output_type": "stream",
     "text": [
      "404\n"
     ]
    }
   ],
   "source": [
    "# TODO 使用import导入requests模块\n",
    "import requests\n",
    "\n",
    "# TODO 将URL地址赋值给变量url\n",
    "url = \"https://nocturne-spider.baicizhan.com/6789\"\n",
    "\n",
    "# TODO 将变量url传入requests.get()，赋值给response\n",
    "response = requests.get(url)\n",
    "\n",
    "# TODO 使用.status_code将响应消息的状态码赋值给status\n",
    "status = response.status_code\n",
    "\n",
    "# TODO 使用print将状态码打印出来\n",
    "print(status)"
   ]
  },
  {
   "cell_type": "markdown",
   "id": "124e11c7",
   "metadata": {},
   "source": [
    "## 网站特定内容    \n",
    "\n",
    "使用所学知识，获取链接\n",
    "https://nocturne-spider.baicizhan.com/\n",
    "中的内容，要求利用字符切片的方法，只输出这一行内容。\n",
    "\n",
    "编程入门第一课\n",
    "\n",
    "【题目要求】\n",
    "\n",
    "当状态码为200时，响应消息中切片区间为[4107:4114]数据，就是要提取的内容。"
   ]
  },
  {
   "cell_type": "code",
   "execution_count": 4,
   "id": "e7c1ce42",
   "metadata": {},
   "outputs": [
    {
     "name": "stdout",
     "output_type": "stream",
     "text": [
      "编程入门第一课\n"
     ]
    }
   ],
   "source": [
    "import requests\n",
    "url = \"https://nocturne-spider.baicizhan.com/\"\n",
    "response = requests.get(url)\n",
    "if response.status_code == 200:\n",
    "    content = response.text[4107:4114]\n",
    "    print(content)\n",
    "else:\n",
    "    print(\"请求数据失败\")"
   ]
  }
 ],
 "metadata": {
  "kernelspec": {
   "display_name": "Python 3",
   "language": "python",
   "name": "python3"
  },
  "language_info": {
   "codemirror_mode": {
    "name": "ipython",
    "version": 3
   },
   "file_extension": ".py",
   "mimetype": "text/x-python",
   "name": "python",
   "nbconvert_exporter": "python",
   "pygments_lexer": "ipython3",
   "version": "3.8.8"
  }
 },
 "nbformat": 4,
 "nbformat_minor": 5
}

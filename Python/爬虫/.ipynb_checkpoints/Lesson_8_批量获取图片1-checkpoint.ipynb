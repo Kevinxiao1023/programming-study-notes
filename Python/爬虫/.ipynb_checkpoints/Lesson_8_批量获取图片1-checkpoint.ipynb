{
 "cells": [
  {
   "cell_type": "markdown",
   "id": "7d774cb7",
   "metadata": {},
   "source": [
    "项目目标\n",
    "\n",
    "通过对解题思路的分析，我们就得到了帮助小倩解决问题的步骤：\n",
    "\n",
    "1.完成一张图片的下载保存；\n",
    "\n",
    "2.分析网页结构，找到图片所在位置；\n",
    "\n",
    "3.请求图片链接，下载图片；\n",
    "\n",
    "4.使用循环，批量下载该页所有的图片；\n",
    "\n",
    "5.通过链接找到图片的高清图下载；\n",
    "\n",
    "6.通过翻页实现图片的批量下载。"
   ]
  },
  {
   "cell_type": "markdown",
   "id": "4e097669",
   "metadata": {},
   "source": [
    "上个项目，学习了网页中文字内容的获取， 今天我们要学习网页中单张图片的获取和保存。\n",
    "\n",
    "今天要完成从网页中请求图片数据，将图片文件保存到电脑上的操作，我们要学习以下内容：\n",
    "\n",
    "1. 文件路径\n",
    "2. 打开文件\n",
    "3. 读文件\n",
    "4. 写文件"
   ]
  },
  {
   "cell_type": "markdown",
   "id": "1ff2aae8",
   "metadata": {},
   "source": [
    "# 文件操作"
   ]
  },
  {
   "cell_type": "markdown",
   "id": "f54609ae",
   "metadata": {},
   "source": [
    "## 路径"
   ]
  },
  {
   "cell_type": "markdown",
   "id": "1a0c7947",
   "metadata": {},
   "source": [
    "在开始动手解决问题之前，我们需要先学习一下与文件相关的基本概念。\n",
    "\n",
    "路径（Path）用来表示文件或文件夹的位置。\n",
    "\n",
    "当我们需要访问文件或文件夹时，路径就像现实中的地址一样，帮助我们找到目标文件或文件夹在什么位置。"
   ]
  },
  {
   "cell_type": "markdown",
   "id": "231f7b6f",
   "metadata": {},
   "source": [
    "在macOS系统中，文件夹和文件名使用正斜线 ( / ) 进行分隔。\n",
    "\n",
    "需要注意的是，macOS系统中，没有盘符的概念，所有的路径都是从根目录（ / ） 开始。"
   ]
  },
  {
   "cell_type": "markdown",
   "id": "9f44e07e",
   "metadata": {},
   "source": [
    "## 打开文件"
   ]
  },
  {
   "cell_type": "markdown",
   "id": "2fa60ba5",
   "metadata": {},
   "source": [
    "### open()函数       \n",
    "\n",
    "日常生活中，我们要在Word文档中读取或写入内容时，需要先打开文档。\n",
    "\n",
    "在Python语言中，open()函数表示要打开一个文件，对文件进行处理的操作都需要用到这个函数。      \n",
    "\n",
    "()括号中要传入两个参数，包括要打开的文件路径，以及打开文件的方式。    \n",
    "\n",
    "文件路径要使用双引号包围，双引号中就是要打开的文件路径。\n",
    "\n",
    "打开方式也要使用双引号包围，双引号中就是要对文档进行的操作。"
   ]
  },
  {
   "cell_type": "markdown",
   "id": "40b3e994",
   "metadata": {},
   "source": [
    "常见的文件打开方式主要有：\n",
    "\n",
    "r：当打开方式设置为r时，表示只能对该文件进行读数据操作。       \n",
    "\n",
    "w：当打开方式设置为w时，表示只能对该文件进行写入操作。\n",
    "\n",
    "更多的文件打开方式如右侧所示，文件打开参数很多，用到时查询即可。"
   ]
  },
  {
   "cell_type": "markdown",
   "id": "431e866f",
   "metadata": {},
   "source": [
    "## 文件后缀名"
   ]
  },
  {
   "cell_type": "markdown",
   "id": "65dc63a4",
   "metadata": {},
   "source": [
    "要使用open()函数打开文件，我们需要先学习文件后缀名概念。\n",
    "\n",
    "文件后缀名又叫文件扩展名（File extension），可以用来判断某个文件属于什么类型。\n",
    "\n",
    "在文件名中，点号，也就是英文句号（ . ）和其后面的部分即为文件后缀名。"
   ]
  },
  {
   "cell_type": "markdown",
   "id": "97333e7f",
   "metadata": {},
   "source": [
    "## 文件的读写操作"
   ]
  },
  {
   "cell_type": "markdown",
   "id": "8192c983",
   "metadata": {},
   "source": [
    "接下来，我们将学习常见的文件操作：\n",
    "\n",
    "1. 使用open()函数打开文件；\n",
    "\n",
    "2. 使用read()函数读文件的内容；\n",
    "\n",
    "3. 使用write()函数向文件中写入内容。"
   ]
  },
  {
   "cell_type": "markdown",
   "id": "bc4bdd9e",
   "metadata": {},
   "source": [
    "1. 打开文件open()函数\n",
    "\n",
    "学了open()的使用方法和文件后缀名知识点，现在使用open()函数以只读的方式，打开名字为products的txt文件。\n",
    "文件存储路径为：/Users/yequ/products.txt\n",
    "\n",
    "使用Windows系统的同学在自己的电脑上运行代码时，需要注意路径前要加一个r表示字符串不需要转义。\n",
    "\n",
    "如：downloadPath = r\"D:\\yequ\\Downloads\""
   ]
  },
  {
   "cell_type": "markdown",
   "id": "7130f43f",
   "metadata": {},
   "source": [
    "```\n",
    "# TODO 使用open()打开，以只读的方式，名字为products的文本文件，并赋值给f\n",
    "f = open(\"/Users/yequ/products.txt\", \"r\")\n",
    "```"
   ]
  },
  {
   "cell_type": "markdown",
   "id": "11731765",
   "metadata": {},
   "source": [
    "2. 读文件read()函数\n",
    "\n",
    "使用read()函数，就能够读该文件中的内容。\n",
    "为了节约系统资源和保存我们对文件的操作，对文件操作完毕后要使用close()关闭文件。"
   ]
  },
  {
   "cell_type": "markdown",
   "id": "86fbc302",
   "metadata": {},
   "source": [
    "```\n",
    "# 使用open()打开，以只读的方式，名字为products的文本文件，并赋值给f\n",
    "f = open(\"/Users/yequ/products.txt\", \"r\")\n",
    "\n",
    "# TODO 使用read()函数读文件，并输出文件内容\n",
    "print(f.read())\n",
    "\n",
    "# TODO 使用close()关闭文件\n",
    "f.close()\n",
    "```"
   ]
  },
  {
   "cell_type": "markdown",
   "id": "6af3bdab",
   "metadata": {},
   "source": [
    "3. 写文件write()函数\n",
    "\n",
    "内容写入时，使用open()函数打开文件时，要将打开方式设置为\"w\"，\"w\"的作用就是对文件进行写入操作，如果该文件已存在则覆盖，不存在就创建新文件再写入。\n",
    "\n",
    "使用write()函数在文本中写入\"编号:4155047,价格:25.90,奥利奥（Oreo）巧克力味夹心饼干\"，然后使用read()函数读内容并输出。"
   ]
  },
  {
   "cell_type": "markdown",
   "id": "dd506d08",
   "metadata": {},
   "source": [
    "```\n",
    "# TODO 使用open()以只写的方式，打开products文本文件，并赋值给f\n",
    "f = open(\"/Users/yequ/products.txt\", \"w\")\n",
    "\n",
    "# TODO 使用write()函数在文档中写入\n",
    "# “编号:4155047,价格:25.90,奥利奥（Oreo）巧克力味夹心饼干”\n",
    "f.write(\"编号:4155047,价格:25.90,奥利奥（Oreo）巧克力味夹心饼干\")\n",
    "\n",
    "# 使用close()关闭文件\n",
    "f.close()\n",
    "\n",
    "# 使用open()以只读的方式，打开products文本文件，并赋值给newfile\n",
    "newfile = open(\"/Users/yequ/products.txt\", \"r\")\n",
    "\n",
    "# 使用read()函数读文件，并输出文件内容\n",
    "print(newfile.read())\n",
    "\n",
    "# 使用close()关闭文件\n",
    "newfile.close()\n",
    "```"
   ]
  },
  {
   "cell_type": "markdown",
   "id": "9d017eb2",
   "metadata": {},
   "source": [
    "在文件操作中，\"w\"的作用就是打开文件用于写，如果该文件已存在则覆盖，不存在就创建新文件再写入。    \n",
    "\n",
    "提示：使用w写入内容时，要小心源文件被覆盖哦。"
   ]
  },
  {
   "cell_type": "markdown",
   "id": "9b8d092b",
   "metadata": {},
   "source": [
    "# 使用with打开文件"
   ]
  },
  {
   "cell_type": "markdown",
   "id": "5745e998",
   "metadata": {},
   "source": [
    "使用open()函数打开文件操作完成之后，都需要使用close()来关闭文件，每次都这样有点繁琐。\n",
    "\n",
    "这里可以使用with语句打开文件，with语句内的代码块执行完毕后会自动调用文件的close()函数。\n",
    "\n",
    "with语句配合as关键字，可以将打开的文件赋值给变量f，便于调用函数读文件。具体写法如下。"
   ]
  },
  {
   "cell_type": "markdown",
   "id": "ac8950da",
   "metadata": {},
   "source": [
    "```\n",
    "# TODO 使用with语句以只读的方式，打开/Users/yequ/products.txt文件，并赋值给f \n",
    "with open(\"/Users/yequ/products.txt\", \"r\") as f:\n",
    "\n",
    "    # TODO 使用read()函数读文件，并输出文件内容\n",
    "    print(f.read())\n",
    "```"
   ]
  },
  {
   "cell_type": "markdown",
   "id": "d2deeca8",
   "metadata": {},
   "source": [
    "使用with...as语句配合open()函数，以只写的方式打开products文本文件，使用write()函数在products文本中写入。\n",
    "\n",
    "\"编号:4155047,价格:25.90,奥利奥（Oreo）巧克力味夹心饼干\""
   ]
  },
  {
   "cell_type": "markdown",
   "id": "6b823fe1",
   "metadata": {},
   "source": [
    "```\n",
    "# TODO 使用with语句以只写的方式，打开\"/Users/yequ/products.txt\"文件，并赋值给f \n",
    "with open(\"/Users/yequ/products.txt\", \"w\") as f:\n",
    "\n",
    "    # TODO 使用write()函数写入文件\n",
    "    f.write(\"编号:4155047,价格:25.90,奥利奥（Oreo）巧克力味夹心饼干\")\n",
    "```"
   ]
  },
  {
   "cell_type": "markdown",
   "id": "558cd74c",
   "metadata": {},
   "source": [
    "# 获取网页中的图片"
   ]
  },
  {
   "cell_type": "markdown",
   "id": "664d9188",
   "metadata": {},
   "source": [
    "学完了文件的读写知识点后，接下来从网页中获取一张图片并保存到文件夹中。\n",
    "网页链接是：\n",
    "https://npbcz.wordpress.com/2020/08/20/photo/\n",
    "\n",
    "在图片上点击右键选择复制图片地址，这样我们就获得了图片地址：\n",
    "https://npbcz.files.wordpress.com/2020/09/2-2.jpg"
   ]
  },
  {
   "cell_type": "markdown",
   "id": "6bb2959f",
   "metadata": {},
   "source": [
    "复习之前的知识点，使用Python获取网页源代码：\n",
    "\n",
    "1. 我们需要导入requests模块；\n",
    "2. 找到目标URL；\n",
    "3. 将URL传入get()函数中请求数据。\n",
    "\n",
    "链接：\"https://npbcz.files.wordpress.com/2020/09/2-2.jpg\""
   ]
  },
  {
   "cell_type": "markdown",
   "id": "f3c38e40",
   "metadata": {},
   "source": [
    "```\n",
    "# TODO 使用import导入requests模块\n",
    "import requests\n",
    "\n",
    "# TODO 复制左侧的图片地址，赋值给变量url\n",
    "url = \"https://npbcz.files.wordpress.com/2020/09/2-2.jpg\"\n",
    "\n",
    "# TODO 将 url 添加进requests.get()中，赋值给response\n",
    "response = requests.get(url)\n",
    "\n",
    "# 输出response\n",
    "print(response)\n",
    "```"
   ]
  },
  {
   "cell_type": "markdown",
   "id": "d5781b45",
   "metadata": {},
   "source": [
    "## 获取图片数据"
   ]
  },
  {
   "cell_type": "markdown",
   "id": "6f135902",
   "metadata": {},
   "source": [
    "在前面的课程中我们学习了 .text属性 ,该属性可用于获取从网页中返回的文本类型的数据。\n",
    "\n",
    "现在需要通过链接获取网页中的图片数据，需要用到.content属性，使用该属性获取到的数据类型为bytes类型，表示二进制数据。"
   ]
  },
  {
   "cell_type": "markdown",
   "id": "ad2a420f",
   "metadata": {},
   "source": [
    "```\n",
    "# 使用import导入requests模块\n",
    "import requests\n",
    "\n",
    "# 将图片地址，赋值给变量url\n",
    "url = \"https://npbcz.files.wordpress.com/2020/09/2-2.jpg\"\n",
    "\n",
    "# 将 url 添加进requests.get()中，赋值给response\n",
    "response = requests.get(url)\n",
    "\n",
    "# TODO 使用.content属性获取图片内容，并赋值给img\n",
    "img = response.content\n",
    "```"
   ]
  },
  {
   "cell_type": "markdown",
   "id": "003ea25f",
   "metadata": {},
   "source": [
    "接下来，我们就可以用with...as语句来保存图片。\n",
    "\n",
    "with...as语句中图片写入时，需要将打开方式设置为\"wb\"，它可以用于图片的写入，并且如果该文件已存在则将其覆盖。如果该文件不存在，创建新文件。       \n",
    "\n",
    "图片文件路径：/Users/图片.jpg"
   ]
  },
  {
   "cell_type": "markdown",
   "id": "3395cba5",
   "metadata": {},
   "source": [
    "```\n",
    "# 使用import导入requests模块\n",
    "import requests\n",
    "\n",
    "# 复制左侧的图片地址，赋值给变量url\n",
    "url = \"https://npbcz.files.wordpress.com/2020/09/2-2.jpg\"\n",
    "\n",
    "# 将 url 添加进requests.get()中，赋值给response\n",
    "response = requests.get(url)\n",
    "\n",
    "# 使用.content属性获取图片内容，并赋值给img\n",
    "img = response.content\n",
    "\n",
    "# TODO 使用with...as以wb方式，打开名字为\"/Users/图片.jpg\"的文件，并赋值给f \n",
    "with open(\"/Users/图片.jpg\", \"wb\") as f:\n",
    "\n",
    "    # TODO 使用write()函数写入img\n",
    "    f.write(img)\n",
    "```"
   ]
  },
  {
   "cell_type": "markdown",
   "id": "4f1ee526",
   "metadata": {},
   "source": [
    "参数\"wb\"表示二进制数据的写入，并且如果该文件已存在则将其覆盖。如果该文件不存在，创建新文件。"
   ]
  },
  {
   "cell_type": "markdown",
   "id": "50482954",
   "metadata": {},
   "source": [
    "回顾今天学习的内容：\n",
    "\n",
    "1. 学习了open()函数处理文件的操作方法。\n",
    "\n",
    "2. 了解了with...as语句处理文件的优势。\n",
    "\n",
    "3. 使用.content获取图片数据。\n",
    "\n",
    "4. 从网页中获取图片数据并保存成.jpg文件。"
   ]
  },
  {
   "cell_type": "markdown",
   "id": "547f67f0",
   "metadata": {},
   "source": [
    "# 百词斩题目"
   ]
  },
  {
   "cell_type": "markdown",
   "id": "ca8ccaac",
   "metadata": {},
   "source": [
    "## 追加电影        \n",
    "\n",
    "小倩统计电影时漏掉了一部，她想使用Python的文件操作，以追加模式打开文件“films.txt”，直接向文件末尾追加漏掉的电影名字。\n",
    "电影名字是：音乐之声\n",
    "追加模式为：“a”\n",
    "\n",
    "【题目要求】\n",
    "1.使用追加模式，打开文件，用write函数向文件末尾追加漏掉的电影名字。\n",
    "2.使用只读模式，打开文件，用read函数输出文件内容。"
   ]
  },
  {
   "cell_type": "markdown",
   "id": "bfaea829",
   "metadata": {},
   "source": [
    "```\n",
    "# TODO 使用with....as 以追加的方式\n",
    "# TODO 打开名字为films.txt的文本文件，并赋值给f\n",
    "with open(\"films.txt\", \"a\") as f:\n",
    "\n",
    "    # TODO 使用write()函数向文件末尾写入内容\n",
    "    f.write(\"音乐之声\")\n",
    "\n",
    "# TODO 使用with....as 以只读的方式\n",
    "# TODO 打开名字为films.txt的文本文件，并赋值给f2\n",
    "with open(\"films.txt\", \"r\") as f:\n",
    "\n",
    "    # TODO 使用read()函数读文件，并输出文件内容\n",
    "    print(f.read())\n",
    "```"
   ]
  },
  {
   "cell_type": "markdown",
   "id": "b2170670",
   "metadata": {},
   "source": [
    "## 家访名单       \n",
    "\n",
    "乔老师的学校要开展家访活动，乔老师作为七年级的年级主任，负责从3000人的名单中，选出500人对其进行家访，乔老师求助她的好友阿珍帮忙完成家访名单制作。\n",
    "\n",
    "学生名单如下图所示，文件为name_list.txt\n",
    "要求将前500个同学的名字写入到visitNames.txt文件中。"
   ]
  },
  {
   "cell_type": "markdown",
   "id": "181fb98f",
   "metadata": {},
   "source": [
    "```\n",
    "# TODO 创建一个空列表studentNames用来存放家访学生名字\n",
    "studentNames = []\n",
    "\n",
    "# TODO 创建一个计数器count初始值为0，用来计数学生人数\n",
    "count = 0\n",
    "\n",
    "# TODO 使用with open()函数打开学生名单name_list.txt\n",
    "# 打开方式设为只读r，将文件名设为f\n",
    "with open(\"name_list.txt\", \"r\") as f:\n",
    "\n",
    "    # TODO 使用for循环遍历文件f\n",
    "    for line in f:\n",
    "\n",
    "        # TODO 使用if判断当计数器大于等于500时\n",
    "        if count >= 500:\n",
    "            # TODO 使用break结束循环\n",
    "            break\n",
    "\n",
    "        # TODO 使用append()函数将每一行的数据追加到studentNames列表中\n",
    "        studentNames.append(line)\n",
    "\n",
    "        # TODO 计数器count加一\n",
    "        count += 1\n",
    "\n",
    "# TODO 使用with open()函数打开要存入的家访学生名单visitNames.txt\n",
    "# 打开方式设为只写w，将文件名设为f\n",
    "with open(\"visitNames.txt\", \"w\") as f:\n",
    "\n",
    "    # TODO 使用for循环遍历家访学生列表\n",
    "    for item in studentNames:\n",
    "\n",
    "        # TODO 使用write()函数，将每一个学生名字写入\n",
    "        f.write(item)\n",
    "```"
   ]
  },
  {
   "cell_type": "markdown",
   "id": "2e0acfa2",
   "metadata": {},
   "source": [
    "## 宣传海报           \n",
    "\n",
    "小倩想打印一张数学公式的图片用作宣传，她找到了一张图片，但是图片的格式不符合她的要求，她想用爬虫将图片爬取下来并保存为png格式。\n",
    "\n",
    "图片地址：https://npbcz.files.wordpress.com/2020/09/4-1.jpg\n",
    "\n",
    "【题目要求】\n",
    "1. 使用requests模块获取指定URL图片的数据；\n",
    "2. 将获取到的图片保存为math.png。"
   ]
  },
  {
   "cell_type": "markdown",
   "id": "d3037646",
   "metadata": {},
   "source": [
    "```\n",
    "# TODO 使用import导入requests模块\n",
    "import requests\n",
    "\n",
    "# TODO 复制左侧的图片地址，赋值给变量url\n",
    "url = \"https://npbcz.files.wordpress.com/2020/09/4-1.jpg\"\n",
    "\n",
    "# TODO 将 url 添加进requests.get()中，赋值给response\n",
    "response = requests.get(url)\n",
    "\n",
    "# TODO 使用.content属性获取图片内容，并赋值给img\n",
    "img = response.content\n",
    "\n",
    "# TODO 使用with...as语句配合open()以wb方式，打开名字为\"math.png\"的文件，并赋值给f \n",
    "with open(\"math.png\", \"wb\") as f:\n",
    "\n",
    "    # TODO 使用write()函数写入img\n",
    "    f.write(img)\n",
    "```"
   ]
  },
  {
   "cell_type": "markdown",
   "id": "357c24de",
   "metadata": {},
   "source": [
    "## 都是艺术           \n",
    "\n",
    "小倩在某网站上看到几张艺术图片，决定使用学习到的新知识请求网页下载图片。\n",
    "\n",
    "观察图片链接发现，每张图片只有链接中的一处不同，想到可以使用循环批量下载这些图片。\n",
    "\n",
    "【题目要求】\n",
    "1. 使用循环依次请求每张图片；\n",
    "2. 图片以16-1.jpg、17-1.jpg、18-1.jpg、19-1.jpg的形式保存。\n",
    "\n",
    "四张图片链接：\n",
    "https://npbcz.files.wordpress.com/2020/09/16-1.jpg?w=400\n",
    "https://npbcz.files.wordpress.com/2020/09/17-1.jpg?w=400\n",
    "https://npbcz.files.wordpress.com/2020/09/18-1.jpg?w=400\n",
    "https://npbcz.files.wordpress.com/2020/09/19-1.jpg?w=400"
   ]
  },
  {
   "cell_type": "markdown",
   "id": "5a7e7dae",
   "metadata": {},
   "source": [
    "```\n",
    "import requests\n",
    "\n",
    "for imgName in [\"16-1\", \"17-1\", \"18-1\", \"19-1\"]:\n",
    "    url = f\"https://npbcz.files.wordpress.com/2020/09/{imgName}.jpg?w=400\"\n",
    "    response = requests.get(url)\n",
    "    img = response.content\n",
    "    with open(f\"{imgName}.jpg\", \"wb\") as f:\n",
    "        f.write(img)\n",
    "```"
   ]
  },
  {
   "cell_type": "markdown",
   "id": "b1fbedb6",
   "metadata": {},
   "source": [
    "f-string，亦称为格式化字符串常量（formatted string literals），主要目的是使格式化字符串的操作更加简便。f-string在形式上是以 f 或 F 修饰符引领的字符串（f'xxx'或 F'xxx'），以大括号 {} 标明被替换的字段；f-string在本质上并不是字符串常量，而是一个在运行时运算求值的表达式。         \n",
    "\n",
    "f-string在功能方面不逊于传统的%-formatting语句和str.format()函数，同时性能又优于二者，且使用起来也更加简洁明了，因此对于Python3.6及以后的版本，推荐使用f-string进行字符串格式化。"
   ]
  },
  {
   "cell_type": "markdown",
   "id": "44985c5f",
   "metadata": {},
   "source": [
    "简单用法：f-string用大括号 {} 表示被替换字段，其中直接填入替换内容。"
   ]
  }
 ],
 "metadata": {
  "kernelspec": {
   "display_name": "Python 3",
   "language": "python",
   "name": "python3"
  },
  "language_info": {
   "codemirror_mode": {
    "name": "ipython",
    "version": 3
   },
   "file_extension": ".py",
   "mimetype": "text/x-python",
   "name": "python",
   "nbconvert_exporter": "python",
   "pygments_lexer": "ipython3",
   "version": "3.8.8"
  }
 },
 "nbformat": 4,
 "nbformat_minor": 5
}

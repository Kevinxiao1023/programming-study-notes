{
 "cells": [
  {
   "cell_type": "markdown",
   "id": "1c1dcc6d",
   "metadata": {},
   "source": [
    "# 复习"
   ]
  },
  {
   "cell_type": "markdown",
   "id": "bffcaefe",
   "metadata": {},
   "source": [
    "请求方法在请求头(Requests Headers)中，浏览器发送HTTP请求时，要告诉服务器此次请求的方法类型。"
   ]
  },
  {
   "cell_type": "markdown",
   "id": "3a927b0c",
   "metadata": {},
   "source": [
    "# 分析网页"
   ]
  },
  {
   "cell_type": "markdown",
   "id": "449345b4",
   "metadata": {},
   "source": [
    "想要获取网页中的数据，首先要获取网页 HTML 代码，再把数据从中提取出来。\n",
    "\n",
    "我们要向网页的服务器发送请求，服务器返回的响应就是网页 HTML 代码。"
   ]
  },
  {
   "cell_type": "markdown",
   "id": "226cea8f",
   "metadata": {},
   "source": [
    "现在我们获取到了网页的 HTML 代码，该如何获取数据呢？🤔\n",
    "\n",
    "在之前的课程中，我们学习过切片，可以按照字符个数提取相关内容。在右图代码中，按照切片提取出 h1 标签节点\n",
    "\n",
    "但是，如果 HTML代码很长，想要获取的节点又不是相连的，用切片的方法就行不通了。"
   ]
  },
  {
   "cell_type": "markdown",
   "id": "04da90a9",
   "metadata": {},
   "source": [
    "# Beautiful Soup 解析库"
   ]
  },
  {
   "cell_type": "markdown",
   "id": "787f2bb4",
   "metadata": {},
   "source": [
    "## bs4的安装"
   ]
  },
  {
   "cell_type": "markdown",
   "id": "70aed0e1",
   "metadata": {},
   "source": [
    "对于一个网页的节点来说，它可以定义id、class或其他属性，而且节点之间还有层级关系。\n",
    "\n",
    "我们可以借助网页节点的结构和属性，提取想要的信息。在这里，我们来学习一个强大的解析工具——BeautifulSoup"
   ]
  },
  {
   "cell_type": "markdown",
   "id": "c336d6c0",
   "metadata": {},
   "source": [
    "**网页中的每个部分都可以叫做节点。例如：html标签、属性、文本等都是一个节点**。"
   ]
  },
  {
   "cell_type": "markdown",
   "id": "bda1c6cb",
   "metadata": {},
   "source": [
    "BeautifulSoup 是 Python 的一个 HTML 或 XML 的解析模块，可以用它来从网页中提取想要的数据。    \n",
    "\n",
    "BeautifulSoup不是一个内置模块，所以在使用前要先通过代码 pip install bs4 在终端中进行安装"
   ]
  },
  {
   "cell_type": "markdown",
   "id": "7110a1e1",
   "metadata": {},
   "source": [
    "XML用来传送和携带数据信息，并不展现或者表现数据，HTML用来表示数据"
   ]
  },
  {
   "cell_type": "markdown",
   "id": "c4a9ea1a",
   "metadata": {},
   "source": [
    "## lxml的安装"
   ]
  },
  {
   "cell_type": "markdown",
   "id": "3a29f724",
   "metadata": {},
   "source": [
    "网络爬虫的最终目的就是**过滤选取网络信息**，最重要的部分可以说是解析器。解析器的优劣决定了爬虫的速度和效率。\n",
    "\n",
    "Beautiful Soup 官方推荐我们使用的是 lxml 解析器，原因是它具有更高的效率，所以我们也将采用lxml解析器。\n",
    "\n",
    "lxml 不是一个内置模块，所以在使用前要先通过代码 pip install lxml 在终端中进行安装。"
   ]
  },
  {
   "cell_type": "markdown",
   "id": "ce501623",
   "metadata": {},
   "source": [
    "安装完成后，我们需要使用 bs4 模块中的 BeautifulSoup 类。\n",
    "\n",
    "这就要使用 from...import 从 bs4 中导入 BeautifulSoup 。"
   ]
  },
  {
   "cell_type": "markdown",
   "id": "44331046",
   "metadata": {},
   "source": [
    "## 创建BeautifulSoup 对象"
   ]
  },
  {
   "cell_type": "markdown",
   "id": "83a87381",
   "metadata": {},
   "source": [
    "调用 BeautifulSoup() 初始化函数，用于构建一个 BeautifulSoup 对象。    \n",
    "\n",
    "在创建一个 BeautifulSoup 对象时，需要传入两个参数：\n",
    "\n",
    "第一个参数\n",
    "是需要解析的 HTML 文本，在这里我们传入变量 html。\n",
    "\n",
    "第二个参数\n",
    "是解析器的类型，这里我们使用的是lxml。     \n",
    "\n",
    "然后，将 BeautifulSoup 对象赋值给变量 soup，就可以调用 soup 解析这串 HTML 代码。\n",
    "\n",
    "在输出的结果中包含了 html 和 head节点。\n",
    "\n",
    "也就是说 BeautifulSoup 把不标准的 HTML 代码重新进行了**自动更正**。    \n",
    "\n",
    "```\n",
    "soup = BeautifulSoup(html, \"lxml\")\n",
    "```"
   ]
  },
  {
   "cell_type": "code",
   "execution_count": 1,
   "id": "19f05390",
   "metadata": {},
   "outputs": [
    {
     "name": "stdout",
     "output_type": "stream",
     "text": [
      "<html><head><title>网络爬虫课程</title>\n",
      "</head><body>\n",
      "<h1 align=\"center\">我的第一个标题-居中显示</h1>\n",
      "<h2>我的第二个标题，不居中显示</h2>\n",
      "<p>我的第一个段落\n",
      "    </p>\n",
      "</body></html>\n"
     ]
    }
   ],
   "source": [
    "# 使用from...import从bs4模块中导入BeautifulSoup\n",
    "from bs4 import BeautifulSoup\n",
    "\n",
    "# 定义html\n",
    "html = '''\n",
    "<title>网络爬虫课程</title>\n",
    "<body>\n",
    "    <h1 align=\"center\">我的第一个标题-居中显示</h1>\n",
    "    <h2>我的第二个标题，不居中显示</h2>\n",
    "    <p>我的第一个段落\n",
    "    </p>\n",
    "'''\n",
    "\n",
    "# TODO 使用BeautifulSoup()读取html，添加lxml解析器，赋值给soup\n",
    "soup = BeautifulSoup(html, \"lxml\")\n",
    "\n",
    "# TODO 使用print()输出soup\n",
    "print(soup)"
   ]
  },
  {
   "cell_type": "markdown",
   "id": "60188423",
   "metadata": {},
   "source": [
    "# 解析网页"
   ]
  },
  {
   "cell_type": "code",
   "execution_count": 2,
   "id": "b8555dbc",
   "metadata": {},
   "outputs": [
    {
     "name": "stdout",
     "output_type": "stream",
     "text": [
      "<!DOCTYPE html>\n",
      "<html lang=\"zh-CN\">\n",
      "<head>\n",
      "<meta charset=\"utf-8\"/>\n",
      "<meta content=\"width=device-width, initial-scale=1, maximum-scale=2\" name=\"viewport\"/>\n",
      "<meta content=\"#222\" name=\"theme-color\"/>\n",
      "<meta content=\"Hexo 5.1.1\" name=\"generator\"/>\n",
      "<link href=\"/images/apple-touch-icon-next.png\" rel=\"apple-touch-icon\" sizes=\"180x180\"/>\n",
      "<link href=\"/images/favicon-32x32-next.png\" rel=\"icon\" sizes=\"32x32\" type=\"image/png\"/>\n",
      "<link href=\"/images/favicon-16x16-next.png\" rel=\"icon\" sizes=\"16x16\" type=\"image/png\"/>\n",
      "<link color=\"#222\" href=\"/images/logo.svg\" rel=\"mask-icon\"/>\n",
      "<link href=\"/css/main.css\" rel=\"stylesheet\"/>\n",
      "<link href=\"/lib/font-awesome/css/all.min.css\" rel=\"stylesheet\"/>\n",
      "<script id=\"hexo-configurations\">\n",
      "    var NexT = window.NexT || {};\n",
      "    var CONFIG = {\"hostname\":\"nocturne-spider.baicizhan.com\",\"root\":\"/\",\"scheme\":\"Muse\",\"version\":\"7.8.0\",\"exturl\":false,\"sidebar\":{\"position\":\"left\",\"display\":\"always\",\"padding\":18,\"offset\":12,\"onmobile\":false},\"copycode\":{\"enable\":false,\"show_result\":false,\"style\":null},\"back2top\":{\"enable\":true,\"sidebar\":false,\"scrollpercent\":false},\"bookmark\":{\"enable\":false,\"color\":\"#222\",\"save\":\"auto\"},\"fancybox\":false,\"mediumzoom\":false,\"lazyload\":false,\"pangu\":false,\"comments\":{\"style\":\"tabs\",\"active\":\"valine\",\"storage\":true,\"lazyload\":false,\"nav\":null,\"activeClass\":\"valine\"},\"algolia\":{\"hits\":{\"per_page\":10},\"labels\":{\"input_placeholder\":\"Search for Posts\",\"hits_empty\":\"We didn't find any results for the search: ${query}\",\"hits_stats\":\"${hits} results found in ${time} ms\"}},\"localsearch\":{\"enable\":false,\"trigger\":\"auto\",\"top_n_per_article\":1,\"unescape\":false,\"preload\":false},\"motion\":{\"enable\":true,\"async\":false,\"transition\":{\"post_block\":\"fadeIn\",\"post_header\":\"slideDownIn\",\"post_body\":\"slideDownIn\",\"coll_header\":\"slideLeftIn\",\"sidebar\":\"slideUpIn\"}}};\n",
      "  </script>\n",
      "<meta content=\"这几天你总是围着我转圈圈。 我好奇地问你在干什么。 你说：“我在环游世界。”\" name=\"description\"/>\n",
      "<meta content=\"article\" property=\"og:type\"/>\n",
      "<meta content=\"飞屋环游记\" property=\"og:title\"/>\n",
      "<meta content=\"https://nocturne-spider.baicizhan.com/2020/08/07/1/index.html\" property=\"og:url\"/>\n",
      "<meta content=\"夜曲编程\" property=\"og:site_name\"/>\n",
      "<meta content=\"这几天你总是围着我转圈圈。 我好奇地问你在干什么。 你说：“我在环游世界。”\" property=\"og:description\"/>\n",
      "<meta content=\"zh_CN\" property=\"og:locale\"/>\n",
      "<meta content=\"https://materials.cdn.bcebos.com/images/24c387fd88e4b3700f2eada3bdd985fe.jpeg\" property=\"og:image\"/>\n",
      "<meta content=\"2020-08-07T09:24:04.000Z\" property=\"article:published_time\"/>\n",
      "<meta content=\"2020-09-08T06:47:04.203Z\" property=\"article:modified_time\"/>\n",
      "<meta content=\"夜曲编程\" property=\"article:author\"/>\n",
      "<meta content=\"summary\" name=\"twitter:card\"/>\n",
      "<meta content=\"https://materials.cdn.bcebos.com/images/24c387fd88e4b3700f2eada3bdd985fe.jpeg\" name=\"twitter:image\"/>\n",
      "<link href=\"https://nocturne-spider.baicizhan.com/2020/08/07/1/\" rel=\"canonical\"/>\n",
      "<script id=\"page-configurations\">\n",
      "  // https://hexo.io/docs/variables.html\n",
      "  CONFIG.page = {\n",
      "    sidebar: \"\",\n",
      "    isHome : false,\n",
      "    isPost : true,\n",
      "    lang   : 'zh-CN'\n",
      "  };\n",
      "</script>\n",
      "<title>飞屋环游记 | 夜曲编程</title>\n",
      "<script>\n",
      "    var _hmt = _hmt || [];\n",
      "    (function() {\n",
      "      var hm = document.createElement(\"script\");\n",
      "      hm.src = \"https://hm.baidu.com/hm.js?ab8ddafbce3f7ff86be6f2ab9bf24d48\";\n",
      "      var s = document.getElementsByTagName(\"script\")[0];\n",
      "      s.parentNode.insertBefore(hm, s);\n",
      "    })();\n",
      "  </script>\n",
      "<noscript>\n",
      "<style>\n",
      "  .use-motion .brand,\n",
      "  .use-motion .menu-item,\n",
      "  .sidebar-inner,\n",
      "  .use-motion .post-block,\n",
      "  .use-motion .pagination,\n",
      "  .use-motion .comments,\n",
      "  .use-motion .post-header,\n",
      "  .use-motion .post-body,\n",
      "  .use-motion .collection-header { opacity: initial; }\n",
      "\n",
      "  .use-motion .site-title,\n",
      "  .use-motion .site-subtitle {\n",
      "    opacity: initial;\n",
      "    top: initial;\n",
      "  }\n",
      "\n",
      "  .use-motion .logo-line-before i { left: initial; }\n",
      "  .use-motion .logo-line-after i { right: initial; }\n",
      "  </style>\n",
      "</noscript>\n",
      "</head>\n",
      "<body itemscope=\"\" itemtype=\"http://schema.org/WebPage\">\n",
      "<div class=\"container use-motion\">\n",
      "<div class=\"headband\"></div>\n",
      "<header class=\"header\" itemscope=\"\" itemtype=\"http://schema.org/WPHeader\">\n",
      "<div class=\"header-inner\"><div class=\"site-brand-container\">\n",
      "<div class=\"site-nav-toggle\">\n",
      "<div aria-label=\"切换导航栏\" class=\"toggle\">\n",
      "<span class=\"toggle-line toggle-line-first\"></span>\n",
      "<span class=\"toggle-line toggle-line-middle\"></span>\n",
      "<span class=\"toggle-line toggle-line-last\"></span>\n",
      "</div>\n",
      "</div>\n",
      "<div class=\"site-meta\">\n",
      "<a class=\"brand\" href=\"/\" rel=\"start\">\n",
      "<span class=\"logo-line-before\"><i></i></span>\n",
      "<h1 class=\"site-title\">夜曲编程</h1>\n",
      "<span class=\"logo-line-after\"><i></i></span>\n",
      "</a>\n",
      "<p class=\"site-subtitle\" itemprop=\"description\">编程入门第一课</p>\n",
      "</div>\n",
      "<div class=\"site-nav-right\">\n",
      "<div class=\"toggle popup-trigger\">\n",
      "</div>\n",
      "</div>\n",
      "</div>\n",
      "<nav class=\"site-nav\">\n",
      "<ul class=\"main-menu menu\" id=\"menu\">\n",
      "<li class=\"menu-item menu-item-home\">\n",
      "<a href=\"/\" rel=\"section\"><i class=\"fa fa-home fa-fw\"></i>首页</a>\n",
      "</li>\n",
      "</ul>\n",
      "</nav>\n",
      "</div>\n",
      "</header>\n",
      "<div class=\"back-to-top\">\n",
      "<i class=\"fa fa-arrow-up\"></i>\n",
      "<span>0%</span>\n",
      "</div>\n",
      "<main class=\"main\">\n",
      "<div class=\"main-inner\">\n",
      "<div class=\"content-wrap\">\n",
      "<div class=\"content post posts-expand\">\n",
      "<article class=\"post-block\" itemscope=\"\" itemtype=\"http://schema.org/Article\" lang=\"zh-CN\">\n",
      "<link href=\"https://nocturne-spider.baicizhan.com/2020/08/07/1/\" itemprop=\"mainEntityOfPage\"/>\n",
      "<span hidden=\"\" itemprop=\"author\" itemscope=\"\" itemtype=\"http://schema.org/Person\">\n",
      "<meta content=\"https://nocturne.bczcdn.com/img/0081l4sPly8g9kie5z6jmj30go0got8r.jpg\" itemprop=\"image\"/>\n",
      "<meta content=\"夜曲编程\" itemprop=\"name\"/>\n",
      "<meta content=\"\" itemprop=\"description\"/>\n",
      "</span>\n",
      "<span hidden=\"\" itemprop=\"publisher\" itemscope=\"\" itemtype=\"http://schema.org/Organization\">\n",
      "<meta content=\"夜曲编程\" itemprop=\"name\"/>\n",
      "</span>\n",
      "<header class=\"post-header\">\n",
      "<h1 class=\"post-title\" itemprop=\"name headline\">\n",
      "          飞屋环游记\n",
      "        </h1>\n",
      "<div class=\"post-meta\">\n",
      "<span class=\"post-meta-item\">\n",
      "<span class=\"post-meta-item-icon\">\n",
      "<i class=\"far fa-calendar\"></i>\n",
      "</span>\n",
      "<span class=\"post-meta-item-text\">发表于</span>\n",
      "<time datetime=\"2020-08-07T17:24:04+08:00\" itemprop=\"dateCreated datePublished\" title=\"创建时间：2020-08-07 17:24:04\">2020-08-07</time>\n",
      "</span>\n",
      "<span class=\"post-meta-item\">\n",
      "<span class=\"post-meta-item-icon\">\n",
      "<i class=\"far fa-calendar-check\"></i>\n",
      "</span>\n",
      "<span class=\"post-meta-item-text\">更新于</span>\n",
      "<time datetime=\"2020-09-08T14:47:04+08:00\" itemprop=\"dateModified\" title=\"修改时间：2020-09-08 14:47:04\">2020-09-08</time>\n",
      "</span>\n",
      "<span class=\"post-meta-item\">\n",
      "<span class=\"post-meta-item-icon\">\n",
      "<i class=\"far fa-folder\"></i>\n",
      "</span>\n",
      "<span class=\"post-meta-item-text\">分类于</span>\n",
      "<span itemprop=\"about\" itemscope=\"\" itemtype=\"http://schema.org/Thing\">\n",
      "<a href=\"/categories/%E6%9C%AA%E5%88%86%E9%A1%9E/\" itemprop=\"url\" rel=\"index\"><span itemprop=\"name\">未分類</span></a>\n",
      "</span>\n",
      "</span>\n",
      "<span class=\"post-meta-item\">\n",
      "<span class=\"post-meta-item-icon\">\n",
      "<i class=\"far fa-comment\"></i>\n",
      "</span>\n",
      "<span class=\"post-meta-item-text\">Valine：</span>\n",
      "<a href=\"/2020/08/07/1/#valine-comments\" itemprop=\"discussionUrl\" title=\"valine\">\n",
      "<span class=\"post-comments-count valine-comment-count\" data-xid=\"/2020/08/07/1/\" itemprop=\"commentCount\"></span>\n",
      "</a>\n",
      "</span>\n",
      "</div>\n",
      "</header>\n",
      "<div class=\"post-body\" itemprop=\"articleBody\">\n",
      "<p><em>这几天你总是围着我转圈圈。</em></p>\n",
      "<p><em>我好奇地问你在干什么。</em></p>\n",
      "<p><em>你说：“我在环游世界。”</em></p>\n",
      "<p><img alt=\"飞屋环游记飞行员卡通_飞屋环游记飞行员卡通图片分享\" src=\"https://materials.cdn.bcebos.com/images/24c387fd88e4b3700f2eada3bdd985fe.jpeg\"/></p>\n",
      "</div>\n",
      "<footer class=\"post-footer\">\n",
      "<div class=\"post-nav\">\n",
      "<div class=\"post-nav-item\">\n",
      "<a href=\"/2020/07/29/example-post-3/\" rel=\"prev\" title=\"Python的特点\">\n",
      "<i class=\"fa fa-chevron-left\"></i> Python的特点\n",
      "    </a></div>\n",
      "<div class=\"post-nav-item\">\n",
      "<a href=\"/2020/08/08/%E5%9F%9F%E5%90%8D/\" rel=\"next\" title=\"域名\">\n",
      "      域名 <i class=\"fa fa-chevron-right\"></i>\n",
      "</a></div>\n",
      "</div>\n",
      "</footer>\n",
      "</article>\n",
      "</div>\n",
      "<div class=\"comments\" id=\"valine-comments\"></div>\n",
      "<script>\n",
      "  window.addEventListener('tabs:register', () => {\n",
      "    let { activeClass } = CONFIG.comments;\n",
      "    if (CONFIG.comments.storage) {\n",
      "      activeClass = localStorage.getItem('comments_active') || activeClass;\n",
      "    }\n",
      "    if (activeClass) {\n",
      "      let activeTab = document.querySelector(`a[href=\"#comment-${activeClass}\"]`);\n",
      "      if (activeTab) {\n",
      "        activeTab.click();\n",
      "      }\n",
      "    }\n",
      "  });\n",
      "  if (CONFIG.comments.storage) {\n",
      "    window.addEventListener('tabs:click', event => {\n",
      "      if (!event.target.matches('.tabs-comment .tab-content .tab-pane')) return;\n",
      "      let commentClass = event.target.classList[1];\n",
      "      localStorage.setItem('comments_active', commentClass);\n",
      "    });\n",
      "  }\n",
      "</script>\n",
      "</div>\n",
      "<div class=\"toggle sidebar-toggle\">\n",
      "<span class=\"toggle-line toggle-line-first\"></span>\n",
      "<span class=\"toggle-line toggle-line-middle\"></span>\n",
      "<span class=\"toggle-line toggle-line-last\"></span>\n",
      "</div>\n",
      "<aside class=\"sidebar\">\n",
      "<div class=\"sidebar-inner\">\n",
      "<ul class=\"sidebar-nav motion-element\">\n",
      "<li class=\"sidebar-nav-toc\">\n",
      "          文章目录\n",
      "        </li>\n",
      "<li class=\"sidebar-nav-overview\">\n",
      "          站点概览\n",
      "        </li>\n",
      "</ul>\n",
      "<!--noindex-->\n",
      "<div class=\"post-toc-wrap sidebar-panel\">\n",
      "</div>\n",
      "<!--/noindex-->\n",
      "<div class=\"site-overview-wrap sidebar-panel\">\n",
      "<div class=\"site-author motion-element\" itemprop=\"author\" itemscope=\"\" itemtype=\"http://schema.org/Person\">\n",
      "<img alt=\"夜曲编程\" class=\"site-author-image\" itemprop=\"image\" src=\"https://nocturne.bczcdn.com/img/0081l4sPly8g9kie5z6jmj30go0got8r.jpg\"/>\n",
      "<p class=\"site-author-name\" itemprop=\"name\">夜曲编程</p>\n",
      "<div class=\"site-description\" itemprop=\"description\"></div>\n",
      "</div>\n",
      "<div class=\"site-state-wrap motion-element\">\n",
      "<nav class=\"site-state\">\n",
      "<div class=\"site-state-item site-state-posts\">\n",
      "<a href=\"/archives\">\n",
      "<span class=\"site-state-item-count\">8</span>\n",
      "<span class=\"site-state-item-name\">日志</span>\n",
      "</a>\n",
      "</div>\n",
      "<div class=\"site-state-item site-state-categories\">\n",
      "<span class=\"site-state-item-count\">1</span>\n",
      "<span class=\"site-state-item-name\">分类</span>\n",
      "</div>\n",
      "</nav>\n",
      "</div>\n",
      "<div class=\"links-of-author motion-element\">\n",
      "<span class=\"links-of-author-item\">\n",
      "<a href=\"https://weibo.com/yequbcz\" rel=\"noopener\" target=\"_blank\" title=\"Weibo → https://weibo.com/yequbcz\"><i class=\"fab fa-weibo fa-fw\"></i>Weibo</a>\n",
      "</span>\n",
      "</div>\n",
      "<div class=\"links-of-blogroll motion-element\">\n",
      "<div class=\"links-of-blogroll-title\"><i class=\"fa fa-link fa-fw\"></i>\n",
      "      Links\n",
      "    </div>\n",
      "<ul class=\"links-of-blogroll-list\">\n",
      "<li class=\"links-of-blogroll-item\">\n",
      "<a href=\"https://np.baicizhan.com/\" rel=\"noopener\" target=\"_blank\" title=\"https://np.baicizhan.com\">夜曲官网</a>\n",
      "</li>\n",
      "<li class=\"links-of-blogroll-item\">\n",
      "<a href=\"https://www.xiaohongshu.com/user/profile/5e1847ac0000000001006798\" rel=\"noopener\" target=\"_blank\" title=\"https://www.xiaohongshu.com/user/profile/5e1847ac0000000001006798\">夜曲小红书</a>\n",
      "</li>\n",
      "</ul>\n",
      "</div>\n",
      "</div>\n",
      "</div>\n",
      "</aside>\n",
      "<div id=\"sidebar-dimmer\"></div>\n",
      "</div>\n",
      "</main>\n",
      "<footer class=\"footer\">\n",
      "<div class=\"footer-inner\">\n",
      "<div class=\"copyright\">\n",
      "  \n",
      "  © \n",
      "  <span itemprop=\"copyrightYear\">2021</span>\n",
      "<span class=\"with-love\">\n",
      "<i class=\"fa fa-heart\"></i>\n",
      "</span>\n",
      "<span class=\"author\" itemprop=\"copyrightHolder\">夜曲编程</span>\n",
      "</div>\n",
      "<div class=\"powered-by\">由 <a class=\"theme-link\" href=\"https://hexo.io/\" rel=\"noopener\" target=\"_blank\">Hexo</a> &amp; <a class=\"theme-link\" href=\"https://muse.theme-next.org/\" rel=\"noopener\" target=\"_blank\">NexT.Muse</a> 强力驱动\n",
      "  </div>\n",
      "</div>\n",
      "</footer>\n",
      "</div>\n",
      "<script src=\"/lib/anime.min.js\"></script>\n",
      "<script src=\"/lib/velocity/velocity.min.js\"></script>\n",
      "<script src=\"/lib/velocity/velocity.ui.min.js\"></script>\n",
      "<script src=\"/js/utils.js\"></script>\n",
      "<script src=\"/js/motion.js\"></script>\n",
      "<script src=\"/js/schemes/muse.js\"></script>\n",
      "<script src=\"/js/next-boot.js\"></script>\n",
      "<script>\n",
      "NexT.utils.loadComments(document.querySelector('#valine-comments'), () => {\n",
      "  NexT.utils.getScript('//unpkg.com/valine/dist/Valine.min.js', () => {\n",
      "    var GUEST = ['nick', 'mail', 'link'];\n",
      "    var guest = 'nick,mail';\n",
      "    guest = guest.split(',').filter(item => {\n",
      "      return GUEST.includes(item);\n",
      "    });\n",
      "    new Valine({\n",
      "      el         : '#valine-comments',\n",
      "      verify     : false,\n",
      "      notify     : false,\n",
      "      appId      : '2mzgK4R7UytKeOCEoaKsPKTk-gzGzoHsz',\n",
      "      appKey     : 'cHshRKSdGie4NWo3p87a92H7',\n",
      "      placeholder: \"\",\n",
      "      avatar     : 'mm',\n",
      "      meta       : guest,\n",
      "      pageSize   : '10' || 10,\n",
      "      visitor    : false,\n",
      "      lang       : 'zh-cn' || 'zh-cn',\n",
      "      path       : location.pathname,\n",
      "      recordIP   : true,\n",
      "      serverURLs : ''\n",
      "    });\n",
      "  }, window.Valine);\n",
      "});\n",
      "</script>\n",
      "</body>\n",
      "</html>\n",
      "\n"
     ]
    }
   ],
   "source": [
    "# 使用import导入requests模块\n",
    "import requests\n",
    "\n",
    "# 从bs4中导入BeautifulSoup\n",
    "from bs4 import BeautifulSoup\n",
    "\n",
    "# 将URL地址赋值给变量url\n",
    "url = \"https://nocturne-spider.baicizhan.com/2020/08/07/1/\"\n",
    "\n",
    "# 将变量url传入requests.get()，赋值给response\n",
    "response = requests.get(url)\n",
    "\n",
    "# 将服务器响应内容转换为字符串形式，赋值给html\n",
    "html = response.text\n",
    "\n",
    "# 使用BeautifulSoup()读取html，添加lxml解析器，赋值给soup\n",
    "soup = BeautifulSoup(html, \"lxml\")\n",
    "\n",
    "# 使用print输出soup\n",
    "print(soup)"
   ]
  },
  {
   "cell_type": "markdown",
   "id": "66a17aca",
   "metadata": {},
   "source": [
    "# 内容定位"
   ]
  },
  {
   "cell_type": "markdown",
   "id": "17606a38",
   "metadata": {},
   "source": [
    "定位内容所在节点查看提取内容在源代码中的位置：    \n",
    "\n",
    "右键选择`检查`，用鼠标点击右上角的`箭头`，该箭头的功能就是通过鼠标去选择页面上某个元素，定位在代码中的位置。    \n",
    "\n",
    "鼠标滑动到一段台词的位置，显示出高亮。在HTML代码中，显示出代码位置。"
   ]
  },
  {
   "cell_type": "markdown",
   "id": "d19d3f9e",
   "metadata": {},
   "source": [
    "## 查询符合条件的节点"
   ]
  },
  {
   "cell_type": "markdown",
   "id": "f5b1244a",
   "metadata": {},
   "source": [
    "仔细观察一下文本所在的位置，它们是包含在`<em>XXX</em>`这样的节点中，它们都有相同的标签。\n",
    "\n",
    "在这里，我们可以使用 BeautifulSoup 中的 find_all() 函数，获取所有符合指定条件的节点。     \n",
    "\n",
    "em标签的作用是把这段文字用斜体来显示。     \n",
    "\n",
    "BeautifulSoup 中的 find_all() 函数，可以根据标签名，获取soup中的节点。变量 soup 是一个 BeautifulSoup 对象，调用 soup 使用 find_all() 函数就能查找 HTML 中的内容。find_all() 函数可以查询 soup 中所有符合条件的元素，组成一个列表赋值给ps。    \n",
    "\n",
    "find_all(name=\"标签\") 根据标签名查询节点\n",
    "\n",
    "示例代码中，如果我们想要获取 h1 标签所在的节点，可以在 find_all() 中，传入 name 参数，其参数值为 h1 。\n",
    "\n",
    "由于 name 可以省略，我们也可以直接传入参数值。    \n",
    "\n",
    "将返回的结果，赋值给一个变量。输出的结果是包含所有 h1 节点的列表。"
   ]
  },
  {
   "cell_type": "code",
   "execution_count": 4,
   "id": "6b13c6bd",
   "metadata": {},
   "outputs": [
    {
     "name": "stdout",
     "output_type": "stream",
     "text": [
      "[<h1 align=\"center\">我的第一个标题-居中显示</h1>]\n"
     ]
    }
   ],
   "source": [
    "from bs4 import BeautifulSoup\n",
    "html = '''\n",
    "<title>网络爬虫课程</title>\n",
    "<body>\n",
    "    <h1 align=\"center\">我的第一个标题-居中显示</h1>\n",
    "    <h2>我的第二个标题，不居中显示</h2>\n",
    "    <p>我的第一个段落\n",
    "    </p>\n",
    "'''\n",
    "soup = BeautifulSoup(html, \"lxml\")\n",
    "ps = soup.find_all(name = \"h1\")\n",
    "print(ps)"
   ]
  },
  {
   "cell_type": "code",
   "execution_count": 3,
   "id": "bf5468ba",
   "metadata": {},
   "outputs": [
    {
     "name": "stdout",
     "output_type": "stream",
     "text": [
      "[<em>这几天你总是围着我转圈圈。</em>, <em>我好奇地问你在干什么。</em>, <em>你说：“我在环游世界。”</em>]\n"
     ]
    }
   ],
   "source": [
    "# 使用import导入requests模块\n",
    "import requests\n",
    "\n",
    "# 从bs4中导入BeautifulSoup\n",
    "from bs4 import BeautifulSoup\n",
    "\n",
    "# 将URL地址赋值给变量url\n",
    "url = \"https://nocturne-spider.baicizhan.com/2020/08/07/1/\"\n",
    "\n",
    "# 将变量url传入requests.get()，赋值给response\n",
    "response = requests.get(url)\n",
    "\n",
    "# 将服务器响应内容转换为字符串形式，赋值给html\n",
    "html = response.text\n",
    "\n",
    "# 使用BeautifulSoup()读取html，添加lxml解析器，赋值给soup\n",
    "soup = BeautifulSoup(html, \"lxml\")\n",
    "\n",
    "# 使用find_all()查询soup中em的节点，赋值给content_all\n",
    "content_all = soup.find_all(name = \"em\")\n",
    "\n",
    "# 使用print输出content_all\n",
    "print(content_all)"
   ]
  },
  {
   "cell_type": "markdown",
   "id": "f43dd8d4",
   "metadata": {},
   "source": [
    "在HTML代码中，我们可以看到三句台词位置都在 `<em> `标签内。\n",
    "\n",
    "在这里，我们在 find_all() 函数中，传入 name 参数，其参数值为 em 。\n",
    "\n",
    "将返回的由所有 em 节点组成的列表，赋值给变量 content_all。"
   ]
  },
  {
   "cell_type": "markdown",
   "id": "b59f372b",
   "metadata": {},
   "source": [
    "# 总结"
   ]
  },
  {
   "cell_type": "markdown",
   "id": "ae9ef34c",
   "metadata": {},
   "source": [
    "1. 导入 BeautifulSoup ；\n",
    "2. 使用 BeautifulSoup() 函数对相应内容进行解析；\n",
    "3. 使用 find_all() 提取网页节点。     \n",
    "\n",
    "请求网站、分析节点、提取内容"
   ]
  },
  {
   "cell_type": "markdown",
   "id": "8b931311",
   "metadata": {},
   "source": [
    "# 题目"
   ]
  },
  {
   "cell_type": "markdown",
   "id": "acbeda35",
   "metadata": {},
   "source": [
    "## 疯狂原始人     \n",
    "\n",
    "静静学习了今天的课程后，想要学以致用获取“疯狂原始人”这部电影的人物介绍，网页URL地址在下方，要提取的内容在标记的红色框内，这该怎么实现呢？\n",
    "\n",
    "首先需要获取网页的HTML代码；接着使用 BeautifulSoup 解析网页，使用 find_all() 根据标签提取节点内容并输出。\n",
    "\n",
    "网页地址：https://nocturne-spider.baicizhan.com/2020/08/14/2/"
   ]
  },
  {
   "cell_type": "code",
   "execution_count": 5,
   "id": "aa21201b",
   "metadata": {},
   "outputs": [
    {
     "name": "stdout",
     "output_type": "stream",
     "text": [
      "[<em>介绍</em>, <em>瓜哥（Grug Crood）疯狂原始人的领导，充满力量的山洞人，一直尽心尽力保护家族，害怕接触新事物，对小伊亲近阿盖感到担忧及不满。最后收养了一只像猫的老虎。</em>, <em>小伊（Eep Crood）瓜哥与乌嘎的大女儿，对世界充满好奇，对一直都只能住在山洞感到不满，在某一晚偷溜出山洞，结识了阿盖。</em>, <em>阿盖（Guy）可爱的摩登人，失去了家庭。虽然不是很强壮，但是很聪明友善并懂得生火及制作陷阱，偶然遇上偷走出山洞的小伊。养有一只叫“皮带”的树懒做助手。</em>, <em>皮带（Belt）树懒，阿盖的宠物。</em>, <em>乌嘎（Ugga Crood）古鲁的老婆。</em>, <em>坦克（Thunk Crood）瓜哥与乌嘎的二儿子，小伊的弟弟，圆圆的身躯，总是战战竞竞听从父亲的说话。不是很聪明但是心地善良。收养了一只叫“道格拉斯”的鳄鱼狗做宠物。</em>, <em>奶奶（Gran）瓜哥的岳母，乌嘎的母亲。与女婿瓜哥关系不好，经常数落瓜哥。</em>, <em>小珊（Sandy Crood）瓜哥与乌嘎的三女儿，是个野人小孩，不会说话，后学会对父亲瓜哥的第一句话“把拔”。</em>]\n"
     ]
    }
   ],
   "source": [
    "# TODO 使用import导入requests模块\n",
    "\n",
    "import requests\n",
    "# TODO 从bs4中导入BeautifulSoup\n",
    "\n",
    "from bs4 import BeautifulSoup\n",
    "# TODO 将URL地址赋值给变量url\n",
    "url = \"https://nocturne-spider.baicizhan.com/2020/08/14/2/\"\n",
    "\n",
    "# TODO 将变量url传入requests.get()，赋值给response\n",
    "response = requests.get(url)\n",
    "\n",
    "# TODO 将服务器响应内容转换为字符串形式，赋值给html\n",
    "html = response.text\n",
    "\n",
    "# TODO 使用BeautifulSoup()读取html，添加lxml解析器，赋值给soup\n",
    "\n",
    "soup = BeautifulSoup(html, \"lxml\")\n",
    "# TODO 使用find_all()查询soup中em的节点，赋值给content_all\n",
    "content_all = soup.find_all(name = \"em\")\n",
    "\n",
    "# TODO 使用print输出content_all\n",
    "print(content_all)    "
   ]
  }
 ],
 "metadata": {
  "kernelspec": {
   "display_name": "Python 3",
   "language": "python",
   "name": "python3"
  },
  "language_info": {
   "codemirror_mode": {
    "name": "ipython",
    "version": 3
   },
   "file_extension": ".py",
   "mimetype": "text/x-python",
   "name": "python",
   "nbconvert_exporter": "python",
   "pygments_lexer": "ipython3",
   "version": "3.8.8"
  }
 },
 "nbformat": 4,
 "nbformat_minor": 5
}
